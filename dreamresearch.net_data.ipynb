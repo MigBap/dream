{
 "cells": [
  {
   "cell_type": "markdown",
   "metadata": {},
   "source": [
    "### dreambank.net"
   ]
  },
  {
   "cell_type": "markdown",
   "metadata": {},
   "source": [
    "Dreambank - data: http://www.dreambank.net/\n",
    "\n",
    "website com tudo: https://dreams.ucsc.edu/\n",
    "\n",
    "e-mail: dreams@dreamresearch.net  (ver o do William Domhoff) "
   ]
  },
  {
   "cell_type": "code",
   "execution_count": 1,
   "metadata": {},
   "outputs": [],
   "source": [
    "%matplotlib inline\n",
    "import pandas as pd\n",
    "import numpy as np\n",
    "import matplotlib.pyplot as plt\n",
    "import seaborn as sns\n",
    "sns.set()\n",
    "\n",
    "from sklearn.feature_extraction.text import CountVectorizer\n",
    "from sklearn.model_selection import train_test_split\n",
    "from sklearn.naive_bayes import MultinomialNB\n",
    "\n",
    "\n"
   ]
  },
  {
   "cell_type": "markdown",
   "metadata": {},
   "source": [
    "## Inspection, cleaning & EDA"
   ]
  },
  {
   "cell_type": "code",
   "execution_count": 2,
   "metadata": {},
   "outputs": [
    {
     "name": "stdout",
     "output_type": "stream",
     "text": [
      "<class 'pandas.core.frame.DataFrame'>\n",
      "RangeIndex: 125310 entries, 0 to 125309\n",
      "Data columns (total 5 columns):\n",
      "<dreambank>                        1 non-null object\n",
      "individual_collection              120 non-null object\n",
      "id_name_type_sex_age_time_dream    39844 non-null object\n",
      "number_date_report                 60185 non-null object\n",
      "codings                            25160 non-null object\n",
      "dtypes: object(5)\n",
      "memory usage: 4.8+ MB\n"
     ]
    }
   ],
   "source": [
    "dreambank = pd.read_excel('dreambank.xlsx')\n",
    "\n",
    "dreambank.info()"
   ]
  },
  {
   "cell_type": "code",
   "execution_count": 3,
   "metadata": {},
   "outputs": [],
   "source": [
    "# delete unnecessary column\n",
    "del dreambank['<dreambank>']"
   ]
  },
  {
   "cell_type": "code",
   "execution_count": 4,
   "metadata": {},
   "outputs": [
    {
     "data": {
      "text/html": [
       "<div>\n",
       "<style scoped>\n",
       "    .dataframe tbody tr th:only-of-type {\n",
       "        vertical-align: middle;\n",
       "    }\n",
       "\n",
       "    .dataframe tbody tr th {\n",
       "        vertical-align: top;\n",
       "    }\n",
       "\n",
       "    .dataframe thead th {\n",
       "        text-align: right;\n",
       "    }\n",
       "</style>\n",
       "<table border=\"1\" class=\"dataframe\">\n",
       "  <thead>\n",
       "    <tr style=\"text-align: right;\">\n",
       "      <th></th>\n",
       "      <th>individual_collection</th>\n",
       "      <th>id_name_type_sex_age_time_dream</th>\n",
       "      <th>number_date_report</th>\n",
       "      <th>codings</th>\n",
       "    </tr>\n",
       "  </thead>\n",
       "  <tbody>\n",
       "    <tr>\n",
       "      <th>0</th>\n",
       "      <td>&lt;collection&gt;</td>\n",
       "      <td>NaN</td>\n",
       "      <td>NaN</td>\n",
       "      <td>NaN</td>\n",
       "    </tr>\n",
       "    <tr>\n",
       "      <th>1</th>\n",
       "      <td>NaN</td>\n",
       "      <td>&lt;id&gt;alta&lt;/id&gt;</td>\n",
       "      <td>NaN</td>\n",
       "      <td>NaN</td>\n",
       "    </tr>\n",
       "    <tr>\n",
       "      <th>2</th>\n",
       "      <td>NaN</td>\n",
       "      <td>&lt;name&gt;Alta: a detailed dreamer&lt;/name&gt;</td>\n",
       "      <td>NaN</td>\n",
       "      <td>NaN</td>\n",
       "    </tr>\n",
       "    <tr>\n",
       "      <th>3</th>\n",
       "      <td>NaN</td>\n",
       "      <td>&lt;type&gt;series&lt;/type&gt;</td>\n",
       "      <td>NaN</td>\n",
       "      <td>NaN</td>\n",
       "    </tr>\n",
       "    <tr>\n",
       "      <th>4</th>\n",
       "      <td>NaN</td>\n",
       "      <td>&lt;sex&gt;F&lt;/sex&gt;</td>\n",
       "      <td>NaN</td>\n",
       "      <td>NaN</td>\n",
       "    </tr>\n",
       "    <tr>\n",
       "      <th>5</th>\n",
       "      <td>NaN</td>\n",
       "      <td>&lt;age&gt;A&lt;/age&gt;</td>\n",
       "      <td>NaN</td>\n",
       "      <td>NaN</td>\n",
       "    </tr>\n",
       "    <tr>\n",
       "      <th>6</th>\n",
       "      <td>NaN</td>\n",
       "      <td>&lt;time&gt;1985-1997&lt;/time&gt;</td>\n",
       "      <td>NaN</td>\n",
       "      <td>NaN</td>\n",
       "    </tr>\n",
       "    <tr>\n",
       "      <th>7</th>\n",
       "      <td>NaN</td>\n",
       "      <td>&lt;dream&gt;</td>\n",
       "      <td>NaN</td>\n",
       "      <td>NaN</td>\n",
       "    </tr>\n",
       "    <tr>\n",
       "      <th>8</th>\n",
       "      <td>NaN</td>\n",
       "      <td>NaN</td>\n",
       "      <td>&lt;number&gt;1&lt;/number&gt;</td>\n",
       "      <td>NaN</td>\n",
       "    </tr>\n",
       "    <tr>\n",
       "      <th>9</th>\n",
       "      <td>NaN</td>\n",
       "      <td>NaN</td>\n",
       "      <td>&lt;date&gt;1957&lt;/date&gt;</td>\n",
       "      <td>NaN</td>\n",
       "    </tr>\n",
       "    <tr>\n",
       "      <th>10</th>\n",
       "      <td>NaN</td>\n",
       "      <td>NaN</td>\n",
       "      <td>&lt;report&gt;&lt;![CDATA[The one at the Meads's house,...</td>\n",
       "      <td>NaN</td>\n",
       "    </tr>\n",
       "    <tr>\n",
       "      <th>11</th>\n",
       "      <td>NaN</td>\n",
       "      <td>&lt;/dream&gt;</td>\n",
       "      <td>NaN</td>\n",
       "      <td>NaN</td>\n",
       "    </tr>\n",
       "  </tbody>\n",
       "</table>\n",
       "</div>"
      ],
      "text/plain": [
       "   individual_collection        id_name_type_sex_age_time_dream  \\\n",
       "0           <collection>                                    NaN   \n",
       "1                    NaN                          <id>alta</id>   \n",
       "2                    NaN  <name>Alta: a detailed dreamer</name>   \n",
       "3                    NaN                    <type>series</type>   \n",
       "4                    NaN                           <sex>F</sex>   \n",
       "5                    NaN                           <age>A</age>   \n",
       "6                    NaN                 <time>1985-1997</time>   \n",
       "7                    NaN                                <dream>   \n",
       "8                    NaN                                    NaN   \n",
       "9                    NaN                                    NaN   \n",
       "10                   NaN                                    NaN   \n",
       "11                   NaN                               </dream>   \n",
       "\n",
       "                                   number_date_report codings  \n",
       "0                                                 NaN     NaN  \n",
       "1                                                 NaN     NaN  \n",
       "2                                                 NaN     NaN  \n",
       "3                                                 NaN     NaN  \n",
       "4                                                 NaN     NaN  \n",
       "5                                                 NaN     NaN  \n",
       "6                                                 NaN     NaN  \n",
       "7                                                 NaN     NaN  \n",
       "8                                  <number>1</number>     NaN  \n",
       "9                                   <date>1957</date>     NaN  \n",
       "10  <report><![CDATA[The one at the Meads's house,...     NaN  \n",
       "11                                                NaN     NaN  "
      ]
     },
     "execution_count": 4,
     "metadata": {},
     "output_type": "execute_result"
    }
   ],
   "source": [
    "# head\n",
    "dreambank.head(12)"
   ]
  },
  {
   "cell_type": "code",
   "execution_count": 5,
   "metadata": {},
   "outputs": [
    {
     "data": {
      "text/plain": [
       "<mod>I+</mod>                              754\n",
       "<obj>AR</obj>                              648\n",
       "<char>1MKA</char>                          574\n",
       "<act><code>M</code><init>D</init></act>    537\n",
       "<obj>TR</obj>                              492\n",
       "<char>1FKA</char>                          486\n",
       "<act><code>P</code><init>D</init></act>    476\n",
       "<act><code>S</code><init>D</init></act>    462\n",
       "<obj>HH</obj>                              459\n",
       "<obj>NA</obj>                              424\n",
       "Name: codings, dtype: int64"
      ]
     },
     "execution_count": 5,
     "metadata": {},
     "output_type": "execute_result"
    }
   ],
   "source": [
    "# dreambank.net codings - ver dps\n",
    "dreambank['codings'].value_counts().head(10)"
   ]
  },
  {
   "cell_type": "code",
   "execution_count": null,
   "metadata": {},
   "outputs": [],
   "source": []
  },
  {
   "cell_type": "code",
   "execution_count": null,
   "metadata": {},
   "outputs": [],
   "source": []
  },
  {
   "cell_type": "code",
   "execution_count": 6,
   "metadata": {},
   "outputs": [
    {
     "data": {
      "text/plain": [
       "</collection>    60\n",
       "<collection>     60\n",
       "Name: individual_collection, dtype: int64"
      ]
     },
     "execution_count": 6,
     "metadata": {},
     "output_type": "execute_result"
    }
   ],
   "source": [
    "# 60 individuals\n",
    "dreambank.individual_collection.value_counts()"
   ]
  },
  {
   "cell_type": "code",
   "execution_count": 7,
   "metadata": {},
   "outputs": [
    {
     "data": {
      "text/plain": [
       "<dream>                               19743\n",
       "</dream>                              19743\n",
       "<type>series</type>                      44\n",
       "<sex>F</sex>                             33\n",
       "<sex>M</sex>                             27\n",
       "<age>Y</age>                             24\n",
       "<age>A</age>                             21\n",
       "<type>set</type>                         16\n",
       "<age>T</age>                              9\n",
       "<age>C</age>                              4\n",
       "<time>1998</time>                         3\n",
       "<time>1996</time>                         3\n",
       "<time>mid-1990s</time>                    3\n",
       "<time>1940s-1950s</time>                  2\n",
       "<time>1996-1997</time>                    2\n",
       "<time>1970</time>                         2\n",
       "<time>1962</time>                         2\n",
       "<time>1963-1965</time>                    2\n",
       "<id>peru-f</id>                           1\n",
       "<name>Melissa: a young girl</name>        1\n",
       "Name: id_name_type_sex_age_time_dream, dtype: int64"
      ]
     },
     "execution_count": 7,
     "metadata": {},
     "output_type": "execute_result"
    }
   ],
   "source": [
    "# 19743 dreams\n",
    "dreambank.id_name_type_sex_age_time_dream.value_counts().head(20)"
   ]
  },
  {
   "cell_type": "code",
   "execution_count": 8,
   "metadata": {},
   "outputs": [
    {
     "data": {
      "text/html": [
       "<div>\n",
       "<style scoped>\n",
       "    .dataframe tbody tr th:only-of-type {\n",
       "        vertical-align: middle;\n",
       "    }\n",
       "\n",
       "    .dataframe tbody tr th {\n",
       "        vertical-align: top;\n",
       "    }\n",
       "\n",
       "    .dataframe thead th {\n",
       "        text-align: right;\n",
       "    }\n",
       "</style>\n",
       "<table border=\"1\" class=\"dataframe\">\n",
       "  <thead>\n",
       "    <tr style=\"text-align: right;\">\n",
       "      <th></th>\n",
       "      <th>individual_collection</th>\n",
       "      <th>id_name_type_sex_age_time_dream</th>\n",
       "      <th>number_date_report</th>\n",
       "      <th>codings</th>\n",
       "    </tr>\n",
       "  </thead>\n",
       "  <tbody>\n",
       "    <tr>\n",
       "      <th>0</th>\n",
       "      <td>&lt;collection&gt;</td>\n",
       "      <td>NaN</td>\n",
       "      <td>NaN</td>\n",
       "      <td>NaN</td>\n",
       "    </tr>\n",
       "    <tr>\n",
       "      <th>1</th>\n",
       "      <td>NaN</td>\n",
       "      <td>&lt;id&gt;alta&lt;/id&gt;</td>\n",
       "      <td>NaN</td>\n",
       "      <td>NaN</td>\n",
       "    </tr>\n",
       "    <tr>\n",
       "      <th>2</th>\n",
       "      <td>NaN</td>\n",
       "      <td>&lt;name&gt;Alta: a detailed dreamer&lt;/name&gt;</td>\n",
       "      <td>NaN</td>\n",
       "      <td>NaN</td>\n",
       "    </tr>\n",
       "    <tr>\n",
       "      <th>3</th>\n",
       "      <td>NaN</td>\n",
       "      <td>&lt;type&gt;series&lt;/type&gt;</td>\n",
       "      <td>NaN</td>\n",
       "      <td>NaN</td>\n",
       "    </tr>\n",
       "    <tr>\n",
       "      <th>4</th>\n",
       "      <td>NaN</td>\n",
       "      <td>&lt;sex&gt;F&lt;/sex&gt;</td>\n",
       "      <td>NaN</td>\n",
       "      <td>NaN</td>\n",
       "    </tr>\n",
       "    <tr>\n",
       "      <th>5</th>\n",
       "      <td>NaN</td>\n",
       "      <td>&lt;age&gt;A&lt;/age&gt;</td>\n",
       "      <td>NaN</td>\n",
       "      <td>NaN</td>\n",
       "    </tr>\n",
       "    <tr>\n",
       "      <th>6</th>\n",
       "      <td>NaN</td>\n",
       "      <td>&lt;time&gt;1985-1997&lt;/time&gt;</td>\n",
       "      <td>NaN</td>\n",
       "      <td>NaN</td>\n",
       "    </tr>\n",
       "    <tr>\n",
       "      <th>7</th>\n",
       "      <td>NaN</td>\n",
       "      <td>&lt;dream&gt;</td>\n",
       "      <td>NaN</td>\n",
       "      <td>NaN</td>\n",
       "    </tr>\n",
       "    <tr>\n",
       "      <th>8</th>\n",
       "      <td>NaN</td>\n",
       "      <td>NaN</td>\n",
       "      <td>&lt;number&gt;1&lt;/number&gt;</td>\n",
       "      <td>NaN</td>\n",
       "    </tr>\n",
       "    <tr>\n",
       "      <th>9</th>\n",
       "      <td>NaN</td>\n",
       "      <td>NaN</td>\n",
       "      <td>&lt;date&gt;1957&lt;/date&gt;</td>\n",
       "      <td>NaN</td>\n",
       "    </tr>\n",
       "    <tr>\n",
       "      <th>10</th>\n",
       "      <td>NaN</td>\n",
       "      <td>NaN</td>\n",
       "      <td>&lt;report&gt;&lt;![CDATA[The one at the Meads's house,...</td>\n",
       "      <td>NaN</td>\n",
       "    </tr>\n",
       "    <tr>\n",
       "      <th>11</th>\n",
       "      <td>NaN</td>\n",
       "      <td>&lt;/dream&gt;</td>\n",
       "      <td>NaN</td>\n",
       "      <td>NaN</td>\n",
       "    </tr>\n",
       "    <tr>\n",
       "      <th>12</th>\n",
       "      <td>NaN</td>\n",
       "      <td>&lt;dream&gt;</td>\n",
       "      <td>NaN</td>\n",
       "      <td>NaN</td>\n",
       "    </tr>\n",
       "    <tr>\n",
       "      <th>13</th>\n",
       "      <td>NaN</td>\n",
       "      <td>NaN</td>\n",
       "      <td>&lt;number&gt;10&lt;/number&gt;</td>\n",
       "      <td>NaN</td>\n",
       "    </tr>\n",
       "    <tr>\n",
       "      <th>14</th>\n",
       "      <td>NaN</td>\n",
       "      <td>NaN</td>\n",
       "      <td>&lt;date&gt;1985?&lt;/date&gt;</td>\n",
       "      <td>NaN</td>\n",
       "    </tr>\n",
       "  </tbody>\n",
       "</table>\n",
       "</div>"
      ],
      "text/plain": [
       "   individual_collection        id_name_type_sex_age_time_dream  \\\n",
       "0           <collection>                                    NaN   \n",
       "1                    NaN                          <id>alta</id>   \n",
       "2                    NaN  <name>Alta: a detailed dreamer</name>   \n",
       "3                    NaN                    <type>series</type>   \n",
       "4                    NaN                           <sex>F</sex>   \n",
       "5                    NaN                           <age>A</age>   \n",
       "6                    NaN                 <time>1985-1997</time>   \n",
       "7                    NaN                                <dream>   \n",
       "8                    NaN                                    NaN   \n",
       "9                    NaN                                    NaN   \n",
       "10                   NaN                                    NaN   \n",
       "11                   NaN                               </dream>   \n",
       "12                   NaN                                <dream>   \n",
       "13                   NaN                                    NaN   \n",
       "14                   NaN                                    NaN   \n",
       "\n",
       "                                   number_date_report codings  \n",
       "0                                                 NaN     NaN  \n",
       "1                                                 NaN     NaN  \n",
       "2                                                 NaN     NaN  \n",
       "3                                                 NaN     NaN  \n",
       "4                                                 NaN     NaN  \n",
       "5                                                 NaN     NaN  \n",
       "6                                                 NaN     NaN  \n",
       "7                                                 NaN     NaN  \n",
       "8                                  <number>1</number>     NaN  \n",
       "9                                   <date>1957</date>     NaN  \n",
       "10  <report><![CDATA[The one at the Meads's house,...     NaN  \n",
       "11                                                NaN     NaN  \n",
       "12                                                NaN     NaN  \n",
       "13                                <number>10</number>     NaN  \n",
       "14                                 <date>1985?</date>     NaN  "
      ]
     },
     "execution_count": 8,
     "metadata": {},
     "output_type": "execute_result"
    }
   ],
   "source": [
    "dreambank.head(15)"
   ]
  },
  {
   "cell_type": "code",
   "execution_count": 9,
   "metadata": {},
   "outputs": [
    {
     "data": {
      "text/plain": [
       "b              18131\n",
       "norms-f        12850\n",
       "norms-m        12156\n",
       "kenneth        10118\n",
       "emma            9161\n",
       "norman          6183\n",
       "b2              5698\n",
       "pegasus         5473\n",
       "dorothea        4507\n",
       "hall_female     3413\n",
       "Name: id, dtype: int64"
      ]
     },
     "execution_count": 9,
     "metadata": {},
     "output_type": "execute_result"
    }
   ],
   "source": [
    "# create 'id' column\n",
    "\n",
    "def recode_id(line): \n",
    "    if type(line) == float:\n",
    "        return np.nan\n",
    "    elif line.startswith(\"<id>\"):\n",
    "        return line[4:-5]\n",
    "    else:\n",
    "        return np.nan\n",
    "\n",
    "dreambank['id'] = dreambank['id_name_type_sex_age_time_dream'].apply(recode_id).fillna(method='ffill')\n",
    "\n",
    "# id's\n",
    "dreambank.id.value_counts().head(10)"
   ]
  },
  {
   "cell_type": "code",
   "execution_count": 10,
   "metadata": {},
   "outputs": [
    {
     "data": {
      "text/plain": [
       "Barb Sanders                    18131\n",
       "Hall/VdC Norms: Female          12850\n",
       "Hall/VdC Norms: Male            12156\n",
       "Kenneth                         10118\n",
       "Emma: 48 years of dreams         9161\n",
       "Norman: a child molester         6183\n",
       "Barb Sanders #2                  5698\n",
       "Pegasus: a factory worker        5473\n",
       "Dorothea: 53 years of dreams     4507\n",
       "College women, late 1940s        3413\n",
       "Name: name, dtype: int64"
      ]
     },
     "execution_count": 10,
     "metadata": {},
     "output_type": "execute_result"
    }
   ],
   "source": [
    "# create 'name' column\n",
    "\n",
    "def recode_name(line): \n",
    "    if type(line) == float:\n",
    "        return np.nan\n",
    "    elif line.startswith(\"<name>\"):\n",
    "        return line[6:-7]\n",
    "    else:\n",
    "        return np.nan\n",
    "\n",
    "dreambank['name'] = dreambank['id_name_type_sex_age_time_dream'].apply(recode_name).fillna(method='ffill')\n",
    "\n",
    "# names\n",
    "dreambank.name.value_counts().head(10)"
   ]
  },
  {
   "cell_type": "code",
   "execution_count": 11,
   "metadata": {},
   "outputs": [
    {
     "data": {
      "text/plain": [
       "series    85616\n",
       "set       39691\n",
       "Name: type, dtype: int64"
      ]
     },
     "execution_count": 11,
     "metadata": {},
     "output_type": "execute_result"
    }
   ],
   "source": [
    "# create 'type' column\n",
    "\n",
    "def recode_type(line): \n",
    "    if type(line) == float:\n",
    "        return np.nan\n",
    "    elif line.startswith(\"<type>\"):\n",
    "        return line[6:-7]\n",
    "    else:\n",
    "        return np.nan\n",
    "\n",
    "dreambank['type'] = dreambank['id_name_type_sex_age_time_dream'].apply(recode_type).fillna(method='ffill')\n",
    "\n",
    "# types\n",
    "dreambank.type.value_counts()"
   ]
  },
  {
   "cell_type": "code",
   "execution_count": 12,
   "metadata": {},
   "outputs": [
    {
     "name": "stdout",
     "output_type": "stream",
     "text": [
      "F    76518\n",
      "M    48788\n",
      "Name: sex, dtype: int64\n"
     ]
    },
    {
     "data": {
      "text/plain": [
       "F    32\n",
       "M    27\n",
       "Name: sex, dtype: int64"
      ]
     },
     "execution_count": 12,
     "metadata": {},
     "output_type": "execute_result"
    }
   ],
   "source": [
    "# create 'sex' column\n",
    "\n",
    "def recode_sex(line): \n",
    "    if type(line) == float:\n",
    "        return np.nan\n",
    "    elif line.startswith(\"<sex>\"):\n",
    "        return line[5:-6]\n",
    "    else:\n",
    "        return np.nan\n",
    "\n",
    "dreambank['sex'] = dreambank['id_name_type_sex_age_time_dream'].apply(recode_sex).fillna(method='ffill')\n",
    "\n",
    "# genders\n",
    "print(dreambank.sex.value_counts())\n",
    "\n",
    "dreambank.drop_duplicates('name').sex.value_counts()"
   ]
  },
  {
   "cell_type": "code",
   "execution_count": 13,
   "metadata": {},
   "outputs": [
    {
     "data": {
      "text/plain": [
       "Y     51958\n",
       "A     45159\n",
       "YA    18131\n",
       "T      7566\n",
       "C      1933\n",
       "TY      558\n",
       "Name: age, dtype: int64"
      ]
     },
     "execution_count": 13,
     "metadata": {},
     "output_type": "execute_result"
    }
   ],
   "source": [
    "# create 'age' column\n",
    "\n",
    "def recode_age(line): \n",
    "    if type(line) == float:\n",
    "        return np.nan\n",
    "    elif line.startswith(\"<age>\"):\n",
    "        return line[5:-6]\n",
    "    else:\n",
    "        return np.nan\n",
    "\n",
    "dreambank['age'] = dreambank['id_name_type_sex_age_time_dream'].apply(recode_age).fillna(method='ffill')\n",
    "\n",
    "# ages\n",
    "dreambank.age.value_counts()"
   ]
  },
  {
   "cell_type": "code",
   "execution_count": 14,
   "metadata": {},
   "outputs": [
    {
     "data": {
      "text/plain": [
       "1940s-1950s    25006\n",
       "1960-1997      18131\n",
       "1996-1998      10118\n",
       "1949-1997       9161\n",
       "1963-1967       6183\n",
       "Name: time, dtype: int64"
      ]
     },
     "execution_count": 14,
     "metadata": {},
     "output_type": "execute_result"
    }
   ],
   "source": [
    "# create 'time' column\n",
    "\n",
    "def recode_time(line): \n",
    "    if type(line) == float:\n",
    "        return np.nan\n",
    "    elif line.startswith(\"<time>\"):\n",
    "        return line[6:-7]\n",
    "    else:\n",
    "        return np.nan\n",
    "\n",
    "dreambank['time'] = dreambank['id_name_type_sex_age_time_dream'].apply(recode_time).fillna(method='ffill')\n",
    "\n",
    "# time\n",
    "dreambank.time.value_counts().head()"
   ]
  },
  {
   "cell_type": "code",
   "execution_count": 15,
   "metadata": {},
   "outputs": [
    {
     "data": {
      "text/plain": [
       "1940-1950     25006\n",
       "1960-1997     18131\n",
       "1996-1998     10118\n",
       "1949-1997      9161\n",
       "1963-1967      6183\n",
       "1997-2001      5698\n",
       "1949-1964      5473\n",
       "1912-1965      4507\n",
       "1946-1950      3413\n",
       "2003-2005      3217\n",
       "1970           3079\n",
       "mid-1990s      2463\n",
       "1963-1965      2241\n",
       "1985-1997      2118\n",
       "1996-1997      1956\n",
       "2001-2003      1748\n",
       "1980-2002      1746\n",
       "1962           1711\n",
       "1999-2000      1583\n",
       "1998           1544\n",
       "2003-2004      1478\n",
       "1939           1178\n",
       "1971           1108\n",
       "1992-1998      1068\n",
       "1996           1014\n",
       "2000-2001       938\n",
       "2004            908\n",
       "1990-1999       838\n",
       "1957-1959       538\n",
       "1968            508\n",
       "1997-2000       498\n",
       "1991-1993       486\n",
       "1998-2000       453\n",
       "2000            443\n",
       "1897-1918       438\n",
       "1940-1998       367\n",
       "2007-2010       323\n",
       "1992-1999       323\n",
       "1997            184\n",
       "1995            178\n",
       "mid-1980s       176\n",
       "2003-2006       173\n",
       "late 1990s      160\n",
       "1997-1999       123\n",
       "1990s           116\n",
       "1948-1949       103\n",
       "1964             88\n",
       "Name: time, dtype: int64"
      ]
     },
     "execution_count": 15,
     "metadata": {},
     "output_type": "execute_result"
    }
   ],
   "source": [
    "# replace '1940s-1950s' with '1940-1950'\n",
    "dreambank['time'] = dreambank['time'].replace('1940s-1950s', '1940-1950')\n",
    "\n",
    "# time\n",
    "dreambank.time.value_counts()"
   ]
  },
  {
   "cell_type": "code",
   "execution_count": 16,
   "metadata": {},
   "outputs": [
    {
     "data": {
      "text/html": [
       "<div>\n",
       "<style scoped>\n",
       "    .dataframe tbody tr th:only-of-type {\n",
       "        vertical-align: middle;\n",
       "    }\n",
       "\n",
       "    .dataframe tbody tr th {\n",
       "        vertical-align: top;\n",
       "    }\n",
       "\n",
       "    .dataframe thead th {\n",
       "        text-align: right;\n",
       "    }\n",
       "</style>\n",
       "<table border=\"1\" class=\"dataframe\">\n",
       "  <thead>\n",
       "    <tr style=\"text-align: right;\">\n",
       "      <th></th>\n",
       "      <th>individual_collection</th>\n",
       "      <th>id_name_type_sex_age_time_dream</th>\n",
       "      <th>number_date_report</th>\n",
       "      <th>codings</th>\n",
       "      <th>id</th>\n",
       "      <th>name</th>\n",
       "      <th>type</th>\n",
       "      <th>sex</th>\n",
       "      <th>age</th>\n",
       "      <th>time</th>\n",
       "    </tr>\n",
       "  </thead>\n",
       "  <tbody>\n",
       "    <tr>\n",
       "      <th>0</th>\n",
       "      <td>&lt;collection&gt;</td>\n",
       "      <td>NaN</td>\n",
       "      <td>NaN</td>\n",
       "      <td>NaN</td>\n",
       "      <td>NaN</td>\n",
       "      <td>NaN</td>\n",
       "      <td>NaN</td>\n",
       "      <td>NaN</td>\n",
       "      <td>NaN</td>\n",
       "      <td>NaN</td>\n",
       "    </tr>\n",
       "    <tr>\n",
       "      <th>1</th>\n",
       "      <td>NaN</td>\n",
       "      <td>&lt;id&gt;alta&lt;/id&gt;</td>\n",
       "      <td>NaN</td>\n",
       "      <td>NaN</td>\n",
       "      <td>alta</td>\n",
       "      <td>NaN</td>\n",
       "      <td>NaN</td>\n",
       "      <td>NaN</td>\n",
       "      <td>NaN</td>\n",
       "      <td>NaN</td>\n",
       "    </tr>\n",
       "    <tr>\n",
       "      <th>2</th>\n",
       "      <td>NaN</td>\n",
       "      <td>&lt;name&gt;Alta: a detailed dreamer&lt;/name&gt;</td>\n",
       "      <td>NaN</td>\n",
       "      <td>NaN</td>\n",
       "      <td>alta</td>\n",
       "      <td>Alta: a detailed dreamer</td>\n",
       "      <td>NaN</td>\n",
       "      <td>NaN</td>\n",
       "      <td>NaN</td>\n",
       "      <td>NaN</td>\n",
       "    </tr>\n",
       "    <tr>\n",
       "      <th>3</th>\n",
       "      <td>NaN</td>\n",
       "      <td>&lt;type&gt;series&lt;/type&gt;</td>\n",
       "      <td>NaN</td>\n",
       "      <td>NaN</td>\n",
       "      <td>alta</td>\n",
       "      <td>Alta: a detailed dreamer</td>\n",
       "      <td>series</td>\n",
       "      <td>NaN</td>\n",
       "      <td>NaN</td>\n",
       "      <td>NaN</td>\n",
       "    </tr>\n",
       "    <tr>\n",
       "      <th>4</th>\n",
       "      <td>NaN</td>\n",
       "      <td>&lt;sex&gt;F&lt;/sex&gt;</td>\n",
       "      <td>NaN</td>\n",
       "      <td>NaN</td>\n",
       "      <td>alta</td>\n",
       "      <td>Alta: a detailed dreamer</td>\n",
       "      <td>series</td>\n",
       "      <td>F</td>\n",
       "      <td>NaN</td>\n",
       "      <td>NaN</td>\n",
       "    </tr>\n",
       "    <tr>\n",
       "      <th>5</th>\n",
       "      <td>NaN</td>\n",
       "      <td>&lt;age&gt;A&lt;/age&gt;</td>\n",
       "      <td>NaN</td>\n",
       "      <td>NaN</td>\n",
       "      <td>alta</td>\n",
       "      <td>Alta: a detailed dreamer</td>\n",
       "      <td>series</td>\n",
       "      <td>F</td>\n",
       "      <td>A</td>\n",
       "      <td>NaN</td>\n",
       "    </tr>\n",
       "    <tr>\n",
       "      <th>6</th>\n",
       "      <td>NaN</td>\n",
       "      <td>&lt;time&gt;1985-1997&lt;/time&gt;</td>\n",
       "      <td>NaN</td>\n",
       "      <td>NaN</td>\n",
       "      <td>alta</td>\n",
       "      <td>Alta: a detailed dreamer</td>\n",
       "      <td>series</td>\n",
       "      <td>F</td>\n",
       "      <td>A</td>\n",
       "      <td>1985-1997</td>\n",
       "    </tr>\n",
       "    <tr>\n",
       "      <th>7</th>\n",
       "      <td>NaN</td>\n",
       "      <td>&lt;dream&gt;</td>\n",
       "      <td>NaN</td>\n",
       "      <td>NaN</td>\n",
       "      <td>alta</td>\n",
       "      <td>Alta: a detailed dreamer</td>\n",
       "      <td>series</td>\n",
       "      <td>F</td>\n",
       "      <td>A</td>\n",
       "      <td>1985-1997</td>\n",
       "    </tr>\n",
       "    <tr>\n",
       "      <th>8</th>\n",
       "      <td>NaN</td>\n",
       "      <td>NaN</td>\n",
       "      <td>&lt;number&gt;1&lt;/number&gt;</td>\n",
       "      <td>NaN</td>\n",
       "      <td>alta</td>\n",
       "      <td>Alta: a detailed dreamer</td>\n",
       "      <td>series</td>\n",
       "      <td>F</td>\n",
       "      <td>A</td>\n",
       "      <td>1985-1997</td>\n",
       "    </tr>\n",
       "    <tr>\n",
       "      <th>9</th>\n",
       "      <td>NaN</td>\n",
       "      <td>NaN</td>\n",
       "      <td>&lt;date&gt;1957&lt;/date&gt;</td>\n",
       "      <td>NaN</td>\n",
       "      <td>alta</td>\n",
       "      <td>Alta: a detailed dreamer</td>\n",
       "      <td>series</td>\n",
       "      <td>F</td>\n",
       "      <td>A</td>\n",
       "      <td>1985-1997</td>\n",
       "    </tr>\n",
       "    <tr>\n",
       "      <th>10</th>\n",
       "      <td>NaN</td>\n",
       "      <td>NaN</td>\n",
       "      <td>&lt;report&gt;&lt;![CDATA[The one at the Meads's house,...</td>\n",
       "      <td>NaN</td>\n",
       "      <td>alta</td>\n",
       "      <td>Alta: a detailed dreamer</td>\n",
       "      <td>series</td>\n",
       "      <td>F</td>\n",
       "      <td>A</td>\n",
       "      <td>1985-1997</td>\n",
       "    </tr>\n",
       "    <tr>\n",
       "      <th>11</th>\n",
       "      <td>NaN</td>\n",
       "      <td>&lt;/dream&gt;</td>\n",
       "      <td>NaN</td>\n",
       "      <td>NaN</td>\n",
       "      <td>alta</td>\n",
       "      <td>Alta: a detailed dreamer</td>\n",
       "      <td>series</td>\n",
       "      <td>F</td>\n",
       "      <td>A</td>\n",
       "      <td>1985-1997</td>\n",
       "    </tr>\n",
       "    <tr>\n",
       "      <th>12</th>\n",
       "      <td>NaN</td>\n",
       "      <td>&lt;dream&gt;</td>\n",
       "      <td>NaN</td>\n",
       "      <td>NaN</td>\n",
       "      <td>alta</td>\n",
       "      <td>Alta: a detailed dreamer</td>\n",
       "      <td>series</td>\n",
       "      <td>F</td>\n",
       "      <td>A</td>\n",
       "      <td>1985-1997</td>\n",
       "    </tr>\n",
       "    <tr>\n",
       "      <th>13</th>\n",
       "      <td>NaN</td>\n",
       "      <td>NaN</td>\n",
       "      <td>&lt;number&gt;10&lt;/number&gt;</td>\n",
       "      <td>NaN</td>\n",
       "      <td>alta</td>\n",
       "      <td>Alta: a detailed dreamer</td>\n",
       "      <td>series</td>\n",
       "      <td>F</td>\n",
       "      <td>A</td>\n",
       "      <td>1985-1997</td>\n",
       "    </tr>\n",
       "    <tr>\n",
       "      <th>14</th>\n",
       "      <td>NaN</td>\n",
       "      <td>NaN</td>\n",
       "      <td>&lt;date&gt;1985?&lt;/date&gt;</td>\n",
       "      <td>NaN</td>\n",
       "      <td>alta</td>\n",
       "      <td>Alta: a detailed dreamer</td>\n",
       "      <td>series</td>\n",
       "      <td>F</td>\n",
       "      <td>A</td>\n",
       "      <td>1985-1997</td>\n",
       "    </tr>\n",
       "  </tbody>\n",
       "</table>\n",
       "</div>"
      ],
      "text/plain": [
       "   individual_collection        id_name_type_sex_age_time_dream  \\\n",
       "0           <collection>                                    NaN   \n",
       "1                    NaN                          <id>alta</id>   \n",
       "2                    NaN  <name>Alta: a detailed dreamer</name>   \n",
       "3                    NaN                    <type>series</type>   \n",
       "4                    NaN                           <sex>F</sex>   \n",
       "5                    NaN                           <age>A</age>   \n",
       "6                    NaN                 <time>1985-1997</time>   \n",
       "7                    NaN                                <dream>   \n",
       "8                    NaN                                    NaN   \n",
       "9                    NaN                                    NaN   \n",
       "10                   NaN                                    NaN   \n",
       "11                   NaN                               </dream>   \n",
       "12                   NaN                                <dream>   \n",
       "13                   NaN                                    NaN   \n",
       "14                   NaN                                    NaN   \n",
       "\n",
       "                                   number_date_report codings    id  \\\n",
       "0                                                 NaN     NaN   NaN   \n",
       "1                                                 NaN     NaN  alta   \n",
       "2                                                 NaN     NaN  alta   \n",
       "3                                                 NaN     NaN  alta   \n",
       "4                                                 NaN     NaN  alta   \n",
       "5                                                 NaN     NaN  alta   \n",
       "6                                                 NaN     NaN  alta   \n",
       "7                                                 NaN     NaN  alta   \n",
       "8                                  <number>1</number>     NaN  alta   \n",
       "9                                   <date>1957</date>     NaN  alta   \n",
       "10  <report><![CDATA[The one at the Meads's house,...     NaN  alta   \n",
       "11                                                NaN     NaN  alta   \n",
       "12                                                NaN     NaN  alta   \n",
       "13                                <number>10</number>     NaN  alta   \n",
       "14                                 <date>1985?</date>     NaN  alta   \n",
       "\n",
       "                        name    type  sex  age       time  \n",
       "0                        NaN     NaN  NaN  NaN        NaN  \n",
       "1                        NaN     NaN  NaN  NaN        NaN  \n",
       "2   Alta: a detailed dreamer     NaN  NaN  NaN        NaN  \n",
       "3   Alta: a detailed dreamer  series  NaN  NaN        NaN  \n",
       "4   Alta: a detailed dreamer  series    F  NaN        NaN  \n",
       "5   Alta: a detailed dreamer  series    F    A        NaN  \n",
       "6   Alta: a detailed dreamer  series    F    A  1985-1997  \n",
       "7   Alta: a detailed dreamer  series    F    A  1985-1997  \n",
       "8   Alta: a detailed dreamer  series    F    A  1985-1997  \n",
       "9   Alta: a detailed dreamer  series    F    A  1985-1997  \n",
       "10  Alta: a detailed dreamer  series    F    A  1985-1997  \n",
       "11  Alta: a detailed dreamer  series    F    A  1985-1997  \n",
       "12  Alta: a detailed dreamer  series    F    A  1985-1997  \n",
       "13  Alta: a detailed dreamer  series    F    A  1985-1997  \n",
       "14  Alta: a detailed dreamer  series    F    A  1985-1997  "
      ]
     },
     "execution_count": 16,
     "metadata": {},
     "output_type": "execute_result"
    }
   ],
   "source": [
    "dreambank.head(15)"
   ]
  },
  {
   "cell_type": "code",
   "execution_count": 17,
   "metadata": {},
   "outputs": [],
   "source": [
    "# create 'dream_number' & 'dream_date' columns\n",
    "\n",
    "# number\n",
    "def recode_number(line): \n",
    "    if type(line) == float:\n",
    "        return np.nan\n",
    "    elif line.startswith(\"<number>\"):\n",
    "        return line[8:-9]\n",
    "    else:\n",
    "        return np.nan\n",
    "    \n",
    "# date\n",
    "def recode_date(line): \n",
    "    if type(line) == float:\n",
    "        return np.nan\n",
    "    elif line.startswith(\"<date>\"):\n",
    "        return line[6:-7]\n",
    "    else:\n",
    "        return np.nan  \n",
    "\n",
    "dreambank['dream_number'] = dreambank['number_date_report'].apply(recode_number).fillna(method='ffill')\n",
    "dreambank['dream_date'] = dreambank['number_date_report'].apply(recode_date).fillna(method='ffill')"
   ]
  },
  {
   "cell_type": "code",
   "execution_count": 18,
   "metadata": {},
   "outputs": [
    {
     "data": {
      "text/plain": [
       "M44-6     4\n",
       "103-21    4\n",
       "F28-5     4\n",
       "101-04    4\n",
       "M40-1     4\n",
       "M24-2     4\n",
       "F11-7     4\n",
       "M31-8     4\n",
       "F25-4     4\n",
       "F23-6     3\n",
       "Name: dream_number, dtype: int64"
      ]
     },
     "execution_count": 18,
     "metadata": {},
     "output_type": "execute_result"
    }
   ],
   "source": [
    "# dream_number\n",
    "dreambank.dream_number.value_counts().head(20)\n",
    "dreambank.dream_number.value_counts().tail(10)"
   ]
  },
  {
   "cell_type": "code",
   "execution_count": 19,
   "metadata": {},
   "outputs": [
    {
     "data": {
      "text/plain": [
       "06/19/66       25029\n",
       "02/06/64        3107\n",
       "10/18/97        3092\n",
       "F, age 16        330\n",
       "8/16/97          232\n",
       "5/9/97           220\n",
       "F, age 17        210\n",
       "10/06/65         207\n",
       "[age 20-21]      193\n",
       "07/25/2000       189\n",
       "Name: dream_date, dtype: int64"
      ]
     },
     "execution_count": 19,
     "metadata": {},
     "output_type": "execute_result"
    }
   ],
   "source": [
    "# dream_date\n",
    "dreambank.dream_date.value_counts().head(10)"
   ]
  },
  {
   "cell_type": "markdown",
   "metadata": {},
   "source": [
    "**Dreams column**"
   ]
  },
  {
   "cell_type": "code",
   "execution_count": 20,
   "metadata": {},
   "outputs": [
    {
     "data": {
      "text/plain": [
       "\"<report><![CDATA[The one at the Meads's house, where it's bigger inside than out; there's a European village just inside, with a cobblestone street and a Pied-Piper sort of man with curly hair, he can do things like juggle - I go up the back stairs [there aren't any in the real house] and then down the other side [since there's a second set, immediately] then down a short empty hallway that turns a corner, where I find a tiny room...a young woman with shoulder-length blonde hair in a pageboy is there, cooking at a stove that almost fills the room...she's nice to me. Now outside, I'm waiting for my aunt to pick me up - she arrives in a little round convertible and we go for a drive, not very far - we cross a little bridge over a creek, then double back and she drops me off at the house again. Inside (?) I sit with a couple of people, playing with a string of blue balloons.]]></report>\""
      ]
     },
     "execution_count": 20,
     "metadata": {},
     "output_type": "execute_result"
    }
   ],
   "source": [
    "# dream example\n",
    "dreambank['number_date_report'][10]"
   ]
  },
  {
   "cell_type": "code",
   "execution_count": 21,
   "metadata": {},
   "outputs": [
    {
     "data": {
      "text/html": [
       "<div>\n",
       "<style scoped>\n",
       "    .dataframe tbody tr th:only-of-type {\n",
       "        vertical-align: middle;\n",
       "    }\n",
       "\n",
       "    .dataframe tbody tr th {\n",
       "        vertical-align: top;\n",
       "    }\n",
       "\n",
       "    .dataframe thead th {\n",
       "        text-align: right;\n",
       "    }\n",
       "</style>\n",
       "<table border=\"1\" class=\"dataframe\">\n",
       "  <thead>\n",
       "    <tr style=\"text-align: right;\">\n",
       "      <th></th>\n",
       "      <th>individual_collection</th>\n",
       "      <th>id_name_type_sex_age_time_dream</th>\n",
       "      <th>number_date_report</th>\n",
       "      <th>codings</th>\n",
       "      <th>id</th>\n",
       "      <th>name</th>\n",
       "      <th>type</th>\n",
       "      <th>sex</th>\n",
       "      <th>age</th>\n",
       "      <th>time</th>\n",
       "      <th>dream_number</th>\n",
       "      <th>dream_date</th>\n",
       "      <th>dream</th>\n",
       "    </tr>\n",
       "  </thead>\n",
       "  <tbody>\n",
       "    <tr>\n",
       "      <th>0</th>\n",
       "      <td>&lt;collection&gt;</td>\n",
       "      <td>NaN</td>\n",
       "      <td>NaN</td>\n",
       "      <td>NaN</td>\n",
       "      <td>NaN</td>\n",
       "      <td>NaN</td>\n",
       "      <td>NaN</td>\n",
       "      <td>NaN</td>\n",
       "      <td>NaN</td>\n",
       "      <td>NaN</td>\n",
       "      <td>NaN</td>\n",
       "      <td>NaN</td>\n",
       "      <td>NaN</td>\n",
       "    </tr>\n",
       "    <tr>\n",
       "      <th>1</th>\n",
       "      <td>NaN</td>\n",
       "      <td>&lt;id&gt;alta&lt;/id&gt;</td>\n",
       "      <td>NaN</td>\n",
       "      <td>NaN</td>\n",
       "      <td>alta</td>\n",
       "      <td>NaN</td>\n",
       "      <td>NaN</td>\n",
       "      <td>NaN</td>\n",
       "      <td>NaN</td>\n",
       "      <td>NaN</td>\n",
       "      <td>NaN</td>\n",
       "      <td>NaN</td>\n",
       "      <td>NaN</td>\n",
       "    </tr>\n",
       "    <tr>\n",
       "      <th>2</th>\n",
       "      <td>NaN</td>\n",
       "      <td>&lt;name&gt;Alta: a detailed dreamer&lt;/name&gt;</td>\n",
       "      <td>NaN</td>\n",
       "      <td>NaN</td>\n",
       "      <td>alta</td>\n",
       "      <td>Alta: a detailed dreamer</td>\n",
       "      <td>NaN</td>\n",
       "      <td>NaN</td>\n",
       "      <td>NaN</td>\n",
       "      <td>NaN</td>\n",
       "      <td>NaN</td>\n",
       "      <td>NaN</td>\n",
       "      <td>NaN</td>\n",
       "    </tr>\n",
       "    <tr>\n",
       "      <th>3</th>\n",
       "      <td>NaN</td>\n",
       "      <td>&lt;type&gt;series&lt;/type&gt;</td>\n",
       "      <td>NaN</td>\n",
       "      <td>NaN</td>\n",
       "      <td>alta</td>\n",
       "      <td>Alta: a detailed dreamer</td>\n",
       "      <td>series</td>\n",
       "      <td>NaN</td>\n",
       "      <td>NaN</td>\n",
       "      <td>NaN</td>\n",
       "      <td>NaN</td>\n",
       "      <td>NaN</td>\n",
       "      <td>NaN</td>\n",
       "    </tr>\n",
       "    <tr>\n",
       "      <th>4</th>\n",
       "      <td>NaN</td>\n",
       "      <td>&lt;sex&gt;F&lt;/sex&gt;</td>\n",
       "      <td>NaN</td>\n",
       "      <td>NaN</td>\n",
       "      <td>alta</td>\n",
       "      <td>Alta: a detailed dreamer</td>\n",
       "      <td>series</td>\n",
       "      <td>F</td>\n",
       "      <td>NaN</td>\n",
       "      <td>NaN</td>\n",
       "      <td>NaN</td>\n",
       "      <td>NaN</td>\n",
       "      <td>NaN</td>\n",
       "    </tr>\n",
       "  </tbody>\n",
       "</table>\n",
       "</div>"
      ],
      "text/plain": [
       "  individual_collection        id_name_type_sex_age_time_dream  \\\n",
       "0          <collection>                                    NaN   \n",
       "1                   NaN                          <id>alta</id>   \n",
       "2                   NaN  <name>Alta: a detailed dreamer</name>   \n",
       "3                   NaN                    <type>series</type>   \n",
       "4                   NaN                           <sex>F</sex>   \n",
       "\n",
       "  number_date_report codings    id                      name    type  sex  \\\n",
       "0                NaN     NaN   NaN                       NaN     NaN  NaN   \n",
       "1                NaN     NaN  alta                       NaN     NaN  NaN   \n",
       "2                NaN     NaN  alta  Alta: a detailed dreamer     NaN  NaN   \n",
       "3                NaN     NaN  alta  Alta: a detailed dreamer  series  NaN   \n",
       "4                NaN     NaN  alta  Alta: a detailed dreamer  series    F   \n",
       "\n",
       "   age time dream_number dream_date dream  \n",
       "0  NaN  NaN          NaN        NaN   NaN  \n",
       "1  NaN  NaN          NaN        NaN   NaN  \n",
       "2  NaN  NaN          NaN        NaN   NaN  \n",
       "3  NaN  NaN          NaN        NaN   NaN  \n",
       "4  NaN  NaN          NaN        NaN   NaN  "
      ]
     },
     "execution_count": 21,
     "metadata": {},
     "output_type": "execute_result"
    }
   ],
   "source": [
    "# create 'dream' column\n",
    "\n",
    "def recode_dream(line): \n",
    "    if type(line) == float:\n",
    "        return np.nan\n",
    "    elif line.startswith(\"<report>\"):\n",
    "        return line[17:-12]\n",
    "    else:\n",
    "        return np.nan\n",
    "\n",
    "dreambank['dream'] = dreambank['number_date_report'].apply(recode_dream)\n",
    "\n",
    "dreambank.head()"
   ]
  },
  {
   "cell_type": "code",
   "execution_count": 22,
   "metadata": {},
   "outputs": [
    {
     "data": {
      "text/html": [
       "<div>\n",
       "<style scoped>\n",
       "    .dataframe tbody tr th:only-of-type {\n",
       "        vertical-align: middle;\n",
       "    }\n",
       "\n",
       "    .dataframe tbody tr th {\n",
       "        vertical-align: top;\n",
       "    }\n",
       "\n",
       "    .dataframe thead th {\n",
       "        text-align: right;\n",
       "    }\n",
       "</style>\n",
       "<table border=\"1\" class=\"dataframe\">\n",
       "  <thead>\n",
       "    <tr style=\"text-align: right;\">\n",
       "      <th></th>\n",
       "      <th>id</th>\n",
       "      <th>name</th>\n",
       "      <th>type</th>\n",
       "      <th>sex</th>\n",
       "      <th>age</th>\n",
       "      <th>time</th>\n",
       "      <th>dream_number</th>\n",
       "      <th>dream_date</th>\n",
       "      <th>dream</th>\n",
       "    </tr>\n",
       "  </thead>\n",
       "  <tbody>\n",
       "    <tr>\n",
       "      <th>0</th>\n",
       "      <td>alta</td>\n",
       "      <td>Alta: a detailed dreamer</td>\n",
       "      <td>series</td>\n",
       "      <td>F</td>\n",
       "      <td>A</td>\n",
       "      <td>1985-1997</td>\n",
       "      <td>1</td>\n",
       "      <td>1957</td>\n",
       "      <td>The one at the Meads's house, where it's bigge...</td>\n",
       "    </tr>\n",
       "    <tr>\n",
       "      <th>1</th>\n",
       "      <td>alta</td>\n",
       "      <td>Alta: a detailed dreamer</td>\n",
       "      <td>series</td>\n",
       "      <td>F</td>\n",
       "      <td>A</td>\n",
       "      <td>1985-1997</td>\n",
       "      <td>10</td>\n",
       "      <td>1985?</td>\n",
       "      <td>I am in some public place, reminds me of the g...</td>\n",
       "    </tr>\n",
       "    <tr>\n",
       "      <th>2</th>\n",
       "      <td>alta</td>\n",
       "      <td>Alta: a detailed dreamer</td>\n",
       "      <td>series</td>\n",
       "      <td>F</td>\n",
       "      <td>A</td>\n",
       "      <td>1985-1997</td>\n",
       "      <td>100</td>\n",
       "      <td>5/30/86</td>\n",
       "      <td>I'm driving a car somewhere, because it's sout...</td>\n",
       "    </tr>\n",
       "    <tr>\n",
       "      <th>3</th>\n",
       "      <td>alta</td>\n",
       "      <td>Alta: a detailed dreamer</td>\n",
       "      <td>series</td>\n",
       "      <td>F</td>\n",
       "      <td>A</td>\n",
       "      <td>1985-1997</td>\n",
       "      <td>101</td>\n",
       "      <td>5/31/86</td>\n",
       "      <td>I'm around a bunch of people working together,...</td>\n",
       "    </tr>\n",
       "    <tr>\n",
       "      <th>4</th>\n",
       "      <td>alta</td>\n",
       "      <td>Alta: a detailed dreamer</td>\n",
       "      <td>series</td>\n",
       "      <td>F</td>\n",
       "      <td>A</td>\n",
       "      <td>1985-1997</td>\n",
       "      <td>102</td>\n",
       "      <td>5/31/86</td>\n",
       "      <td>I'm in a house - I don't think it's mine - the...</td>\n",
       "    </tr>\n",
       "    <tr>\n",
       "      <th>5</th>\n",
       "      <td>alta</td>\n",
       "      <td>Alta: a detailed dreamer</td>\n",
       "      <td>series</td>\n",
       "      <td>F</td>\n",
       "      <td>A</td>\n",
       "      <td>1985-1997</td>\n",
       "      <td>103</td>\n",
       "      <td>6/7/86</td>\n",
       "      <td>I'm out someplace pretty far from home and I w...</td>\n",
       "    </tr>\n",
       "    <tr>\n",
       "      <th>6</th>\n",
       "      <td>alta</td>\n",
       "      <td>Alta: a detailed dreamer</td>\n",
       "      <td>series</td>\n",
       "      <td>F</td>\n",
       "      <td>A</td>\n",
       "      <td>1985-1997</td>\n",
       "      <td>104</td>\n",
       "      <td>6/7/86</td>\n",
       "      <td>I'm on a bus with a couple of guys - one's the...</td>\n",
       "    </tr>\n",
       "    <tr>\n",
       "      <th>7</th>\n",
       "      <td>alta</td>\n",
       "      <td>Alta: a detailed dreamer</td>\n",
       "      <td>series</td>\n",
       "      <td>F</td>\n",
       "      <td>A</td>\n",
       "      <td>1985-1997</td>\n",
       "      <td>105</td>\n",
       "      <td>6/9/86</td>\n",
       "      <td>I live in a little house a bit like Grandmom's...</td>\n",
       "    </tr>\n",
       "    <tr>\n",
       "      <th>8</th>\n",
       "      <td>alta</td>\n",
       "      <td>Alta: a detailed dreamer</td>\n",
       "      <td>series</td>\n",
       "      <td>F</td>\n",
       "      <td>A</td>\n",
       "      <td>1985-1997</td>\n",
       "      <td>106</td>\n",
       "      <td>6/11/86</td>\n",
       "      <td>I'm on a bus, going to the dentist, across an ...</td>\n",
       "    </tr>\n",
       "    <tr>\n",
       "      <th>9</th>\n",
       "      <td>alta</td>\n",
       "      <td>Alta: a detailed dreamer</td>\n",
       "      <td>series</td>\n",
       "      <td>F</td>\n",
       "      <td>A</td>\n",
       "      <td>1985-1997</td>\n",
       "      <td>107</td>\n",
       "      <td>6/15/86</td>\n",
       "      <td>I've just gotten home from school - I live in ...</td>\n",
       "    </tr>\n",
       "    <tr>\n",
       "      <th>10</th>\n",
       "      <td>alta</td>\n",
       "      <td>Alta: a detailed dreamer</td>\n",
       "      <td>series</td>\n",
       "      <td>F</td>\n",
       "      <td>A</td>\n",
       "      <td>1985-1997</td>\n",
       "      <td>108</td>\n",
       "      <td>6/23/86</td>\n",
       "      <td>I'm looking for a boy - I'm my own age, probab...</td>\n",
       "    </tr>\n",
       "    <tr>\n",
       "      <th>11</th>\n",
       "      <td>alta</td>\n",
       "      <td>Alta: a detailed dreamer</td>\n",
       "      <td>series</td>\n",
       "      <td>F</td>\n",
       "      <td>A</td>\n",
       "      <td>1985-1997</td>\n",
       "      <td>109</td>\n",
       "      <td>6/25/86</td>\n",
       "      <td>I'm driving a car, going into town on a road,t...</td>\n",
       "    </tr>\n",
       "    <tr>\n",
       "      <th>12</th>\n",
       "      <td>alta</td>\n",
       "      <td>Alta: a detailed dreamer</td>\n",
       "      <td>series</td>\n",
       "      <td>F</td>\n",
       "      <td>A</td>\n",
       "      <td>1985-1997</td>\n",
       "      <td>11</td>\n",
       "      <td>1985?</td>\n",
       "      <td>At a school - I don't think I actually go to i...</td>\n",
       "    </tr>\n",
       "    <tr>\n",
       "      <th>13</th>\n",
       "      <td>alta</td>\n",
       "      <td>Alta: a detailed dreamer</td>\n",
       "      <td>series</td>\n",
       "      <td>F</td>\n",
       "      <td>A</td>\n",
       "      <td>1985-1997</td>\n",
       "      <td>110</td>\n",
       "      <td>6/27/86</td>\n",
       "      <td>I'm lying in a large upholstered chair; Tom is...</td>\n",
       "    </tr>\n",
       "    <tr>\n",
       "      <th>14</th>\n",
       "      <td>alta</td>\n",
       "      <td>Alta: a detailed dreamer</td>\n",
       "      <td>series</td>\n",
       "      <td>F</td>\n",
       "      <td>A</td>\n",
       "      <td>1985-1997</td>\n",
       "      <td>111</td>\n",
       "      <td>6/30/86</td>\n",
       "      <td>As part of a trip to England, I'm visiting Pet...</td>\n",
       "    </tr>\n",
       "  </tbody>\n",
       "</table>\n",
       "</div>"
      ],
      "text/plain": [
       "      id                      name    type sex age       time dream_number  \\\n",
       "0   alta  Alta: a detailed dreamer  series   F   A  1985-1997            1   \n",
       "1   alta  Alta: a detailed dreamer  series   F   A  1985-1997           10   \n",
       "2   alta  Alta: a detailed dreamer  series   F   A  1985-1997          100   \n",
       "3   alta  Alta: a detailed dreamer  series   F   A  1985-1997          101   \n",
       "4   alta  Alta: a detailed dreamer  series   F   A  1985-1997          102   \n",
       "5   alta  Alta: a detailed dreamer  series   F   A  1985-1997          103   \n",
       "6   alta  Alta: a detailed dreamer  series   F   A  1985-1997          104   \n",
       "7   alta  Alta: a detailed dreamer  series   F   A  1985-1997          105   \n",
       "8   alta  Alta: a detailed dreamer  series   F   A  1985-1997          106   \n",
       "9   alta  Alta: a detailed dreamer  series   F   A  1985-1997          107   \n",
       "10  alta  Alta: a detailed dreamer  series   F   A  1985-1997          108   \n",
       "11  alta  Alta: a detailed dreamer  series   F   A  1985-1997          109   \n",
       "12  alta  Alta: a detailed dreamer  series   F   A  1985-1997           11   \n",
       "13  alta  Alta: a detailed dreamer  series   F   A  1985-1997          110   \n",
       "14  alta  Alta: a detailed dreamer  series   F   A  1985-1997          111   \n",
       "\n",
       "   dream_date                                              dream  \n",
       "0        1957  The one at the Meads's house, where it's bigge...  \n",
       "1       1985?  I am in some public place, reminds me of the g...  \n",
       "2     5/30/86  I'm driving a car somewhere, because it's sout...  \n",
       "3     5/31/86  I'm around a bunch of people working together,...  \n",
       "4     5/31/86  I'm in a house - I don't think it's mine - the...  \n",
       "5      6/7/86  I'm out someplace pretty far from home and I w...  \n",
       "6      6/7/86  I'm on a bus with a couple of guys - one's the...  \n",
       "7      6/9/86  I live in a little house a bit like Grandmom's...  \n",
       "8     6/11/86  I'm on a bus, going to the dentist, across an ...  \n",
       "9     6/15/86  I've just gotten home from school - I live in ...  \n",
       "10    6/23/86  I'm looking for a boy - I'm my own age, probab...  \n",
       "11    6/25/86  I'm driving a car, going into town on a road,t...  \n",
       "12      1985?  At a school - I don't think I actually go to i...  \n",
       "13    6/27/86  I'm lying in a large upholstered chair; Tom is...  \n",
       "14    6/30/86  As part of a trip to England, I'm visiting Pet...  "
      ]
     },
     "execution_count": 22,
     "metadata": {},
     "output_type": "execute_result"
    }
   ],
   "source": [
    "# Select data with dreams df\n",
    "dreams_df = dreambank[dreambank['dream'].notnull()][['id', 'name', 'type', 'sex', 'age', 'time',\n",
    "                                                 'dream_number', 'dream_date', 'dream']].reset_index(drop=True)\n",
    "\n",
    "# ver depois a coluna dos codings (não incluí) --> classificação dos sentimentos feito por eles, dreambank\n",
    "\n",
    "# new df\n",
    "dreams_df.head(15)"
   ]
  },
  {
   "cell_type": "code",
   "execution_count": 23,
   "metadata": {},
   "outputs": [
    {
     "name": "stdout",
     "output_type": "stream",
     "text": [
      "<class 'pandas.core.frame.DataFrame'>\n",
      "RangeIndex: 19431 entries, 0 to 19430\n",
      "Data columns (total 9 columns):\n",
      "id              19431 non-null object\n",
      "name            19431 non-null object\n",
      "type            19431 non-null object\n",
      "sex             19431 non-null object\n",
      "age             19431 non-null object\n",
      "time            19431 non-null object\n",
      "dream_number    19431 non-null object\n",
      "dream_date      19431 non-null object\n",
      "dream           19431 non-null object\n",
      "dtypes: object(9)\n",
      "memory usage: 1.3+ MB\n"
     ]
    }
   ],
   "source": [
    "dreams_df.info()"
   ]
  },
  {
   "cell_type": "code",
   "execution_count": 24,
   "metadata": {},
   "outputs": [
    {
     "data": {
      "image/png": "[encoded data removed]",
      "text/plain": [
       "<Figure size 432x288 with 1 Axes>"
      ]
     },
     "metadata": {
      "needs_background": "light"
     },
     "output_type": "display_data"
    }
   ],
   "source": [
    "# top dreamers\n",
    "\n",
    "# number of dreamers\n",
    "n = 15\n",
    "\n",
    "top_dreamers = dreams_df['name'].value_counts(ascending=True).tail(n)#.plot(kind='barh')\n",
    "\n",
    "dreams_df_index = dreams_df['name'].value_counts().index\n",
    "pos = np.arange(len(top_dreamers))\n",
    "pos_2 = round(top_dreamers/len(dreams_df['dream'])*100, 1)\n",
    "\n",
    "# add the percentages to the side of each bar\n",
    "for p, cidx, td in zip(pos, dreams_df_index, pos_2):\n",
    "    plt.annotate(td, xy=(td+3100, p), va='center')\n",
    "\n",
    "# plot\n",
    "top_dreamers.plot(kind='barh')\n",
    "\n",
    "t = round(np.sum(top_dreamers/len(dreams_df['dream'])*100))   \n",
    "plt.title(\"Top {} dreamers: {}% of the dreams\".format(n, t))\n",
    "plt.xlabel(\"Number of dreams\")\n",
    "plt.ylabel(\"Dreamer 'name'\")\n",
    "plt.subplots_adjust(left=0, bottom=-0.2, right=1.3, top=1, wspace=0, hspace=0)\n",
    "plt.show()"
   ]
  },
  {
   "cell_type": "code",
   "execution_count": 25,
   "metadata": {},
   "outputs": [
    {
     "data": {
      "text/html": [
       "<div>\n",
       "<style scoped>\n",
       "    .dataframe tbody tr th:only-of-type {\n",
       "        vertical-align: middle;\n",
       "    }\n",
       "\n",
       "    .dataframe tbody tr th {\n",
       "        vertical-align: top;\n",
       "    }\n",
       "\n",
       "    .dataframe thead th {\n",
       "        text-align: right;\n",
       "    }\n",
       "</style>\n",
       "<table border=\"1\" class=\"dataframe\">\n",
       "  <thead>\n",
       "    <tr style=\"text-align: right;\">\n",
       "      <th></th>\n",
       "      <th>id</th>\n",
       "      <th>name</th>\n",
       "      <th>type</th>\n",
       "      <th>sex</th>\n",
       "      <th>age</th>\n",
       "      <th>time</th>\n",
       "      <th>dream_number</th>\n",
       "      <th>dream_date</th>\n",
       "      <th>dream</th>\n",
       "    </tr>\n",
       "  </thead>\n",
       "  <tbody>\n",
       "    <tr>\n",
       "      <th>0</th>\n",
       "      <td>alta</td>\n",
       "      <td>Alta: a detailed dreamer</td>\n",
       "      <td>series</td>\n",
       "      <td>F</td>\n",
       "      <td>A</td>\n",
       "      <td>1985-1997</td>\n",
       "      <td>1</td>\n",
       "      <td>1957</td>\n",
       "      <td>The one at the Meads's house, where it's bigge...</td>\n",
       "    </tr>\n",
       "    <tr>\n",
       "      <th>1</th>\n",
       "      <td>alta</td>\n",
       "      <td>Alta: a detailed dreamer</td>\n",
       "      <td>series</td>\n",
       "      <td>F</td>\n",
       "      <td>A</td>\n",
       "      <td>1985-1997</td>\n",
       "      <td>10</td>\n",
       "      <td>1985?</td>\n",
       "      <td>I am in some public place, reminds me of the g...</td>\n",
       "    </tr>\n",
       "    <tr>\n",
       "      <th>2</th>\n",
       "      <td>alta</td>\n",
       "      <td>Alta: a detailed dreamer</td>\n",
       "      <td>series</td>\n",
       "      <td>F</td>\n",
       "      <td>A</td>\n",
       "      <td>1985-1997</td>\n",
       "      <td>100</td>\n",
       "      <td>5/30/86</td>\n",
       "      <td>I'm driving a car somewhere, because it's sout...</td>\n",
       "    </tr>\n",
       "    <tr>\n",
       "      <th>3</th>\n",
       "      <td>alta</td>\n",
       "      <td>Alta: a detailed dreamer</td>\n",
       "      <td>series</td>\n",
       "      <td>F</td>\n",
       "      <td>A</td>\n",
       "      <td>1985-1997</td>\n",
       "      <td>101</td>\n",
       "      <td>5/31/86</td>\n",
       "      <td>I'm around a bunch of people working together,...</td>\n",
       "    </tr>\n",
       "    <tr>\n",
       "      <th>4</th>\n",
       "      <td>alta</td>\n",
       "      <td>Alta: a detailed dreamer</td>\n",
       "      <td>series</td>\n",
       "      <td>F</td>\n",
       "      <td>A</td>\n",
       "      <td>1985-1997</td>\n",
       "      <td>102</td>\n",
       "      <td>5/31/86</td>\n",
       "      <td>I'm in a house - I don't think it's mine - the...</td>\n",
       "    </tr>\n",
       "  </tbody>\n",
       "</table>\n",
       "</div>"
      ],
      "text/plain": [
       "     id                      name    type sex age       time dream_number  \\\n",
       "0  alta  Alta: a detailed dreamer  series   F   A  1985-1997            1   \n",
       "1  alta  Alta: a detailed dreamer  series   F   A  1985-1997           10   \n",
       "2  alta  Alta: a detailed dreamer  series   F   A  1985-1997          100   \n",
       "3  alta  Alta: a detailed dreamer  series   F   A  1985-1997          101   \n",
       "4  alta  Alta: a detailed dreamer  series   F   A  1985-1997          102   \n",
       "\n",
       "  dream_date                                              dream  \n",
       "0       1957  The one at the Meads's house, where it's bigge...  \n",
       "1      1985?  I am in some public place, reminds me of the g...  \n",
       "2    5/30/86  I'm driving a car somewhere, because it's sout...  \n",
       "3    5/31/86  I'm around a bunch of people working together,...  \n",
       "4    5/31/86  I'm in a house - I don't think it's mine - the...  "
      ]
     },
     "execution_count": 25,
     "metadata": {},
     "output_type": "execute_result"
    }
   ],
   "source": [
    "\n",
    "dreams_df.head()\n",
    "\n",
    "\n"
   ]
  },
  {
   "cell_type": "code",
   "execution_count": 26,
   "metadata": {},
   "outputs": [
    {
     "data": {
      "text/plain": [
       "I was working in a printing plant.                                                                                                                                                                                                                                                                                                                                                                                                                                                                                                                                                                                                                                                                                                                                                                                                                                                                                2\n",
       "[\"Falling trees and enclosed rooms.\"] I am in a small square room with no doors or windows. I am trapped. I worry I will die if I'm not found in three days as I have no food or water. I manage to get out, I guess as I am walking down a hall. A man in a wheelchair is there. He is an old high school acquaintance. Now we are walking across a river on a bridge. I look up to my left and see very tall evergreen trees. One of the tops of a tree is falling. It is itself so big it is as big as a full tree. I am concerned it will hit us. I stop and watch, glad to see it fell off to the left on the bank. We continue walking. I am relieved no one was injured. We cross the river. Now I'm in a wheelchair. I put on the brakes. The man, perhaps Mike P., says don't do that. You don't even know what is the correct way to maintain your chair. You don't even know the way it works best.    1\n",
       "I was in a Chinese restaurant and I started to order a great deal of food, and I didn't stop ordering. I ate so much that my stomach hurt. I continued to order and order and I didn't seem to stop eating. The friends whom I took there left me alone there because I was such a gross pig. They didn't like the jokes about Johnny that I was telling.                                                                                                                                                                                                                                                                                                                                                                                                                                                                                                                                                         1\n",
       "I went to hear the Passion Music. There was a strange thing about the concert, every number was to be repeated by the audience unaccompanied and from memory. The results were discordant.... My father drove a nail through his hand.... I sat through a lecture by Doctor H. It must have been very dry for I busied myself in attacking a handsome new desk with a big chisel. When I had cut a hole in it more than a foot square I was overwhelmed with boyish fear and remorse and forthwith woke up.                                                                                                                                                                                                                                                                                                                                                                                                       1\n",
       "Name: dream, dtype: int64"
      ]
     },
     "execution_count": 26,
     "metadata": {},
     "output_type": "execute_result"
    }
   ],
   "source": [
    "# só p ver\n",
    "\n",
    "# dreams_df.dream_date.value_counts()\n",
    "# dreams_df.time.value_counts()\n",
    "dreams_df.dream.value_counts().head(4)   # só 1 sonho repetido"
   ]
  },
  {
   "cell_type": "code",
   "execution_count": 27,
   "metadata": {},
   "outputs": [],
   "source": [
    "# number of dreams in each year\n",
    "\n",
    "range_years_4 = range(1933, 2020)\n",
    "range_years_2 = ['%02d' % t for t in np.arange(0, 100)]\n",
    "\n",
    "# 1933 - 2019\n",
    "four_digits = pd.Series([np.sum(dreams_df.dream_date.str.contains(str(i))) for i in range_years_4], index=range_years_4)\n",
    "\n",
    "# /00 - /99\n",
    "two_digits = pd.Series([np.sum(dreams_df.dream_date.str.endswith('/{}'.format(i))) for i in range_years_2], \n",
    "                       index=range_years_2)\n"
   ]
  },
  {
   "cell_type": "code",
   "execution_count": 28,
   "metadata": {},
   "outputs": [],
   "source": [
    "# 2000 - 2019\n",
    "a = two_digits[:20]\n",
    "b = four_digits[-20:]\n",
    "a.index = b.index\n",
    "c_1 = a.add(b, fill_value=0)\n",
    "\n",
    "# 1933 - 1999\n",
    "d = two_digits[33:]\n",
    "e = four_digits[:-20]\n",
    "d.index = e.index\n",
    "c_2 = d.add(e, fill_value=0)\n",
    "\n",
    "# join c_1 and c_2\n",
    "total_years = c_1.add(c_2, fill_value=0)"
   ]
  },
  {
   "cell_type": "code",
   "execution_count": 29,
   "metadata": {},
   "outputs": [
    {
     "data": {
      "image/png": "[encoded data removed]",
      "text/plain": [
       "<Figure size 432x288 with 1 Axes>"
      ]
     },
     "metadata": {
      "needs_background": "light"
     },
     "output_type": "display_data"
    }
   ],
   "source": [
    "# 1947 - 2005\n",
    "total_years[14:-14].plot(kind='bar')\n",
    "plt.title(\"#dreams per year [1947 - 2005]\")\n",
    "plt.xlabel(\"Year\")\n",
    "plt.xticks(rotation=60)\n",
    "plt.subplots_adjust(left=0, bottom=-0.2, right=2, top=1, wspace=0, hspace=0)\n",
    "plt.show()"
   ]
  },
  {
   "cell_type": "code",
   "execution_count": 30,
   "metadata": {},
   "outputs": [
    {
     "data": {
      "image/png": "[encoded data removed]",
      "text/plain": [
       "<Figure size 432x288 with 1 Axes>"
      ]
     },
     "metadata": {
      "needs_background": "light"
     },
     "output_type": "display_data"
    }
   ],
   "source": [
    "# top number of records/dreams per year\n",
    "\n",
    "# number of records\n",
    "n = 10\n",
    "\n",
    "top_records = total_years.iloc[total_years.nonzero()].sort_values(ascending=True).tail(n)\n",
    "\n",
    "top_records_index = total_years.iloc[total_years.nonzero()].sort_values().index\n",
    "pos = np.arange(len(top_records))\n",
    "pos_2 = round(top_records/len(dreams_df['dream'])*100, 1)\n",
    "\n",
    "# add the percentages to the side of each bar\n",
    "for p, cidx, tr in zip(pos, top_records_index, pos_2):\n",
    "    plt.annotate(tr, xy=(tr+1925, p), va='center')\n",
    "\n",
    "# plot\n",
    "top_records.plot(kind='barh')\n",
    "\n",
    "t = round(np.sum(top_records/len(dreams_df['dream'])*100))   \n",
    "plt.title(\"Top {} years with more dreams: {}% of the dreams\".format(n, t))\n",
    "plt.xlabel(\"Number of dreams\")\n",
    "plt.ylabel(\"Year\")\n",
    "plt.subplots_adjust(left=0, bottom=-0.2, right=1.3, top=1, wspace=0, hspace=0)\n",
    "plt.show()"
   ]
  },
  {
   "cell_type": "code",
   "execution_count": 31,
   "metadata": {},
   "outputs": [],
   "source": [
    "# add dream_year column\n",
    "\n",
    "list_1 = range(1933, 2020)\n",
    "list_2 = ['%02d' % t for t in np.arange(0, 100)]\n",
    "\n",
    "def recode_dream_year(line): \n",
    "    if type(line) == float:\n",
    "        return np.nan\n",
    "    for i in list_1:\n",
    "        if str(i) in line:\n",
    "            return i\n",
    "    for j in list_2:\n",
    "        if line.endswith('/{}'.format(j)) | line.endswith('/{}?'.format(j)):\n",
    "            if j in list_2[0:20]:\n",
    "                return '20'+j\n",
    "            else:\n",
    "                return '19'+j\n",
    "    else:\n",
    "        return np.nan\n",
    "\n",
    "dreams_df['dream_year'] = dreams_df['dream_date'].apply(recode_dream_year)\n",
    "\n",
    "# rearrange the column\n",
    "cols = dreams_df.columns\n",
    "cols = cols[:-2].tolist() + ['dream_year', 'dream']\n",
    "dreams_df = dreams_df[cols]\n",
    "\n",
    "# convert to int\n",
    "dreams_df['dream_year'] = dreams_df['dream_year'].astype(int, errors='ignore')"
   ]
  },
  {
   "cell_type": "code",
   "execution_count": 32,
   "metadata": {},
   "outputs": [
    {
     "data": {
      "image/png": "[encoded data removed]",
      "text/plain": [
       "<Figure size 432x288 with 1 Axes>"
      ]
     },
     "metadata": {
      "needs_background": "light"
     },
     "output_type": "display_data"
    }
   ],
   "source": [
    "# plot the decades\n",
    "\n",
    "# plot\n",
    "dreams_df.groupby(dreams_df.dream_year.astype(float, errors='ignore') // 10 * 10).size().plot(kind='bar', grid=True)\n",
    "\n",
    "plt.title(\"# Dreams per decade\")\n",
    "plt.xlabel(\"Decade\")\n",
    "# plt.xticks(range(1920, 2020, 10))\n",
    "plt.subplots_adjust(left=0, bottom=-0.2, right=1.6, top=1, wspace=0, hspace=0)\n",
    "plt.show()"
   ]
  },
  {
   "cell_type": "code",
   "execution_count": 33,
   "metadata": {},
   "outputs": [
    {
     "data": {
      "text/plain": [
       "F    33\n",
       "M    27\n",
       "Name: sex, dtype: int64"
      ]
     },
     "execution_count": 33,
     "metadata": {},
     "output_type": "execute_result"
    }
   ],
   "source": [
    "# see the distribution by gender\n",
    "d_2 = pd.read_excel('dreambank.xlsx')\n",
    "d_2['sex'] = d_2['id_name_type_sex_age_time_dream'].apply(recode_sex)\n",
    "\n",
    "# distribution by gender\n",
    "d_2.sex.value_counts()"
   ]
  },
  {
   "cell_type": "code",
   "execution_count": 34,
   "metadata": {},
   "outputs": [
    {
     "data": {
      "text/html": [
       "<div>\n",
       "<style scoped>\n",
       "    .dataframe tbody tr th:only-of-type {\n",
       "        vertical-align: middle;\n",
       "    }\n",
       "\n",
       "    .dataframe tbody tr th {\n",
       "        vertical-align: top;\n",
       "    }\n",
       "\n",
       "    .dataframe thead th {\n",
       "        text-align: right;\n",
       "    }\n",
       "</style>\n",
       "<table border=\"1\" class=\"dataframe\">\n",
       "  <thead>\n",
       "    <tr style=\"text-align: right;\">\n",
       "      <th></th>\n",
       "      <th>id</th>\n",
       "      <th>name</th>\n",
       "      <th>type</th>\n",
       "      <th>sex</th>\n",
       "      <th>age</th>\n",
       "      <th>time</th>\n",
       "      <th>dream_number</th>\n",
       "      <th>dream_date</th>\n",
       "      <th>dream_year</th>\n",
       "      <th>dream</th>\n",
       "    </tr>\n",
       "  </thead>\n",
       "  <tbody>\n",
       "    <tr>\n",
       "      <th>0</th>\n",
       "      <td>alta</td>\n",
       "      <td>Alta: a detailed dreamer</td>\n",
       "      <td>series</td>\n",
       "      <td>F</td>\n",
       "      <td>A</td>\n",
       "      <td>1985-1997</td>\n",
       "      <td>1</td>\n",
       "      <td>1957</td>\n",
       "      <td>1957</td>\n",
       "      <td>The one at the Meads's house, where it's bigge...</td>\n",
       "    </tr>\n",
       "    <tr>\n",
       "      <th>1</th>\n",
       "      <td>alta</td>\n",
       "      <td>Alta: a detailed dreamer</td>\n",
       "      <td>series</td>\n",
       "      <td>F</td>\n",
       "      <td>A</td>\n",
       "      <td>1985-1997</td>\n",
       "      <td>10</td>\n",
       "      <td>1985?</td>\n",
       "      <td>1985</td>\n",
       "      <td>I am in some public place, reminds me of the g...</td>\n",
       "    </tr>\n",
       "    <tr>\n",
       "      <th>2</th>\n",
       "      <td>alta</td>\n",
       "      <td>Alta: a detailed dreamer</td>\n",
       "      <td>series</td>\n",
       "      <td>F</td>\n",
       "      <td>A</td>\n",
       "      <td>1985-1997</td>\n",
       "      <td>100</td>\n",
       "      <td>5/30/86</td>\n",
       "      <td>1986</td>\n",
       "      <td>I'm driving a car somewhere, because it's sout...</td>\n",
       "    </tr>\n",
       "    <tr>\n",
       "      <th>3</th>\n",
       "      <td>alta</td>\n",
       "      <td>Alta: a detailed dreamer</td>\n",
       "      <td>series</td>\n",
       "      <td>F</td>\n",
       "      <td>A</td>\n",
       "      <td>1985-1997</td>\n",
       "      <td>101</td>\n",
       "      <td>5/31/86</td>\n",
       "      <td>1986</td>\n",
       "      <td>I'm around a bunch of people working together,...</td>\n",
       "    </tr>\n",
       "    <tr>\n",
       "      <th>4</th>\n",
       "      <td>alta</td>\n",
       "      <td>Alta: a detailed dreamer</td>\n",
       "      <td>series</td>\n",
       "      <td>F</td>\n",
       "      <td>A</td>\n",
       "      <td>1985-1997</td>\n",
       "      <td>102</td>\n",
       "      <td>5/31/86</td>\n",
       "      <td>1986</td>\n",
       "      <td>I'm in a house - I don't think it's mine - the...</td>\n",
       "    </tr>\n",
       "    <tr>\n",
       "      <th>5</th>\n",
       "      <td>alta</td>\n",
       "      <td>Alta: a detailed dreamer</td>\n",
       "      <td>series</td>\n",
       "      <td>F</td>\n",
       "      <td>A</td>\n",
       "      <td>1985-1997</td>\n",
       "      <td>103</td>\n",
       "      <td>6/7/86</td>\n",
       "      <td>1986</td>\n",
       "      <td>I'm out someplace pretty far from home and I w...</td>\n",
       "    </tr>\n",
       "    <tr>\n",
       "      <th>6</th>\n",
       "      <td>alta</td>\n",
       "      <td>Alta: a detailed dreamer</td>\n",
       "      <td>series</td>\n",
       "      <td>F</td>\n",
       "      <td>A</td>\n",
       "      <td>1985-1997</td>\n",
       "      <td>104</td>\n",
       "      <td>6/7/86</td>\n",
       "      <td>1986</td>\n",
       "      <td>I'm on a bus with a couple of guys - one's the...</td>\n",
       "    </tr>\n",
       "    <tr>\n",
       "      <th>7</th>\n",
       "      <td>alta</td>\n",
       "      <td>Alta: a detailed dreamer</td>\n",
       "      <td>series</td>\n",
       "      <td>F</td>\n",
       "      <td>A</td>\n",
       "      <td>1985-1997</td>\n",
       "      <td>105</td>\n",
       "      <td>6/9/86</td>\n",
       "      <td>1986</td>\n",
       "      <td>I live in a little house a bit like Grandmom's...</td>\n",
       "    </tr>\n",
       "    <tr>\n",
       "      <th>8</th>\n",
       "      <td>alta</td>\n",
       "      <td>Alta: a detailed dreamer</td>\n",
       "      <td>series</td>\n",
       "      <td>F</td>\n",
       "      <td>A</td>\n",
       "      <td>1985-1997</td>\n",
       "      <td>106</td>\n",
       "      <td>6/11/86</td>\n",
       "      <td>1986</td>\n",
       "      <td>I'm on a bus, going to the dentist, across an ...</td>\n",
       "    </tr>\n",
       "    <tr>\n",
       "      <th>9</th>\n",
       "      <td>alta</td>\n",
       "      <td>Alta: a detailed dreamer</td>\n",
       "      <td>series</td>\n",
       "      <td>F</td>\n",
       "      <td>A</td>\n",
       "      <td>1985-1997</td>\n",
       "      <td>107</td>\n",
       "      <td>6/15/86</td>\n",
       "      <td>1986</td>\n",
       "      <td>I've just gotten home from school - I live in ...</td>\n",
       "    </tr>\n",
       "  </tbody>\n",
       "</table>\n",
       "</div>"
      ],
      "text/plain": [
       "     id                      name    type sex age       time dream_number  \\\n",
       "0  alta  Alta: a detailed dreamer  series   F   A  1985-1997            1   \n",
       "1  alta  Alta: a detailed dreamer  series   F   A  1985-1997           10   \n",
       "2  alta  Alta: a detailed dreamer  series   F   A  1985-1997          100   \n",
       "3  alta  Alta: a detailed dreamer  series   F   A  1985-1997          101   \n",
       "4  alta  Alta: a detailed dreamer  series   F   A  1985-1997          102   \n",
       "5  alta  Alta: a detailed dreamer  series   F   A  1985-1997          103   \n",
       "6  alta  Alta: a detailed dreamer  series   F   A  1985-1997          104   \n",
       "7  alta  Alta: a detailed dreamer  series   F   A  1985-1997          105   \n",
       "8  alta  Alta: a detailed dreamer  series   F   A  1985-1997          106   \n",
       "9  alta  Alta: a detailed dreamer  series   F   A  1985-1997          107   \n",
       "\n",
       "  dream_date dream_year                                              dream  \n",
       "0       1957       1957  The one at the Meads's house, where it's bigge...  \n",
       "1      1985?       1985  I am in some public place, reminds me of the g...  \n",
       "2    5/30/86       1986  I'm driving a car somewhere, because it's sout...  \n",
       "3    5/31/86       1986  I'm around a bunch of people working together,...  \n",
       "4    5/31/86       1986  I'm in a house - I don't think it's mine - the...  \n",
       "5     6/7/86       1986  I'm out someplace pretty far from home and I w...  \n",
       "6     6/7/86       1986  I'm on a bus with a couple of guys - one's the...  \n",
       "7     6/9/86       1986  I live in a little house a bit like Grandmom's...  \n",
       "8    6/11/86       1986  I'm on a bus, going to the dentist, across an ...  \n",
       "9    6/15/86       1986  I've just gotten home from school - I live in ...  "
      ]
     },
     "execution_count": 34,
     "metadata": {},
     "output_type": "execute_result"
    }
   ],
   "source": [
    "dreams_df.head(10)"
   ]
  },
  {
   "cell_type": "code",
   "execution_count": 35,
   "metadata": {},
   "outputs": [
    {
     "data": {
      "text/plain": [
       "array(['A', 'Y', 'YA', 'C', 'T', 'TY'], dtype=object)"
      ]
     },
     "execution_count": 35,
     "metadata": {},
     "output_type": "execute_result"
    }
   ],
   "source": [
    "dreams_df.age.unique()"
   ]
  },
  {
   "cell_type": "markdown",
   "metadata": {},
   "source": [
    "### NLP - EDA"
   ]
  },
  {
   "cell_type": "code",
   "execution_count": 36,
   "metadata": {},
   "outputs": [
    {
     "data": {
      "image/png": "[encoded data removed]",
      "text/plain": [
       "<Figure size 432x288 with 1 Axes>"
      ]
     },
     "metadata": {
      "needs_background": "light"
     },
     "output_type": "display_data"
    }
   ],
   "source": [
    "# Average number of words per dream - Top dreamers\n",
    "\n",
    "n = 15\n",
    "\n",
    "top_dreamers = dreams_df['id'].value_counts(ascending=False).head(n).index\n",
    "\n",
    "from nltk.tokenize import regexp_tokenize\n",
    "\n",
    "# function for the average number of words in a dream of a dreamer\n",
    "def avg_words_dream(id):\n",
    "    length_dream = []\n",
    "    for i in dreams_df[dreams_df['id'] == id].dream:\n",
    "        length_dream.append(len(regexp_tokenize(i, '\\w+')))\n",
    "    return round(np.mean(length_dream)).astype(np.int)\n",
    "\n",
    "#plot\n",
    "sns.barplot(top_dreamers, [avg_words_dream(i) for i in top_dreamers], color='teal')\n",
    "plt.title(\"Average number of WORDS per dream - Top {} dreamers\".format(n), fontsize=16)\n",
    "plt.xlabel(\"Dreamer id\", fontsize=14)\n",
    "plt.xticks(rotation=45)\n",
    "plt.subplots_adjust(left=0, bottom=-0.2, right=1.5, top=1, wspace=0, hspace=0)\n",
    "plt.show()"
   ]
  },
  {
   "cell_type": "code",
   "execution_count": 37,
   "metadata": {},
   "outputs": [
    {
     "data": {
      "image/png": "[encoded data removed]",
      "text/plain": [
       "<Figure size 432x288 with 1 Axes>"
      ]
     },
     "metadata": {
      "needs_background": "light"
     },
     "output_type": "display_data"
    }
   ],
   "source": [
    "# Average number of sentences per dream - Top dreamers\n",
    "\n",
    "n = 15\n",
    "\n",
    "top_dreamers = dreams_df['id'].value_counts(ascending=False).head(n).index\n",
    "\n",
    "from nltk.tokenize import sent_tokenize\n",
    "\n",
    "# function for the average number of words in a dream of a dreamer\n",
    "def avg_sentences_dream(id):\n",
    "    length_dream = []\n",
    "    for i in dreams_df[dreams_df['id'] == id].dream:\n",
    "        length_dream.append(len(sent_tokenize(i)))\n",
    "    return round(np.mean(length_dream)).astype(np.int)\n",
    "\n",
    "#plot\n",
    "sns.barplot(top_dreamers, [avg_sentences_dream(i) for i in top_dreamers], color='steelblue')\n",
    "plt.title(\"Average number of SENTENCES per dream - Top {} dreamers\".format(n), fontsize=16)\n",
    "plt.xlabel(\"Dreamer id\", fontsize=14)\n",
    "plt.xticks(rotation=45)\n",
    "plt.subplots_adjust(left=0, bottom=-0.2, right=1.5, top=1, wspace=0, hspace=0)\n",
    "plt.show()"
   ]
  },
  {
   "cell_type": "markdown",
   "metadata": {},
   "source": [
    "### Individual best case: Barb Sanders"
   ]
  },
  {
   "cell_type": "code",
   "execution_count": 38,
   "metadata": {},
   "outputs": [
    {
     "data": {
      "image/png": "[encoded data removed]",
      "text/plain": [
       "<Figure size 432x288 with 1 Axes>"
      ]
     },
     "metadata": {
      "needs_background": "light"
     },
     "output_type": "display_data"
    }
   ],
   "source": [
    "dreamer = 'Barb Sanders'\n",
    "\n",
    "# Barb Sanders dataframe\n",
    "b_df = dreams_df[dreams_df['name'] == dreamer]\n",
    "\n",
    "# number of dreams per year (recorded)\n",
    "nr_dreams = b_df['dream_year'].value_counts().sort_index()\n",
    "\n",
    "# nr dreams per year\n",
    "x_0 = nr_dreams.index.astype(np.int)\n",
    "x = []\n",
    "y = np.arange(int(min(nr_dreams.index)), int(max(nr_dreams.index))+1)\n",
    "\n",
    "for i in y:\n",
    "    if i not in x_0:\n",
    "        x.append(0)\n",
    "    else:\n",
    "        x.append(nr_dreams.loc[str(i)])\n",
    "\n",
    "\n",
    "# annotate\n",
    "\n",
    "    \n",
    "# plot\n",
    "sns.barplot(x=nr_dreams.index, y=nr_dreams, color='g')  \n",
    "plt.title(\"{} number of dreams per year\".format(dreamer), fontsize=16)\n",
    "plt.xlabel(\"Year\")\n",
    "plt.ylabel(\"Number of dreams\")\n",
    "plt.xticks(rotation=45)\n",
    "plt.subplots_adjust(left=0, bottom=-0.3, right=2, top=1, wspace=0, hspace=0)\n",
    "plt.show()"
   ]
  },
  {
   "cell_type": "code",
   "execution_count": 77,
   "metadata": {},
   "outputs": [
    {
     "data": {
      "image/png": "[encoded data removed]",
      "text/plain": [
       "<Figure size 432x288 with 1 Axes>"
      ]
     },
     "metadata": {
      "needs_background": "light"
     },
     "output_type": "display_data"
    }
   ],
   "source": [
    "from nltk.tokenize import regexp_tokenize\n",
    "\n",
    "# number of words per dream\n",
    "w_per_dream = [len(regexp_tokenize(i, '\\w+')) for i in b_df.dream]\n",
    "\n",
    "sns.distplot(w_per_dream, kde=False, color='g')\n",
    "plt.title(\"Distribution of words per dream\".format(dreamer), fontsize=16)\n",
    "plt.xlabel(\"Words\")\n",
    "plt.ylabel(\"Frequency\")\n",
    "plt.subplots_adjust(left=0, bottom=-0.3, right=2, top=1, wspace=0, hspace=0)\n",
    "plt.show()"
   ]
  },
  {
   "cell_type": "code",
   "execution_count": 102,
   "metadata": {},
   "outputs": [
    {
     "name": "stdout",
     "output_type": "stream",
     "text": [
      "25 most common words used:\n",
      " [('see', 3639), ('go', 3459), ('get', 2842), ('like', 2793), ('say', 2539), ('says', 2267), ('man', 2188), ('one', 2142), ('back', 1837), ('room', 1646), ('woman', 1595), ('look', 1545), ('feel', 1434), ('around', 1230), ('going', 1216), ('want', 1214), ('house', 993), ('comes', 978), ('think', 942), ('people', 931), ('find', 909), ('know', 854), ('take', 834), ('walk', 833), ('come', 812)] \n",
      "\n"
     ]
    }
   ],
   "source": [
    "# Most used words\n",
    "from collections import Counter\n",
    "from nltk.tokenize import word_tokenize\n",
    "from nltk.corpus import stopwords\n",
    "\n",
    "# words in each dream\n",
    "j = [regexp_tokenize(i, '\\w+') for i in b_df.dream]\n",
    "\n",
    "# all the words in all the dreams \n",
    "all_words = [x for i in j for x in i]\n",
    "\n",
    "# convert to lower case and exclude stopwords\n",
    "all_words = [i.lower() for i in all_words]\n",
    "all_words = [i for i in all_words if i not in stopwords.words('english')]\n",
    "\n",
    "\n",
    "# Count the occurence of words in all dreams\n",
    "counter = Counter(all_words)\n",
    "\n",
    "n = 25\n",
    "\n",
    "# n most common words\n",
    "most_common = counter.most_common(n)\n",
    "print(\"{} most common words used:\\n {}\".format(n, most_common), \"\\n\")\n",
    "\n",
    "# from nltk.stem import WordNetLemmatizer --> tira o plural das palavras\n"
   ]
  },
  {
   "cell_type": "code",
   "execution_count": 101,
   "metadata": {},
   "outputs": [
    {
     "name": "stdout",
     "output_type": "stream",
     "text": [
      "942\n",
      "{'Bill': 0, 'Blake': 1, 'E': 2, 'I': 3, 'Reta': 4, 'about': 5, 'and': 6, 'dream': 7, 'had': 8, 'me': 9, 'neatest': 10, 'the': 11, 'another': 12, 'neat': 13, 'Nate': 14, 'a': 15, 'as': 16, 'back': 17, 'came': 18, 'felt': 19, 'just': 20, 'that': 21, 'to': 22, 'used': 23, '6': 24, 'All': 25, 'BL': 26, 'City': 27, 'For': 28, 'He': 29, 'Jon': 30, 'Oh': 31, 'S': 32, 'Some': 33, 'The': 34, 'Then': 35, 'We': 36, 'When': 37, 'Yes': 38, 'Your': 39, 'again': 40, 'all': 41, 'an': 42, 'arm': 43, 'arms': 44, 'around': 45, 'ask': 46, 'asleep': 47, 'at': 48, 'bent': 49, 'bopped': 50, 'bus': 51, 'coke': 52, 'dancing': 53, 'dear': 54, 'depot': 55, 'did': 56, 'done': 57, 'down': 58, 'dreamed': 59, 'dreams': 60, 'embarrassed': 61, 'fast': 62, 'feet': 63, 'grabbed': 64, 'hair': 65, 'hands': 66, 'he': 67, 'him': 68, 'his': 69, 'home': 70, 'impression': 71, 'in': 72, 'it': 73, 'kids': 74, 'kiss': 75, 'kissed': 76, 'let': 77, 'make': 78, 'mess': 79, 'messed': 80, 'met': 81, 'muscles': 82, 'mustache': 83, 'my': 84, 'night': 85, 'not': 86, 'of': 87, 'on': 88, 'over': 89, 'real': 90, 'restaurant': 91, 'row': 92, 's': 93, 'said': 94, 'sat': 95, 'saw': 96, 'second': 97, 'so': 98, 'tall': 99, 'then': 100, 'these': 101, 'threw': 102, 'trying': 103, 'up': 104, 'was': 105, 'we': 106, 'went': 107, 'were': 108, 'when': 109, 'wishing': 110, 'would': 111, 'Darryl': 112, 'Didn': 113, 'Mitch': 114, 'before': 115, 'both': 116, 'last': 117, 'loved': 118, 't': 119, 'woke': 120, 'Real': 121, 'between': 122, 'but': 123, 'choose': 124, 'funny': 125, 'out': 126, 'psychological': 127, 'sweet': 128, 'won': 129, 'Dali': 130, 'It': 131, 'Salvador': 132, 'Things': 133, 'VW': 134, 'am': 135, 'are': 136, 'balls': 137, 'bombs': 138, 'desert': 139, 'distant': 140, 'fall': 141, 'fire': 142, 'from': 143, 'land': 144, 'landscape': 145, 'like': 146, 'lines': 147, 'melted': 148, 'off': 149, 'parents': 150, 'perspective': 151, 'point': 152, 'proportion': 153, 'sky': 154, 'us': 155, 'where': 156, 'with': 157, 'A': 158, 'agonized': 159, 'agony': 160, 'badly': 161, 'beg': 162, 'comes': 163, 'devil': 164, 'don': 165, 'face': 166, 'faced': 167, 'feel': 168, 'force': 169, 'gets': 170, 'head': 171, 'heat': 172, 'horror': 173, 'hurt': 174, 'inflamed': 175, 'into': 176, 'is': 177, 'more': 178, 'must': 179, 'oven': 180, 'pain': 181, 'persists': 182, 'red': 183, 'redder': 184, 'screams': 185, 'sick': 186, 'stomach': 187, 'stop': 188, 'very': 189, 'want': 190, 'Dovre': 191, 'There': 192, 'afraid': 193, 'be': 194, 'because': 195, 'body': 196, 'bridge': 197, 'certain': 198, 'death': 199, 'dive': 200, 'do': 201, 'dreamt': 202, 'drown': 203, 'drowning': 204, 'feeling': 205, 'her': 206, 'know': 207, 'leaving': 208, 'looking': 209, 'm': 210, 'next': 211, 'raging': 212, 'rain': 213, 'road': 214, 'save': 215, 'standing': 216, 'storm': 217, 'walk': 218, 'water': 219, 'will': 220, 'Another': 221, 'One': 222, 'beautiful': 223, 'beauty': 224, 'boat': 225, 'boiling': 226, 'enjoying': 227, 'going': 228, 'good': 229, 'having': 230, 'huge': 231, 'involved': 232, 'river': 233, 'roiling': 234, 'seem': 235, 'series': 236, 'small': 237, 'think': 238, 'time': 239, 'unafraid': 240, 'waterfall': 241, 'C': 242, 'anything': 243, 'duplex': 244, 'frightening': 245, 'intense': 246, 'moment': 247, 'nap': 248, 'or': 249, 'remember': 250, 'unable': 251, 'who': 252, 'After': 253, 'also': 254, 'aware': 255, 'became': 256, 'bed': 257, 'bedroom': 258, 'celery': 259, 'eyes': 260, 'foot': 261, 'green': 262, 'harm': 263, 'invisible': 264, 'look': 265, 'mean': 266, 'no': 267, 'open': 268, 'paint': 269, 'sleeping': 270, 'spirits': 271, 'telepathically': 272, 'they': 273, 'tried': 274, 'two': 275, 'wake': 276, 'wall': 277, 'while': 278, 'No': 279, 'Sex': 280, 'Warm': 281, 'Woke': 282, 'one': 283, 'there': 284, 'Acid': 285, 'Loud': 286, 'Lydia': 287, 'My': 288, 'Sometimes': 289, 'appears': 290, 'basement': 291, 'big': 292, 'bought': 293, 'child': 294, 'evil': 295, 'factory': 296, 'lately': 297, 'lot': 298, 'owners': 299, 'previous': 300, 'riot': 301, 'she': 302, 'shop': 303, 'sister': 304, 'somewhere': 305, 'started': 306, 'state': 307, 'terrible': 308, 'things': 309, 'yarn': 310, 'Dreams': 311, 'Fur': 312, 'Herman': 313, 'Paulina': 314, 'bank': 315, 'detail': 316, 'diapers': 317, 'hassles': 318, 'kinds': 319, 'loan': 320, 'lots': 321, 'paperwork': 322, 'pay': 323, 'surmount': 324, 'talk': 325, 'understood': 326, 'wanting': 327, 'Dreamt': 328, 'IVs': 329, 'Lots': 330, 'waterfalls': 331, 'Howard': 332, 'become': 333, 'coffin': 334, 'divorcee': 335, 'fault': 336, 'get': 337, 'hadn': 338, 'horrible': 339, 'icky': 340, 'insurance': 341, 'kicked': 342, 'miserable': 343, 'mom': 344, 'myself': 345, 'order': 346, 'rather': 347, 'screamed': 348, 'than': 349, 'waited': 350, 'widow': 351, 'yelled': 352, 'Dwight': 353, 'Last': 354, 'fears': 355, 'gone': 356, 'have': 357, 'many': 358, 're': 359, 'shoot': 360, 'surfacing': 361, 'underground': 362, 'been': 363, 'dreaming': 364, 'this': 365, 've': 366, 'week': 367, 'always': 368, 'by': 369, 'end': 370, 'every': 371, 'starts': 372, 'Shannon': 373, 'almost': 374, 'away': 375, 'nightmares': 376, '5': 377, 'Fade': 378, 'burn': 379, 'chewing': 380, 'decision': 381, 'didn': 382, 'dulcimer': 383, 'fell': 384, 'fiddle': 385, 'grainy': 386, 'gum': 387, 'horrified': 388, 'how': 389, 'important': 390, 'mouth': 391, 'part': 392, 'peeled': 393, 'pointed': 394, 'remaining': 395, 'remarked': 396, 'rotten': 397, 'showing': 398, 'spaces': 399, 'sticky': 400, 'teeth': 401, 'wad': 402, 'warm': 403, 'Don': 404, 'Each': 405, 'Her': 406, 'Now': 407, 'Stop': 408, 'Suddenly': 409, 'aggressive': 410, 'aloof': 411, 'anger': 412, 'angrily': 413, 'angry': 414, 'asked': 415, 'cajole': 416, 'can': 417, 'changed': 418, 'charming': 419, 'comfortable': 420, 'crowd': 421, 'd': 422, 'demands': 423, 'dinner': 424, 'downstairs': 425, 'dressed': 426, 'feelings': 427, 'followed': 428, 'got': 429, 'himself': 430, 'hotel': 431, 'interested': 432, 'large': 433, 'listen': 434, 'nipples': 435, 'penis': 436, 'pinch': 437, 'pinched': 438, 'pleasure': 439, 'pursuit': 440, 'pushed': 441, 'ran': 442, 'scream': 443, 'sexual': 444, 'stranger': 445, 'street': 446, 'together': 447, 'turned': 448, 'vague': 449, 'wandering': 450, 'woman': 451, 'worry': 452, 'wouldn': 453, 'wrap': 454, 'Finally': 455, 'French': 456, 'Ginny': 457, 'How': 458, 'Indian': 459, 'This': 460, 'accompanied': 461, 'advances': 462, 'any': 463, 'assume': 464, 'beach': 465, 'etc': 466, 'fight': 467, 'for': 468, 'freakiest': 469, 'go': 470, 'grassy': 471, 'guilt': 472, 'guy': 473, 'kissing': 474, 'making': 475, 'male': 476, 'men': 477, 'nice': 478, 'pull': 479, 'raft': 480, 'rapids': 481, 'repulsion': 482, 'role': 483, 'suddenly': 484, 'wait': 485, 'enjoyed': 486, 'hugged': 487, 'morning': 488, 'some': 489, 'Dead': 490, 'couldn': 491, 'crazy': 492, 'drill': 493, 'names': 494, 'people': 495, 'sent': 496, 'them': 497, 'Twice': 498, 'apart': 499, 'falling': 500, 'man': 501, 'married': 502, 'physically': 503, 'strange': 504, 'worried': 505, 'ants': 506, 'bag': 507, 'bugs': 508, 'giant': 509, '10': 510, 'disgusted': 511, 'effort': 512, 'ever': 513, 'leave': 514, 'pulled': 515, 'put': 516, 'sickened': 517, 'spent': 518, 'touch': 519, 'wanted': 520, 'years': 521, 'Bad': 522, 'Raul': 523, 'gold': 524, 'mother': 525, 'shots': 526, 'Spock': 527, 'check': 528, 'delicious': 529, 'diary': 530, 'double': 531, 'might': 532, 'spook': 533, 'Funny': 534, 'drooling': 535, 'nightmare': 536, 'Jeremy': 537, 'black': 538, 'horses': 539, 'Dan': 540, 'couch': 541, 'difficulty': 542, 'ecstasy': 543, 'finally': 544, 'getting': 545, 'groaned': 546, 'helped': 547, 'kept': 548, 'leg': 549, 'love': 550, 'mention': 551, 'move': 552, 'right': 553, 'strong': 554, 'succeeded': 555, 'top': 556, 'trapped': 557, 'worked': 558, 'Abner': 559, 'Anger': 560, 'Down': 561, 'In': 562, 'Just': 563, 'Later': 564, 'Passed': 565, 'Said': 566, 'She': 567, 'Snow': 568, 'So': 569, 'Water': 570, 'What': 571, 'alone': 572, 'blanket': 573, 'blue': 574, 'buses': 575, 'car': 576, 'cars': 577, 'clothes': 578, 'cousin': 579, 'deep': 580, 'dosage': 581, 'elsewhere': 582, 'emptied': 583, 'finished': 584, 'floor': 585, 'gave': 586, 'give': 587, 'glazed': 588, 'ground': 589, 'hazy': 590, 'hill': 591, 'house': 592, 'jeep': 593, 'leaks': 594, 'liquid': 595, 'looked': 596, 'louse': 597, 'lovingly': 598, 'missed': 599, 'mock': 600, 'narrowly': 601, 'needle': 602, 'packing': 603, 'parked': 604, 'parking': 605, 'pick': 606, 'possibly': 607, 'pronged': 608, 'roads': 609, 'roof': 610, 'say': 611, 'scene': 612, 'school': 613, 'sees': 614, 'several': 615, 'shot': 616, 'slushy': 617, 'snuck': 618, 'steadily': 619, 'steep': 620, 'straight': 621, 'table': 622, 'tense': 623, 'thought': 624, 'tumbled': 625, 'ugly': 626, 'watched': 627, 'wildly': 628, 'writhed': 629, 'Fearful': 630, 'Off': 631, 'Two': 632, 'Weird': 633, 'allow': 634, 'barely': 635, 'breasts': 636, 'butte': 637, 'catch': 638, 'cliff': 639, 'doctor': 640, 'doctors': 641, 'drop': 642, 'father': 643, 'forever': 644, 'glimpse': 645, 'golden': 646, 'horse': 647, 'long': 648, 'now': 649, 'orgasm': 650, 'peeking': 651, 'pervert': 652, 'pubic': 653, 'riding': 654, 'round': 655, 'safety': 656, 'says': 657, 'see': 658, 'sheet': 659, 'strapped': 660, 'suck': 661, 'survive': 662, 'swim': 663, 'toward': 664, 'under': 665, 'uneasy': 666, '11': 667, 'Alaska': 668, 'Elliot': 669, 'Orson': 670, 'Rosemary': 671, 'brass': 672, 'called': 673, 'cluttering': 674, 'crying': 675, 'each': 676, 'other': 677, 'pregnant': 678, 'shoe': 679, 'size': 680, 'sneakers': 681, 'sounded': 682, 'written': 683, '1': 684, '30': 685, 'Earth': 686, 'Flying': 687, 'awakened': 688, 'de': 689, 'losers': 690, 'phone': 691, 'populating': 692, 'saucers': 693, 'surplus': 694, 'watch': 695, 'Barb': 696, 'Hello': 697, 'His': 698, 'Saul': 699, 'answering': 700, 'machine': 701, 'you': 702, 'Kittens': 703, 'Patsy': 704, 'casts': 705, 'legs': 706, 'month': 707, 'past': 708, 'Aunt': 709, 'Cut': 710, 'Driving': 711, 'Elaine': 712, 'Morton': 713, 'Most': 714, 'Patricia': 715, 'Pete': 716, 'They': 717, 'Traveled': 718, 'Vases': 719, 'You': 720, 'appeared': 721, 'carpeted': 722, 'ceiling': 723, 'ceilings': 724, 'continued': 725, 'cork': 726, 'corner': 727, 'dining': 728, 'drive': 729, 'exclaimed': 730, 'fancy': 731, 'flowers': 732, 'grand': 733, 'headed': 734, 'high': 735, 'husband': 736, 'kitchen': 737, 'knew': 738, 'ledge': 739, 'light': 740, 'luxurious': 741, 'most': 742, 'offs': 743, 'old': 744, 'passing': 745, 'piano': 746, 'proof': 747, 'rich': 748, 'room': 749, 'should': 750, 'sound': 751, 'spacious': 752, 'sun': 753, 'tones': 754, 'totally': 755, 'town': 756, 'turn': 757, 'walls': 758, 'way': 759, 'white': 760, 'window': 761, 'yellow': 762, 'Ah': 763, 'Bic': 764, 'Feelings': 765, 'Millions': 766, 'baby': 767, 'crowded': 768, 'desk': 769, 'filled': 770, 'hers': 771, 'intruding': 772, 'junk': 773, 'messy': 774, 'pens': 775, 'run': 776, 'unpacked': 777, 'Again': 778, 'OK': 779, 'being': 780, 'butterscotch': 781, 'decorated': 782, 'drugged': 783, 'eating': 784, 'fresh': 785, 'has': 786, 'leaves': 787, 'occurs': 788, 'original': 789, 'poisoned': 790, 'pursued': 791, 'richly': 792, 'rolls': 793, 'suspicious': 794, 'sweets': 795, 'vaguely': 796, 'Barry': 797, 'Lynn': 798, 'annoyed': 799, 'apologized': 800, 'bags': 801, 'boiled': 802, 'broke': 803, 'candy': 804, 'coffee': 805, 'colored': 806, 'correctly': 807, 'cup': 808, 'little': 809, 'made': 810, 'mistake': 811, 'pure': 812, 'tea': 813, 'thick': 814, 'took': 815, 'type': 816, 'visiting': 817, 'win': 818, 'across': 819, 'competition': 820, 'distance': 821, 'measure': 822, 'pool': 823, 'powerful': 824, 'rip': 825, 'slide': 826, 'swimming': 827, 'tile': 828, 'Negroes': 829, 'engine': 830, 'even': 831, 'everyone': 832, 'freight': 833, 'hid': 834, 'onto': 835, 'pile': 836, 'plain': 837, 'rug': 838, 'ship': 839, 'slaves': 840, 'sneaking': 841, 'though': 842, 'view': 843, 'Fish': 844, 'Ugh': 845, 'adjoining': 846, 'adjust': 847, 'bathroom': 848, 'boil': 849, 'box': 850, 'boxes': 851, 'brace': 852, 'cakes': 853, 'cellophane': 854, 'clean': 855, 'clutched': 856, 'could': 857, 'crooked': 858, 'cupboard': 859, 'cut': 860, 'date': 861, 'door': 862, 'eat': 863, 'effective': 864, 'find': 865, 'fix': 866, 'football': 867, 'found': 868, 'frosted': 869, 'help': 870, 'hero': 871, 'holes': 872, 'layer': 873, 'lumpy': 874, 'macaroni': 875, 'mis': 876, 'napping': 877, 'offered': 878, 'pan': 879, 'planned': 880, 'robe': 881, 'shapened': 882, 'something': 883, 'sophomore': 884, 'spoon': 885, 'stacks': 886, 'stepping': 887, 'stewed': 888, 'stirred': 889, 'those': 890, 'tomatoes': 891, 'use': 892, 'visit': 893, 'walked': 894, 'walking': 895, 'what': 896, 'young': 897, '1st': 898, '4th': 899, 'Charlotte': 900, 'Dale': 901, 'Jolene': 902, 'Lisa': 903, 'Philip': 904, 'Uncle': 905, 'after': 906, 'agreed': 907, 'apologetic': 908, 'asking': 909, 'behalf': 910, 'behind': 911, 'beside': 912, 'birth': 913, 'bleeding': 914, 'born': 915, 'carry': 916, 'cheated': 917, 'circles': 918, 'cloth': 919, 'coming': 920, 'confessed': 921, 'cried': 922, 'determined': 923, 'dizzy': 924, 'draped': 925, 'dress': 926, 'easier': 927, 'exhausted': 928, 'family': 929, 'frightened': 930, 'fuss': 931, 'given': 932, 'giving': 933, 'gym': 934, 'if': 935, 'intervene': 936, 'job': 937, 'knowing': 938, 'lap': 939, 'laughed': 940, 'lay': 941, 'least': 942, 'leather': 943, 'letter': 944, 'matter': 945, 'months': 946, 'new': 947, 'noted': 948, 'nothing': 949, 'nurse': 950, 'only': 951, 'opposite': 952, 'own': 953, 'paten': 954, 'placed': 955, 'plop': 956, 'preparations': 957, 'really': 958, 'repeated': 959, 'resemblances': 960, 'rushed': 961, 'shoes': 962, 'shouldn': 963, 'silly': 964, 'sitting': 965, 'smile': 966, 'speed': 967, 'start': 968, 'stood': 969, 'taunting': 970, 'tell': 971, 'telling': 972, 'whole': 973, 'wide': 974, 'wretched': 975, 'year': 976, '00': 977, '8': 978, 'M': 979, 'That': 980, 'Well': 981, 'Wow': 982, 'agrees': 983, 'arthritis': 984, 'bad': 985, 'burning': 986, 'causes': 987, 'cures': 988, 'curing': 989, 'difficulties': 990, 'discoveries': 991, 'discovery': 992, 'discussion': 993, 'does': 994, 'early': 995, 'enthusiasm': 996, 'full': 997, 'incredulous': 998, 'latex': 999, 'life': 1000, 'living': 1001, 'meeting': 1002, 'mine': 1003, 'oil': 1004, 'painting': 1005, 'panel': 1006, 'same': 1007, 'somehow': 1008, 'sometimes': 1009, 'thing': 1010, 'throat': 1011, 'Sebastian': 1012, 'Warmth': 1013, 'affectionate': 1014, 'animals': 1015, 'arrive': 1016, 'building': 1017, 'care': 1018, 'cute': 1019, 'dog': 1020, 'expected': 1021, 'happy': 1022, 'kind': 1023, 'mountains': 1024, 'our': 1025, 'perhaps': 1026, 'pig': 1027, 'reunion': 1028, 'store': 1029, 'take': 1030, 'taken': 1031, 'well': 1032, 'wife': 1033, 'Hundreds': 1034, 'Something': 1035, 'amazed': 1036, 'cat': 1037, 'characteristics': 1038, 'exactly': 1039, 'female': 1040, 'genetic': 1041, 'kittens': 1042, 'litter': 1043, 'mates': 1044, 'mutations': 1045, 'offspring': 1046, 'rabbit': 1047, 'teats': 1048, 'As': 1049, 'Someone': 1050, 'alive': 1051, 'dying': 1052, 'falls': 1053, 'forcing': 1054, 'jumps': 1055, 'k': 1056, 'ke': 1057, 'keeps': 1058, 'killed': 1059, 'lays': 1060, 'name': 1061, 'person': 1062, 'repeats': 1063, 'stay': 1064, '70': 1065, 'Amort': 1066, 'During': 1067, 'Lacy': 1068, 'Nancy': 1069, 'Racks': 1070, 'air': 1071, 'butterfly': 1072, 'buy': 1073, 'clothing': 1074, 'cold': 1075, 'court': 1076, 'dresses': 1077, 'fat': 1078, 'games': 1079, 'halted': 1080, 'hang': 1081, 'interrupts': 1082, 'involves': 1083, 'judge': 1084, 'juror': 1085, 'jury': 1086, 'keeping': 1087, 'lacy': 1088, 'less': 1089, 'mental': 1090, 'named': 1091, 'painted': 1092, 'peanut': 1093, 'pet': 1094, 'playing': 1095, 'print': 1096, 'proceedings': 1097, 'retard': 1098, 'score': 1099, 'skirt': 1100, 'sleeves': 1101, 'someone': 1102, 'story': 1103, 'suffocate': 1104, 'swallowed': 1105, 'trial': 1106, 'unfolded': 1107, 'wants': 1108, 'Apparently': 1109, 'Ford': 1110, 'Vietnam': 1111, 'addressed': 1112, 'army': 1113, 'blonde': 1114, 'figure': 1115, 'frozen': 1116, 'happened': 1117, 'letters': 1118, 'package': 1119, 'pair': 1120, 'reading': 1121, 'received': 1122, 'send': 1123, 'transplanted': 1124, 'come': 1125, 'freedom': 1126, 'sad': 1127, 'cleaning': 1128, 'explain': 1129, 'inducted': 1130, 'lawn': 1131, 'lieutenant': 1132, 'march': 1133, 'marched': 1134, 'motel': 1135, 'ordered': 1136, 'persons': 1137, 'play': 1138, 'private': 1139, 'read': 1140, 'seriously': 1141, 'shape': 1142, 'watching': 1143, 'why': 1144, 'An': 1145, 'Charisma': 1146, 'Charlie': 1147, 'Dark': 1148, 'Icy': 1149, 'blocks': 1150, 'brake': 1151, 'careful': 1152, 'chocolate': 1153, 'driving': 1154, 'fellow': 1155, 'gently': 1156, 'hot': 1157, 'ignores': 1158, 'main': 1159, 'older': 1160, 'omelet': 1161, 'place': 1162, 'streets': 1163, 'tables': 1164, 'toast': 1165, 'woods': 1166, 'B': 1167, 'German': 1168, 'Lord': 1169, 'Math': 1170, 'Take': 1171, 'boy': 1172, 'cabinet': 1173, 'card': 1174, 'cards': 1175, 'carnation': 1176, 'class': 1177, 'classes': 1178, 'coarse': 1179, 'columns': 1180, 'count': 1181, 'day': 1182, 'doing': 1183, 'fear': 1184, 'figured': 1185, 'filing': 1186, 'flunk': 1187, 'forgot': 1188, 'form': 1189, 'formal': 1190, 'grotesque': 1191, 'intro': 1192, 'late': 1193, 'll': 1194, 'math': 1195, 'numbers': 1196, 'overcoat': 1197, 'perched': 1198, 'reddish': 1199, 'register': 1200, 'scrunched': 1201, 'signed': 1202, 'snaky': 1203, 'striped': 1204, 'suit': 1205, 'sure': 1206, 'tail': 1207, 'term': 1208, 'through': 1209, 'tie': 1210, 'waking': 1211, 'wasn': 1212, 'write': 1213, '1950': 1214, 'Crystal': 1215, 'Dollar': 1216, 'Ha': 1217, 'Help': 1218, 'Kid': 1219, 'Million': 1220, 'Three': 1221, 'XXX': 1222, 'Xmas': 1223, 'billowed': 1224, 'book': 1225, 'capable': 1226, 'certainly': 1227, 'classroom': 1228, 'concerts': 1229, 'disappeared': 1230, 'doors': 1231, 'editor': 1232, 'engraved': 1233, 'enough': 1234, 'further': 1235, 'girl': 1236, 'glad': 1237, 'groups': 1238, 'hall': 1239, 'halls': 1240, 'handle': 1241, 'hear': 1242, 'hired': 1243, 'hold': 1244, 'ideas': 1245, 'kindly': 1246, 'limp': 1247, 'lists': 1248, 'office': 1249, 'partially': 1250, 'picked': 1251, 'pretty': 1252, 'probably': 1253, 'push': 1254, 'rock': 1255, 'showed': 1256, 'soothed': 1257, 'strength': 1258, 'strolled': 1259, 'swirled': 1260, 'teach': 1261, 'teaching': 1262, 'themes': 1263, 'times': 1264, 'told': 1265, 'wearing': 1266, 'Kids': 1267, 'books': 1268, 'dig': 1269, 'gentle': 1270, 'kisses': 1271, 'neck': 1272, 'pickup': 1273, 'props': 1274, 'residue': 1275, 'sensual': 1276, 'sexy': 1277, 'softly': 1278, 'still': 1279, 'yet': 1280, '4': 1281, 'Arthur': 1282, 'Bette': 1283, 'Bob': 1284, 'England': 1285, 'Here': 1286, 'Midler': 1287, 'Minister': 1288, 'Prime': 1289, 'Roman': 1290, 'Ya': 1291, 'approve': 1292, 'asks': 1293, 'audacity': 1294, 'belt': 1295, 'bench': 1296, 'business': 1297, 'ceramic': 1298, 'coast': 1299, 'country': 1300, 'dance': 1301, 'dances': 1302, 'decides': 1303, 'delight': 1304, 'diplomats': 1305, 'doesn': 1306, 'ear': 1307, 'entertainers': 1308, 'f': 1309, 'facing': 1310, 'finger': 1311, 'follows': 1312, 'gesture': 1313, 'grabs': 1314, 'group': 1315, 'guard': 1316, 'h': 1317, 'hand': 1318, 'laughs': 1319, 'likes': 1320, 'loops': 1321, 'losing': 1322, 'lying': 1323, 'marked': 1324, 'massage': 1325, 'member': 1326, 'minding': 1327, 'minuet': 1328, 'moves': 1329, 'native': 1330, 'platform': 1331, 'practice': 1332, 'puppy': 1333, 'puts': 1334, 'slave': 1335, 'steps': 1336, 'stone': 1337, 'strip': 1338, 'subtlety': 1339, 'subtly': 1340, 'talking': 1341, 'tease': 1342, 'thong': 1343, 'toga': 1344, 'token': 1345, 'try': 1346, 'underfoot': 1347, 'upset': 1348, 'warning': 1349, 'wears': 1350, '3': 1351, 'Indians': 1352, 'Model': 1353, 'T': 1354, 'attack': 1355, 'bossy': 1356, 'flat': 1357, 'gas': 1358, 'gown': 1359, 'hide': 1360, 'orange': 1361, 'ribbon': 1362, 'ribbons': 1363, 'side': 1364, 'supposed': 1365, 'their': 1366, 'tire': 1367, 'too': 1368, 'women': 1369, 'wore': 1370, 'Betsy': 1371, 'Moved': 1372, 'Trying': 1373, 'dark': 1374, 'food': 1375, 'grocery': 1376, 'money': 1377, 'need': 1378, 'nervous': 1379, 'noodles': 1380, 'note': 1381, 'relieved': 1382, 'spilled': 1383, 'trunk': 1384, '2': 1385, '52': 1386, '9': 1387, 'Come': 1388, 'If': 1389, 'advised': 1390, 'alter': 1391, 'anyone': 1392, 'brought': 1393, 'chaplain': 1394, 'choppy': 1395, 'clear': 1396, 'condemned': 1397, 'confusingly': 1398, 'deliberate': 1399, 'direct': 1400, 'ego': 1401, 'enormity': 1402, 'executed': 1403, 'execution': 1404, 'fill': 1405, 'flew': 1406, 'friend': 1407, 'friends': 1408, 'helicopter': 1409, 'hospital': 1410, 'incredible': 1411, 'informed': 1412, 'injustice': 1413, 'lady': 1414, 'lake': 1415, 'muddy': 1416, 'paralyzed': 1417, 'protest': 1418, 'roommates': 1419, 'sort': 1420, 'speak': 1421, 'special': 1422, 'stayed': 1423, 'summer': 1424, 'takes': 1425, 'til': 1426, 'work': 1427, 'Dynamite': 1428, 'Vibrant': 1429, 'colorful': 1430, 'colors': 1431, 'controls': 1432, 'craft': 1433, 'craziest': 1434, 'keyboard': 1435, 'music': 1436, 'organ': 1437, 'piloting': 1438, 'played': 1439, 'purples': 1440, 'reds': 1441, 'sounds': 1442, 'space': 1443, '3rd': 1444, 'Strange': 1445, 'bright': 1446, 'dozen': 1447, 'drawer': 1448, 'fuzzy': 1449, 'moved': 1450, 'nest': 1451, 'playful': 1452, 'rest': 1453, 'symbolize': 1454, 'Running': 1455, 'Spaceships': 1456, 'oxygen': 1457, 'plant': 1458, 'saved': 1459, 'Ac': 1460, 'Coast': 1461, 'Jamie': 1462, 'Marty': 1463, 'Peyote': 1464, 'State': 1465, 'X': 1466, 'Y': 1467, 'appropriate': 1468, 'complex': 1469, 'deeper': 1470, 'first': 1471, 'fit': 1472, 'plane': 1473, 'saying': 1474, 'seemed': 1475, 'train': 1476, 'traveling': 1477, 'CP': 1478, 'Cripples': 1479, 'Curly': 1480, 'Handicapped': 1481, 'Home': 1482, 'MR': 1483, 'More': 1484, 'Nigel': 1485, 'University': 1486, 'administrator': 1487, 'busy': 1488, 'carried': 1489, 'carriers': 1490, 'chair': 1491, 'chosen': 1492, 'demanded': 1493, 'fitted': 1494, 'flights': 1495, 'heard': 1496, 'insisted': 1497, 'narrow': 1498, 'opened': 1499, 'persisted': 1500, 'refused': 1501, 'residence': 1502, 'shoved': 1503, 'stairs': 1504, 'student': 1505, 'sunshine': 1506, 'support': 1507, 'terribly': 1508, 'understanding': 1509, 'Chuck': 1510, 'Isn': 1511, 'Mahoney': 1512, 'album': 1513, 'answer': 1514, 'answered': 1515, 'cases': 1516, 'chance': 1517, 'divorce': 1518, 'favor': 1519, 'fervently': 1520, 'hoping': 1521, 'laid': 1522, 'lucky': 1523, 'question': 1524, 'General': 1525, 'during': 1526, 'wartime': 1527, '1800': 1528, 'Unknown': 1529, 'beer': 1530, 'drinking': 1531, 'drunk': 1532, 'Dying': 1533, 'Ellie': 1534, 'Laurie': 1535, 'Libraries': 1536, 'aggravated': 1537, 'along': 1538, 'among': 1539, 'apprehensive': 1540, 'arched': 1541, 'area': 1542, 'areas': 1543, 'ascended': 1544, 'beating': 1545, 'buildings': 1546, 'camera': 1547, 'close': 1548, 'closed': 1549, 'clouds': 1550, 'cloudy': 1551, 'cross': 1552, 'daughter': 1553, 'decided': 1554, 'diamond': 1555, 'die': 1556, 'died': 1557, 'doorway': 1558, 'eldest': 1559, 'enter': 1560, 'entered': 1561, 'enveloped': 1562, 'eternity': 1563, 'eye': 1564, 'general': 1565, 'girls': 1566, 'harem': 1567, 'heart': 1568, 'heaven': 1569, 'here': 1570, 'hesitated': 1571, 'hung': 1572, 'immense': 1573, 'irregularly': 1574, 'keeper': 1575, 'learning': 1576, 'legged': 1577, 'library': 1578, 'live': 1579, 'mind': 1580, 'points': 1581, 'pounding': 1582, 'problem': 1583, 'process': 1584, 'pursue': 1585, 'remarried': 1586, 'remembered': 1587, 'roofs': 1588, 'rooms': 1589, 'seeing': 1590, 'separated': 1591, 'shore': 1592, 'shower': 1593, 'shrugged': 1594, 'slightly': 1595, 'smaller': 1596, 'soon': 1597, 'spirit': 1598, 'stars': 1599, 'surroundings': 1600, 'tough': 1601, 'transported': 1602, 'twice': 1603, 'understand': 1604, 'veered': 1605, 'velvet': 1606, 'viewers': 1607, 'wondering': 1608, 'youngest': 1609, 'Big': 1610, 'Kathleen': 1611, 'Snakes': 1612, 'boa': 1613, 'constrictors': 1614, 'rid': 1615, 'undergrowth': 1616, 'Before': 1617, 'Dave': 1618, 'Quadriplegic': 1619, 'Rodeo': 1620, 'Several': 1621, 'antlers': 1622, 'bar': 1623, 'bottom': 1624, 'bumped': 1625, 'chairs': 1626, 'cook': 1627, 'deer': 1628, 'drawing': 1629, 'guys': 1630, 'jukebox': 1631, 'mentioned': 1632, 'musicians': 1633, 'stories': 1634, 'thinking': 1635, 'wild': 1636, '319': 1637, 'Eve': 1638, 'Room': 1639, 'Sherrie': 1640, 'Tony': 1641, 'W': 1642, 'changes': 1643, 'club': 1644, 'cooking': 1645, 'dice': 1646, 'floating': 1647, 'furniture': 1648, 'hour': 1649, 'impatient': 1650, 'incompetent': 1651, 'later': 1652, 'laundry': 1653, 'list': 1654, 'meat': 1655, 'minute': 1656, 'papers': 1657, 'prepared': 1658, 'recipe': 1659, 'restructure': 1660, 'sack': 1661, 'schedule': 1662, 'snatches': 1663, 'soggy': 1664, 'stuck': 1665, 'students': 1666, 'stuffs': 1667, 'taste': 1668, 'Back': 1669, 'Fletcher': 1670, 'Generally': 1671, 'Hawaii': 1672, 'Hawaiian': 1673, 'Hi': 1674, 'Junie': 1675, 'Love': 1676, 'Me': 1677, 'Moon': 1678, 'Tell': 1679, 'chat': 1680, 'circle': 1681, 'concert': 1682, 'cool': 1683, 'dominant': 1684, 'empty': 1685, 'flabby': 1686, 'forming': 1687, 'join': 1688, 'looks': 1689, 'movie': 1690, 'much': 1691, 'non': 1692, 'ones': 1693, 'overslept': 1694, 'position': 1695, 'regular': 1696, 'responsive': 1697, 'shirt': 1698, 'sit': 1699, 'skinny': 1700, 'strangers': 1701, 'sucks': 1702, 'surprised': 1703, 'tightrope': 1704, 'uni': 1705, 'walks': 1706, 'wood': 1707, 'your': 1708, 'Arrr': 1709, 'Arrrr': 1710, 'Looking': 1711, 'complain': 1712, 'directed': 1713, 'disappointed': 1714, 'goes': 1715, 'howl': 1716, 'lion': 1717, 'protect': 1718, 'raise': 1719, 'running': 1720, 'scare': 1721, 'scared': 1722, 'scary': 1723, 'stops': 1724, 'threatened': 1725, 'upstairs': 1726, 'witch': 1727, 'witches': 1728, 'yeh': 1729, 'yell': 1730, 'Break': 1731, 'Drew': 1732, 'ahead': 1733, 'arrived': 1734, 'backs': 1735, 'busses': 1736, 'clock': 1737, 'closer': 1738, 'driver': 1739, 'exchange': 1740, 'far': 1741, 'features': 1742, 'field': 1743, 'fine': 1744, 'janitor': 1745, 'ladies': 1746, 'lunch': 1747, 'piled': 1748, 'reset': 1749, 'seat': 1750, 'show': 1751, 'shrug': 1752, 'split': 1753, 'swivel': 1754, 'tour': 1755, 'Malcolm': 1756, 'People': 1757, 'already': 1758, 'apology': 1759, 'appointment': 1760, 'beginning': 1761, 'comment': 1762, 'cutting': 1763, 'dessert': 1764, 'explanation': 1765, 'guilty': 1766, 'hectic': 1767, 'indirect': 1768, 'journalism': 1769, 'promised': 1770, 'rang': 1771, 'report': 1772, 'searching': 1773, 'snide': 1774, 'sombrero': 1775, 'voice': 1776, 'Halfway': 1777, 'aside': 1778, 'cafeteria': 1779, 'college': 1780, 'community': 1781, 'counselor': 1782, 'cry': 1783, 'describing': 1784, 'disabled': 1785, 'drew': 1786, 'few': 1787, 'incident': 1788, 'left': 1789, 'listened': 1790, 'listening': 1791, 'lunches': 1792, 'members': 1793, 'middle': 1794, 'moving': 1795, 'presentation': 1796, 'ready': 1797, 'speech': 1798, 'spoke': 1799, 'staff': 1800, 'witnessed': 1801, 'fi': 1802, 'godzilla': 1803, 'monster': 1804, 'sci': 1805, 'tearing': 1806, 'At': 1807, 'House': 1808, 'Instead': 1809, 'amusement': 1810, 'approached': 1811, 'backwards': 1812, 'believe': 1813, 'blossoms': 1814, 'booth': 1815, 'bounced': 1816, 'branches': 1817, 'broken': 1818, 'brother': 1819, 'bubbling': 1820, 'bulging': 1821, 'calm': 1822, 'canyon': 1823, 'crocodile': 1824, 'curb': 1825, 'curves': 1826, 'detached': 1827, 'dispassionate': 1828, 'drove': 1829, 'edge': 1830, 'floated': 1831, 'free': 1832, 'fun': 1833, 'guided': 1834, 'heights': 1835, 'interesting': 1836, 'jerked': 1837, 'jumping': 1838, 'manipulated': 1839, 'model': 1840, 'nut': 1841, 'nuts': 1842, 'park': 1843, 'pit': 1844, 'ramp': 1845, 'reached': 1846, 'response': 1847, 'ride': 1848, 'sailed': 1849, 'scale': 1850, 'short': 1851, 'shoulders': 1852, 'sideways': 1853, 'since': 1854, 'smiled': 1855, 'solid': 1856, 'somewhat': 1857, 'sped': 1858, 'surfaced': 1859, 'touched': 1860, 'touching': 1861, 'tree': 1862, 'usually': 1863, 'windows': 1864, 'Halloween': 1865, 'Witches': 1866, 'aisle': 1867, 'bride': 1868, 'coquettish': 1869, 'costume': 1870, 'drag': 1871, 'exaggerating': 1872, 'fake': 1873, 'groom': 1874, 'guests': 1875, 'mask': 1876, 'minister': 1877, 'raked': 1878, 'replaced': 1879, 'theater': 1880, 'usher': 1881, 'wedding': 1882, 'Ants': 1883, 'Get': 1884, 'Yuck': 1885, 'ant': 1886, 'appalled': 1887, 'contemptuously': 1888, 'crawling': 1889, 'everything': 1890, 'hole': 1891, 'laying': 1892, 'post': 1893, 'self': 1894, 'sneered': 1895, 'squeeze': 1896, 'step': 1897, 'without': 1898, 'auditorium': 1899, 'benefit': 1900, 'loudly': 1901, 'passed': 1902, 'sympathetic': 1903, 'Can': 1904, 'Catholics': 1905, 'King': 1906, 'Monastery': 1907, 'Queen': 1908, 'angrier': 1909, 'apparently': 1910, 'awoke': 1911, 'basic': 1912, 'blend': 1913, 'chameleon': 1914, 'comfortably': 1915, 'conservative': 1916, 'cripple': 1917, 'different': 1918, 'explaining': 1919, 'frantic': 1920, 'injured': 1921, 'lisped': 1922, 'palace': 1923, 'personality': 1924, 'phrase': 1925, 'sidewalk': 1926, 'startled': 1927, 'types': 1928, 'whispered': 1929, 'Rhonda': 1930, 'Ricardo': 1931, 'actor': 1932, 'adopted': 1933, 'announced': 1934, 'auditioning': 1935, 'break': 1936, 'clearly': 1937, 'climbed': 1938, 'coax': 1939, 'famous': 1940, 'idea': 1941, 'liked': 1942, 'local': 1943, 'notes': 1944, 'noticed': 1945, 'o': 1946, 'obnoxious': 1947, 'performance': 1948, 'rehearsal': 1949, 'son': 1950, 'suggestion': 1951, 'supportive': 1952, 'taking': 1953, 'yrs': 1954, 'Very': 1955, 'ancient': 1956, 'antique': 1957, 'blood': 1958, 'exclaiming': 1959, 'marriage': 1960, 'normally': 1961, 'owned': 1962, 'pieces': 1963, 'rare': 1964, 'realized': 1965, 'relative': 1966, 'sorry': 1967, 'cats': 1968, 'cuddly': 1969, 'letting': 1970, 'picks': 1971, 'puppies': 1972, 'stripped': 1973, 'tan': 1974, 'watches': 1975, '55': 1976, 'Both': 1977, 'Chevy': 1978, 'Everything': 1979, 'Hot': 1980, 'Hum': 1981, 'ashtray': 1982, 'backseat': 1983, 'beautifully': 1984, 'brothers': 1985, 'challenge': 1986, 'cigs': 1987, 'continental': 1988, 'drives': 1989, 'enormous': 1990, 'glasses': 1991, 'gotten': 1992, 'grab': 1993, 'grins': 1994, 'heavy': 1995, 'hooked': 1996, 'journey': 1997, 'kit': 1998, 'knows': 1999, 'laughing': 2000, 'marry': 2001, 'outside': 2002, 'pant': 2003, 'pink': 2004, 'punch': 2005, 'satin': 2006, 'seats': 2007, 'section': 2008, 'sits': 2009, 'snotty': 2010, 'spills': 2011, 'styrofoam': 2012, 'tablecloths': 2013, 'teases': 2014, 'wax': 2015, 'wilderness': 2016, 'Had': 2017, 'admired': 2018, 'board': 2019, 'bother': 2020, 'clocks': 2021, 'degree': 2022, 'graduation': 2023, 'grandfather': 2024, 'hard': 2025, 'hat': 2026, 'inner': 2027, 'inside': 2028, 'intricate': 2029, 'knocked': 2030, 'layed': 2031, 'lost': 2032, 'marrying': 2033, 'master': 2034, 'minutes': 2035, 'mortar': 2036, 'relationship': 2037, 'respect': 2038, 'third': 2039, 'workings': 2040, '25': 2041, 'Feb': 2042, 'Previous': 2043, 'empathy': 2044, 'jugular': 2045, 'knife': 2046, 'obstinate': 2047, 'vein': 2048, 'wooden': 2049, 'Arab': 2050, 'Arabs': 2051, 'McCartney': 2052, 'Paul': 2053, 'Texas': 2054, 'camping': 2055, 'chain': 2056, 'enthused': 2057, 'fence': 2058, 'fireplace': 2059, 'gaps': 2060, 'gathered': 2061, 'hunters': 2062, 'insults': 2063, 'link': 2064, 'others': 2065, 'remote': 2066, 'taunts': 2067, 'thanked': 2068, 'yelling': 2069, 'Miles': 2070, 'agree': 2071, 'alcoholic': 2072, 'brown': 2073, 'burnt': 2074, 'complete': 2075, 'fishing': 2076, 'forest': 2077, 'handsome': 2078, 'healthier': 2079, 'honeymoon': 2080, 'keep': 2081, 'normal': 2082, 'pale': 2083, 'repulsed': 2084, 'ridges': 2085, 'sleazy': 2086, 'smooth': 2087, 'struggle': 2088, 'trees': 2089, 'watery': 2090, 'whites': 2091, 'Little': 2092, 'bit': 2093, 'bite': 2094, 'control': 2095, 'dinosaur': 2096, 'its': 2097, 'jaw': 2098, 'shiny': 2099, 'snake': 2100, 'struggling': 2101, 'threads': 2102, 'tries': 2103, 'turns': 2104, 'Hey': 2105, 'K': 2106, 'O': 2107, 'Shall': 2108, 'cab': 2109, 'campsite': 2110, 'curiously': 2111, 'ex': 2112, 'friendly': 2113, 'near': 2114, 'sense': 2115, 'slight': 2116, 'Duck': 2117, 'Dylan': 2118, 'Seans': 2119, 'age': 2120, 'airplane': 2121, 'airport': 2122, 'bullets': 2123, 'calling': 2124, 'chased': 2125, 'configuration': 2126, 'deal': 2127, 'decide': 2128, 'emergency': 2129, 'escape': 2130, 'everywhere': 2131, 'fly': 2132, 'happen': 2133, 'heads': 2134, 'helicopters': 2135, 'jump': 2136, 'larger': 2137, 'metal': 2138, 'mixture': 2139, 'mountain': 2140, 'nonchalantly': 2141, 'permission': 2142, 'planes': 2143, 'prop': 2144, 'quickly': 2145, 'refuse': 2146, 'seconds': 2147, 'service': 2148, 'shallow': 2149, 'traffic': 2150, 'waist': 2151, 'yours': 2152, 'cow': 2153, 'create': 2154, 'direction': 2155, 'diversion': 2156, 'fenced': 2157, 'hitchhiking': 2158, 'nose': 2159, 'pasture': 2160, 'sticks': 2161, 'van': 2162, 'wrong': 2163, 'Bonnie': 2164, 'Chicken': 2165, 'Connect': 2166, 'Couldn': 2167, 'Fried': 2168, 'Grandma': 2169, 'Hank': 2170, 'Jim': 2171, 'Kentucky': 2172, 'Lee': 2173, 'Mildred': 2174, 'Sanders': 2175, 'To': 2176, 'Tyler': 2177, 'Uh': 2178, 'V': 2179, 'White': 2180, 'Why': 2181, 'Wisconsin': 2182, 'above': 2183, 'ago': 2184, 'answers': 2185, 'approach': 2186, 'background': 2187, 'backyard': 2188, 'best': 2189, 'breath': 2190, 'breathe': 2191, 'bubbles': 2192, 'caring': 2193, 'chicken': 2194, 'committed': 2195, 'connect': 2196, 'connected': 2197, 'cooked': 2198, 'counseling': 2199, 'crime': 2200, 'dial': 2201, 'disability': 2202, 'downtown': 2203, 'drowned': 2204, 'ears': 2205, 'exhaustion': 2206, 'extension': 2207, 'farm': 2208, 'gives': 2209, 'graying': 2210, 'grew': 2211, 'haired': 2212, 'hallway': 2213, 'hardly': 2214, 'helping': 2215, 'hime': 2216, 'hitting': 2217, 'hurting': 2218, 'hurts': 2219, 'insane': 2220, 'instead': 2221, 'institution': 2222, 'jail': 2223, 'killer': 2224, 'lounging': 2225, 'low': 2226, 'menacing': 2227, 'monotone': 2228, 'needed': 2229, 'never': 2230, 'operator': 2231, 'oppressive': 2232, 'peek': 2233, 'pleasant': 2234, 'police': 2235, 'pond': 2236, 'preparing': 2237, 'preventative': 2238, 'prevents': 2239, 'program': 2240, 'pushing': 2241, 'receiver': 2242, 'referring': 2243, 'remark': 2244, 'scuffling': 2245, 'shall': 2246, 'silence': 2247, 'sleep': 2248, 'sleepy': 2249, 'slowly': 2250, 'stalking': 2251, 'stare': 2252, 'stared': 2253, 'staring': 2254, 'staying': 2255, 'telephone': 2256, 'throw': 2257, 'tired': 2258, 'tone': 2259, 'whiskers': 2260, 'Karen': 2261, 'anyway': 2262, 'argue': 2263, 'beat': 2264, 'bended': 2265, 'brakes': 2266, 'knee': 2267, 'passenger': 2268, 'pleads': 2269, 'rigid': 2270, 'slowing': 2271, 'stopping': 2272, 'trouble': 2273, 'weak': 2274, 'yank': 2275, 'And': 2276, 'Clydales': 2277, 'Clydesdale': 2278, 'These': 2279, 'agitated': 2280, 'begged': 2281, 'blondes': 2282, 'blurted': 2283, 'bunch': 2284, 'children': 2285, 'coy': 2286, 'destroyed': 2287, 'ill': 2288, 'kitten': 2289, 'mentally': 2290, 'paid': 2291, 'patrol': 2292, 'rancher': 2293, 'ranchers': 2294, 'redheads': 2295, 'shadow': 2296, 'shocked': 2297, 'teased': 2298, 'three': 2299, 'tummy': 2300, 'wagon': 2301, 'wreck': 2302, 'Maybe': 2303, 'amused': 2304, 'attacking': 2305, 'audience': 2306, 'bend': 2307, 'exasperated': 2308, 'figuring': 2309, 'front': 2310, 'hopped': 2311, 'naive': 2312, 'ovation': 2313, 'picking': 2314, 'risers': 2315, 'sang': 2316, 'satisfactory': 2317, 'satisfying': 2318, 'shook': 2319, 'shy': 2320, 'solo': 2321, 'stage': 2322, 'verbally': 2323, 'ways': 2324, 'wrapped': 2325, 'Earl': 2326, 'Mine': 2327, 'cleared': 2328, 'closet': 2329, 'emotional': 2330, 'girlfriend': 2331, 'handed': 2332, 'hoped': 2333, 'importance': 2334, 'overhear': 2335, 'situation': 2336, 'song': 2337, 'stools': 2338, 'tickets': 2339, 'trumpet': 2340, 'ushers': 2341, 'volatile': 2342, 'On': 2343, 'authority': 2344, 'blackmail': 2345, 'blocked': 2346, 'confrontation': 2347, 'coral': 2348, 'directly': 2349, 'disapprove': 2350, 'enslavement': 2351, 'exhilarated': 2352, 'faded': 2353, 'habits': 2354, 'leopard': 2355, 'needlepoint': 2356, 'ocean': 2357, 'path': 2358, 'picture': 2359, 'pillow': 2360, 'power': 2361, 'rise': 2362, 'sand': 2363, 'silk': 2364, 'trade': 2365, 'ya': 2366, 'bluffed': 2367, 'collected': 2368, 'cuddled': 2369, 'great': 2370, 'hours': 2371, 'logical': 2372, 'newborn': 2373, 'nursed': 2374, 'reasons': 2375, 'wee': 2376, 'banjo': 2377, 'butcher': 2378, 'canvas': 2379, 'caught': 2380, 'coals': 2381, 'created': 2382, 'fires': 2383, 'glove': 2384, 'guitar': 2385, 'guitars': 2386, 'hate': 2387, 'held': 2388, 'hit': 2389, 'material': 2390, 'mauve': 2391, 'maybe': 2392, 'outgrown': 2393, 'paper': 2394, 'rack': 2395, 'roll': 2396, 'seams': 2397, 'sew': 2398, 'sewed': 2399, 'smothered': 2400, 'sparks': 2401, 'stitches': 2402, 'stuff': 2403, 'throwing': 2404, 'towel': 2405, 'uneven': 2406, 'unharmed': 2407, 'younger': 2408, 'yr': 2409, 'zippers': 2410, 'ABC': 2411, 'Darcy': 2412, 'Everyone': 2413, 'Gary': 2414, 'Verna': 2415, 'against': 2416, 'albums': 2417, 'alphabetized': 2418, 'appear': 2419, 'balding': 2420, 'birthday': 2421, 'blankets': 2422, 'cardboard': 2423, 'cocktail': 2424, 'couple': 2425, 'couples': 2426, 'covered': 2427, 'custom': 2428, 'descend': 2429, 'detective': 2430, 'dresser': 2431, 'electric': 2432, 'else': 2433, 'finds': 2434, 'float': 2435, 'giver': 2436, 'hi': 2437, 'indexes': 2438, 'introduces': 2439, 'landlady': 2440, 'laps': 2441, 'law': 2442, 'librarian': 2443, 'mate': 2444, 'mattress': 2445, 'mattresses': 2446, 'neighbors': 2447, 'nod': 2448, 'notice': 2449, 'oldest': 2450, 'outer': 2451, 'pack': 2452, 'party': 2453, 'present': 2454, 'pretend': 2455, 'pulls': 2456, 'rearranging': 2457, 'record': 2458, 'related': 2459, 'runs': 2460, 'shallows': 2461, 'shrugs': 2462, 'sigh': 2463, 'sleuthing': 2464, 'spark': 2465, 'sparking': 2466, 'tags': 2467, 'texture': 2468, 'tonight': 2469, '37': 2470, 'Huh': 2471, 'Near': 2472, 'Olympic': 2473, 'Somehow': 2474, 'Still': 2475, 'Women': 2476, 'amusing': 2477, 'anxieties': 2478, 'babies': 2479, 'blackened': 2480, 'bring': 2481, 'childhood': 2482, 'chlorine': 2483, 'chloroform': 2484, 'chlorophyll': 2485, 'cliques': 2486, 'constrict': 2487, 'corners': 2488, 'cure': 2489, 'cured': 2490, 'days': 2491, 'dressing': 2492, 'easy': 2493, 'enjoy': 2494, 'excellent': 2495, 'excited': 2496, 'exercise': 2497, 'hidden': 2498, 'ignore': 2499, 'invite': 2500, 'label': 2501, 'ladders': 2502, 'laugh': 2503, 'marveled': 2504, 'marveling': 2505, 'meet': 2506, 'memory': 2507, 'odor': 2508, 'pads': 2509, 'piece': 2510, 'positions': 2511, 'questions': 2512, 'recognized': 2513, 'rectangle': 2514, 'remembering': 2515, 'reminisce': 2516, 'reverse': 2517, 'ripping': 2518, 'sagging': 2519, 'sensed': 2520, 'shocking': 2521, 'showered': 2522, 'smelled': 2523, 'snack': 2524, 'stepped': 2525, 'stuffing': 2526, 'swam': 2527, 'triggered': 2528, 'underwater': 2529, 'Did': 2530, 'George': 2531, 'Goodnight': 2532, 'Hamilton': 2533, 'aimlessly': 2534, 'apartment': 2535, 'began': 2536, 'bowl': 2537, 'butt': 2538, 'cared': 2539, 'chief': 2540, 'communal': 2541, 'department': 2542, 'feeding': 2543, 'holding': 2544, 'hug': 2545, 'lobby': 2546, 'oh': 2547, 'peace': 2548, 'peeked': 2549, 'performances': 2550, 'pipe': 2551, 'questioned': 2552, 'repeating': 2553, 'selfish': 2554, 'sex': 2555, 'sinks': 2556, 'star': 2557, 'suggested': 2558, 'suite': 2559, 'toilet': 2560, 'useful': 2561, 'using': 2562, 'wandered': 2563, 'wrench': 2564, 'cub': 2565, 'gorilla': 2566, 'lead': 2567, 'monkey': 2568, 'Co': 2569, 'associates': 2570, 'glass': 2571, 'hateful': 2572, 'hurtful': 2573, 'manner': 2574, 'mirrors': 2575, 'pulling': 2576, 'raged': 2577, 'worker': 2578, 'Thea': 2579, 'boss': 2580, 'complains': 2581, 'hundreds': 2582, 'needs': 2583, 'patterns': 2584, 'sales': 2585, 'sewing': 2586, 'tool': 2587, 'yes': 2588, 'Boy': 2589, 'D': 2590, 'Dad': 2591, 'Duchess': 2592, 'Iron': 2593, 'Rochelle': 2594, 'ankles': 2595, 'bartender': 2596, 'believed': 2597, 'conference': 2598, 'conscious': 2599, 'continue': 2600, 'elevator': 2601, 'ha': 2602, 'hope': 2603, 'joke': 2604, 'kid': 2605, 'lesbians': 2606, 'level': 2607, 'none': 2608, 'nowhere': 2609, 'quite': 2610, 'shake': 2611, 'sight': 2612, 'slow': 2613, 'suitcase': 2614, 'swing': 2615, 'today': 2616, 'waiting': 2617, 'waves': 2618, 'welcomes': 2619, 'whistle': 2620, 'whistling': 2621, 'wolf': 2622, 'Only': 2623, 'coo': 2624, 'division': 2625, 'provide': 2626, 'supplied': 2627, 'toy': 2628, 'toys': 2629, 'welfare': 2630, 'Look': 2631, 'See': 2632, 'conversation': 2633, 'lie': 2634, 'verbal': 2635, 'attached': 2636, 'dangerous': 2637, 'dingy': 2638, 'logged': 2639, 'navigating': 2640, 'rowboat': 2641, 'safe': 2642, 'sail': 2643, 'sink': 2644, 'source': 2645, 'surf': 2646, 'voyage': 2647, 'wheelchair': 2648, '33': 2649, '35': 2650, 'Eh': 2651, 'Terence': 2652, 'accomplishment': 2653, 'activity': 2654, 'ankle': 2655, 'argued': 2656, 'cane': 2657, 'change': 2658, 'chatted': 2659, 'color': 2660, 'completing': 2661, 'condition': 2662, 'conflict': 2663, 'evidence': 2664, 'frolicking': 2665, 'game': 2666, 'gingerly': 2667, 'goat': 2668, 'goats': 2669, 'helpful': 2670, 'hind': 2671, 'human': 2672, 'joints': 2673, 'knitting': 2674, 'lawyer': 2675, 'persevered': 2676, 'physical': 2677, 'proud': 2678, 'punched': 2679, 'reluctantly': 2680, 'renege': 2681, 'salvage': 2682, 'shade': 2683, 'snag': 2684, 'stick': 2685, 'strangeness': 2686, 'thread': 2687, 'thrown': 2688, 'trapeze': 2689, 'unduly': 2690, 'unravel': 2691, 'witnesses': 2692, 'yard': 2693, 'College': 2694, 'L': 2695, 'Other': 2696, 'Rose': 2697, 'Touch': 2698, 'Valentine': 2699, 'Where': 2700, 'anxious': 2701, 'bake': 2702, 'cafe': 2703, 'campus': 2704, 'checkered': 2705, 'cheerleader': 2706, 'directions': 2707, 'dorm': 2708, 'drink': 2709, 'drug': 2710, 'enjoyment': 2711, 'finish': 2712, 'grade': 2713, 'grinned': 2714, 'incoherent': 2715, 'information': 2716, 'item': 2717, 'lengthened': 2718, 'line': 2719, 'marathon': 2720, 'moaning': 2721, 'nostalgic': 2722, 'outfit': 2723, 'owner': 2724, 'pace': 2725, 'pamphlets': 2726, 'partner': 2727, 'paths': 2728, 'pockets': 2729, 'race': 2730, 'replacement': 2731, 'resting': 2732, 'sale': 2733, 'segment': 2734, 'slowed': 2735, 'smiles': 2736, 'stopped': 2737, 'strides': 2738, 'weary': 2739, 'F': 2740, 'Skinner': 2741, 'Willie': 2742, 'oppressed': 2743, '13': 2744, '14': 2745, 'Eyuck': 2746, 'Naomi': 2747, 'Sonja': 2748, 'anxiety': 2749, 'backed': 2750, 'blow': 2751, 'correct': 2752, 'dried': 2753, 'hurry': 2754, 'innocently': 2755, 'lodged': 2756, 'once': 2757, 'proper': 2758, 'raining': 2759, 'shit': 2760, 'smug': 2761, 'snot': 2762, 'talked': 2763, 'tickle': 2764, 'wrestle': 2765, 'America': 2766, 'None': 2767, 'although': 2768, 'ambassador': 2769, 'audition': 2770, 'auditions': 2771, 'bet': 2772, 'bits': 2773, 'bouncing': 2774, 'cast': 2775, 'colds': 2776, 'commodity': 2777, 'crouched': 2778, 'delighted': 2779, 'directing': 2780, 'director': 2781, 'energy': 2782, 'flags': 2783, 'greeted': 2784, 'haven': 2785, 'hesitantly': 2786, 'joined': 2787, 'laughingly': 2788, 'lights': 2789, 'lips': 2790, 'nam': 2791, 'noses': 2792, 'photo': 2793, 'precious': 2794, 'profile': 2795, 'quick': 2796, 'resetting': 2797, 'rewritten': 2798, 'satire': 2799, 'script': 2800, 'setting': 2801, 'sing': 2802, 'such': 2803, 'task': 2804, 'thanks': 2805, 'thanksgiving': 2806, 'valiantly': 2807, 'ving': 2808, 'weren': 2809, 'wincing': 2810, 'word': 2811, '22': 2812, 'Do': 2813, 'Many': 2814, 'Put': 2815, 'Someday': 2816, 'accidentally': 2817, 'ball': 2818, 'bare': 2819, 'belly': 2820, 'built': 2821, 'clinging': 2822, 'comprehend': 2823, 'confident': 2824, 'crafty': 2825, 'curled': 2826, 'daddy': 2827, 'dead': 2828, 'device': 2829, 'dormitory': 2830, 'exploits': 2831, 'fetal': 2832, 'fiercely': 2833, 'fired': 2834, 'gatlin': 2835, 'gun': 2836, 'ignoring': 2837, 'isn': 2838, 'keeled': 2839, 'kill': 2840, 'leader': 2841, 'listens': 2842, 'lone': 2843, 'lose': 2844, 'loves': 2845, 'lunge': 2846, 'mama': 2847, 'muttered': 2848, 'necessary': 2849, 'pathetic': 2850, 'pleaded': 2851, 'pleading': 2852, 'please': 2853, 'plump': 2854, 'pussy': 2855, 'recent': 2856, 'revere': 2857, 'rifle': 2858, 'rifles': 2859, 'rush': 2860, 'separate': 2861, 'shelves': 2862, 'shooting': 2863, 'shows': 2864, 'single': 2865, 'spotted': 2866, 'summers': 2867, 'tinged': 2868, 'tricks': 2869, 'weeping': 2870, 'westerns': 2871, 'wish': 2872, 'worthless': 2873, 'yanked': 2874, 'cavorting': 2875, 'emotions': 2876, 'But': 2877, 'Outside': 2878, 'abandon': 2879, 'ash': 2880, 'brush': 2881, 'bumpy': 2882, 'doom': 2883, 'final': 2884, 'forces': 2885, 'hell': 2886, 'helpless': 2887, 'lava': 2888, 'load': 2889, 'overwhelmed': 2890, 'panic': 2891, 'railroad': 2892, 'rescued': 2893, 'sage': 2894, 'tracks': 2895, 'universe': 2896, 'until': 2897, 'volcanos': 2898, 'world': 2899, 'glare': 2900, 'homosexually': 2901, 'raping': 2902, 'revulsion': 2903, '1960': 2904, '1970': 2905, '1980': 2906, '2nd': 2907, 'By': 2908, 'Mabel': 2909, 'Will': 2910, 'accepted': 2911, 'ardent': 2912, 'ass': 2913, 'bravery': 2914, 'cornered': 2915, 'current': 2916, 'difficult': 2917, 'eyebrows': 2918, 'fashioned': 2919, 'harassed': 2920, 'issue': 2921, 'length': 2922, 'limped': 2923, 'outfits': 2924, 'pearls': 2925, 'persistent': 2926, 'personally': 2927, 'protecting': 2928, 'published': 2929, 'raised': 2930, 'rearranged': 2931, 'recently': 2932, 'righteous': 2933, 'sassed': 2934, 'shock': 2935, 'shorter': 2936, 'slip': 2937, 'slips': 2938, 'slit': 2939, 'stool': 2940, 'struggled': 2941, 'style': 2942, 'tiered': 2943, 'underslips': 2944, 'warming': 2945, 'which': 2946, 'grow': 2947, 'images': 2948, 'objects': 2949, 'phase': 2950, 'sequence': 2951, 'stronger': 2952, 'verbalize': 2953, 'Poor': 2954, 'bird': 2955, 'burrow': 2956, 'burying': 2957, 'cage': 2958, 'certainty': 2959, 'chitter': 2960, 'choked': 2961, 'collapsed': 2962, 'construction': 2963, 'containers': 2964, 'devouring': 2965, 'doomed': 2966, 'dust': 2967, 'filling': 2968, 'fishbowl': 2969, 'fled': 2970, 'fleeing': 2971, 'flow': 2972, 'freeway': 2973, 'furry': 2974, 'growing': 2975, 'hissing': 2976, 'keys': 2977, 'miniature': 2978, 'sandal': 2979, 'shoulder': 2980, 'soothingly': 2981, 'spider': 2982, 'tiny': 2983, 'demanding': 2984, 'voracious': 2985, 'actually': 2986, 'sexually': 2987, 'skit': 2988, 'statement': 2989, 'R': 2990, 'allowed': 2991, 'shared': 2992, 'warmth': 2993, 'Bloody': 2994, 'awful': 2995, 'bats': 2996, 'birds': 2997, 'branch': 2998, 'breakable': 2999, 'chop': 3000, 'dry': 3001, 'flexible': 3002, 'goodness': 3003, 'grandmother': 3004, 'hatchet': 3005, 'heartsick': 3006, 'insides': 3007, 'locked': 3008, 'necks': 3009, 'semi': 3010, 'shut': 3011, 'supposedly': 3012, 'teenagers': 3013, 'thank': 3014, 'twig': 3015, 'Daddy': 3016, 'Fear': 3017, 'First': 3018, 'Nazi': 3019, 'aggressively': 3020, 'banana': 3021, 'camp': 3022, 'concentration': 3023, 'curtain': 3024, 'faces': 3025, 'fearful': 3026, 'fierce': 3027, 'fiercer': 3028, 'grin': 3029, 'joy': 3030, 'kick': 3031, 'policemen': 3032, 'pouch': 3033, 'powerfully': 3034, 'rising': 3035, 'screaming': 3036, 'smiling': 3037, 'tightly': 3038, 'Andrea': 3039, 'bay': 3040, 'brick': 3041, 'bricks': 3042, 'centuries': 3043, 'earthquake': 3044, 'pills': 3045, 'shattered': 3046, 'stubborn': 3047, 'Feed': 3048, 'burped': 3049, 'citizen': 3050, 'dishes': 3051, 'drank': 3052, 'fed': 3053, 'honestly': 3054, 'lazy': 3055, 'lecture': 3056, 'martyred': 3057, 'milk': 3058, 'moods': 3059, 'overworked': 3060, 'particularly': 3061, 'passive': 3062, 'president': 3063, 'privileges': 3064, 'responsibilities': 3065, 'rights': 3066, 'sighed': 3067, 'spilling': 3068, 'spit': 3069, 'voiced': 3070, 'vote': 3071, 'working': 3072, 'Others': 3073, 'abandoned': 3074, 'blocking': 3075, 'cave': 3076, 'caveman': 3077, 'clansmen': 3078, 'dangerously': 3079, 'eerie': 3080, 'filter': 3081, 'historic': 3082, 'image': 3083, 'intelligent': 3084, 'landed': 3085, 'led': 3086, 'memories': 3087, 'modern': 3088, 'natives': 3089, 'ordinary': 3090, 'phosphorous': 3091, 'pre': 3092, 'problems': 3093, 'raising': 3094, 'secret': 3095, 'shone': 3096, 'solve': 3097, 'storms': 3098, 'unconsciously': 3099, 'Dr': 3100, 'Jared': 3101, 'Part': 3102, 'Until': 3103, 'addition': 3104, 'address': 3105, 'appt': 3106, 'bind': 3107, 'bras': 3108, 'buttons': 3109, 'cancel': 3110, 'drunks': 3111, 'elks': 3112, 'explained': 3113, 'goodbye': 3114, 'huh': 3115, 'manipulating': 3116, 'means': 3117, 'naked': 3118, 'pretended': 3119, 'psychiatrist': 3120, 'radio': 3121, 'realize': 3122, 'relax': 3123, 'relief': 3124, 'rotated': 3125, 'skin': 3126, 'soft': 3127, 'softness': 3128, 'stereo': 3129, 'tells': 3130, 'tryed': 3131, 'underpants': 3132, 'undies': 3133, 'Is': 3134, 'New': 3135, 'York': 3136, 'able': 3137, 'ain': 3138, 'attention': 3139, 'blossom': 3140, 'blots': 3141, 'bow': 3142, 'checked': 3143, 'fingering': 3144, 'gushing': 3145, 'hanging': 3146, 'joyful': 3147, 'meaning': 3148, 'mud': 3149, 'patient': 3150, 'reopened': 3151, 'ropes': 3152, 'scraper': 3153, 'shushed': 3154, 'strings': 3155, 'struck': 3156, 'violin': 3157, 'Are': 3158, 'Every': 3159, 'Follow': 3160, 'Lindsay': 3161, 'Watch': 3162, 'arrest': 3163, 'awe': 3164, 'awhile': 3165, 'better': 3166, 'blind': 3167, 'bomb': 3168, 'complacent': 3169, 'confused': 3170, 'convoy': 3171, 'cover': 3172, 'dawned': 3173, 'drivers': 3174, 'exploded': 3175, 'exploding': 3176, 'explosion': 3177, 'following': 3178, 'hallways': 3179, 'headquarters': 3180, 'hood': 3181, 'jeeps': 3182, 'jumped': 3183, 'loose': 3184, 'nazi': 3185, 'nearly': 3186, 'obstacles': 3187, 'officer': 3188, 'orders': 3189, 'overhead': 3190, 'petted': 3191, 'places': 3192, 'remarks': 3193, 'ruining': 3194, 'sleek': 3195, 'spots': 3196, 'sweatshirt': 3197, 'tinkering': 3198, 'trucks': 3199, 'About': 3200, 'brave': 3201, 'concerned': 3202, 'half': 3203, 'lungs': 3204, 'pedestrian': 3205, 'pressure': 3206, 'reality': 3207, 'rope': 3208, 'smell': 3209, 'smoke': 3210, 'smoking': 3211, 'sniffing': 3212, 'surface': 3213, 'swimmers': 3214, 'swirling': 3215, 'tummies': 3216, 'Dora': 3217, 'Esther': 3218, 'Lionel': 3219, 'allergy': 3220, 'bodies': 3221, 'boundary': 3222, 'canal': 3223, 'carefully': 3224, 'conjure': 3225, 'counter': 3226, 'coupon': 3227, 'dock': 3228, 'fool': 3229, 'grill': 3230, 'guide': 3231, 'handkerchief': 3232, 'legends': 3233, 'lower': 3234, 'motor': 3235, 'paddling': 3236, 'popcorn': 3237, 'prize': 3238, 'purse': 3239, 'reciting': 3240, 'relatives': 3241, 'repeat': 3242, 'scholarship': 3243, 'speaks': 3244, 'uh': 3245, 'words': 3246, 'Earthquake': 3247, 'Grudging': 3248, 'Stan': 3249, 'Williams': 3250, 'block': 3251, 'forward': 3252, 'hits': 3253, 'slides': 3254, 'stand': 3255, 'Dixieland': 3256, 'English': 3257, 'addresses': 3258, 'affair': 3259, 'bobby': 3260, 'central': 3261, 'counselors': 3262, 'duty': 3263, 'flattered': 3264, 'haircut': 3265, 'helmet': 3266, 'pat': 3267, 'player': 3268, 'policeman': 3269, 'registration': 3270, 'suggest': 3271, 'Cory': 3272, 'However': 3273, 'credits': 3274, 'curl': 3275, 'file': 3276, 'folder': 3277, 'forbidden': 3278, 'hesitancy': 3279, 'instructions': 3280, 'known': 3281, 'miss': 3282, 'overdue': 3283, 'permissible': 3284, 'presence': 3285, 'return': 3286, 'sensitive': 3287, 'yourself': 3288, 'Agnes': 3289, 'Christmas': 3290, 'acquaintances': 3291, 'acted': 3292, 'appeased': 3293, 'barns': 3294, 'bramble': 3295, 'bushes': 3296, 'closely': 3297, 'commented': 3298, 'concentrate': 3299, 'contain': 3300, 'crumbly': 3301, 'decorator': 3302, 'destination': 3303, 'dot': 3304, 'eyed': 3305, 'gravel': 3306, 'hamsters': 3307, 'homemade': 3308, 'hovered': 3309, 'indignation': 3310, 'interest': 3311, 'interior': 3312, 'lawns': 3313, 'lived': 3314, 'lovely': 3315, 'mad': 3316, 'mice': 3317, 'mixed': 3318, 'nicely': 3319, 'polka': 3320, 'remodeled': 3321, 'screen': 3322, 'stammered': 3323, 'watchers': 3324, 'workmanship': 3325, 'writing': 3326, 'Not': 3327, 'Tough': 3328, 'Traveling': 3329, 'climb': 3330, 'cousins': 3331, 'ladder': 3332, 'scenic': 3333, 'shelf': 3334, 'starving': 3335, 'stepladder': 3336, 'Incest': 3337, 'Leave': 3338, 'Swiss': 3339, 'burned': 3340, 'cottage': 3341, 'curtains': 3342, 'incensed': 3343, 'priest': 3344, 'psychic': 3345, 'retreat': 3346, 'smoldering': 3347, 'speaking': 3348, 'spreads': 3349, 'starting': 3350, 'Quick': 3351, 'dialed': 3352, 'message': 3353, 'rape': 3354, 'Even': 3355, 'Never': 3356, 'apologize': 3357, 'art': 3358, 'baggie': 3359, 'banquet': 3360, 'bridesmaid': 3361, 'calming': 3362, 'chapel': 3363, 'lipstick': 3364, 'peaceful': 3365, 'peak': 3366, 'perfected': 3367, 'prepare': 3368, 'quietly': 3369, 'relaxed': 3370, 'sneak': 3371, 'swallow': 3372, 'hovering': 3373, 'tempted': 3374, 'tight': 3375, 'turning': 3376, 'Blacks': 3377, 'Mafia': 3378, 'Sandra': 3379, 'Wait': 3380, 'applesauce': 3381, 'arena': 3382, 'belting': 3383, 'blacks': 3384, 'booze': 3385, 'brow': 3386, 'bump': 3387, 'city': 3388, 'classy': 3389, 'committee': 3390, 'commotion': 3391, 'complained': 3392, 'crashing': 3393, 'entertainment': 3394, 'evening': 3395, 'glowered': 3396, 'gonna': 3397, 'grind': 3398, 'gruff': 3399, 'introduce': 3400, 'joint': 3401, 'liquor': 3402, 'maker': 3403, 'makeup': 3404, 'mike': 3405, 'nightclub': 3406, 'ordering': 3407, 'pissed': 3408, 'pivotal': 3409, 'plush': 3410, 'poured': 3411, 'results': 3412, 'seedy': 3413, 'set': 3414, 'soda': 3415, 'themselves': 3416, 'treat': 3417, 'wine': 3418, 'Give': 3419, 'Rexford': 3420, 'assisted': 3421, 'assisting': 3422, 'bottle': 3423, 'breast': 3424, 'dialing': 3425, 'distraught': 3426, 'errand': 3427, 'exhaled': 3428, 'forget': 3429, 'gallon': 3430, 'gulp': 3431, 'health': 3432, 'helper': 3433, 'info': 3434, 'meant': 3435, 'nodded': 3436, 'number': 3437, 'pajamas': 3438, 'poisoning': 3439, 'poor': 3440, 'secretary': 3441, 'squealing': 3442, 'tailored': 3443, 'veins': 3444, 'dropped': 3445, 'employee': 3446, 'rehearse': 3447, 'vagina': 3448, 'interrupting': 3449, '75': 3450, 'Bell': 3451, 'Chairs': 3452, 'EC': 3453, 'Juan': 3454, 'MMPI': 3455, 'Ma': 3456, 'Sanchos': 3457, 'Soft': 3458, 'Spanish': 3459, 'accent': 3460, 'amount': 3461, 'balance': 3462, 'beds': 3463, 'blamed': 3464, 'bubbled': 3465, 'call': 3466, 'center': 3467, 'company': 3468, 'complaining': 3469, 'desks': 3470, 'details': 3471, 'drawn': 3472, 'employees': 3473, 'employers': 3474, 'examined': 3475, 'flowing': 3476, 'folded': 3477, 'gestures': 3478, 'giggled': 3479, 'giggling': 3480, 'glance': 3481, 'intently': 3482, 'intimate': 3483, 'laughter': 3484, 'lean': 3485, 'learn': 3486, 'legitimate': 3487, 'makes': 3488, 'manual': 3489, 'mid': 3490, 'mutter': 3491, 'plopped': 3492, 'privileged': 3493, 'professional': 3494, 'proudly': 3495, 'rep': 3496, 'representative': 3497, 'seems': 3498, 'seen': 3499, 'sooner': 3500, 'supervisor': 3501, 'test': 3502, 'underslip': 3503, 'whispering': 3504, 'Desmond': 3505, 'Ethan': 3506, 'Men': 3507, 'Opening': 3508, 'Practice': 3509, 'attend': 3510, 'attended': 3511, 'consequence': 3512, 'considering': 3513, 'covering': 3514, 'disorganized': 3515, 'excuse': 3516, 'excuses': 3517, 'fact': 3518, 'manager': 3519, 'nervously': 3520, 'plays': 3521, 'putting': 3522, 'quality': 3523, 'rehearsals': 3524, 'stall': 3525, 'Payless': 3526, 'aisles': 3527, 'collapsible': 3528, 'deaf': 3529, 'language': 3530, 'merchandise': 3531, 'periphery': 3532, 'rim': 3533, 'roller': 3534, 'shopping': 3535, 'sign': 3536, 'skate': 3537, 'skates': 3538, 'uses': 3539, 'vision': 3540, 'wire': 3541, 'yells': 3542, 'Clint': 3543, 'Eastwood': 3544, 'Fog': 3545, 'acupuncture': 3546, 'attraction': 3547, 'awake': 3548, 'cuts': 3549, 'entrance': 3550, 'frustrated': 3551, 'guts': 3552, 'hillside': 3553, 'messes': 3554, 'opens': 3555, 'operated': 3556, 'operating': 3557, 'operation': 3558, 'organs': 3559, 'rebuff': 3560, 'transform': 3561, 'travel': 3562, 'trust': 3563, 'unclear': 3564, 'uneasiness': 3565, 'Going': 3566, 'paranoid': 3567, 'reactions': 3568, 'Mama': 3569, 'absolute': 3570, 'coldness': 3571, 'crept': 3572, 'giants': 3573, 'hiding': 3574, 'hose': 3575, 'precipice': 3576, 'referred': 3577, 'tires': 3578, 'toe': 3579, 'vehicle': 3580, 'washing': 3581, 'bigger': 3582, 'danger': 3583, 'fallen': 3584, 'farmed': 3585, 'flying': 3586, 'height': 3587, 'higher': 3588, 'houses': 3589, 'insect': 3590, 'lands': 3591, 'meditating': 3592, 'retreated': 3593, 'skyward': 3594, 'slid': 3595, 'taller': 3596, 'unidentified': 3597, 'whatever': 3598, 'willing': 3599, 'Dabney': 3600, 'Sure': 3601, 'axe': 3602, 'case': 3603, 'chopped': 3604, 'chopping': 3605, 'contest': 3606, 'display': 3607, 'farmer': 3608, 'fighting': 3609, 'fixed': 3610, 'grown': 3611, 'gull': 3612, 'hummingbird': 3613, 'lintings': 3614, 'lithographs': 3615, 'narrator': 3616, 'outraged': 3617, 'porch': 3618, 'saga': 3619, 'scooted': 3620, 'sea': 3621, 'skunk': 3622, 'skunks': 3623, 'slipped': 3624, 'soar': 3625, 'spread': 3626, 'squirted': 3627, 'tools': 3628, 'wings': 3629, 'Meanwhile': 3630, 'homosexual': 3631, 'lord': 3632, 'smelling': 3633, 'truly': 3634, 'vomit': 3635, 'wonder': 3636, 'Forbidden': 3637, 'Forgiven': 3638, 'chasing': 3639, 'distrustful': 3640, 'hearing': 3641, 'staircase': 3642, 'stinking': 3643, 'thrilled': 3644, 'welcomed': 3645, 'Have': 3646, 'Mickey': 3647, 'Redford': 3648, 'Robert': 3649, 'Rooney': 3650, 'Salems': 3651, 'aren': 3652, 'brand': 3653, 'burners': 3654, 'chest': 3655, 'compassion': 3656, 'contact': 3657, 'contaminated': 3658, 'crashed': 3659, 'cycled': 3660, 'explode': 3661, 'featured': 3662, 'flames': 3663, 'flushed': 3664, 'formation': 3665, 'heroic': 3666, 'heroically': 3667, 'indicated': 3668, 'indirectly': 3669, 'jet': 3670, 'offend': 3671, 'offhand': 3672, 'overflow': 3673, 'pleased': 3674, 'replied': 3675, 'restroom': 3676, 'saving': 3677, 'seemingly': 3678, 'sewage': 3679, 'sexist': 3680, 'smoked': 3681, 'soccer': 3682, 'soccors': 3683, 'someplace': 3684, 'spot': 3685, 'stalls': 3686, 'stream': 3687, 'toilets': 3688, 'tracked': 3689, 'trained': 3690, 'training': 3691, 'trials': 3692, 'tribulations': 3693, 'waved': 3694, 'wheelchairs': 3695, 'Great': 3696, 'acting': 3697, 'bubble': 3698, 'earring': 3699, 'greeting': 3700, 'holds': 3701, 'mild': 3702, 'saliva': 3703, 'sheets': 3704, 'stripping': 3705, 'uptight': 3706, 'appendix': 3707, 'beam': 3708, 'bleachers': 3709, 'catsup': 3710, 'charge': 3711, 'ease': 3712, 'entire': 3713, 'hamburger': 3714, 'hamburgers': 3715, 'littler': 3716, 'match': 3717, 'matches': 3718, 'patties': 3719, 'perturbed': 3720, 'pointedly': 3721, 'raw': 3722, 'rough': 3723, 'shinny': 3724, 'snowing': 3725, 'splinters': 3726, 'stairway': 3727, 'whoever': 3728, 'wrestled': 3729, 'wrestlers': 3730, 'wrestling': 3731, 'Mild': 3732, 'Saturn': 3733, 'Scorpio': 3734, 'focus': 3735, 'foreboding': 3736, 'planet': 3737, 'Claire': 3738, 'G': 3739, 'High': 3740, 'Jr': 3741, 'Lucy': 3742, 'Susan': 3743, 'cause': 3744, 'client': 3745, 'concern': 3746, 'disagreed': 3747, 'discuss': 3748, 'dogma': 3749, 'earthquakes': 3750, 'engaged': 3751, 'frazzled': 3752, 'gasped': 3753, 'gotcha': 3754, 'hem': 3755, 'ironing': 3756, 'lamented': 3757, 'method': 3758, 'patched': 3759, 'peered': 3760, 'pleat': 3761, 'sloppy': 3762, 'undone': 3763, 'unraveled': 3764, 'vigorous': 3765, 'vigorously': 3766, 'wrinkles': 3767, 'Dear': 3768, 'Early': 3769, 'Explain': 3770, 'Girl': 3771, 'Helen': 3772, 'Naked': 3773, 'Would': 3774, 'accept': 3775, 'adolescent': 3776, 'amazing': 3777, 'animal': 3778, 'assist': 3779, 'attracted': 3780, 'bath': 3781, 'bathrobes': 3782, 'bonds': 3783, 'bowed': 3784, 'boys': 3785, 'captured': 3786, 'ceremoniously': 3787, 'chaperons': 3788, 'choice': 3789, 'co': 3790, 'coaster': 3791, 'code': 3792, 'computer': 3793, 'cream': 3794, 'defective': 3795, 'dish': 3796, 'dogs': 3797, 'enemy': 3798, 'estate': 3799, 'exposing': 3800, 'fading': 3801, 'firmly': 3802, 'futile': 3803, 'handedly': 3804, 'handwritten': 3805, 'happening': 3806, 'hut': 3807, 'innocent': 3808, 'jungle': 3809, 'lectured': 3810, 'likely': 3811, 'officially': 3812, 'opportunity': 3813, 'overwhelming': 3814, 'pacing': 3815, 'parts': 3816, 'privacy': 3817, 'probable': 3818, 'product': 3819, 'protectors': 3820, 'quitting': 3821, 'reinforcements': 3822, 'rescuing': 3823, 'responded': 3824, 'restless': 3825, 'seductive': 3826, 'sending': 3827, 'shoddy': 3828, 'simply': 3829, 'slammed': 3830, 'snapped': 3831, 'sprayed': 3832, 'stair': 3833, 'straighten': 3834, 'suppressed': 3835, 'throes': 3836, 'thrones': 3837, 'tied': 3838, 'tiredly': 3839, 'traveled': 3840, 'treatment': 3841, 'tribe': 3842, 'undermining': 3843, 'urged': 3844, 'wherever': 3845, 'wondered': 3846, 'Ernie': 3847, 'coverage': 3848, 'crack': 3849, 'threatening': 3850, 'calmed': 3851, 'reassured': 3852, 'visualization': 3853, '21': 3854, '3030': 3855, 'Because': 3856, 'Funeral': 3857, 'Jerry': 3858, 'Lewis': 3859, 'Their': 3860, 'ability': 3861, 'added': 3862, 'aim': 3863, 'alot': 3864, 'bathrobe': 3865, 'bee': 3866, 'bees': 3867, 'buzzing': 3868, 'cart': 3869, 'chickens': 3870, 'chose': 3871, 'clerk': 3872, 'cloying': 3873, 'confidence': 3874, 'countries': 3875, 'dazed': 3876, 'dismissed': 3877, 'everybody': 3878, 'examining': 3879, 'flown': 3880, 'foreign': 3881, 'frilly': 3882, 'gift': 3883, 'gifts': 3884, 'hugging': 3885, 'incestuous': 3886, 'jealous': 3887, 'listed': 3888, 'mend': 3889, 'milky': 3890, 'mystery': 3891, 'particular': 3892, 'returning': 3893, 'rips': 3894, 'screw': 3895, 'serviceable': 3896, 'silently': 3897, 'skills': 3898, 'starve': 3899, 'stroke': 3900, 'substance': 3901, 'suffocating': 3902, 'surprise': 3903, 'sweat': 3904, 'talents': 3905, 'tightened': 3906, 'total': 3907, 'travels': 3908, 'treated': 3909, 'typist': 3910, 'Goodness': 3911, 'Shouldn': 3912, 'Terrance': 3913, 'bastard': 3914, 'briskly': 3915, 'diplomatically': 3916, 'disease': 3917, 'disorder': 3918, 'fielded': 3919, 'impersonal': 3920, 'indicating': 3921, 'lecturing': 3922, 'ourselves': 3923, 'personal': 3924, 'pictures': 3925, 'properly': 3926, 'signs': 3927, 'spinal': 3928, 'tested': 3929, 'welcome': 3930, 'Hollywood': 3931, 'Newman': 3932, 'assignments': 3933, 'camaraderie': 3934, 'closeness': 3935, 'crawled': 3936, 'described': 3937, 'developed': 3938, 'discussed': 3939, 'envious': 3940, 'experiences': 3941, 'flood': 3942, 'happens': 3943, 'lighter': 3944, 'lowering': 3945, 'niche': 3946, 'perform': 3947, 'ranch': 3948, 'receded': 3949, 'respected': 3950, 'rider': 3951, 'sloshed': 3952, 'teacher': 3953, 'threaten': 3954, 'wear': 3955, 'Call': 3956, 'Hurry': 3957, 'ambulance': 3958, 'attacked': 3959, 'attacker': 3960, 'clutching': 3961, 'comfort': 3962, 'dove': 3963, 'downward': 3964, 'frustration': 3965, 'grudgingly': 3966, 'guess': 3967, 'injuries': 3968, 'internal': 3969, 'lift': 3970, 'ominous': 3971, 'pages': 3972, 'possible': 3973, 'slam': 3974, 'stumbled': 3975, 'tampered': 3976, 'Parts': 3977, 'Victorian': 3978, 'cottages': 3979, 'cozy': 3980, 'fireplaces': 3981, 'flooded': 3982, 'inviting': 3983, 'pass': 3984, 'Coordinator': 3985, 'Counseling': 3986, 'Director': 3987, 'Josh': 3988, 'hypnotized': 3989, 'observes': 3990, 'perpendicular': 3991, 'title': 3992, 'titles': 3993, 'uncertain': 3994, 'usual': 3995, 'workers': 3996, 'Claudia': 3997, 'N': 3998, 'Taxi': 3999, 'abruptness': 4000, 'accepts': 4001, 'anymore': 4002, 'apprehension': 4003, 'articles': 4004, 'awaken': 4005, 'blabs': 4006, 'bracelet': 4007, 'brings': 4008, 'catches': 4009, 'copter': 4010, 'costumes': 4011, 'fond': 4012, 'grimaces': 4013, 'innocence': 4014, 'jealousy': 4015, 'meany': 4016, 'mumble': 4017, 'mumbles': 4018, 'nostalgically': 4019, 'pause': 4020, 'pretends': 4021, 'ring': 4022, 'roses': 4023, 'snoring': 4024, 'stirs': 4025, 'strangle': 4026, 'tears': 4027, 'trinkets': 4028, 'troubles': 4029, 'twists': 4030, 'uncomfortable': 4031, 'valuable': 4032, 'weight': 4033, 'wet': 4034, 'winds': 4035, 'windy': 4036, 'Everybody': 4037, 'While': 4038, 'caressing': 4039, 'claimed': 4040, 'cushions': 4041, 'customers': 4042, 'desire': 4043, 'emotionally': 4044, 'fighters': 4045, 'finals': 4046, 'grasp': 4047, 'humorous': 4048, 'instructor': 4049, 'ironic': 4050, 'monologue': 4051, 'noisy': 4052, 'onstage': 4053, 'pillows': 4054, 'quiet': 4055, 'react': 4056, 'rehearsing': 4057, 'remove': 4058, 'removed': 4059, 'ruin': 4060, 'tavern': 4061, 'temporarily': 4062, 'tentatively': 4063, 'terms': 4064, 'uproar': 4065, 'Mitzy': 4066, 'Pedro': 4067, 'Shepherd': 4068, 'barred': 4069, 'dean': 4070, 'ignition': 4071, 'luncheon': 4072, 'petal': 4073, 'plead': 4074, 'safer': 4075, 'scramble': 4076, 'shreds': 4077, 'squished': 4078, 'tamed': 4079, 'vicious': 4080, 'Nixon': 4081, 'enthusiastically': 4082, 'feels': 4083, 'five': 4084, 'greet': 4085, 'hushed': 4086, 'imagine': 4087, 'island': 4088, 'reminiscing': 4089, 'sickies': 4090, 'Contamination': 4091, 'Feminists': 4092, 'Please': 4093, 'bars': 4094, 'confusing': 4095, 'cooling': 4096, 'displayed': 4097, 'financial': 4098, 'musical': 4099, 'news': 4100, 'object': 4101, 'questioning': 4102, 'radical': 4103, 'reaches': 4104, 'strike': 4105, 'tong': 4106, 'tongs': 4107, 'buttered': 4108, 'cost': 4109, 'gladly': 4110, 'ice': 4111, 'jeans': 4112, 'loping': 4113, 'rum': 4114, 'sugary': 4115, 'syrupy': 4116, '12': 4117, '40': 4118, '50': 4119, 'Egyptian': 4120, 'Resignation': 4121, 'Rizzo': 4122, 'appreciate': 4123, 'apron': 4124, 'attitude': 4125, 'baked': 4126, 'bread': 4127, 'breads': 4128, 'butter': 4129, 'c': 4130, 'cleverness': 4131, 'credit': 4132, 'dough': 4133, 'drunken': 4134, 'either': 4135, 'election': 4136, 'est': 4137, 'fair': 4138, 'feathery': 4139, 'fixing': 4140, 'freshly': 4141, 'herself': 4142, 'impressed': 4143, 'insist': 4144, 'interwoven': 4145, 'kneed': 4146, 'la': 4147, 'loaves': 4148, 'mutters': 4149, 'napkins': 4150, 'politely': 4151, 'pour': 4152, 'sell': 4153, 'silver': 4154, 'supervising': 4155, 'tangled': 4156, 'textured': 4157, 'transition': 4158, 'tray': 4159, 'tug': 4160, 'tunnels': 4161, 'unimpressed': 4162, 'vie': 4163, 'war': 4164, 'weave': 4165, 'Somewhere': 4166, 'puzzle': 4167, 'sporadically': 4168, 'Anyway': 4169, 'Arts': 4170, 'Directions': 4171, 'Greg': 4172, 'Let': 4173, 'P': 4174, 'Performing': 4175, 'Peter': 4176, 'Send': 4177, 'Turn': 4178, 'Valerie': 4179, 'Who': 4180, 'arts': 4181, 'astonishment': 4182, 'carved': 4183, 'connection': 4184, 'consciously': 4185, 'considered': 4186, 'discover': 4187, 'distress': 4188, 'earlier': 4189, 'elbows': 4190, 'grandma': 4191, 'ho': 4192, 'honorary': 4193, 'honored': 4194, 'invited': 4195, 'longer': 4196, 'loud': 4197, 'mail': 4198, 'officers': 4199, 'para': 4200, 'reach': 4201, 'resent': 4202, 'scars': 4203, 'sleeve': 4204, 'statements': 4205, 'statues': 4206, 'tub': 4207, 'unique': 4208, 'wanders': 4209, 'works': 4210, 'argument': 4211, 'awareness': 4212, 'dazzling': 4213, 'fireworks': 4214, 'prism': 4215, 'rapidly': 4216, 'sparkling': 4217, 'spews': 4218, 'tongue': 4219, 'unchecked': 4220, 'bull': 4221, 'carpet': 4222, 'coverings': 4223, 'linoleum': 4224, 'natured': 4225, 'padded': 4226, 'prudishness': 4227, 'apologizes': 4228, 'bandannas': 4229, 'disturb': 4230, 'drops': 4231, 'gospel': 4232, 'paws': 4233, 'replace': 4234, 'shine': 4235, 'simultaneously': 4236, 'singing': 4237, 'Jake': 4238, 'Persian': 4239, 'Work': 4240, 'Yerg': 4241, 'artistic': 4242, 'aspect': 4243, 'bald': 4244, 'bathtubs': 4245, 'bends': 4246, 'boyish': 4247, 'cabin': 4248, 'catalogue': 4249, 'chart': 4250, 'checking': 4251, 'convinces': 4252, 'crews': 4253, 'curly': 4254, 'faucets': 4255, 'follow': 4256, 'gray': 4257, 'grey': 4258, 'heavens': 4259, 'horoscope': 4260, 'hugs': 4261, 'mansion': 4262, 'massages': 4263, 'neighbor': 4264, 'observing': 4265, 'offended': 4266, 'ornate': 4267, 'pats': 4268, 'puberty': 4269, 'reluctant': 4270, 'shampoo': 4271, 'shampoos': 4272, 'snazzy': 4273, 'teen': 4274, 'teenage': 4275, 'tune': 4276, 'vibrationally': 4277, 'Ghost': 4278, 'Over': 4279, 'Riders': 4280, 'Sky': 4281, 'act': 4282, 'chubby': 4283, 'comments': 4284, 'hears': 4285, 'industry': 4286, 'infringing': 4287, 'knees': 4288, 'limit': 4289, 'lowest': 4290, 'patronizing': 4291, 'permanently': 4292, 'sets': 4293, 'sweaters': 4294, 'thinks': 4295, 'turtle': 4296, 'various': 4297, 'winter': 4298, 'Soon': 4299, 'abrupt': 4300, 'backstage': 4301, 'beneath': 4302, 'character': 4303, 'dirt': 4304, 'ends': 4305, 'except': 4306, 'footbridge': 4307, 'footing': 4308, 'gather': 4309, 'girlish': 4310, 'involve': 4311, 'john': 4312, 'maintain': 4313, 'moral': 4314, 'mustn': 4315, 'offer': 4316, 'opening': 4317, 'panicky': 4318, 'pelting': 4319, 'railing': 4320, 'retreating': 4321, 'rods': 4322, 'roommate': 4323, 'rose': 4324, 'searchingly': 4325, 'stands': 4326, 'suggestions': 4327, 'swaying': 4328, 'sweeping': 4329, 'theirs': 4330, 'thin': 4331, 'twisted': 4332, 'underneath': 4333, 'unison': 4334, 'wider': 4335, 'wind': 4336, 'zigzag': 4337, 'VR': 4338, 'capabilities': 4339, 'collision': 4340, 'creek': 4341, 'driven': 4342, 'driveway': 4343, 'garage': 4344, 'grape': 4345, 'obstinately': 4346, 'protected': 4347, 'rec': 4348, 'rehab': 4349, 'snow': 4350, 'startles': 4351, 'vines': 4352, 'vocational': 4353, 'Right': 4354, 'Saturday': 4355, 'acquainted': 4356, 'afternoon': 4357, 'borrow': 4358, 'borrowed': 4359, 'communicate': 4360, 'cooing': 4361, 'counseled': 4362, 'crafts': 4363, 'decking': 4364, 'drawers': 4365, 'encourage': 4366, 'exasperation': 4367, 'incorrectly': 4368, 'oriented': 4369, 'pad': 4370, 'purpose': 4371, 'ships': 4372, 'steak': 4373, 'steaks': 4374, 'talented': 4375, 'variety': 4376, 'zebras': 4377, 'Chubby': 4378, 'Nothing': 4379, 'absent': 4380, 'actress': 4381, 'attentively': 4382, 'clothed': 4383, 'coitus': 4384, 'counsel': 4385, 'drift': 4386, 'gradations': 4387, 'joins': 4388, 'mindedly': 4389, 'nakedness': 4390, 'partly': 4391, 'plastic': 4392, 'playfully': 4393, 'pretending': 4394, 'prudish': 4395, 'rollicking': 4396, 'serious': 4397, 'session': 4398, 'switch': 4399, 'switches': 4400, 'talent': 4401, 'tricky': 4402, 'versa': 4403, 'version': 4404, 'vice': 4405, 'weird': 4406, 'Forget': 4407, 'Roger': 4408, 'avalanches': 4409, 'movement': 4410, 'Brothers': 4411, 'Gee': 4412, 'Good': 4413, 'Housekeeping': 4414, 'Like': 4415, 'Next': 4416, 'adult': 4417, 'annoyance': 4418, 'assignment': 4419, 'attic': 4420, 'bragging': 4421, 'characters': 4422, 'checks': 4423, 'comedic': 4424, 'comedy': 4425, 'cradles': 4426, 'creativity': 4427, 'delivery': 4428, 'dispassionately': 4429, 'era': 4430, 'expand': 4431, 'frizzy': 4432, 'frowned': 4433, 'grimaced': 4434, 'impart': 4435, 'inflections': 4436, 'lesson': 4437, 'magazines': 4438, 'peeved': 4439, 'perspiration': 4440, 'project': 4441, 'psychology': 4442, 'ridiculousness': 4443, 'sash': 4444, 'sentence': 4445, 'skits': 4446, 'slipping': 4447, 'sociological': 4448, 'sociology': 4449, 'sweating': 4450, 'tighter': 4451, 'timing': 4452, 'tip': 4453, 'unlike': 4454, 'updated': 4455, 'Bo': 4456, 'Peep': 4457, 'barefoot': 4458, 'blown': 4459, 'brushes': 4460, 'bulb': 4461, 'bulbs': 4462, 'calf': 4463, 'chains': 4464, 'clips': 4465, 'dim': 4466, 'earrings': 4467, 'expecting': 4468, 'eyeshadow': 4469, 'feather': 4470, 'fixture': 4471, 'highliner': 4472, 'itchy': 4473, 'lightbulbs': 4474, 'mirror': 4475, 'overflowed': 4476, 'plug': 4477, 'scrub': 4478, 'smeared': 4479, 'soap': 4480, 'taped': 4481, 'unused': 4482, 'wash': 4483, '300': 4484, 'Also': 4485, 'Dickie': 4486, 'Go': 4487, 'Small': 4488, 'agreement': 4489, 'attacks': 4490, 'cake': 4491, 'diving': 4492, 'farewells': 4493, 'ft': 4494, 'glares': 4495, 'helmets': 4496, 'however': 4497, 'lollipops': 4498, 'patronized': 4499, 'sections': 4500, 'sexism': 4501, 'shark': 4502, 'suits': 4503, 'unwrap': 4504, 'Father': 4505, 'Lady': 4506, 'Oriental': 4507, 'analogy': 4508, 'anesthesiologist': 4509, 'camper': 4510, 'causing': 4511, 'comforting': 4512, 'crash': 4513, 'crawl': 4514, 'dad': 4515, 'defended': 4516, 'distressed': 4517, 'flight': 4518, 'grabbing': 4519, 'grasped': 4520, 'housetrailer': 4521, 'including': 4522, 'indignantly': 4523, 'landing': 4524, 'leaned': 4525, 'lonely': 4526, 'missing': 4527, 'paying': 4528, 'protests': 4529, 'sadly': 4530, 'scattered': 4531, 'scrambled': 4532, 'sheepish': 4533, 'sisters': 4534, 'sliding': 4535, 'stretch': 4536, 'suicide': 4537, 'truck': 4538, 'upside': 4539, 'violinist': 4540, 'violins': 4541, 'wheels': 4542, 'advertisement': 4543, 'backing': 4544, 'belongs': 4545, 'bikini': 4546, 'brochure': 4547, 'describes': 4548, 'gaily': 4549, 'holly': 4550, 'lame': 4551, 'parties': 4552, 'purposefully': 4553, 'sports': 4554, 'spray': 4555, 'wheel': 4556, 'winks': 4557, '7': 4558, 'John': 4559, 'Travolta': 4560, 'arrogant': 4561, 'aspects': 4562, 'authorization': 4563, 'bluffing': 4564, 'denotes': 4565, 'ducks': 4566, 'flirtation': 4567, 'hasty': 4568, 'largeness': 4569, 'security': 4570, 'stunts': 4571, 'trick': 4572, 'vouch': 4573, 'aims': 4574, 'arrow': 4575, 'asphalt': 4576, 'crossbow': 4577, 'curse': 4578, 'develop': 4579, 'disapproving': 4580, 'disdainfully': 4581, 'dropping': 4582, 'gloves': 4583, 'goodies': 4584, 'hip': 4585, 'inquisitive': 4586, 'jives': 4587, 'loads': 4588, 'luck': 4589, 'mostly': 4590, 'notices': 4591, 'offy': 4592, 'powered': 4593, 'presents': 4594, 'prowess': 4595, 'scat': 4596, 'shoots': 4597, 'speargun': 4598, 'spend': 4599, 'steal': 4600, 'stolen': 4601, 'swagger': 4602, 'value': 4603, 'woven': 4604, 'Gordon': 4605, 'Huge': 4606, 'angles': 4607, 'bleacher': 4608, 'bunny': 4609, 'calligraphy': 4610, 'carrying': 4611, 'cement': 4612, 'coat': 4613, 'concedes': 4614, 'fatherly': 4615, 'fur': 4616, 'gathering': 4617, 'glassed': 4618, 'hangs': 4619, 'hanky': 4620, 'helps': 4621, 'ink': 4622, 'jokes': 4623, 'lectures': 4624, 'may': 4625, 'mistress': 4626, 'neither': 4627, 'nestling': 4628, 'often': 4629, 'packages': 4630, 'paints': 4631, 'performing': 4632, 'placement': 4633, 'playboy': 4634, 'productions': 4635, 'realizes': 4636, 'scotch': 4637, 'soiled': 4638, 'talks': 4639, 'tape': 4640, 'tastes': 4641, 'technique': 4642, 'toxic': 4643, 'unless': 4644, 'wig': 4645, 'wigs': 4646, 'wonderful': 4647, 'Bye': 4648, 'advantage': 4649, 'borrowing': 4650, 'justified': 4651, 'miffed': 4652, 'polite': 4653, 'slept': 4654, 'wished': 4655, 'Aha': 4656, 'Ooh': 4657, 'Times': 4658, 'annoying': 4659, 'chalk': 4660, 'challenged': 4661, 'crossed': 4662, 'crosses': 4663, 'defeating': 4664, 'despairingly': 4665, 'distract': 4666, 'draw': 4667, 'encouraged': 4668, 'excitement': 4669, 'explains': 4670, 'foxes': 4671, 'irrelevantly': 4672, 'mark': 4673, 'marking': 4674, 'negative': 4675, 'negatively': 4676, 'observer': 4677, 'outline': 4678, 'outlook': 4679, 'piqued': 4680, 'rules': 4681, 'squiggly': 4682, 'tenseness': 4683, 'ties': 4684, 'wasting': 4685, 'yak': 4686, 'Gretchen': 4687, 'cell': 4688, 'cops': 4689, 'damp': 4690, 'faking': 4691, 'flaccid': 4692, 'groaning': 4693, 'groin': 4694, 'harass': 4695, 'heels': 4696, 'indignant': 4697, 'jacket': 4698, 'jewels': 4699, 'kindness': 4700, 'neighborhood': 4701, 'newsstand': 4702, 'nozzle': 4703, 'overcome': 4704, 'pencil': 4705, 'pin': 4706, 'pot': 4707, 'prison': 4708, 'public': 4709, 'sheepskin': 4710, 'slanted': 4711, 'steam': 4712, 'string': 4713, 'swift': 4714, 'taxi': 4715, 'uphill': 4716, 'warned': 4717, 'Bear': 4718, 'Nuke': 4719, 'Planes': 4720, 'Rockies': 4721, 'Russia': 4722, 'Russian': 4723, 'Russians': 4724, 'anti': 4725, 'cloud': 4726, 'deadly': 4727, 'duck': 4728, 'eggs': 4729, 'filtered': 4730, 'foggy': 4731, 'grounds': 4732, 'hungry': 4733, 'jets': 4734, 'masks': 4735, 'mingle': 4736, 'mushroom': 4737, 'powdered': 4738, 'radiation': 4739, 'resentful': 4740, 'sleeper': 4741, 'solders': 4742, 'strafe': 4743, 'sullen': 4744, 'tension': 4745, 'territory': 4746, 'wave': 4747, 'zigzagging': 4748, 'Grandpa': 4749, 'Lloyd': 4750, 'Marv': 4751, 'Millie': 4752, 'achy': 4753, 'ate': 4754, 'bandage': 4755, 'bicycle': 4756, 'calligraphied': 4757, 'deliberately': 4758, 'discovering': 4759, 'establishment': 4760, 'expose': 4761, 'flip': 4762, 'glared': 4763, 'gravy': 4764, 'hum': 4765, 'managed': 4766, 'nagged': 4767, 'nerves': 4768, 'openly': 4769, 'picnic': 4770, 'posters': 4771, 'potatoes': 4772, 'snickered': 4773, 'spoonful': 4774, 'sweetly': 4775, 'thumb': 4776, 'wrote': 4777, 'Ptomeny': 4778, 'lives': 4779, 'boats': 4780, 'button': 4781, 'cookies': 4782, 'debris': 4783, 'dials': 4784, 'dug': 4785, 'expanse': 4786, 'expect': 4787, 'flies': 4788, 'garbage': 4789, 'harbor': 4790, 'helm': 4791, 'lies': 4792, 'offers': 4793, 'parallel': 4794, 'shines': 4795, 'smoothly': 4796, 'sugar': 4797, 'uncaring': 4798, 'unhappy': 4799, 'whales': 4800, 'Entities': 4801, 'absorption': 4802, 'adults': 4803, 'cosmos': 4804, 'creatures': 4805, 'dies': 4806, 'exist': 4807, 'feathers': 4808, 'fluffy': 4809, 'hawk': 4810, 'humans': 4811, 'irate': 4812, 'lied': 4813, 'lurch': 4814, 'meld': 4815, 'pirate': 4816, 'planets': 4817, 'rounded': 4818, 'softened': 4819, 'soul': 4820, 'souls': 4821, 'transparent': 4822, 'tucked': 4823, 'wing': 4824, 'zipping': 4825, 'Dong': 4826, 'bows': 4827, 'envelope': 4828, 'golf': 4829, 'lettuce': 4830, 'burner': 4831, 'dirty': 4832, 'finding': 4833, 'furious': 4834, 'greasy': 4835, 'growls': 4836, 'knives': 4837, 'nearby': 4838, 'packed': 4839, 'peel': 4840, 'peeler': 4841, 'potato': 4842, 'runt': 4843, 'sharp': 4844, 'sneers': 4845, 'stove': 4846, 'yeah': 4847, 'Granny': 4848, 'Satan': 4849, 'entertain': 4850, 'killing': 4851, 'future': 4852, 'amongst': 4853, 'arrows': 4854, 'aunts': 4855, 'backpack': 4856, 'blindfold': 4857, 'china': 4858, 'creating': 4859, 'dotted': 4860, 'favorite': 4861, 'flannel': 4862, 'hopscotch': 4863, 'leading': 4864, 'learned': 4865, 'marks': 4866, 'nightgown': 4867, 'pee': 4868, 'plaid': 4869, 'playground': 4870, 'sauteed': 4871, 'squares': 4872, 'straw': 4873, 'switched': 4874, 'teapot': 4875, 'uncles': 4876, 'calls': 4877, 'owns': 4878, 'stray': 4879, 'course': 4880, 'leak': 4881, 'leaking': 4882, 'pouring': 4883, 'priority': 4884, 'steady': 4885, 'Beldon': 4886, 'Mr': 4887, 'President': 4888, 'Trixie': 4889, 'bell': 4890, 'blowing': 4891, 'briefcase': 4892, 'creature': 4893, 'hippopotamus': 4894, 'interview': 4895, 'interviewing': 4896, 'mob': 4897, 'outerspace': 4898, 'peeks': 4899, 'pets': 4900, 'plan': 4901, 'pound': 4902, 'pounds': 4903, 'reporter': 4904, 'reporters': 4905, 'scoop': 4906, 'spooks': 4907, 'thoughts': 4908, 'wiser': 4909, 'wives': 4910, 'Hon': 4911, 'Monday': 4912, 'admires': 4913, 'artery': 4914, 'continuous': 4915, 'coughing': 4916, 'curls': 4917, 'fainted': 4918, 'hon': 4919, 'motorcycle': 4920, 'partial': 4921, 'reason': 4922, 'saffron': 4923, 'seizure': 4924, 'soothing': 4925, 'teasing': 4926, 'weekend': 4927, 'wooded': 4928, 'wound': 4929, 'Chief': 4930, 'Ka': 4931, 'Resort': 4932, 'delicate': 4933, 'forth': 4934, 'heck': 4935, 'hounding': 4936, 'knit': 4937, 'mailbox': 4938, 'ne': 4939, 'pattern': 4940, 'sweater': 4941, 'ta': 4942, 'candle': 4943, 'caress': 4944, 'enjoyable': 4945, 'experience': 4946, 'initially': 4947, 'interruptions': 4948, 'lasts': 4949, 'sons': 4950, 'understands': 4951, 'amigo': 4952, 'cigarette': 4953, 'secure': 4954, 'typing': 4955, 'bear': 4956, 'lock': 4957, 'represents': 4958, 'bill': 4959, 'billed': 4960, 'bonnet': 4961, 'brim': 4962, 'bustle': 4963, 'caps': 4964, 'existence': 4965, 'hookey': 4966, 'lace': 4967, 'locker': 4968, 'platypus': 4969, 'puppets': 4970, 'squashed': 4971, 'stuffed': 4972, 'American': 4973, 'Basically': 4974, 'India': 4975, 'Ireland': 4976, 'Veronica': 4977, 'captain': 4978, 'draws': 4979, 'falsely': 4980, 'guns': 4981, 'indoors': 4982, 'kidnapped': 4983, 'lined': 4984, 'seethes': 4985, 'smears': 4986, 'stalling': 4987, 'symbols': 4988, 'trip': 4989, 'tube': 4990, 'unrest': 4991, 'wink': 4992, 'Brian': 4993, 'Scattered': 4994, 'Wayne': 4995, 'impressions': 4996, 'Corrine': 4997, 'Curtis': 4998, 'Nighthawks': 4999, 'Southern': 5000, 'Talk': 5001, 'aid': 5002, 'cassettes': 5003, 'gravity': 5004, 'harmonica': 5005, 'incriminating': 5006, 'simulate': 5007, 'suggests': 5008, 'swings': 5009, 'whomever': 5010, 'zero': 5011, '100': 5012, '500': 5013, 'Out': 5014, 'acid': 5015, 'bemoans': 5016, 'buying': 5017, 'clearer': 5018, 'covers': 5019, 'crew': 5020, 'economical': 5021, 'halloween': 5022, 'hydrochloric': 5023, 'lst': 5024, 'machines': 5025, 'mentions': 5026, 'multiply': 5027, 'pipes': 5028, 'poison': 5029, 'refuses': 5030, 'reimburse': 5031, 'shakes': 5032, 'sold': 5033, 'spiders': 5034, 'washers': 5035, 'zombie': 5036, 'Sharks': 5037, 'babysit': 5038, 'negotiate': 5039, 'antiques': 5040, 'gays': 5041, 'knock': 5042, 'latin': 5043, 'pianos': 5044, 'stumbles': 5045, 'Behind': 5046, 'Madrigals': 5047, 'Old': 5048, 'cups': 5049, 'quack': 5050, 'stiff': 5051, 'stretches': 5052, 'suction': 5053, 'supported': 5054, 'tassels': 5055, 'ungulates': 5056, 'withdrawn': 5057, 'Rolls': 5058, 'Royce': 5059, 'Sorry': 5060, 'babe': 5061, 'cassette': 5062, 'destroy': 5063, 'entourage': 5064, 'practiced': 5065, 'recordings': 5066, 'rewind': 5067, 'sneer': 5068, 'sneering': 5069, 'ten': 5070, 'puppet': 5071, 'sashay': 5072, 'witted': 5073, 'Jean': 5074, 'classiness': 5075, 'debt': 5076, 'designer': 5077, 'divorced': 5078, 'e': 5079, 'flabbergasted': 5080, 'i': 5081, 'identified': 5082, 'informal': 5083, 'placemats': 5084, 'shades': 5085, 'writer': 5086, 'carrot': 5087, 'carrots': 5088, 'cows': 5089, 'followers': 5090, 'herd': 5091, 'vegetables': 5092, 'dime': 5093, 'operate': 5094, 'plumes': 5095, 'pocket': 5096, 'quarter': 5097, 'ridicules': 5098, 'search': 5099, 'splashing': 5100, 'volcanoes': 5101, 'Sandy': 5102, 'Snatches': 5103, 'hypnosis': 5104, 'tattoo': 5105, 'vied': 5106, 'Hepburn': 5107, 'Katherine': 5108, 'chooses': 5109, 'flirt': 5110, 'pins': 5111, '105': 5112, '125': 5113, '20': 5114, 'August': 5115, 'July': 5116, 'attempted': 5117, 'channel': 5118, 'channels': 5119, 'digging': 5120, 'finance': 5121, 'flowed': 5122, 'monthly': 5123, 'payments': 5124, 'principle': 5125, 'reproduction': 5126, 'resistant': 5127, 'successfully': 5128, 'tasks': 5129, 'waded': 5130, 'SWOL': 5131, 'petting': 5132, 'Years': 5133, 'admiration': 5134, 'mutual': 5135, 'singer': 5136, 'society': 5137, 'team': 5138, 'Bowl': 5139, 'Super': 5140, 'agreeing': 5141, 'atmosphere': 5142, 'chastised': 5143, 'classified': 5144, 'clown': 5145, 'comet': 5146, 'intakes': 5147, 'lifesavers': 5148, 'practicum': 5149, 'root': 5150, 'rooted': 5151, 'significance': 5152, 'snobbish': 5153, 'suited': 5154, 'surgery': 5155, 'uncomfortableness': 5156, 'uppity': 5157, '18': 5158, 'band': 5159, 'cuddling': 5160, 'diagonally': 5161, 'entertaining': 5162, 'jug': 5163, 'kitty': 5164, 'milling': 5165, 'ornament': 5166, 'ornaments': 5167, 'piercing': 5168, 'purr': 5169, 'rhythm': 5170, 'signal': 5171, 'slot': 5172, 'soothes': 5173, 'spring': 5174, 'tag': 5175, 'tame': 5176, 'waits': 5177, 'wheeler': 5178, 'enclosed': 5179, 'suspected': 5180, 'Ph': 5181, 'appreciates': 5182, 'boots': 5183, 'build': 5184, 'camouflage': 5185, 'charm': 5186, 'compact': 5187, 'courage': 5188, 'criminal': 5189, 'crouch': 5190, 'denies': 5191, 'dolphin': 5192, 'flats': 5193, 'independent': 5194, 'items': 5195, 'oceans': 5196, 'opener': 5197, 'peep': 5198, 'recognize': 5199, 'reefs': 5200, 'senses': 5201, 'square': 5202, 'squeaks': 5203, 'straightened': 5204, 'survival': 5205, 'sweeps': 5206, 'trim': 5207, 'whale': 5208, 'wrinkled': 5209, '64': 5210, 'Keith': 5211, 'Penny': 5212, 'Wahoo': 5213, 'Wards': 5214, 'appliances': 5215, 'automobile': 5216, 'buys': 5217, 'christmas': 5218, 'disjointed': 5219, 'hollow': 5220, 'jumbled': 5221, 'prep': 5222, 'slippers': 5223, 'tuning': 5224, 'Lesbians': 5225, 'disgraced': 5226, 'terror': 5227, 'Becky': 5228, 'Elizabeth': 5229, 'Italian': 5230, 'Life': 5231, 'Taylor': 5232, 'Which': 5233, 'accident': 5234, 'article': 5235, 'boring': 5236, 'clenching': 5237, 'controlled': 5238, 'decals': 5239, 'discreetly': 5240, 'dumb': 5241, 'expressive': 5242, 'graffiti': 5243, 'insult': 5244, 'insulted': 5245, 'jerks': 5246, 'leads': 5247, 'magazine': 5248, 'narration': 5249, 'opera': 5250, 'plaques': 5251, 'producing': 5252, 'ricotta': 5253, 'rides': 5254, 'rod': 5255, 'route': 5256, 'rumpled': 5257, 'runaway': 5258, 'smart': 5259, 'sticking': 5260, 'terrier': 5261, 'unclenching': 5262, 'fifties': 5263, 'forties': 5264, 'parlor': 5265, 'silent': 5266, 'via': 5267, '60': 5268, 'Colleagues': 5269, 'Friends': 5270, 'May': 5271, 'aged': 5272, 'braveness': 5273, 'dialogue': 5274, 'harder': 5275, 'players': 5276, 'surfaces': 5277, 'barn': 5278, 'bladed': 5279, 'defend': 5280, 'dull': 5281, 'hay': 5282, 'hedge': 5283, 'inadequately': 5284, 'loft': 5285, 'manicured': 5286, 'mix': 5287, 'rickety': 5288, 'sassy': 5289, 'silliness': 5290, 'stays': 5291, 'teachers': 5292, 'zoo': 5293, 'Bulgaria': 5294, 'Greece': 5295, 'Greek': 5296, 'Greeks': 5297, 'grass': 5298, 'intrigued': 5299, 'national': 5300, 'price': 5301, 'remind': 5302, 'selling': 5303, 'tank': 5304, 'treads': 5305, 'truckers': 5306, 'unhurt': 5307, 'wares': 5308, 'wreathe': 5309, 'Jay': 5310, 'Papa': 5311, 'Tennessee': 5312, 'bug': 5313, 'jivin': 5314, 'vacation': 5315, 'Monnis': 5316, 'arrangements': 5317, 'assures': 5318, 'avoid': 5319, 'climbing': 5320, 'creeping': 5321, 'describe': 5322, 'fingers': 5323, 'poem': 5324, 'schooling': 5325, 'seminar': 5326, 'slant': 5327, 'slim': 5328, 'social': 5329, 'spy': 5330, 'traditional': 5331, 'typed': 5332, 'whimpery': 5333, 'Grandfather': 5334, 'begging': 5335, 'cruel': 5336, 'discovered': 5337, 'grandpa': 5338, 'hasn': 5339, 'insensitive': 5340, 'practically': 5341, 'sobbing': 5342, 'youth': 5343, 'bananas': 5344, 'collar': 5345, 'florescent': 5346, 'ham': 5347, 'maternity': 5348, 'peter': 5349, 'pleated': 5350, 'wires': 5351, 'Leif': 5352, 'PE': 5353, 'Virginia': 5354, 'besides': 5355, 'blinds': 5356, 'dollhouse': 5357, 'dryers': 5358, 'guiding': 5359, 'jogging': 5360, 'leans': 5361, 'offices': 5362, 'reassure': 5363, 'shorts': 5364, 'venetian': 5365, 'Burt': 5366, 'Francisco': 5367, 'Lancaster': 5368, 'San': 5369, 'U': 5370, 'cigarettes': 5371, 'disagreeable': 5372, 'disaster': 5373, 'kills': 5374, 'learns': 5375, 'lighting': 5376, 'overland': 5377, 'pudgy': 5378, 'sailing': 5379, 'saucy': 5380, 'sophisticated': 5381, 'squirrel': 5382, 'swoops': 5383, 'wimp': 5384, 'Germany': 5385, 'Imagine': 5386, 'Was': 5387, 'accessible': 5388, 'completely': 5389, 'das': 5390, 'discussing': 5391, 'embarrassing': 5392, 'ist': 5393, 'labor': 5394, 'promising': 5395, 'squat': 5396, 'subway': 5397, 'whisper': 5398, 'Harrison': 5399, 'Remember': 5400, 'arrests': 5401, 'boogie': 5402, 'budding': 5403, 'calmly': 5404, 'cocky': 5405, 'composite': 5406, 'cop': 5407, 'false': 5408, 'farmland': 5409, 'gal': 5410, 'jockey': 5411, 'meanders': 5412, 'pillowed': 5413, 'pinto': 5414, 'romance': 5415, 'simple': 5416, 'track': 5417, 'truth': 5418, 'wins': 5419, 'Inn': 5420, 'Keep': 5421, 'Through': 5422, 'Zach': 5423, 'architectural': 5424, 'banisters': 5425, 'barriers': 5426, 'belong': 5427, 'brocade': 5428, 'cubby': 5429, 'disagree': 5430, 'doll': 5431, 'equipment': 5432, 'exclaim': 5433, 'farming': 5434, 'hills': 5435, 'key': 5436, 'matured': 5437, 'pointing': 5438, 'purple': 5439, 'revealing': 5440, 'rows': 5441, 'shawl': 5442, 'socks': 5443, 'stored': 5444, 'vase': 5445, 'warehouse': 5446, 'Best': 5447, 'Knows': 5448, 'Tom': 5449, 'Yet': 5450, 'bands': 5451, 'bills': 5452, 'cheap': 5453, 'conscientious': 5454, 'coupons': 5455, 'ending': 5456, 'examine': 5457, 'harried': 5458, 'jewelry': 5459, 'l': 5460, 'loosing': 5461, 'meager': 5462, 'pinned': 5463, 'regret': 5464, 'rob': 5465, 'shells': 5466, 'sift': 5467, 'smaltzy': 5468, 'tedious': 5469, 'waving': 5470, '45': 5471, '90': 5472, 'Enquirer': 5473, 'La': 5474, 'National': 5475, 'Papers': 5476, 'Tribune': 5477, 'Zoe': 5478, 'angle': 5479, 'cents': 5480, 'champagne': 5481, 'coins': 5482, 'crutches': 5483, 'degrees': 5484, 'dimes': 5485, 'engines': 5486, 'expensive': 5487, 'fraud': 5488, 'lever': 5489, 'liner': 5490, 'liners': 5491, 'meal': 5492, 'newspapers': 5493, 'owe': 5494, 'pitch': 5495, 'plum': 5496, 'rocks': 5497, 'scow': 5498, 'shaped': 5499, 'surrounded': 5500, 'tipped': 5501, 'trash': 5502, 'trashy': 5503, 'y': 5504, 'Cat': 5505, 'Mrs': 5506, 'Muffin': 5507, 'clever': 5508, 'cleverly': 5509, 'forced': 5510, 'gathers': 5511, 'louder': 5512, 'sting': 5513, 'whip': 5514, 'bail': 5515, 'combing': 5516, 'consider': 5517, 'impulsively': 5518, 'incest': 5519, 'occurred': 5520, 'relations': 5521, 'Should': 5522, 'Up': 5523, 'electronics': 5524, 'leaning': 5525, 'parks': 5526, 'therefore': 5527, 'Anita': 5528, 'Jazz': 5529, 'Usually': 5530, 'basket': 5531, 'bass': 5532, 'bathtub': 5533, 'bothered': 5534, 'bowel': 5535, 'drain': 5536, 'fish': 5537, 'fold': 5538, 'french': 5539, 'fries': 5540, 'hippie': 5541, 'liven': 5542, 'marching': 5543, 'p': 5544, 'parade': 5545, 'pj': 5546, 'relaxing': 5547, 'reminds': 5548, 'shirts': 5549, 'soaking': 5550, 'thumping': 5551, 'towels': 5552, '66': 5553, 'Blvd': 5554, 'Centennial': 5555, 'Donald': 5556, 'Route': 5557, 'anouncement': 5558, 'bra': 5559, 'broom': 5560, 'creatively': 5561, 'differentiate': 5562, 'dramatic': 5563, 'genius': 5564, 'genus': 5565, 'hats': 5566, 'highly': 5567, 'ins': 5568, 'lamenting': 5569, 'species': 5570, 'technical': 5571, 'trace': 5572, 'tracing': 5573, 'tux': 5574, 'tuxedo': 5575, 'webbed': 5576, 'Repetitious': 5577, 'alligator': 5578, 'barefooted': 5579, 'dept': 5580, 'wakes': 5581, 'Probably': 5582, 'accidently': 5583, 'anywhere': 5584, 'authoritarian': 5585, 'boils': 5586, 'curious': 5587, 'dictates': 5588, 'dusty': 5589, 'faster': 5590, 'gasp': 5591, 'grumble': 5592, 'investigate': 5593, 'lantern': 5594, 'lighthouse': 5595, 'nonchalance': 5596, 'plate': 5597, 'plates': 5598, 'resentment': 5599, 'shame': 5600, 'spaghetti': 5601, 'temperamental': 5602, 'weekly': 5603, 'Eating': 5604, 'customer': 5605, 'eh': 5606, 'freeze': 5607, 'knuckle': 5608, 'newspaper': 5609, 'stalk': 5610, 'bladder': 5611, 'bud': 5612, 'buds': 5613, 'candles': 5614, 'flame': 5615, 'fragrance': 5616, 'grows': 5617, 'infection': 5618, 'lovers': 5619, 'medicine': 5620, 'needing': 5621, 'painful': 5622, 'pruned': 5623, 'regrow': 5624, 'rude': 5625, 'rushes': 5626, 'shorty': 5627, 'spaceship': 5628, 'Ashton': 5629, 'Japanese': 5630, 'assure': 5631, 'comply': 5632, 'hesitate': 5633, 'hops': 5634, 'sarcastic': 5635, 'station': 5636, 'Captain': 5637, 'James': 5638, 'Kirk': 5639, 'Ladies': 5640, 'Mayhem': 5641, 'Melmac': 5642, 'Society': 5643, 'account': 5644, 'admission': 5645, 'alternative': 5646, 'awkward': 5647, 'belligerently': 5648, 'boards': 5649, 'clutch': 5650, 'conceal': 5651, 'dishwasher': 5652, 'dissuade': 5653, 'dues': 5654, 'dumping': 5655, 'encouragement': 5656, 'highway': 5657, 'hiking': 5658, 'hitch': 5659, 'hop': 5660, 'incline': 5661, 'lane': 5662, 'lid': 5663, 'mayor': 5664, 'mounted': 5665, 'obviously': 5666, 'ordinance': 5667, 'ordinances': 5668, 'prudently': 5669, 'puzzles': 5670, 'rattle': 5671, 'shady': 5672, 'snort': 5673, 'stubbornly': 5674, 'suspects': 5675, 'tabs': 5676, 'ticket': 5677, 'urgency': 5678, 'wade': 5679, 'whimper': 5680, 'writes': 5681, '15': 5682, 'Camille': 5683, 'Woman': 5684, 'Wonder': 5685, 'acquaintance': 5686, 'alright': 5687, 'flap': 5688, 'flapping': 5689, 'gigantic': 5690, 'glaring': 5691, 'gliding': 5692, 'hips': 5693, 'housewife': 5694, 'loving': 5695, 'lure': 5696, 'nicer': 5697, 'platinum': 5698, 'prostitute': 5699, 'prostitutes': 5700, 'resort': 5701, 'separately': 5702, 'taught': 5703, 'trusting': 5704, 'unsure': 5705, 'updraft': 5706, 'wallets': 5707, 'altogether': 5708, 'assertive': 5709, 'Canada': 5710, 'pal': 5711, 'pen': 5712, 'disguise': 5713, 'duffle': 5714, 'masquerading': 5715, 'possessions': 5716, 'ruffians': 5717, 'saves': 5718, 'watchful': 5719, 'worldly': 5720, '400': 5721, 'award': 5722, 'awards': 5723, 'canes': 5724, 'chute': 5725, 'gasps': 5726, 'grants': 5727, 'interrupt': 5728, 'lesser': 5729, 'officials': 5730, 'tender': 5731, 'throws': 5732, 'unfolds': 5733, 'Same': 5734, 'accusations': 5735, 'accuses': 5736, 'growling': 5737, 'official': 5738, 'terrified': 5739, 'vampires': 5740, 'werewolves': 5741, '83': 5742, 'Be': 5743, 'Earlier': 5744, 'Make': 5745, 'October': 5746, 'activities': 5747, 'admiring': 5748, 'begin': 5749, 'behaving': 5750, 'brags': 5751, 'corridor': 5752, 'daily': 5753, 'deposit': 5754, 'destitute': 5755, 'especially': 5756, 'expenses': 5757, 'greets': 5758, 'grumpy': 5759, 'homo': 5760, 'inches': 5761, 'king': 5762, 'landlord': 5763, 'maintenance': 5764, 'maroon': 5765, 'masturbate': 5766, 'nighty': 5767, 'outdoor': 5768, 'pairs': 5769, 'period': 5770, 'pinball': 5771, 'shaken': 5772, 'sheepishly': 5773, 'shuffle': 5774, 'snapshot': 5775, 'stain': 5776, 'teenager': 5777, 'tenants': 5778, 'tilt': 5779, 'underwear': 5780, 'unpack': 5781, 'ward': 5782, 'wishes': 5783, 'worries': 5784, 'CanKar': 5785, 'XXXth': 5786, 'access': 5787, 'blessing': 5788, 'cardinal': 5789, 'gain': 5790, 'kneel': 5791, 'knob': 5792, 'pauses': 5793, 'pope': 5794, 'pray': 5795, 'seeming': 5796, 'shift': 5797, 'fuck': 5798, 'leaf': 5799, 'oddly': 5800, 'pronounce': 5801, 'stores': 5802, 'assuring': 5803, 'core': 5804, 'cores': 5805, 'escapes': 5806, 'flower': 5807, 'moist': 5808, 'narrating': 5809, 'repelled': 5810, 'tongues': 5811, '350': 5812, 'Maggie': 5813, 'Those': 5814, 'abbreviated': 5815, 'breaks': 5816, 'confirms': 5817, 'copies': 5818, 'dealing': 5819, 'devise': 5820, 'fee': 5821, 'flavor': 5822, 'fringe': 5823, 'glassware': 5824, 'grimace': 5825, 'grouchy': 5826, 'holders': 5827, 'idiot': 5828, 'knacks': 5829, 'knick': 5830, 'nods': 5831, 'persian': 5832, 'piles': 5833, 'pork': 5834, 'review': 5835, 'Caruso': 5836, 'Robinson': 5837, 'auction': 5838, 'dummy': 5839, 'film': 5840, 'incessantly': 5841, 'payment': 5842, 'puppeteers': 5843, 'removable': 5844, 'tantrum': 5845, 'tinge': 5846, '1930': 5847, '1940': 5848, 'Nevertheless': 5849, 'baskets': 5850, 'bond': 5851, 'brides': 5852, 'continues': 5853, 'crotch': 5854, 'exclaims': 5855, 'funnel': 5856, 'glisten': 5857, 'kerosene': 5858, 'lamps': 5859, 'odd': 5860, 'pants': 5861, 'pattie': 5862, 'photographs': 5863, 'seven': 5864, 'shush': 5865, 'sizes': 5866, 'veils': 5867, 'Serves': 5868, 'Tricks': 5869, 'attempt': 5870, 'bathing': 5871, 'carnival': 5872, 'clawing': 5873, 'convenient': 5874, 'em': 5875, 'fixes': 5876, 'overtones': 5877, 'patio': 5878, 'scales': 5879, 'tigers': 5880, 'topa': 5881, 'topaz': 5882, 'wander': 5883, 'Parents': 5884, 'Arvonne': 5885, 'Mobil': 5886, 'Station': 5887, 'Veneta': 5888, 'Wish': 5889, 'alcohol': 5890, 'barbed': 5891, 'basketball': 5892, 'beams': 5893, 'cans': 5894, 'caution': 5895, 'content': 5896, 'crackers': 5897, 'deter': 5898, 'disapprovingly': 5899, 'dollar': 5900, 'federal': 5901, 'fills': 5902, 'fluid': 5903, 'gasoline': 5904, 'grungy': 5905, 'kicks': 5906, 'laser': 5907, 'lethal': 5908, 'lug': 5909, 'misses': 5910, 'offering': 5911, 'ours': 5912, 'realizing': 5913, 'rebels': 5914, 'spin': 5915, 'steering': 5916, 'tanks': 5917, 'unauthorized': 5918, 'woodsy': 5919, 'worth': 5920, '19': 5921, 'Dover': 5922, 'add': 5923, 'anguished': 5924, 'basset': 5925, 'begins': 5926, 'bored': 5927, 'bounces': 5928, 'bristles': 5929, 'cares': 5930, 'compartments': 5931, 'crawls': 5932, 'creative': 5933, 'eastern': 5934, 'financially': 5935, 'hamper': 5936, 'horn': 5937, 'hound': 5938, 'instrument': 5939, 'ivory': 5940, 'jar': 5941, 'manage': 5942, 'miniatures': 5943, 'peanuts': 5944, 'petals': 5945, 'photographer': 5946, 'potholders': 5947, 'registrar': 5948, 'scratched': 5949, 'sickly': 5950, 'squats': 5951, 'whose': 5952, 'Col': 5953, 'Eggs': 5954, 'Genesis': 5955, 'Johanna': 5956, 'Matt': 5957, 'Reagan': 5958, 'Ronald': 5959, 'Washington': 5960, 'claims': 5961, 'notorious': 5962, 'ponytail': 5963, 'six': 5964, 'slithering': 5965, 'west': 5966, 'western': 5967, 'yolk': 5968, 'adding': 5969, 'bagger': 5970, 'cash': 5971, 'forms': 5972, 'groceries': 5973, 'malfunctioning': 5974, 'rings': 5975, 'Princess': 5976, 'affected': 5977, 'affects': 5978, 'blouse': 5979, 'overweight': 5980, 'queazy': 5981, 'crossroad': 5982, 'flinch': 5983, 'honks': 5984, 'intersection': 5985, 'lance': 5986, 'polluted': 5987, 'ramps': 5988, 'rusty': 5989, 'sickie': 5990, 'soothe': 5991, 'vehicles': 5992, 'Our': 5993, 'apt': 5994, 'God': 5995, 'apologizing': 5996, 'backward': 5997, 'eyebrow': 5998, 'judgement': 5999, 'pent': 6000, 'placating': 6001, 'reflected': 6002, 'smudging': 6003, 'snarl': 6004, 'tunnel': 6005, 'witheringly': 6006, 'Africa': 6007, 'Alice': 6008, 'Jedi': 6009, 'Seconds': 6010, 'Wonderland': 6011, 'armor': 6012, 'battle': 6013, 'changing': 6014, 'encountering': 6015, 'engagement': 6016, 'fields': 6017, 'firing': 6018, 'forlorn': 6019, 'frame': 6020, 'gaggle': 6021, 'guards': 6022, 'history': 6023, 'impact': 6024, 'knights': 6025, 'outsider': 6026, 'prince': 6027, 'ragged': 6028, 'scarf': 6029, 'shining': 6030, 'soldiers': 6031, 'somersault': 6032, 'squad': 6033, 'tower': 6034, 'voices': 6035, 'warriors': 6036, 'apple': 6037, 'apples': 6038, 'cabbage': 6039, 'cole': 6040, 'fruits': 6041, 'slaw': 6042, 'swanky': 6043, 'grave': 6044, 'melting': 6045, 'documented': 6046, 'extra': 6047, 'reports': 6048, 'share': 6049, 'sighs': 6050, 'tons': 6051, 'upon': 6052, 'vandals': 6053, 'waver': 6054, 'boutonniere': 6055, 'buffet': 6056, 'corsage': 6057, 'dishing': 6058, 'frosty': 6059, 'heeled': 6060, 'obvious': 6061, 'pardon': 6062, 'reservations': 6063, 'rosebud': 6064, 'sneaks': 6065, 'sometime': 6066, 'tiptoes': 6067, 'tooth': 6068, 'vacancy': 6069, 'duet': 6070, 'somebody': 6071, 'theatre': 6072, 'abandoning': 6073, 'capsule': 6074, 'confusion': 6075, 'crude': 6076, 'depth': 6077, 'depths': 6078, 'error': 6079, 'finishing': 6080, 'gap': 6081, 'joys': 6082, 'miles': 6083, 'mime': 6084, 'objectively': 6085, 'protects': 6086, 'recreate': 6087, 'spoiling': 6088, 'straightening': 6089, 'structures': 6090, 'vast': 6091, 'weakly': 6092, 'Andrew': 6093, 'British': 6094, 'Finn': 6095, 'Liberace': 6096, 'Sylvester': 6097, 'Together': 6098, 'chained': 6099, 'dragged': 6100, 'encased': 6101, 'hides': 6102, 'loaf': 6103, 'navel': 6104, 'perfume': 6105, 'pies': 6106, 'poster': 6107, 'precision': 6108, 'prisoner': 6109, 'raspberries': 6110, 'slice': 6111, 'steals': 6112, 'wheat': 6113, 'Of': 6114, 'complicated': 6115, 'contraceptives': 6116, 'express': 6117, 'forgive': 6118, 'reject': 6119, 'responds': 6120, 'meatballs': 6121, 'nibbles': 6122, 'rotting': 6123, 'sour': 6124, 'Rachel': 6125, 'akin': 6126, 'alphabet': 6127, 'boyfriend': 6128, 'cling': 6129, 'converse': 6130, 'deformed': 6131, 'disabilities': 6132, 'frustrating': 6133, 'harassing': 6134, 'ignorant': 6135, 'lifeguard': 6136, 'limping': 6137, 'muffs': 6138, 'nonetheless': 6139, 'painstakingly': 6140, 'rolling': 6141, 'scold': 6142, 'screening': 6143, 'shout': 6144, 'shuts': 6145, 'spell': 6146, 'spelling': 6147, 'wading': 6148, 'Smoke': 6149, 'logs': 6150, 'nearing': 6151, 'rescue': 6152, 'sawdust': 6153, 'awfulness': 6154, 'county': 6155, 'crashes': 6156, 'crazies': 6157, 'explodes': 6158, 'flashlight': 6159, 'grope': 6160, 'headboard': 6161, 'isolated': 6162, 'moan': 6163, 'sinister': 6164, 'swarming': 6165, 'witnessing': 6166, 'zombies': 6167, 'Simon': 6168, 'Wherever': 6169, 'boxer': 6170, 'clients': 6171, 'downy': 6172, 'longingly': 6173, 'misunderstand': 6174, 'periods': 6175, 'placate': 6176, 'blouses': 6177, 'translucent': 6178, 'relate': 6179, 'commit': 6180, 'emotion': 6181, 'marriages': 6182, 'African': 6183, 'Elvis': 6184, 'Fix': 6185, 'Loop': 6186, 'Memphis': 6187, 'Presley': 6188, 'With': 6189, 'bridges': 6190, 'convertible': 6191, 'effortlessly': 6192, 'events': 6193, 'fluttering': 6194, 'fully': 6195, 'monuments': 6196, 'perfect': 6197, 'scrapbooks': 6198, 'stillness': 6199, 'stirring': 6200, 'thousands': 6201, 'tuck': 6202, 'widen': 6203, 'Knock': 6204, 'Rematch': 6205, 'admire': 6206, 'caravan': 6207, 'commiserates': 6208, 'doctored': 6209, 'easily': 6210, 'encouraging': 6211, 'exploited': 6212, 'gooey': 6213, 'honey': 6214, 'inept': 6215, 'instant': 6216, 'potty': 6217, 'punishment': 6218, 'remodeling': 6219, 'replay': 6220, 'serve': 6221, 'standard': 6222, 'tennis': 6223, 'toothbrush': 6224, 'trainer': 6225, 'unfair': 6226, 'recollections': 6227, 'Damn': 6228, 'Woo': 6229, 'below': 6230, 'brain': 6231, 'ferry': 6232, 'map': 6233, 'rushing': 6234, 'spiral': 6235, 'spirals': 6236, 'Lenny': 6237, 'Vera': 6238, 'actors': 6239, 'actresses': 6240, 'adlibbing': 6241, 'agonizingly': 6242, 'applaud': 6243, 'applauding': 6244, 'asides': 6245, 'decorations': 6246, 'disappoint': 6247, 'exercising': 6248, 'gulps': 6249, 'murder': 6250, 'poisonous': 6251, 'scenery': 6252, 'scenes': 6253, 'seated': 6254, 'tropical': 6255, 'curling': 6256, 'exquisite': 6257, 'heightens': 6258, 'stages': 6259, 'tenderness': 6260, 'tentative': 6261, 'Gus': 6262, 'Mary': 6263, 'angel': 6264, 'angels': 6265, 'anguish': 6266, 'bearded': 6267, 'beards': 6268, 'cathedral': 6269, 'daughters': 6270, 'erupt': 6271, 'figures': 6272, 'insistently': 6273, 'rails': 6274, 'religious': 6275, 'sorrow': 6276, 'sorrowfully': 6277, 'statue': 6278, 'unaware': 6279, 'volcano': 6280, 'yacht': 6281, 'KLU': 6282, 'alike': 6283, 'celebrate': 6284, 'east': 6285, 'erase': 6286, 'forthcoming': 6287, 'frowns': 6288, 'prettier': 6289, 'shatters': 6290, 'soaked': 6291, 'Disney': 6292, 'Ronnie': 6293, 'Walt': 6294, 'anybody': 6295, 'becomes': 6296, 'careening': 6297, 'exit': 6298, 'merge': 6299, 'oncoming': 6300, 'skill': 6301, 'turbulent': 6302, 'Architecture': 6303, 'Ec': 6304, 'Julian': 6305, 'Mark': 6306, 'Too': 6307, 'agriculture': 6308, 'blazer': 6309, 'curve': 6310, 'drums': 6311, 'fences': 6312, 'gargoyles': 6313, 'iron': 6314, 'knobby': 6315, 'lions': 6316, 'noon': 6317, 'rheumatoid': 6318, 'scrap': 6319, 'families': 6320, 'foreigner': 6321, 'hike': 6322, 'hunt': 6323, 'indicates': 6324, 'jerk': 6325, 'carton': 6326, 'cigars': 6327, 'novelty': 6328, 'tips': 6329, 'tide': 6330, 'Lock': 6331, 'Run': 6332, 'Sometime': 6333, 'Thanks': 6334, 'avail': 6335, 'boxcar': 6336, 'cap': 6337, 'careen': 6338, 'fumbling': 6339, 'hazardous': 6340, 'incredibly': 6341, 'rapists': 6342, 'recorder': 6343, 'sarcastically': 6344, 'shove': 6345, 'skids': 6346, 'snowy': 6347, 'strewn': 6348, 'tussle': 6349, 'chalkboard': 6350, 'Kotex': 6351, 'Pat': 6352, 'complement': 6353, 'menstrual': 6354, 'misnamed': 6355, 'mistaken': 6356, 'owl': 6357, 'pursues': 6358, 'quail': 6359, 'scurries': 6360, 'scurry': 6361, 'sword': 6362, 'swordfish': 6363, 'winged': 6364, 'Holland': 6365, 'border': 6366, 'cooed': 6367, 'represented': 6368, 'royal': 6369, 'searched': 6370, 'separation': 6371, 'tolerated': 6372, 'tulips': 6373, 'arriving': 6374, 'improperly': 6375, 'aglow': 6376, 'arrange': 6377, 'bookcases': 6378, 'chorus': 6379, 'church': 6380, 'criticizers': 6381, 'dating': 6382, 'differently': 6383, 'flamingo': 6384, 'flamingos': 6385, 'multi': 6386, 'pew': 6387, 'reception': 6388, 'squeezed': 6389, 'talkers': 6390, 'creamy': 6391, 'instructs': 6392, 'log': 6393, 'loom': 6394, 'ol': 6395, 'removes': 6396, 'Afghan': 6397, 'RA': 6398, 'Section': 6399, 'bully': 6400, 'challenges': 6401, 'cider': 6402, 'jog': 6403, 'juice': 6404, 'muscle': 6405, 'practicing': 6406, 'pump': 6407, 'reusable': 6408, 'rocking': 6409, 'teaspoons': 6410, 'unit': 6411, 'pantry': 6412, '6th': 6413, 'Could': 6414, 'Listen': 6415, 'assertively': 6416, 'bedspread': 6417, 'extended': 6418, 'fucker': 6419, 'gravely': 6420, 'heavily': 6421, 'honest': 6422, 'mildew': 6423, 'pigeon': 6424, 'practices': 6425, 'rains': 6426, 'sixth': 6427, 'unavailable': 6428, 'veil': 6429, 'waterproof': 6430, 'wool': 6431, '10th': 6432, '1981': 6433, 'Mom': 6434, 'avoids': 6435, 'century': 6436, 'electricity': 6437, 'static': 6438, 'succeed': 6439, 'swish': 6440, 'tolerate': 6441, 'Jesus': 6442, 'Reproductive': 6443, 'Sunday': 6444, 'naturedly': 6445, 'reproductive': 6446, 'system': 6447, 'whispers': 6448, 'Kool': 6449, 'Larry': 6450, 'assistance': 6451, 'pitcher': 6452, 'trumpets': 6453, 'whiny': 6454, '41': 6455, 'admit': 6456, 'convey': 6457, 'Bernard': 6458, 'St': 6459, 'protective': 6460, 'Balloons': 6461, 'affectionately': 6462, 'balloon': 6463, 'balloons': 6464, 'buoyed': 6465, 'combined': 6466, 'condoms': 6467, 'consultation': 6468, 'crossword': 6469, 'darlings': 6470, 'demonstrate': 6471, 'design': 6472, 'displays': 6473, 'indented': 6474, 'invented': 6475, 'jigsaw': 6476, 'moor': 6477, 'plans': 6478, 'pregnancy': 6479, 'prevent': 6480, 'robust': 6481, 'sturdy': 6482, 'trailer': 6483, 'upright': 6484, 'Cheshire': 6485, 'Guess': 6486, 'Late': 6487, 'Shut': 6488, 'Them': 6489, 'Toole': 6490, 'artist': 6491, 'assists': 6492, 'balling': 6493, 'berate': 6494, 'bumps': 6495, 'cancer': 6496, 'chances': 6497, 'clutches': 6498, 'comic': 6499, 'con': 6500, 'corset': 6501, 'cot': 6502, 'cries': 6503, 'demonstration': 6504, 'dismay': 6505, 'edges': 6506, 'exam': 6507, 'fairy': 6508, 'gains': 6509, 'girdle': 6510, 'greenish': 6511, 'hilly': 6512, 'insensitivity': 6513, 'layers': 6514, 'nostalgia': 6515, 'palpates': 6516, 'passes': 6517, 'pinches': 6518, 'relationships': 6519, 'shivering': 6520, 'specific': 6521, 'terminal': 6522, 'undressing': 6523, 'bringing': 6524, 'chatting': 6525, 'coiled': 6526, 'grunts': 6527, 'ordained': 6528, 'predicted': 6529, 'recording': 6530, 'suspiciously': 6531, 'syllable': 6532, 'adoption': 6533, 'agency': 6534, 'amphetamines': 6535, 'antagonism': 6536, 'antihistamines': 6537, 'baseball': 6538, 'cheerful': 6539, 'distorts': 6540, 'inspect': 6541, 'locks': 6542, 'reads': 6543, 'rejected': 6544, 'risk': 6545, 'spoiled': 6546, 'tolerant': 6547, 'wealthy': 6548, 'Elephants': 6549, 'Philippines': 6550, 'awnings': 6551, 'boisterous': 6552, 'chide': 6553, 'circus': 6554, 'coach': 6555, 'cultural': 6556, 'danced': 6557, 'elaborate': 6558, 'elephant': 6559, 'embarrassment': 6560, 'finale': 6561, 'flash': 6562, 'flirts': 6563, 'flubs': 6564, 'forgets': 6565, 'fuse': 6566, 'guise': 6567, 'inferior': 6568, 'military': 6569, 'philippine': 6570, 'phillipine': 6571, 'phillippine': 6572, 'racial': 6573, 'reaching': 6574, 'stiltedly': 6575, 'sunning': 6576, 'tent': 6577, 'unflattering': 6578, 'villain': 6579, 'wraps': 6580, 'Black': 6581, 'Bus': 6582, 'Henry': 6583, 'Sam': 6584, 'Written': 6585, 'accused': 6586, 'blackboard': 6587, 'calculator': 6588, 'career': 6589, 'compliment': 6590, 'folds': 6591, 'happily': 6592, 'industriously': 6593, 'planning': 6594, 'reader': 6595, 'slots': 6596, 'studying': 6597, 'unsupervised': 6598, 'weeks': 6599, 'wrongfully': 6600, 'Uni': 6601, 'rises': 6602, 'Cosby': 6603, 'announcer': 6604, 'convinced': 6605, 'holder': 6606, 'limb': 6607, 'microphone': 6608, 'permit': 6609, 'thump': 6610, 'tweaks': 6611, 'unseen': 6612, 'Betty': 6613, 'mature': 6614, 'realistic': 6615, 'Fallen': 6616, 'Safety': 6617, 'choosing': 6618, 'deserted': 6619, 'noise': 6620, 'pushes': 6621, 'Alone': 6622, 'California': 6623, 'Image': 6624, 'Thirstiness': 6625, 'gauze': 6626, 'patch': 6627, 'pride': 6628, 'stubbornness': 6629, 'thigh': 6630, 'unwind': 6631, 'upper': 6632, 'weaving': 6633, 'wounded': 6634, 'Jungian': 6635, 'chats': 6636, 'Tammy': 6637, 'H': 6638, 'Today': 6639, 'Tuesday': 6640, 'ailing': 6641, 'blithely': 6642, 'compulsively': 6643, 'disapproval': 6644, 'drones': 6645, 'foam': 6646, 'itself': 6647, 'lateness': 6648, 'mechanically': 6649, 'presides': 6650, 'prim': 6651, 'tar': 6652, 'tarrer': 6653, 'typewriter': 6654, 'Hang': 6655, 'Hershey': 6656, 'Issack': 6657, 'folk': 6658, 'necklace': 6659, 'performers': 6660, 'sessions': 6661, 'sings': 6662, 'spearmint': 6663, 'Cousin': 6664, 'Goodbye': 6665, 'NYC': 6666, 'Returns': 6667, 'Terano': 6668, 'Wallton': 6669, 'afford': 6670, 'amuck': 6671, 'casually': 6672, 'headline': 6673, 'negotiated': 6674, 'notion': 6675, 'outbursts': 6676, 'releasing': 6677, 'ripped': 6678, 'spells': 6679, 'stunned': 6680, '92': 6681, 'Art': 6682, 'Brook': 6683, 'Brown': 6684, 'Licks': 6685, 'Page': 6686, 'Pepper': 6687, 'Sally': 6688, 'Saunders': 6689, 'amateurs': 6690, 'arrogantly': 6691, 'assistant': 6692, 'baiting': 6693, 'baits': 6694, 'carries': 6695, 'confidently': 6696, 'dares': 6697, 'directors': 6698, 'egging': 6699, 'eloquent': 6700, 'finishes': 6701, 'fist': 6702, 'frankly': 6703, 'grinning': 6704, 'hopefuls': 6705, 'lack': 6706, 'memorized': 6707, 'page': 6708, 'preparedness': 6709, 'rate': 6710, 'sides': 6711, 'spelled': 6712, 'superior': 6713, 'trap': 6714, 'cheese': 6715, 'sighted': 6716, 'simplistic': 6717, 'handwriting': 6718, 'reminded': 6719, 'true': 6720, 'Navy': 6721, 'cheating': 6722, 'meets': 6723, 'suspicions': 6724, 'unfairness': 6725, '48': 6726, 'Alabama': 6727, 'acreage': 6728, 'expansion': 6729, 'gallons': 6730, 'mere': 6731, 'mobil': 6732, 'premises': 6733, 'prove': 6734, 'shooter': 6735, 'weeds': 6736, 'Cats': 6737, 'appease': 6738, 'appetite': 6739, 'aroused': 6740, 'hardened': 6741, 'leaps': 6742, 'rubs': 6743, 'J': 6744, 'beginner': 6745, 'bothers': 6746, 'costs': 6747, 'diaphragm': 6748, 'dual': 6749, 'lets': 6750, 'paired': 6751, 'puff': 6752, 'radioactive': 6753, 'respects': 6754, 'ski': 6755, 'skiing': 6756, 'Max': 6757, 'Store': 6758, 'Tigger': 6759, 'cameras': 6760, 'event': 6761, 'farewell': 6762, 'fronts': 6763, 'newer': 6764, 'newsletter': 6765, 'tiger': 6766, 'tomorrow': 6767, 'verge': 6768, 'photographic': 6769, 'rage': 6770, 'retrieved': 6771, 'shallower': 6772, 'corridors': 6773, 'delayed': 6774, 'envy': 6775, 'hotels': 6776, 'hurriedly': 6777, 'lifted': 6778, 'salt': 6779, 'shaker': 6780, 'abundance': 6781, 'breakfast': 6782, 'insulate': 6783, 'poach': 6784, 'racks': 6785, 'Somebody': 6786, 'Juliet': 6787, 'Kendell': 6788, 'announces': 6789, 'apply': 6790, 'glue': 6791, 'readjust': 6792, 'reprovingly': 6793, 'asses': 6794, 'disappears': 6795, 'guru': 6796, 'magic': 6797, 'meditate': 6798, 'safely': 6799, 'Mexican': 6800, 'cattle': 6801, 'ova': 6802, 'requested': 6803, 'scrota': 6804, 'stealing': 6805, 'stupid': 6806, 'abilities': 6807, 'disoriented': 6808, 'impressive': 6809, 'industrious': 6810, 'issues': 6811, 'maternal': 6812, 'primly': 6813, 'respond': 6814, 'standoffish': 6815, 'beard': 6816, 'bye': 6817, 'linger': 6818, 'Disgusting': 6819, 'Woody': 6820, 'inspiration': 6821, 'Louisiana': 6822, 'balks': 6823, 'hikers': 6824, 'malaria': 6825, 'talkative': 6826, 'Dixie': 6827, 'Relatives': 6828, 'Seymour': 6829, 'Sony': 6830, 'bolt': 6831, 'brushing': 6832, 'elements': 6833, 'fantasy': 6834, 'fawn': 6835, 'heater': 6836, 'heating': 6837, 'locking': 6838, 'mouse': 6839, 'portion': 6840, 'puddles': 6841, 'records': 6842, 'retarded': 6843, 'sheer': 6844, 'sized': 6845, 'treasure': 6846, 'actual': 6847, 'nurture': 6848, 'penetration': 6849, 'raped': 6850, 'receive': 6851, 'sixteen': 6852, 'technically': 6853, '61': 6854, 'Comet': 6855, 'bounds': 6856, 'lanes': 6857, 'pops': 6858, 'pumped': 6859, 'rear': 6860, 'repair': 6861, 'repulse': 6862, 'skid': 6863, 'slug': 6864, 'spare': 6865, 'steer': 6866, 'wagging': 6867, 'console': 6868, 'contorted': 6869, 'despise': 6870, 'guest': 6871, 'speaker': 6872, 'combo': 6873, 'container': 6874, 'flour': 6875, 'foods': 6876, 'freezer': 6877, 'furnace': 6878, 'happiness': 6879, 'measuring': 6880, 'pans': 6881, 'pilot': 6882, 'pots': 6883, 'refrigerator': 6884, 'slices': 6885, 'spooning': 6886, 'spoons': 6887, 'Church': 6888, 'Methodist': 6889, 'United': 6890, 'cupboards': 6891, 'feed': 6892, 'shouting': 6893, 'Mort': 6894, 'frustrations': 6895, 'rapport': 6896, 'Lilly': 6897, 'Much': 6898, 'Ocean': 6899, 'Pacific': 6900, 'South': 6901, 'Tilla': 6902, 'oblong': 6903, 'purchased': 6904, 'ranges': 6905, 'reclaimed': 6906, 'bouquet': 6907, 'bullet': 6908, 'caliber': 6909, 'cooks': 6910, 'eaten': 6911, 'illegal': 6912, 'invest': 6913, 'potent': 6914, 'revolver': 6915, 'serving': 6916, 'sniffs': 6917, 'Helens': 6918, 'Mt': 6919, 'approaching': 6920, 'awesome': 6921, 'bottles': 6922, 'puffs': 6923, 'mysterious': 6924, 'printed': 6925, 'Beth': 6926, 'Cleveland': 6927, 'Road': 6928, 'Wilbur': 6929, 'forgotten': 6930, 'junction': 6931, 'twitches': 6932, 'twitching': 6933, 'contrite': 6934, 'imp': 6935, 'magician': 6936, 'mischievous': 6937, 'partition': 6938, 'wavering': 6939, 'Clauses': 6940, 'Santa': 6941, 'Santas': 6942, 'almonds': 6943, 'carols': 6944, 'contemplating': 6945, 'crossroads': 6946, 'filberts': 6947, 'firemen': 6948, 'salad': 6949, 'starvation': 6950, 'supper': 6951, 'unbuttoned': 6952, 'walnuts': 6953, 'From': 6954, 'Roll': 6955, 'clears': 6956, 'flops': 6957, 'opportunities': 6958, 'perfectly': 6959, 'scratch': 6960, 'Aspirin': 6961, 'Therese': 6962, 'Wright': 6963, 'caffeine': 6964, 'grinds': 6965, 'Creepy': 6966, 'crabs': 6967, 'crawly': 6968, 'directs': 6969, 'elderly': 6970, 'fascinating': 6971, 'monsters': 6972, 'movies': 6973, 'nutrition': 6974, 'subjects': 6975, 'supermen': 6976, '15th': 6977, 'birthdays': 6978, 'formed': 6979, 'knitted': 6980, 'melon': 6981, 'privy': 6982, 'remarkable': 6983, 'crochet': 6984, 'hooks': 6985, 'loosely': 6986, 'needles': 6987, 'darker': 6988, 'enviously': 6989, 'eyelid': 6990, 'honk': 6991, 'impatiently': 6992, 'littered': 6993, 'messages': 6994, 'reorganize': 6995, 'sells': 6996, 'thief': 6997, 'unorganized': 6998, '330': 6999, '339': 7000, 'Bay': 7001, 'Gate': 7002, 'Golden': 7003, 'beads': 7004, 'designs': 7005, 'hairpin': 7006, 'incorrect': 7007, 'numbered': 7008, 'numbering': 7009, 'profit': 7010, 'unbent': 7011, 'diaries': 7012, 'journals': 7013, 'trusted': 7014, 'unattended': 7015, 'Main': 7016, 'Street': 7017, 'bounce': 7018, 'ceremonies': 7019, 'common': 7020, 'frequent': 7021, 'literally': 7022, 'signals': 7023, 'swear': 7024, '28': 7025, 'Bergman': 7026, 'Bond': 7027, 'Cary': 7028, 'Does': 7029, 'Frank': 7030, 'Grant': 7031, 'Ingrid': 7032, 'Sinatra': 7033, 'casual': 7034, 'chuckle': 7035, 'clarity': 7036, 'fits': 7037, 'links': 7038, 'lounge': 7039, 'naivete': 7040, 'napkin': 7041, 'nephew': 7042, 'suppose': 7043, 'suspect': 7044, 'unconscious': 7045, 'visual': 7046, 'within': 7047, 'Divine': 7048, 'Grace': 7049, 'Mexico': 7050, 'Red': 7051, 'Silly': 7052, 'acts': 7053, 'allows': 7054, 'ceremonial': 7055, 'choking': 7056, 'crowds': 7057, 'deliriously': 7058, 'disapproves': 7059, 'ferrets': 7060, 'genitals': 7061, 'mindedness': 7062, 'mushy': 7063, 'paternally': 7064, 'pursuing': 7065, 'randomly': 7066, 'snacks': 7067, 'sucked': 7068, 'Morgan': 7069, 'status': 7070, 'adorable': 7071, 'cocker': 7072, 'compelled': 7073, 'cuddle': 7074, 'deck': 7075, 'frisking': 7076, 'grandparents': 7077, 'meditative': 7078, 'responsibility': 7079, 'sights': 7080, 'spaniel': 7081, 'thud': 7082, 'bereft': 7083, 'desperation': 7084, 'lunges': 7085, 'miracle': 7086, 'reunited': 7087, 'announce': 7088, 'reconciliation': 7089, 'typical': 7090, 'Bermuda': 7091, 'Marriage': 7092, 'Role': 7093, 'Side': 7094, 'Stereotypes': 7095, 'environment': 7096, 'groan': 7097, 'veggie': 7098, 'Clyde': 7099, 'Gleason': 7100, 'Hook': 7101, 'Jackie': 7102, 'bike': 7103, 'comedian': 7104, 'poet': 7105, 'stepdad': 7106, 'swampland': 7107, 'sync': 7108, 'ticking': 7109, 'worst': 7110, 'zap': 7111, 'zone': 7112, 'Rigo': 7113, 'Vivian': 7114, 'attract': 7115, 'briefly': 7116, 'feedback': 7117, 'request': 7118, 'snowed': 7119, 'hesitant': 7120, 'returned': 7121, 'syrup': 7122, 'vent': 7123, 'Cadillac': 7124, 'boardwalk': 7125, 'chauffeur': 7126, 'glances': 7127, 'independence': 7128, 'limousine': 7129, 'meaningful': 7130, 'overcrowded': 7131, 'pees': 7132, 'preserve': 7133, 'quad': 7134, 'soo': 7135, 'southern': 7136, 'wars': 7137, 'biological': 7138, 'faint': 7139, 'hardens': 7140, 'prints': 7141, 'smoothing': 7142, 'Rabbit': 7143, 'fisheye': 7144, 'skinned': 7145, 'II': 7146, 'WW': 7147, 'beast': 7148, 'chronicle': 7149, 'courtesan': 7150, 'egocentricity': 7151, 'hairy': 7152, 'nun': 7153, 'rapid': 7154, 'spirituality': 7155, 'spiritually': 7156, 'believes': 7157, 'chase': 7158, 'frames': 7159, 'Hordes': 7160, 'defending': 7161, 'diamonds': 7162, 'propellers': 7163, 'riches': 7164, 'skilled': 7165, 'sugarless': 7166, 'triangle': 7167, 'canaries': 7168, 'fantasizing': 7169, 'poop': 7170, 'release': 7171, 'actions': 7172, 'adventure': 7173, 'adventurous': 7174, 'dismissing': 7175, 'equal': 7176, 'former': 7177, 'introspective': 7178, 'inwardly': 7179, 'tremendous': 7180, 'upsurge': 7181, 'Follies': 7182, 'June': 7183, 'nurses': 7184, 'sandwich': 7185, 'volunteers': 7186, 'zip': 7187, 'brutally': 7188, 'entry': 7189, 'forceful': 7190, 'manipulate': 7191, 'rapes': 7192, 'viciously': 7193, 'brigade': 7194, 'bucket': 7195, 'pus': 7196, 'putrid': 7197, 'volunteer': 7198, 'Act': 7199, 'tap': 7200, 'affection': 7201, 'attendant': 7202, 'desperately': 7203, 'improvements': 7204, 'miraculous': 7205, 'quit': 7206, 'reassuring': 7207, 'threatens': 7208, 'whom': 7209, 'Columbine': 7210, 'berry': 7211, 'coloring': 7212, 'highlights': 7213, 'tumbling': 7214, 'Fine': 7215, 'bankrupt': 7216, 'princess': 7217, 'salesman': 7218, 'seduction': 7219, 'visualize': 7220, 'Baby': 7221, 'Bacall': 7222, 'Bogart': 7223, 'Humphrey': 7224, 'Lauren': 7225, 'coincidental': 7226, 'fate': 7227, 'Jan': 7228, 'Summer': 7229, 'WWI': 7230, 'barnstorming': 7231, 'bi': 7232, 'cooperate': 7233, 'crystals': 7234, 'daring': 7235, 'dives': 7236, 'egocentric': 7237, 'elevated': 7238, 'fascinated': 7239, 'opinion': 7240, 'sunrise': 7241, 'tourist': 7242, 'jiver': 7243, 'jiving': 7244, 'promise': 7245, 'thoroughly': 7246, 'beliefs': 7247, 'crystal': 7248, 'penny': 7249, 'positive': 7250, 'postage': 7251, 'Leonard': 7252, 'Nimoy': 7253, 'Unless': 7254, 'clamps': 7255, 'embrace': 7256, 'painfully': 7257, 'pop': 7258, 'renaissance': 7259, 'shrinks': 7260, 'wedged': 7261, 'Irish': 7262, 'fisherman': 7263, 'Nanny': 7264, 'acknowledge': 7265, 'anchor': 7266, 'barricading': 7267, 'beckons': 7268, 'belatedly': 7269, 'comforted': 7270, 'corrodes': 7271, 'disappear': 7272, 'eroded': 7273, 'exposed': 7274, 'frenetic': 7275, 'invasion': 7276, 'nanny': 7277, 'resist': 7278, 'rigidly': 7279, 'robot': 7280, 'snatchers': 7281, 'swirl': 7282, 'symbol': 7283, 'weaker': 7284, 'wounds': 7285, 'Michael': 7286, 'rubbed': 7287, 'shyly': 7288, 'framed': 7289, 'overalls': 7290, 'frowning': 7291, 'raises': 7292, 'yawns': 7293, '1956': 7294, 'Blue': 7295, 'Britannica': 7296, 'Clear': 7297, 'Encyclopedias': 7298, 'Hector': 7299, 'Judy': 7300, 'Preston': 7301, 'coded': 7302, 'corrected': 7303, 'feminine': 7304, 'franks': 7305, 'gowns': 7306, 'greens': 7307, 'inherited': 7308, 'lessons': 7309, 'nighties': 7310, 'paintbrushes': 7311, 'quarrel': 7312, 'repetitions': 7313, 'returns': 7314, 'sexiest': 7315, 'silverware': 7316, 'workshop': 7317, 'War': 7318, 'ceremony': 7319, 'combed': 7320, 'dancer': 7321, 'emotionless': 7322, 'haughty': 7323, 'honor': 7324, 'performs': 7325, 'rank': 7326, 'wise': 7327, 'crusty': 7328, 'pours': 7329, 'soak': 7330, 'bruise': 7331, 'penguins': 7332, 'escort': 7333, 'hovers': 7334, 'launching': 7335, 'lumber': 7336, 'moon': 7337, 'rectangular': 7338, 'safest': 7339, 'successful': 7340, 'Corinne': 7341, 'crumpled': 7342, 'jabbering': 7343, 'oars': 7344, 'prettily': 7345, 'Europe': 7346, 'Wednesday': 7347, 'absolutely': 7348, 'blows': 7349, 'dragon': 7350, 'dragons': 7351, 'horns': 7352, 'littlest': 7353, 'shadows': 7354, 'shapes': 7355, 'sleeps': 7356, 'teddy': 7357, 'Thursday': 7358, 'lover': 7359, 'sake': 7360, 'accepting': 7361, 'kitties': 7362, 'listing': 7363, 'projects': 7364, 'aliens': 7365, 'garbled': 7366, 'paddle': 7367, 'Dolores': 7368, 'attendance': 7369, 'panicked': 7370, 'snap': 7371, 'songs': 7372, 'unpreparedness': 7373, 'ups': 7374, 'Tu': 7375, 'en': 7376, 'esta': 7377, 'nariz': 7378, 'presses': 7379, 'touches': 7380, 'ventana': 7381, 'RE': 7382, 'defeat': 7383, 'grudge': 7384, 'leap': 7385, 'license': 7386, 'memorize': 7387, 'minor': 7388, 'nick': 7389, 'premonition': 7390, 'prime': 7391, 'Friday': 7392, 'vacationing': 7393, 'Aren': 7394, 'Beethoven': 7395, 'Bruce': 7396, 'duo': 7397, 'exercises': 7398, 'favorably': 7399, 'pupil': 7400, 'Dana': 7401, 'base': 7402, 'bible': 7403, 'carting': 7404, 'cunningness': 7405, 'curvy': 7406, 'distort': 7407, 'embarrassedly': 7408, 'flaunting': 7409, 'hitter': 7410, 'legally': 7411, 'macho': 7412, 'pity': 7413, 'struts': 7414, 'visually': 7415, 'withered': 7416, 'convention': 7417, 'costly': 7418, 'distasteful': 7419, 'pesos': 7420, 'purchase': 7421, 'satisfied': 7422, 'scrawny': 7423, 'similar': 7424, 'styles': 7425, 'Tomas': 7426, 'Across': 7427, 'developing': 7428, 'ecstatic': 7429, 'meticulous': 7430, 'prices': 7431, 'sends': 7432, 'slumps': 7433, 'Use': 7434, 'dare': 7435, 'gimpy': 7436, 'glacier': 7437, 'papa': 7438, 'skirts': 7439, 'weighing': 7440, 'Star': 7441, 'barrack': 7442, 'crumbles': 7443, 'endurance': 7444, 'patrolling': 7445, 'rarified': 7446, 'stadium': 7447, 'tack': 7448, 'troops': 7449, 'unbeknownst': 7450, 'wary': 7451, 'weakens': 7452, 'wheeled': 7453, 'flirting': 7454, 'passionately': 7455, 'bargain': 7456, 'hates': 7457, 'hostile': 7458, 'Quit': 7459, 'depressed': 7460, 'manipulative': 7461, 'towards': 7462, 'beginners': 7463, 'expertise': 7464, 'gallop': 7465, 'galloping': 7466, 'grateful': 7467, 'horseback': 7468, 'poorly': 7469, 'races': 7470, 'rub': 7471, 'constantly': 7472, 'garters': 7473, 'nylons': 7474, 'stamps': 7475, 'winner': 7476, 'yards': 7477, 'Reynolds': 7478, 'communication': 7479, 'bulky': 7480, 'fail': 7481, 'Holes': 7482, 'aforementioned': 7483, 'appearing': 7484, 'blade': 7485, 'chin': 7486, 'disgust': 7487, 'flimsy': 7488, 'mar': 7489, 'rail': 7490, 'razor': 7491, 'razors': 7492, 'siren': 7493, 'splashes': 7494, 'timidly': 7495, '1961': 7496, 'Budweiser': 7497, 'Harry': 7498, 'Jen': 7499, 'Norman': 7500, 'Whoa': 7501, 'cartons': 7502, 'claws': 7503, 'embraced': 7504, 'enlisted': 7505, 'equally': 7506, 'formalities': 7507, 'fridge': 7508, 'gratefully': 7509, 'lingering': 7510, 'meanly': 7511, 'meowed': 7512, 'navy': 7513, 'packs': 7514, 'potentially': 7515, 'Death': 7516, 'sexuality': 7517, 'capability': 7518, 'combat': 7519, 'crumple': 7520, 'drifts': 7521, 'herbal': 7522, 'million': 7523, 'ray': 7524, 'reflect': 7525, 'surprises': 7526, 'wallet': 7527, 'warn': 7528, 'wondrous': 7529, 'x': 7530, 'Doug': 7531, 'intent': 7532, 'kosher': 7533, 'soldier': 7534, 'visible': 7535, '119': 7536, '27': 7537, 'Pasale': 7538, 'balcony': 7539, 'footprints': 7540, 'informally': 7541, 'le': 7542, 'mal': 7543, 'nursing': 7544, 'shoo': 7545, 'speeding': 7546, 'te': 7547, 'Marti': 7548, 'characterization': 7549, 'chew': 7550, 'contempt': 7551, 'frowny': 7552, 'makers': 7553, 'mechanic': 7554, 'regal': 7555, 'scheduled': 7556, 'bulges': 7557, 'copper': 7558, 'occasionally': 7559, 'slimmer': 7560, 'slinky': 7561, 'temporary': 7562, 'turquoise': 7563, 'cloths': 7564, 'contented': 7565, 'escaping': 7566, 'globe': 7567, 'gooily': 7568, 'inn': 7569, 'potential': 7570, 'purrs': 7571, 'undertone': 7572, 'worms': 7573, 'wriggling': 7574, 'yucky': 7575, 'hint': 7576, 'merger': 7577, 'merging': 7578, 'overtone': 7579, 'permitted': 7580, 'propped': 7581, 'resisting': 7582, 'sore': 7583, 'uteruses': 7584, 'Linda': 7585, 'Davis': 7586, 'assured': 7587, 'femininity': 7588, 'study': 7589, 'Jerome': 7590, 'Joe': 7591, 'automatically': 7592, 'confines': 7593, 'dragging': 7594, 'dramatically': 7595, 'healthy': 7596, 'insists': 7597, 'locations': 7598, 'pressures': 7599, 'snicker': 7600, 'stiffen': 7601, 'suckers': 7602, 'suggesting': 7603, 'sympathy': 7604, 'weekends': 7605, 'whether': 7606, 'airplanes': 7607, 'blond': 7608, 'debutante': 7609, 'guardian': 7610, 'liquids': 7611, 'throne': 7612, 'Rescue': 7613, 'blanks': 7614, 'cooped': 7615, 'execute': 7616, 'fog': 7617, 'generated': 7618, 'hammer': 7619, 'hostages': 7620, 'marches': 7621, 'mourn': 7622, 'mutants': 7623, 'nuked': 7624, 'prisoners': 7625, 'resolved': 7626, 'teams': 7627, 'unnerved': 7628, 'blushing': 7629, 'j': 7630, 'puffy': 7631, 'pupils': 7632, 'doubt': 7633, 'sickness': 7634, 'success': 7635, 'convince': 7636, 'nervousness': 7637, 'zaps': 7638, 'chinese': 7639, 'diapered': 7640, 'duplicate': 7641, 'twin': 7642, 'Brenda': 7643, 'Jock': 7644, 'bid': 7645, 'clubs': 7646, 'comb': 7647, 'hearts': 7648, 'recount': 7649, 'Paris': 7650, 'fangs': 7651, 'heap': 7652, 'sucking': 7653, 'Young': 7654, 'rubber': 7655, '24': 7656, 'artificial': 7657, 'derringer': 7658, 'fairly': 7659, 'government': 7660, 'karat': 7661, 'mission': 7662, 'neutral': 7663, 'occupied': 7664, 'pistols': 7665, 'pizza': 7666, 'racing': 7667, 'slows': 7668, 'spurts': 7669, 'torn': 7670, 'turf': 7671, 'cartoon': 7672, 'disarray': 7673, 'flipping': 7674, 'lob': 7675, 'revives': 7676, 'rugged': 7677, 'smashed': 7678, 'thirst': 7679, 'Bandstand': 7680, 'Course': 7681, 'Education': 7682, 'Straights': 7683, 'Without': 7684, 'accurate': 7685, 'banister': 7686, 'bouncy': 7687, 'challenging': 7688, 'constraint': 7689, 'courses': 7690, 'education': 7691, 'indeed': 7692, 'major': 7693, 'majors': 7694, 'matched': 7695, 'obstacle': 7696, 'ought': 7697, 'outlines': 7698, 'photos': 7699, 'racer': 7700, 'racers': 7701, 'radiantly': 7702, 'skip': 7703, 'spontaneously': 7704, 'straights': 7705, 'strongly': 7706, 'theme': 7707, 'toughest': 7708, 'appetizing': 7709, 'beans': 7710, 'forbiddance': 7711, 'nutritious': 7712, 'poignant': 7713, 'shadowed': 7714, 'trailmix': 7715, 'twinge': 7716, 'bodied': 7717, 'depression': 7718, 'gentleness': 7719, 'gestured': 7720, 'Orville': 7721, 'frying': 7722, 'maid': 7723, 'mushrooms': 7724, 'sauteing': 7725, 'scrubbing': 7726, 'Louisville': 7727, 'doctorate': 7728, 'hitchhike': 7729, 'luggage': 7730, 'paleontologist': 7731, 'thermos': 7732, 'comin': 7733, 'harmony': 7734, 'impressing': 7735, 'jazzy': 7736, 'phrases': 7737, 'rival': 7738, 'romantic': 7739, 'seam': 7740, 'vest': 7741, 'partners': 7742, 'perplexed': 7743, 'proposes': 7744, 'refusing': 7745, 'housework': 7746, 'Ave': 7747, 'Royal': 7748, 'alleys': 7749, 'drippy': 7750, 'lovemaking': 7751, 'snows': 7752, 'faith': 7753, 'follower': 7754, 'heal': 7755, 'healer': 7756, 'intensity': 7757, 'mesmerized': 7758, 'preacher': 7759, 'starched': 7760, 'testing': 7761, 'weep': 7762, 'Board': 7763, 'Directors': 7764, 'arguing': 7765, 'clump': 7766, 'clumps': 7767, 'damaged': 7768, 'fan': 7769, 'hungrily': 7770, 'improvise': 7771, 'oval': 7772, 'syringe': 7773, 'temperature': 7774, 'boulders': 7775, 'echo': 7776, 'messing': 7777, 'clogged': 7778, 'coats': 7779, 'drugs': 7780, 'facts': 7781, 'misunderstood': 7782, 'Perhaps': 7783, 'humor': 7784, 'introduced': 7785, 'principal': 7786, 'scoffing': 7787, 'undertrunks': 7788, 'Hints': 7789, 'announcers': 7790, 'fewer': 7791, 'generosity': 7792, 'jeers': 7793, 'massive': 7794, 'miscalculate': 7795, 'pedestrians': 7796, 'staged': 7797, 'swoop': 7798, 'video': 7799, '150': 7800, 'firm': 7801, 'interferes': 7802, 'proceeds': 7803, 'suggestively': 7804, 'waiter': 7805, 'waitress': 7806, 'wiggles': 7807, 'lords': 7808, 'Beach': 7809, 'bakery': 7810, 'darkens': 7811, 'donuts': 7812, 'lightens': 7813, 'ownership': 7814, 'retrace': 7815, 'sailboat': 7816, 'Aliens': 7817, 'succumbs': 7818, 'Really': 7819, 'crock': 7820, 'daffodils': 7821, 'knowledgeable': 7822, 'mussed': 7823, 'nail': 7824, 'pounded': 7825, 'cramped': 7826, 'pastures': 7827, 'harmless': 7828, 'novice': 7829, 'tickles': 7830, 'exhibit': 7831, 'folders': 7832, 'research': 7833, 'roaring': 7834, 'vocabulary': 7835, 'cavernous': 7836, 'publish': 7837, 'Nah': 7838, 'arctic': 7839, 'daises': 7840, 'flare': 7841, 'fuel': 7842, 'gear': 7843, 'jackets': 7844, 'licked': 7845, 'rescuer': 7846, 'stupidly': 7847, 'trailed': 7848, 'unfreeze': 7849, 'warmed': 7850, 'Sheep': 7851, 'crow': 7852, 'electrical': 7853, 'enhances': 7854, 'extremely': 7855, 'flock': 7856, 'grain': 7857, 'graze': 7858, 'harvested': 7859, 'lightning': 7860, 'phenomenon': 7861, 'powers': 7862, 'pretties': 7863, 'produce': 7864, 'raven': 7865, 'saps': 7866, 'spared': 7867, 'stack': 7868, 'tiring': 7869, 'Ordinary': 7870, 'attire': 7871, 'beasties': 7872, 'capture': 7873, 'cluttered': 7874, 'curlers': 7875, 'denim': 7876, 'floozy': 7877, 'gay': 7878, 'greeny': 7879, 'linen': 7880, 'shavers': 7881, 'shutters': 7882, 'signalling': 7883, 'sill': 7884, 'soaps': 7885, 'crocheted': 7886, 'redo': 7887, 'tattered': 7888, 'turtleneck': 7889, 'unders': 7890, 'undo': 7891, 'Cline': 7892, 'column': 7893, 'faculty': 7894, '0000': 7895, 'ballad': 7896, 'contributed': 7897, 'gorgeous': 7898, 'governor': 7899, 'income': 7900, 'recreation': 7901, 'taxes': 7902, 'tisk': 7903, 'Certainly': 7904, 'Slow': 7905, 'alley': 7906, 'belongings': 7907, 'downhill': 7908, 'emptying': 7909, 'reverses': 7910, 'sunglasses': 7911, 'bearings': 7912, 'ended': 7913, 'faltered': 7914, 'unfinished': 7915, 'salads': 7916, 'cater': 7917, 'cheaply': 7918, 'congratulate': 7919, 'droop': 7920, 'erect': 7921, 'interfering': 7922, 'naughty': 7923, 'swims': 7924, 'Arabic': 7925, 'breaker': 7926, 'circuit': 7927, 'update': 7928, 'zapped': 7929, 'Thank': 7930, 'Whenever': 7931, 'arranged': 7932, 'electrocuted': 7933, 'showers': 7934, 'Judd': 7935, 'Oklahoma': 7936, 'sung': 7937, 'wicked': 7938, 'booties': 7939, 'automatic': 7940, 'diesel': 7941, 'runway': 7942, 'tricked': 7943, 'village': 7944, '145': 7945, 'consciousness': 7946, 'loses': 7947, 'mines': 7948, 'regains': 7949, 'snappy': 7950, 'Alix': 7951, 'Olgn': 7952, 'dollars': 7953, 'gilt': 7954, 'pains': 7955, 'vases': 7956, 'Everywhere': 7957, 'orgy': 7958, 'compatible': 7959, 'trot': 7960, 'Fred': 7961, 'abnormal': 7962, 'babysitter': 7963, 'definitely': 7964, 'weaved': 7965, 'Roberto': 7966, 'Senora': 7967, 'awfully': 7968, 'guesses': 7969, 'insecure': 7970, 'permanent': 7971, 'thrift': 7972, 'coated': 7973, 'materials': 7974, 'rivers': 7975, 'soup': 7976, 'Brett': 7977, 'applauds': 7978, 'beyond': 7979, 'capacities': 7980, 'falter': 7981, 'forgetting': 7982, 'nursery': 7983, 'rhyme': 7984, 'scripts': 7985, 'sidelines': 7986, 'bargains': 7987, 'cheek': 7988, 'freezes': 7989, 'icing': 7990, 'mittens': 7991, 'sprays': 7992, 'Birds': 7993, 'applause': 7994, 'clapping': 7995, 'crops': 7996, 'remain': 7997, 'responding': 7998, 'spooky': 7999, '14th': 8000, 'commitments': 8001, 'flee': 8002, 'modest': 8003, 'tat': 8004, 'thoughtlessly': 8005, 'troupe': 8006, 'International': 8007, 'North': 8008, 'Thumb': 8009, 'bluff': 8010, 'buddy': 8011, 'castle': 8012, 'reload': 8013, 'untie': 8014, 'violently': 8015, 'Shea': 8016, 'scooting': 8017, 'teens': 8018, 'pasting': 8019, 'receiving': 8020, 'requires': 8021, 'beaded': 8022, 'clumped': 8023, 'drum': 8024, 'necklaces': 8025, 'snare': 8026, 'Fortunately': 8027, 'Professor': 8028, 'Survival': 8029, 'chatter': 8030, 'crappy': 8031, 'dynamics': 8032, 'echoes': 8033, 'murdered': 8034, 'pole': 8035, 'pompous': 8036, 'professor': 8037, 'shown': 8038, 'survivors': 8039, 'whines': 8040, 'Rather': 8041, 'Time': 8042, 'alligators': 8043, 'behavior': 8044, 'chaotic': 8045, 'dismiss': 8046, 'manageable': 8047, 'tax': 8048, 'taxis': 8049, 'blended': 8050, 'chip': 8051, 'collect': 8052, 'compare': 8053, 'donate': 8054, 'fruit': 8055, 'hah': 8056, 'midget': 8057, 'piteously': 8058, 'rent': 8059, 'shamed': 8060, 'exhilaration': 8061, 'freeing': 8062, 'West': 8063, 'Eric': 8064, 'envelopes': 8065, 'facilitator': 8066, 'bedtime': 8067, 'mashed': 8068, 'peas': 8069, 'quarters': 8070, 'ribs': 8071, 'togetherness': 8072, 'Guards': 8073, 'Iceland': 8074, 'cardboards': 8075, 'Coughing': 8076, 'mist': 8077, 'pellet': 8078, 'rabbits': 8079, 'Johnny': 8080, 'Springdale': 8081, 'Springfield': 8082, 'Unhippie': 8083, 'cuidad': 8084, 'lament': 8085, 'moustache': 8086, 'paralleling': 8087, 'rhinestones': 8088, 'enters': 8089, 'surge': 8090, 'surging': 8091, 'aiming': 8092, 'displeased': 8093, 'squirts': 8094, 'stole': 8095, 'Superman': 8096, 'dormitories': 8097, 'god': 8098, 'meetings': 8099, 'primitive': 8100, 'religion': 8101, 'swarm': 8102, 'temple': 8103, 'tribal': 8104, 'spraying': 8105, 'squirting': 8106, 'Half': 8107, 'commercial': 8108, 'lemon': 8109, 'mermaid': 8110, 'quarrels': 8111, 'strokes': 8112, 'Department': 8113, 'Motor': 8114, 'Vehicles': 8115, 'elbow': 8116, 'fined': 8117, 'hangers': 8118, 'meter': 8119, 'sober': 8120, 'towed': 8121, 'trading': 8122, 'warmly': 8123, 'Deirdre': 8124, 'dip': 8125, 'frantically': 8126, 'hideous': 8127, 'invent': 8128, 'natural': 8129, 'paw': 8130, 'pliers': 8131, 'polyester': 8132, 'scatter': 8133, 'sheep': 8134, 'wells': 8135, 'Er': 8136, 'Erro': 8137, 'Rick': 8138, 'bookcase': 8139, 'da': 8140, 'examples': 8141, 'puns': 8142, 'rick': 8143, 'shifts': 8144, 'vacuums': 8145, 'function': 8146, 'improvisational': 8147, 'rehearsed': 8148, 'JoAnne': 8149, 'concerto': 8150, 'disguised': 8151, 'intermission': 8152, 'leaders': 8153, 'melts': 8154, 'rays': 8155, 'recognizes': 8156, 'speck': 8157, 'trance': 8158, 'Mostly': 8159, 'amiss': 8160, 'corrosive': 8161, 'misunderstanding': 8162, 'plaza': 8163, 'slosh': 8164, 'unbalanced': 8165, 'East': 8166, 'Hooray': 8167, 'announcing': 8168, 'goal': 8169, 'fraternity': 8170, 'biology': 8171, 'stares': 8172, 'violent': 8173, 'bears': 8174, 'sacks': 8175, 'Mirabelle': 8176, 'advise': 8177, 'puddle': 8178, 'transforms': 8179, 'drags': 8180, 'lice': 8181, 'urine': 8182, 'Doctor': 8183, 'drama': 8184, 'harp': 8185, 'swifter': 8186, 'Du': 8187, 'Milland': 8188, 'Ray': 8189, 'backup': 8190, 'bist': 8191, 'elite': 8192, 'muy': 8193, 'runners': 8194, 'uncoordinated': 8195, 'defense': 8196, 'dreadful': 8197, 'kites': 8198, 'ream': 8199, 'stab': 8200, 'gatekeeper': 8201, 'palmed': 8202, 'carcass': 8203, 'decaying': 8204, 'intention': 8205, '101': 8206, 'argues': 8207, 'bottled': 8208, 'gardening': 8209, 'mediator': 8210, 'pickles': 8211, 'Mondale': 8212, 'reaction': 8213, 'rocky': 8214, 'smarter': 8215, 'speeches': 8216, 'Pourter': 8217, 'administrative': 8218, 'advertised': 8219, 'brusque': 8220, 'chords': 8221, 'cigar': 8222, 'contemptuous': 8223, 'crummy': 8224, 'radically': 8225, 'restring': 8226, 'canoe': 8227, 'explosives': 8228, 'hesitation': 8229, 'oral': 8230, 'pointy': 8231, 'rowed': 8232, 'seal': 8233, 'spur': 8234, 'squeezing': 8235, 'sways': 8236, 'topples': 8237, 'warts': 8238, 'weapon': 8239, 'defensive': 8240, 'whistles': 8241, 'Except': 8242, 'Jamaican': 8243, 'active': 8244, 'analyze': 8245, 'backwaters': 8246, 'cleaner': 8247, 'contrasts': 8248, 'egg': 8249, 'gloats': 8250, 'irregular': 8251, 'lagoon': 8252, 'objective': 8253, 'pews': 8254, 'plants': 8255, 'sauce': 8256, 'substituted': 8257, 'faked': 8258, 'files': 8259, 'four': 8260, 'mg': 8261, 'pill': 8262, 'cleaving': 8263, 'completed': 8264, 'conducting': 8265, 'frills': 8266, 'genuinely': 8267, 'housewives': 8268, 'inch': 8269, 'jobs': 8270, 'junky': 8271, 'mothers': 8272, 'narrows': 8273, 'observe': 8274, 'sharply': 8275, 'tinsel': 8276, 'transfer': 8277, 'backtrack': 8278, 'muscular': 8279, 'Woods': 8280, 'fiery': 8281, 'happenings': 8282, 'incantations': 8283, 'meds': 8284, 'rake': 8285, 'refill': 8286, 'refills': 8287, 'ritual': 8288, 'rituals': 8289, 'wrapper': 8290, '1910': 8291, 'generation': 8292, 'protesting': 8293, 'ruined': 8294, 'dryer': 8295, 'hook': 8296, 'utility': 8297, 'washer': 8298, 'uniform': 8299, 'Anthony': 8300, 'Zippy': 8301, 'banging': 8302, 'enthusiastic': 8303, 'goodnight': 8304, 'melt': 8305, 'noises': 8306, 'pancake': 8307, 'pancakes': 8308, 'unprotected': 8309, 'windshield': 8310, 'escaped': 8311, 'napped': 8312, 'poise': 8313, 'tiptoe': 8314, 'Merle': 8315, 'bluesy': 8316, 'choreographed': 8317, 'cue': 8318, 'glide': 8319, 'marchers': 8320, 'ramped': 8321, 'stamp': 8322, 'upbeat': 8323, 'walkies': 8324, 'wheelies': 8325, 'crows': 8326, 'frequently': 8327, 'visits': 8328, 'indicate': 8329, 'pollution': 8330, 'Camera': 8331, 'Olga': 8332, 'Start': 8333, 'TV': 8334, 'arranges': 8335, 'producer': 8336, 'splattered': 8337, 'abortion': 8338, 'booths': 8339, 'courting': 8340, 'Easier': 8341, 'dinks': 8342, 'Drugs': 8343, 'Kim': 8344, 'Rexall': 8345, 'Wal': 8346, 'Yitzak': 8347, 'drugstore': 8348, 'fortuitous': 8349, 'coincidence': 8350, 'mysteries': 8351, 'Diane': 8352, 'Freund': 8353, 'Important': 8354, 'Rich': 8355, 'Tripoli': 8356, 'based': 8357, 'busted': 8358, 'cartoons': 8359, 'damning': 8360, 'decisions': 8361, 'implies': 8362, 'innocuous': 8363, 'judgements': 8364, 'snatch': 8365, 'wanta': 8366, '0': 8367, 'Teri': 8368, 'easel': 8369, 'madly': 8370, 'nonsense': 8371, 'Exhausted': 8372, 'biker': 8373, 'deciding': 8374, 'marijuana': 8375, 'odds': 8376, 'trail': 8377, 'engages': 8378, 'immediately': 8379, 'policy': 8380, 'sandwiched': 8381, 'scares': 8382, '1000': 8383, 'lavender': 8384, 'ruffles': 8385, 'sharing': 8386, 'swimsuit': 8387, 'destroying': 8388, '509': 8389, 'CCC': 8390, 'astonished': 8391, 'ferocious': 8392, 'fondles': 8393, 'lightly': 8394, 'sermon': 8395, 'transformed': 8396, 'transforming': 8397, 'forbids': 8398, 'bandaged': 8399, 'dolly': 8400, 'gangster': 8401, 'lump': 8402, 'mummy': 8403, 'ritzy': 8404, 'spies': 8405, 'waiters': 8406, 'Eskimo': 8407, 'Eskimos': 8408, 'courtroom': 8409, 'culture': 8410, 'eloquently': 8411, 'unusual': 8412, 'Comer': 8413, 'France': 8414, 'dumps': 8415, 'idyllic': 8416, 'overstuffed': 8417, 'tourists': 8418, 'Kathy': 8419, 'prefers': 8420, 'swallows': 8421, 'unlock': 8422, 'unlocks': 8423, 'wrist': 8424, 'Isuzu': 8425, 'authorities': 8426, 'bedrooms': 8427, 'chamber': 8428, 'chores': 8429, 'closes': 8430, 'drinks': 8431, 'hostessing': 8432, 'instruct': 8433, 'peopled': 8434, 'Bells': 8435, 'Jingle': 8436, 'abide': 8437, 'industrial': 8438, 'musician': 8439, 'toxins': 8440, 'union': 8441, 'vacate': 8442, 'explore': 8443, 'panics': 8444, 'prehistoric': 8445, 'harmonic': 8446, 'hooker': 8447, 'matters': 8448, 'spanks': 8449, 'worse': 8450, 'donde': 8451, 'es': 8452, 'espose': 8453, 'se': 8454, 'su': 8455, 'altos': 8456, 'choices': 8457, 'feast': 8458, 'sopranos': 8459, 'extravaganza': 8460, 'federales': 8461, 'regulars': 8462, 'uniformed': 8463, 'Chopin': 8464, 'accomplish': 8465, 'alternate': 8466, 'magnificent': 8467, 'patrons': 8468, 'prefer': 8469, 'Alien': 8470, 'binders': 8471, 'embossed': 8472, 'notebooks': 8473, 'tidy': 8474, '4xx': 8475, 'Deb': 8476, 'junior': 8477, 'secretly': 8478, 'hostility': 8479, 'collections': 8480, 'niece': 8481, '50th': 8482, 'Anniversary': 8483, 'Wedding': 8484, 'catchy': 8485, 'gunk': 8486, 'unbutton': 8487, 'BBQ': 8488, 'Sheridan': 8489, 'beef': 8490, 'roast': 8491, 'Large': 8492, 'copy': 8493, 'disks': 8494, 'gobs': 8495, 'manuscript': 8496, 'shampooed': 8497, 'sprinkles': 8498, 'trips': 8499, 'unplug': 8500, '7th': 8501, 'clip': 8502, 'clipper': 8503, 'schools': 8504, 'surprisingly': 8505, 'toenail': 8506, 'toes': 8507, 'privilege': 8508, 'jagged': 8509, 'pebbles': 8510, 'lodge': 8511, 'Astaire': 8512, 'Unfortunately': 8513, 'fess': 8514, 'fitting': 8515, 'lustily': 8516, 'robes': 8517, 'sequins': 8518, 'swerves': 8519, 'dashboard': 8520, 'mellowed': 8521, 'homosexuality': 8522, 'blues': 8523, 'clashy': 8524, 'queen': 8525, 'specially': 8526, 'tiles': 8527, 'yellows': 8528, 'Hall': 8529, 'synthesizer': 8530, 'handles': 8531, 'invitation': 8532, 'smashing': 8533, 'heel': 8534, 'imprint': 8535, 'slipper': 8536, 'sole': 8537, 'Think': 8538, 'enticingly': 8539, 'uncovered': 8540, 'Holding': 8541, 'breaths': 8542, 'cough': 8543, 'shuttles': 8544, 'sputter': 8545, 'waterway': 8546, 'Canadian': 8547, 'corps': 8548, 'hobble': 8549, 'kidding': 8550, 'marine': 8551, 'polio': 8552, 'sprinklers': 8553, 'Scott': 8554, 'dumped': 8555, 'foolishness': 8556, 'lush': 8557, 'rule': 8558, 'tides': 8559, 'veggies': 8560, 'Muriel': 8561, 'Willis': 8562, 'funeral': 8563, 'Sheila': 8564, 'groans': 8565, 'handled': 8566, 'poetry': 8567, 'spatula': 8568, 'breaking': 8569, 'mug': 8570, 'shave': 8571, 'shaving': 8572, 'wallpaper': 8573, '5th': 8574, 'market': 8575, 'sluggish': 8576, 'Find': 8577, 'bathrooms': 8578, 'diaper': 8579, 'genital': 8580, 'lifts': 8581, 'pampers': 8582, 'panties': 8583, 'sassily': 8584, 'shielding': 8585, 'warns': 8586, 'Selleck': 8587, 'chips': 8588, 'growl': 8589, 'seductively': 8590, 'sneeze': 8591, 'vodka': 8592, 'PA': 8593, 'countdown': 8594, 'goodbyes': 8595, 'uncomfortably': 8596, 'Judith': 8597, 'Crafts': 8598, 'arrangement': 8599, 'ceramics': 8600, 'grains': 8601, 'helpers': 8602, 'scores': 8603, 'seating': 8604, 'textbook': 8605, 'Parmesan': 8606, 'Tuesdays': 8607, 'berries': 8608, 'deli': 8609, 'whipped': 8610, 'council': 8611, 'Close': 8612, 'caresses': 8613, 'eyelids': 8614, 'nosed': 8615, 'scrapbook': 8616, 'valentine': 8617, 'Actors': 8618, 'Jazzy': 8619, 'bamboo': 8620, 'breathy': 8621, 'cheer': 8622, 'grumbling': 8623, 'jostles': 8624, 'midgets': 8625, 'trombone': 8626, 'moveable': 8627, 'enfierno': 8628, 'illness': 8629, 'invalid': 8630, 'invatado': 8631, 'queasy': 8632, 'forehead': 8633, 'fragile': 8634, 'stilts': 8635, 'unwilling': 8636, 'hibernating': 8637, 'stakes': 8638, 'tyador': 8639, 'astronaut': 8640, 'clippings': 8641, 'pout': 8642, 'sulkily': 8643, 'modeled': 8644, 'swan': 8645, 'Chip': 8646, 'daisies': 8647, 'dandelions': 8648, 'homework': 8649, 'hurrying': 8650, 'globbing': 8651, 'lazily': 8652, 'poignantly': 8653, 'squirming': 8654, 'strawberries': 8655, 'sympathetically': 8656, 'Lake': 8657, 'River': 8658, 'oils': 8659, 'varied': 8660, 'Antarctica': 8661, 'Icebergs': 8662, 'Once': 8663, 'bugging': 8664, 'editing': 8665, 'grounded': 8666, 'lamp': 8667, 'romantically': 8668, 'shelter': 8669, 'Audience': 8670, 'Boogie': 8671, 'Hearts': 8672, 'Hit': 8673, 'Long': 8674, 'entertainer': 8675, 'parquet': 8676, 'socket': 8677, 'spitting': 8678, 'tractor': 8679, 'Danger': 8680, 'Surrounding': 8681, 'alien': 8682, 'aura': 8683, 'chord': 8684, 'performed': 8685, 'stained': 8686, 'tacky': 8687, 'hesitates': 8688, '65': 8689, 'Trapped': 8690, 'greed': 8691, 'greedy': 8692, 'millions': 8693, 'invites': 8694, 'Heidi': 8695, 'knowingly': 8696, 'Grants': 8697, 'Marci': 8698, 'Pass': 8699, 'difference': 8700, 'uptown': 8701, 'itching': 8702, 'Chinese': 8703, 'befriended': 8704, 'foreigners': 8705, 'margarine': 8706, 'plaster': 8707, 'butts': 8708, 'fleet': 8709, 'midship': 8710, 'naval': 8711, 'riddance': 8712, 'splash': 8713, 'vessel': 8714, 'Impala': 8715, 'Scat': 8716, 'inconvenience': 8717, '63': 8718, 'announcement': 8719, 'drooping': 8720, 'polish': 8721, 'pulpit': 8722, 'telegram': 8723, 'DADDY': 8724, 'Marilyn': 8725, 'Monroe': 8726, 'evacuated': 8727, 'mommy': 8728, 'taping': 8729, 'Yeah': 8730, 'glitter': 8731, 'sufficient': 8732, 'tissue': 8733, 'toss': 8734, 'Brain': 8735, 'random': 8736, 'reminding': 8737, 'rhythmically': 8738, 'chanted': 8739, 'winners': 8740, 'action': 8741, 'chiffon': 8742, 'conveyor': 8743, 'effects': 8744, 'net': 8745, 'recede': 8746, 'screens': 8747, 'slunk': 8748, 'sofa': 8749, 'wrought': 8750, 'aghast': 8751, 'approaches': 8752, 'energetic': 8753, 'garnished': 8754, 'meals': 8755, 'tweed': 8756, 'vital': 8757, 'vitality': 8758, 'volumes': 8759, 'bonfire': 8760, 'leaping': 8761, 'lizards': 8762, 'unpleasant': 8763, 'Pretty': 8764, 'adjusts': 8765, 'reversible': 8766, 'silhouetted': 8767, 'housekeeper': 8768, 'intensely': 8769, 'Acapulco': 8770, 'boating': 8771, 'cruise': 8772, 'draft': 8773, 'joining': 8774, 'rattling': 8775, 'tidied': 8776, 'Made': 8777, 'darted': 8778, 'Brigade': 8779, 'acceptable': 8780, 'agenda': 8781, 'bracket': 8782, 'conferences': 8783, 'doctoral': 8784, 'implying': 8785, 'salary': 8786, 'socializing': 8787, 'chested': 8788, 'cooperating': 8789, 'Maudie': 8790, 'hanger': 8791, 'prom': 8792, 'slacks': 8793, 'appointments': 8794, 'duodenal': 8795, 'rheumatologist': 8796, 'Birkenstocks': 8797, 'disengage': 8798, 'giggle': 8799, 'imprints': 8800, 'outdoors': 8801, 'sandals': 8802, 'colleagues': 8803, 'hello': 8804, 'prosaic': 8805, 'Clara': 8806, 'fluke': 8807, 'hollandaise': 8808, 'snub': 8809, 'succession': 8810, 'wigglies': 8811, 'Israelis': 8812, 'Viet': 8813, 'civilian': 8814, 'differ': 8815, 'palm': 8816, 'quote': 8817, 'vets': 8818, 'await': 8819, 'Tex': 8820, 'flapped': 8821, 'homesick': 8822, 'lethargic': 8823, 'manhole': 8824, 'motionless': 8825, 'advice': 8826, 'initial': 8827, 'needlework': 8828, 'nightie': 8829, 'nylon': 8830, 'repaint': 8831, 'unpacking': 8832, 'islands': 8833, 'labels': 8834, 'compressor': 8835, 'baaing': 8836, 'boxing': 8837, 'bravely': 8838, 'bunk': 8839, 'cells': 8840, 'cotton': 8841, 'creep': 8842, 'elude': 8843, 'immune': 8844, 'inmates': 8845, 'pox': 8846, 'proxy': 8847, 'qualify': 8848, 'relents': 8849, 'shorn': 8850, 'squeal': 8851, 'tacked': 8852, 'treacherous': 8853, 'bulletin': 8854, 'cuddles': 8855, 'decline': 8856, 'persuade': 8857, 'property': 8858, 'Rashneeshee': 8859, 'artfully': 8860, 'bouquets': 8861, 'curvaceous': 8862, 'drip': 8863, 'symbolism': 8864, 'floods': 8865, 'jam': 8866, 'Roseburg': 8867, 'Unexpectedly': 8868, 'wildcat': 8869, 'bandaid': 8870, 'lining': 8871, 'nerve': 8872, 'babysitting': 8873, 'cherub': 8874, 'cutesy': 8875, 'grief': 8876, 'grieving': 8877, 'illustration': 8878, 'inconsolable': 8879, 'panther': 8880, 'sob': 8881, 'thankfully': 8882, 'wails': 8883, 'hesitatingly': 8884, 'intends': 8885, 'niceness': 8886, 'precariously': 8887, 'purses': 8888, 'tumble': 8889, 'Carob': 8890, 'Lily': 8891, 'Tomlin': 8892, 'majoring': 8893, 'Hudson': 8894, 'Milk': 8895, 'Rock': 8896, 'crewman': 8897, 'swoons': 8898, 'Battle': 8899, 'Bridge': 8900, 'Brooklyn': 8901, 'bassoon': 8902, 'classical': 8903, 'jazz': 8904, 'bloody': 8905, 'cleaver': 8906, 'clots': 8907, 'dripping': 8908, 'expression': 8909, 'facial': 8910, 'grandson': 8911, 'grisly': 8912, 'hacking': 8913, 'registering': 8914, 'screwed': 8915, 'severed': 8916, 'spine': 8917, 'forested': 8918, 'noticing': 8919, 'restlessly': 8920, 'Claus': 8921, 'attempts': 8922, 'discovers': 8923, 'encounter': 8924, 'muttering': 8925, 'saddened': 8926, 'seduce': 8927, 'stormy': 8928, 'warms': 8929, 'nuisance': 8930, '42': 8931, 'Oscar': 8932, 'Five': 8933, 'progress': 8934, 'sadness': 8935, 'trek': 8936, 'Bishop': 8937, 'Tutu': 8938, 'controlling': 8939, 'cult': 8940, 'henchman': 8941, 'patiently': 8942, 'powerless': 8943, 'satirical': 8944, 'smells': 8945, 'warbles': 8946, 'drudge': 8947, 'glamorous': 8948, 'pays': 8949, 'sloughs': 8950, 'spill': 8951, 'acres': 8952, 'glider': 8953, 'glittery': 8954, 'Xeroxed': 8955, 'photography': 8956, 'redundant': 8957, 'unruly': 8958, 'tale': 8959, 'tattle': 8960, 'barrier': 8961, 'improved': 8962, 'buggy': 8963, 'noisily': 8964, 'reins': 8965, 'trotted': 8966, 'videos': 8967, 'warped': 8968, 'Toostie': 8969, 'frolic': 8970, 'mildly': 8971, 'responsible': 8972, 'sweep': 8973, 'knickknacks': 8974, 'refridge': 8975, 'travelogue': 8976, 'waters': 8977, 'Between': 8978, 'glowing': 8979, 'nuclear': 8980, 'reactor': 8981, 'smacks': 8982, 'smash': 8983, 'Kenneth': 8984, 'dower': 8985, 'embroidered': 8986, 'attentions': 8987, 'champion': 8988, 'stance': 8989, 'swimmer': 8990, 'dump': 8991, 'dumpster': 8992, 'poking': 8993, 'suitcases': 8994, 'packaged': 8995, 'spurs': 8996, 'virgin': 8997, 'Gabriel': 8998, 'doubts': 8999, 'nights': 9000, 'raincoat': 9001, 'rhinestone': 9002, 'routine': 9003, 'rejecting': 9004, '11th': 9005, '18th': 9006, '30th': 9007, 'Avenue': 9008, 'binding': 9009, 'exaggerated': 9010, 'fluids': 9011, 'fried': 9012, 'frog': 9013, 'grinding': 9014, 'mile': 9015, 'milking': 9016, 'movements': 9017, 'pained': 9018, 'swollen': 9019, 'undoes': 9020, 'Carved': 9021, 'beats': 9022, 'dimension': 9023, 'foundation': 9024, 'leopards': 9025, 'pottery': 9026, 'thriving': 9027, 'plenty': 9028, 'slings': 9029, 'timer': 9030, 'Fluffy': 9031, 'fibrous': 9032, 'mass': 9033, 'ostrich': 9034, 'sans': 9035, 'shell': 9036, 'slippery': 9037, 'uterus': 9038, 'Emma': 9039, 'Grandmother': 9040, 'benched': 9041, 'element': 9042, 'experienced': 9043, 'marvels': 9044, 'trauma': 9045, 'acknowledging': 9046, 'bizarre': 9047, 'brittle': 9048, 'divided': 9049, 'evenly': 9050, 'loathe': 9051, 'permitting': 9052, 'sausages': 9053, 'tablecloth': 9054, 'doily': 9055, 'rat': 9056, 'thirsty': 9057, 'Joel': 9058, 'Leroy': 9059, 'bitterly': 9060, 'conclusion': 9061, 'conscience': 9062, 'corny': 9063, 'expectations': 9064, 'foregone': 9065, 'marketing': 9066, 'measures': 9067, 'Bittersweet': 9068, 'mall': 9069, 'Jennifer': 9070, 'bastards': 9071, 'bitch': 9072, 'medication': 9073, 'moss': 9074, 'patients': 9075, 'Dream': 9076, 'coldly': 9077, 'cycle': 9078, 'drapes': 9079, 'expanses': 9080, 'flooding': 9081, 'glued': 9082, 'onyx': 9083, 'scrambling': 9084, 'tidal': 9085, 'Trouble': 9086, 'sonar': 9087, 'streaky': 9088, 'trails': 9089, 'vapor': 9090, 'constructed': 9091, 'burst': 9092, 'peer': 9093, 'tenderly': 9094, 'Master': 9095, 'currently': 9096, 'freelance': 9097, 'qualified': 9098, 'courthouse': 9099, 'impulse': 9100, 'tentacle': 9101, 'breakfasts': 9102, 'imply': 9103, 'incompetencies': 9104, 'managing': 9105, 'Andy': 9106, 'Chris': 9107, 'Maui': 9108, 'eyeballs': 9109, 'percentage': 9110, 'prejudiced': 9111, 'strangely': 9112, 'Rheumatoid': 9113, 'hobbles': 9114, 'mincing': 9115, 'mountainous': 9116, 'stationery': 9117, 'bruises': 9118, 'quandary': 9119, 'strawberry': 9120, 'baggies': 9121, 'cherry': 9122, 'cleanup': 9123, 'domestic': 9124, 'interpret': 9125, 'involving': 9126, 'meringue': 9127, 'pie': 9128, 'possibility': 9129, 'rebuffed': 9130, 'handcrafted': 9131, 'insulation': 9132, 'meadow': 9133, 'sunlight': 9134, 'Ow': 9135, 'chainsaw': 9136, 'dome': 9137, 'stupidity': 9138, 'Alps': 9139, 'competent': 9140, 'mound': 9141, 'mistakes': 9142, '514': 9143, 'Cheryl': 9144, 'Volkswagen': 9145, 'aft': 9146, 'categories': 9147, 'dolls': 9148, 'handbag': 9149, 'jean': 9150, 'mansions': 9151, 'pageant': 9152, 'paintings': 9153, 'paved': 9154, 'pools': 9155, 'shakily': 9156, 'vantage': 9157, 'impossible': 9158, 'press': 9159, 'recklessly': 9160, 'Building': 9161, 'Paramount': 9162, 'carvings': 9163, 'Cookies': 9164, 'Or': 9165, 'VCR': 9166, 'candies': 9167, 'cheat': 9168, 'turkey': 9169, 'workmen': 9170, 'Either': 9171, 'bushy': 9172, 'chattered': 9173, 'knobs': 9174, 'noodle': 9175, 'outsmart': 9176, 'shredded': 9177, 'strategy': 9178, 'Flood': 9179, 'builds': 9180, 'Hold': 9181, 'airy': 9182, 'apartments': 9183, 'elegant': 9184, 'fountains': 9185, 'friendship': 9186, 'gawkers': 9187, 'intimidate': 9188, 'knight': 9189, 'knighted': 9190, 'ornately': 9191, 'royalty': 9192, 'twirl': 9193, '44': 9194, 'Delta': 9195, 'Pats': 9196, 'DO': 9197, 'Fox': 9198, 'Goldsmith': 9199, 'Governor': 9200, 'NOT': 9201, 'Pieces': 9202, 'Top': 9203, 'WAVER': 9204, 'experiments': 9205, 'Birthday': 9206, 'Happy': 9207, 'bites': 9208, 'circled': 9209, 'requesting': 9210, 'romping': 9211, 'Ricatta': 9212, 'YWCA': 9213, 'designated': 9214, 'drifting': 9215, 'graduate': 9216, 'organizing': 9217, 'rates': 9218, 'singers': 9219, 'withdraw': 9220, 'Charla': 9221, 'Permanent': 9222, 'Terminal': 9223, 'demand': 9224, 'limos': 9225, 'speeds': 9226, 'eats': 9227, 'biking': 9228, 'halves': 9229, 'repeatedly': 9230, 'sergeant': 9231, 'Yale': 9232, 'babbling': 9233, 'brook': 9234, 'leisure': 9235, 'undercooked': 9236, 'university': 9237, 'alert': 9238, 'cautiously': 9239, 'slower': 9240, 'umbrella': 9241, 'scrunch': 9242, 'exciting': 9243, 'focusing': 9244, 'visor': 9245, 'debit': 9246, 'hump': 9247, 'Karl': 9248, 'Stone': 9249, 'enticing': 9250, 'flashy': 9251, 'interrupted': 9252, 'splendor': 9253, 'favorites': 9254, 'flea': 9255, 'Career': 9256, 'Planning': 9257, 'broad': 9258, 'daylight': 9259, 'chases': 9260, 'Center': 9261, 'Farms': 9262, 'Kennedy': 9263, 'Runs': 9264, 'Turkey': 9265, 'giggles': 9266, 'malicious': 9267, 'prestigious': 9268, 'packet': 9269, 'flunked': 9270, 'hmm': 9271, 'improv': 9272, 'judges': 9273, 'Milo': 9274, 'Venus': 9275, 'foil': 9276, 'scented': 9277, 'BUE': 9278, 'BUS': 9279, 'McCork': 9280, 'belonged': 9281, 'compartmentalized': 9282, 'hutch': 9283, 'medically': 9284, 'needn': 9285, 'outdated': 9286, 'waste': 9287, 'Gay': 9288, 'Lover': 9289, 'arc': 9290, 'breathing': 9291, 'rocket': 9292, 'Excuse': 9293, 'ignorance': 9294, 'fights': 9295, 'flows': 9296, 'hunting': 9297, 'pounce': 9298, 'Junior': 9299, 'attractive': 9300, 'Cherry': 9301, 'Beef': 9302, 'Poetry': 9303, 'Vern': 9304, 'biscuits': 9305, 'expense': 9306, 'leftover': 9307, 'relishes': 9308, 'weigh': 9309, 'brightly': 9310, 'catching': 9311, 'minded': 9312, 'placid': 9313, 'kinesthetic': 9314, 'occasional': 9315, 'repaired': 9316, 'twiddle': 9317, 'Amour': 9318, 'conductor': 9319, 'parent': 9320, 'Tears': 9321, 'cereal': 9322, 'copiously': 9323, 'lesbian': 9324, 'tossy': 9325, 'turny': 9326, 'writings': 9327, 'freshman': 9328, 'rainy': 9329, 'caringly': 9330, 'loading': 9331, 'pewter': 9332, 'philodendron': 9333, 'worn': 9334, 'globby': 9335, 'scrape': 9336, 'unnecessary': 9337, 'cowboy': 9338, 'platter': 9339, 'rice': 9340, 'stingy': 9341, 'unsatisfied': 9342, 'stones': 9343, 'chins': 9344, 'crib': 9345, 'neglected': 9346, 'adequate': 9347, 'leisurely': 9348, 'grapes': 9349, 'slimy': 9350, 'verify': 9351, 'Rarely': 9352, 'astute': 9353, 'blessings': 9354, 'curved': 9355, 'politicians': 9356, 'residential': 9357, 'sheltered': 9358, 'shushes': 9359, 'souvenir': 9360, 'steeper': 9361, 'Carol': 9362, 'Rob': 9363, 'Sat': 9364, 'Slimy': 9365, 'faucet': 9366, 'bubbly': 9367, 'Brando': 9368, 'Marlon': 9369, 'Sweet': 9370, 'mechanical': 9371, 'Hamlet': 9372, 'classmates': 9373, 'cowers': 9374, 'harsh': 9375, 'recite': 9376, 'abuse': 9377, 'bureau': 9378, 'wobbly': 9379, 'Dept': 9380, 'Raspberries': 9381, '1955': 9382, 'Adam': 9383, 'Chariot': 9384, 'Dairy': 9385, 'Fiction': 9386, 'Low': 9387, 'Q': 9388, 'Science': 9389, 'Swing': 9390, 'bumper': 9391, 'dolled': 9392, 'husbands': 9393, 'matching': 9394, 'midnight': 9395, 'teary': 9396, 'buffalo': 9397, 'excitedly': 9398, 'motorbike': 9399, 'punish': 9400, 'rears': 9401, 'relent': 9402, 'aerobics': 9403, 'merchandize': 9404, 'Dee': 9405, 'Jew': 9406, 'belligerent': 9407, 'clasps': 9408, 'elevators': 9409, 'headache': 9410, 'mortified': 9411, 'owning': 9412, 'scanner': 9413, 'tomato': 9414, 'waisted': 9415, 'wiggling': 9416, 'clings': 9417, 'formula': 9418, 'regretfully': 9419, 'yea': 9420, 'lurking': 9421, 'sneaky': 9422, 'Mechanics': 9423, 'Tim': 9424, 'joking': 9425, 'mood': 9426, 'pals': 9427, 'prickly': 9428, 'sorority': 9429, 'sorts': 9430, 'presented': 9431, 'Kris': 9432, 'approves': 9433, 'bin': 9434, 'cleaned': 9435, 'flustered': 9436, 'interfere': 9437, 'spilt': 9438, 'tassel': 9439, 'Moscow': 9440, 'bathe': 9441, 'uncooperative': 9442, 'interviews': 9443, 'invigorated': 9444, 'jauntily': 9445, 'sample': 9446, 'selfishly': 9447, 'snapshots': 9448, 'ungainly': 9449, 'latest': 9450, 'jumper': 9451, 'loop': 9452, 'zipper': 9453, 'familiar': 9454, 'gilded': 9455, 'hopes': 9456, 'stir': 9457, 'Slightly': 9458, 'Decision': 9459, 'Farm': 9460, 'Suicide': 9461, 'frosting': 9462, 'uncover': 9463, 'Ritter': 9464, 'Sensual': 9465, 'advancing': 9466, 'mount': 9467, 'sheriff': 9468, 'studies': 9469, 'thoroughbreds': 9470, 'thousand': 9471, 'DIS': 9472, 'application': 9473, 'executive': 9474, 'expert': 9475, 'favors': 9476, 'snickers': 9477, 'vacant': 9478, 'wheeling': 9479, 'Sexual': 9480, 'Pandemonium': 9481, 'opts': 9482, 'bunches': 9483, 'halter': 9484, 'midriff': 9485, 'Cameras': 9486, 'beige': 9487, 'thinned': 9488, 'pastel': 9489, 'competing': 9490, 'foolhardy': 9491, 'journalists': 9492, 'selected': 9493, 'Copies': 9494, 'buried': 9495, 'cooperative': 9496, 'deeply': 9497, 'shopped': 9498, 'squiggle': 9499, 'xerox': 9500, 'Dog': 9501, 'Meat': 9502, 'authentic': 9503, 'candied': 9504, 'exact': 9505, 'invading': 9506, 'plops': 9507, 'skillet': 9508, 'vulnerable': 9509, '____': 9510, 'pep': 9511, 'sobs': 9512, 'Allen': 9513, 'Edgar': 9514, 'Grizzlers': 9515, 'Poe': 9516, 'Press': 9517, 'advertising': 9518, 'emblems': 9519, 'handrails': 9520, 'historical': 9521, 'mats': 9522, 'samples': 9523, 'wa': 9524, 'Try': 9525, 'graham': 9526, 'ingredients': 9527, 'saltine': 9528, 'sticker': 9529, 'Degree': 9530, 'Evangeline': 9531, 'included': 9532, 'qualifications': 9533, 'receptive': 9534, 'tasting': 9535, 'Eddie': 9536, 'dabbing': 9537, 'introducing': 9538, 'jeopardizing': 9539, 'otherwise': 9540, 'ouch': 9541, 'Russ': 9542, 'gang': 9543, 'influences': 9544, 'rowdies': 9545, 'Party': 9546, 'forks': 9547, 'meats': 9548, 'nibble': 9549, 'gossiping': 9550, 'meows': 9551, 'choke': 9552, 'inspector': 9553, 'pumps': 9554, 'submersing': 9555, 'confront': 9556, 'disdainful': 9557, 'judgmental': 9558, 'nab': 9559, 'stowaway': 9560, 'predicament': 9561, 'quantities': 9562, 'sloshing': 9563, 'urinate': 9564, 'Maria': 9565, 'burrowing': 9566, 'demo': 9567, 'foster': 9568, 'operas': 9569, 'PR': 9570, 'affairs': 9571, 'begun': 9572, 'capro': 9573, 'flyers': 9574, 'organization': 9575, 'removing': 9576, 'speakers': 9577, 'Promise': 9578, 'conspiring': 9579, 'desperate': 9580, 'promises': 9581, 'revenge': 9582, 'Libby': 9583, 'Six': 9584, 'host': 9585, 'huts': 9586, 'sec': 9587, 'Dancing': 9588, 'Exercise': 9589, 'Nobody': 9590, 'Throwing': 9591, 'deflated': 9592, 'drummer': 9593, 'shaky': 9594, 'sauerkraut': 9595, 'scoot': 9596, 'Humm': 9597, 'focused': 9598, 'linked': 9599, 'sip': 9600, 'thinner': 9601, 'lisps': 9602, 'sharpen': 9603, 'sharpener': 9604, 'stub': 9605, 'emote': 9606, 'improvving': 9607, 'alcove': 9608, 'divide': 9609, 'grime': 9610, 'nearest': 9611, 'remodel': 9612, 'archway': 9613, 'flotation': 9614, 'instance': 9615, 'seater': 9616, 'plumbing': 9617, 'Drapes': 9618, 'Mylar': 9619, 'Nightmare': 9620, 'bothering': 9621, 'brassy': 9622, 'constant': 9623, 'disposal': 9624, 'drape': 9625, 'hairdo': 9626, 'heave': 9627, 'hive': 9628, 'popping': 9629, 'renewed': 9630, 'savagely': 9631, 'Hitler': 9632, 'intervenes': 9633, 'resigned': 9634, 'Arkansas': 9635, 'Scotts': 9636, 'hometown': 9637, 'illicit': 9638, 'lightweight': 9639, 'pinks': 9640, 'ply': 9641, 'rarely': 9642, 'ruffly': 9643, 'skirted': 9644, 'slick': 9645, 'smiley': 9646, 'Aside': 9647, 'Jill': 9648, 'Pushed': 9649, 'SKILLS': 9650, 'auto': 9651, 'available': 9652, 'immodest': 9653, 'jock': 9654, 'pushy': 9655, 'straps': 9656, 'nonchalant': 9657, 'Pinch': 9658, 'Toe': 9659, 'reminder': 9660, 'preparation': 9661, 'recon': 9662, 'vampire': 9663, 'Stay': 9664, 'settle': 9665, 'Dinner': 9666, 'meekly': 9667, 'Engagement': 9668, 'Jack': 9669, 'agate': 9670, 'chime': 9671, 'seed': 9672, 'preemptive': 9673, 'Foolish': 9674, 'asbestos': 9675, 'OCA': 9676, 'POPP': 9677, 'bikes': 9678, 'corsages': 9679, 'hankie': 9680, 'markings': 9681, 'knocks': 9682, 'murky': 9683, 'steaming': 9684, '200': 9685, '995': 9686, 'mailman': 9687, 'chug': 9688, 'inheritanc': 9689, 'inheritance': 9690, 'sadder': 9691, 'spiffy': 9692, 'casting': 9693, 'salvageable': 9694, 'China': 9695, 'Michigan': 9696, 'marvel': 9697, 'Rhine': 9698, 'myths': 9699, 'dangling': 9700, 'handcuff': 9701, 'unattached': 9702, 'straightjacket': 9703, 'Corner': 9704, 'Entertainment': 9705, 'Kaun': 9706, 'Noisy': 9707, 'Steve': 9708, 'attentive': 9709, 'drastic': 9710, 'infraction': 9711, 'Nice': 9712, 'ratty': 9713, 'Netherlands': 9714, 'Shane': 9715, 'greetings': 9716, 'Interpreter': 9717, 'Suzanne': 9718, 'autobahn': 9719, 'Cindy': 9720, 'Converter': 9721, 'belts': 9722, 'click': 9723, 'engineer': 9724, 'mutiny': 9725, 'souvenirs': 9726, 'Dean': 9727, 'Martin': 9728, 'Tarzan': 9729, 'strumming': 9730, 'incorporate': 9731, 'misplaced': 9732, 'poems': 9733, 'Coke': 9734, 'Sing': 9735, 'chit': 9736, 'constrained': 9737, 'derogatory': 9738, 'levers': 9739, 'mural': 9740, 'poke': 9741, 'scraggly': 9742, 'slate': 9743, 'example': 9744, 'reward': 9745, 'avert': 9746, 'reversal': 9747, 'nigger': 9748, 'racist': 9749, 'encroach': 9750, 'pleasurable': 9751, 'Phyllis': 9752, 'flips': 9753, 'pouty': 9754, 'presently': 9755, 'stride': 9756, 'floors': 9757, 'Abigail': 9758, 'crossing': 9759, 'Skip': 9760, 'compassionately': 9761, 'dye': 9762, 'fists': 9763, 'spouse': 9764, 'stepson': 9765, 'woodland': 9766, 'bunting': 9767, 'calico': 9768, 'creepy': 9769, 'crustacean': 9770, 'drained': 9771, 'entirely': 9772, 'maggots': 9773, 'Haldeman': 9774, 'Persians': 9775, 'dishonest': 9776, 'duckling': 9777, 'prominent': 9778, 'wimpy': 9779, 'Mobility': 9780, 'cobwebs': 9781, 'grooming': 9782, 'nutshell': 9783, 'performer': 9784, 'alarm': 9785, 'antelope': 9786, 'beeps': 9787, 'polar': 9788, 'transfixed': 9789, 'unmoving': 9790, 'woody': 9791, 'writers': 9792, 'Randy': 9793, 'blew': 9794, 'ringing': 9795, 'Chevalier': 9796, 'Frenchman': 9797, 'Maurice': 9798, 'Serve': 9799, 'carves': 9800, 'cushion': 9801, 'escorted': 9802, 'flair': 9803, 'fluff': 9804, 'roasted': 9805, 'beneficial': 9806, 'crippled': 9807, 'impaired': 9808, 'cajoles': 9809, 'expend': 9810, 'garden': 9811, 'hated': 9812, 'hopefully': 9813, 'hopping': 9814, 'immersion': 9815, 'slough': 9816, 'upstream': 9817, 'livid': 9818, 'numb': 9819, 'someday': 9820, 'stretcher': 9821, 'Nicholson': 9822, 'charged': 9823, 'hints': 9824, 'hunger': 9825, 'Clark': 9826, 'Gable': 9827, 'Townsmen': 9828, 'apprentice': 9829, 'becoming': 9830, 'masquerade': 9831, 'rural': 9832, 'searches': 9833, 'worship': 9834, 'canceled': 9835, 'graceful': 9836, 'touchy': 9837, 'waltz': 9838, 'Forest': 9839, 'Money': 9840, 'Service': 9841, 'garter': 9842, 'myopic': 9843, 'recruits': 9844, 'rethink': 9845, 'Hotel': 9846, 'Pablito': 9847, 'reservation': 9848, 'symphony': 9849, 'Mid': 9850, 'disagrees': 9851, 'flashes': 9852, 'headlight': 9853, 'resists': 9854, 'Jane': 9855, 'currency': 9856, 'discarding': 9857, 'shits': 9858, 'shuddering': 9859, 'Carona': 9860, 'richer': 9861, 'fleshy': 9862, 'resignation': 9863, 'courteous': 9864, 'gymnasium': 9865, 'Emily': 9866, 'teak': 9867, 'Florence': 9868, 'decoratively': 9869, 'stability': 9870, 'unstable': 9871, 'Dickinson': 9872, 'campground': 9873, 'wiggle': 9874, 'intended': 9875, 'lazing': 9876, 'Nuclear': 9877, 'murmur': 9878, 'powdery': 9879, 'remembers': 9880, 'Being': 9881, 'homeless': 9882, 'johns': 9883, 'particles': 9884, 'patches': 9885, 'Cape': 9886, 'Cod': 9887, 'PhDs': 9888, 'Western': 9889, 'flagstone': 9890, 'juggling': 9891, 'masters': 9892, 'nextdoor': 9893, 'peaked': 9894, 'reconsider': 9895, 'repelling': 9896, 'risks': 9897, 'siding': 9898, 'deviled': 9899, 'malfunction': 9900, 'predictable': 9901, 'philosophers': 9902, 'vibes': 9903, 'enjoys': 9904, 'Douglas': 9905, 'aimed': 9906, 'anticipation': 9907, 'blast': 9908, 'burro': 9909, 'burros': 9910, 'feisty': 9911, 'ignored': 9912, 'labeling': 9913, 'spectacular': 9914, 'Jet': 9915, 'streak': 9916, 'De': 9917, 'Frisco': 9918, 'Palace': 9919, 'Rena': 9920, 'Trip': 9921, 'Versailles': 9922, 'consulted': 9923, 'encyclopedia': 9924, 'growth': 9925, 'maps': 9926, 'cinch': 9927, 'entice': 9928, 'squid': 9929, 'unsafe': 9930, 'despair': 9931, 'difficultly': 9932, 'swirls': 9933, 'Angela': 9934, 'addressing': 9935, 'centered': 9936, 'dart': 9937, 'erection': 9938, 'molecules': 9939, 'overly': 9940, 'unfeeling': 9941, 'vaporize': 9942, 'collage': 9943, 'grandchild': 9944, 'intuitively': 9945, 'repetition': 9946, 'sorting': 9947, 'glow': 9948, 'intruders': 9949, 'trudge': 9950, 'unlocked': 9951, 'spangly': 9952, 'evident': 9953, 'irony': 9954, 'publishing': 9955, 'receipts': 9956, 'Disabled': 9957, 'Students': 9958, 'Ted': 9959, 'Union': 9960, 'advertisements': 9961, 'dividing': 9962, 'mouths': 9963, 'rainbow': 9964, 'stranded': 9965, 'cookie': 9966, 'Piles': 9967, 'bookstore': 9968, 'descendants': 9969, 'closest': 9970, 'efficiently': 9971, 'moldy': 9972, 'musty': 9973, 'reassures': 9974, 'rental': 9975, 'robbed': 9976, 'foolish': 9977, 'Lookout': 9978, 'teetering': 9979, 'Pegasus': 9980, 'appreciative': 9981, 'floats': 9982, 'forked': 9983, 'hinges': 9984, 'oblivion': 9985, 'Dalles': 9986, 'Frisbee': 9987, 'damaging': 9988, 'teeter': 9989, 'pennies': 9990, 'pingpong': 9991, 'coil': 9992, 'continuing': 9993, 'fingernail': 9994, 'pine': 9995, 'slink': 9996, 'steel': 9997, 'surprising': 9998, 'applique': 9999, 'edging': 10000, 'solution': 10001, 'Bakery': 10002, 'TVs': 10003, 'conditioning': 10004, 'corn': 10005, 'goods': 10006, 'ladle': 10007, 'mourning': 10008, 'parental': 10009, 'peering': 10010, 'pretzels': 10011, 'refreshing': 10012, 'selection': 10013, 'slurred': 10014, 'theory': 10015, 'winces': 10016, 'journal': 10017, 'lettering': 10018, 'toaster': 10019, 'behave': 10020, 'Admiral': 10021, 'affirm': 10022, 'corduroy': 10023, 'peers': 10024, 'podium': 10025, 'punk': 10026, 'quiets': 10027, 'senior': 10028, 'Lovely': 10029, 'embroidery': 10030, 'ineffective': 10031, 'juxtaposition': 10032, 'gained': 10033, 'scouting': 10034, 'Whose': 10035, 'clicking': 10036, 'iris': 10037, 'teacups': 10038, 'Bridget': 10039, 'digs': 10040, 'handouts': 10041, 'nickel': 10042, 'parading': 10043, 'techniques': 10044, 'Lucky': 10045, 'Masters': 10046, 'Strike': 10047, '___': 10048, 'scarfed': 10049, 'siblings': 10050, 'veiled': 10051, 'Framed': 10052, 'enlarged': 10053, 'sorted': 10054, 'Way': 10055, 'north': 10056, 'resistances': 10057, 'survived': 10058, 'housing': 10059, 'humane': 10060, 'restructuring': 10061, 'shutting': 10062, 'Spirits': 10063, 'boarding': 10064, 'restaurants': 10065, 'Learn': 10066, 'Wouldn': 10067, 'educational': 10068, 'experiment': 10069, 'promo': 10070, 'rap': 10071, 'switching': 10072, 'dictionary': 10073, 'unthawing': 10074, 'coin': 10075, 'cortisone': 10076, 'antagonistic': 10077, 'dignity': 10078, 'glancing': 10079, 'prideful': 10080, 'turd': 10081, 'eyeglass': 10082, 'eyesight': 10083, 'splitting': 10084, 'aphrodisiac': 10085, 'collecting': 10086, 'minibus': 10087, 'comedians': 10088, 'pinky': 10089, 'frogs': 10090, 'quicksand': 10091, 'trains': 10092, 'veer': 10093, 'Lesbianism': 10094, 'Tried': 10095, 'Stevens': 10096, 'inscription': 10097, 'leaderless': 10098, 'procedure': 10099, 'processor': 10100, 'Identity': 10101, 'automated': 10102, 'ickivi': 10103, 'squeaky': 10104, 'wipe': 10105, 'baggage': 10106, 'vans': 10107, 'ghost': 10108, 'poked': 10109, 'tubs': 10110, 'excite': 10111, 'manipulations': 10112, 'Mateo': 10113, 'measles': 10114, 'mumps': 10115, 'Akin': 10116, 'Dammitt': 10117, 'Erik': 10118, 'arrives': 10119, 'author': 10120, 'goofy': 10121, 'masturbates': 10122, 'seriousing': 10123, 'gums': 10124, 'maggot': 10125, 'PROTECTION': 10126, 'receipt': 10127, 'tickling': 10128, 'diluting': 10129, 'outburst': 10130, 'rinsing': 10131, 'awash': 10132, 'embankment': 10133, 'airborne': 10134, 'displaying': 10135, 'dragonet': 10136, 'salesgirl': 10137, 'Say': 10138, 'refrig': 10139, 'selections': 10140, 'smashes': 10141, 'crunch': 10142, 'density': 10143, 'Bible': 10144, 'Czechoslovakia': 10145, 'Episcopalian': 10146, 'Soviet': 10147, 'Testament': 10148, 'limo': 10149, 'orphaned': 10150, 'prayer': 10151, 'unplanned': 10152, 'Valium': 10153, 'Monopoly': 10154, 'okay': 10155, 'crewcut': 10156, 'leer': 10157, 'Fixing': 10158, 'Parked': 10159, 'Pancakes': 10160, 'clicks': 10161, 'collapses': 10162, 'fudge': 10163, 'hail': 10164, 'nuns': 10165, 'pudding': 10166, 'remoldable': 10167, 'sleet': 10168, 'vanilla': 10169, 'weather': 10170, 'Grandad': 10171, 'araphrasing': 10172, 'unbelievable': 10173, 'uncomprehendingly': 10174, '32': 10175, 'sailor': 10176, 'schoolroom': 10177, 'vault': 10178, 'chirp': 10179, 'roar': 10180, 'screech': 10181, 'Lori': 10182, 'programs': 10183, 'upcoming': 10184, 'goggles': 10185, 'rightful': 10186, 'strapless': 10187, 'unzipped': 10188, 'zipped': 10189, '1875': 10190, 'condos': 10191, 'reflects': 10192, 'barrette': 10193, 'dissonant': 10194, 'dries': 10195, 'dynamic': 10196, 'encore': 10197, 'idiosyncrasy': 10198, 'pianist': 10199, 'snags': 10200, 'dentist': 10201, 'clamoring': 10202, 'institutions': 10203, 'slap': 10204, 'breathes': 10205, 'science': 10206, 'Ruby': 10207, 'Used': 10208, 'charred': 10209, 'cone': 10210, 'counting': 10211, 'lick': 10212, 'rented': 10213, 'structure': 10214, 'vacuum': 10215, 'Asian': 10216, 'Mile': 10217, 'entries': 10218, 'unloop': 10219, 'Glad': 10220, 'admits': 10221, 'command': 10222, 'cowering': 10223, 'hems': 10224, 'leotard': 10225, 'oatmeal': 10226, 'scaring': 10227, 'soles': 10228, 'bookshelves': 10229, 'bush': 10230, 'decoration': 10231, 'inconvenient': 10232, 'mandolin': 10233, 'woken': 10234, 'liver': 10235, 'poodles': 10236, 'protection': 10237, 'rhino': 10238, 'rollaway': 10239, 'affirmations': 10240, 'concerns': 10241, 'healing': 10242, 'listener': 10243, 'apparatus': 10244, 'compartment': 10245, 'declare': 10246, 'dedicated': 10247, 'desolate': 10248, 'flirted': 10249, 'maneuvering': 10250, 'mow': 10251, 'mowing': 10252, 'naming': 10253, 'buddies': 10254, 'noncommittally': 10255, 'NO': 10256, 'blueprints': 10257, 'masses': 10258, 'scoots': 10259, 'bulge': 10260, 'wardrobes': 10261, 'leathers': 10262, 'recognition': 10263, 'wail': 10264, 'NOSED': 10265, 'SNOB': 10266, 'ABSOLUTELY': 10267, 'blinking': 10268, 'contestant': 10269, 'wishfully': 10270, 'feces': 10271, 'overflows': 10272, 'saran': 10273, 'toiled': 10274, 'Columbia': 10275, 'carelessly': 10276, 'generous': 10277, 'kidnaps': 10278, 'platters': 10279, 'remains': 10280, 'cent': 10281, 'sitter': 10282, 'sitters': 10283, 'damage': 10284, 'intend': 10285, 'spiritual': 10286, 'contracting': 10287, 'spasm': 10288, 'Georgette': 10289, 'Heyer': 10290, 'halfway': 10291, 'needily': 10292, 'reputation': 10293, 'cribs': 10294, 'freely': 10295, 'heartedly': 10296, 'knocking': 10297, 'nine': 10298, 'partying': 10299, 'toothpaste': 10300, 'Ingenue': 10301, 'Bush': 10302, 'accommodate': 10303, 'inappropriate': 10304, 'microwave': 10305, 'newly': 10306, 'waffles': 10307, 'molestation': 10308, 'dips': 10309, 'passionate': 10310, 'Eyeglasses': 10311, 'Tap': 10312, 'mop': 10313, 'newsletters': 10314, 'sludge': 10315, 'Italy': 10316, 'Schoof': 10317, 'senator': 10318, 'alphabetical': 10319, 'alphabets': 10320, 'listings': 10321, 'stamper': 10322, 'disruptive': 10323, 'interruption': 10324, 'Percadan': 10325, 'overdosed': 10326, 'TP': 10327, 'Gallagher': 10328, 'Rita': 10329, 'gravelly': 10330, 'Ich': 10331, 'Punto': 10332, 'aqui': 10333, 'ein': 10334, 'translate': 10335, 'Actually': 10336, 'Killer': 10337, 'Song': 10338, 'composure': 10339, 'fans': 10340, 'fiddling': 10341, 'maiden': 10342, 'mends': 10343, '1803': 10344, 'Osprey': 10345, 'dates': 10346, 'gutter': 10347, 'released': 10348, 'skating': 10349, 'Daphne': 10350, 'buns': 10351, 'comically': 10352, 'derby': 10353, 'derisively': 10354, 'molester': 10355, 'obeying': 10356, 'slamming': 10357, 'snorts': 10358, 'summons': 10359, '624': 10360, 'hoops': 10361, 'stacked': 10362, 'agatized': 10363, 'chessmen': 10364, 'expertly': 10365, 'grace': 10366, 'igneous': 10367, 'pineapple': 10368, 'quartz': 10369, 'shrimp': 10370, 'deadbolt': 10371, 'Candy': 10372, 'Meyers': 10373, 'Safeway': 10374, 'instructing': 10375, 'medicines': 10376, 'oily': 10377, 'toddler': 10378, 'urgently': 10379, 'whipping': 10380, 'wobble': 10381, 'fender': 10382, 'headdress': 10383, 'peeling': 10384, 'sharpened': 10385, 'unsteady': 10386, 'Angels': 10387, 'Elmo': 10388, 'Jeff': 10389, 'hearty': 10390, 'joyous': 10391, 'Siamese': 10392, 'maggoty': 10393, 'Expo': 10394, 'Seattle': 10395, 'antics': 10396, 'chipped': 10397, '16': 10398, 'Blackbeard': 10399, 'Hillsboro': 10400, 'Hmm': 10401, 'Robin': 10402, 'ghosts': 10403, 'hammock': 10404, 'lids': 10405, 'scoffs': 10406, 'Kay': 10407, 'cylinder': 10408, 'distilled': 10409, 'unhooks': 10410, 'cultivating': 10411, 'lettuces': 10412, 'plow': 10413, 'seeds': 10414, 'Christian': 10415, 'Christians': 10416, 'Lion': 10417, 'Percadans': 10418, 'aspirin': 10419, 'chocked': 10420, 'dissolved': 10421, 'manufacturer': 10422, 'milligram': 10423, 'milligrams': 10424, 'pleasantly': 10425, 'taffy': 10426, 'tsk': 10427, 'Sort': 10428, 'antennae': 10429, 'bacteria': 10430, 'collectively': 10431, 'moments': 10432, 'oak': 10433, 'organism': 10434, 'prescription': 10435, 'rash': 10436, 'strands': 10437, 'Strong': 10438, 'agates': 10439, 'muffin': 10440, 'tins': 10441, 'breather': 10442, 'collapse': 10443, 'efforts': 10444, 'panting': 10445, 'strain': 10446, 'foamy': 10447, 'Alaskan': 10448, 'Hebo': 10449, 'Highway': 10450, 'Researching': 10451, 'Tilly': 10452, 'bursts': 10453, 'carriage': 10454, 'dank': 10455, 'garb': 10456, 'hire': 10457, 'hiring': 10458, 'moose': 10459, 'mosquitoes': 10460, 'peepholes': 10461, 'skittering': 10462, 'submerges': 10463, 'teasingly': 10464, 'Alister': 10465, 'Cooke': 10466, 'fresher': 10467, 'projected': 10468, 'agencies': 10469, 'blindly': 10470, 'decorate': 10471, 'harasses': 10472, 'Rosalie': 10473, 'Sanitary': 10474, 'capital': 10475, 'closeup': 10476, 'companionably': 10477, 'cranky': 10478, 'feat': 10479, 'fox': 10480, 'hinting': 10481, 'locally': 10482, 'political': 10483, 'reassuringly': 10484, 'sleepily': 10485, 'scooping': 10486, 'wordy': 10487, 'bazooka': 10488, 'deputies': 10489, 'dum': 10490, 'flinches': 10491, 'thrower': 10492, 'SAM': 10493, 'Stairs': 10494, 'canoes': 10495, 'confirmed': 10496, 'historian': 10497, 'hurricane': 10498, 'swimsuits': 10499, 'vials': 10500, 'voted': 10501, '1932': 10502, '1939': 10503, 'graduated': 10504, 'grimacing': 10505, 'location': 10506, 'ridiculously': 10507, 'roomy': 10508, 'aircraft': 10509, 'banjos': 10510, 'ducking': 10511, 'fueling': 10512, 'improve': 10513, 'wonders': 10514, 'Agua': 10515, 'carefree': 10516, 'feeds': 10517, 'Styrofoam': 10518, 'Cheese': 10519, 'chaperone': 10520, 'menu': 10521, 'schoolbook': 10522, 'surgeon': 10523, 'Blackness': 10524, 'Indianness': 10525, 'London': 10526, 'bulbous': 10527, 'cloaked': 10528, 'cobblestone': 10529, 'gate': 10530, 'headband': 10531, 'hewn': 10532, 'silvery': 10533, 'startling': 10534, 'suffuses': 10535, 'ugliness': 10536, 'Theresa': 10537, 'Cher': 10538, 'Moonstruck': 10539, 'fiance': 10540, 'smokes': 10541, 'unmarried': 10542, 'Picnic': 10543, 'betting': 10544, 'bun': 10545, 'chili': 10546, 'crumpling': 10547, 'emerald': 10548, 'hiney': 10549, 'stapled': 10550, 'teaspoon': 10551, 'tee': 10552, 'warmer': 10553, 'weighs': 10554, 'Its': 10555, 'bat': 10556, 'ok': 10557, 'burns': 10558, 'dense': 10559, 'grasping': 10560, 'regain': 10561, 'roars': 10562, 'stunt': 10563, 'crazed': 10564, 'penthouse': 10565, 'barrel': 10566, 'bedridden': 10567, 'clearing': 10568, 'excess': 10569, 'perch': 10570, 'lockers': 10571, 'Dexter': 10572, 'Memorize': 10573, '__________': 10574, 'bodyguard': 10575, 'seniors': 10576, 'smirks': 10577, 'snaps': 10578, 'squirms': 10579, 'testify': 10580, 'Campbell': 10581, 'Interest': 10582, 'bangs': 10583, 'inventory': 10584, 'mobile': 10585, 'pup': 10586, 'snarls': 10587, 'sue': 10588, 'winning': 10589, 'bureaucratic': 10590, 'lengthy': 10591, 'whereas': 10592, 'winded': 10593, 'Brennen': 10594, 'Walter': 10595, 'courts': 10596, 'courtyard': 10597, 'homes': 10598, 'flush': 10599, 'Eleven': 10600, 'Susie': 10601, 'architecture': 10602, 'weakened': 10603, 'Palmer': 10604, 'bookshelf': 10605, 'declares': 10606, 'filmstrip': 10607, 'males': 10608, 'pathetically': 10609, 'projector': 10610, 'companionable': 10611, 'marimba': 10612, 'singsong': 10613, 'whiney': 10614, 'advertise': 10615, 'assorted': 10616, 'calcium': 10617, 'cumbersome': 10618, 'embalmed': 10619, 'funerals': 10620, 'screwdriver': 10621, 'supply': 10622, 'tablets': 10623, 'whiskey': 10624, 'Buddies': 10625, 'occasions': 10626, 'reproduce': 10627, 'Afterwards': 10628, 'Birth': 10629, 'Control': 10630, 'Health': 10631, 'Medication': 10632, 'Student': 10633, 'concentrating': 10634, 'cushioned': 10635, 'dilated': 10636, 'intestines': 10637, 'kidney': 10638, 'multiple': 10639, 'recovering': 10640, 'recovery': 10641, 'vessels': 10642, 'Roy': 10643, 'barren': 10644, 'critique': 10645, 'dependency': 10646, 'engulf': 10647, 'grip': 10648, 'momentum': 10649, 'reprieve': 10650, 'soundproof': 10651, 'swinging': 10652, 'therapy': 10653, 'Amazon': 10654, 'Macy': 10655, 'Parade': 10656, 'aqua': 10657, 'develops': 10658, 'gowned': 10659, 'graduates': 10660, 'graduating': 10661, 'hologram': 10662, 'hysterical': 10663, 'understatement': 10664, 'reopening': 10665, 'autopsy': 10666, 'reflecting': 10667, 'Bon': 10668, 'Jori': 10669, 'Spectra': 10670, 'sciency': 10671, 'Four': 10672, 'Rats': 10673, 'Vancouver': 10674, 'bums': 10675, 'unroll': 10676, 'Americans': 10677, 'Native': 10678, 'cramps': 10679, 'fashion': 10680, 'slope': 10681, 'Cleaning': 10682, 'Removing': 10683, 'contemplate': 10684, 'certificate': 10685, 'sealing': 10686, 'tricking': 10687, 'ashtrays': 10688, 'crane': 10689, 'eligible': 10690, 'mandala': 10691, 'paradise': 10692, 'shovels': 10693, 'afghan': 10694, 'require': 10695, 'companion': 10696, 'increase': 10697, 'pulses': 10698, 'Beverly': 10699, 'Cleary': 10700, 'server': 10701, 'shushing': 10702, 'weasel': 10703, 'Beaula': 10704, 'clatter': 10705, 'nonresponsive': 10706, 'wheelie': 10707, '451': 10708, 'brilliant': 10709, 'dimmer': 10710, 'misty': 10711, 'smoky': 10712, 'intimacy': 10713, 'fleas': 10714, 'gumball': 10715, 'subject': 10716, 'Archie': 10717, 'Lawrence': 10718, 'Marjie': 10719, 'Shh': 10720, 'appearance': 10721, 'kindergartner': 10722, 'liking': 10723, 'audiences': 10724, 'burlap': 10725, 'huff': 10726, 'huffs': 10727, 'lip': 10728, 'magnifying': 10729, 'planted': 10730, 'reply': 10731, 'scornfully': 10732, 'spotlight': 10733, 'superimposed': 10734, 'tricycle': 10735, 'whizzes': 10736, 'beeline': 10737, 'freshmen': 10738, 'Claude': 10739, 'clod': 10740, 'joyfully': 10741, 'respiration': 10742, '26': 10743, 'Agatha': 10744, 'Christie': 10745, 'Conestoga': 10746, 'Family': 10747, 'Head': 10748, 'Insert': 10749, 'Man': 10750, 'accurately': 10751, 'austere': 10752, 'casserole': 10753, 'coupled': 10754, 'flowered': 10755, 'orchestrates': 10756, 'overlooks': 10757, 'panty': 10758, 'photographing': 10759, 'pizzas': 10760, 'poses': 10761, 'promiscuous': 10762, 'provided': 10763, 'rearrange': 10764, 'reasonable': 10765, 'scratchy': 10766, 'selfconscious': 10767, 'spicy': 10768, 'unrealistic': 10769, 'wardrobe': 10770, 'washed': 10771, 'whim': 10772, 'crest': 10773, 'eagle': 10774, 'Buffy': 10775, 'Marie': 10776, 'Wampum': 10777, 'complies': 10778, 'dowry': 10779, 'peg': 10780, 'trafficked': 10781, 'Sounds': 10782, 'Wed': 10783, 'sling': 10784, 'toehold': 10785, 'resident': 10786, 'Sorrow': 10787, 'cannot': 10788, 'defiled': 10789, 'feathered': 10790, 'headdresses': 10791, 'murdering': 10792, 'seething': 10793, 'tragic': 10794, 'bedside': 10795, 'childlike': 10796, 'slinks': 10797, 'Ana': 10798, 'Classic': 10799, 'IBM': 10800, 'collection': 10801, 'floppies': 10802, 'introduction': 10803, 'lent': 10804, 'loaned': 10805, 'minds': 10806, 'notoriety': 10807, 'RUNAWAYS': 10808, 'Surely': 10809, 'butler': 10810, 'cig': 10811, 'consumed': 10812, 'curtained': 10813, 'outs': 10814, 'prepares': 10815, 'releases': 10816, 'stiffness': 10817, 'succumb': 10818, 'coiffured': 10819, 'fearfully': 10820, 'lair': 10821, 'lighted': 10822, 'likenesses': 10823, 'pose': 10824, 'represent': 10825, 'rotted': 10826, 'shudder': 10827, 'torments': 10828, 'Eagle': 10829, 'FIRE': 10830, 'Mike': 10831, 'harmful': 10832, 'inspired': 10833, 'mineral': 10834, 'sacrifice': 10835, 'simulates': 10836, 'tubes': 10837, 'Spencer': 10838, 'Tracey': 10839, 'anniversary': 10840, 'cracks': 10841, 'Abduhl': 10842, 'Arabian': 10843, 'Neish': 10844, 'Ram': 10845, 'Swedish': 10846, 'attracting': 10847, 'complected': 10848, 'kidnap': 10849, 'kidnapping': 10850, 'globs': 10851, 'protein': 10852, 'silhouette': 10853, 'stately': 10854, 'tortilla': 10855, 'xmas': 10856, 'Houston': 10857, 'decorative': 10858, 'nuzzle': 10859, 'Alpine': 10860, 'Lorne': 10861, 'Wagnerian': 10862, 'baring': 10863, 'bellow': 10864, 'cinders': 10865, 'claw': 10866, 'coaxes': 10867, 'fury': 10868, 'gates': 10869, 'goddesses': 10870, 'healed': 10871, 'hunted': 10872, 'hurl': 10873, 'hurling': 10874, 'immortal': 10875, 'meadows': 10876, 'roadside': 10877, 'servants': 10878, 'spears': 10879, 'threats': 10880, 'Coach': 10881, 'Ninja': 10882, 'amateurish': 10883, 'clumsy': 10884, 'extraordinary': 10885, 'fabric': 10886, 'flag': 10887, 'loss': 10888, 'renovate': 10889, 'secretive': 10890, 'someway': 10891, 'warrior': 10892, 'wonderment': 10893, 'Revenge': 10894, 'advising': 10895, 'reassurance': 10896, 'thermostat': 10897, 'Pardon': 10898, 'humbled': 10899, 'parting': 10900, 'seas': 10901, 'buffer': 10902, 'cord': 10903, 'horde': 10904, 'parachute': 10905, '630K': 10906, 'Plus': 10907, 'carload': 10908, 'codes': 10909, 'improvising': 10910, 'portable': 10911, 'transformer': 10912, 'swampy': 10913, 'amazement': 10914, 'diagnose': 10915, 'dipsticks': 10916, 'fucking': 10917, 'mechanics': 10918, 'qt': 10919, 'quart': 10920, 'sufficiently': 10921, 'zigzags': 10922, 'envision': 10923, 'habit': 10924, 'printing': 10925, 'rainbows': 10926, 'refined': 10927, 'subconscious': 10928, 'UR': 10929, 'airports': 10930, 'manure': 10931, 'promotional': 10932, 'shoveling': 10933, 'specifically': 10934, 'Ann': 10935, 'Bacon': 10936, 'counters': 10937, 'escalator': 10938, 'imagined': 10939, 'occasion': 10940, 'overflowing': 10941, 'sloped': 10942, 'Timothy': 10943, 'called_______': 10944, 'nearer': 10945, 'partitioned': 10946, 'roomettes': 10947, 'Justin': 10948, 'eight': 10949, 'frown': 10950, 'inattentive': 10951, 'knowledge': 10952, 'manners': 10953, 'respectful': 10954, 'masculine': 10955, '8200': 10956, 'Stingy': 10957, 'altitude': 10958, 'assigned': 10959, 'bender': 10960, 'lit': 10961, 'longed': 10962, 'plainer': 10963, 'refrigerators': 10964, 'servant': 10965, 'stoves': 10966, 'sudden': 10967, 'Pampers': 10968, 'overheard': 10969, 'scolds': 10970, 'AIDS': 10971, 'klutzy': 10972, 'locate': 10973, 'moons': 10974, 'racked': 10975, 'reversed': 10976, 'roles': 10977, 'throbbing': 10978, 'chimney': 10979, 'vents': 10980, 'Infirmary': 10981, 'expects': 10982, 'intercom': 10983, 'sinking': 10984, 'smitten': 10985, 'audio': 10986, 'tapes': 10987, 'Healing': 10988, 'nurturing': 10989, 'Gracie': 10990, 'arthritic': 10991, 'ballet': 10992, 'lasted': 10993, 'DNA': 10994, 'Hasani': 10995, 'coding': 10996, 'frayed': 10997, 'goosebumps': 10998, 'unknown': 10999, 'baths': 11000, 'immersions': 11001, 'procedures': 11002, 'vial': 11003, 'Nineteen': 11004, 'Nol': 11005, 'Roe': 11006, 'Twenty': 11007, 'companionship': 11008, 'scientist': 11009, 'south': 11010, '470': 11011, '472': 11012, '475': 11013, 'Kassee': 11014, 'Keshi': 11015, 'Kesi': 11016, 'Plant': 11017, 'Umbrella': 11018, 'empathize': 11019, 'jugs': 11020, 'plot': 11021, 'roots': 11022, 'stressed': 11023, 'tops': 11024, 'drumsticks': 11025, 'Xavier': 11026, 'counterpart': 11027, 'dancers': 11028, 'empress': 11029, 'honorable': 11030, 'loyal': 11031, 'sparkly': 11032, 'caused': 11033, 'provides': 11034, '3x3': 11035, 'Juba': 11036, 'Rueben': 11037, 'blank': 11038, 'twelve': 11039, 'twenty': 11040, 'Donahue': 11041, 'breakage': 11042, 'passport': 11043, 'comfy': 11044, 'flaming': 11045, 'mesh': 11046, 'nailed': 11047, 'redhead': 11048, 'redheaded': 11049, 'strips': 11050, 'standards': 11051, 'Pepsi': 11052, 'clumsiness': 11053, 'unconcernedly': 11054, 'cleansing': 11055, 'reassembled': 11056, '206': 11057, 'asshole': 11058, 'Hood': 11059, 'Tinkerbell': 11060, 'astounded': 11061, 'confuses': 11062, 'dent': 11063, 'flit': 11064, 'helmeted': 11065, 'jamb': 11066, 'mixing': 11067, 'pasted': 11068, 'perspectives': 11069, '409': 11070, 'Army': 11071, 'Olive': 11072, 'Oyl': 11073, 'groove': 11074, 'headliner': 11075, 'impress': 11076, 'Sexless': 11077, 'Tobacco': 11078, 'labeled': 11079, 'tobacco': 11080, 'goofing': 11081, 'Estoy': 11082, 'abuelita': 11083, 'ashamed': 11084, 'cosmetic': 11085, 'lowers': 11086, 'meddling': 11087, 'saloon': 11088, 'sponsors': 11089, 'workbook': 11090, 'Soldiers': 11091, 'airless': 11092, 'disgusting': 11093, 'dishonor': 11094, 'distracts': 11095, 'grit': 11096, 'grunting': 11097, 'hatch': 11098, 'humming': 11099, 'peach': 11100, 'porthole': 11101, 'preferable': 11102, 'resign': 11103, 'revealed': 11104, 'storage': 11105, 'sub': 11106, 'proportions': 11107, 'tapping': 11108, 'peephole': 11109, '1920': 11110, 'chuckles': 11111, 'goad': 11112, 'pilots': 11113, 'propeller': 11114, 'Ball': 11115, 'Lucile': 11116, 'conveyer': 11117, 'joggers': 11118, 'ooking': 11119, 'platforms': 11120, 'lottery': 11121, 'scrapes': 11122, 'slats': 11123, 'videotape': 11124, 'bleed': 11125, 'cords': 11126, 'fished': 11127, 'scar': 11128, 'expansive': 11129, 'recook': 11130, 'shortcut': 11131, 'AB': 11132, 'folding': 11133, 'spoof': 11134, 'owls': 11135, 'Enrnestine': 11136, 'NY': 11137, 'hover': 11138, 'medium': 11139, 'snip': 11140, 'subordinates': 11141, 'bone': 11142, 'Certified': 11143, 'Counselors': 11144, 'Psychology': 11145, 'assertiveness': 11146, 'cavern': 11147, 'tiled': 11148, 'Mart': 11149, 'Paper': 11150, 'buttoned': 11151, 'buttoning': 11152, 'nuzzles': 11153, 'petticoat': 11154, 'binder': 11155, 'appreciatively': 11156, 'considerate': 11157, 'jealously': 11158, '152': 11159, '232': 11160, 'debts': 11161, 'downhearted': 11162, 'Elephant': 11163, 'Whoopie': 11164, 'appointed': 11165, 'lisping': 11166, 'procession': 11167, 'protocol': 11168, 'rolled': 11169, 'sperm': 11170, 'BM': 11171, 'bound': 11172, 'caves': 11173, 'cocoon': 11174, 'conical': 11175, 'cradleboard': 11176, 'cruelly': 11177, 'defecate': 11178, 'enrages': 11179, 'entices': 11180, 'gruesome': 11181, 'lonesome': 11182, 'mourns': 11183, 'playmates': 11184, 'precarious': 11185, 'previews': 11186, 'psychotic': 11187, 'sewer': 11188, 'struggles': 11189, 'undertones': 11190, 'voluntarily': 11191, 'Visa': 11192, 'spontaneous': 11193, 'thrusting': 11194, '000': 11195, '8ths': 11196, 'Sharon': 11197, 'Tie': 11198, 'bulldozing': 11199, 'businessmen': 11200, 'farts': 11201, 'shaking': 11202, 'threat': 11203, 'wrapping': 11204, 'Nicholas': 11205, 'Plate': 11206, 'crazily': 11207, 'embassy': 11208, 'gong': 11209, 'Paint': 11210, 'laws': 11211, 'sooth': 11212, 'thankful': 11213, 'affixed': 11214, 'buckle': 11215, 'capsules': 11216, 'eve': 11217, 'hammering': 11218, 'hammers': 11219, 'packets': 11220, 'platelet': 11221, 'presenter': 11222, 'Lolita': 11223, 'Mason': 11224, 'brief': 11225, 'nipple': 11226, 'possessive': 11227, 'velour': 11228, 'abused': 11229, 'gaping': 11230, 'handful': 11231, 'hasten': 11232, 'mantel': 11233, 'sparrows': 11234, 'kitchens': 11235, 'nobody': 11236, 'flutter': 11237, 'focuses': 11238, 'drone': 11239, 'Mother': 11240, 'earth': 11241, 'intuition': 11242, 'starry': 11243, 'symbolizing': 11244, 'brad': 11245, 'corrects': 11246, 'expounds': 11247, 'sympathize': 11248, 'Johnson': 11249, 'altered': 11250, 'realities': 11251, 'Coalition': 11252, 'Darn': 11253, 'Disabilities': 11254, 'foodstuff': 11255, 'sputtering': 11256, 'cabinets': 11257, 'orchard': 11258, 'overgrown': 11259, 'athletic': 11260, 'facilitated': 11261, 'Year': 11262, 'ethical': 11263, 'insistent': 11264, 'disappearing': 11265, 'flirty': 11266, 'surround': 11267, 'articulate': 11268, 'diagrams': 11269, 'inhumane': 11270, 'lens': 11271, 'aboard': 11272, 'conversations': 11273, 'persist': 11274, 'organize': 11275, 'Know': 11276, 'distracted': 11277, 'fiddles': 11278, 'gambles': 11279, 'wavy': 11280, 'Offer': 11281, 'slaps': 11282, 'Delia': 11283, 'instruments': 11284, 'reverence': 11285, 'dawdle': 11286, 'dejectedly': 11287, 'merry': 11288, 'rounds': 11289, 'balled': 11290, 'beak': 11291, 'Field': 11292, 'Latin': 11293, 'Punchline': 11294, 'Richard': 11295, 'Teach': 11296, 'Teamsters': 11297, 'bony': 11298, 'bumping': 11299, 'haunted': 11300, 'huskies': 11301, 'languages': 11302, 'teamster': 11303, 'whence': 11304, 'amaze': 11305, 'fours': 11306, 'imitate': 11307, 'moans': 11308, 'romp': 11309, 'Samantha': 11310, 'frothy': 11311, 'harming': 11312, 'Ouch': 11313, 'bloodless': 11314, 'buoy': 11315, 'shipwrecked': 11316, 'Jamaica': 11317, 'defeated': 11318, 'destined': 11319, 'reserve': 11320, 'Owaha': 11321, 'chemicals': 11322, 'lousy': 11323, 'mumbled': 11324, 'nasty': 11325, 'psychologist': 11326, 'rinse': 11327, 'Fessing': 11328, 'corpse': 11329, 'marauded': 11330, 'talkie': 11331, 'tarantula': 11332, 'walkie': 11333, 'Trump': 11334, 'fighter': 11335, 'super': 11336, 'talus': 11337, '911': 11338, 'Chicano': 11339, 'anytime': 11340, 'deed': 11341, 'unsuccessful': 11342, 'graveled': 11343, 'Coming': 11344, 'associate': 11345, 'critters': 11346, 'discomfort': 11347, 'instruction': 11348, 'munchkin': 11349, 'poverty': 11350, 'vocal': 11351, 'yesterday': 11352, 'hypnogogic': 11353, 'sprockets': 11354, 'documentation': 11355, 'paradocs': 11356, 'paradox': 11357, 'February': 11358, 'interlaced': 11359, 'Lacote': 11360, 'obsidian': 11361, 'paneling': 11362, 'separates': 11363, 'flattened': 11364, 'media': 11365, 'peyote': 11366, 'Snarling': 11367, 'haw': 11368, 'smirk': 11369, 'snarling': 11370, 'squirrels': 11371, 'tiptoeing': 11372, 'unearth': 11373, 'Korea': 11374, 'benches': 11375, 'fossil': 11376, 'lavaliere': 11377, 'nodules': 11378, 'plucked': 11379, 'wired': 11380, 'sunken': 11381, 'enacting': 11382, 'lowly': 11383, 'marshal': 11384, 'reduced': 11385, 'voyager': 11386, 'climax': 11387, 'metallic': 11388, 'plains': 11389, 'unlatched': 11390, 'amber': 11391, 'observation': 11392, 'seizures': 11393, 'fossils': 11394, 'Duncan': 11395, 'Market': 11396, 'Capt': 11397, 'Move': 11398, 'ragging': 11399, 'discrimination': 11400, 'forgeries': 11401, 'wriggle': 11402, 'hostesses': 11403, 'mousers': 11404, 'tutors': 11405, 'popped': 11406, 'submarine': 11407, 'womb': 11408, 'Pick': 11409, 'bedspreads': 11410, 'childless': 11411, 'roomer': 11412, 'Bobby': 11413, 'Endless': 11414, 'Oswald': 11415, 'Weaver': 11416, 'acknowledged': 11417, 'charms': 11418, 'clues': 11419, 'curt': 11420, 'grouse': 11421, 'subdued': 11422, 'waxed': 11423, 'draining': 11424, 'flanged': 11425, 'flared': 11426, 'lilac': 11427, 'bagel': 11428, 'Earning': 11429, 'braid': 11430, 'brewing': 11431, 'diligent': 11432, 'massacre': 11433, 'paddled': 11434, 'praised': 11435, 'prayed': 11436, 'prayers': 11437, 'scorpion': 11438, 'synchronized': 11439, 'bruised': 11440, 'insulting': 11441, 'unladylike': 11442, '116': 11443, 'ordeal': 11444, 'owed': 11445, 'pistol': 11446, 'accessibility': 11447, 'interviewed': 11448, 'sock': 11449, 'Breeden': 11450, 'Gila': 11451, 'iguana': 11452, 'tend': 11453, 'yanks': 11454, 'Pablo': 11455, 'Whatever': 11456, 'vibrates': 11457, 'entities': 11458, 'healthily': 11459, 'Cinquint': 11460, 'Tonight': 11461, 'Yep': 11462, '___________': 11463, 'armchair': 11464, 'arousing': 11465, 'attempting': 11466, 'compose': 11467, 'hostess': 11468, 'refreshments': 11469, 'stockings': 11470, 'tradition': 11471, 'tuxedos': 11472, 'Africans': 11473, 'Catholic': 11474, 'Thousands': 11475, 'endless': 11476, 'frock': 11477, 'hymn': 11478, 'eel': 11479, 'gobbles': 11480, 'changer': 11481, 'Freight': 11482, 'crushed': 11483, 'literate': 11484, 'obscure': 11485, 'Delaware': 11486, 'Kate': 11487, 'furnished': 11488, 'hinge': 11489, 'jeering': 11490, 'legal': 11491, 'troop': 11492, 'standoffs': 11493, 'Rhoda': 11494, 'accomplices': 11495, 'confides': 11496, 'embassies': 11497, 'platoons': 11498, 'robed': 11499, 'Kitchen': 11500, 'Wasn': 11501, 'awaiting': 11502, 'poodle': 11503, 'sexed': 11504, 'waddle': 11505, 'ringlets': 11506, 'breezes': 11507, 'catapulted': 11508, 'crush': 11509, 'Su': 11510, 'Wo': 11511, 'der___': 11512, 'huiet': 11513, 'misbehaving': 11514, 'resuscitation': 11515, '8th': 11516, 'transferred': 11517, 'freezing': 11518, 'volunteering': 11519, 'stickers': 11520, 'Granddad': 11521, 'clashes': 11522, 'cues': 11523, 'transfusing': 11524, 'appeasement': 11525, 'clumsily': 11526, 'grapple': 11527, 'Brothel': 11528, 'Enterprises': 11529, 'vibrant': 11530, 'biting': 11531, 'rattler': 11532, 'unconcerned': 11533, 'wriggles': 11534, 'drainer': 11535, 'lasagna': 11536, 'Ben': 11537, 'Hwy': 11538, 'Mitchell': 11539, 'Rebecca': 11540, 'curio': 11541, 'headphones': 11542, 'highways': 11543, 'holster': 11544, 'inarticulate': 11545, 'mint': 11546, 'patty': 11547, 'regretting': 11548, 'reread': 11549, 'workshops': 11550, 'defends': 11551, 'Cole': 11552, 'allegory': 11553, 'calla': 11554, 'communicating': 11555, 'filters': 11556, 'florist': 11557, 'fourth': 11558, 'handling': 11559, 'hassock': 11560, 'insights': 11561, 'lilies': 11562, 'orchids': 11563, 'III': 11564, 'Nat': 11565, 'festivities': 11566, 'Salem': 11567, 'wipes': 11568, 'Okies': 11569, 'Ru': 11570, 'diarrhea': 11571, 'infected': 11572, 'jelly': 11573, 'pearl': 11574, 'thumbnail': 11575, 'Joseph': 11576, 'pow': 11577, 'rebuild': 11578, 'unraveling': 11579, 'wow': 11580, 'culpability': 11581, 'drools': 11582, 'stutters': 11583, 'implication': 11584, 'tents': 11585, 'blessed': 11586, 'congregation': 11587, 'departing': 11588, 'elders': 11589, 'handshaking': 11590, 'jiggle': 11591, 'sacraments': 11592, 'tremble': 11593, 'vestry': 11594, 'breasted': 11595, 'LA': 11596, 'impresses': 11597, 'boobs': 11598, 'feminist': 11599, 'handicapism': 11600, 'hassled': 11601, 'inane': 11602, 'lurid': 11603, 'pry': 11604, 'reform': 11605, 'stereotyped': 11606, 'prig': 11607, 'taker': 11608, 'Short': 11609, 'revamp': 11610, 'ap': 11611, 'intellectual': 11612, 'sensible': 11613, 'Shatner': 11614, 'William': 11615, 'ahhhs': 11616, 'identical': 11617, 'kisser': 11618, 'oohs': 11619, 'uninteresting': 11620, 'permits': 11621, 'niceties': 11622, 'overhang': 11623, 'overseeing': 11624, 'Crossing': 11625, 'Delancy': 11626, 'Orange': 11627, 'exchanged': 11628, 'cubicles': 11629, 'fin': 11630, 'quake': 11631, 'ridge': 11632, 'swells': 11633, 'Holy': 11634, 'classic': 11635, 'flavored': 11636, 'couches': 11637, 'saleslady': 11638, 'customs': 11639, 'majesty': 11640, 'energies': 11641, 'goner': 11642, 'roils': 11643, 'stretched': 11644, 'stumps': 11645, 'passion': 11646, 'nails': 11647, 'tacks': 11648, 'tipping': 11649, 'Protestant': 11650, 'chemo': 11651, 'Ivy': 11652, 'LLG': 11653, 'kinky': 11654, 'niggers': 11655, 'outrageous': 11656, 'scandalized': 11657, 'skeleton': 11658, 'troopers': 11659, 'cellar': 11660, 'doilies': 11661, 'crackling': 11662, 'critter': 11663, 'darkness': 11664, 'blame': 11665, 'enclosure': 11666, 'restrooms': 11667, 'sanitary': 11668, 'Girls': 11669, 'entryway': 11670, 'eraser': 11671, 'misleading': 11672, 'stroll': 11673, 'thereby': 11674, 'eves': 11675, 'lint': 11676, 'talis': 11677, 'zoom': 11678, 'Mexicans': 11679, 'accents': 11680, 'accomplished': 11681, 'admiringly': 11682, 'clap': 11683, 'clipped': 11684, 'applying': 11685, 'digital': 11686, 'shares': 11687, 'slapping': 11688, 'unstaffed': 11689, 'Around': 11690, 'fluorescent': 11691, 'interchange': 11692, 'valley': 11693, 'Illustrators': 11694, 'strict': 11695, 'Bring': 11696, 'Disability': 11697, 'Services': 11698, 'respectfully': 11699, 'crammed': 11700, 'roughly': 11701, 'ruthlessly': 11702, 'unwell': 11703, 'bales': 11704, 'sensuous': 11705, 'Basaltic': 11706, 'Bees': 11707, 'Hilton': 11708, 'beau': 11709, 'extreme': 11710, 'museum': 11711, 'narrative': 11712, 'pleases': 11713, 'tortured': 11714, 'bowing': 11715, 'fuddle': 11716, 'moustaches': 11717, 'spoils': 11718, 'twins': 11719, '170': 11720, 'Sexton': 11721, 'alcoves': 11722, 'barbershop': 11723, 'bowls': 11724, 'doggedly': 11725, 'porcelain': 11726, 'reel': 11727, 'spun': 11728, 'tackle': 11729, 'unusualness': 11730, 'vibrate': 11731, 'bodily': 11732, 'boom': 11733, 'frenzied': 11734, 'pepper': 11735, 'soaks': 11736, 'lab': 11737, 'physics': 11738, 'decipher': 11739, 'luety': 11740, 'manr': 11741, 'mined': 11742, 'quicker': 11743, 'owes': 11744, 'skull': 11745, 'granddaughter': 11746, 'imitative': 11747, 'stairwell': 11748, 'cheats': 11749, 'golfers': 11750, 'hairs': 11751, 'possessively': 11752, 'pumpkin': 11753, 'stroking': 11754, 'weights': 11755, 'bassinet': 11756, 'calms': 11757, 'gaining': 11758, 'nurtured': 11759, 'preemie': 11760, 'surviving': 11761, 'swallowing': 11762, 'unformed': 11763, 'Second': 11764, 'crescendo': 11765, 'gig': 11766, 'melody': 11767, 'trivializing': 11768, 'Mission': 11769, 'Third': 11770, 'Unique': 11771, 'amplifies': 11772, 'catholic': 11773, 'grizzlies': 11774, 'hums': 11775, 'keen': 11776, 'mosquito': 11777, 'printer': 11778, 'uncontrollably': 11779, 'Pa': 11780, 'burden': 11781, 'fare': 11782, 'plentiful': 11783, 'relaxes': 11784, 'grasses': 11785, 'spying': 11786, 'eager': 11787, 'mistrust': 11788, 'scruffy': 11789, 'crushes': 11790, 'prevented': 11791, 'range': 11792, 'attuned': 11793, 'stocky': 11794, 'torture': 11795, 'whirl': 11796, 'enlarger': 11797, 'politeness': 11798, 'Calif': 11799, 'mown': 11800, '36': 11801, 'daycare': 11802, 'grant': 11803, 'mouthed': 11804, 'nature': 11805, 'unpredictable': 11806, 'springing': 11807, 'unhooked': 11808, 'DJ': 11809, 'KLAC': 11810, 'MY': 11811, 'Napt': 11812, 'Charlton': 11813, 'Heston': 11814, 'Terribly': 11815, 'bombing': 11816, 'cannons': 11817, 'discount': 11818, 'enamel': 11819, 'forests': 11820, 'hopeless': 11821, 'inundated': 11822, 'minis': 11823, 'saver': 11824, 'stink': 11825, 'timid': 11826, 'washes': 11827, 'guild': 11828, 'pencils': 11829, 'supplies': 11830, 'workaholics': 11831, 'showcase': 11832, 'brine': 11833, 'combine': 11834, 'dawn': 11835, 'muslin': 11836, 'sandy': 11837, 'Philosophy': 11838, 'Solid': 11839, 'spits': 11840, '29': 11841, 'Hospital': 11842, 'Vincent': 11843, 'duties': 11844, 'improving': 11845, 'secretarial': 11846, 'Jillian': 11847, 'epileptic': 11848, 'haughtily': 11849, 'mowed': 11850, 'furthest': 11851, 'rot': 11852, 'torch': 11853, 'dropoff': 11854, 'eddying': 11855, 'Rod': 11856, 'Ron': 11857, 'pods': 11858, 'Dennis': 11859, 'contrast': 11860, 'rewrite': 11861, 'sequences': 11862, 'Crackers': 11863, 'Rye': 11864, 'Trust': 11865, 'porkchop': 11866, 'Ferris': 11867, 'Fourteen': 11868, 'demented': 11869, 'gamble': 11870, 'gambling': 11871, 'Clare': 11872, 'Melissa': 11873, 'Sug': 11874, 'Sugar': 11875, 'clay': 11876, 'embers': 11877, 'kiln': 11878, 'mold': 11879, 'unstrapped': 11880, 'marital': 11881, 'violated': 11882, 'rests': 11883, 'stressful': 11884, 'Amber': 11885, 'surrounds': 11886, 'absorbed': 11887, 'bless': 11888, 'creativeness': 11889, 'departure': 11890, 'intelligence': 11891, 'melded': 11892, 'mutely': 11893, 'natures': 11894, 'needy': 11895, 'nourishment': 11896, 'octopus': 11897, 'radiating': 11898, 'seals': 11899, 'Buck': 11900, 'Bucko': 11901, 'Inside': 11902, 'OSU': 11903, 'Quonset': 11904, 'dilapidated': 11905, 'resistance': 11906, 'Helicopters': 11907, 'Lieutenant': 11908, 'empathetic': 11909, 'endangering': 11910, 'fasten': 11911, 'foul': 11912, 'identifying': 11913, 'storytelling': 11914, 'suffocated': 11915, 'uninjured': 11916, 'whiz': 11917, 'avoiding': 11918, 'obligation': 11919, 'originally': 11920, 'partake': 11921, 'pumping': 11922, 'rested': 11923, 'weenie': 11924, 'Careful': 11925, 'symbolizes': 11926, 'epicenter': 11927, '504': 11928, 'acceptance': 11929, 'approved': 11930, 'Won': 11931, 'cliffs': 11932, 'deserters': 11933, 'downriver': 11934, 'handy': 11935, 'loin': 11936, 'misting': 11937, 'protruding': 11938, 'pulley': 11939, 'shitless': 11940, 'softer': 11941, 'tanned': 11942, 'thunderous': 11943, 'thunderstorm': 11944, 'victorious': 11945, 'fame': 11946, 'triple': 11947, 'arresting': 11948, 'blankly': 11949, 'naptime': 11950, 'portrait': 11951, 'portraits': 11952, 'rendition': 11953, 'thunder': 11954, 'personalities': 11955, 'Cathran': 11956, 'distraction': 11957, 'retired': 11958, 'rodeo': 11959, 'culprit': 11960, 'proven': 11961, 'resourceful': 11962, 'responses': 11963, 'scraps': 11964, 'shorten': 11965, 'Magical': 11966, 'godparents': 11967, 'iced': 11968, 'magical': 11969, 'playhouse': 11970, 'playhouses': 11971, 'restored': 11972, 'ruby': 11973, 'selves': 11974, 'celebration': 11975, 'collide': 11976, 'croons': 11977, 'mating': 11978, 'median': 11979, 'pedaling': 11980, 'tech': 11981, 'fulfill': 11982, 'gasping': 11983, 'surrender': 11984, 'thighs': 11985, 'aflame': 11986, 'Lazy': 11987, 'Ultimate': 11988, 'Wild': 11989, 'archetypes': 11990, 'booklet': 11991, 'descriptions': 11992, 'freak': 11993, 'headings': 11994, 'perceive': 11995, 'stretching': 11996, 'treasures': 11997, 'vanity': 11998, 'captive': 11999, 'cruelty': 12000, 'enabler': 12001, 'merely': 12002, 'begs': 12003, 'appliques': 12004, 'indecision': 12005, 'milder': 12006, 'amputated': 12007, 'cringe': 12008, 'deficit': 12009, 'heartbroken': 12010, 'intimately': 12011, 'licks': 12012, 'repugnant': 12013, 'endanger': 12014, 'spoil': 12015, 'zapping': 12016, 'reasoning': 12017, 'infinity': 12018, 'Katrina': 12019, 'whenever': 12020, 'composition': 12021, 'Jews': 12022, 'agents': 12023, 'capturing': 12024, 'dictator': 12025, 'plank': 12026, 'indifferent': 12027, 'endangered': 12028, 'anticipating': 12029, 'cable': 12030, 'creates': 12031, 'magically': 12032, 'produces': 12033, 'quantity': 12034, 'Christ': 12035, 'crucifix': 12036, 'submerse': 12037, 'bang': 12038, 'longing': 12039, 'seagoing': 12040, 'sooo': 12041, 'stabbed': 12042, 'Israel': 12043, 'Open': 12044, 'lb': 12045, 'logic': 12046, 'ponders': 12047, 'filth': 12048, 'poached': 12049, 'recessed': 12050, 'recliner': 12051, 'irons': 12052, 'kits': 12053, 'mending': 12054, 'storing': 12055, 'bravado': 12056, 'twisting': 12057, 'Roses': 12058, 'complaint': 12059, 'diagonal': 12060, 'disfigured': 12061, 'Spain': 12062, 'caramels': 12063, 'examines': 12064, 'fright': 12065, 'irritate': 12066, 'reindeer': 12067, 'Locke': 12068, 'Mann': 12069, 'Names': 12070, 'Sharp': 12071, 'bias': 12072, 'entertained': 12073, 'fortunate': 12074, 'mimeographed': 12075, 'mm': 12076, 'poets': 12077, 'resume': 12078, 'text': 12079, 'Business': 12080, 'Manager': 12081, 'ad': 12082, 'inspecting': 12083, 'rejection': 12084, 'revue': 12085, 'tare': 12086, 'tear': 12087, 'ugh': 12088, 'useless': 12089, 'worded': 12090, '47': 12091, 'Dudley': 12092, '_____': 12093, 'demonstrates': 12094, 'exaggerate': 12095, 'fixings': 12096, 'formulate': 12097, 'posts': 12098, 'victims': 12099, 'yawn': 12100, 'forge': 12101, 'nozzles': 12102, 'scissor': 12103, 'celebrity': 12104, 'gator': 12105, 'lecturer': 12106, 'posture': 12107, 'recompense': 12108, 'renegotiate': 12109, 'slithers': 12110, 'storyteller': 12111, 'handmade': 12112, 'fad': 12113, 'seek': 12114, 'sunburn': 12115, '63A': 12116, 'Bunyan': 12117, 'Mountain': 12118, 'Rocky': 12119, 'airline': 12120, 'confess': 12121, 'monument': 12122, 'requests': 12123, 'reserved': 12124, 'scam': 12125, 'snooty': 12126, 'velcro': 12127, 'Neither': 12128, 'cherubs': 12129, 'isolation': 12130, 'everyday': 12131, 'spouts': 12132, 'Better': 12133, 'foreman': 12134, 'girder': 12135, 'hindering': 12136, 'storied': 12137, 'structural': 12138, '23': 12139, 'BLUE': 12140, 'Blues': 12141, 'LENS': 12142, 'Music': 12143, 'VIP': 12144, '78': 12145, 'apiece': 12146, 'renting': 12147, 'sly': 12148, 'markers': 12149, 'squatting': 12150, 'tilted': 12151, 'Caught': 12152, 'Danny': 12153, 'Devito': 12154, 'Dunaway': 12155, 'Faye': 12156, 'cheers': 12157, 'hatred': 12158, 'lively': 12159, 'relentless': 12160, 'squeaking': 12161, 'tabby': 12162, 'vacuuming': 12163, 'wiggly': 12164, 'wonderfully': 12165, 'yammering': 12166, 'thorns': 12167, 'blindness': 12168, 'pageboy': 12169, 'dodges': 12170, 'revealingly': 12171, 'slut': 12172, 'swords': 12173, 'counts': 12174, 'assembly': 12175, 'constrictor': 12176, 'insisting': 12177, 'warranted': 12178, 'Alpert': 12179, 'Beyond': 12180, 'Chicago': 12181, 'Confusion': 12182, 'Herb': 12183, 'Valley': 12184, 'aspergum': 12185, 'choir': 12186, 'dispenser': 12187, 'dogmatic': 12188, 'foofy': 12189, 'imprinted': 12190, 'jive': 12191, 'netting': 12192, 'pastor': 12193, 'pharmacy': 12194, 'services': 12195, 'trombones': 12196, 'Shat': 12197, 'brazens': 12198, 'hospitality': 12199, 'ridiculing': 12200, 'formations': 12201, 'harmonizing': 12202, 'shoreline': 12203, 'Goldberg': 12204, 'Machine': 12205, 'Rube': 12206, 'convenience': 12207, 'duller': 12208, 'grudging': 12209, 'marsh': 12210, 'persistence': 12211, 'proposition': 12212, 'receptionist': 12213, 'sculpture': 12214, 'seller': 12215, 'unnecessarily': 12216, 'unsmiling': 12217, 'classrooms': 12218, 'frank': 12219, 'impolite': 12220, 'manger': 12221, 'occupation': 12222, 'crisis': 12223, 'memorabilia': 12224, 'posh': 12225, 'Burton': 12226, 'Far': 12227, 'connive': 12228, 'courtesy': 12229, 'extending': 12230, 'renegade': 12231, 'upriver': 12232, 'afterbirth': 12233, 'mumbly': 12234, 'monastery': 12235, 'Checks': 12236, 'Traveler': 12237, 'applicator': 12238, 'correction': 12239, 'Mamma': 12240, 'accordion': 12241, 'bathes': 12242, 'IV': 12243, 'reclining': 12244, 'athlete': 12245, 'boxers': 12246, 'fetish': 12247, 'offense': 12248, 'trousers': 12249, 'befriend': 12250, 'saxophone': 12251, 'brilliantly': 12252, 'cryptic': 12253, 'luminous': 12254, 'dogging': 12255, 'essentially': 12256, 'Beautiful': 12257, 'metaphor': 12258, 'rescues': 12259, 'spout': 12260, 'Anderson': 12261, 'Court': 12262, 'Deana': 12263, 'Night': 12264, 'Trek': 12265, 'cower': 12266, 'despises': 12267, 'forcefully': 12268, 'medic': 12269, 'misjudged': 12270, 'muzzle': 12271, 'pronunciations': 12272, 'relentlessly': 12273, 'replaces': 12274, 'salvation': 12275, 'graey': 12276, 'letterhead': 12277, 'maul': 12278, 'snidely': 12279, 'OCUCA': 12280, 'Shakespeare': 12281, 'fillias': 12282, 'keynote': 12283, 'meters': 12284, 'units': 12285, 'appreciation': 12286, 'dustpans': 12287, 'ripoff': 12288, 'strand': 12289, 'web': 12290, 'indulgently': 12291, 'arguments': 12292, 'elder': 12293, 'lynch': 12294, 'mellow': 12295, 'wailing': 12296, 'Interior': 12297, 'brooding': 12298, 'provincial': 12299, 'spices': 12300, 'wisteria': 12301, 'Rodney': 12302, 'amusements': 12303, 'classics': 12304, 'clinks': 12305, 'hideaway': 12306, 'hoop': 12307, 'notation': 12308, 'shadowy': 12309, 'steeply': 12310, 'tadpoles': 12311, 'teardrop': 12312, 'usable': 12313, 'clingy': 12314, 'decay': 12315, 'hatching': 12316, 'insects': 12317, 'nightmarish': 12318, 'seamy': 12319, 'sensation': 12320, 'snakes': 12321, 'squirm': 12322, 'termites': 12323, 'flaws': 12324, 'gem': 12325, 'Duane': 12326, 'exploring': 12327, 'extensive': 12328, 'flowering': 12329, 'hysterectomy': 12330, 'shrunken': 12331, 'angers': 12332, 'mainland': 12333, 'mangrove': 12334, 'cubes': 12335, 'Bates': 12336, 'Restaurant': 12337, 'amend': 12338, 'Hillyard': 12339, 'Ok': 12340, 'baggy': 12341, 'distractedly': 12342, 'hobo': 12343, 'hurries': 12344, 'pm': 12345, 'braces': 12346, 'floppy': 12347, 'impediments': 12348, 'Alfonso': 12349, 'Holly': 12350, 'Peace': 12351, 'anteater': 12352, 'gutted': 12353, 'lifeless': 12354, 'sirens': 12355, 'canned': 12356, 'compellingly': 12357, 'complications': 12358, 'drowsy': 12359, 'favorable': 12360, 'narcotic': 12361, 'op': 12362, 'pony': 12363, 'stupor': 12364, 'identify': 12365, 'mash': 12366, 'mish': 12367, 'Dreyfuss': 12368, 'Meets': 12369, 'Spangled': 12370, 'Stanley': 12371, 'Wash': 12372, 'arty': 12373, 'cheaper': 12374, 'creeps': 12375, 'ditsy': 12376, 'framing': 12377, 'girlfriends': 12378, 'mothering': 12379, 'powerlessness': 12380, 'selfishness': 12381, 'skipped': 12382, 'spirited': 12383, 'studs': 12384, 'ungenerous': 12385, 'vacuous': 12386, 'Sherry': 12387, 'aerobic': 12388, 'stomps': 12389, 'swearing': 12390, 'traction': 12391, 'befriends': 12392, 'excursion': 12393, 'pineapples': 12394, 'opponent': 12395, 'wrestler': 12396, 'wrestles': 12397, 'crocheting': 12398, 'Seems': 12399, 'formica': 12400, 'heavyset': 12401, 'poles': 12402, 'pruning': 12403, 'rely': 12404, 'sprout': 12405, 'stern': 12406, 'strung': 12407, 'stump': 12408, 'utilized': 12409, 'Lie': 12410, 'cemented': 12411, 'volcanic': 12412, 'Mo': 12413, 'Total': 12414, 'foaming': 12415, 'sleepers': 12416, 'Found': 12417, 'bracelets': 12418, 'remover': 12419, 'skips': 12420, 'strap': 12421, 'Clarisa': 12422, 'cheerfully': 12423, 'festival': 12424, 'hurried': 12425, 'Bright': 12426, 'beaming': 12427, 'kleig': 12428, 'layout': 12429, 'salon': 12430, 'terrain': 12431, 'closets': 12432, 'heals': 12433, 'husky': 12434, 'smelly': 12435, 'snapping': 12436, '238': 12437, 'Miss': 12438, 'bouffant': 12439, 'checkout': 12440, 'flashlights': 12441, 'petticoats': 12442, 'footprint': 12443, 'indentations': 12444, 'Anatomy': 12445, 'Congress': 12446, 'Freud': 12447, 'Library': 12448, 'Reviving': 12449, 'tenant': 12450, 'Hug': 12451, 'Howie': 12452, 'production': 12453, 'resolutely': 12454, 'Doody': 12455, 'Howdy': 12456, 'cyst': 12457, 'perms': 12458, 'reframe': 12459, 'reprimanded': 12460, 'resisted': 12461, 'rugs': 12462, 'scent': 12463, 'stinky': 12464, 'frisks': 12465, 'listless': 12466, 'rambunctious': 12467, 'Baker': 12468, 'Carole': 12469, 'bells': 12470, 'churches': 12471, 'roon': 12472, 'sauntering': 12473, 'autographs': 12474, 'rink': 12475, 'guitarist': 12476, 'sewn': 12477, 'arbitrary': 12478, 'bittersweet': 12479, 'brochures': 12480, 'circumstances': 12481, 'dearly': 12482, 'deserved': 12483, 'deserves': 12484, 'ejected': 12485, 'failure': 12486, 'hookers': 12487, 'horizon': 12488, 'overpriced': 12489, 'passengers': 12490, 'per': 12491, 'rebel': 12492, 'shorted': 12493, 'steward': 12494, 'systematic': 12495, 'tik': 12496, 'urging': 12497, 'worthy': 12498, 'droppings': 12499, 'streaked': 12500, 'Empty': 12501, 'Jaguar': 12502, 'gears': 12503, 'jars': 12504, 'rev': 12505, 'righteously': 12506, 'rotating': 12507, 'seduces': 12508, 'slung': 12509, 'solitude': 12510, 'specialty': 12511, 'stomp': 12512, 'upsets': 12513, 'brutal': 12514, 'afloat': 12515, 'dilemma': 12516, 'floundering': 12517, 'uglies': 12518, 'Cascade': 12519, '____________': 12520, 'motion': 12521, 'Prince': 12522, 'rejects': 12523, 'despondent': 12524, 'forgives': 12525, 'Jeb': 12526, 'catty': 12527, 'leprosy': 12528, 'peed': 12529, 'Fire': 12530, 'barrage': 12531, 'chokes': 12532, 'delinquent': 12533, 'honesty': 12534, 'hostage': 12535, 'juvenile': 12536, 'Coda': 12537, 'Since': 12538, 'adamant': 12539, 'contracted': 12540, 'happier': 12541, 'kickback': 12542, 'Bugs': 12543, 'Bunny': 12544, 'Heffalump': 12545, 'gracefulness': 12546, 'impede': 12547, 'Arlo': 12548, 'Guthrie': 12549, 'Sellers': 12550, 'droopy': 12551, 'playscript': 12552, 'Besides': 12553, 'Lyons': 12554, 'Record': 12555, 'absurd': 12556, 'bartenders': 12557, 'calliope': 12558, 'crook': 12559, 'crowding': 12560, 'flavors': 12561, 'leash': 12562, 'pressed': 12563, 'pressing': 12564, 'rhinos': 12565, 'sugared': 12566, 'tails': 12567, 'teas': 12568, 'unlucky': 12569, 'Slyvie': 12570, 'Sunny': 12571, 'announcements': 12572, 'attending': 12573, 'chanting': 12574, 'Glenda': 12575, 'Hawke': 12576, 'Pairs': 12577, 'dummies': 12578, 'dunked': 12579, 'extender': 12580, 'mannequin': 12581, 'yelps': 12582, 'Ginger': 12583, 'Rogers': 12584, 'rocked': 12585, 'rudely': 12586, 'sentences': 12587, 'wiped': 12588, 'Billy': 12589, 'Hanks': 12590, 'Jimmy': 12591, 'Stewart': 12592, 'witty': 12593, 'embracing': 12594, 'gifted': 12595, 'musically': 12596, 'negatives': 12597, 'savings': 12598, 'screws': 12599, 'shyness': 12600, 'situations': 12601, 'teaches': 12602, 'Tsk': 12603, 'comedically': 12604, 'foreshadowing': 12605, 'tuppance': 12606, 'Celebrate': 12607, 'MacBeth': 12608, 'Naturally': 12609, 'Warf': 12610, 'chuckled': 12611, 'differences': 12612, 'discriminating': 12613, 'diversity': 12614, 'launch': 12615, 'recruit': 12616, 'spectacularly': 12617, 'DC': 12618, 'Senator': 12619, '1729': 12620, '1730': 12621, '1731': 12622, 'Were': 12623, 'antennas': 12624, 'clam': 12625, 'crunching': 12626, 'lured': 12627, 'twitch': 12628, 'Concentrate': 12629, 'Doris': 12630, 'cajoling': 12631, 'lures': 12632, 'maims': 12633, 'penetrate': 12634, 'scientists': 12635, 'serpentine': 12636, 'sickening': 12637, 'spurting': 12638, 'swooning': 12639, 'closing': 12640, 'hotter': 12641, 'overall': 12642, 'steamy': 12643, 'maimed': 12644, 'manly': 12645, 'mauling': 12646, 'saddle': 12647, 'sport': 12648, 'imaginary': 12649, 'misstep': 12650, 'planks': 12651, 'trestle': 12652, 'trestles': 12653, 'cuffs': 12654, 'draping': 12655, 'Ringo': 12656, 'Starr': 12657, 'drenching': 12658, 'rowdy': 12659, 'starred': 12660, 'counselees': 12661, 'criminals': 12662, 'knickknack': 12663, 'pitchers': 12664, 'womanness': 12665, 'esteem': 12666, 'gibberish': 12667, 'paces': 12668, 'unsolvable': 12669, 'latent': 12670, 'NASA': 12671, 'beloved': 12672, 'bikers': 12673, 'efficient': 12674, 'fondle': 12675, 'gymnast': 12676, 'immaturity': 12677, 'intensified': 12678, 'intensive': 12679, 'maleness': 12680, 'obsessing': 12681, 'pedal': 12682, 'rockets': 12683, 'souped': 12684, 'synchronicity': 12685, 'Briggs': 12686, 'agent': 12687, 'dustpan': 12688, 'investigating': 12689, 'piglet': 12690, 'roust': 12691, 'pigs': 12692, 'emulate': 12693, 'expresses': 12694, 'kiddie': 12695, 'lurches': 12696, 'pedals': 12697, 'scoops': 12698, 'squish': 12699, 'sued': 12700, '17': 12701, 'distinguished': 12702, 'harassment': 12703, 'injury': 12704, 'interests': 12705, 'manages': 12706, 'offish': 12707, 'slumming': 12708, 'allure': 12709, 'alluring': 12710, 'elf': 12711, 'elves': 12712, 'matador': 12713, 'platoon': 12714, 'slab': 12715, 'urchins': 12716, 'Doyle': 12717, 'outdone': 12718, 'peninsula': 12719, 'philosophy': 12720, 'solemnly': 12721, '512': 12722, 'Benjamin': 12723, 'Darth': 12724, 'Hans': 12725, 'Solo': 12726, 'Vader': 12727, 'coverlet': 12728, 'agreeable': 12729, 'quadrant': 12730, 'absentmindedly': 12731, 'adjusting': 12732, 'altar': 12733, 'bandages': 12734, 'clinic': 12735, 'existed': 12736, 'operatic': 12737, 'unwraps': 12738, 'Preacher': 12739, 'boarder': 12740, 'emission': 12741, 'employed': 12742, 'leakage': 12743, 'leftovers': 12744, 'plutonic': 12745, 'semen': 12746, 'skunking': 12747, 'thwarted': 12748, 'puddling': 12749, 'treaters': 12750, 'treating': 12751, 'arbitrarily': 12752, 'citizens': 12753, 'loaded': 12754, 'minority': 12755, 'postcards': 12756, 'thermofax': 12757, 'Fame': 12758, 'Kern': 12759, 'appropriations': 12760, 'cavalier': 12761, 'playwright': 12762, 'chemise': 12763, 'guiltily': 12764, 'nags': 12765, 'relying': 12766, 'rewriting': 12767, 'Kitty': 12768, 'Canal': 12769, 'Panama': 12770, 'Want': 12771, 'badlands': 12772, 'breeze': 12773, 'burdened': 12774, 'eruption': 12775, 'padding': 12776, 'pierced': 12777, 'pyramid': 12778, 'sawed': 12779, 'segments': 12780, 'sharpshooting': 12781, 'shyster': 12782, 'target': 12783, 'telephoto': 12784, 'Caroline': 12785, 'Doing': 12786, 'dangle': 12787, 'grid': 12788, 'matchbooks': 12789, 'snookered': 12790, 'swarms': 12791, 'Bridgette': 12792, 'Cosmos': 12793, 'Magazine': 12794, 'crip': 12795, 'electrodes': 12796, 'monitored': 12797, 'oversized': 12798, 'refection': 12799, 'Dick': 12800, 'Dyke': 12801, 'Myself': 12802, 'Van': 12803, 'comics': 12804, 'crouches': 12805, 'placing': 12806, 'scissors': 12807, 'slash': 12808, 'superintendent': 12809, 'Mercury': 12810, 'carelessness': 12811, 'reflection': 12812, 'reluctance': 12813, 'tanker': 12814, 'Audry': 12815, 'Horrors': 12816, 'Kevin': 12817, 'Kleenexes': 12818, 'Kline': 12819, 'Shop': 12820, 'briefs': 12821, 'distinguishing': 12822, 'abruptly': 12823, 'taverns': 12824, 'alternating': 12825, 'capacity': 12826, 'symbiotic': 12827, 'Alcoholism': 12828, 'restrain': 12829, 'sare': 12830, '68': 12831, 'Hope': 12832, 'devices': 12833, 'dollies': 12834, 'outstretched': 12835, 'rearranges': 12836, 'sever': 12837, 'severe': 12838, 'severing': 12839, 'Negro': 12840, 'Queens': 12841, 'backrest': 12842, 'colleges': 12843, 'ditch': 12844, 'fumble': 12845, 'selfless': 12846, 'subsidize': 12847, 'worthwhile': 12848, 'bachelor': 12849, 'clearance': 12850, 'dependent': 12851, 'lbs': 12852, 'ton': 12853, '95': 12854, 'Toni': 12855, 'molested': 12856, 'molests': 12857, 'unbuttons': 12858, 'vivacious': 12859, 'formally': 12860, 'CIA': 12861, 'Chevron': 12862, 'conspicuous': 12863, 'gardenia': 12864, 'transaction': 12865, 'bloated': 12866, 'deliver': 12867, 'fountain': 12868, 'haws': 12869, 'realization': 12870, 'Luc': 12871, 'accentuate': 12872, 'anticipated': 12873, 'fakes': 12874, 'ganglia': 12875, 'incongruous': 12876, 'overrides': 12877, 'retaliates': 12878, 'undress': 12879, 'visitor': 12880, '31': 12881, 'Bath': 12882, 'Desiden': 12883, 'Hat': 12884, 'Hopefully': 12885, 'asserting': 12886, 'bribing': 12887, 'effect': 12888, 'hunter': 12889, 'ruffle': 12890, 'snug': 12891, 'variegated': 12892, 'connecting': 12893, 'frolics': 12894, 'goof': 12895, 'groupings': 12896, 'luxury': 12897, 'spaciousness': 12898, 'stroller': 12899, 'bobcat': 12900, 'cylindrical': 12901, 'fooling': 12902, 'foyer': 12903, 'furred': 12904, 'prances': 12905, 'sensuously': 12906, 'adds': 12907, 'compelling': 12908, 'shitty': 12909, 'traces': 12910, 'trend': 12911, 'turmoil': 12912, 'Shame': 12913, 'degrading': 12914, 'deliciously': 12915, 'victim': 12916, 'Dresses': 12917, 'Prom': 12918, 'Sink': 12919, '2908': 12920, '40s': 12921, 'Days': 12922, 'Hop': 12923, 'Relieved': 12924, 'Yoo': 12925, 'brothel': 12926, 'chattering': 12927, 'coughs': 12928, 'coup': 12929, 'coworkers': 12930, 'editors': 12931, 'hoo': 12932, 'maitre': 12933, 'meaningfully': 12934, 'processing': 12935, 'protractor': 12936, 'resolve': 12937, 'rippling': 12938, 'spruce': 12939, 'whisky': 12940, 'wrinkling': 12941, 'Chi': 12942, 'Swartzenegger': 12943, 'Tai': 12944, 'combination': 12945, 'diffidence': 12946, 'leafy': 12947, 'prospect': 12948, 'robotic': 12949, 'scrambles': 12950, 'telephones': 12951, 'Desert': 12952, 'Scary': 12953, 'Storm': 12954, 'Weeks': 12955, 'adapt': 12956, 'bury': 12957, 'campfire': 12958, 'dire': 12959, 'stoically': 12960, 'straits': 12961, 'tests': 12962, 'approval': 12963, 'bleached': 12964, 'chants': 12965, 'fatty': 12966, 'forgiveness': 12967, 'potion': 12968, 'shamrock': 12969, 'traumatic': 12970, 'tumor': 12971, 'Liberty': 12972, 'affect': 12973, 'doughy': 12974, 'liberty': 12975, 'conscientiously': 12976, 'breathtaking': 12977, 'disturbs': 12978, 'sunset': 12979, 'Deborah': 12980, 'Gregory': 12981, 'Kerr': 12982, 'Peck': 12983, 'ornamental': 12984, 'priesthood': 12985, 'Grade': 12986, 'Cascades': 12987, 'Central': 12988, 'Unitarian': 12989, 'afar': 12990, 'economics': 12991, 'icy': 12992, 'patting': 12993, 'Gritting': 12994, 'hearse': 12995, 'mourners': 12996, 'possibilities': 12997, 'spreading': 12998, 'Stud': 12999, 'battery': 13000, 'centaur': 13001, 'connectedness': 13002, 'disturbing': 13003, 'furnishings': 13004, 'implications': 13005, 'inching': 13006, 'inopportune': 13007, 'inspection': 13008, 'panoramic': 13009, 'quieter': 13010, 'recharger': 13011, 'refurbished': 13012, 'stereotype': 13013, 'Galilee': 13014, 'Sea': 13015, 'perverted': 13016, 'Rape': 13017, 'Warrior': 13018, 'barreled': 13019, 'gauge': 13020, 'grenade': 13021, 'mill': 13022, 'powder': 13023, 'shotgun': 13024, 'Anybody': 13025, 'approvingly': 13026, 'obey': 13027, 'straining': 13028, 'trespassing': 13029, 'backwater': 13030, 'behaves': 13031, 'chaps': 13032, 'conclusive': 13033, 'flippant': 13034, 'mr': 13035, 'negligent': 13036, 'pinpoint': 13037, 'playsuit': 13038, 'Joni': 13039, 'Rachael': 13040, 'Woodward': 13041, 'emerges': 13042, 'outing': 13043, 'rearing': 13044, 'sensuality': 13045, 'submerging': 13046, 'unfurled': 13047, 'virile': 13048, 'hinted': 13049, 'significantly': 13050, 'Rover': 13051, 'behaved': 13052, 'merrily': 13053, '59': 13054, 'Bumblebee': 13055, 'Dancers': 13056, 'Flamenco': 13057, 'Flight': 13058, 'positioned': 13059, 'critiqued': 13060, 'baloney': 13061, 'Crist': 13062, 'Words': 13063, 'Hugging': 13064, 'charges': 13065, 'limits': 13066, 'protectively': 13067, 'Ding': 13068, 'explosive': 13069, 'mush': 13070, 'pail': 13071, 'rubbers': 13072, '837': 13073, 'Steven': 13074, 'Victor': 13075, 'MIUSA': 13076, 'crayons': 13077, 'freebie': 13078, 'prizes': 13079, 'tights': 13080, 'tunic': 13081, 'Live': 13082, 'heaps': 13083, 'incomprehensible': 13084, 'mailboxes': 13085, 'sniff': 13086, 'vulva': 13087, 'Squeeze': 13088, 'Changing': 13089, 'Feather': 13090, 'peppered': 13091, 'Battleships': 13092, 'Allgier': 13093, 'Marche': 13094, 'chuga': 13095, 'circular': 13096, 'riffs': 13097, 'accidental': 13098, 'dispute': 13099, 'fowl': 13100, 'geese': 13101, 'hassling': 13102, 'overnight': 13103, 'Fischer': 13104, 'weatherman': 13105, 'cardigans': 13106, 'chastises': 13107, 'remorse': 13108, 'spank': 13109, 'Elmer': 13110, 'fray': 13111, 'meanies': 13112, 'progressively': 13113, 'purring': 13114, 'readily': 13115, 'shield': 13116, 'Dominance': 13117, 'dominance': 13118, 'satisfaction': 13119, 'destructive': 13120, 'presenting': 13121, 'alludes': 13122, 'breakdown': 13123, 'freer': 13124, 'hottest': 13125, 'slopes': 13126, 'startle': 13127, 'ut': 13128, 'carpenter': 13129, 'straightens': 13130, 'Belushi': 13131, 'Younger': 13132, 'willingness': 13133, 'affecting': 13134, 'cleavage': 13135, 'climbs': 13136, 'dotes': 13137, 'leering': 13138, 'meatloaf': 13139, 'override': 13140, 'twist': 13141, 'usurp': 13142, 'victor': 13143, 'amiably': 13144, 'inadequate': 13145, 'peeing': 13146, 'sympathized': 13147, 'Clinic': 13148, 'Paralandra': 13149, 'intending': 13150, 'streaks': 13151, 'Janet': 13152, 'goddess': 13153, 'bedpan': 13154, 'disappointment': 13155, 'exhusband': 13156, 'prosthesis': 13157, 'prosthetic': 13158, 'rinsed': 13159, 'shampooing': 13160, 'temp': 13161, 'tapers': 13162, 'risky': 13163, '80': 13164, 'Morris': 13165, 'harness': 13166, 'traveler': 13167, 'barks': 13168, 'extract': 13169, 'murderer': 13170, 'Anything': 13171, 'climate': 13172, 'endure': 13173, 'tendons': 13174, 'Satellite': 13175, 'balanced': 13176, 'calculating': 13177, 'factly': 13178, 'fooled': 13179, 'forefinger': 13180, 'obsessed': 13181, 'rungs': 13182, 'simpatico': 13183, 'Riker': 13184, 'Troi': 13185, 'bases': 13186, 'delightful': 13187, 'softball': 13188, 'Oooh': 13189, 'Oow': 13190, 'Xerox': 13191, 'childish': 13192, 'dishwater': 13193, 'armpit': 13194, 'bulk': 13195, 'blurt': 13196, 'concave': 13197, 'fetus': 13198, 'miscarriage': 13199, 'Poster': 13200, 'Mill': 13201, 'comatose': 13202, 'craves': 13203, 'expectant': 13204, 'handout': 13205, 'psychosis': 13206, 'rats': 13207, 'rodents': 13208, 'rudeness': 13209, 'setup': 13210, 'streams': 13211, 'terminally': 13212, 'till': 13213, 'bacon': 13214, '1991': 13215, 'Alka': 13216, 'April': 13217, 'Seltzer': 13218, 'armed': 13219, 'arrested': 13220, 'bellied': 13221, 'cape': 13222, 'crucified': 13223, 'detectives': 13224, 'diseases': 13225, 'flyer': 13226, 'humiliation': 13227, 'installment': 13228, 'leafing': 13229, 'replayed': 13230, 'rigging': 13231, 'ringside': 13232, 'salve': 13233, 'transmitted': 13234, 'trapezes': 13235, 'minimal': 13236, 'ons': 13237, 'readjusting': 13238, 'satchel': 13239, 'enticed': 13240, 'flirtatiously': 13241, '131': 13242, '171': 13243, 'staples': 13244, 'stitch': 13245, 'handholds': 13246, 'uninvited': 13247, 'Enterprise': 13248, 'Picard': 13249, 'dick': 13250, 'marvelous': 13251, 'Playboy': 13252, 'contents': 13253, 'controversial': 13254, '833': 13255, 'Hurt': 13256, 'checkbook': 13257, 'dated': 13258, 'eventually': 13259, 'frameless': 13260, 'plumber': 13261, 'resemble': 13262, 'spectacles': 13263, 'complexion': 13264, 'crates': 13265, 'intertwined': 13266, 'ploy': 13267, 'boot': 13268, 'contestants': 13269, 'declining': 13270, 'duped': 13271, 'lasting': 13272, 'limps': 13273, 'meditation': 13274, 'refund': 13275, 'springs': 13276, 'cripples': 13277, 'elementary': 13278, 'spotters': 13279, 'Am': 13280, 'attracts': 13281, 'hypnotism': 13282, 'laces': 13283, 'uncaught': 13284, 'relish': 13285, 'cheering': 13286, 'chuckling': 13287, 'motorcycles': 13288, 'viewfinder': 13289, 'flashing': 13290, 'tinkerbell': 13291, 'Hands': 13292, 'budgeted': 13293, 'coolly': 13294, 'acquired': 13295, 'calypso': 13296, 'disrespectful': 13297, 'drawings': 13298, 'gardener': 13299, 'gardens': 13300, 'hotdog': 13301, 'intrusive': 13302, 'outskirts': 13303, 'patent': 13304, 'retie': 13305, 'scribbles': 13306, 'taco': 13307, 'weed': 13308, 'actively': 13309, 'avoidance': 13310, 'betrayed': 13311, 'tactic': 13312, 'Feeling': 13313, 'adrenalin': 13314, 'caged': 13315, 'spurt': 13316, 'sacrilegious': 13317, 'Berta': 13318, 'Bertha': 13319, 'Peggy': 13320, 'Sue': 13321, 'authenticated': 13322, 'canopied': 13323, 'dreambook': 13324, 'indulging': 13325, 'proceed': 13326, 'reconnect': 13327, 'resents': 13328, 'thumps': 13329, 'waft': 13330, '17th': 13331, 'Goose': 13332, 'captivated': 13333, 'deformity': 13334, 'entranced': 13335, 'flaps': 13336, 'goose': 13337, 'looms': 13338, 'princes': 13339, 'supervise': 13340, 'unusable': 13341, 'wit': 13342, 'effortless': 13343, 'frisky': 13344, 'graciously': 13345, 'hosting': 13346, 'sprint': 13347, 'Fair': 13348, 'banks': 13349, 'intellect': 13350, 'righthand': 13351, 'REM': 13352, 'Research': 13353, 'communications': 13354, 'directory': 13355, 'goldfish': 13356, 'righting': 13357, 'Salgoto': 13358, 'argyle': 13359, 'caked': 13360, 'darts': 13361, 'muted': 13362, 'notebook': 13363, 'palette': 13364, 'retrieve': 13365, 'unpeels': 13366, 'crafted': 13367, 'fluking': 13368, 'lemming': 13369, 'sentimental': 13370, 'panels': 13371, 'Coleman': 13372, 'accompaniment': 13373, 'annoys': 13374, 'ballroom': 13375, 'delay': 13376, 'flicks': 13377, 'goofs': 13378, 'gypsy': 13379, 'hub': 13380, 'jeweled': 13381, 'reggae': 13382, 'Compliments': 13383, 'assumed': 13384, 'comma': 13385, 'dental': 13386, 'dusted': 13387, 'dyke': 13388, 'floss': 13389, 'pallets': 13390, 'petite': 13391, 'sequined': 13392, 'shingles': 13393, 'sores': 13394, 'harmed': 13395, 'adventures': 13396, 'bowled': 13397, 'foxhole': 13398, 'lusts': 13399, 'sway': 13400, 'bloodied': 13401, 'devoutly': 13402, 'pokes': 13403, 'Chaplin': 13404, 'Groucho': 13405, 'Marx': 13406, 'volume': 13407, 'Spiritgarden': 13408, 'brainless': 13409, 'disinterest': 13410, 'Julie': 13411, 'Recreation': 13412, 'draftsman': 13413, 'mantle': 13414, 'Guilt': 13415, 'Lemmon': 13416, 'biased': 13417, 'carport': 13418, 'clue': 13419, 'converted': 13420, 'extend': 13421, 'fenders': 13422, 'fins': 13423, 'nagging': 13424, 'reconsiders': 13425, 'skylights': 13426, 'streamers': 13427, 'unhealthy': 13428, 'Dutch': 13429, 'blink': 13430, 'canopy': 13431, 'centers': 13432, 'clothespins': 13433, 'joystick': 13434, 'mole': 13435, 'parrot': 13436, 'plucking': 13437, 'roomie': 13438, 'shire': 13439, 'shrik': 13440, 'veranda': 13441, 'collegiate': 13442, 'hence': 13443, 'phones': 13444, 'reptiles': 13445, 'sheathed': 13446, 'sidetracked': 13447, 'sliced': 13448, 'starlet': 13449, 'woogie': 13450, 'writhe': 13451, 'Whore': 13452, 'broadly': 13453, 'brooms': 13454, 'buckets': 13455, 'evilly': 13456, 'mopping': 13457, 'plotting': 13458, 'shutter': 13459, 'whore': 13460, 'Day': 13461, 'critical': 13462, 'kicking': 13463, 'overboard': 13464, 'scandal': 13465, 'supporting': 13466, 'disgusts': 13467, 'scum': 13468, 'algae': 13469, 'radiator': 13470, 'trunks': 13471, 'Tupperware': 13472, 'chasm': 13473, 'guarding': 13474, 'hitchhiker': 13475, 'hobby': 13476, 'unimportant': 13477, 'Tylenol': 13478, 'addicted': 13479, 'allowing': 13480, 'giddy': 13481, 'Phillips': 13482, 'mountainside': 13483, 'panned': 13484, 'Congratulations': 13485, 'Merlin': 13486, 'suave': 13487, '1942': 13488, 'maneuvers': 13489, 'thereabouts': 13490, 'DUNE': 13491, 'Doreen': 13492, 'Eiffel': 13493, 'Tower': 13494, 'caretaker': 13495, 'dune': 13496, 'explores': 13497, 'laboriously': 13498, 'landmark': 13499, 'meuseo': 13500, 'patience': 13501, 'renovated': 13502, 'sightseeing': 13503, 'skyline': 13504, 'unbury': 13505, 'worm': 13506, 'Bingo': 13507, 'Blanket': 13508, 'Darren': 13509, 'Gidget': 13510, 'amazes': 13511, 'estuary': 13512, 'farther': 13513, 'infest': 13514, 'invaded': 13515, 'scoff': 13516, 'showering': 13517, 'stamina': 13518, 'surfers': 13519, 'surfing': 13520, 'trample': 13521, 'bobbins': 13522, 'cunningly': 13523, 'resin': 13524, 'reveal': 13525, 'spendy': 13526, 'squarish': 13527, 'bones': 13528, 'booby': 13529, 'disfigures': 13530, 'smilingly': 13531, 'traps': 13532, 'animus': 13533, 'softening': 13534, 'oriental': 13535, 'erased': 13536, 'overlap': 13537, 'warf': 13538, 'el': 13539, 'frente': 13540, 'limbs': 13541, 'massaged': 13542, 'refit': 13543, 'Canton': 13544, 'Nick': 13545, 'Nolte': 13546, 'hey': 13547, 'rounding': 13548, 'solved': 13549, 'exercised': 13550, 'Shock': 13551, 'adrenaline': 13552, 'bathed': 13553, 'dashes': 13554, 'planter': 13555, 'substitute': 13556, 'swooshing': 13557, 'rapers': 13558, 'violation': 13559, 'logically': 13560, 'UGH': 13561, 'clinical': 13562, 'errors': 13563, 'females': 13564, 'hormone': 13565, 'immature': 13566, 'medical': 13567, 'monkeys': 13568, 'assurety': 13569, 'Oprah': 13570, 'Scouts': 13571, 'Winfrey': 13572, 'autograph': 13573, 'chunks': 13574, 'functional': 13575, 'gizzards': 13576, 'spurn': 13577, 'volleyball': 13578, 'Walking': 13579, 'refreshed': 13580, 'sweaty': 13581, 'Lacrosse': 13582, 'boredom': 13583, 'fatal': 13584, 'latch': 13585, 'orbit': 13586, 'racquet': 13587, 'whams': 13588, 'Sit': 13589, 'whisks': 13590, 'Academy': 13591, 'Award': 13592, 'wishers': 13593, '5555': 13594, '1900': 13595, 'Circle': 13596, 'Hillary': 13597, 'MaMa': 13598, 'Merton': 13599, 'secured': 13600, 'downstage': 13601, 'splendid': 13602, 'traded': 13603, 'Carolina': 13604, 'Francis': 13605, 'Ohio': 13606, 'geode': 13607, 'indentured': 13608, 'shards': 13609, 'thieves': 13610, 'arrogance': 13611, 'judged': 13612, 'user': 13613, 'irresponsible': 13614, 'Brazil': 13615, 'Tracy': 13616, 'clutter': 13617, 'extent': 13618, 'goody': 13619, 'idealist': 13620, 'jungles': 13621, 'popular': 13622, 'squealed': 13623, 'tropics': 13624, 'accommodating': 13625, 'boarded': 13626, 'cascade': 13627, 'derived': 13628, 'deserts': 13629, 'hicks': 13630, 'imagination': 13631, 'landscapes': 13632, 'measurements': 13633, 'motto': 13634, 'productive': 13635, 'rust': 13636, 'mindlessly': 13637, 'sadistic': 13638, 'adjourning': 13639, 'hardest': 13640, 'hoist': 13641, 'Taking': 13642, 'gazing': 13643, 'gulls': 13644, 'shrub': 13645, 'drool': 13646, 'terrifying': 13647, 'rafting': 13648, 'unzip': 13649, 'Interpreting': 13650, 'flute': 13651, 'guessing': 13652, 'horizontal': 13653, 'insight': 13654, 'prudent': 13655, 'reprimands': 13656, 'toothpick': 13657, 'vertical': 13658, 'Inwardly': 13659, 'autopsies': 13660, 'fainting': 13661, 'gofer': 13662, 'haste': 13663, 'nodding': 13664, 'outwardly': 13665, 'Alfred': 13666, 'Hitchcock': 13667, 'beings': 13668, 'funniness': 13669, 'lovey': 13670, 'Price': 13671, 'restful': 13672, 'Cruise': 13673, 'FIRO': 13674, 'Pop': 13675, 'Schultz': 13676, 'arches': 13677, 'bergs': 13678, 'iceberg': 13679, 'submerged': 13680, 'wads': 13681, 'carve': 13682, 'hurtfully': 13683, 'knifed': 13684, 'playwrighting': 13685, 'repartee': 13686, 'retorts': 13687, 'sarcasm': 13688, 'wisecrack': 13689, 'Age': 13690, 'conclusions': 13691, 'enlightened': 13692, 'Horse': 13693, 'grease': 13694, 'modestly': 13695, 'nerdy': 13696, 'spouted': 13697, 'stew': 13698, 'universal': 13699, 'Jagger': 13700, 'Mick': 13701, 'Rolling': 13702, 'Stones': 13703, 'Cinderella': 13704, 'Pricilla': 13705, 'haphazardly': 13706, 'abbey': 13707, 'caregiver': 13708, 'considers': 13709, 'lodging': 13710, 'visitors': 13711, 'Marshall': 13712, 'Peters': 13713, 'furiously': 13714, 'futuristic': 13715, 'kook': 13716, 'nestle': 13717, 'takeoff': 13718, 'abundant': 13719, 'blobby': 13720, 'jeopardy': 13721, 'Supposedly': 13722, 'computers': 13723, 'slums': 13724, 'Louis': 13725, 'frontward': 13726, 'delivers': 13727, 'adjoins': 13728, 'barging': 13729, 'disciplined': 13730, 'concoction': 13731, 'foiled': 13732, 'hormones': 13733, 'orderly': 13734, 'ab': 13735, 'exaggerates': 13736, 'lavish': 13737, 'resets': 13738, 'carpets': 13739, 'allusive': 13740, 'complementary': 13741, 'wheelbarrow': 13742, 'Melinda': 13743, 'origin': 13744, 'ponderous': 13745, 'backwash': 13746, 'cafes': 13747, 'cascading': 13748, 'gentlemanliness': 13749, 'harmlessly': 13750, 'riptide': 13751, 'shops': 13752, 'annoy': 13753, 'miscalculated': 13754, 'sac': 13755, 'scrotum': 13756, 'tosses': 13757, 'Beneficent': 13758, 'Benign': 13759, 'Reynold': 13760, 'Town': 13761, 'compile': 13762, 'impose': 13763, 'inclusion': 13764, 'monk': 13765, '250': 13766, '450': 13767, 'Nathan': 13768, 'adept': 13769, 'agile': 13770, 'askance': 13771, 'athletics': 13772, 'extenders': 13773, 'fanny': 13774, 'quoted': 13775, 'stairways': 13776, 'triangular': 13777, 'workman': 13778, '235': 13779, 'Number': 13780, 'crumble': 13781, 'mobster': 13782, 'secrets': 13783, 'unhelpful': 13784, 'unloosing': 13785, 'Police': 13786, 'bicycles': 13787, 'discourage': 13788, 'fumes': 13789, 'headlights': 13790, 'monoxide': 13791, 'pint': 13792, 'robbing': 13793, 'Recycle': 13794, 'Scout': 13795, 'ballooning': 13796, 'chef': 13797, 'chefs': 13798, 'homely': 13799, 'bullshit': 13800, 'confetti': 13801, 'intentions': 13802, 'menacingly': 13803, 'smear': 13804, 'yogurt': 13805, 'Anyone': 13806, 'gimps': 13807, 'intuitive': 13808, 'jacketed': 13809, 'mariachi': 13810, 'minorities': 13811, 'occur': 13812, 'postgraduate': 13813, 'rescind': 13814, 'succinct': 13815, 'unacceptable': 13816, 'chant': 13817, 'housemother': 13818, 'rhyming': 13819, 'wiry': 13820, 'Angeles': 13821, 'Announce': 13822, 'ID': 13823, 'Los': 13824, 'Matthew': 13825, 'Ms': 13826, 'converging': 13827, 'cooperation': 13828, 'errant': 13829, 'grooving': 13830, 'plume': 13831, 'primary': 13832, 'prostrate': 13833, 'recess': 13834, 'addictive': 13835, 'alcoholics': 13836, 'contort': 13837, 'daddies': 13838, 'extras': 13839, 'fuming': 13840, 'mundane': 13841, 'posing': 13842, 'striding': 13843, 'vows': 13844, 'Easy': 13845, 'venture': 13846, 'Jones': 13847, 'Joy': 13848, 'Massacre': 13849, 'Wasted': 13850, 'detour': 13851, 'graphic': 13852, 'gush': 13853, 'hypnotic': 13854, 'noticeable': 13855, 'susceptible': 13856, 'volunteered': 13857, 'harmonies': 13858, 'quartet': 13859, 'Della': 13860, 'Odd': 13861, 'Ulysses': 13862, 'alka': 13863, 'backfires': 13864, 'dinosaurs': 13865, 'holograms': 13866, 'indisposed': 13867, 'prod': 13868, 'seltzer': 13869, 'clipping': 13870, 'heavenly': 13871, 'stepsister': 13872, 'Byington': 13873, 'Spring': 13874, 'elegantly': 13875, 'handing': 13876, '85': 13877, '86': 13878, 'Basketball': 13879, 'shambles': 13880, 'amethyst': 13881, 'aspen': 13882, 'countryside': 13883, 'rumor': 13884, 'cagey': 13885, 'exonerate': 13886, 'critic': 13887, 'critiquing': 13888, 'disguises': 13889, 'hires': 13890, 'nightcap': 13891, 'stocking': 13892, 'Comp': 13893, 'Creek': 13894, 'Fall': 13895, 'Tornadoes': 13896, 'beaks': 13897, 'chimneys': 13898, 'penises': 13899, 'tornadoes': 13900, 'crud': 13901, 'furthermore': 13902, 'Arnold': 13903, 'guessed': 13904, 'ruins': 13905, 'rumors': 13906, 'unkept': 13907, 'wildness': 13908, 'Absolutely': 13909, 'Pope': 13910, 'bigoted': 13911, 'width': 13912, 'advanced': 13913, 'average': 13914, 'condescending': 13915, 'cranberry': 13916, 'creamer': 13917, 'exchanges': 13918, 'abyss': 13919, 'bantam': 13920, 'brink': 13921, 'competently': 13922, 'meandering': 13923, 'oblivious': 13924, 'robin': 13925, 'rooster': 13926, 'wasteland': 13927, 'catche': 13928, 'dislodges': 13929, 'fizzes': 13930, 'grove': 13931, 'illustrations': 13932, 'typo': 13933, 'wayside': 13934, 'Garrith': 13935, 'Path': 13936, 'Stories': 13937, 'Weaving': 13938, 'ape': 13939, 'diagram': 13940, 'divert': 13941, 'freaks': 13942, 'lurk': 13943, 'maze': 13944, 'sacrificing': 13945, 'strangled': 13946, 'subdirectories': 13947, 'subdirectory': 13948, 'Ask': 13949, 'Charleen': 13950, 'Registration': 13951, 'Sparkey': 13952, 'critiques': 13953, 'erotica': 13954, 'greeter': 13955, 'lifting': 13956, 'luckily': 13957, 'Brent': 13958, 'jitterbug': 13959, 'analytical': 13960, 'network': 13961, 'marbles': 13962, 'Cybil': 13963, 'DeNiro': 13964, 'Shepard': 13965, 'henchmen': 13966, 'courtship': 13967, 'fervor': 13968, 'Toward': 13969, 'accelerating': 13970, 'aide': 13971, 'doorknob': 13972, 'swept': 13973, 'wobbles': 13974, 'assuming': 13975, 'authentically': 13976, 'destroyer': 13977, 'Jed': 13978, 'anthrax': 13979, 'counterpoint': 13980, 'coyly': 13981, 'crass': 13982, 'hovel': 13983, 'inoculate': 13984, 'laments': 13985, 'provocative': 13986, 'ridiculed': 13987, 'serum': 13988, 'sterile': 13989, 'Dougal': 13990, 'aquarium': 13991, 'chaise': 13992, 'exposure': 13993, 'futon': 13994, 'stamped': 13995, 'suntan': 13996, 'antihistamine': 13997, 'comforter': 13998, 'doggie': 13999, 'elated': 14000, 'feature': 14001, 'ow': 14002, 'quilt': 14003, 'treble': 14004, 'twirls': 14005, 'Asa': 14006, 'contraption': 14007, 'shoving': 14008, 'channeler': 14009, 'channeling': 14010, 'earlobes': 14011, 'linking': 14012, 'passage': 14013, 'peripheral': 14014, 'separating': 14015, 'usurping': 14016, 'womanly': 14017, 'Burger': 14018, 'Dukie': 14019, 'Kleenex': 14020, 'Kylou': 14021, 'Place': 14022, 'claiming': 14023, 'clowns': 14024, 'crumbled': 14025, 'dealers': 14026, 'groovy': 14027, 'handcuffs': 14028, 'minimum': 14029, 'shapely': 14030, 'waistband': 14031, 'Dino': 14032, 'Weren': 14033, 'beret': 14034, 'comeuppance': 14035, 'depends': 14036, 'laundromat': 14037, 'particulars': 14038, 'prejudicial': 14039, 'forwarded': 14040, 'obligated': 14041, 'refer': 14042, 'participate': 14043, 'clasp': 14044, 'destruction': 14045, 'innie': 14046, 'looters': 14047, 'outie': 14048, 'outies': 14049, 'presumably': 14050, 'products': 14051, 'excruciatingly': 14052, 'exists': 14053, 'negotiating': 14054, 'revengeful': 14055, 'Spooky': 14056, 'casement': 14057, 'drips': 14058, 'Twelve': 14059, 'divorcing': 14060, 'genuine': 14061, 'civic': 14062, '4000': 14063, '5000': 14064, 'Instamatic': 14065, 'Kodak': 14066, 'cannon': 14067, 'max': 14068, 'sir': 14069, 'threaded': 14070, 'Exposure': 14071, 'Northern': 14072, 'hypnogogal': 14073, 'theey': 14074, 'comradeship': 14075, 'crinolines': 14076, 'cubicle': 14077, 'curiosity': 14078, 'grouped': 14079, 'guarded': 14080, 'inductees': 14081, 'lingerie': 14082, 'welcoming': 14083, 'PO': 14084, 'airfield': 14085, 'buffeted': 14086, 'craziness': 14087, 'models': 14088, 'vat': 14089, 'cluster': 14090, 'nay': 14091, 'Fleischman': 14092, 'Magi': 14093, 'indent': 14094, 'outhunt': 14095, 'teal': 14096, 'unsettling': 14097, 'Goodwill': 14098, 'burp': 14099, 'calculate': 14100, 'downsize': 14101, 'purchases': 14102, 'rag': 14103, 'resale': 14104, 'saint': 14105, 'sewers': 14106, 'threading': 14107, 'Flinn': 14108, 'MD': 14109, 'severely': 14110, 'W____': 14111, 'Wendel': 14112, 'ejaculation': 14113, 'inks': 14114, 'experiencing': 14115, 'prejudice': 14116, 'rocker': 14117, 'Hers': 14118, 'Jeramy': 14119, 'evenings': 14120, 'monks': 14121, 'viewed': 14122, 'consideration': 14123, 'Lance': 14124, 'demandingly': 14125, 'documents': 14126, 'doodles': 14127, 'eyeing': 14128, 'inspected': 14129, 'powwow': 14130, 'redneck': 14131, 'sidling': 14132, 'spacing': 14133, 'teepee': 14134, 'threshold': 14135, 'makeshift': 14136, 'protuberance': 14137, 'shack': 14138, 'weirdness': 14139, 'Excellence': 14140, 'Teaching': 14141, 'accounts': 14142, 'defect': 14143, 'encourages': 14144, 'matchmakers': 14145, 'zeros': 14146, 'Vandals': 14147, 'administration': 14148, 'domed': 14149, 'jacked': 14150, 'peaks': 14151, 'undecided': 14152, 'Cecilia': 14153, 'Kayla': 14154, 'Sayings': 14155, 'Simpsons': 14156, 'buckled': 14157, 'fund': 14158, 'gracefully': 14159, 'paste': 14160, 'pastes': 14161, 'raiser': 14162, 'bran': 14163, 'fusion': 14164, 'loudspeaker': 14165, 'operations': 14166, 'aperture': 14167, 'skateboard': 14168, 'Almost': 14169, 'Barbara': 14170, 'Community': 14171, 'Dance': 14172, 'Group': 14173, 'Hungarian': 14174, 'Marching': 14175, 'Political': 14176, 'basically': 14177, 'lambs': 14178, 'Terry': 14179, 'afghans': 14180, 'aging': 14181, 'font': 14182, 'holler': 14183, 'reimbursed': 14184, 'sunny': 14185, 'Afterward': 14186, 'Barbie': 14187, 'Benny': 14188, 'Jackson': 14189, 'anorexia': 14190, 'hundred': 14191, 'roared': 14192, 'screamingly': 14193, 'FBS': 14194, 'Tessa': 14195, 'appeal': 14196, 'doorbell': 14197, 'humanistic': 14198, 'organized': 14199, 'moth': 14200, 'upward': 14201, 'burger': 14202, 'commandments': 14203, 'cucumber': 14204, 'diligently': 14205, 'faulty': 14206, 'mayonnaise': 14207, 'visited': 14208, 'weaves': 14209, 'enthralled': 14210, 'anesthetic': 14211, 'cradled': 14212, 'fairies': 14213, 'levels': 14214, 'Sherina': 14215, 'hairballs': 14216, 'studio': 14217, 'Laura': 14218, 'outrun': 14219, 'roosting': 14220, 'vulture': 14221, 'playwriting': 14222, 'spotting': 14223, 'suspended': 14224, 'weeny': 14225, 'larva': 14226, 'monarch': 14227, 'spinning': 14228, 'Hush': 14229, 'elixir': 14230, 'instantly': 14231, 'Male': 14232, 'legitimately': 14233, 'replicas': 14234, 'therapist': 14235, 'valet': 14236, 'temper': 14237, 'views': 14238, 'sands': 14239, 'arthritics': 14240, 'croup': 14241, 'extroverts': 14242, 'Abyss': 14243, 'Bud': 14244, 'Welcome': 14245, 'lyrics': 14246, 'Fat': 14247, 'Galopadoes': 14248, 'IS': 14249, 'adobe': 14250, 'fort': 14251, 'galapadoes': 14252, 'incarcerate': 14253, 'dutch': 14254, 'hastily': 14255, 'pleasured': 14256, 'curtly': 14257, 'devastated': 14258, 'unethical': 14259, 'Amy': 14260, 'Foxy': 14261, 'Might': 14262, 'amorphous': 14263, 'grilling': 14264, 'invoice': 14265, 'mugs': 14266, 'plows': 14267, 'plunge': 14268, 'sidesaddle': 14269, 'toasted': 14270, 'vow': 14271, 'wryly': 14272, 'LOVE': 14273, 'pucker': 14274, 'united': 14275, 'unpeopled': 14276, 'gunfire': 14277, 'jammie': 14278, 'molded': 14279, 'traumatized': 14280, 'moccasin': 14281, 'beavers': 14282, 'ramping': 14283, 'Allgiere': 14284, 'figurine': 14285, 'figurines': 14286, 'heron': 14287, 'shoves': 14288, 'spending': 14289, 'defy': 14290, 'handicapped': 14291, 'immersing': 14292, 'trucker': 14293, 'bothersome': 14294, 'dread': 14295, 'killers': 14296, 'overdose': 14297, 'squeamish': 14298, 'vacantly': 14299, 'Data': 14300, 'automons': 14301, 'robots': 14302, 'compound': 14303, 'imagining': 14304, 'regaining': 14305, 'damn': 14306, 'submission': 14307, 'vengeful': 14308, 'slicing': 14309, 'discriminated': 14310, '72': 14311, 'dovey': 14312, 'utensils': 14313, 'varnish': 14314, 'Costco': 14315, 'clipboard': 14316, 'hunk': 14317, 'mart': 14318, 'renter': 14319, 'renters': 14320, 'upkeep': 14321, 'adoring': 14322, 'completion': 14323, 'estranged': 14324, 'inspirational': 14325, 'openings': 14326, 'paperback': 14327, 'shadowing': 14328, 'sneezed': 14329, 'sneezes': 14330, 'drying': 14331, 'professionally': 14332, 'Silvi': 14333, 'structurally': 14334, '280': 14335, 'cheeks': 14336, 'mowers': 14337, 'slumped': 14338, 'sunburned': 14339, 'Charles': 14340, 'churchgoers': 14341, 'torrents': 14342, 'Frakes': 14343, 'Jonathan': 14344, 'kneels': 14345, 'tortoise': 14346, 'consistently': 14347, '286': 14348, 'Klamath': 14349, 'collie': 14350, 'nagahyde': 14351, 'swelling': 14352, 'warnings': 14353, 'Mud': 14354, 'squishes': 14355, 'truthful': 14356, 'twine': 14357, 'unspoken': 14358, 'urge': 14359, 'Fritzvalue': 14360, 'hearth': 14361, 'pronunciation': 14362, 'verse': 14363, 'verses': 14364, 'Unbeknownst': 14365, 'clockwise': 14366, 'cupped': 14367, 'gods': 14368, 'stem': 14369, 'unmarked': 14370, 'notions': 14371, 'admitted': 14372, 'admitting': 14373, 'partitions': 14374, 'secondhand': 14375, 'Disneyland': 14376, 'drumming': 14377, 'fairgrounds': 14378, 'overhears': 14379, 'reverently': 14380, 'scorn': 14381, 'MS': 14382, 'OH': 14383, 'centrifugal': 14384, 'croon': 14385, 'jackhammer': 14386, 'jokingly': 14387, 'vibration': 14388, 'Rudean': 14389, 'flutes': 14390, 'settled': 14391, 'balk': 14392, 'oozes': 14393, 'overtaking': 14394, 'peddle': 14395, 'skulk': 14396, 'Dorothy': 14397, 'regard': 14398, 'professors': 14399, 'Thunder': 14400, 'barking': 14401, 'dane': 14402, 'taboos': 14403, 'CUT': 14404, 'DREAM': 14405, 'NOTE': 14406, 'OFF': 14407, 'THIS': 14408, 'WAS': 14409, 'roofed': 14410, 'tantalizing': 14411, 'Fo': 14412, 'IF': 14413, 'unfortunately': 14414, 'ample': 14415, 'entering': 14416, 'heated': 14417, 'insure': 14418, 'rump': 14419, 'shortens': 14420, 'shovel': 14421, 'RV': 14422, 'bangle': 14423, 'constipated': 14424, 'coolness': 14425, 'hesitating': 14426, 'retirement': 14427, 'site': 14428, 'squatted': 14429, 'turds': 14430, 'uncertainly': 14431, 'dodge': 14432, 'Kippers': 14433, 'Yom': 14434, 'alps': 14435, 'calendar': 14436, 'clenched': 14437, 'grandchildren': 14438, 'monitor': 14439, 'recipes': 14440, 'LSD': 14441, 'Tempted': 14442, 'charade': 14443, 'finery': 14444, 'uncouth': 14445, 'virtuous': 14446, 'Ralph': 14447, 'scathing': 14448, 'bum': 14449, 'fives': 14450, 'voucher': 14451, 'Carlin': 14452, 'balancing': 14453, 'muss': 14454, 'USS': 14455, 'marginally': 14456, 'pierce': 14457, 'Babar': 14458, 'escalate': 14459, 'tearful': 14460, 'dickering': 14461, 'geek': 14462, 'mutually': 14463, 'CNN': 14464, 'Noriego': 14465, 'flicking': 14466, 'diocese': 14467, 'pave': 14468, 'flawed': 14469, 'mores': 14470, 'risked': 14471, 'torrentially': 14472, 'values': 14473, 'virginal': 14474, 'networking': 14475, 'sandwiches': 14476, 'contacts': 14477, 'fatten': 14478, 'reptilian': 14479, 'Frackel': 14480, 'naturally': 14481, 'ummm': 14482, 'embraces': 14483, 'producers': 14484, 'Hartford': 14485, 'Benjie': 14486, 'Rage': 14487, 'contracts': 14488, 'entitled': 14489, 'expands': 14490, 'neatly': 14491, 'ridicule': 14492, 'repetitious': 14493, 'resignedly': 14494, 'Abrams': 14495, 'affianced': 14496, 'stave': 14497, 'Carleen': 14498, 'Victoria': 14499, 'crust': 14500, 'fungus': 14501, 'gross': 14502, 'pinwheels': 14503, 'squishy': 14504, 'stylized': 14505, 'sworls': 14506, 'Mitchum': 14507, 'World': 14508, 'fulsome': 14509, 'lacey': 14510, 'lather': 14511, 'pits': 14512, 'steamed': 14513, '406': 14514, 'cocking': 14515, 'publicly': 14516, 'tow': 14517, 'loneliness': 14518, 'Naw': 14519, '57': 14520, 'darn': 14521, 'filthy': 14522, 'postponed': 14523, 'recall': 14524, 'tickled': 14525, 'Chevrolet': 14526, 'errands': 14527, 'exec': 14528, 'lapping': 14529, 'tuned': 14530, 'Alexander': 14531, 'accumulated': 14532, 'communist': 14533, 'railed': 14534, 'runner': 14535, 'cleaners': 14536, 'clogs': 14537, 'Tenemen': 14538, 'HAA': 14539, 'rhymes': 14540, 'possessing': 14541, 'NLP': 14542, 'parenting': 14543, 'portions': 14544, 'boxed': 14545, 'uncooked': 14546, '1112': 14547, 'pricks': 14548, 'slither': 14549, 'stature': 14550, 'chestnut': 14551, 'garish': 14552, 'mower': 14553, 'surrounding': 14554, 'conciliatory': 14555, 'ingenue': 14556, 'protestations': 14557, 'strategizing': 14558, 'terraces': 14559, 'underbrush': 14560, 'Derwood': 14561, 'Kirby': 14562, 'Scrooge': 14563, 'percent': 14564, 'scrooge': 14565, 'shtick': 14566, 'swiveling': 14567, 'Senate': 14568, 'States': 14569, 'earn': 14570, 'Synchronize': 14571, 'branching': 14572, 'chaining': 14573, 'fringes': 14574, 'taxing': 14575, 'disgorges': 14576, 'hibachi': 14577, 'metaphors': 14578, 'rumbles': 14579, 'stinks': 14580, 'concept': 14581, 'kneeling': 14582, 'camel': 14583, 'slur': 14584, 'stresses': 14585, 'twigs': 14586, 'groves': 14587, 'shootings': 14588, 'tracheotomy': 14589, 'upmanship': 14590, '30s': 14591, 'abusive': 14592, 'angular': 14593, 'inevitable': 14594, 'installed': 14595, 'regroup': 14596, 'ritualistic': 14597, 'stumble': 14598, 'swerve': 14599, 'yep': 14600, '89': 14601, 'accessory': 14602, 'lanky': 14603, 'refrigerated': 14604, 'rotate': 14605, 'settling': 14606, 'Searching': 14607, 'autographed': 14608, 'cocaine': 14609, 'flambuoyant': 14610, 'qualities': 14611, 'speedily': 14612, 'gearshift': 14613, 'cursive': 14614, 'fogged': 14615, 'chides': 14616, 'cockpit': 14617, 'cello': 14618, 'heaves': 14619, 'orchestra': 14620, 'pluck': 14621, 'rejoin': 14622, 'wistful': 14623, 'HEAR': 14624, 'aching': 14625, 'compromise': 14626, 'declared': 14627, 'homecoming': 14628, 'mustard': 14629, 'tenacity': 14630, 'Herculean': 14631, 'dissolve': 14632, 'molecule': 14633, 'adapted': 14634, 'chess': 14635, 'disintegrate': 14636, 'disperse': 14637, 'electronic': 14638, 'emanate': 14639, 'modified': 14640, 'superman': 14641, 'bootie': 14642, 'Thanksgiving': 14643, 'complainer': 14644, 'jellos': 14645, 'sakes': 14646, 'scurrying': 14647, 'shames': 14648, 'treats': 14649, 'Buttons': 14650, 'onion': 14651, 'formals': 14652, 'plowing': 14653, 'sheath': 14654, 'gallant': 14655, 'climber': 14656, 'firework': 14657, 'inquiring': 14658, 'Dustin': 14659, 'Hoffman': 14660, 'demeaning': 14661, 'escalating': 14662, 'gripping': 14663, 'migraine': 14664, 'mini': 14665, 'sensations': 14666, 'clouded': 14667, 'knot': 14668, 'Communication': 14669, 'coaching': 14670, 'lesbianism': 14671, 'swirly': 14672, 'consequences': 14673, 'Merc': 14674, 'Margaret': 14675, 'Security': 14676, 'Social': 14677, 'compliments': 14678, 'eavesdrop': 14679, 'transom': 14680, 'barrels': 14681, 'envelop': 14682, 'abbreviations': 14683, 'cataloguing': 14684, 'debating': 14685, 'underside': 14686, 'videotaped': 14687, 'afterward': 14688, 'axes': 14689, 'mingling': 14690, 'serial': 14691, 'allergic': 14692, 'aids': 14693, 'coerce': 14694, 'consummate': 14695, 'denied': 14696, 'diner': 14697, 'untamable': 14698, 'Change': 14699, 'convolutes': 14700, 'lengths': 14701, 'noncommittal': 14702, 'repairs': 14703, 'unanimated': 14704, 'unsurprised': 14705, 'Mississippi': 14706, 'bounded': 14707, 'connects': 14708, 'continent': 14709, 'inland': 14710, 'largest': 14711, 'riverboat': 14712, 'sternwheeler': 14713, 'underbelly': 14714, 'blatantly': 14715, 'cautions': 14716, 'disregard': 14717, 'shoppers': 14718, 'Oz': 14719, 'Wizard': 14720, 'budget': 14721, 'rotors': 14722, 'complying': 14723, 'downs': 14724, 'management': 14725, 'snowman': 14726, 'sprung': 14727, 'geyser': 14728, 'horned': 14729, 'impaled': 14730, 'lash': 14731, 'recedes': 14732, 'squirt': 14733, 'embarrass': 14734, 'reciprocal': 14735, 'busting': 14736, 'artistically': 14737, 'blacktop': 14738, 'blotch': 14739, 'coastal': 14740, 'diffused': 14741, 'peelers': 14742, 'booklets': 14743, 'facilities': 14744, 'grating': 14745, 'miming': 14746, 'whine': 14747, 'activists': 14748, 'gauntlet': 14749, 'picketing': 14750, 'teeming': 14751, 'diabolical': 14752, 'intact': 14753, '1400': 14754, 'Arkan': 14755, 'braided': 14756, 'pioneer': 14757, 'reference': 14758, 'groomed': 14759, 'scooter': 14760, 'consistency': 14761, 'dose': 14762, 'quip': 14763, 'upholstery': 14764, 'Lift': 14765, 'forbidding': 14766, 'intimidates': 14767, 'jay': 14768, 'monorail': 14769, 'nonverbal': 14770, 'woodpecker': 14771, 'pharmacist': 14772, 'sweats': 14773, '151': 14774, 'whirs': 14775, 'associated': 14776, 'manila': 14777, 'skier': 14778, 'swamping': 14779, 'towing': 14780, 'IQ': 14781, 'lapels': 14782, 'Mel': 14783, 'Torme': 14784, 'karma': 14785, 'shaft': 14786, 'unexpectedly': 14787, 'vending': 14788, 'Studio': 14789, 'bask': 14790, 'FEVER': 14791, 'Fever': 14792, 'ferociously': 14793, 'gesturing': 14794, 'pilgrims': 14795, 'protector': 14796, 'stiletto': 14797, 'Jail': 14798, 'Reiner': 14799, 'accusing': 14800, 'assumes': 14801, 'glower': 14802, 'materialize': 14803, 'mystified': 14804, 'ominously': 14805, 'riff': 14806, 'stomping': 14807, 'underline': 14808, 'Arnez': 14809, 'Desi': 14810, 'gist': 14811, 'gnarled': 14812, 'juniper': 14813, 'oldness': 14814, 'froth': 14815, 'bolted': 14816, 'consoles': 14817, 'hydro': 14818, 'hydrodrone': 14819, 'securely': 14820, 'commiserate': 14821, 'pertinent': 14822, 'Corkie': 14823, 'Murphy': 14824, 'awkwardly': 14825, 'delicately': 14826, 'dreamer': 14827, 'grumbles': 14828, 'significant': 14829, 'spiked': 14830, 'dash': 14831, 'masseuse': 14832, 'Viking': 14833, 'breastplates': 14834, 'clasped': 14835, 'homestead': 14836, 'smog': 14837, 'managers': 14838, 'regardless': 14839, 'underpass': 14840, 'Irene': 14841, 'Milky': 14842, 'embryo': 14843, 'jewel': 14844, 'twilight': 14845, 'Gene': 14846, 'JD': 14847, '16th': 14848, 'UO': 14849, 'pompadour': 14850, 'provocatively': 14851, 'quitter': 14852, 'conveniently': 14853, 'daytime': 14854, 'drilling': 14855, 'funneled': 14856, 'readjusts': 14857, 'roadway': 14858, 'serves': 14859, 'slippered': 14860, 'slooshing': 14861, 'Al': 14862, 'Pacino': 14863, 'cutters': 14864, 'robbery': 14865, 'trigger': 14866, 'Allocates': 14867, 'allocates': 14868, 'caterpillar': 14869, 'strained': 14870, 'wholesome': 14871, 'Goldie': 14872, 'Hawn': 14873, 'Husband': 14874, 'Shark': 14875, 'pulverized': 14876, 'surreal': 14877, 'European': 14878, 'Palestinians': 14879, 'Turner': 14880, 'grouping': 14881, 'shortest': 14882, 'thursday': 14883, 'Silent': 14884, 'scaredy': 14885, 'bodice': 14886, 'mediating': 14887, 'confining': 14888, 'floorboards': 14889, 'flooring': 14890, 'abdomen': 14891, 'orgasms': 14892, 'displeasure': 14893, 'pleasantness': 14894, 'Name': 14895, 'bankruptcy': 14896, 'equitable': 14897, 'Aladdin': 14898, 'Obviously': 14899, 'copied': 14900, 'delightedly': 14901, 'enchanted': 14902, 'enhanced': 14903, 'matted': 14904, 'reassemble': 14905, 'CoLO': 14906, 'fortune': 14907, 'pausing': 14908, 'plateau': 14909, 'traverse': 14910, 'unattractively': 14911, 'confuse': 14912, 'disruptions': 14913, 'interpretation': 14914, 'ornery': 14915, 'ou': 14916, 'landlords': 14917, 'nicks': 14918, 'putty': 14919, 'trowels': 14920, 'Bummer': 14921, 'abstract': 14922, 'breezy': 14923, 'leery': 14924, 'nappy': 14925, 'spontaneity': 14926, 'Benatar': 14927, 'Boone': 14928, 'Got': 14929, 'benefits': 14930, 'chagrined': 14931, 'discriminatory': 14932, 'stations': 14933, 'tunes': 14934, 'Show': 14935, 'chills': 14936, 'flake': 14937, 'flaked': 14938, 'flaking': 14939, 'flu': 14940, 'groggily': 14941, 'scarce': 14942, 'scuffed': 14943, 'shoos': 14944, '46': 14945, 'authors': 14946, 'charismatic': 14947, 'circling': 14948, 'coyote': 14949, 'desserts': 14950, 'flesh': 14951, 'interpreted': 14952, 'interpreting': 14953, 'prettiest': 14954, 'psychopath': 14955, 'rosette': 14956, 'loafers': 14957, 'depicting': 14958, 'thunderously': 14959, 'wallop': 14960, 'costumers': 14961, 'gangsters': 14962, 'raid': 14963, 'standoff': 14964, 'appreciated': 14965, 'confer': 14966, 'consulting': 14967, 'gotta': 14968, 'misspoken': 14969, 'patronize': 14970, 'reconnected': 14971, 'sluggishly': 14972, 'Dumbo': 14973, 'Protect': 14974, 'malformed': 14975, 'pane': 14976, 'paraplegic': 14977, 'slams': 14978, 'stewardess': 14979, 'unbearable': 14980, 'aground': 14981, 'donut': 14982, 'ff': 14983, 'floral': 14984, 'lifesaver': 14985, 'port': 14986, 'medieval': 14987, 'tossed': 14988, 'speechless': 14989, 'Check': 14990, 'Gather': 14991, 'Wilsonville': 14992, 'switchback': 14993, 'colorfully': 14994, 'sledded': 14995, 'sledding': 14996, 'sleds': 14997, 'spritely': 14998, 'thaw': 14999, 'athletes': 15000, 'hawked': 15001, 'swooping': 15002, 'Malaysia': 15003, 'railings': 15004, 'stow': 15005, 'undressed': 15006, 'cozily': 15007, 'dedicate': 15008, 'forcibly': 15009, 'misery': 15010, 'Dragon': 15011, 'Palance': 15012, 'Throw': 15013, 'chambers': 15014, 'slain': 15015, 'slithery': 15016, 'tentacles': 15017, 'independently': 15018, 'Malaysian': 15019, 'exotic': 15020, 'geysers': 15021, 'inaccessible': 15022, 'invalids': 15023, 'occurring': 15024, 'slop': 15025, 'coercing': 15026, 'complimenting': 15027, 'motivated': 15028, 'unmotivated': 15029, 'entangled': 15030, 'entwining': 15031, 'slabs': 15032, 'Minot': 15033, 'Vanna': 15034, 'hardbound': 15035, 'nubile': 15036, 'symptoms': 15037, 'dourly': 15038, 'humbly': 15039, 'ooh': 15040, 'Braille': 15041, 'Cars': 15042, 'Luckily': 15043, 'cuter': 15044, 'folks': 15045, 'halt': 15046, 'screeches': 15047, 'Clever': 15048, 'barbeque': 15049, 'docs': 15050, 'lunchroom': 15051, 'resentfully': 15052, 'snacking': 15053, 'arrivals': 15054, 'cannelloni': 15055, 'LoKey': 15056, 'blender': 15057, 'restarts': 15058, 'berserk': 15059, 'feared': 15060, 'hounded': 15061, 'parka': 15062, 'whit': 15063, 'Abraham': 15064, 'Lincoln': 15065, 'November': 15066, 'comforts': 15067, 'confronted': 15068, 'warp': 15069, 'varnishing': 15070, 'scriptwriter': 15071, 'swans': 15072, 'cravenly': 15073, 'demonstrating': 15074, 'dicker': 15075, 'incorrigible': 15076, 'lime': 15077, 'Pink': 15078, 'overheated': 15079, 'overheats': 15080, 'thoughtful': 15081, 'torrential': 15082, '2491': 15083, 'ALL': 15084, 'AND': 15085, 'ASSOCIATED': 15086, 'CHARACTERS': 15087, 'DELETED': 15088, 'Dilemma': 15089, 'FEMALE': 15090, 'FORMERLY': 15091, 'FROM': 15092, 'NARRATIVE': 15093, 'REPORT': 15094, 'WERE': 15095, 'acquiesces': 15096, 'diverting': 15097, 'loyalties': 15098, 'Married': 15099, 'Tia': 15100, 'propping': 15101, 'scolding': 15102, 'toenails': 15103, 'willow': 15104, 'commencement': 15105, 'poncho': 15106, 'rainstorm': 15107, 'Patrick': 15108, 'awning': 15109, 'thinly': 15110, 'tyrannically': 15111, 'bilk': 15112, 'informs': 15113, 'Obsessive': 15114, 'Tommy': 15115, 'coastline': 15116, 'NEW': 15117, 'brainwashing': 15118, 'communists': 15119, 'conciliatorily': 15120, 'feminists': 15121, 'rally': 15122, 'beaten': 15123, 'contract': 15124, 'edits': 15125, 'finagling': 15126, 'horribly': 15127, 'overpower': 15128, 'stepmother': 15129, 'travois': 15130, 'trussed': 15131, 'confirm': 15132, 'hypnotist': 15133, 'barber': 15134, 'hooded': 15135, 'matriarch': 15136, 'salmon': 15137, 'swimable': 15138, 'unexplored': 15139, 'molding': 15140, 'unstoppable': 15141, 'conversational': 15142, 'influenced': 15143, 'knowledgeably': 15144, 'subtle': 15145, 'completeness': 15146, 'cutouts': 15147, 'eyeball': 15148, 'Delores': 15149, 'Aztec': 15150, 'BabyJo': 15151, 'REALLY': 15152, 'calendars': 15153, 'hieroglyphics': 15154, '140': 15155, '98': 15156, '99': 15157, 'Vaseline': 15158, 'cracked': 15159, 'creams': 15160, 'facilitate': 15161, 'gamely': 15162, 'glob': 15163, 'kinda': 15164, 'lotion': 15165, 'lotions': 15166, 'mixes': 15167, 'moderate': 15168, 'shortly': 15169, 'squeaked': 15170, 'topics': 15171, 'wasted': 15172, 'Tour': 15173, 'nonvital': 15174, 'evasive': 15175, 'filler': 15176, 'suffer': 15177, 'arch': 15178, 'essence': 15179, 'ages': 15180, 'fearsome': 15181, 'indoor': 15182, 'overrun': 15183, 'specialized': 15184, 'squabbling': 15185, 'temptation': 15186, 'Corky': 15187, 'Dial': 15188, 'gorge': 15189, 'seaside': 15190, 'beckoning': 15191, 'determine': 15192, 'revisit': 15193, 'bosoms': 15194, 'drummed': 15195, 'garrulous': 15196, 'pumpkins': 15197, 'Cheers': 15198, 'Danson': 15199, 'damper': 15200, 'defies': 15201, 'womanizer': 15202, 'democratic': 15203, 'nonsmoking': 15204, 'Velma': 15205, 'swipe': 15206, 'swipes': 15207, 'transplant': 15208, 'incubating': 15209, 'deadline': 15210, 'demonstrative': 15211, 'procrastinating': 15212, 'procrastination': 15213, 'survey': 15214, 'Alison': 15215, 'Mad': 15216, 'pickers': 15217, 'sweeper': 15218, 'CD': 15219, 'afire': 15220, 'disk': 15221, 'Although': 15222, 'Clinton': 15223, 'skimpy': 15224, 'unpopular': 15225, 'fifth': 15226, 'Erickson': 15227, 'juices': 15228, 'tabled': 15229, 'WKPR': 15230, 'commitment': 15231, 'endowed': 15232, 'shapeless': 15233, 'shingled': 15234, 'sleaze': 15235, 'begonia': 15236, 'revived': 15237, 'schoolhouse': 15238, 'Angelou': 15239, 'Maya': 15240, 'Scholarship': 15241, 'believing': 15242, 'judgment': 15243, 'novels': 15244, 'plea': 15245, 'screenplays': 15246, 'stipulations': 15247, 'Lessons': 15248, 'accusation': 15249, 'alibi': 15250, 'diversionary': 15251, 'origins': 15252, 'orphanage': 15253, 'seduced': 15254, 'paragraph': 15255, 'Violent': 15256, 'Violet': 15257, 'faults': 15258, 'flashbacks': 15259, 'hypnotizes': 15260, 'increasing': 15261, 'consistent': 15262, 'dawdles': 15263, 'gleefully': 15264, 'bondage': 15265, 'millimeter': 15266, 'namely': 15267, 'seaweed': 15268, 'testily': 15269, 'whips': 15270, 'writhes': 15271, 'asset': 15272, 'include': 15273, 'ponder': 15274, 'classwork': 15275, 'Goodman': 15276, 'Raiders': 15277, 'fencing': 15278, 'fend': 15279, 'Charlene': 15280, 'flamboyant': 15281, 'forklift': 15282, 'pretentiousness': 15283, 'sax': 15284, 'stomped': 15285, 'wishful': 15286, 'Slowly': 15287, 'cannibalism': 15288, 'cockroach': 15289, 'cockroaches': 15290, 'sipped': 15291, 'zebra': 15292, 'coordinated': 15293, 'failed': 15294, 'RH': 15295, 'cabbages': 15296, 'chemistry': 15297, 'enfold': 15298, 'factor': 15299, 'nutrients': 15300, 'rode': 15301, 'scan': 15302, 'sed': 15303, 'stupendous': 15304, 'vet': 15305, 'communicative': 15306, 'denial': 15307, 'emphatically': 15308, 'etched': 15309, 'incredulously': 15310, 'scurried': 15311, 'Fighting': 15312, 'Hypnotists': 15313, 'Negative': 15314, 'cope': 15315, 'employment': 15316, 'examiner': 15317, 'experimental': 15318, 'graphics': 15319, 'influence': 15320, 'kindergarten': 15321, 'prognosis': 15322, 'ruler': 15323, 'surer': 15324, 'porno': 15325, 'arranging': 15326, 'flung': 15327, 'straws': 15328, 'LTD': 15329, 'System': 15330, 'bending': 15331, 'meanwhile': 15332, 'logging': 15333, 'disclosure': 15334, 'butch': 15335, 'hubby': 15336, 'unexpected': 15337, 'willingly': 15338, 'badness': 15339, 'evolve': 15340, 'finely': 15341, 'rollers': 15342, 'television': 15343, 'wince': 15344, 'coma': 15345, 'passersby': 15346, 'Psst': 15347, 'augment': 15348, 'ejaculates': 15349, 'kings': 15350, 'magicians': 15351, 'prematurely': 15352, 'Auntie': 15353, 'counterbalanced': 15354, 'twirling': 15355, 'Idaho': 15356, 'Leno': 15357, 'Lorna': 15358, 'tufts': 15359, 'copious': 15360, 'initiative': 15361, 'modify': 15362, 'biggest': 15363, 'demurs': 15364, 'huffing': 15365, 'luring': 15366, 'mitts': 15367, 'promontory': 15368, 'retrieves': 15369, 'sporty': 15370, 'unkempt': 15371, 'silky': 15372, 'MM': 15373, 'array': 15374, 'bygones': 15375, 'compacted': 15376, 'fussy': 15377, 'interns': 15378, 'CO': 15379, 'Phil': 15380, 'pillars': 15381, 'fearing': 15382, 'ranger': 15383, 'Hembree': 15384, 'Horrified': 15385, 'fondly': 15386, 'tidiness': 15387, 'vista': 15388, 'memorizing': 15389, 'comparison': 15390, 'possesses': 15391, 'secrecy': 15392, 'sworn': 15393, 'campers': 15394, 'fleece': 15395, 'fundamental': 15396, 'pajama': 15397, 'trait': 15398, 'agog': 15399, 'stagger': 15400, 'Issues': 15401, 'participant': 15402, 'persevere': 15403, 'splatters': 15404, 'topic': 15405, 'torrent': 15406, 'upbringing': 15407, 'afterthought': 15408, 'germs': 15409, 'papered': 15410, 'prance': 15411, 'parrots': 15412, 'spa': 15413, 'voraciously': 15414, 'whirlpool': 15415, 'Ishall': 15416, 'discretion': 15417, 'valor': 15418, 'barbs': 15419, 'bishop': 15420, 'devoted': 15421, 'exception': 15422, 'luke': 15423, 'wasteful': 15424, 'zing': 15425, 'McDonald': 15426, 'consumer': 15427, 'presenters': 15428, 'Greyhound': 15429, 'conditions': 15430, 'environmental': 15431, 'ivy': 15432, 'towering': 15433, 'hidy': 15434, 'lithium': 15435, 'weapons': 15436, 'Shucks': 15437, 'Spirit': 15438, 'buttermilk': 15439, 'curdled': 15440, 'eccentric': 15441, 'Nanu': 15442, 'blends': 15443, 'cobweb': 15444, 'innate': 15445, 'millionaire': 15446, 'orphan': 15447, 'readable': 15448, 'sucker': 15449, 'Boring': 15450, 'dimensions': 15451, 'submerge': 15452, 'Doberman': 15453, 'dither': 15454, 'crocodiles': 15455, 'entrap': 15456, 'infested': 15457, 'jaws': 15458, 'memorization': 15459, 'roomies': 15460, 'votes': 15461, 'waffling': 15462, 'Chopra': 15463, 'Deepak': 15464, 'booger': 15465, 'chronological': 15466, 'Halt': 15467, 'Nazis': 15468, 'gunpoint': 15469, 'surely': 15470, 'Doors': 15471, 'earpiece': 15472, 'sealed': 15473, 'crevasse': 15474, 'filming': 15475, 'getaway': 15476, 'plastics': 15477, 'grazing': 15478, 'repel': 15479, 'rut': 15480, 'shifting': 15481, 'undetected': 15482, 'wimps': 15483, 'Conner': 15484, 'doubled': 15485, 'Carlene': 15486, 'sympathizes': 15487, 'bark': 15488, 'gyp': 15489, 'willows': 15490, 'Fabray': 15491, 'Marianne': 15492, 'cautious': 15493, 'clarification': 15494, 'confrontationally': 15495, 'fees': 15496, 'herons': 15497, 'scathingly': 15498, 'specified': 15499, 'tokens': 15500, 'gritty': 15501, 'interviewer': 15502, 'nauseating': 15503, 'truthfully': 15504, 'unsettled': 15505, 'PC': 15506, 'Se': 15507, 'blueprint': 15508, 'claustrophobic': 15509, 'debate': 15510, 'hairdresser': 15511, 'politically': 15512, 'streaming': 15513, 'whisked': 15514, 'roughing': 15515, 'Calculus': 15516, 'enmeshed': 15517, 'interestingly': 15518, 'conventional': 15519, 'beasts': 15520, 'fiction': 15521, 'narrate': 15522, 'shields': 15523, 'skimming': 15524, 'beware': 15525, 'data': 15526, 'suede': 15527, 'Gasp': 15528, 'preaching': 15529, 'rebellious': 15530, 'Hunsaker': 15531, 'articulated': 15532, 'shuttle': 15533, 'busily': 15534, 'energetically': 15535, 'fundraiser': 15536, 'prick': 15537, 'committing': 15538, 'concentrated': 15539, 'unprofessionalism': 15540, 'Brethren': 15541, 'poignancy': 15542, 'Vagina': 15543, 'archly': 15544, 'inset': 15545, 'psoriasis': 15546, 'scab': 15547, 'Dane': 15548, 'humping': 15549, 'questionnaire': 15550, 'arduous': 15551, 'debrief': 15552, 'document': 15553, 'enemies': 15554, 'enslaved': 15555, 'gnome': 15556, 'granted': 15557, 'knoll': 15558, 'scarred': 15559, 'surgeries': 15560, 'profound': 15561, 'relates': 15562, 'denomination': 15563, 'enterprising': 15564, 'lipsticks': 15565, 'poochy': 15566, 'presumptuous': 15567, 'resources': 15568, 'ripe': 15569, 'Cate': 15570, 'Evers': 15571, 'docile': 15572, 'harshly': 15573, 'cactus': 15574, 'starlings': 15575, 'opulent': 15576, 'pillar': 15577, 'prancing': 15578, 'quill': 15579, 'quincinero': 15580, 'shiver': 15581, 'Madonna': 15582, 'reacting': 15583, 'Melville': 15584, 'insistence': 15585, 'protrudes': 15586, 'repulsive': 15587, 'sinfully': 15588, 'stubby': 15589, 'welts': 15590, 'glorious': 15591, 'smooched': 15592, 'transformations': 15593, 'Boxes': 15594, 'Chase': 15595, 'Nope': 15596, 'berth': 15597, 'signaled': 15598, 'storeroom': 15599, 'Ward': 15600, 'electronically': 15601, 'exhaust': 15602, 'muffler': 15603, 'surfer': 15604, 'dysfunction': 15605, 'negativity': 15606, 'nonsupportive': 15607, 'postures': 15608, 'Mash': 15609, 'complementing': 15610, 'friction': 15611, 'graves': 15612, 'methodical': 15613, 'acknowledges': 15614, 'finder': 15615, 'mars': 15616, 'mermaids': 15617, 'outcropping': 15618, 'punctuation': 15619, 'semicircle': 15620, 'unbalances': 15621, 'viewpoint': 15622, 'widest': 15623, 'Fill': 15624, 'smooshed': 15625, 'critically': 15626, 'ordinarily': 15627, 'thanking': 15628, 'hunch': 15629, 'wordlessly': 15630, 'Southwest': 15631, 'afflicted': 15632, 'bland': 15633, 'buxom': 15634, 'enamored': 15635, 'sweetened': 15636, 'regressed': 15637, 'regression': 15638, 'Ironic': 15639, 'pristine': 15640, 'sketched': 15641, 'spoken': 15642, 'acknowledgment': 15643, 'interact': 15644, 'luscious': 15645, '219': 15646, 'Ausilaudes': 15647, 'battered': 15648, 'bedlam': 15649, 'depicts': 15650, 'emitting': 15651, 'fifty': 15652, 'irresistible': 15653, 'organisms': 15654, 'pitched': 15655, 'prorate': 15656, 'ambush': 15657, 'evaluate': 15658, 'maneuver': 15659, 'threes': 15660, 'twos': 15661, '1450': 15662, 'Doesn': 15663, 'SSI': 15664, 'perforated': 15665, 'Survivor': 15666, 'Trauma': 15667, 'Megan': 15668, 'juicy': 15669, 'apologetically': 15670, 'carolers': 15671, 'crescent': 15672, 'eternal': 15673, 'pensive': 15674, 'numbed': 15675, 'weighted': 15676, 'clasping': 15677, 'endearments': 15678, 'initiated': 15679, 'murmuring': 15680, 'McCoy': 15681, 'fragment': 15682, 'integrate': 15683, 'intimidated': 15684, 'madam': 15685, 'nevertheless': 15686, 'overwhelmingly': 15687, 'priceless': 15688, 'relearn': 15689, 'suffused': 15690, 'tableau': 15691, 'tragically': 15692, 'trickster': 15693, 'advisor': 15694, 'astride': 15695, 'deflects': 15696, 'devoured': 15697, 'indiscreet': 15698, 'infatuated': 15699, 'trusty': 15700, 'toned': 15701, 'comparing': 15702, 'reciprocate': 15703, 'suffering': 15704, 'unrequited': 15705, 'withhold': 15706, 'ache': 15707, 'pelvic': 15708, 'region': 15709, 'shoosh': 15710, 'sleepiness': 15711, 'overwhelms': 15712, 'refrain': 15713, 'undeclared': 15714, 'Juneau': 15715, 'September': 15716, 'cabins': 15717, 'cupie': 15718, 'retainer': 15719, 'season': 15720, 'animation': 15721, 'beamed': 15722, 'evade': 15723, 'gymnastic': 15724, 'whirligig': 15725, 'Dangerous': 15726, 'Maren': 15727, 'Push': 15728, 'Stick': 15729, 'disintegrated': 15730, 'glaciers': 15731, 'moat': 15732, 'reincarnation': 15733, 'shimmering': 15734, 'stable': 15735, 'valve': 15736, 'wondrously': 15737, 'aunties': 15738, 'batteries': 15739, 'breakwall': 15740, 'deposited': 15741, 'dissipate': 15742, 'funnels': 15743, 'luxuriant': 15744, 'rummage': 15745, 'fling': 15746, 'pyrite': 15747, 'smudges': 15748, 'uncovers': 15749, 'Gym': 15750, 'bearing': 15751, 'childbirth': 15752, 'inverted': 15753, 'refers': 15754, 'terrific': 15755, 'workout': 15756, 'gut': 15757, 'kneading': 15758, 'solicitous': 15759, 'defiant': 15760, 'imposters': 15761, 'kissy': 15762, 'prioritize': 15763, 'entity': 15764, 'Derek': 15765, 'developmentally': 15766, 'NOW': 15767, 'bust': 15768, 'walker': 15769, 'Posner': 15770, 'confidentially': 15771, 'Alan': 15772, 'Alda': 15773, 'Football': 15774, 'booing': 15775, 'criticize': 15776, 'headlines': 15777, 'heckle': 15778, 'keenly': 15779, 'notch': 15780, 'ref': 15781, 'referee': 15782, 'reprimand': 15783, 'suicidal': 15784, 'unsportsmanlike': 15785, 'expanding': 15786, 'racetrack': 15787, 'Australia': 15788, 'pager': 15789, 'proposed': 15790, 'Spielberg': 15791, 'condom': 15792, 'foreground': 15793, 'invitingly': 15794, 'potluck': 15795, 'Eva': 15796, 'Saint': 15797, 'economically': 15798, 'stardom': 15799, 'necking': 15800, 'runny': 15801, 'playroom': 15802, 'regime': 15803, 'molest': 15804, 'wistfully': 15805, 'disrepair': 15806, 'originated': 15807, 'penile': 15808, '160': 15809, 'Realizing': 15810, 'entwined': 15811, 'forkful': 15812, 'Jeou': 15813, 'fondling': 15814, 'testicles': 15815, 'Hult': 15816, 'Mozart': 15817, 'bumblebee': 15818, 'commode': 15819, 'decade': 15820, 'deftly': 15821, 'guides': 15822, 'pediatrics': 15823, 'carrier': 15824, 'fork': 15825, 'fussing': 15826, 'dismal': 15827, 'hugely': 15828, 'intertwining': 15829, 'intricately': 15830, 'karate': 15831, 'untouched': 15832, 'upholstered': 15833, 'logo': 15834, 'rustling': 15835, 'stacking': 15836, 'booked': 15837, 'conduct': 15838, 'discipline': 15839, 'disobeying': 15840, 'irrepressibly': 15841, 'lenient': 15842, 'Id': 15843, 'surly': 15844, 'Paige': 15845, 'angora': 15846, 'gems': 15847, 'purl': 15848, 'ribbing': 15849, 'unloved': 15850, 'ONE': 15851, 'poof': 15852, 'simultaneous': 15853, 'defiance': 15854, 'dislike': 15855, 'mocks': 15856, 'Neila': 15857, 'Sundays': 15858, 'barrettes': 15859, 'denying': 15860, 'distrust': 15861, 'foamed': 15862, 'huggy': 15863, 'recommend': 15864, 'Stabbing': 15865, 'KidsSport': 15866, 'Centurion': 15867, 'Shakespearean': 15868, 'Theatre': 15869, 'clones': 15870, 'inhabitants': 15871, 'punished': 15872, 'puzzled': 15873, 'theaters': 15874, 'unemotional': 15875, 'whimpers': 15876, 'Admissions': 15877, 'Booth': 15878, 'Portions': 15879, 'departments': 15880, 'Kyle': 15881, 'confrontational': 15882, 'coordinating': 15883, 'Dressel': 15884, 'Oops': 15885, 'monologues': 15886, 'mushed': 15887, 'rhythmic': 15888, 'rumba': 15889, 'Leafing': 15890, 'Oceanography': 15891, 'Religious': 15892, 'Spiritual': 15893, 'Studies': 15894, 'format': 15895, 'pear': 15896, 'intermixed': 15897, 'Clothes': 15898, 'gliders': 15899, 'carnage': 15900, 'seeps': 15901, 'terrorized': 15902, 'hypnotize': 15903, '_____ticket': 15904, 'earphone': 15905, 'advantaged': 15906, 'determinedly': 15907, 'individual': 15908, 'insolent': 15909, 'saunter': 15910, 'snipe': 15911, 'wagons': 15912, 'Bet': 15913, 'Cancel': 15914, 'Dwayne': 15915, 'Guns': 15916, 'attendants': 15917, 'brusquely': 15918, 'catheter': 15919, 'defer': 15920, 'driftwood': 15921, 'dungeons': 15922, 'lightening': 15923, 'marker': 15924, 'moats': 15925, 'shaved': 15926, 'smallest': 15927, 'spaceships': 15928, 'Looks': 15929, 'Under': 15930, 'carne': 15931, 'crumb': 15932, 'detailed': 15933, 'lugging': 15934, 'missile': 15935, 'missiles': 15936, 'phallic': 15937, 'sketch': 15938, 'sketches': 15939, 'Marines': 15940, 'Sparky': 15941, 'aback': 15942, 'funky': 15943, 'mayo': 15944, 'plugging': 15945, '800': 15946, 'admonish': 15947, 'cinchy': 15948, 'dismisses': 15949, 'bunnies': 15950, 'equipped': 15951, 'equivalent': 15952, 'nests': 15953, 'seashells': 15954, 'tended': 15955, 'wicker': 15956, 'Against': 15957, 'alongside': 15958, 'cul': 15959, 'ruling': 15960, 'stiffly': 15961, 'Fuck': 15962, 'Irv': 15963, 'Christina': 15964, 'Dinero': 15965, 'dinette': 15966, 'frivolous': 15967, 'reopen': 15968, 'scaringly': 15969, 'snipings': 15970, 'Ummmm': 15971, 'ame': 15972, 'cooler': 15973, 'dismantles': 15974, 'foisted': 15975, 'gadget': 15976, 'incoherently': 15977, 'lung': 15978, 'patter': 15979, 'ummmm': 15980, 'uncouple': 15981, 'unscrew': 15982, 'wheedles': 15983, 'misplacing': 15984, 'pixie': 15985, 'reps': 15986, 'spandex': 15987, 'Mace': 15988, 'Salvage': 15989, 'academic': 15990, 'alarmed': 15991, 'churning': 15992, 'paunchy': 15993, 'turbulently': 15994, 'windowed': 15995, 'Sybil': 15996, 'abusing': 15997, 'chattily': 15998, 'diseased': 15999, 'handcuffing': 16000, 'psycho': 16001, 'situated': 16002, 'stimulate': 16003, 'syphilis': 16004, 'torturing': 16005, 'dabble': 16006, 'redraw': 16007, 'whiteness': 16008, 'yellowish': 16009, 'flatbed': 16010, 'loosened': 16011, 'pinning': 16012, 'pisses': 16013, 'profession': 16014, 'result': 16015, 'sleigh': 16016, 'Cheerios': 16017, 'Misjudgments': 16018, 'Wheaties': 16019, 'buck': 16020, 'cereals': 16021, 'cohort': 16022, 'grumps': 16023, 'probation': 16024, 'recalls': 16025, 'receives': 16026, 's____': 16027, 'snips': 16028, 'stoops': 16029, 'rundown': 16030, 'stalled': 16031, 'astray': 16032, 'currents': 16033, 'sincerely': 16034, 'unset': 16035, 'bailed': 16036, 'mumbling': 16037, 'principles': 16038, 'stuffily': 16039, '360': 16040, 'fastened': 16041, 'gashed': 16042, 'nonawareness': 16043, 'preteen': 16044, 'riling': 16045, 'webbing': 16046, 'REAL': 16047, 'dynamite': 16048, 'signature': 16049, 'plugs': 16050, 'DI': 16051, 'Japan': 16052, 'Musicians': 16053, 'Zealand': 16054, 'assault': 16055, 'crucial': 16056, 'decoy': 16057, 'identity': 16058, 'presidential': 16059, 'putz': 16060, 'technology': 16061, 'LaCisine': 16062, 'architect': 16063, 'associating': 16064, 'brainstorming': 16065, 'buzzard': 16066, 'peck': 16067, 'poofs': 16068, 'puny': 16069, 'twister': 16070, '22nd': 16071, '26th': 16072, '9th': 16073, 'averted': 16074, 'heartbreaking': 16075, 'huskily': 16076, 'idly': 16077, 'sweetness': 16078, 'symbolic': 16079, 'MISTAKE': 16080, 'boobies': 16081, 'committees': 16082, 'gossip': 16083, 'malcontent': 16084, 'sherial': 16085, 'taps': 16086, 'vain': 16087, 'winking': 16088, 'Jiving': 16089, 'Play': 16090, 'intimates': 16091, 'mayhemming': 16092, 'rubbing': 16093, 'sanctum': 16094, '87': 16095, 'Appleseed': 16096, 'Haven': 16097, 'Melvin': 16098, 'beaver': 16099, 'confesses': 16100, 'tarantulas': 16101, 'Bitsy': 16102, 'Laroquette': 16103, 'antiseptic': 16104, 'coaxing': 16105, 'presuming': 16106, '51': 16107, 'Richie': 16108, 'birdie': 16109, 'bitter': 16110, 'contentedly': 16111, 'fabulous': 16112, 'fusses': 16113, 'gushy': 16114, 'hitches': 16115, 'inundate': 16116, 'prattles': 16117, 'settles': 16118, 'skeet': 16119, 'cabs': 16120, 'dismemberment': 16121, 'rupture': 16122, 'egotistical': 16123, 'flogging': 16124, 'rejections': 16125, 'selfrighteous': 16126, 'Away': 16127, 'Bullets': 16128, 'Labradors': 16129, 'Manger': 16130, 'besmirched': 16131, 'bred': 16132, 'bridal': 16133, 'condescends': 16134, 'fades': 16135, 'flinging': 16136, 'housed': 16137, 'kennel': 16138, 'pliable': 16139, 'serene': 16140, 'wealth': 16141, 'Danish': 16142, 'freeways': 16143, 'intersects': 16144, 'fallout': 16145, 'subs': 16146, 'bean': 16147, 'fir': 16148, 'hew': 16149, 'neglectful': 16150, 'prevail': 16151, 'Different': 16152, 'applied': 16153, 'heartbeat': 16154, 'majority': 16155, 'miscalculates': 16156, 'tumbles': 16157, 'com': 16158, 'concepts': 16159, 'due': 16160, 'enable': 16161, 'encounters': 16162, 'hoarding': 16163, 'leggings': 16164, 'organic': 16165, 'triangles': 16166, 'unlimited': 16167, 'dwarfs': 16168, 'forthright': 16169, 'unusually': 16170, 'upperclass': 16171, 'inappropriately': 16172, 'olive': 16173, 'paring': 16174, 'personnel': 16175, 'shaman': 16176, 'opal': 16177, 'dandruff': 16178, 'scalp': 16179, 'scratching': 16180, 'lamb': 16181, 'perseverance': 16182, 'Honey': 16183, 'Venita': 16184, 'Venusian': 16185, 'adore': 16186, 'grandkids': 16187, 'reconnecting': 16188, '482': 16189, '7008': 16190, 'WELCOME': 16191, 'continuity': 16192, 'meek': 16193, 'mucus': 16194, 'continuation': 16195, 'stepfather': 16196, 'touring': 16197, 'widens': 16198, 'poker': 16199, 'adventurer': 16200, 'wanderer': 16201, 'Mapleton': 16202, 'grooves': 16203, 'moors': 16204, 'munching': 16205, 'mystic': 16206, 'pastoral': 16207, 'plotted': 16208, 'pronuncio': 16209, 'towns': 16210, 'vignettes': 16211, 'Food': 16212, 'cavity': 16213, 'Autzen': 16214, 'Needs': 16215, 'Stadium': 16216, 'clicker': 16217, 'iridescent': 16218, 'thins': 16219, 'Raymond': 16220, 'airs': 16221, 'boxy': 16222, 'deflect': 16223, 'fettucine': 16224, 'goblets': 16225, 'lenses': 16226, 'marble': 16227, 'ruble': 16228, 'scorched': 16229, 'grazes': 16230, 'wrecks': 16231, 'choreographers': 16232, 'darting': 16233, 'freed': 16234, 'mistyped': 16235, 'mode': 16236, 'penciled': 16237, 'smock': 16238, 'elfin': 16239, 'encouragingly': 16240, 'fourteen': 16241, 'hur': 16242, 'restriction': 16243, 'thirteen': 16244, 'universality': 16245, 'plated': 16246, 'plugged': 16247, 'tousle': 16248, 'tousled': 16249, 'unplugs': 16250, 'writhing': 16251, 'Blasting': 16252, 'Grounds': 16253, 'Sands': 16254, 'repressed': 16255, 'sideburn': 16256, 'socially': 16257, 'tuft': 16258, 'MC': 16259, 'ballistic': 16260, 'blaring': 16261, 'blazing': 16262, 'decorating': 16263, 'swigs': 16264, 'Wake': 16265, 'aloneness': 16266, 'Coffee': 16267, 'Listening': 16268, 'Vidas': 16269, 'your____': 16270, 'Jeremiah': 16271, 'fever': 16272, 'fevered': 16273, 'skins': 16274, 'southwestern': 16275, 'Democrat': 16276, 'NPR': 16277, 'Public': 16278, 'Radio': 16279, 'Republican': 16280, 'Republicans': 16281, 'feistiness': 16282, 'hash': 16283, 'imitating': 16284, 'imitation': 16285, 'nor': 16286, 'prowling': 16287, 'scribbling': 16288, 'signing': 16289, 'uniquely': 16290, 'adjusted': 16291, 'cocoa': 16292, 'confinement': 16293, 'echoing': 16294, 'musket': 16295, 'untended': 16296, 'Keaton': 16297, 'euphoria': 16298, 'thugs': 16299, 'Boss': 16300, 'Emperor': 16301, 'Scotty': 16302, 'oversee': 16303, 'strikes': 16304, 'Davidson': 16305, 'Harley': 16306, 'cronies': 16307, 'ruts': 16308, 'CUTE': 16309, 'FLIRT': 16310, 'Krispies': 16311, 'MAN': 16312, 'MAYBE': 16313, 'Rice': 16314, 'WITH': 16315, 'accomplishments': 16316, 'annual': 16317, 'autobiography': 16318, 'doings': 16319, 'kayo': 16320, 'sighing': 16321, 'Emery': 16322, 'Parks': 16323, 'Rec': 16324, 'betraying': 16325, 'mesa': 16326, 'Fields': 16327, 'Raggedy': 16328, 'democracy': 16329, 'motherhood': 16330, 'perky': 16331, 'publicist': 16332, 'Freddie': 16333, 'Arthritis': 16334, 'Salgodo': 16335, 'hillbilly': 16336, 'negotiator': 16337, 'brained': 16338, 'irritable': 16339, 'muse': 16340, 'Buddha': 16341, 'jiggles': 16342, 'thrill': 16343, 'Christopher': 16344, 'Reeves': 16345, 'beetles': 16346, 'claim': 16347, 'dehydrate': 16348, 'dehydrated': 16349, 'prospecting': 16350, 'sexily': 16351, 'Ferry': 16352, 'burgundy': 16353, 'flounce': 16354, 'weekdays': 16355, 'connections': 16356, 'pleasures': 16357, 'Bolton': 16358, '1890': 16359, 'Believe': 16360, 'Earp': 16361, 'Ignore': 16362, 'Wyatt': 16363, 'sidelight': 16364, 'squaw': 16365, 'Jo': 16366, 'Seth': 16367, 'Shit': 16368, 'modem': 16369, 'armies': 16370, 'kingdom': 16371, 'vulnerability': 16372, 'woos': 16373, 'adopt': 16374, 'contradiction': 16375, 'oodles': 16376, 'tragedy': 16377, 'evolves': 16378, 'Harriet': 16379, 'desirous': 16380, 'lovingness': 16381, 'meander': 16382, 'quickest': 16383, 'boulder': 16384, 'chinned': 16385, 'highness': 16386, 'sliver': 16387, 'sultan': 16388, 'Marya': 16389, 'hockey': 16390, 'mailed': 16391, 'gauzy': 16392, 'summery': 16393, 'nonstop': 16394, 'produced': 16395, 'ventilating': 16396, 'generations': 16397, 'distinctively': 16398, 'poofy': 16399, 'quilted': 16400, 'ritually': 16401, 'tossing': 16402, 'Euphoria': 16403, 'enhance': 16404, 'experimenting': 16405, 'rooming': 16406, 'Anddrea': 16407, 'vigilant': 16408, 'heed': 16409, 'instructors': 16410, 'paddy': 16411, 'perception': 16412, 'spatial': 16413, 'tuner': 16414, 'inviscerated': 16415, '1986': 16416, 'humid': 16417, 'schematic': 16418, 'Cove': 16419, 'Paradise': 16420, 'crank': 16421, 'bountiful': 16422, 'promote': 16423, 'vegetable': 16424, 'Cherokee': 16425, 'vitamin': 16426, 'blasts': 16427, 'violence': 16428, 'evens': 16429, 'madness': 16430, 'Bambi': 16431, 'gladdened': 16432, 'publicity': 16433, 'Audrey': 16434, 'Sympathetic': 16435, 'cellular': 16436, 'constructing': 16437, 'outfox': 16438, 'socking': 16439, 'Loren': 16440, 'Omni': 16441, 'Omnipotent': 16442, 'Plexiglas': 16443, 'boondocks': 16444, 'investment': 16445, 'Janeway': 16446, 'transporter': 16447, 'Brahma': 16448, 'balm': 16449, 'mixer': 16450, 'noncaring': 16451, 'plucky': 16452, 'arousal': 16453, 'heterosexual': 16454, 'proves': 16455, 'billions': 16456, 'depleted': 16457, 'rewarded': 16458, 'sparkle': 16459, 'Colneral': 16460, 'Eleanor': 16461, 'Oliver': 16462, 'Roosevelt': 16463, 'desirable': 16464, 'presidency': 16465, 'slimming': 16466, 'Free': 16467, 'Games': 16468, 'Las': 16469, 'Month': 16470, 'Prunes': 16471, 'Publications': 16472, 'Software': 16473, 'earned': 16474, 'notables': 16475, 'precocious': 16476, 'tantrums': 16477, '_______': 16478, 'jovial': 16479, 'settings': 16480, 'argumentative': 16481, 'misunderstandings': 16482, 'reconcile': 16483, 'amenities': 16484, 'budge': 16485, 'obstructed': 16486, 'passages': 16487, 'potted': 16488, 'granny': 16489, 'hindrance': 16490, 'witness': 16491, 'Stretched': 16492, 'bead': 16493, 'beading': 16494, 'gruffly': 16495, 'lighten': 16496, 'doorjamb': 16497, 'Albert': 16498, 'Body': 16499, 'Legends': 16500, 'Snatchers': 16501, 'derisive': 16502, 'mat': 16503, 'moccasins': 16504, 'soled': 16505, 'stoic': 16506, '132': 16507, 'Cute': 16508, 'Lieka': 16509, 'Polaroid': 16510, 'banter': 16511, 'botanical': 16512, 'demeanor': 16513, 'dissect': 16514, 'haul': 16515, 'insider': 16516, 'intriguing': 16517, 'jumble': 16518, 'persuading': 16519, 'revolving': 16520, 'spotless': 16521, 'unconventional': 16522, 'behaviors': 16523, 'charmingly': 16524, 'exhibiting': 16525, 'ravaged': 16526, 'schizophrenic': 16527, 'veers': 16528, 'knotted': 16529, 'prairie': 16530, 'pressurized': 16531, 'Lucille': 16532, 'endearing': 16533, 'instincts': 16534, 'untasteful': 16535, 'Brynner': 16536, 'Yul': 16537, 'insightful': 16538, 'Beatty': 16539, 'DEATH': 16540, 'Warren': 16541, 'courted': 16542, 'dungeon': 16543, 'unfolding': 16544, 'upstart': 16545, 'Chamberlain': 16546, 'Jennings': 16547, 'caressingly': 16548, 'confessional': 16549, 'untrue': 16550, 'Casey': 16551, 'arise': 16552, 'beknighted': 16553, 'bossing': 16554, 'brashness': 16555, 'earnestly': 16556, 'repulsing': 16557, 'sheaf': 16558, 'sightsee': 16559, 'wastes': 16560, 'contrivance': 16561, 'udder': 16562, 'woodstove': 16563, 'pouches': 16564, 'taciturn': 16565, 'enrolled': 16566, 'emperor': 16567, 'priests': 16568, 'Chelsea': 16569, 'motley': 16570, 'tougher': 16571, 'billowing': 16572, 'miniscule': 16573, 'overdress': 16574, 'belted': 16575, 'locale': 16576, 'radial': 16577, 'replies': 16578, 'Months': 16579, 'Porsche': 16580, 'alerts': 16581, 'conceivable': 16582, 'conch': 16583, 'dearest': 16584, 'encircled': 16585, 'intimidating': 16586, 'lust': 16587, 'medics': 16588, 'penguin': 16589, 'pleas': 16590, 'renews': 16591, 'teenaged': 16592, 'youthful': 16593, 'communion': 16594, 'restart': 16595, 'summary': 16596, 'veteran': 16597, 'scampers': 16598, 'Boys': 16599, 'Clarice': 16600, 'accessories': 16601, 'Begrudged': 16602, 'begrudge': 16603, 'begrudged': 16604, 'required': 16605, 'Benodine': 16606, 'flighty': 16607, 'iodine': 16608, 'negligee': 16609, 'obscene': 16610, 'rejuvenated': 16611, 'repetitive': 16612, 'skipping': 16613, 'slovenly': 16614, 'shortened': 16615, 'Cave': 16616, 'Clan': 16617, 'Enchilada': 16618, 'Instructor': 16619, 'Jessica': 16620, 'Lange': 16621, 'Leighanne': 16622, 'Luther': 16623, 'Makeup': 16624, 'Taco': 16625, 'Thursdays': 16626, 'burritos': 16627, 'fascinator': 16628, 'impasse': 16629, 'impersonation': 16630, 'impersonations': 16631, 'nuggets': 16632, 'objections': 16633, '302': 16634, '795': 16635, 'ineptly': 16636, 'relight': 16637, 'wicks': 16638, 'Morg': 16639, 'cowardly': 16640, 'backache': 16641, 'backless': 16642, 'Hispanic': 16643, 'betrayal': 16644, 'foe': 16645, 'infirmary': 16646, 'inmate': 16647, 'interrogate': 16648, 'scraping': 16649, 'warden': 16650, 'Ummm': 16651, 'cantaloupe': 16652, 'cantaloupes': 16653, 'grafted': 16654, 'ph': 16655, 'pulpy': 16656, 'resumes': 16657, 'stringy': 16658, 'tasty': 16659, 'watermelon': 16660, 'Delilah': 16661, 'Reunion': 16662, 'cubs': 16663, 'edited': 16664, 'flecks': 16665, 'footage': 16666, 'gallops': 16667, 'hazel': 16668, 'mollifies': 16669, 'montage': 16670, 'sprinkler': 16671, 'trots': 16672, 'recapture': 16673, 'farmlands': 16674, 'spire': 16675, 'Fiberall': 16676, 'delivered': 16677, 'inserts': 16678, 'Internet': 16679, 'coal': 16680, 'conserve': 16681, 'Domestic': 16682, 'Liam': 16683, 'Neeson': 16684, 'Nell': 16685, 'Violence': 16686, 'accuse': 16687, 'conspicuously': 16688, 'dryly': 16689, 'fishy': 16690, 'leprechaun': 16691, 'nonverbally': 16692, 'perpetrator': 16693, 'reattach': 16694, 'spindly': 16695, 'ambiguous': 16696, 'contemplative': 16697, 'contemplatively': 16698, 'easels': 16699, 'forefront': 16700, 'illuminated': 16701, 'sifting': 16702, 'trifocals': 16703, 'particularity': 16704, 'sharks': 16705, 'theatrics': 16706, 'Terrier': 16707, 'resenting': 16708, 'uneasily': 16709, 'School': 16710, 'Universal': 16711, 'illuminous': 16712, 'journalist': 16713, 'failing': 16714, 'grades': 16715, 'incompletes': 16716, 'reverting': 16717, 'attitudes': 16718, 'bluntly': 16719, 'swat': 16720, 'Baxter': 16721, 'gawk': 16722, 'vertigo': 16723, 'Bachelor': 16724, 'Beau____': 16725, 'Shattner': 16726, 'cynically': 16727, 'driveways': 16728, 'gander': 16729, 'gentlemen': 16730, 'overtake': 16731, 'plumb': 16732, 'sexes': 16733, 'sin': 16734, 'FBI': 16735, 'telepathic': 16736, 'detected': 16737, 'surveillance': 16738, 'Carvey': 16739, 'stoned': 16740, 'Multi': 16741, 'blobs': 16742, 'Mayor': 16743, 'unstuck': 16744, 'CPR': 16745, 'overstimulated': 16746, 'passively': 16747, 'stricken': 16748, 'vomits': 16749, 'disembodied': 16750, 'employer': 16751, 'spokes': 16752, 'Heads': 16753, 'drummers': 16754, 'pronoun': 16755, 'congratulations': 16756, 'coordinator': 16757, 'sled': 16758, 'cowboys': 16759, 'documentary': 16760, 'infuriates': 16761, 'jerky': 16762, 'mustang': 16763, 'predators': 16764, 'umbrellas': 16765, 'Emotional': 16766, 'Ira': 16767, 'nah': 16768, 'smoothe': 16769, 'tirades': 16770, 'wiping': 16771, 'Faithful': 16772, 'Ye': 16773, 'outpouring': 16774, 'pretenses': 16775, 'Possibly': 16776, 'bobbles': 16777, 'cities': 16778, 'dazzle': 16779, 'frail': 16780, 'rained': 16781, 'tarp': 16782, 'trench': 16783, 'unties': 16784, 'docking': 16785, 'electrified': 16786, 'eliminated': 16787, 'eliminating': 16788, 'excruciating': 16789, 'gnawing': 16790, 'jags': 16791, 'jolt': 16792, 'systematically': 16793, 'commits': 16794, 'sparse': 16795, 'blending': 16796, 'pulse': 16797, 'terrorizing': 16798, 'Hayward': 16799, 'Ironsides': 16800, 'exonerated': 16801, 'unjustly': 16802, 'vintage': 16803, '1979': 16804, 'Ella': 16805, 'Fitzgerald': 16806, 'Thunderbird': 16807, 'comparable': 16808, 'confided': 16809, 'slightest': 16810, 'horny': 16811, 'molesting': 16812, 'reprimanding': 16813, 'revelers': 16814, 'Metaphors': 16815, 'Power': 16816, 'politics': 16817, 'artful': 16818, 'essentials': 16819, 'rambling': 16820, 'assistants': 16821, 'deliberating': 16822, 'payroll': 16823, 'quits': 16824, 'McC': 16825, 'barge': 16826, 'configured': 16827, 'monitors': 16828, 'postcard': 16829, 'shrunk': 16830, 'blob': 16831, 'refunded': 16832, 'refunds': 16833, 'airlines': 16834, 'amorous': 16835, 'bridesmaids': 16836, 'doorways': 16837, 'investigator': 16838, 'psychologically': 16839, 'weddings': 16840, 'Hidden': 16841, 'Yamhill': 16842, 'chick': 16843, 'klieg': 16844, 'lakes': 16845, 'manmade': 16846, 'roundup': 16847, 'rubbish': 16848, 'turkeys': 16849, 'injects': 16850, 'revival': 16851, 'stabs': 16852, 'canyons': 16853, 'dents': 16854, 'relatively': 16855, 'Nelson': 16856, 'prorated': 16857, 'slowness': 16858, 'bologna': 16859, 'pimply': 16860, 'troubled': 16861, 'dos': 16862, 'caption': 16863, 'glory': 16864, 'lib': 16865, 'prompts': 16866, 'appoints': 16867, 'chenille': 16868, 'loser': 16869, 'ritualistically': 16870, 'sporting': 16871, 'exchanging': 16872, 'configurations': 16873, 'disengages': 16874, 'facilitating': 16875, 'hexagonal': 16876, 'reactivated': 16877, 'smartest': 16878, 'dusting': 16879, 'profess': 16880, 'radiant': 16881, 'repaving': 16882, 'sensually': 16883, 'shabby': 16884, 'slathered': 16885, 'suitable': 16886, 'boyfriends': 16887, 'unfold': 16888, 'accidents': 16889, 'blubber': 16890, 'endings': 16891, 'illusion': 16892, 'nook': 16893, 'optical': 16894, 'speller': 16895, 'fought': 16896, 'muffins': 16897, 'rowing': 16898, 'strolling': 16899, 'Vfabray': 16900, 'belated': 16901, 'dreadlocks': 16902, 'lily': 16903, 'pursed': 16904, 'category': 16905, 'breakup': 16906, 'garment': 16907, 'disintegrating': 16908, 'greeking': 16909, 'nonreadable': 16910, 'Cathedral': 16911, 'Daniel': 16912, 'Flannery': 16913, 'bluster': 16914, 'freckles': 16915, 'tread': 16916, 'whirls': 16917, 'Angel': 16918, 'Splash': 16919, 'chauvinists': 16920, 'realistically': 16921, 'sponsor': 16922, 'squinch': 16923, 'posted': 16924, 'Dailey': 16925, 'Cortisone': 16926, 'Debra': 16927, 'Winger': 16928, 'ferret': 16929, 'gurus': 16930, 'humorously': 16931, 'edition': 16932, 'grilled': 16933, 'prominently': 16934, '1983': 16935, '2400': 16936, 'Carmen': 16937, 'Moves': 16938, 'Pontiacs': 16939, 'bosses': 16940, 'dealership': 16941, 'manufacturing': 16942, 'shoebox': 16943, 'celebrating': 16944, 'cheapened': 16945, 'crimping': 16946, 'morose': 16947, 'Polly': 16948, 'disbelief': 16949, 'partnership': 16950, 'snobs': 16951, 'spittle': 16952, 'Language': 16953, 'Natural': 16954, 'Programming': 16955, 'lopsided': 16956, 'Mendelsohn': 16957, 'ambivalent': 16958, 'excessive': 16959, 'index': 16960, 'prescribe': 16961, 'tab': 16962, 'confidentiality': 16963, 'institutional': 16964, 'precisely': 16965, 'carbon': 16966, 'goop': 16967, 'pasty': 16968, 'raccoon': 16969, 'raccoons': 16970, 'Mohawk': 16971, '21st': 16972, 'Michelle': 16973, 'Pfeiffer': 16974, 'divers': 16975, 'holiday': 16976, 'mimes': 16977, 'served': 16978, 'Pickings': 16979, 'droning': 16980, 'forgiving': 16981, 'fry': 16982, 'spinach': 16983, 'unshucked': 16984, 'baptism': 16985, 'blackberry': 16986, 'contentment': 16987, 'fated': 16988, 'sleeveless': 16989, 'unmowed': 16990, 'Bibles': 16991, 'Prayer': 16992, 'copyrighted': 16993, 'highest': 16994, 'influential': 16995, 'lawyers': 16996, 'osteoporosis': 16997, 'ostracized': 16998, 'portraying': 16999, 'raffle': 17000, 'reimbursement': 17001, 'caters': 17002, 'distracting': 17003, 'plods': 17004, 'potency': 17005, 'ringed': 17006, 'swath': 17007, 'printers': 17008, 'w': 17009, 'www': 17010, 'Boomer': 17011, 'Ridge': 17012, 'creeks': 17013, 'herds': 17014, 'cobalt': 17015, 'screwing': 17016, 'spasms': 17017, '53': 17018, '56': 17019, 'transcript': 17020, 'tuition': 17021, 'cramp': 17022, 'hemorrhaging': 17023, 'leaked': 17024, 'Eastern': 17025, 'shuttering': 17026, 'Lean': 17027, 'Simply': 17028, 'tamest': 17029, 'toothpicks': 17030, '20th': 17031, 'dignitaries': 17032, 'fliers': 17033, 'surgical': 17034, 'Hojo': 17035, 'Stand': 17036, 'biceps': 17037, 'inconspicuous': 17038, 'Dalmatian': 17039, 'outlying': 17040, 'hygenate': 17041, 'hygenation': 17042, 'prank': 17043, 'twenties': 17044, 'urn': 17045, 'adversity': 17046, 'maple': 17047, 'troughs': 17048, 'Turtles': 17049, 'beetle': 17050, 'snail': 17051, 'turtles': 17052, 'equals': 17053, 'grammar': 17054, 'literature': 17055, 'monitoring': 17056, 'flop': 17057, 'novel': 17058, 'pathway': 17059, 'consent': 17060, 'opposed': 17061, 'conspiracy': 17062, 'hairstyle': 17063, 'handcuffed': 17064, 'panes': 17065, 'saunters': 17066, 'wily': 17067, 'clammy': 17068, 'enclosing': 17069, 'exhausting': 17070, 'inconceivable': 17071, 'nonexistent': 17072, 'shroud': 17073, 'Di': 17074, 'newscaster': 17075, 'peruse': 17076, 'radios': 17077, 'patterned': 17078, 'obliging': 17079, 'roomed': 17080, 'unwrapped': 17081, 'BIG': 17082, 'coconut': 17083, 'erotic': 17084, 'mechanism': 17085, 'inexperienced': 17086, 'kindle': 17087, 'vagabond': 17088, 'Guin': 17089, 'Le': 17090, 'Ursula': 17091, 'paged': 17092, 'candlestick': 17093, 'supercharged': 17094, 'grate': 17095, 'progressive': 17096, 'Sumo': 17097, 'arrowheads': 17098, 'artifacts': 17099, 'crisped': 17100, 'emptiness': 17101, 'neon': 17102, 'punching': 17103, 'compared': 17104, 'stodgy': 17105, 'unthinking': 17106, 'shooing': 17107, 'windstorm': 17108, 'herbs': 17109, 'rampages': 17110, 'Contact': 17111, 'Improv': 17112, 'invested': 17113, 'researching': 17114, 'Commander': 17115, 'broccoli': 17116, 'libbed': 17117, 'Address': 17118, 'cowgirl': 17119, 'spaced': 17120, 'DreamWeaver': 17121, 'bigness': 17122, 'database': 17123, 'Village': 17124, 'autumn': 17125, 'dashing': 17126, 'hillsides': 17127, 'magnetic': 17128, 'magnetics': 17129, 'misinterpreted': 17130, 'walkway': 17131, 'disorderly': 17132, 'galvanized': 17133, 'inlet': 17134, 'resented': 17135, '135': 17136, 'Gabby': 17137, 'Hayes': 17138, 'wording': 17139, 'bemused': 17140, 'breathlessly': 17141, 'graded': 17142, 'refried': 17143, 'thorough': 17144, 'tilts': 17145, 'deny': 17146, 'frost': 17147, 'minimize': 17148}\n",
      "238\n"
     ]
    }
   ],
   "source": [
    "# count the number of times certain word appears --> lower case only: all_words\n",
    "from gensim.corpora.dictionary import Dictionary\n",
    "\n",
    "print(all_words.count('think') )\n",
    "\n",
    "# or\n",
    "\n",
    "dictionary = Dictionary(j)  #usar o regexp_tokenize para cada uma das linhas (sonhos) e não a lista já com todos (all_words)\n",
    "\n",
    "print(dictionary.token2id)\n",
    "\n",
    "print(dictionary.token2id.get('think')) # this is just the id of the word"
   ]
  },
  {
   "cell_type": "code",
   "execution_count": null,
   "metadata": {},
   "outputs": [],
   "source": []
  },
  {
   "cell_type": "code",
   "execution_count": null,
   "metadata": {},
   "outputs": [],
   "source": []
  },
  {
   "cell_type": "code",
   "execution_count": null,
   "metadata": {},
   "outputs": [],
   "source": []
  },
  {
   "cell_type": "code",
   "execution_count": null,
   "metadata": {},
   "outputs": [],
   "source": []
  },
  {
   "cell_type": "code",
   "execution_count": null,
   "metadata": {},
   "outputs": [],
   "source": []
  },
  {
   "cell_type": "code",
   "execution_count": null,
   "metadata": {},
   "outputs": [],
   "source": []
  },
  {
   "cell_type": "code",
   "execution_count": null,
   "metadata": {},
   "outputs": [],
   "source": []
  },
  {
   "cell_type": "markdown",
   "metadata": {},
   "source": [
    "### NLP - MODELS"
   ]
  },
  {
   "cell_type": "code",
   "execution_count": 81,
   "metadata": {},
   "outputs": [
    {
     "data": {
      "text/plain": [
       "['00',\n",
       " '000',\n",
       " '0000',\n",
       " '001',\n",
       " '009',\n",
       " '00am',\n",
       " '00pm',\n",
       " '01',\n",
       " '01j11',\n",
       " '01pm',\n",
       " '02',\n",
       " '024',\n",
       " '03',\n",
       " '04',\n",
       " '05']"
      ]
     },
     "execution_count": 81,
     "metadata": {},
     "output_type": "execute_result"
    }
   ],
   "source": [
    "# number of times a word appears\n",
    "\n",
    "# all words\n",
    "CountVectorizer().fit(dreams_df.dream).get_feature_names()[:15]  #much faster\n",
    "\n",
    "# nltk\n",
    "# from nltk.tokenize import word_tokenize\n",
    "# [word_tokenize(d) for d in dreams_df.dream]   # much slower\n",
    "\n",
    "\n"
   ]
  },
  {
   "cell_type": "code",
   "execution_count": 43,
   "metadata": {},
   "outputs": [
    {
     "data": {
      "text/plain": [
       "\"The one at the Meads's house, where it's bigger inside than out; there's a European village just inside, with a cobblestone street and a Pied-Piper sort of man with curly hair, he can do things like juggle - I go up the back stairs [there aren't any in the real house] and then down the other side [since there's a second set, immediately] then down a short empty hallway that turns a corner, where I find a tiny room...a young woman with shoulder-length blonde hair in a pageboy is there, cooking at a stove that almost fills the room...she's nice to me. Now outside, I'm waiting for my aunt to pick me up - she arrives in a little round convertible and we go for a drive, not very far - we cross a little bridge over a creek, then double back and she drops me off at the house again. Inside (?) I sit with a couple of people, playing with a string of blue balloons.\""
      ]
     },
     "execution_count": 43,
     "metadata": {},
     "output_type": "execute_result"
    }
   ],
   "source": [
    "dreams_df.dream[0]"
   ]
  },
  {
   "cell_type": "code",
   "execution_count": 44,
   "metadata": {},
   "outputs": [
    {
     "data": {
      "text/plain": [
       "Index(['norms-f', 'norms-m', 'hall_female', 'dorothea', 'pegasus', 'b2',\n",
       "       'emma', 'norman', 'kenneth', 'b'],\n",
       "      dtype='object')"
      ]
     },
     "execution_count": 44,
     "metadata": {},
     "output_type": "execute_result"
    }
   ],
   "source": [
    "set(dreams_df.id)\n",
    "\n",
    "dreams_df['id'].value_counts(ascending=True).tail(10).index"
   ]
  },
  {
   "cell_type": "code",
   "execution_count": null,
   "metadata": {},
   "outputs": [],
   "source": []
  },
  {
   "cell_type": "code",
   "execution_count": null,
   "metadata": {},
   "outputs": [],
   "source": []
  },
  {
   "cell_type": "code",
   "execution_count": null,
   "metadata": {},
   "outputs": [],
   "source": []
  },
  {
   "cell_type": "code",
   "execution_count": null,
   "metadata": {},
   "outputs": [],
   "source": []
  },
  {
   "cell_type": "markdown",
   "metadata": {},
   "source": [
    "## ML Models"
   ]
  },
  {
   "cell_type": "code",
   "execution_count": 45,
   "metadata": {},
   "outputs": [],
   "source": [
    "from sklearn.model_selection import train_test_split\n",
    "from sklearn.pipeline import Pipeline\n"
   ]
  },
  {
   "cell_type": "markdown",
   "metadata": {},
   "source": [
    "### CountVectorizer() "
   ]
  },
  {
   "cell_type": "code",
   "execution_count": 46,
   "metadata": {},
   "outputs": [],
   "source": [
    "from sklearn.feature_extraction.text import CountVectorizer"
   ]
  },
  {
   "cell_type": "code",
   "execution_count": 47,
   "metadata": {},
   "outputs": [
    {
     "name": "stdout",
     "output_type": "stream",
     "text": [
      "Dream example:\n",
      "The one at the Meads's house, where it's bigger inside than out; there's a European village just inside, with a cobblestone street and a Pied-Piper sort of man with curly hair, he can do things like juggle - I go up the back stairs [there aren't any in the real house] and then down the other side [since there's a second set, immediately] then down a short empty hallway that turns a corner, where I find a tiny room...a young woman with shoulder-length blonde hair in a pageboy is there, cooking at a stove that almost fills the room...she's nice to me. Now outside, I'm waiting for my aunt to pick me up - she arrives in a little round convertible and we go for a drive, not very far - we cross a little bridge over a creek, then double back and she drops me off at the house again. Inside (?) I sit with a couple of people, playing with a string of blue balloons.\n",
      "\n",
      "Transformed text vector is \n",
      "[[1 1 4 1 1 1 3 1 2 1 1 1 1 1 1 1 1 1 1 1 1 1 1 1 1 2 1 1 1 1 1 1 1 2 2 2\n",
      "  1 1 3 1 3 3 1 1 1 1 1 1 2 1 3 1 1 1 1 1 3 1 1 1 1 1 1 1 1 1 1 1 1 1 2 1\n",
      "  1 1 3 1 1 1 1 1 1 1 1 1 1 1 2 7 3 4 1 1 2 1 2 1 1 1 2 2 5 1 1]]\n",
      "\n",
      "Words for each feature:\n",
      "['again', 'almost', 'and', 'any', 'aren', 'arrives', 'at', 'aunt', 'back', 'balloons', 'bigger', 'blonde', 'blue', 'bridge', 'can', 'cobblestone', 'convertible', 'cooking', 'corner', 'couple', 'creek', 'cross', 'curly', 'do', 'double', 'down', 'drive', 'drops', 'empty', 'european', 'far', 'fills', 'find', 'for', 'go', 'hair', 'hallway', 'he', 'house', 'immediately', 'in', 'inside', 'is', 'it', 'juggle', 'just', 'length', 'like', 'little', 'man', 'me', 'meads', 'my', 'nice', 'not', 'now', 'of', 'off', 'one', 'other', 'out', 'outside', 'over', 'pageboy', 'people', 'pick', 'pied', 'piper', 'playing', 'real', 'room', 'round', 'second', 'set', 'she', 'short', 'shoulder', 'side', 'since', 'sit', 'sort', 'stairs', 'stove', 'street', 'string', 'than', 'that', 'the', 'then', 'there', 'things', 'tiny', 'to', 'turns', 'up', 'very', 'village', 'waiting', 'we', 'where', 'with', 'woman', 'young']\n"
     ]
    }
   ],
   "source": [
    "# dream example\n",
    "text = [dreams_df['dream'][0]]\n",
    "print(\"Dream example:\\n{}\".format('\\n'.join(text)))\n",
    "\n",
    "vectorizer = CountVectorizer()\n",
    "\n",
    "# call 'fit' to build the vocabulary\n",
    "vectorizer.fit(text)\n",
    "\n",
    "# calling 'transform' to convert text to a bag of words\n",
    "x = vectorizer.transform(text)\n",
    "\n",
    "# CountVectorizer uses a sparse array to save memory, but it's easier in this assignment to \n",
    "# convert back to a \"normal\" numpy array\n",
    "x = x.toarray()\n",
    "\n",
    "print(\"\")\n",
    "print(\"Transformed text vector is \\n{}\".format(x))\n",
    "\n",
    "# 'get_feature_names()' tracks which word is associated with each column of the transformed x\n",
    "print(\"\")\n",
    "print(\"Words for each feature:\")\n",
    "print(vectorizer.get_feature_names())\n",
    "\n",
    "# the bag of words treatment doesn't preserve information about the order of words, just their frequency"
   ]
  },
  {
   "cell_type": "code",
   "execution_count": 48,
   "metadata": {},
   "outputs": [
    {
     "name": "stdout",
     "output_type": "stream",
     "text": [
      "Total number of unique words: 35574\n",
      "Total number of unique dreams: 19430\n"
     ]
    }
   ],
   "source": [
    "# total number of unique words\n",
    "vectorizer = CountVectorizer()\n",
    "\n",
    "vectorizer.fit(dreams_df['dream'])\n",
    "\n",
    "print(\"Total number of unique words: {}\".format(len(vectorizer.get_feature_names())))\n",
    "print(\"Total number of unique dreams: {}\".format(len(dreams_df.dream.unique())))  # só há 1 repetido"
   ]
  },
  {
   "cell_type": "code",
   "execution_count": 49,
   "metadata": {},
   "outputs": [
    {
     "data": {
      "image/png": "[encoded data removed]",
      "text/plain": [
       "<Figure size 432x288 with 2 Axes>"
      ]
     },
     "metadata": {
      "needs_background": "light"
     },
     "output_type": "display_data"
    }
   ],
   "source": [
    "# cumulative distribution (CDF) of document frequencies - df\n",
    "\n",
    "# bag of words\n",
    "X = vectorizer.fit_transform(dreams_df.dream)\n",
    "\n",
    "doc_freq = pd.Series(sorted(np.sum(X > 0, axis=0).tolist()[0]))\n",
    "cum = np.arange(np.sum(doc_freq))\n",
    "\n",
    "# plot \n",
    "plt.subplot(1, 2, 1)\n",
    "plt.hist(doc_freq, cum, density=True, cumulative=True, histtype='step')\n",
    "plt.xlim(0,80)\n",
    "plt.title(\"CDF of document frequencies\")\n",
    "plt.xlabel(\"Document count\")\n",
    "plt.ylabel(\"% of words that appear less than xi times\")\n",
    "plt.xticks(range(0, 81, 10))\n",
    "\n",
    "# zoomed version\n",
    "plt.subplot(1, 2, 2)\n",
    "plt.hist(doc_freq, cum, density=True, cumulative=True, histtype='stepfilled')\n",
    "plt.xlim(0,6)\n",
    "plt.title(\"CDF of document frequencies\")\n",
    "plt.xlabel(\"Document count\")\n",
    "plt.ylabel(\"% of words that appear less than xi times\")\n",
    "plt.xticks(range(8))\n",
    "\n",
    "plt.subplots_adjust(left=0, bottom=-0.3, right=2, top=1, wspace=0.4, hspace=0)\n",
    "plt.show()\n",
    "\n",
    "# min_df = 3 ?\n",
    "# max_df = 20 ?"
   ]
  },
  {
   "cell_type": "code",
   "execution_count": 50,
   "metadata": {},
   "outputs": [
    {
     "data": {
      "text/plain": [
       "array([      0,       1,       2, ..., 1665271, 1665272, 1665273],\n",
       "      dtype=int64)"
      ]
     },
     "execution_count": 50,
     "metadata": {},
     "output_type": "execute_result"
    }
   ],
   "source": [
    "np.sum(X, axis=0).tolist()[0]\n",
    "cum"
   ]
  },
  {
   "cell_type": "code",
   "execution_count": null,
   "metadata": {},
   "outputs": [],
   "source": []
  },
  {
   "cell_type": "code",
   "execution_count": null,
   "metadata": {},
   "outputs": [],
   "source": []
  },
  {
   "cell_type": "code",
   "execution_count": null,
   "metadata": {},
   "outputs": [],
   "source": []
  },
  {
   "cell_type": "code",
   "execution_count": 51,
   "metadata": {},
   "outputs": [
    {
     "data": {
      "text/html": [
       "<div>\n",
       "<style scoped>\n",
       "    .dataframe tbody tr th:only-of-type {\n",
       "        vertical-align: middle;\n",
       "    }\n",
       "\n",
       "    .dataframe tbody tr th {\n",
       "        vertical-align: top;\n",
       "    }\n",
       "\n",
       "    .dataframe thead th {\n",
       "        text-align: right;\n",
       "    }\n",
       "</style>\n",
       "<table border=\"1\" class=\"dataframe\">\n",
       "  <thead>\n",
       "    <tr style=\"text-align: right;\">\n",
       "      <th></th>\n",
       "      <th>alta</th>\n",
       "      <th>angie</th>\n",
       "      <th>arlie</th>\n",
       "      <th>b</th>\n",
       "      <th>b2</th>\n",
       "      <th>bay_area_girls_456</th>\n",
       "      <th>bay_area_girls_789</th>\n",
       "      <th>bea1</th>\n",
       "      <th>bea2</th>\n",
       "      <th>blind-f</th>\n",
       "      <th>...</th>\n",
       "      <th>phil3</th>\n",
       "      <th>physiologist</th>\n",
       "      <th>ringo</th>\n",
       "      <th>samantha</th>\n",
       "      <th>seventh_graders</th>\n",
       "      <th>toby</th>\n",
       "      <th>tom</th>\n",
       "      <th>ucsc_women</th>\n",
       "      <th>vickie</th>\n",
       "      <th>west_coast_teens</th>\n",
       "    </tr>\n",
       "  </thead>\n",
       "  <tbody>\n",
       "    <tr>\n",
       "      <th>0</th>\n",
       "      <td>1</td>\n",
       "      <td>0</td>\n",
       "      <td>0</td>\n",
       "      <td>0</td>\n",
       "      <td>0</td>\n",
       "      <td>0</td>\n",
       "      <td>0</td>\n",
       "      <td>0</td>\n",
       "      <td>0</td>\n",
       "      <td>0</td>\n",
       "      <td>...</td>\n",
       "      <td>0</td>\n",
       "      <td>0</td>\n",
       "      <td>0</td>\n",
       "      <td>0</td>\n",
       "      <td>0</td>\n",
       "      <td>0</td>\n",
       "      <td>0</td>\n",
       "      <td>0</td>\n",
       "      <td>0</td>\n",
       "      <td>0</td>\n",
       "    </tr>\n",
       "    <tr>\n",
       "      <th>1</th>\n",
       "      <td>1</td>\n",
       "      <td>0</td>\n",
       "      <td>0</td>\n",
       "      <td>0</td>\n",
       "      <td>0</td>\n",
       "      <td>0</td>\n",
       "      <td>0</td>\n",
       "      <td>0</td>\n",
       "      <td>0</td>\n",
       "      <td>0</td>\n",
       "      <td>...</td>\n",
       "      <td>0</td>\n",
       "      <td>0</td>\n",
       "      <td>0</td>\n",
       "      <td>0</td>\n",
       "      <td>0</td>\n",
       "      <td>0</td>\n",
       "      <td>0</td>\n",
       "      <td>0</td>\n",
       "      <td>0</td>\n",
       "      <td>0</td>\n",
       "    </tr>\n",
       "    <tr>\n",
       "      <th>2</th>\n",
       "      <td>1</td>\n",
       "      <td>0</td>\n",
       "      <td>0</td>\n",
       "      <td>0</td>\n",
       "      <td>0</td>\n",
       "      <td>0</td>\n",
       "      <td>0</td>\n",
       "      <td>0</td>\n",
       "      <td>0</td>\n",
       "      <td>0</td>\n",
       "      <td>...</td>\n",
       "      <td>0</td>\n",
       "      <td>0</td>\n",
       "      <td>0</td>\n",
       "      <td>0</td>\n",
       "      <td>0</td>\n",
       "      <td>0</td>\n",
       "      <td>0</td>\n",
       "      <td>0</td>\n",
       "      <td>0</td>\n",
       "      <td>0</td>\n",
       "    </tr>\n",
       "    <tr>\n",
       "      <th>3</th>\n",
       "      <td>1</td>\n",
       "      <td>0</td>\n",
       "      <td>0</td>\n",
       "      <td>0</td>\n",
       "      <td>0</td>\n",
       "      <td>0</td>\n",
       "      <td>0</td>\n",
       "      <td>0</td>\n",
       "      <td>0</td>\n",
       "      <td>0</td>\n",
       "      <td>...</td>\n",
       "      <td>0</td>\n",
       "      <td>0</td>\n",
       "      <td>0</td>\n",
       "      <td>0</td>\n",
       "      <td>0</td>\n",
       "      <td>0</td>\n",
       "      <td>0</td>\n",
       "      <td>0</td>\n",
       "      <td>0</td>\n",
       "      <td>0</td>\n",
       "    </tr>\n",
       "    <tr>\n",
       "      <th>4</th>\n",
       "      <td>1</td>\n",
       "      <td>0</td>\n",
       "      <td>0</td>\n",
       "      <td>0</td>\n",
       "      <td>0</td>\n",
       "      <td>0</td>\n",
       "      <td>0</td>\n",
       "      <td>0</td>\n",
       "      <td>0</td>\n",
       "      <td>0</td>\n",
       "      <td>...</td>\n",
       "      <td>0</td>\n",
       "      <td>0</td>\n",
       "      <td>0</td>\n",
       "      <td>0</td>\n",
       "      <td>0</td>\n",
       "      <td>0</td>\n",
       "      <td>0</td>\n",
       "      <td>0</td>\n",
       "      <td>0</td>\n",
       "      <td>0</td>\n",
       "    </tr>\n",
       "  </tbody>\n",
       "</table>\n",
       "<p>5 rows × 60 columns</p>\n",
       "</div>"
      ],
      "text/plain": [
       "   alta  angie  arlie  b  b2  bay_area_girls_456  bay_area_girls_789  bea1  \\\n",
       "0     1      0      0  0   0                   0                   0     0   \n",
       "1     1      0      0  0   0                   0                   0     0   \n",
       "2     1      0      0  0   0                   0                   0     0   \n",
       "3     1      0      0  0   0                   0                   0     0   \n",
       "4     1      0      0  0   0                   0                   0     0   \n",
       "\n",
       "   bea2  blind-f        ...         phil3  physiologist  ringo  samantha  \\\n",
       "0     0        0        ...             0             0      0         0   \n",
       "1     0        0        ...             0             0      0         0   \n",
       "2     0        0        ...             0             0      0         0   \n",
       "3     0        0        ...             0             0      0         0   \n",
       "4     0        0        ...             0             0      0         0   \n",
       "\n",
       "   seventh_graders  toby  tom  ucsc_women  vickie  west_coast_teens  \n",
       "0                0     0    0           0       0                 0  \n",
       "1                0     0    0           0       0                 0  \n",
       "2                0     0    0           0       0                 0  \n",
       "3                0     0    0           0       0                 0  \n",
       "4                0     0    0           0       0                 0  \n",
       "\n",
       "[5 rows x 60 columns]"
      ]
     },
     "execution_count": 51,
     "metadata": {},
     "output_type": "execute_result"
    }
   ],
   "source": [
    "pd.get_dummies(dreams_df['id']).head()"
   ]
  },
  {
   "cell_type": "code",
   "execution_count": null,
   "metadata": {},
   "outputs": [],
   "source": []
  },
  {
   "cell_type": "code",
   "execution_count": null,
   "metadata": {},
   "outputs": [],
   "source": []
  },
  {
   "cell_type": "markdown",
   "metadata": {},
   "source": [
    "## Data (X)"
   ]
  },
  {
   "cell_type": "code",
   "execution_count": 52,
   "metadata": {},
   "outputs": [],
   "source": [
    "n = 10\n",
    "top_dreamers = dreams_df['name'].value_counts(ascending=True).tail(n)\n",
    "\n",
    "# top 10 dreamers\n",
    "use_df = dreams_df[dreams_df.name.isin(top_dreamers.index)]\n",
    "\n",
    "# X\n",
    "X = dreams_df['dream']\n",
    "X_top_dreamers = use_df['dream']"
   ]
  },
  {
   "cell_type": "markdown",
   "metadata": {},
   "source": [
    "## Target (y)"
   ]
  },
  {
   "cell_type": "code",
   "execution_count": 53,
   "metadata": {},
   "outputs": [],
   "source": [
    "# y\n",
    "y = dreams_df['sex']\n",
    "y_top_dreamers = use_df['sex']"
   ]
  },
  {
   "cell_type": "markdown",
   "metadata": {},
   "source": [
    "### CountVectorizer() and MultinomialNB()"
   ]
  },
  {
   "cell_type": "code",
   "execution_count": 54,
   "metadata": {},
   "outputs": [],
   "source": [
    "from sklearn.naive_bayes import MultinomialNB"
   ]
  },
  {
   "cell_type": "markdown",
   "metadata": {},
   "source": [
    "All"
   ]
  },
  {
   "cell_type": "code",
   "execution_count": 55,
   "metadata": {},
   "outputs": [
    {
     "name": "stdout",
     "output_type": "stream",
     "text": [
      "Accuracy score for the training set: 0.906183368869936\n",
      "Accuracy score for the test set: 0.8545454545454545\n"
     ]
    }
   ],
   "source": [
    "# features & target\n",
    "\n",
    "X = CountVectorizer().fit_transform(dreams_df.dream)#.tocsc()\n",
    "# X = dreams_df['dream'] \n",
    "y = dreams_df['sex'] #.values.astype(np.int)\n",
    "\n",
    "\n",
    "# Multinomial Naïve Bayes\n",
    "\n",
    "# split into a training and test set\n",
    "X_train, X_test, y_train, y_test = train_test_split(X, y, test_size=0.3, random_state=1)\n",
    "\n",
    "# MultinomialNB() classifier with default parameters.\n",
    "multi_nb = MultinomialNB()\n",
    "\n",
    "# train the classifier over the training set and test on the test set\n",
    "multi_nb.fit(X_train, y_train)\n",
    "\n",
    "y_pred = multi_nb.predict(X_test)\n",
    "\n",
    "# accuracy scores for both the training and the test sets\n",
    "print(\"Accuracy score for the training set: {}\".format(multi_nb.score(X_train, y_train)))\n",
    "print(\"Accuracy score for the test set: {}\".format(multi_nb.score(X_test, y_test)))\n"
   ]
  },
  {
   "cell_type": "code",
   "execution_count": null,
   "metadata": {},
   "outputs": [],
   "source": []
  },
  {
   "cell_type": "markdown",
   "metadata": {},
   "source": [
    "#### Predictions"
   ]
  },
  {
   "cell_type": "code",
   "execution_count": 56,
   "metadata": {},
   "outputs": [
    {
     "data": {
      "text/plain": [
       "'I was talking with Jung and he was looking at me as if I knew something.'"
      ]
     },
     "execution_count": 56,
     "metadata": {},
     "output_type": "execute_result"
    }
   ],
   "source": [
    "# sentence = dreams_df['dream'][0]  # alta dream\n",
    "sentence = \"I was talking with Jung and he was looking at me as if I knew something.\"\n",
    "sentence"
   ]
  },
  {
   "cell_type": "code",
   "execution_count": 57,
   "metadata": {},
   "outputs": [
    {
     "name": "stdout",
     "output_type": "stream",
     "text": [
      "Prediction of the sentence: ['F']\n"
     ]
    }
   ],
   "source": [
    "# fit to build the vocabulary: dreams vocabulary\n",
    "vectorizer = CountVectorizer().fit(dreams_df['dream'])   \n",
    "\n",
    "# transform to convert the sentence to a bag of words\n",
    "sentence_transformed = vectorizer.transform([sentence])\n",
    "\n",
    "# Predict\n",
    "print(\"Prediction of the sentence: {}\".format(multi_nb.predict(sentence_transformed)))\n"
   ]
  },
  {
   "cell_type": "code",
   "execution_count": null,
   "metadata": {},
   "outputs": [],
   "source": []
  },
  {
   "cell_type": "code",
   "execution_count": null,
   "metadata": {},
   "outputs": [],
   "source": []
  },
  {
   "cell_type": "code",
   "execution_count": 58,
   "metadata": {},
   "outputs": [
    {
     "data": {
      "text/plain": [
       "array([1, 1, 1, ..., 0, 0, 0])"
      ]
     },
     "execution_count": 58,
     "metadata": {},
     "output_type": "execute_result"
    }
   ],
   "source": [
    "(dreams_df.id == 'alta').values.astype(np.int)  # target: if it's alta id (1) or not (0)"
   ]
  },
  {
   "cell_type": "code",
   "execution_count": null,
   "metadata": {},
   "outputs": [],
   "source": []
  },
  {
   "cell_type": "markdown",
   "metadata": {},
   "source": [
    "### CountVectorizer() and OneVsRestClassifier"
   ]
  },
  {
   "cell_type": "code",
   "execution_count": 59,
   "metadata": {},
   "outputs": [],
   "source": [
    "from sklearn.feature_extraction.text import CountVectorizer\n",
    "from sklearn.pipeline import Pipeline\n",
    "from sklearn.model_selection import train_test_split, GridSearchCV"
   ]
  },
  {
   "cell_type": "markdown",
   "metadata": {},
   "source": [
    "#### LogisticRegression"
   ]
  },
  {
   "cell_type": "code",
   "execution_count": 60,
   "metadata": {},
   "outputs": [],
   "source": [
    "from sklearn.linear_model import LogisticRegression\n",
    "from sklearn.multiclass import OneVsRestClassifier\n",
    "from sklearn.feature_extraction.text import HashingVectorizer"
   ]
  },
  {
   "cell_type": "markdown",
   "metadata": {},
   "source": [
    "Top 10 dreamers"
   ]
  },
  {
   "cell_type": "code",
   "execution_count": 61,
   "metadata": {},
   "outputs": [
    {
     "name": "stdout",
     "output_type": "stream",
     "text": [
      "Top10: accuracy score for OneVsRestClassifier / LogisticRegression without tuning: 0.9321924443009364\n",
      "Top10: accuracy score for OneVsRestClassifier / LogisticRegression without tuning: 0.9363900548918308\n",
      "Wall time: 52.8 s\n"
     ]
    }
   ],
   "source": [
    "%%time\n",
    "# 10 Top dreamers\n",
    "\n",
    "# LogisticRegression\n",
    "classifier = 'OneVsRestClassifier / LogisticRegression'\n",
    "\n",
    "X_top_dreamers = use_df['dream']\n",
    "y_top_dreamers = use_df['sex']\n",
    "\n",
    "SEED = 2\n",
    "\n",
    "X_train, X_test, y_train, y_test = train_test_split(X_top_dreamers, y_top_dreamers, random_state=SEED)\n",
    "\n",
    "pl = Pipeline([('vec', CountVectorizer()), \n",
    "               ('clf', OneVsRestClassifier(LogisticRegression(solver='lbfgs', max_iter=10000)))])\n",
    "\n",
    "pl.fit(X_train, y_train)\n",
    "\n",
    "# accuracy\n",
    "print('Top10: accuracy score for {} without tuning: {}'.format(classifier, pl.score(X_test, y_test))) #0.8550209880529545\n",
    "\n",
    "#############################################\n",
    "\n",
    "from sklearn.feature_extraction.text import HashingVectorizer\n",
    "\n",
    "vec = HashingVectorizer(norm=None, ngram_range=(1, 2))\n",
    "\n",
    "pl = Pipeline([('vec', vec), \n",
    "               ('clf', OneVsRestClassifier(LogisticRegression(solver='lbfgs', max_iter=10000)))])\n",
    "\n",
    "pl.fit(X_train, y_train)\n",
    "\n",
    "# accuracy\n",
    "print('Top10: accuracy score for {} without tuning: {}'.format(classifier, pl.score(X_test, y_test)))"
   ]
  },
  {
   "cell_type": "markdown",
   "metadata": {},
   "source": [
    "#### Prediction"
   ]
  },
  {
   "cell_type": "code",
   "execution_count": 62,
   "metadata": {},
   "outputs": [
    {
     "data": {
      "text/plain": [
       "'I was talking with Jung and he was looking at me as if I knew something.'"
      ]
     },
     "execution_count": 62,
     "metadata": {},
     "output_type": "execute_result"
    }
   ],
   "source": [
    "# sentence = dreams_df['dream'][0]  # alta dream\n",
    "sentence = \"I was talking with Jung and he was looking at me as if I knew something.\"\n",
    "sentence"
   ]
  },
  {
   "cell_type": "code",
   "execution_count": 63,
   "metadata": {},
   "outputs": [
    {
     "name": "stdout",
     "output_type": "stream",
     "text": [
      "Prediction of the sentence: ['M']\n"
     ]
    }
   ],
   "source": [
    "# Predict\n",
    "print(\"Prediction of the sentence: {}\".format(pl.predict([sentence])))"
   ]
  },
  {
   "cell_type": "code",
   "execution_count": null,
   "metadata": {},
   "outputs": [],
   "source": []
  },
  {
   "cell_type": "markdown",
   "metadata": {},
   "source": [
    "All dreamers"
   ]
  },
  {
   "cell_type": "code",
   "execution_count": 64,
   "metadata": {},
   "outputs": [
    {
     "name": "stdout",
     "output_type": "stream",
     "text": [
      "All: accuracy score for LogisticRegression without tuning: 0.8655825442568958\n",
      "Wall time: 1min 27s\n"
     ]
    }
   ],
   "source": [
    "%%time\n",
    "# All\n",
    "\n",
    "# LogisticRegression\n",
    "classifier = 'LogisticRegression'\n",
    "\n",
    "X = dreams_df['dream']\n",
    "y = dreams_df['sex']        # target\n",
    "\n",
    "SEED = 2\n",
    "\n",
    "\n",
    "X_train, X_test, y_train, y_test = train_test_split(X, y, random_state=SEED)\n",
    "\n",
    "pl = Pipeline([('vec', CountVectorizer()), \n",
    "               ('clf', OneVsRestClassifier(LogisticRegression(solver='sag', max_iter=10000, random_state=SEED)))])\n",
    "\n",
    "pl.fit(X_train, y_train)\n",
    "\n",
    "# accuracy\n",
    "print('All: accuracy score for {} without tuning: {}'.format(classifier, pl.score(X_test, y_test))) \n"
   ]
  },
  {
   "cell_type": "markdown",
   "metadata": {},
   "source": [
    "Tuning"
   ]
  },
  {
   "cell_type": "code",
   "execution_count": 65,
   "metadata": {},
   "outputs": [
    {
     "name": "stdout",
     "output_type": "stream",
     "text": [
      "Couldn't find program: 'false'\n"
     ]
    }
   ],
   "source": [
    "%%script false    # ---> como fazer o tune dos hyperparameters qd se tem o CountVectorizer antes no Pipeline\n",
    "%%time\n",
    "# Tuning\n",
    "\n",
    "pl_to_tune = Pipeline([('vec', CountVectorizer()), \n",
    "                     ('clf', LogisticRegression(solver='sag', max_iter=10000, random_state=SEED))])\n",
    "\n",
    "# hyperparameter grid\n",
    "param_grid = {'C': [0, 1, 2], 'penalty': ['l1', 'l2']}\n",
    "\n",
    "grid_logreg = GridSearchCV(pl, param_grid=param_grid, cv=3, iid=False)\n",
    "\n",
    "grid_logreg.fit(X_train, y_train)\n",
    "\n",
    "# hyperparametes & accuracy\n",
    "print(\"\\nTuned Logistic Regression Parameters: {}\".format(grid_logreg.best_params_))\n",
    "print('All: accuracy score for {} with tuning: {}'.format(classifier, grid_logreg.score(X_test, y_test)))\n"
   ]
  },
  {
   "cell_type": "code",
   "execution_count": 66,
   "metadata": {},
   "outputs": [
    {
     "name": "stdout",
     "output_type": "stream",
     "text": [
      "accuracy score for LogisticRegression (multiclass) without tuning: 0.8565253190613421\n",
      "Wall time: 20.9 s\n"
     ]
    }
   ],
   "source": [
    "%%time\n",
    "# All  -- MULTICLASS\n",
    "\n",
    "X = dreams_df['dream']\n",
    "y = dreams_df['sex']        # target\n",
    "\n",
    "# LogisticRegression\n",
    "classifier = 'LogisticRegression (multiclass)'\n",
    "\n",
    "SEED = 2\n",
    "\n",
    "X_train, X_test, y_train, y_test = train_test_split(X, y, random_state=SEED)\n",
    "\n",
    "pl = Pipeline([('vec', CountVectorizer()), \n",
    "               ('clf', LogisticRegression(solver='lbfgs', max_iter=1000, multi_class=\"multinomial\"))])\n",
    "\n",
    "pl.fit(X_train, y_train)\n",
    "\n",
    "# accuracy\n",
    "print('accuracy score for {} without tuning: {}'.format(classifier, pl.score(X_test, y_test)))  #0.7286949361877316\n",
    "\n",
    "#############################################\n",
    "\n",
    "# Tuning"
   ]
  },
  {
   "cell_type": "markdown",
   "metadata": {},
   "source": [
    "#### DecisionTreeClassifier"
   ]
  },
  {
   "cell_type": "code",
   "execution_count": 67,
   "metadata": {},
   "outputs": [],
   "source": [
    "from sklearn.tree import DecisionTreeClassifier"
   ]
  },
  {
   "cell_type": "markdown",
   "metadata": {},
   "source": [
    "All"
   ]
  },
  {
   "cell_type": "code",
   "execution_count": 68,
   "metadata": {},
   "outputs": [
    {
     "name": "stdout",
     "output_type": "stream",
     "text": [
      "accuracy score for DecisionTreeClassifier without tuning: 0.776657060518732\n",
      "Wall time: 12.7 s\n"
     ]
    }
   ],
   "source": [
    "%%time\n",
    "\n",
    "classifier = 'DecisionTreeClassifier'\n",
    "\n",
    "SEED = 2\n",
    "\n",
    "X = dreams_df['dream']\n",
    "y = dreams_df['sex']        # target\n",
    "\n",
    "X_train, X_test, y_train, y_test = train_test_split(X, y, random_state=SEED)\n",
    "\n",
    "pl = Pipeline([('vec', CountVectorizer()), \n",
    "               ('clf', DecisionTreeClassifier())])   # n precisa de usar um multiclass antes\n",
    "\n",
    "pl.fit(X_train, y_train)\n",
    "\n",
    "# accuracy\n",
    "print('accuracy score for {} without tuning: {}'.format(classifier, pl.score(X_test, y_test)))   # 0.4545080279950597\n",
    "\n",
    "#############################################\n",
    "\n",
    "# Tuning\n",
    "\n",
    "##############################################\n",
    "\n",
    "# Predictions\n",
    "\n"
   ]
  },
  {
   "cell_type": "code",
   "execution_count": null,
   "metadata": {},
   "outputs": [],
   "source": []
  },
  {
   "cell_type": "code",
   "execution_count": null,
   "metadata": {},
   "outputs": [],
   "source": []
  },
  {
   "cell_type": "code",
   "execution_count": null,
   "metadata": {},
   "outputs": [],
   "source": []
  },
  {
   "cell_type": "markdown",
   "metadata": {},
   "source": [
    "#### RandomForestClassifier"
   ]
  },
  {
   "cell_type": "code",
   "execution_count": 69,
   "metadata": {},
   "outputs": [],
   "source": [
    "from sklearn.ensemble import RandomForestClassifier"
   ]
  },
  {
   "cell_type": "markdown",
   "metadata": {},
   "source": [
    "All"
   ]
  },
  {
   "cell_type": "code",
   "execution_count": 70,
   "metadata": {},
   "outputs": [
    {
     "name": "stdout",
     "output_type": "stream",
     "text": [
      "accuracy score for RandomForestClassifier without tuning: 0.8231782626595306\n",
      "Wall time: 35.9 s\n"
     ]
    }
   ],
   "source": [
    "%%time\n",
    "\n",
    "classifier = 'RandomForestClassifier'\n",
    "\n",
    "SEED = 2\n",
    "\n",
    "X = dreams_df['dream']\n",
    "y = dreams_df['sex']        # target\n",
    "\n",
    "X_train, X_test, y_train, y_test = train_test_split(X, y, random_state=SEED)\n",
    "\n",
    "pl = Pipeline([('vec', CountVectorizer()), \n",
    "               ('clf', OneVsRestClassifier(RandomForestClassifier(n_estimators=100)))])\n",
    "\n",
    "pl.fit(X_train, y_train)\n",
    "\n",
    "# accuracy\n",
    "print('accuracy score for {} without tuning: {}'.format(classifier, pl.score(X_test, y_test)))  # 0.590778097982709\n",
    "\n",
    "#############################################\n",
    "\n",
    "# Tuning\n",
    "\n",
    "##############################################\n",
    "\n",
    "# Predictions\n"
   ]
  },
  {
   "cell_type": "markdown",
   "metadata": {},
   "source": [
    "#### AdaBoostClassifier"
   ]
  },
  {
   "cell_type": "code",
   "execution_count": 71,
   "metadata": {},
   "outputs": [],
   "source": [
    "from sklearn.ensemble import AdaBoostClassifier"
   ]
  },
  {
   "cell_type": "markdown",
   "metadata": {},
   "source": [
    "All"
   ]
  },
  {
   "cell_type": "code",
   "execution_count": 72,
   "metadata": {},
   "outputs": [
    {
     "name": "stdout",
     "output_type": "stream",
     "text": [
      "accuracy score for AdaBoostClassifier (DecisionTreeClassifier) without tuning: 0.8124742692466035\n",
      "Wall time: 9.78 s\n"
     ]
    }
   ],
   "source": [
    "%%time\n",
    "\n",
    "classifier = 'AdaBoostClassifier (DecisionTreeClassifier)'\n",
    "\n",
    "SEED = 2\n",
    "\n",
    "X = dreams_df['dream']\n",
    "y = dreams_df['sex']        # target\n",
    "\n",
    "X_train, X_test, y_train, y_test = train_test_split(X, y, random_state=SEED)\n",
    "\n",
    "pl = Pipeline([('vec', CountVectorizer()), \n",
    "               ('clf', OneVsRestClassifier(AdaBoostClassifier()))])   # w/ DecisionTreeClassifier default\n",
    "\n",
    "pl.fit(X_train, y_train)\n",
    "\n",
    "# accuracy\n",
    "print('accuracy score for {} without tuning: {}'.format(classifier, pl.score(X_test, y_test)))  # 0.6414162206669412\n",
    "\n",
    "#############################################\n",
    "\n",
    "# Tuning\n",
    "\n",
    "##############################################\n",
    "\n",
    "# Predictions\n"
   ]
  },
  {
   "cell_type": "code",
   "execution_count": 73,
   "metadata": {},
   "outputs": [
    {
     "name": "stdout",
     "output_type": "stream",
     "text": [
      "accuracy score for AdaBoostClassifier w/ LogisticRegression without tuning: 0.8431453272951832\n",
      "Wall time: 14.9 s\n"
     ]
    }
   ],
   "source": [
    "%%time\n",
    "classifier = 'AdaBoostClassifier w/ LogisticRegression'\n",
    "\n",
    "SEED = 2\n",
    "\n",
    "X = dreams_df['dream']\n",
    "y = dreams_df['sex']        # target\n",
    "\n",
    "X_train, X_test, y_train, y_test = train_test_split(X, y, random_state=SEED)\n",
    "\n",
    "pl = Pipeline([\n",
    "    ('vec', CountVectorizer()), \n",
    "    ('clf', OneVsRestClassifier(AdaBoostClassifier(base_estimator=LogisticRegression(solver='lbfgs', max_iter=10000))))\n",
    "    ])\n",
    "\n",
    "pl.fit(X_train, y_train)\n",
    "\n",
    "# accuracy\n",
    "print('accuracy score for {} without tuning: {}'.format(classifier, pl.score(X_test, y_test)))  \n",
    "\n",
    "#############################################                                                     Wall time: 10min 49s\n",
    "\n",
    "# Tuning\n",
    "\n",
    "##############################################\n",
    "\n",
    "# Predictions\n"
   ]
  },
  {
   "cell_type": "code",
   "execution_count": null,
   "metadata": {},
   "outputs": [],
   "source": []
  },
  {
   "cell_type": "code",
   "execution_count": null,
   "metadata": {},
   "outputs": [],
   "source": []
  },
  {
   "cell_type": "markdown",
   "metadata": {},
   "source": [
    "#### KNeighborsClassifier"
   ]
  },
  {
   "cell_type": "code",
   "execution_count": 74,
   "metadata": {},
   "outputs": [],
   "source": [
    "from sklearn.neighbors import KNeighborsClassifier"
   ]
  },
  {
   "cell_type": "markdown",
   "metadata": {},
   "source": [
    "All"
   ]
  },
  {
   "cell_type": "code",
   "execution_count": 75,
   "metadata": {},
   "outputs": [
    {
     "name": "stdout",
     "output_type": "stream",
     "text": [
      "accuracy score for KNeighborsClassifier without tuning: 0.670646356525319\n",
      "Wall time: 9.59 s\n"
     ]
    }
   ],
   "source": [
    "%%time\n",
    "\n",
    "classifier = 'KNeighborsClassifier'\n",
    "\n",
    "SEED = 2\n",
    "\n",
    "X = dreams_df['dream']\n",
    "y = dreams_df['sex']        # target\n",
    "\n",
    "X_train, X_test, y_train, y_test = train_test_split(X, y, random_state=SEED)\n",
    "\n",
    "pl = Pipeline([('vec', CountVectorizer()), \n",
    "               ('clf', KNeighborsClassifier(n_neighbors=1))])   # tb n precisa de usar um multiclass antes\n",
    "\n",
    "pl.fit(X_train, y_train)\n",
    "\n",
    "# accuracy\n",
    "print('accuracy score for {} without tuning: {}'.format(classifier, pl.score(X_test, y_test)))    # 0.3108275010292301\n",
    "\n",
    "#############################################\n",
    "\n",
    "# Tuning\n",
    "\n",
    "##############################################\n",
    "\n",
    "# Predictions\n"
   ]
  },
  {
   "cell_type": "code",
   "execution_count": null,
   "metadata": {},
   "outputs": [],
   "source": []
  },
  {
   "cell_type": "code",
   "execution_count": null,
   "metadata": {},
   "outputs": [],
   "source": []
  },
  {
   "cell_type": "code",
   "execution_count": null,
   "metadata": {},
   "outputs": [],
   "source": []
  },
  {
   "cell_type": "code",
   "execution_count": null,
   "metadata": {},
   "outputs": [],
   "source": []
  },
  {
   "cell_type": "code",
   "execution_count": null,
   "metadata": {},
   "outputs": [],
   "source": []
  },
  {
   "cell_type": "code",
   "execution_count": null,
   "metadata": {},
   "outputs": [],
   "source": []
  },
  {
   "cell_type": "code",
   "execution_count": null,
   "metadata": {},
   "outputs": [],
   "source": []
  },
  {
   "cell_type": "code",
   "execution_count": null,
   "metadata": {},
   "outputs": [],
   "source": []
  },
  {
   "cell_type": "code",
   "execution_count": null,
   "metadata": {},
   "outputs": [],
   "source": []
  },
  {
   "cell_type": "code",
   "execution_count": null,
   "metadata": {},
   "outputs": [],
   "source": []
  },
  {
   "cell_type": "code",
   "execution_count": null,
   "metadata": {},
   "outputs": [],
   "source": []
  },
  {
   "cell_type": "code",
   "execution_count": null,
   "metadata": {},
   "outputs": [],
   "source": []
  }
 ],
 "metadata": {
  "kernelspec": {
   "display_name": "Python 3",
   "language": "python",
   "name": "python3"
  },
  "language_info": {
   "codemirror_mode": {
    "name": "ipython",
    "version": 3
   },
   "file_extension": ".py",
   "mimetype": "text/x-python",
   "name": "python",
   "nbconvert_exporter": "python",
   "pygments_lexer": "ipython3",
   "version": "3.7.1"
  }
 },
 "nbformat": 4,
 "nbformat_minor": 2
}
