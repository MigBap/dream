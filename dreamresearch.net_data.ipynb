{
 "cells": [
  {
   "cell_type": "markdown",
   "metadata": {},
   "source": [
    "### dreambank.net"
   ]
  },
  {
   "cell_type": "markdown",
   "metadata": {},
   "source": [
    "Dreambank - data: http://www.dreambank.net/\n",
    "\n",
    "website com tudo: https://dreams.ucsc.edu/\n",
    "\n",
    "e-mail: dreams@dreamresearch.net "
   ]
  },
  {
   "cell_type": "markdown",
   "metadata": {},
   "source": [
    "### Contents"
   ]
  },
  {
   "cell_type": "markdown",
   "metadata": {},
   "source": [
    "0) [Data](#data)\\\n",
    "1) [Text pre-processing](#pre_processing)\\\n",
    "2) [Text parsing & Exploratory Data Analysis](#parsing_eda)\\\n",
    "2.1) [All & Top dreamers](#top_all_dreamers)\\\n",
    "2.2) [Individual dreamer](#individual_dreamer)\\\n",
    "3) [Text Representation & Feature Engineering](#fe)\\\n",
    "4) [Modeling / Pattern Mining](#modeling)\\\n",
    "5) [Evaluation](#evaluation)"
   ]
  },
  {
   "cell_type": "code",
   "execution_count": 1,
   "metadata": {},
   "outputs": [
    {
     "name": "stderr",
     "output_type": "stream",
     "text": [
      "C:\\Users\\Admin\\Anaconda3\\lib\\site-packages\\gensim\\utils.py:1197: UserWarning: detected Windows; aliasing chunkize to chunkize_serial\n",
      "  warnings.warn(\"detected Windows; aliasing chunkize to chunkize_serial\")\n"
     ]
    }
   ],
   "source": [
    "# usual\n",
    "%matplotlib inline\n",
    "import pandas as pd\n",
    "import numpy as np\n",
    "import matplotlib.pyplot as plt\n",
    "import seaborn as sns; sns.set()\n",
    "\n",
    "from collections import Counter, defaultdict\n",
    "import inspect\n",
    "\n",
    "# text\n",
    "import re\n",
    "from sklearn.feature_extraction.text import CountVectorizer, HashingVectorizer\n",
    "from nltk.tokenize import regexp_tokenize, sent_tokenize, word_tokenize\n",
    "from nltk.corpus import stopwords\n",
    "from nltk.stem import WordNetLemmatizer\n",
    "from gensim.corpora.dictionary import Dictionary\n",
    "from gensim.models.tfidfmodel import TfidfModel\n",
    "from polyglot.text import Text\n",
    "from polyglot.detect import Detector\n",
    "from textatistic import Textatistic\n",
    "import textatistic\n",
    "import spacy\n",
    "\n",
    "# train_test, weights, pipe\n",
    "from sklearn.model_selection import train_test_split, GridSearchCV\n",
    "from sklearn.utils.class_weight import compute_class_weight\n",
    "from sklearn.pipeline import Pipeline\n",
    "\n",
    "# classifiers\n",
    "from sklearn.naive_bayes import MultinomialNB, ComplementNB\n",
    "from sklearn.linear_model import LogisticRegression\n",
    "from sklearn.multiclass import OneVsRestClassifier\n",
    "from sklearn.tree import DecisionTreeClassifier\n",
    "from sklearn.neighbors import KNeighborsClassifier\n",
    "from sklearn.ensemble import AdaBoostClassifier, RandomForestClassifier"
   ]
  },
  {
   "cell_type": "code",
   "execution_count": 2,
   "metadata": {},
   "outputs": [],
   "source": [
    "data_folder = ''\n",
    "\n",
    "# plot 1 image\n",
    "def plot_1(image1, left=0, bottom=0, right=1, top=1, wspace=0, hspace=0, format_img=\".jpg\"):\n",
    "    image = plt.imread(data_folder + (image1+format_img))\n",
    "    plt.axis('off')\n",
    "    plt.imshow(image)\n",
    "    plt.subplots_adjust(left=left, bottom=bottom, right=right, top=top, wspace=wspace, hspace=hspace)\n",
    "    plt.show()\n",
    "\n",
    "# plot 2 images horizontally\n",
    "def plot_2(image1, image2, left=0, bottom=0, right=2.2, top=1, wspace=0, hspace=0.05, format_img=\".jpg\"):\n",
    "    plt.subplot(1, 2, 1)\n",
    "    image = plt.imread(data_folder + (image1+format_img))\n",
    "    plt.axis('off')\n",
    "    plt.imshow(image)\n",
    "    plt.subplot(1, 2, 2)\n",
    "    image = plt.imread(data_folder + (image2+format_img))\n",
    "    plt.axis('off')\n",
    "    plt.imshow(image)\n",
    "    plt.subplots_adjust(left=left, bottom=bottom, right=right, top=top, wspace=wspace, hspace=hspace)\n",
    "    plt.show()\n",
    "\n",
    "# plot 3 images horizontally\n",
    "def plot_3(image1, image2, image3, left=0, bottom=-1, right=2.7, top=1, wspace=0, hspace=0.1, format_img=\".jpg\"):\n",
    "    plt.subplot(1, 3, 1)\n",
    "    imagem = plt.imread(data_folder + (image1+format_img))\n",
    "    plt.axis('off')\n",
    "    plt.imshow(imagem)\n",
    "    plt.subplot(1, 3, 2)\n",
    "    imagem = plt.imread(data_folder + (image2+format_img))\n",
    "    plt.axis('off')\n",
    "    plt.imshow(imagem)\n",
    "    plt.subplot(1, 3, 3)\n",
    "    imagem = plt.imread(data_folder + (image3+format_img))\n",
    "    plt.axis('off')\n",
    "    plt.imshow(imagem)\n",
    "    plt.subplots_adjust(left=left, bottom=bottom, right=right, top=top, wspace=wspace, hspace=hspace)\n",
    "    plt.show()\n",
    "    \n",
    "# plot 4 images horizontally\n",
    "def plot_4(image1, image2, image3, image4, left=0, bottom=-1, right=2.7, top=1, wspace=0, hspace=0.1, format_img=\".jpg\"):\n",
    "    plt.subplot(1, 4, 1)\n",
    "    imagem = plt.imread(data_folder + (image1+format_img))\n",
    "    plt.axis('off')\n",
    "    plt.imshow(imagem)\n",
    "    plt.subplot(1, 4, 2)\n",
    "    imagem = plt.imread(data_folder + (image2+format_img))\n",
    "    plt.axis('off')\n",
    "    plt.imshow(imagem)\n",
    "    plt.subplot(1, 4, 3)\n",
    "    imagem = plt.imread(data_folder + (image3+format_img))\n",
    "    plt.axis('off')\n",
    "    plt.imshow(imagem)\n",
    "    plt.subplot(1, 4, 4)\n",
    "    imagem = plt.imread(data_folder + (image4+format_img))\n",
    "    plt.axis('off')\n",
    "    plt.imshow(imagem)    \n",
    "    plt.subplots_adjust(left=left, bottom=bottom, right=right, top=top, wspace=wspace, hspace=hspace)\n",
    "    plt.show()"
   ]
  },
  {
   "cell_type": "markdown",
   "metadata": {},
   "source": [
    "## 0) Data\n",
    "<a id=\"data\"></a>"
   ]
  },
  {
   "cell_type": "code",
   "execution_count": 3,
   "metadata": {},
   "outputs": [],
   "source": [
    "dreambank = pd.read_excel('dreambank.xlsx')"
   ]
  },
  {
   "cell_type": "markdown",
   "metadata": {},
   "source": [
    "## 1) Text pre-processing\n",
    "<a id=\"pre_processing\"></a>"
   ]
  },
  {
   "cell_type": "code",
   "execution_count": 4,
   "metadata": {},
   "outputs": [
    {
     "name": "stdout",
     "output_type": "stream",
     "text": [
      "<class 'pandas.core.frame.DataFrame'>\n",
      "RangeIndex: 125310 entries, 0 to 125309\n",
      "Data columns (total 5 columns):\n",
      "<dreambank>                        1 non-null object\n",
      "individual_collection              120 non-null object\n",
      "id_name_type_sex_age_time_dream    39844 non-null object\n",
      "number_date_report                 60185 non-null object\n",
      "codings                            25160 non-null object\n",
      "dtypes: object(5)\n",
      "memory usage: 4.8+ MB\n"
     ]
    }
   ],
   "source": [
    "dreambank.info()"
   ]
  },
  {
   "cell_type": "code",
   "execution_count": 5,
   "metadata": {},
   "outputs": [],
   "source": [
    "# delete unnecessary column\n",
    "del dreambank['<dreambank>']"
   ]
  },
  {
   "cell_type": "code",
   "execution_count": 6,
   "metadata": {},
   "outputs": [
    {
     "data": {
      "text/html": [
       "<div>\n",
       "<style scoped>\n",
       "    .dataframe tbody tr th:only-of-type {\n",
       "        vertical-align: middle;\n",
       "    }\n",
       "\n",
       "    .dataframe tbody tr th {\n",
       "        vertical-align: top;\n",
       "    }\n",
       "\n",
       "    .dataframe thead th {\n",
       "        text-align: right;\n",
       "    }\n",
       "</style>\n",
       "<table border=\"1\" class=\"dataframe\">\n",
       "  <thead>\n",
       "    <tr style=\"text-align: right;\">\n",
       "      <th></th>\n",
       "      <th>individual_collection</th>\n",
       "      <th>id_name_type_sex_age_time_dream</th>\n",
       "      <th>number_date_report</th>\n",
       "      <th>codings</th>\n",
       "    </tr>\n",
       "  </thead>\n",
       "  <tbody>\n",
       "    <tr>\n",
       "      <th>0</th>\n",
       "      <td>&lt;collection&gt;</td>\n",
       "      <td>NaN</td>\n",
       "      <td>NaN</td>\n",
       "      <td>NaN</td>\n",
       "    </tr>\n",
       "    <tr>\n",
       "      <th>1</th>\n",
       "      <td>NaN</td>\n",
       "      <td>&lt;id&gt;alta&lt;/id&gt;</td>\n",
       "      <td>NaN</td>\n",
       "      <td>NaN</td>\n",
       "    </tr>\n",
       "    <tr>\n",
       "      <th>2</th>\n",
       "      <td>NaN</td>\n",
       "      <td>&lt;name&gt;Alta: a detailed dreamer&lt;/name&gt;</td>\n",
       "      <td>NaN</td>\n",
       "      <td>NaN</td>\n",
       "    </tr>\n",
       "    <tr>\n",
       "      <th>3</th>\n",
       "      <td>NaN</td>\n",
       "      <td>&lt;type&gt;series&lt;/type&gt;</td>\n",
       "      <td>NaN</td>\n",
       "      <td>NaN</td>\n",
       "    </tr>\n",
       "    <tr>\n",
       "      <th>4</th>\n",
       "      <td>NaN</td>\n",
       "      <td>&lt;sex&gt;F&lt;/sex&gt;</td>\n",
       "      <td>NaN</td>\n",
       "      <td>NaN</td>\n",
       "    </tr>\n",
       "    <tr>\n",
       "      <th>5</th>\n",
       "      <td>NaN</td>\n",
       "      <td>&lt;age&gt;A&lt;/age&gt;</td>\n",
       "      <td>NaN</td>\n",
       "      <td>NaN</td>\n",
       "    </tr>\n",
       "    <tr>\n",
       "      <th>6</th>\n",
       "      <td>NaN</td>\n",
       "      <td>&lt;time&gt;1985-1997&lt;/time&gt;</td>\n",
       "      <td>NaN</td>\n",
       "      <td>NaN</td>\n",
       "    </tr>\n",
       "    <tr>\n",
       "      <th>7</th>\n",
       "      <td>NaN</td>\n",
       "      <td>&lt;dream&gt;</td>\n",
       "      <td>NaN</td>\n",
       "      <td>NaN</td>\n",
       "    </tr>\n",
       "    <tr>\n",
       "      <th>8</th>\n",
       "      <td>NaN</td>\n",
       "      <td>NaN</td>\n",
       "      <td>&lt;number&gt;1&lt;/number&gt;</td>\n",
       "      <td>NaN</td>\n",
       "    </tr>\n",
       "    <tr>\n",
       "      <th>9</th>\n",
       "      <td>NaN</td>\n",
       "      <td>NaN</td>\n",
       "      <td>&lt;date&gt;1957&lt;/date&gt;</td>\n",
       "      <td>NaN</td>\n",
       "    </tr>\n",
       "    <tr>\n",
       "      <th>10</th>\n",
       "      <td>NaN</td>\n",
       "      <td>NaN</td>\n",
       "      <td>&lt;report&gt;&lt;![CDATA[The one at the Meads's house,...</td>\n",
       "      <td>NaN</td>\n",
       "    </tr>\n",
       "    <tr>\n",
       "      <th>11</th>\n",
       "      <td>NaN</td>\n",
       "      <td>&lt;/dream&gt;</td>\n",
       "      <td>NaN</td>\n",
       "      <td>NaN</td>\n",
       "    </tr>\n",
       "  </tbody>\n",
       "</table>\n",
       "</div>"
      ],
      "text/plain": [
       "   individual_collection        id_name_type_sex_age_time_dream  \\\n",
       "0           <collection>                                    NaN   \n",
       "1                    NaN                          <id>alta</id>   \n",
       "2                    NaN  <name>Alta: a detailed dreamer</name>   \n",
       "3                    NaN                    <type>series</type>   \n",
       "4                    NaN                           <sex>F</sex>   \n",
       "5                    NaN                           <age>A</age>   \n",
       "6                    NaN                 <time>1985-1997</time>   \n",
       "7                    NaN                                <dream>   \n",
       "8                    NaN                                    NaN   \n",
       "9                    NaN                                    NaN   \n",
       "10                   NaN                                    NaN   \n",
       "11                   NaN                               </dream>   \n",
       "\n",
       "                                   number_date_report codings  \n",
       "0                                                 NaN     NaN  \n",
       "1                                                 NaN     NaN  \n",
       "2                                                 NaN     NaN  \n",
       "3                                                 NaN     NaN  \n",
       "4                                                 NaN     NaN  \n",
       "5                                                 NaN     NaN  \n",
       "6                                                 NaN     NaN  \n",
       "7                                                 NaN     NaN  \n",
       "8                                  <number>1</number>     NaN  \n",
       "9                                   <date>1957</date>     NaN  \n",
       "10  <report><![CDATA[The one at the Meads's house,...     NaN  \n",
       "11                                                NaN     NaN  "
      ]
     },
     "execution_count": 6,
     "metadata": {},
     "output_type": "execute_result"
    }
   ],
   "source": [
    "# head\n",
    "dreambank.head(12)"
   ]
  },
  {
   "cell_type": "code",
   "execution_count": 7,
   "metadata": {},
   "outputs": [
    {
     "data": {
      "text/plain": [
       "<mod>I+</mod>                              754\n",
       "<obj>AR</obj>                              648\n",
       "<char>1MKA</char>                          574\n",
       "<act><code>M</code><init>D</init></act>    537\n",
       "<obj>TR</obj>                              492\n",
       "<char>1FKA</char>                          486\n",
       "<act><code>P</code><init>D</init></act>    476\n",
       "<act><code>S</code><init>D</init></act>    462\n",
       "<obj>HH</obj>                              459\n",
       "<obj>NA</obj>                              424\n",
       "Name: codings, dtype: int64"
      ]
     },
     "execution_count": 7,
     "metadata": {},
     "output_type": "execute_result"
    }
   ],
   "source": [
    "# dreambank.net codings - ver dps\n",
    "dreambank['codings'].value_counts().head(10)"
   ]
  },
  {
   "cell_type": "code",
   "execution_count": 8,
   "metadata": {},
   "outputs": [
    {
     "data": {
      "text/plain": [
       "<collection>     60\n",
       "</collection>    60\n",
       "Name: individual_collection, dtype: int64"
      ]
     },
     "execution_count": 8,
     "metadata": {},
     "output_type": "execute_result"
    }
   ],
   "source": [
    "# 60 individuals\n",
    "dreambank.individual_collection.value_counts()"
   ]
  },
  {
   "cell_type": "code",
   "execution_count": 9,
   "metadata": {},
   "outputs": [
    {
     "data": {
      "text/plain": [
       "</dream>                    19743\n",
       "<dream>                     19743\n",
       "<type>series</type>            44\n",
       "<sex>F</sex>                   33\n",
       "<sex>M</sex>                   27\n",
       "<age>Y</age>                   24\n",
       "<age>A</age>                   21\n",
       "<type>set</type>               16\n",
       "<age>T</age>                    9\n",
       "<age>C</age>                    4\n",
       "<time>mid-1990s</time>          3\n",
       "<time>1998</time>               3\n",
       "<time>1996</time>               3\n",
       "<time>1940s-1950s</time>        2\n",
       "<time>1962</time>               2\n",
       "<time>1970</time>               2\n",
       "<time>1963-1965</time>          2\n",
       "<time>1996-1997</time>          2\n",
       "<time>1964</time>               1\n",
       "<time>1957-1959</time>          1\n",
       "Name: id_name_type_sex_age_time_dream, dtype: int64"
      ]
     },
     "execution_count": 9,
     "metadata": {},
     "output_type": "execute_result"
    }
   ],
   "source": [
    "# 19743 dreams\n",
    "dreambank.id_name_type_sex_age_time_dream.value_counts().head(20)"
   ]
  },
  {
   "cell_type": "code",
   "execution_count": 10,
   "metadata": {},
   "outputs": [
    {
     "data": {
      "text/html": [
       "<div>\n",
       "<style scoped>\n",
       "    .dataframe tbody tr th:only-of-type {\n",
       "        vertical-align: middle;\n",
       "    }\n",
       "\n",
       "    .dataframe tbody tr th {\n",
       "        vertical-align: top;\n",
       "    }\n",
       "\n",
       "    .dataframe thead th {\n",
       "        text-align: right;\n",
       "    }\n",
       "</style>\n",
       "<table border=\"1\" class=\"dataframe\">\n",
       "  <thead>\n",
       "    <tr style=\"text-align: right;\">\n",
       "      <th></th>\n",
       "      <th>individual_collection</th>\n",
       "      <th>id_name_type_sex_age_time_dream</th>\n",
       "      <th>number_date_report</th>\n",
       "      <th>codings</th>\n",
       "    </tr>\n",
       "  </thead>\n",
       "  <tbody>\n",
       "    <tr>\n",
       "      <th>0</th>\n",
       "      <td>&lt;collection&gt;</td>\n",
       "      <td>NaN</td>\n",
       "      <td>NaN</td>\n",
       "      <td>NaN</td>\n",
       "    </tr>\n",
       "    <tr>\n",
       "      <th>1</th>\n",
       "      <td>NaN</td>\n",
       "      <td>&lt;id&gt;alta&lt;/id&gt;</td>\n",
       "      <td>NaN</td>\n",
       "      <td>NaN</td>\n",
       "    </tr>\n",
       "    <tr>\n",
       "      <th>2</th>\n",
       "      <td>NaN</td>\n",
       "      <td>&lt;name&gt;Alta: a detailed dreamer&lt;/name&gt;</td>\n",
       "      <td>NaN</td>\n",
       "      <td>NaN</td>\n",
       "    </tr>\n",
       "    <tr>\n",
       "      <th>3</th>\n",
       "      <td>NaN</td>\n",
       "      <td>&lt;type&gt;series&lt;/type&gt;</td>\n",
       "      <td>NaN</td>\n",
       "      <td>NaN</td>\n",
       "    </tr>\n",
       "    <tr>\n",
       "      <th>4</th>\n",
       "      <td>NaN</td>\n",
       "      <td>&lt;sex&gt;F&lt;/sex&gt;</td>\n",
       "      <td>NaN</td>\n",
       "      <td>NaN</td>\n",
       "    </tr>\n",
       "    <tr>\n",
       "      <th>5</th>\n",
       "      <td>NaN</td>\n",
       "      <td>&lt;age&gt;A&lt;/age&gt;</td>\n",
       "      <td>NaN</td>\n",
       "      <td>NaN</td>\n",
       "    </tr>\n",
       "    <tr>\n",
       "      <th>6</th>\n",
       "      <td>NaN</td>\n",
       "      <td>&lt;time&gt;1985-1997&lt;/time&gt;</td>\n",
       "      <td>NaN</td>\n",
       "      <td>NaN</td>\n",
       "    </tr>\n",
       "    <tr>\n",
       "      <th>7</th>\n",
       "      <td>NaN</td>\n",
       "      <td>&lt;dream&gt;</td>\n",
       "      <td>NaN</td>\n",
       "      <td>NaN</td>\n",
       "    </tr>\n",
       "    <tr>\n",
       "      <th>8</th>\n",
       "      <td>NaN</td>\n",
       "      <td>NaN</td>\n",
       "      <td>&lt;number&gt;1&lt;/number&gt;</td>\n",
       "      <td>NaN</td>\n",
       "    </tr>\n",
       "    <tr>\n",
       "      <th>9</th>\n",
       "      <td>NaN</td>\n",
       "      <td>NaN</td>\n",
       "      <td>&lt;date&gt;1957&lt;/date&gt;</td>\n",
       "      <td>NaN</td>\n",
       "    </tr>\n",
       "    <tr>\n",
       "      <th>10</th>\n",
       "      <td>NaN</td>\n",
       "      <td>NaN</td>\n",
       "      <td>&lt;report&gt;&lt;![CDATA[The one at the Meads's house,...</td>\n",
       "      <td>NaN</td>\n",
       "    </tr>\n",
       "    <tr>\n",
       "      <th>11</th>\n",
       "      <td>NaN</td>\n",
       "      <td>&lt;/dream&gt;</td>\n",
       "      <td>NaN</td>\n",
       "      <td>NaN</td>\n",
       "    </tr>\n",
       "    <tr>\n",
       "      <th>12</th>\n",
       "      <td>NaN</td>\n",
       "      <td>&lt;dream&gt;</td>\n",
       "      <td>NaN</td>\n",
       "      <td>NaN</td>\n",
       "    </tr>\n",
       "    <tr>\n",
       "      <th>13</th>\n",
       "      <td>NaN</td>\n",
       "      <td>NaN</td>\n",
       "      <td>&lt;number&gt;10&lt;/number&gt;</td>\n",
       "      <td>NaN</td>\n",
       "    </tr>\n",
       "    <tr>\n",
       "      <th>14</th>\n",
       "      <td>NaN</td>\n",
       "      <td>NaN</td>\n",
       "      <td>&lt;date&gt;1985?&lt;/date&gt;</td>\n",
       "      <td>NaN</td>\n",
       "    </tr>\n",
       "  </tbody>\n",
       "</table>\n",
       "</div>"
      ],
      "text/plain": [
       "   individual_collection        id_name_type_sex_age_time_dream  \\\n",
       "0           <collection>                                    NaN   \n",
       "1                    NaN                          <id>alta</id>   \n",
       "2                    NaN  <name>Alta: a detailed dreamer</name>   \n",
       "3                    NaN                    <type>series</type>   \n",
       "4                    NaN                           <sex>F</sex>   \n",
       "5                    NaN                           <age>A</age>   \n",
       "6                    NaN                 <time>1985-1997</time>   \n",
       "7                    NaN                                <dream>   \n",
       "8                    NaN                                    NaN   \n",
       "9                    NaN                                    NaN   \n",
       "10                   NaN                                    NaN   \n",
       "11                   NaN                               </dream>   \n",
       "12                   NaN                                <dream>   \n",
       "13                   NaN                                    NaN   \n",
       "14                   NaN                                    NaN   \n",
       "\n",
       "                                   number_date_report codings  \n",
       "0                                                 NaN     NaN  \n",
       "1                                                 NaN     NaN  \n",
       "2                                                 NaN     NaN  \n",
       "3                                                 NaN     NaN  \n",
       "4                                                 NaN     NaN  \n",
       "5                                                 NaN     NaN  \n",
       "6                                                 NaN     NaN  \n",
       "7                                                 NaN     NaN  \n",
       "8                                  <number>1</number>     NaN  \n",
       "9                                   <date>1957</date>     NaN  \n",
       "10  <report><![CDATA[The one at the Meads's house,...     NaN  \n",
       "11                                                NaN     NaN  \n",
       "12                                                NaN     NaN  \n",
       "13                                <number>10</number>     NaN  \n",
       "14                                 <date>1985?</date>     NaN  "
      ]
     },
     "execution_count": 10,
     "metadata": {},
     "output_type": "execute_result"
    }
   ],
   "source": [
    "dreambank.head(15)"
   ]
  },
  {
   "cell_type": "code",
   "execution_count": 11,
   "metadata": {},
   "outputs": [
    {
     "data": {
      "text/plain": [
       "b              18131\n",
       "norms-f        12850\n",
       "norms-m        12156\n",
       "kenneth        10118\n",
       "emma            9161\n",
       "norman          6183\n",
       "b2              5698\n",
       "pegasus         5473\n",
       "dorothea        4507\n",
       "hall_female     3413\n",
       "Name: id, dtype: int64"
      ]
     },
     "execution_count": 11,
     "metadata": {},
     "output_type": "execute_result"
    }
   ],
   "source": [
    "# create 'id' column\n",
    "\n",
    "def recode_id(line): \n",
    "    if type(line) == float:\n",
    "        return np.nan\n",
    "    elif line.startswith(\"<id>\"):\n",
    "        return line[4:-5]\n",
    "    else:\n",
    "        return np.nan\n",
    "\n",
    "dreambank['id'] = dreambank['id_name_type_sex_age_time_dream'].apply(recode_id).fillna(method='ffill')\n",
    "\n",
    "# id's\n",
    "dreambank.id.value_counts().head(10)"
   ]
  },
  {
   "cell_type": "code",
   "execution_count": 12,
   "metadata": {},
   "outputs": [
    {
     "data": {
      "text/plain": [
       "Barb Sanders                    18131\n",
       "Hall/VdC Norms: Female          12850\n",
       "Hall/VdC Norms: Male            12156\n",
       "Kenneth                         10118\n",
       "Emma: 48 years of dreams         9161\n",
       "Norman: a child molester         6183\n",
       "Barb Sanders #2                  5698\n",
       "Pegasus: a factory worker        5473\n",
       "Dorothea: 53 years of dreams     4507\n",
       "College women, late 1940s        3413\n",
       "Name: name, dtype: int64"
      ]
     },
     "execution_count": 12,
     "metadata": {},
     "output_type": "execute_result"
    }
   ],
   "source": [
    "# create 'name' column\n",
    "\n",
    "def recode_name(line): \n",
    "    if type(line) == float:\n",
    "        return np.nan\n",
    "    elif line.startswith(\"<name>\"):\n",
    "        return line[6:-7]\n",
    "    else:\n",
    "        return np.nan\n",
    "\n",
    "dreambank['name'] = dreambank['id_name_type_sex_age_time_dream'].apply(recode_name).fillna(method='ffill')\n",
    "\n",
    "# names\n",
    "dreambank.name.value_counts().head(10)"
   ]
  },
  {
   "cell_type": "code",
   "execution_count": 13,
   "metadata": {},
   "outputs": [
    {
     "data": {
      "text/plain": [
       "series    85616\n",
       "set       39691\n",
       "Name: type, dtype: int64"
      ]
     },
     "execution_count": 13,
     "metadata": {},
     "output_type": "execute_result"
    }
   ],
   "source": [
    "# create 'type' column\n",
    "\n",
    "def recode_type(line): \n",
    "    if type(line) == float:\n",
    "        return np.nan\n",
    "    elif line.startswith(\"<type>\"):\n",
    "        return line[6:-7]\n",
    "    else:\n",
    "        return np.nan\n",
    "\n",
    "dreambank['type'] = dreambank['id_name_type_sex_age_time_dream'].apply(recode_type).fillna(method='ffill')\n",
    "\n",
    "# types\n",
    "dreambank.type.value_counts()"
   ]
  },
  {
   "cell_type": "code",
   "execution_count": 14,
   "metadata": {},
   "outputs": [
    {
     "name": "stdout",
     "output_type": "stream",
     "text": [
      "F    76518\n",
      "M    48788\n",
      "Name: sex, dtype: int64\n"
     ]
    },
    {
     "data": {
      "text/plain": [
       "F    32\n",
       "M    27\n",
       "Name: sex, dtype: int64"
      ]
     },
     "execution_count": 14,
     "metadata": {},
     "output_type": "execute_result"
    }
   ],
   "source": [
    "# create 'sex' column\n",
    "\n",
    "def recode_sex(line): \n",
    "    if type(line) == float:\n",
    "        return np.nan\n",
    "    elif line.startswith(\"<sex>\"):\n",
    "        return line[5:-6]\n",
    "    else:\n",
    "        return np.nan\n",
    "\n",
    "dreambank['sex'] = dreambank['id_name_type_sex_age_time_dream'].apply(recode_sex).fillna(method='ffill')\n",
    "\n",
    "# genders\n",
    "print(dreambank.sex.value_counts())\n",
    "\n",
    "dreambank.drop_duplicates('name').sex.value_counts()"
   ]
  },
  {
   "cell_type": "code",
   "execution_count": 15,
   "metadata": {},
   "outputs": [
    {
     "data": {
      "text/plain": [
       "Y     51958\n",
       "A     45159\n",
       "YA    18131\n",
       "T      7566\n",
       "C      1933\n",
       "TY      558\n",
       "Name: age, dtype: int64"
      ]
     },
     "execution_count": 15,
     "metadata": {},
     "output_type": "execute_result"
    }
   ],
   "source": [
    "# create 'age' column\n",
    "\n",
    "def recode_age(line): \n",
    "    if type(line) == float:\n",
    "        return np.nan\n",
    "    elif line.startswith(\"<age>\"):\n",
    "        return line[5:-6]\n",
    "    else:\n",
    "        return np.nan\n",
    "\n",
    "dreambank['age'] = dreambank['id_name_type_sex_age_time_dream'].apply(recode_age).fillna(method='ffill')\n",
    "\n",
    "# ages\n",
    "dreambank.age.value_counts()"
   ]
  },
  {
   "cell_type": "code",
   "execution_count": 16,
   "metadata": {},
   "outputs": [
    {
     "data": {
      "text/plain": [
       "1940s-1950s    25006\n",
       "1960-1997      18131\n",
       "1996-1998      10118\n",
       "1949-1997       9161\n",
       "1963-1967       6183\n",
       "Name: time, dtype: int64"
      ]
     },
     "execution_count": 16,
     "metadata": {},
     "output_type": "execute_result"
    }
   ],
   "source": [
    "# create 'time' column\n",
    "\n",
    "def recode_time(line): \n",
    "    if type(line) == float:\n",
    "        return np.nan\n",
    "    elif line.startswith(\"<time>\"):\n",
    "        return line[6:-7]\n",
    "    else:\n",
    "        return np.nan\n",
    "\n",
    "dreambank['time'] = dreambank['id_name_type_sex_age_time_dream'].apply(recode_time).fillna(method='ffill')\n",
    "\n",
    "# time\n",
    "dreambank.time.value_counts().head()"
   ]
  },
  {
   "cell_type": "code",
   "execution_count": 17,
   "metadata": {},
   "outputs": [
    {
     "data": {
      "text/plain": [
       "1940-1950     25006\n",
       "1960-1997     18131\n",
       "1996-1998     10118\n",
       "1949-1997      9161\n",
       "1963-1967      6183\n",
       "1997-2001      5698\n",
       "1949-1964      5473\n",
       "1912-1965      4507\n",
       "1946-1950      3413\n",
       "2003-2005      3217\n",
       "1970           3079\n",
       "mid-1990s      2463\n",
       "1963-1965      2241\n",
       "1985-1997      2118\n",
       "1996-1997      1956\n",
       "2001-2003      1748\n",
       "1980-2002      1746\n",
       "1962           1711\n",
       "1999-2000      1583\n",
       "1998           1544\n",
       "2003-2004      1478\n",
       "1939           1178\n",
       "1971           1108\n",
       "1992-1998      1068\n",
       "1996           1014\n",
       "2000-2001       938\n",
       "2004            908\n",
       "1990-1999       838\n",
       "1957-1959       538\n",
       "1968            508\n",
       "1997-2000       498\n",
       "1991-1993       486\n",
       "1998-2000       453\n",
       "2000            443\n",
       "1897-1918       438\n",
       "1940-1998       367\n",
       "1992-1999       323\n",
       "2007-2010       323\n",
       "1997            184\n",
       "1995            178\n",
       "mid-1980s       176\n",
       "2003-2006       173\n",
       "late 1990s      160\n",
       "1997-1999       123\n",
       "1990s           116\n",
       "1948-1949       103\n",
       "1964             88\n",
       "Name: time, dtype: int64"
      ]
     },
     "execution_count": 17,
     "metadata": {},
     "output_type": "execute_result"
    }
   ],
   "source": [
    "# replace '1940s-1950s' with '1940-1950'\n",
    "dreambank['time'] = dreambank['time'].replace('1940s-1950s', '1940-1950')\n",
    "\n",
    "# time\n",
    "dreambank.time.value_counts()"
   ]
  },
  {
   "cell_type": "code",
   "execution_count": 18,
   "metadata": {},
   "outputs": [
    {
     "data": {
      "text/html": [
       "<div>\n",
       "<style scoped>\n",
       "    .dataframe tbody tr th:only-of-type {\n",
       "        vertical-align: middle;\n",
       "    }\n",
       "\n",
       "    .dataframe tbody tr th {\n",
       "        vertical-align: top;\n",
       "    }\n",
       "\n",
       "    .dataframe thead th {\n",
       "        text-align: right;\n",
       "    }\n",
       "</style>\n",
       "<table border=\"1\" class=\"dataframe\">\n",
       "  <thead>\n",
       "    <tr style=\"text-align: right;\">\n",
       "      <th></th>\n",
       "      <th>individual_collection</th>\n",
       "      <th>id_name_type_sex_age_time_dream</th>\n",
       "      <th>number_date_report</th>\n",
       "      <th>codings</th>\n",
       "      <th>id</th>\n",
       "      <th>name</th>\n",
       "      <th>type</th>\n",
       "      <th>sex</th>\n",
       "      <th>age</th>\n",
       "      <th>time</th>\n",
       "    </tr>\n",
       "  </thead>\n",
       "  <tbody>\n",
       "    <tr>\n",
       "      <th>0</th>\n",
       "      <td>&lt;collection&gt;</td>\n",
       "      <td>NaN</td>\n",
       "      <td>NaN</td>\n",
       "      <td>NaN</td>\n",
       "      <td>NaN</td>\n",
       "      <td>NaN</td>\n",
       "      <td>NaN</td>\n",
       "      <td>NaN</td>\n",
       "      <td>NaN</td>\n",
       "      <td>NaN</td>\n",
       "    </tr>\n",
       "    <tr>\n",
       "      <th>1</th>\n",
       "      <td>NaN</td>\n",
       "      <td>&lt;id&gt;alta&lt;/id&gt;</td>\n",
       "      <td>NaN</td>\n",
       "      <td>NaN</td>\n",
       "      <td>alta</td>\n",
       "      <td>NaN</td>\n",
       "      <td>NaN</td>\n",
       "      <td>NaN</td>\n",
       "      <td>NaN</td>\n",
       "      <td>NaN</td>\n",
       "    </tr>\n",
       "    <tr>\n",
       "      <th>2</th>\n",
       "      <td>NaN</td>\n",
       "      <td>&lt;name&gt;Alta: a detailed dreamer&lt;/name&gt;</td>\n",
       "      <td>NaN</td>\n",
       "      <td>NaN</td>\n",
       "      <td>alta</td>\n",
       "      <td>Alta: a detailed dreamer</td>\n",
       "      <td>NaN</td>\n",
       "      <td>NaN</td>\n",
       "      <td>NaN</td>\n",
       "      <td>NaN</td>\n",
       "    </tr>\n",
       "    <tr>\n",
       "      <th>3</th>\n",
       "      <td>NaN</td>\n",
       "      <td>&lt;type&gt;series&lt;/type&gt;</td>\n",
       "      <td>NaN</td>\n",
       "      <td>NaN</td>\n",
       "      <td>alta</td>\n",
       "      <td>Alta: a detailed dreamer</td>\n",
       "      <td>series</td>\n",
       "      <td>NaN</td>\n",
       "      <td>NaN</td>\n",
       "      <td>NaN</td>\n",
       "    </tr>\n",
       "    <tr>\n",
       "      <th>4</th>\n",
       "      <td>NaN</td>\n",
       "      <td>&lt;sex&gt;F&lt;/sex&gt;</td>\n",
       "      <td>NaN</td>\n",
       "      <td>NaN</td>\n",
       "      <td>alta</td>\n",
       "      <td>Alta: a detailed dreamer</td>\n",
       "      <td>series</td>\n",
       "      <td>F</td>\n",
       "      <td>NaN</td>\n",
       "      <td>NaN</td>\n",
       "    </tr>\n",
       "    <tr>\n",
       "      <th>5</th>\n",
       "      <td>NaN</td>\n",
       "      <td>&lt;age&gt;A&lt;/age&gt;</td>\n",
       "      <td>NaN</td>\n",
       "      <td>NaN</td>\n",
       "      <td>alta</td>\n",
       "      <td>Alta: a detailed dreamer</td>\n",
       "      <td>series</td>\n",
       "      <td>F</td>\n",
       "      <td>A</td>\n",
       "      <td>NaN</td>\n",
       "    </tr>\n",
       "    <tr>\n",
       "      <th>6</th>\n",
       "      <td>NaN</td>\n",
       "      <td>&lt;time&gt;1985-1997&lt;/time&gt;</td>\n",
       "      <td>NaN</td>\n",
       "      <td>NaN</td>\n",
       "      <td>alta</td>\n",
       "      <td>Alta: a detailed dreamer</td>\n",
       "      <td>series</td>\n",
       "      <td>F</td>\n",
       "      <td>A</td>\n",
       "      <td>1985-1997</td>\n",
       "    </tr>\n",
       "    <tr>\n",
       "      <th>7</th>\n",
       "      <td>NaN</td>\n",
       "      <td>&lt;dream&gt;</td>\n",
       "      <td>NaN</td>\n",
       "      <td>NaN</td>\n",
       "      <td>alta</td>\n",
       "      <td>Alta: a detailed dreamer</td>\n",
       "      <td>series</td>\n",
       "      <td>F</td>\n",
       "      <td>A</td>\n",
       "      <td>1985-1997</td>\n",
       "    </tr>\n",
       "    <tr>\n",
       "      <th>8</th>\n",
       "      <td>NaN</td>\n",
       "      <td>NaN</td>\n",
       "      <td>&lt;number&gt;1&lt;/number&gt;</td>\n",
       "      <td>NaN</td>\n",
       "      <td>alta</td>\n",
       "      <td>Alta: a detailed dreamer</td>\n",
       "      <td>series</td>\n",
       "      <td>F</td>\n",
       "      <td>A</td>\n",
       "      <td>1985-1997</td>\n",
       "    </tr>\n",
       "    <tr>\n",
       "      <th>9</th>\n",
       "      <td>NaN</td>\n",
       "      <td>NaN</td>\n",
       "      <td>&lt;date&gt;1957&lt;/date&gt;</td>\n",
       "      <td>NaN</td>\n",
       "      <td>alta</td>\n",
       "      <td>Alta: a detailed dreamer</td>\n",
       "      <td>series</td>\n",
       "      <td>F</td>\n",
       "      <td>A</td>\n",
       "      <td>1985-1997</td>\n",
       "    </tr>\n",
       "    <tr>\n",
       "      <th>10</th>\n",
       "      <td>NaN</td>\n",
       "      <td>NaN</td>\n",
       "      <td>&lt;report&gt;&lt;![CDATA[The one at the Meads's house,...</td>\n",
       "      <td>NaN</td>\n",
       "      <td>alta</td>\n",
       "      <td>Alta: a detailed dreamer</td>\n",
       "      <td>series</td>\n",
       "      <td>F</td>\n",
       "      <td>A</td>\n",
       "      <td>1985-1997</td>\n",
       "    </tr>\n",
       "    <tr>\n",
       "      <th>11</th>\n",
       "      <td>NaN</td>\n",
       "      <td>&lt;/dream&gt;</td>\n",
       "      <td>NaN</td>\n",
       "      <td>NaN</td>\n",
       "      <td>alta</td>\n",
       "      <td>Alta: a detailed dreamer</td>\n",
       "      <td>series</td>\n",
       "      <td>F</td>\n",
       "      <td>A</td>\n",
       "      <td>1985-1997</td>\n",
       "    </tr>\n",
       "    <tr>\n",
       "      <th>12</th>\n",
       "      <td>NaN</td>\n",
       "      <td>&lt;dream&gt;</td>\n",
       "      <td>NaN</td>\n",
       "      <td>NaN</td>\n",
       "      <td>alta</td>\n",
       "      <td>Alta: a detailed dreamer</td>\n",
       "      <td>series</td>\n",
       "      <td>F</td>\n",
       "      <td>A</td>\n",
       "      <td>1985-1997</td>\n",
       "    </tr>\n",
       "    <tr>\n",
       "      <th>13</th>\n",
       "      <td>NaN</td>\n",
       "      <td>NaN</td>\n",
       "      <td>&lt;number&gt;10&lt;/number&gt;</td>\n",
       "      <td>NaN</td>\n",
       "      <td>alta</td>\n",
       "      <td>Alta: a detailed dreamer</td>\n",
       "      <td>series</td>\n",
       "      <td>F</td>\n",
       "      <td>A</td>\n",
       "      <td>1985-1997</td>\n",
       "    </tr>\n",
       "    <tr>\n",
       "      <th>14</th>\n",
       "      <td>NaN</td>\n",
       "      <td>NaN</td>\n",
       "      <td>&lt;date&gt;1985?&lt;/date&gt;</td>\n",
       "      <td>NaN</td>\n",
       "      <td>alta</td>\n",
       "      <td>Alta: a detailed dreamer</td>\n",
       "      <td>series</td>\n",
       "      <td>F</td>\n",
       "      <td>A</td>\n",
       "      <td>1985-1997</td>\n",
       "    </tr>\n",
       "  </tbody>\n",
       "</table>\n",
       "</div>"
      ],
      "text/plain": [
       "   individual_collection        id_name_type_sex_age_time_dream  \\\n",
       "0           <collection>                                    NaN   \n",
       "1                    NaN                          <id>alta</id>   \n",
       "2                    NaN  <name>Alta: a detailed dreamer</name>   \n",
       "3                    NaN                    <type>series</type>   \n",
       "4                    NaN                           <sex>F</sex>   \n",
       "5                    NaN                           <age>A</age>   \n",
       "6                    NaN                 <time>1985-1997</time>   \n",
       "7                    NaN                                <dream>   \n",
       "8                    NaN                                    NaN   \n",
       "9                    NaN                                    NaN   \n",
       "10                   NaN                                    NaN   \n",
       "11                   NaN                               </dream>   \n",
       "12                   NaN                                <dream>   \n",
       "13                   NaN                                    NaN   \n",
       "14                   NaN                                    NaN   \n",
       "\n",
       "                                   number_date_report codings    id  \\\n",
       "0                                                 NaN     NaN   NaN   \n",
       "1                                                 NaN     NaN  alta   \n",
       "2                                                 NaN     NaN  alta   \n",
       "3                                                 NaN     NaN  alta   \n",
       "4                                                 NaN     NaN  alta   \n",
       "5                                                 NaN     NaN  alta   \n",
       "6                                                 NaN     NaN  alta   \n",
       "7                                                 NaN     NaN  alta   \n",
       "8                                  <number>1</number>     NaN  alta   \n",
       "9                                   <date>1957</date>     NaN  alta   \n",
       "10  <report><![CDATA[The one at the Meads's house,...     NaN  alta   \n",
       "11                                                NaN     NaN  alta   \n",
       "12                                                NaN     NaN  alta   \n",
       "13                                <number>10</number>     NaN  alta   \n",
       "14                                 <date>1985?</date>     NaN  alta   \n",
       "\n",
       "                        name    type  sex  age       time  \n",
       "0                        NaN     NaN  NaN  NaN        NaN  \n",
       "1                        NaN     NaN  NaN  NaN        NaN  \n",
       "2   Alta: a detailed dreamer     NaN  NaN  NaN        NaN  \n",
       "3   Alta: a detailed dreamer  series  NaN  NaN        NaN  \n",
       "4   Alta: a detailed dreamer  series    F  NaN        NaN  \n",
       "5   Alta: a detailed dreamer  series    F    A        NaN  \n",
       "6   Alta: a detailed dreamer  series    F    A  1985-1997  \n",
       "7   Alta: a detailed dreamer  series    F    A  1985-1997  \n",
       "8   Alta: a detailed dreamer  series    F    A  1985-1997  \n",
       "9   Alta: a detailed dreamer  series    F    A  1985-1997  \n",
       "10  Alta: a detailed dreamer  series    F    A  1985-1997  \n",
       "11  Alta: a detailed dreamer  series    F    A  1985-1997  \n",
       "12  Alta: a detailed dreamer  series    F    A  1985-1997  \n",
       "13  Alta: a detailed dreamer  series    F    A  1985-1997  \n",
       "14  Alta: a detailed dreamer  series    F    A  1985-1997  "
      ]
     },
     "execution_count": 18,
     "metadata": {},
     "output_type": "execute_result"
    }
   ],
   "source": [
    "dreambank.head(15)"
   ]
  },
  {
   "cell_type": "code",
   "execution_count": 19,
   "metadata": {},
   "outputs": [],
   "source": [
    "# create 'dream_number' & 'dream_date' columns\n",
    "\n",
    "# number\n",
    "def recode_number(line): \n",
    "    if type(line) == float:\n",
    "        return np.nan\n",
    "    elif line.startswith(\"<number>\"):\n",
    "        return line[8:-9]\n",
    "    else:\n",
    "        return np.nan\n",
    "    \n",
    "# date\n",
    "def recode_date(line): \n",
    "    if type(line) == float:\n",
    "        return np.nan\n",
    "    elif line.startswith(\"<date>\"):\n",
    "        return line[6:-7]\n",
    "    else:\n",
    "        return np.nan  \n",
    "\n",
    "dreambank['dream_number'] = dreambank['number_date_report'].apply(recode_number).fillna(method='ffill')\n",
    "dreambank['dream_date'] = dreambank['number_date_report'].apply(recode_date).fillna(method='ffill')"
   ]
  },
  {
   "cell_type": "code",
   "execution_count": 20,
   "metadata": {},
   "outputs": [
    {
     "data": {
      "text/plain": [
       "M07-5    4\n",
       "M36-6    4\n",
       "M13-4    4\n",
       "F35-1    4\n",
       "F40-6    4\n",
       "M41-6    4\n",
       "F46-5    4\n",
       "M24-1    4\n",
       "F25-5    4\n",
       "F23-6    3\n",
       "Name: dream_number, dtype: int64"
      ]
     },
     "execution_count": 20,
     "metadata": {},
     "output_type": "execute_result"
    }
   ],
   "source": [
    "# dream_number\n",
    "dreambank.dream_number.value_counts().head(20)\n",
    "dreambank.dream_number.value_counts().tail(10)"
   ]
  },
  {
   "cell_type": "code",
   "execution_count": 21,
   "metadata": {},
   "outputs": [
    {
     "data": {
      "text/plain": [
       "06/19/66       25029\n",
       "02/06/64        3107\n",
       "10/18/97        3092\n",
       "F, age 16        330\n",
       "8/16/97          232\n",
       "5/9/97           220\n",
       "F, age 17        210\n",
       "10/06/65         207\n",
       "[age 20-21]      193\n",
       "07/25/2000       189\n",
       "Name: dream_date, dtype: int64"
      ]
     },
     "execution_count": 21,
     "metadata": {},
     "output_type": "execute_result"
    }
   ],
   "source": [
    "# dream_date\n",
    "dreambank.dream_date.value_counts().head(10)"
   ]
  },
  {
   "cell_type": "markdown",
   "metadata": {},
   "source": [
    "**Dreams column**"
   ]
  },
  {
   "cell_type": "code",
   "execution_count": 22,
   "metadata": {},
   "outputs": [
    {
     "data": {
      "text/plain": [
       "\"<report><![CDATA[The one at the Meads's house, where it's bigger inside than out; there's a European village just inside, with a cobblestone street and a Pied-Piper sort of man with curly hair, he can do things like juggle - I go up the back stairs [there aren't any in the real house] and then down the other side [since there's a second set, immediately] then down a short empty hallway that turns a corner, where I find a tiny room...a young woman with shoulder-length blonde hair in a pageboy is there, cooking at a stove that almost fills the room...she's nice to me. Now outside, I'm waiting for my aunt to pick me up - she arrives in a little round convertible and we go for a drive, not very far - we cross a little bridge over a creek, then double back and she drops me off at the house again. Inside (?) I sit with a couple of people, playing with a string of blue balloons.]]></report>\""
      ]
     },
     "execution_count": 22,
     "metadata": {},
     "output_type": "execute_result"
    }
   ],
   "source": [
    "# dream example\n",
    "dreambank['number_date_report'][10]"
   ]
  },
  {
   "cell_type": "code",
   "execution_count": 23,
   "metadata": {},
   "outputs": [
    {
     "data": {
      "text/html": [
       "<div>\n",
       "<style scoped>\n",
       "    .dataframe tbody tr th:only-of-type {\n",
       "        vertical-align: middle;\n",
       "    }\n",
       "\n",
       "    .dataframe tbody tr th {\n",
       "        vertical-align: top;\n",
       "    }\n",
       "\n",
       "    .dataframe thead th {\n",
       "        text-align: right;\n",
       "    }\n",
       "</style>\n",
       "<table border=\"1\" class=\"dataframe\">\n",
       "  <thead>\n",
       "    <tr style=\"text-align: right;\">\n",
       "      <th></th>\n",
       "      <th>individual_collection</th>\n",
       "      <th>id_name_type_sex_age_time_dream</th>\n",
       "      <th>number_date_report</th>\n",
       "      <th>codings</th>\n",
       "      <th>id</th>\n",
       "      <th>name</th>\n",
       "      <th>type</th>\n",
       "      <th>sex</th>\n",
       "      <th>age</th>\n",
       "      <th>time</th>\n",
       "      <th>dream_number</th>\n",
       "      <th>dream_date</th>\n",
       "      <th>dream</th>\n",
       "    </tr>\n",
       "  </thead>\n",
       "  <tbody>\n",
       "    <tr>\n",
       "      <th>0</th>\n",
       "      <td>&lt;collection&gt;</td>\n",
       "      <td>NaN</td>\n",
       "      <td>NaN</td>\n",
       "      <td>NaN</td>\n",
       "      <td>NaN</td>\n",
       "      <td>NaN</td>\n",
       "      <td>NaN</td>\n",
       "      <td>NaN</td>\n",
       "      <td>NaN</td>\n",
       "      <td>NaN</td>\n",
       "      <td>NaN</td>\n",
       "      <td>NaN</td>\n",
       "      <td>NaN</td>\n",
       "    </tr>\n",
       "    <tr>\n",
       "      <th>1</th>\n",
       "      <td>NaN</td>\n",
       "      <td>&lt;id&gt;alta&lt;/id&gt;</td>\n",
       "      <td>NaN</td>\n",
       "      <td>NaN</td>\n",
       "      <td>alta</td>\n",
       "      <td>NaN</td>\n",
       "      <td>NaN</td>\n",
       "      <td>NaN</td>\n",
       "      <td>NaN</td>\n",
       "      <td>NaN</td>\n",
       "      <td>NaN</td>\n",
       "      <td>NaN</td>\n",
       "      <td>NaN</td>\n",
       "    </tr>\n",
       "    <tr>\n",
       "      <th>2</th>\n",
       "      <td>NaN</td>\n",
       "      <td>&lt;name&gt;Alta: a detailed dreamer&lt;/name&gt;</td>\n",
       "      <td>NaN</td>\n",
       "      <td>NaN</td>\n",
       "      <td>alta</td>\n",
       "      <td>Alta: a detailed dreamer</td>\n",
       "      <td>NaN</td>\n",
       "      <td>NaN</td>\n",
       "      <td>NaN</td>\n",
       "      <td>NaN</td>\n",
       "      <td>NaN</td>\n",
       "      <td>NaN</td>\n",
       "      <td>NaN</td>\n",
       "    </tr>\n",
       "    <tr>\n",
       "      <th>3</th>\n",
       "      <td>NaN</td>\n",
       "      <td>&lt;type&gt;series&lt;/type&gt;</td>\n",
       "      <td>NaN</td>\n",
       "      <td>NaN</td>\n",
       "      <td>alta</td>\n",
       "      <td>Alta: a detailed dreamer</td>\n",
       "      <td>series</td>\n",
       "      <td>NaN</td>\n",
       "      <td>NaN</td>\n",
       "      <td>NaN</td>\n",
       "      <td>NaN</td>\n",
       "      <td>NaN</td>\n",
       "      <td>NaN</td>\n",
       "    </tr>\n",
       "    <tr>\n",
       "      <th>4</th>\n",
       "      <td>NaN</td>\n",
       "      <td>&lt;sex&gt;F&lt;/sex&gt;</td>\n",
       "      <td>NaN</td>\n",
       "      <td>NaN</td>\n",
       "      <td>alta</td>\n",
       "      <td>Alta: a detailed dreamer</td>\n",
       "      <td>series</td>\n",
       "      <td>F</td>\n",
       "      <td>NaN</td>\n",
       "      <td>NaN</td>\n",
       "      <td>NaN</td>\n",
       "      <td>NaN</td>\n",
       "      <td>NaN</td>\n",
       "    </tr>\n",
       "  </tbody>\n",
       "</table>\n",
       "</div>"
      ],
      "text/plain": [
       "  individual_collection        id_name_type_sex_age_time_dream  \\\n",
       "0          <collection>                                    NaN   \n",
       "1                   NaN                          <id>alta</id>   \n",
       "2                   NaN  <name>Alta: a detailed dreamer</name>   \n",
       "3                   NaN                    <type>series</type>   \n",
       "4                   NaN                           <sex>F</sex>   \n",
       "\n",
       "  number_date_report codings    id                      name    type  sex  \\\n",
       "0                NaN     NaN   NaN                       NaN     NaN  NaN   \n",
       "1                NaN     NaN  alta                       NaN     NaN  NaN   \n",
       "2                NaN     NaN  alta  Alta: a detailed dreamer     NaN  NaN   \n",
       "3                NaN     NaN  alta  Alta: a detailed dreamer  series  NaN   \n",
       "4                NaN     NaN  alta  Alta: a detailed dreamer  series    F   \n",
       "\n",
       "   age time dream_number dream_date dream  \n",
       "0  NaN  NaN          NaN        NaN   NaN  \n",
       "1  NaN  NaN          NaN        NaN   NaN  \n",
       "2  NaN  NaN          NaN        NaN   NaN  \n",
       "3  NaN  NaN          NaN        NaN   NaN  \n",
       "4  NaN  NaN          NaN        NaN   NaN  "
      ]
     },
     "execution_count": 23,
     "metadata": {},
     "output_type": "execute_result"
    }
   ],
   "source": [
    "# create 'dream' column\n",
    "\n",
    "def recode_dream(line): \n",
    "    if type(line) == float:\n",
    "        return np.nan\n",
    "    elif line.startswith(\"<report>\"):\n",
    "        return line[17:-12]\n",
    "    else:\n",
    "        return np.nan\n",
    "\n",
    "dreambank['dream'] = dreambank['number_date_report'].apply(recode_dream)\n",
    "\n",
    "dreambank.head()"
   ]
  },
  {
   "cell_type": "code",
   "execution_count": 24,
   "metadata": {},
   "outputs": [
    {
     "data": {
      "text/plain": [
       "<mod>I+</mod>                                                        754\n",
       "<obj>AR</obj>                                                        648\n",
       "<char>1MKA</char>                                                    574\n",
       "<act><code>M</code><init>D</init></act>                              537\n",
       "<obj>TR</obj>                                                        492\n",
       "<char>1FKA</char>                                                    486\n",
       "<act><code>P</code><init>D</init></act>                              476\n",
       "<act><code>S</code><init>D</init></act>                              462\n",
       "<obj>HH</obj>                                                        459\n",
       "<obj>NA</obj>                                                        424\n",
       "<obj>CL</obj>                                                        416\n",
       "<emot><code>AP</code><char>D</char></emot>                           414\n",
       "<mod>S+</mod>                                                        388\n",
       "<obj>AD</obj>                                                        338\n",
       "<set>IF</set>                                                        277\n",
       "<obj>ST</obj>                                                        277\n",
       "<obj>RG</obj>                                                        262\n",
       "<mf><code>1</code><char>D</char></mf>                                259\n",
       "<obj>AV</obj>                                                        249\n",
       "<char>1MSA</char>                                                    239\n",
       "<obj>BH</obj>                                                        239\n",
       "<set>OQ</set>                                                        239\n",
       "<mod>C+</mod>                                                        236\n",
       "<set>IQ</set>                                                        223\n",
       "<mod>S-</mod>                                                        217\n",
       "<obj>CM</obj>                                                        205\n",
       "<emot><code>HA</code><char>D</char></emot>                           188\n",
       "<obj>BE</obj>                                                        179\n",
       "<char>1MOA</char>                                                    175\n",
       "<emot><code>CO</code><char>D</char></emot>                           175\n",
       "                                                                    ... \n",
       "<act><code>V=</code><init>D</init><rec>1FOA</rec></act>                1\n",
       "<act><code>Vr</code><init>1FKA</init><rec>1MOA</rec></act>             1\n",
       "<emot><code>AP</code><char>1MSB</char></emot>                          1\n",
       "<sex><code>1&gt;</code><init>1MSA</init><rec>Q</rec></sex>             1\n",
       "<fri><code>3&gt;</code><init>1MEA</init><rec>D</rec></fri>             1\n",
       "<act><code>VR</code><init>D</init><rec>1FEC</rec></act>                1\n",
       "<agg><code>6&gt;</code><init>Q</init><rec>1MHA</rec></agg>             1\n",
       "<agg><code>6&gt;</code><init>1MEA</init><rec>D + 1MUA</rec></agg>      1\n",
       "<act><code>V&gt;</code><init>D</init><rec>1ISB</rec></act>             1\n",
       "<agg><code>3&gt;</code><init>1FMA</init><rec>2JKT</rec></agg>          1\n",
       "<succ><char>1MSA</char></succ>                                         1\n",
       "<fri><code>2&gt;</code><init>D</init><rec>1FEC</rec></fri>             1\n",
       "<agg><code>3&gt;</code><init>2MKT</init><rec>D</rec></agg>             1\n",
       "<mf><code>5</code><char>1MUB</char></mf>                               1\n",
       "<fri><code>2&gt;</code><init>1IOA</init><rec>D</rec></fri>             1\n",
       "<act><code>P</code><init>2ISA</init></act>                             1\n",
       "<fri><code>2&gt;</code><init>1MOA</init><rec>2JUA</rec></fri>          1\n",
       "<agg><code>7&gt;</code><init>2MEA</init><rec>2MKA</rec></agg>          1\n",
       "<fail><char>D+2FKT+2MKT</char></fail>                                  1\n",
       "<agg><code>1&gt;</code><init>D</init><rec>2MKA+1MKA</rec></agg>        1\n",
       "<fri><code>4&gt;</code><init>1MHA</init><rec>1FSA</rec></fri>          1\n",
       "<agg><code>2&gt;</code><init>2FSA</init><rec>D</rec></agg>             1\n",
       "<act><code>L</code><init>D + 1MFA+ 1MBT</init></act>                   1\n",
       "<fri><code>3&gt;</code><init>1IUT</init><rec>D</rec></fri>             1\n",
       "<fri><code>2&gt;</code><init>1MKA</init><rec>1IUA</rec></fri>          1\n",
       "<act><code>Vr</code><init>1FMA</init><rec>D</rec></act>                1\n",
       "<fri><code>7&gt;</code><init>2JYA</init><rec>D + 1MKA</rec></fri>      1\n",
       "<fri><code>6&gt;</code><init>1MFA</init><rec>D</rec></fri>             1\n",
       "<mf><code>3</code><char>D + 1MKA</char></mf>                           1\n",
       "<emot><code>CO</code><char>1FSA</char></emot>                          1\n",
       "Name: codings, Length: 3472, dtype: int64"
      ]
     },
     "execution_count": 24,
     "metadata": {},
     "output_type": "execute_result"
    }
   ],
   "source": [
    "# codings\n",
    "dreambank.codings.value_counts()"
   ]
  },
  {
   "cell_type": "markdown",
   "metadata": {},
   "source": [
    "## 2) Text parsing & Exploratory Data Analysis\n",
    "<a id=\"parsing_eda\"></a>"
   ]
  },
  {
   "cell_type": "code",
   "execution_count": 25,
   "metadata": {},
   "outputs": [
    {
     "data": {
      "text/html": [
       "<div>\n",
       "<style scoped>\n",
       "    .dataframe tbody tr th:only-of-type {\n",
       "        vertical-align: middle;\n",
       "    }\n",
       "\n",
       "    .dataframe tbody tr th {\n",
       "        vertical-align: top;\n",
       "    }\n",
       "\n",
       "    .dataframe thead th {\n",
       "        text-align: right;\n",
       "    }\n",
       "</style>\n",
       "<table border=\"1\" class=\"dataframe\">\n",
       "  <thead>\n",
       "    <tr style=\"text-align: right;\">\n",
       "      <th></th>\n",
       "      <th>id</th>\n",
       "      <th>name</th>\n",
       "      <th>type</th>\n",
       "      <th>sex</th>\n",
       "      <th>age</th>\n",
       "      <th>time</th>\n",
       "      <th>dream_number</th>\n",
       "      <th>dream_date</th>\n",
       "      <th>dream</th>\n",
       "    </tr>\n",
       "  </thead>\n",
       "  <tbody>\n",
       "    <tr>\n",
       "      <th>0</th>\n",
       "      <td>alta</td>\n",
       "      <td>Alta: a detailed dreamer</td>\n",
       "      <td>series</td>\n",
       "      <td>F</td>\n",
       "      <td>A</td>\n",
       "      <td>1985-1997</td>\n",
       "      <td>1</td>\n",
       "      <td>1957</td>\n",
       "      <td>The one at the Meads's house, where it's bigge...</td>\n",
       "    </tr>\n",
       "    <tr>\n",
       "      <th>1</th>\n",
       "      <td>alta</td>\n",
       "      <td>Alta: a detailed dreamer</td>\n",
       "      <td>series</td>\n",
       "      <td>F</td>\n",
       "      <td>A</td>\n",
       "      <td>1985-1997</td>\n",
       "      <td>10</td>\n",
       "      <td>1985?</td>\n",
       "      <td>I am in some public place, reminds me of the g...</td>\n",
       "    </tr>\n",
       "    <tr>\n",
       "      <th>2</th>\n",
       "      <td>alta</td>\n",
       "      <td>Alta: a detailed dreamer</td>\n",
       "      <td>series</td>\n",
       "      <td>F</td>\n",
       "      <td>A</td>\n",
       "      <td>1985-1997</td>\n",
       "      <td>100</td>\n",
       "      <td>5/30/86</td>\n",
       "      <td>I'm driving a car somewhere, because it's sout...</td>\n",
       "    </tr>\n",
       "    <tr>\n",
       "      <th>3</th>\n",
       "      <td>alta</td>\n",
       "      <td>Alta: a detailed dreamer</td>\n",
       "      <td>series</td>\n",
       "      <td>F</td>\n",
       "      <td>A</td>\n",
       "      <td>1985-1997</td>\n",
       "      <td>101</td>\n",
       "      <td>5/31/86</td>\n",
       "      <td>I'm around a bunch of people working together,...</td>\n",
       "    </tr>\n",
       "    <tr>\n",
       "      <th>4</th>\n",
       "      <td>alta</td>\n",
       "      <td>Alta: a detailed dreamer</td>\n",
       "      <td>series</td>\n",
       "      <td>F</td>\n",
       "      <td>A</td>\n",
       "      <td>1985-1997</td>\n",
       "      <td>102</td>\n",
       "      <td>5/31/86</td>\n",
       "      <td>I'm in a house - I don't think it's mine - the...</td>\n",
       "    </tr>\n",
       "    <tr>\n",
       "      <th>5</th>\n",
       "      <td>alta</td>\n",
       "      <td>Alta: a detailed dreamer</td>\n",
       "      <td>series</td>\n",
       "      <td>F</td>\n",
       "      <td>A</td>\n",
       "      <td>1985-1997</td>\n",
       "      <td>103</td>\n",
       "      <td>6/7/86</td>\n",
       "      <td>I'm out someplace pretty far from home and I w...</td>\n",
       "    </tr>\n",
       "    <tr>\n",
       "      <th>6</th>\n",
       "      <td>alta</td>\n",
       "      <td>Alta: a detailed dreamer</td>\n",
       "      <td>series</td>\n",
       "      <td>F</td>\n",
       "      <td>A</td>\n",
       "      <td>1985-1997</td>\n",
       "      <td>104</td>\n",
       "      <td>6/7/86</td>\n",
       "      <td>I'm on a bus with a couple of guys - one's the...</td>\n",
       "    </tr>\n",
       "    <tr>\n",
       "      <th>7</th>\n",
       "      <td>alta</td>\n",
       "      <td>Alta: a detailed dreamer</td>\n",
       "      <td>series</td>\n",
       "      <td>F</td>\n",
       "      <td>A</td>\n",
       "      <td>1985-1997</td>\n",
       "      <td>105</td>\n",
       "      <td>6/9/86</td>\n",
       "      <td>I live in a little house a bit like Grandmom's...</td>\n",
       "    </tr>\n",
       "    <tr>\n",
       "      <th>8</th>\n",
       "      <td>alta</td>\n",
       "      <td>Alta: a detailed dreamer</td>\n",
       "      <td>series</td>\n",
       "      <td>F</td>\n",
       "      <td>A</td>\n",
       "      <td>1985-1997</td>\n",
       "      <td>106</td>\n",
       "      <td>6/11/86</td>\n",
       "      <td>I'm on a bus, going to the dentist, across an ...</td>\n",
       "    </tr>\n",
       "    <tr>\n",
       "      <th>9</th>\n",
       "      <td>alta</td>\n",
       "      <td>Alta: a detailed dreamer</td>\n",
       "      <td>series</td>\n",
       "      <td>F</td>\n",
       "      <td>A</td>\n",
       "      <td>1985-1997</td>\n",
       "      <td>107</td>\n",
       "      <td>6/15/86</td>\n",
       "      <td>I've just gotten home from school - I live in ...</td>\n",
       "    </tr>\n",
       "    <tr>\n",
       "      <th>10</th>\n",
       "      <td>alta</td>\n",
       "      <td>Alta: a detailed dreamer</td>\n",
       "      <td>series</td>\n",
       "      <td>F</td>\n",
       "      <td>A</td>\n",
       "      <td>1985-1997</td>\n",
       "      <td>108</td>\n",
       "      <td>6/23/86</td>\n",
       "      <td>I'm looking for a boy - I'm my own age, probab...</td>\n",
       "    </tr>\n",
       "    <tr>\n",
       "      <th>11</th>\n",
       "      <td>alta</td>\n",
       "      <td>Alta: a detailed dreamer</td>\n",
       "      <td>series</td>\n",
       "      <td>F</td>\n",
       "      <td>A</td>\n",
       "      <td>1985-1997</td>\n",
       "      <td>109</td>\n",
       "      <td>6/25/86</td>\n",
       "      <td>I'm driving a car, going into town on a road,t...</td>\n",
       "    </tr>\n",
       "    <tr>\n",
       "      <th>12</th>\n",
       "      <td>alta</td>\n",
       "      <td>Alta: a detailed dreamer</td>\n",
       "      <td>series</td>\n",
       "      <td>F</td>\n",
       "      <td>A</td>\n",
       "      <td>1985-1997</td>\n",
       "      <td>11</td>\n",
       "      <td>1985?</td>\n",
       "      <td>At a school - I don't think I actually go to i...</td>\n",
       "    </tr>\n",
       "    <tr>\n",
       "      <th>13</th>\n",
       "      <td>alta</td>\n",
       "      <td>Alta: a detailed dreamer</td>\n",
       "      <td>series</td>\n",
       "      <td>F</td>\n",
       "      <td>A</td>\n",
       "      <td>1985-1997</td>\n",
       "      <td>110</td>\n",
       "      <td>6/27/86</td>\n",
       "      <td>I'm lying in a large upholstered chair; Tom is...</td>\n",
       "    </tr>\n",
       "    <tr>\n",
       "      <th>14</th>\n",
       "      <td>alta</td>\n",
       "      <td>Alta: a detailed dreamer</td>\n",
       "      <td>series</td>\n",
       "      <td>F</td>\n",
       "      <td>A</td>\n",
       "      <td>1985-1997</td>\n",
       "      <td>111</td>\n",
       "      <td>6/30/86</td>\n",
       "      <td>As part of a trip to England, I'm visiting Pet...</td>\n",
       "    </tr>\n",
       "  </tbody>\n",
       "</table>\n",
       "</div>"
      ],
      "text/plain": [
       "      id                      name    type sex age       time dream_number  \\\n",
       "0   alta  Alta: a detailed dreamer  series   F   A  1985-1997            1   \n",
       "1   alta  Alta: a detailed dreamer  series   F   A  1985-1997           10   \n",
       "2   alta  Alta: a detailed dreamer  series   F   A  1985-1997          100   \n",
       "3   alta  Alta: a detailed dreamer  series   F   A  1985-1997          101   \n",
       "4   alta  Alta: a detailed dreamer  series   F   A  1985-1997          102   \n",
       "5   alta  Alta: a detailed dreamer  series   F   A  1985-1997          103   \n",
       "6   alta  Alta: a detailed dreamer  series   F   A  1985-1997          104   \n",
       "7   alta  Alta: a detailed dreamer  series   F   A  1985-1997          105   \n",
       "8   alta  Alta: a detailed dreamer  series   F   A  1985-1997          106   \n",
       "9   alta  Alta: a detailed dreamer  series   F   A  1985-1997          107   \n",
       "10  alta  Alta: a detailed dreamer  series   F   A  1985-1997          108   \n",
       "11  alta  Alta: a detailed dreamer  series   F   A  1985-1997          109   \n",
       "12  alta  Alta: a detailed dreamer  series   F   A  1985-1997           11   \n",
       "13  alta  Alta: a detailed dreamer  series   F   A  1985-1997          110   \n",
       "14  alta  Alta: a detailed dreamer  series   F   A  1985-1997          111   \n",
       "\n",
       "   dream_date                                              dream  \n",
       "0        1957  The one at the Meads's house, where it's bigge...  \n",
       "1       1985?  I am in some public place, reminds me of the g...  \n",
       "2     5/30/86  I'm driving a car somewhere, because it's sout...  \n",
       "3     5/31/86  I'm around a bunch of people working together,...  \n",
       "4     5/31/86  I'm in a house - I don't think it's mine - the...  \n",
       "5      6/7/86  I'm out someplace pretty far from home and I w...  \n",
       "6      6/7/86  I'm on a bus with a couple of guys - one's the...  \n",
       "7      6/9/86  I live in a little house a bit like Grandmom's...  \n",
       "8     6/11/86  I'm on a bus, going to the dentist, across an ...  \n",
       "9     6/15/86  I've just gotten home from school - I live in ...  \n",
       "10    6/23/86  I'm looking for a boy - I'm my own age, probab...  \n",
       "11    6/25/86  I'm driving a car, going into town on a road,t...  \n",
       "12      1985?  At a school - I don't think I actually go to i...  \n",
       "13    6/27/86  I'm lying in a large upholstered chair; Tom is...  \n",
       "14    6/30/86  As part of a trip to England, I'm visiting Pet...  "
      ]
     },
     "execution_count": 25,
     "metadata": {},
     "output_type": "execute_result"
    }
   ],
   "source": [
    "# Select data with dreams df\n",
    "dreams_df = dreambank[dreambank['dream'].notnull()][['id', 'name', 'type', 'sex', 'age', 'time',\n",
    "                                                 'dream_number', 'dream_date', 'dream']].reset_index(drop=True)\n",
    "\n",
    "# ver depois a coluna dos codings (não incluí) --> classificação dos sentimentos feito por eles, dreambank\n",
    "\n",
    "# new df\n",
    "dreams_df.head(15)"
   ]
  },
  {
   "cell_type": "code",
   "execution_count": 26,
   "metadata": {},
   "outputs": [
    {
     "name": "stdout",
     "output_type": "stream",
     "text": [
      "<class 'pandas.core.frame.DataFrame'>\n",
      "RangeIndex: 19431 entries, 0 to 19430\n",
      "Data columns (total 9 columns):\n",
      "id              19431 non-null object\n",
      "name            19431 non-null object\n",
      "type            19431 non-null object\n",
      "sex             19431 non-null object\n",
      "age             19431 non-null object\n",
      "time            19431 non-null object\n",
      "dream_number    19431 non-null object\n",
      "dream_date      19431 non-null object\n",
      "dream           19431 non-null object\n",
      "dtypes: object(9)\n",
      "memory usage: 1.3+ MB\n"
     ]
    }
   ],
   "source": [
    "# dtype\n",
    "dreams_df.info()"
   ]
  },
  {
   "cell_type": "markdown",
   "metadata": {},
   "source": [
    "### 2.1) All & Top dreamers\n",
    "<a id=\"top_all_dreamers\"></a>"
   ]
  },
  {
   "cell_type": "markdown",
   "metadata": {},
   "source": [
    "#### Gender distribution"
   ]
  },
  {
   "cell_type": "code",
   "execution_count": 27,
   "metadata": {},
   "outputs": [
    {
     "name": "stdout",
     "output_type": "stream",
     "text": [
      "F    11748\n",
      "M     7683\n",
      "Name: sex, dtype: int64\n"
     ]
    },
    {
     "data": {
      "image/png": "[encoded data removed]",
      "text/plain": [
       "<Figure size 432x288 with 1 Axes>"
      ]
     },
     "metadata": {},
     "output_type": "display_data"
    }
   ],
   "source": [
    "# Gender distribution of dreams\n",
    "print(dreams_df['sex'].value_counts())\n",
    "\n",
    "gender_dist = dreams_df['sex'].value_counts()\n",
    "\n",
    "labels = [\"Female\", \"Male\"]\n",
    "sizes = [gender_dist['F']/gender_dist.sum(), gender_dist['M']/gender_dist.sum()]\n",
    "fig1, ax1 = plt.subplots()\n",
    "ax1.pie(sizes, labels=labels, autopct='%1.1f%%', startangle=90)  # \n",
    "plt.title(\"Gender distribution\", fontsize=16)\n",
    "plt.ylabel(\"\")\n",
    "plt.subplots_adjust(left=0, bottom=-0.1, right=2, top=1, wspace=0, hspace=0)\n",
    "plt.show()"
   ]
  },
  {
   "cell_type": "markdown",
   "metadata": {},
   "source": [
    "#### Age distribution"
   ]
  },
  {
   "cell_type": "code",
   "execution_count": 28,
   "metadata": {},
   "outputs": [
    {
     "name": "stdout",
     "output_type": "stream",
     "text": [
      "A     8229\n",
      "Y     6515\n",
      "YA    3116\n",
      "T     1080\n",
      "C      381\n",
      "TY     110\n",
      "Name: age, dtype: int64\n"
     ]
    },
    {
     "data": {
      "image/png": "[encoded data removed]",
      "text/plain": [
       "<Figure size 432x288 with 2 Axes>"
      ]
     },
     "metadata": {
      "needs_background": "light"
     },
     "output_type": "display_data"
    }
   ],
   "source": [
    "# Age distribution of dreams\n",
    "print(dreams_df['age'].value_counts())\n",
    "\n",
    "# bar plot\n",
    "plt.subplot(1, 2, 1)\n",
    "sns.countplot('age', data=dreams_df)\n",
    "plt.title('Age')\n",
    "\n",
    "plt.subplot(1, 2, 2)\n",
    "sns.countplot('age', data=dreams_df, hue='sex')\n",
    "plt.title('Age by gender')\n",
    "\n",
    "plt.subplots_adjust(left=0, bottom=0, right=2, top=1, wspace=0.2, hspace=0)\n",
    "plt.show()"
   ]
  },
  {
   "cell_type": "code",
   "execution_count": 29,
   "metadata": {},
   "outputs": [
    {
     "data": {
      "image/png": "[encoded data removed]",
      "text/plain": [
       "<Figure size 432x288 with 1 Axes>"
      ]
     },
     "metadata": {
      "needs_background": "light"
     },
     "output_type": "display_data"
    }
   ],
   "source": [
    "# top dreamers\n",
    "\n",
    "# number of dreamers\n",
    "n = 15\n",
    "\n",
    "top_dreamers = dreams_df['id'].value_counts(ascending=True).tail(n)#.plot(kind='barh')\n",
    "\n",
    "dreams_df_index = dreams_df['id'].value_counts().index\n",
    "pos = np.arange(len(top_dreamers))\n",
    "pos_2 = round(top_dreamers/len(dreams_df['dream'])*100, 1)\n",
    "\n",
    "# add the percentages to the side of each bar\n",
    "for p, cidx, td in zip(pos, dreams_df_index, pos_2):\n",
    "    plt.annotate(td, xy=(td+3100, p), va='center')\n",
    "\n",
    "# plot\n",
    "top_dreamers.plot(kind='barh')\n",
    "\n",
    "t = round(np.sum(top_dreamers/len(dreams_df['dream'])*100))   \n",
    "plt.title(\"Top {} dreamers: {}% of the dreams\".format(n, t))\n",
    "plt.xlabel(\"Number of dreams\")\n",
    "plt.ylabel(\"Dreamer 'id'\")\n",
    "plt.subplots_adjust(left=0, bottom=-0.2, right=1.3, top=1, wspace=0, hspace=0)\n",
    "plt.show()"
   ]
  },
  {
   "cell_type": "code",
   "execution_count": 30,
   "metadata": {},
   "outputs": [
    {
     "data": {
      "text/html": [
       "<div>\n",
       "<style scoped>\n",
       "    .dataframe tbody tr th:only-of-type {\n",
       "        vertical-align: middle;\n",
       "    }\n",
       "\n",
       "    .dataframe tbody tr th {\n",
       "        vertical-align: top;\n",
       "    }\n",
       "\n",
       "    .dataframe thead th {\n",
       "        text-align: right;\n",
       "    }\n",
       "</style>\n",
       "<table border=\"1\" class=\"dataframe\">\n",
       "  <thead>\n",
       "    <tr style=\"text-align: right;\">\n",
       "      <th></th>\n",
       "      <th>id</th>\n",
       "      <th>name</th>\n",
       "      <th>type</th>\n",
       "      <th>sex</th>\n",
       "      <th>age</th>\n",
       "      <th>time</th>\n",
       "      <th>dream_number</th>\n",
       "      <th>dream_date</th>\n",
       "      <th>dream</th>\n",
       "    </tr>\n",
       "  </thead>\n",
       "  <tbody>\n",
       "    <tr>\n",
       "      <th>0</th>\n",
       "      <td>alta</td>\n",
       "      <td>Alta: a detailed dreamer</td>\n",
       "      <td>series</td>\n",
       "      <td>F</td>\n",
       "      <td>A</td>\n",
       "      <td>1985-1997</td>\n",
       "      <td>1</td>\n",
       "      <td>1957</td>\n",
       "      <td>The one at the Meads's house, where it's bigge...</td>\n",
       "    </tr>\n",
       "    <tr>\n",
       "      <th>1</th>\n",
       "      <td>alta</td>\n",
       "      <td>Alta: a detailed dreamer</td>\n",
       "      <td>series</td>\n",
       "      <td>F</td>\n",
       "      <td>A</td>\n",
       "      <td>1985-1997</td>\n",
       "      <td>10</td>\n",
       "      <td>1985?</td>\n",
       "      <td>I am in some public place, reminds me of the g...</td>\n",
       "    </tr>\n",
       "    <tr>\n",
       "      <th>2</th>\n",
       "      <td>alta</td>\n",
       "      <td>Alta: a detailed dreamer</td>\n",
       "      <td>series</td>\n",
       "      <td>F</td>\n",
       "      <td>A</td>\n",
       "      <td>1985-1997</td>\n",
       "      <td>100</td>\n",
       "      <td>5/30/86</td>\n",
       "      <td>I'm driving a car somewhere, because it's sout...</td>\n",
       "    </tr>\n",
       "    <tr>\n",
       "      <th>3</th>\n",
       "      <td>alta</td>\n",
       "      <td>Alta: a detailed dreamer</td>\n",
       "      <td>series</td>\n",
       "      <td>F</td>\n",
       "      <td>A</td>\n",
       "      <td>1985-1997</td>\n",
       "      <td>101</td>\n",
       "      <td>5/31/86</td>\n",
       "      <td>I'm around a bunch of people working together,...</td>\n",
       "    </tr>\n",
       "    <tr>\n",
       "      <th>4</th>\n",
       "      <td>alta</td>\n",
       "      <td>Alta: a detailed dreamer</td>\n",
       "      <td>series</td>\n",
       "      <td>F</td>\n",
       "      <td>A</td>\n",
       "      <td>1985-1997</td>\n",
       "      <td>102</td>\n",
       "      <td>5/31/86</td>\n",
       "      <td>I'm in a house - I don't think it's mine - the...</td>\n",
       "    </tr>\n",
       "  </tbody>\n",
       "</table>\n",
       "</div>"
      ],
      "text/plain": [
       "     id                      name    type sex age       time dream_number  \\\n",
       "0  alta  Alta: a detailed dreamer  series   F   A  1985-1997            1   \n",
       "1  alta  Alta: a detailed dreamer  series   F   A  1985-1997           10   \n",
       "2  alta  Alta: a detailed dreamer  series   F   A  1985-1997          100   \n",
       "3  alta  Alta: a detailed dreamer  series   F   A  1985-1997          101   \n",
       "4  alta  Alta: a detailed dreamer  series   F   A  1985-1997          102   \n",
       "\n",
       "  dream_date                                              dream  \n",
       "0       1957  The one at the Meads's house, where it's bigge...  \n",
       "1      1985?  I am in some public place, reminds me of the g...  \n",
       "2    5/30/86  I'm driving a car somewhere, because it's sout...  \n",
       "3    5/31/86  I'm around a bunch of people working together,...  \n",
       "4    5/31/86  I'm in a house - I don't think it's mine - the...  "
      ]
     },
     "execution_count": 30,
     "metadata": {},
     "output_type": "execute_result"
    }
   ],
   "source": [
    "dreams_df.head()"
   ]
  },
  {
   "cell_type": "code",
   "execution_count": 31,
   "metadata": {},
   "outputs": [
    {
     "data": {
      "text/plain": [
       "I was working in a printing plant.                                                                                                                                                                                                                                                                                                                                                                                                                                                                                                                                                                                                                                                                                                                                                                                                                                                                                                                                                                                                                                                                                                                                                                                                                                                                                                                                                                                                                                                                                                   2\n",
       "I was back in the city. I looked for a place to park and the signs were all 1 hr. parking and I wanted to park all day. I was on a big boat. It was loaded with coal. We were going up the river and I somehow was forcing the boat to go fast. All at once the coal ignited and we had to jump off the boat. I was fixing something in the house. Delatt and I were in a house fixing some repair job. The man came home from work and he knew Delatt. His wife said, \"We are Booth,\" and I said, \"I am Evans.\" My brother (deceased) Joe was alive, living with us. He had bad teeth and I told him to get them fixed up. When I went to sleep, I seemed to see a big girl coming towards me. I was looking at the time and it was 2:10.                                                                                                                                                                                                                                                                                                                                                                                                                                                                                                                                                                                                                                                                                                                                                                                           1\n",
       "The cops came down to the Abrams' house. It was about the dogs behind the house. There was a conspiracy. The tree house was the hideout. I took secret documents and I was sleeping overnight up there. I took documents up to the 7th story wrapped up in cardboard to the tree house and left them for the other co-leader. I had to get down from the tree house to see about my mother. She had fixed supper and was staring at it. She was screaming out, \"Take me to Bull Street.\" Everybody knew Bull Street was the state hospital for crazies. Then she stopped screaming and was dead quiet. Staring. That made me REALLY SCARED. My mother's condition was interfering with my tree house conspirator duties. I had responsibilities there. I had ???. The suave rich guy had a motorcycle and I was unsure of the stuff ???. Losing control with ??? and asked me did I want a ride on his motorcycle up to the top of the mountain to look at the leaves and the lake. I said no but then I was lying on a rock getting warm when he walked down swanky. \"KA 1 OK\" and the window uncontrolled evidence in the lake. The leaves were beautiful. Very much worth missing my shift of watch at the tree house. We rode the motorcycle up and down the mountain. The motorcycle and the stories were inconsistent. His tweed pants and wool sport coat were thrown on the mountain floor. I was running a time trial on an indoor track. A girl cut out in front of me and tripped me. I was mad. Because I was slower.    1\n",
       "Name: dream, dtype: int64"
      ]
     },
     "execution_count": 31,
     "metadata": {},
     "output_type": "execute_result"
    }
   ],
   "source": [
    "# repeated dreams\n",
    "\n",
    "# dreams_df.dream_date.value_counts()\n",
    "# dreams_df.time.value_counts()\n",
    "dreams_df.dream.value_counts().head(3)   # só 1 sonho repetido"
   ]
  },
  {
   "cell_type": "code",
   "execution_count": 32,
   "metadata": {},
   "outputs": [],
   "source": [
    "# number of dreams in each year\n",
    "\n",
    "range_years_4 = range(1933, 2020)\n",
    "range_years_2 = ['%02d' % t for t in np.arange(0, 100)]\n",
    "\n",
    "# 1933 - 2019\n",
    "four_digits = pd.Series([np.sum(dreams_df.dream_date.str.contains(str(i))) for i in range_years_4], index=range_years_4)\n",
    "\n",
    "# /00 - /99\n",
    "two_digits = pd.Series([np.sum(dreams_df.dream_date.str.endswith('/{}'.format(i))) for i in range_years_2], \n",
    "                       index=range_years_2)\n"
   ]
  },
  {
   "cell_type": "code",
   "execution_count": 33,
   "metadata": {},
   "outputs": [],
   "source": [
    "# 2000 - 2019\n",
    "a = two_digits[:20]\n",
    "b = four_digits[-20:]\n",
    "a.index = b.index\n",
    "c_1 = a.add(b, fill_value=0)\n",
    "\n",
    "# 1933 - 1999\n",
    "d = two_digits[33:]\n",
    "e = four_digits[:-20]\n",
    "d.index = e.index\n",
    "c_2 = d.add(e, fill_value=0)\n",
    "\n",
    "# join c_1 and c_2\n",
    "total_years = c_1.add(c_2, fill_value=0)"
   ]
  },
  {
   "cell_type": "code",
   "execution_count": 34,
   "metadata": {},
   "outputs": [
    {
     "data": {
      "image/png": "[encoded data removed]",
      "text/plain": [
       "<Figure size 432x288 with 1 Axes>"
      ]
     },
     "metadata": {
      "needs_background": "light"
     },
     "output_type": "display_data"
    }
   ],
   "source": [
    "# 1947 - 2005\n",
    "total_years[14:-14].plot(kind='bar')\n",
    "plt.title(\"#dreams per year [1947 - 2005]\")\n",
    "plt.xlabel(\"Year\")\n",
    "plt.xticks(rotation=60)\n",
    "plt.subplots_adjust(left=0, bottom=-0.2, right=2, top=1, wspace=0, hspace=0)\n",
    "plt.show()"
   ]
  },
  {
   "cell_type": "code",
   "execution_count": 35,
   "metadata": {},
   "outputs": [
    {
     "name": "stderr",
     "output_type": "stream",
     "text": [
      "C:\\Users\\Admin\\Anaconda3\\lib\\site-packages\\ipykernel_launcher.py:6: FutureWarning: Series.nonzero() is deprecated and will be removed in a future version.Use Series.to_numpy().nonzero() instead\n",
      "  \n",
      "C:\\Users\\Admin\\Anaconda3\\lib\\site-packages\\ipykernel_launcher.py:8: FutureWarning: Series.nonzero() is deprecated and will be removed in a future version.Use Series.to_numpy().nonzero() instead\n",
      "  \n"
     ]
    },
    {
     "data": {
      "image/png": "[encoded data removed]",
      "text/plain": [
       "<Figure size 432x288 with 1 Axes>"
      ]
     },
     "metadata": {
      "needs_background": "light"
     },
     "output_type": "display_data"
    }
   ],
   "source": [
    "# top number of records/dreams per year\n",
    "\n",
    "# number of records\n",
    "n = 10\n",
    "\n",
    "top_records = total_years.iloc[total_years.nonzero()].sort_values(ascending=True).tail(n)\n",
    "\n",
    "top_records_index = total_years.iloc[total_years.nonzero()].sort_values().index\n",
    "pos = np.arange(len(top_records))\n",
    "pos_2 = round(top_records/len(dreams_df['dream'])*100, 1)\n",
    "\n",
    "# add the percentages to the side of each bar\n",
    "for p, cidx, tr in zip(pos, top_records_index, pos_2):\n",
    "    plt.annotate(tr, xy=(tr+1925, p), va='center')\n",
    "\n",
    "# plot\n",
    "top_records.plot(kind='barh')\n",
    "\n",
    "t = round(np.sum(top_records/len(dreams_df['dream'])*100))   \n",
    "plt.title(\"Top {} years with more dreams: {}% of the dreams\".format(n, t))\n",
    "plt.xlabel(\"Number of dreams\")\n",
    "plt.ylabel(\"Year\")\n",
    "plt.subplots_adjust(left=0, bottom=-0.2, right=1.3, top=1, wspace=0, hspace=0)\n",
    "plt.show()"
   ]
  },
  {
   "cell_type": "code",
   "execution_count": 36,
   "metadata": {},
   "outputs": [],
   "source": [
    "# add dream_year column\n",
    "\n",
    "list_1 = range(1933, 2020)\n",
    "list_2 = ['%02d' % t for t in np.arange(0, 100)]\n",
    "\n",
    "def recode_dream_year(line): \n",
    "    if type(line) == float:\n",
    "        return np.nan\n",
    "    for i in list_1:\n",
    "        if str(i) in line:\n",
    "            return i\n",
    "    for j in list_2:\n",
    "        if line.endswith('/{}'.format(j)) | line.endswith('/{}?'.format(j)):\n",
    "            if j in list_2[0:20]:\n",
    "                return '20'+j\n",
    "            else:\n",
    "                return '19'+j\n",
    "    else:\n",
    "        return np.nan\n",
    "\n",
    "dreams_df['dream_year'] = dreams_df['dream_date'].apply(recode_dream_year)\n",
    "\n",
    "# rearrange the column\n",
    "cols = dreams_df.columns\n",
    "cols = cols[:-2].tolist() + ['dream_year', 'dream']\n",
    "dreams_df = dreams_df[cols]\n",
    "\n",
    "# convert to int\n",
    "dreams_df['dream_year'] = dreams_df['dream_year'].astype(int, errors='ignore')"
   ]
  },
  {
   "cell_type": "code",
   "execution_count": 37,
   "metadata": {},
   "outputs": [
    {
     "data": {
      "image/png": "[encoded data removed]",
      "text/plain": [
       "<Figure size 432x288 with 1 Axes>"
      ]
     },
     "metadata": {
      "needs_background": "light"
     },
     "output_type": "display_data"
    }
   ],
   "source": [
    "# plot the decades\n",
    "\n",
    "# plot\n",
    "dreams_df.groupby(dreams_df.dream_year.astype(float, errors='ignore') // 10 * 10).size().plot(kind='bar', grid=True)\n",
    "\n",
    "plt.title(\"# Dreams per decade\")\n",
    "plt.xlabel(\"Decade\")\n",
    "# plt.xticks(range(1920, 2020, 10))\n",
    "plt.subplots_adjust(left=0, bottom=-0.2, right=1.6, top=1, wspace=0, hspace=0)\n",
    "plt.show()"
   ]
  },
  {
   "cell_type": "code",
   "execution_count": 38,
   "metadata": {},
   "outputs": [
    {
     "data": {
      "text/plain": [
       "F    33\n",
       "M    27\n",
       "Name: sex, dtype: int64"
      ]
     },
     "execution_count": 38,
     "metadata": {},
     "output_type": "execute_result"
    }
   ],
   "source": [
    "# see the distribution by gender\n",
    "d_2 = pd.read_excel('dreambank.xlsx')\n",
    "d_2['sex'] = d_2['id_name_type_sex_age_time_dream'].apply(recode_sex)\n",
    "\n",
    "# distribution by gender\n",
    "d_2.sex.value_counts()"
   ]
  },
  {
   "cell_type": "code",
   "execution_count": 39,
   "metadata": {},
   "outputs": [
    {
     "data": {
      "text/html": [
       "<div>\n",
       "<style scoped>\n",
       "    .dataframe tbody tr th:only-of-type {\n",
       "        vertical-align: middle;\n",
       "    }\n",
       "\n",
       "    .dataframe tbody tr th {\n",
       "        vertical-align: top;\n",
       "    }\n",
       "\n",
       "    .dataframe thead th {\n",
       "        text-align: right;\n",
       "    }\n",
       "</style>\n",
       "<table border=\"1\" class=\"dataframe\">\n",
       "  <thead>\n",
       "    <tr style=\"text-align: right;\">\n",
       "      <th></th>\n",
       "      <th>id</th>\n",
       "      <th>name</th>\n",
       "      <th>type</th>\n",
       "      <th>sex</th>\n",
       "      <th>age</th>\n",
       "      <th>time</th>\n",
       "      <th>dream_number</th>\n",
       "      <th>dream_date</th>\n",
       "      <th>dream_year</th>\n",
       "      <th>dream</th>\n",
       "    </tr>\n",
       "  </thead>\n",
       "  <tbody>\n",
       "    <tr>\n",
       "      <th>0</th>\n",
       "      <td>alta</td>\n",
       "      <td>Alta: a detailed dreamer</td>\n",
       "      <td>series</td>\n",
       "      <td>F</td>\n",
       "      <td>A</td>\n",
       "      <td>1985-1997</td>\n",
       "      <td>1</td>\n",
       "      <td>1957</td>\n",
       "      <td>1957</td>\n",
       "      <td>The one at the Meads's house, where it's bigge...</td>\n",
       "    </tr>\n",
       "    <tr>\n",
       "      <th>1</th>\n",
       "      <td>alta</td>\n",
       "      <td>Alta: a detailed dreamer</td>\n",
       "      <td>series</td>\n",
       "      <td>F</td>\n",
       "      <td>A</td>\n",
       "      <td>1985-1997</td>\n",
       "      <td>10</td>\n",
       "      <td>1985?</td>\n",
       "      <td>1985</td>\n",
       "      <td>I am in some public place, reminds me of the g...</td>\n",
       "    </tr>\n",
       "    <tr>\n",
       "      <th>2</th>\n",
       "      <td>alta</td>\n",
       "      <td>Alta: a detailed dreamer</td>\n",
       "      <td>series</td>\n",
       "      <td>F</td>\n",
       "      <td>A</td>\n",
       "      <td>1985-1997</td>\n",
       "      <td>100</td>\n",
       "      <td>5/30/86</td>\n",
       "      <td>1986</td>\n",
       "      <td>I'm driving a car somewhere, because it's sout...</td>\n",
       "    </tr>\n",
       "    <tr>\n",
       "      <th>3</th>\n",
       "      <td>alta</td>\n",
       "      <td>Alta: a detailed dreamer</td>\n",
       "      <td>series</td>\n",
       "      <td>F</td>\n",
       "      <td>A</td>\n",
       "      <td>1985-1997</td>\n",
       "      <td>101</td>\n",
       "      <td>5/31/86</td>\n",
       "      <td>1986</td>\n",
       "      <td>I'm around a bunch of people working together,...</td>\n",
       "    </tr>\n",
       "    <tr>\n",
       "      <th>4</th>\n",
       "      <td>alta</td>\n",
       "      <td>Alta: a detailed dreamer</td>\n",
       "      <td>series</td>\n",
       "      <td>F</td>\n",
       "      <td>A</td>\n",
       "      <td>1985-1997</td>\n",
       "      <td>102</td>\n",
       "      <td>5/31/86</td>\n",
       "      <td>1986</td>\n",
       "      <td>I'm in a house - I don't think it's mine - the...</td>\n",
       "    </tr>\n",
       "    <tr>\n",
       "      <th>5</th>\n",
       "      <td>alta</td>\n",
       "      <td>Alta: a detailed dreamer</td>\n",
       "      <td>series</td>\n",
       "      <td>F</td>\n",
       "      <td>A</td>\n",
       "      <td>1985-1997</td>\n",
       "      <td>103</td>\n",
       "      <td>6/7/86</td>\n",
       "      <td>1986</td>\n",
       "      <td>I'm out someplace pretty far from home and I w...</td>\n",
       "    </tr>\n",
       "    <tr>\n",
       "      <th>6</th>\n",
       "      <td>alta</td>\n",
       "      <td>Alta: a detailed dreamer</td>\n",
       "      <td>series</td>\n",
       "      <td>F</td>\n",
       "      <td>A</td>\n",
       "      <td>1985-1997</td>\n",
       "      <td>104</td>\n",
       "      <td>6/7/86</td>\n",
       "      <td>1986</td>\n",
       "      <td>I'm on a bus with a couple of guys - one's the...</td>\n",
       "    </tr>\n",
       "    <tr>\n",
       "      <th>7</th>\n",
       "      <td>alta</td>\n",
       "      <td>Alta: a detailed dreamer</td>\n",
       "      <td>series</td>\n",
       "      <td>F</td>\n",
       "      <td>A</td>\n",
       "      <td>1985-1997</td>\n",
       "      <td>105</td>\n",
       "      <td>6/9/86</td>\n",
       "      <td>1986</td>\n",
       "      <td>I live in a little house a bit like Grandmom's...</td>\n",
       "    </tr>\n",
       "    <tr>\n",
       "      <th>8</th>\n",
       "      <td>alta</td>\n",
       "      <td>Alta: a detailed dreamer</td>\n",
       "      <td>series</td>\n",
       "      <td>F</td>\n",
       "      <td>A</td>\n",
       "      <td>1985-1997</td>\n",
       "      <td>106</td>\n",
       "      <td>6/11/86</td>\n",
       "      <td>1986</td>\n",
       "      <td>I'm on a bus, going to the dentist, across an ...</td>\n",
       "    </tr>\n",
       "    <tr>\n",
       "      <th>9</th>\n",
       "      <td>alta</td>\n",
       "      <td>Alta: a detailed dreamer</td>\n",
       "      <td>series</td>\n",
       "      <td>F</td>\n",
       "      <td>A</td>\n",
       "      <td>1985-1997</td>\n",
       "      <td>107</td>\n",
       "      <td>6/15/86</td>\n",
       "      <td>1986</td>\n",
       "      <td>I've just gotten home from school - I live in ...</td>\n",
       "    </tr>\n",
       "  </tbody>\n",
       "</table>\n",
       "</div>"
      ],
      "text/plain": [
       "     id                      name    type sex age       time dream_number  \\\n",
       "0  alta  Alta: a detailed dreamer  series   F   A  1985-1997            1   \n",
       "1  alta  Alta: a detailed dreamer  series   F   A  1985-1997           10   \n",
       "2  alta  Alta: a detailed dreamer  series   F   A  1985-1997          100   \n",
       "3  alta  Alta: a detailed dreamer  series   F   A  1985-1997          101   \n",
       "4  alta  Alta: a detailed dreamer  series   F   A  1985-1997          102   \n",
       "5  alta  Alta: a detailed dreamer  series   F   A  1985-1997          103   \n",
       "6  alta  Alta: a detailed dreamer  series   F   A  1985-1997          104   \n",
       "7  alta  Alta: a detailed dreamer  series   F   A  1985-1997          105   \n",
       "8  alta  Alta: a detailed dreamer  series   F   A  1985-1997          106   \n",
       "9  alta  Alta: a detailed dreamer  series   F   A  1985-1997          107   \n",
       "\n",
       "  dream_date dream_year                                              dream  \n",
       "0       1957       1957  The one at the Meads's house, where it's bigge...  \n",
       "1      1985?       1985  I am in some public place, reminds me of the g...  \n",
       "2    5/30/86       1986  I'm driving a car somewhere, because it's sout...  \n",
       "3    5/31/86       1986  I'm around a bunch of people working together,...  \n",
       "4    5/31/86       1986  I'm in a house - I don't think it's mine - the...  \n",
       "5     6/7/86       1986  I'm out someplace pretty far from home and I w...  \n",
       "6     6/7/86       1986  I'm on a bus with a couple of guys - one's the...  \n",
       "7     6/9/86       1986  I live in a little house a bit like Grandmom's...  \n",
       "8    6/11/86       1986  I'm on a bus, going to the dentist, across an ...  \n",
       "9    6/15/86       1986  I've just gotten home from school - I live in ...  "
      ]
     },
     "execution_count": 39,
     "metadata": {},
     "output_type": "execute_result"
    }
   ],
   "source": [
    "dreams_df.head(10)"
   ]
  },
  {
   "cell_type": "code",
   "execution_count": 40,
   "metadata": {},
   "outputs": [
    {
     "data": {
      "text/plain": [
       "array(['A', 'Y', 'YA', 'C', 'T', 'TY'], dtype=object)"
      ]
     },
     "execution_count": 40,
     "metadata": {},
     "output_type": "execute_result"
    }
   ],
   "source": [
    "dreams_df.age.unique()"
   ]
  },
  {
   "cell_type": "code",
   "execution_count": 41,
   "metadata": {},
   "outputs": [
    {
     "data": {
      "image/png": "[encoded data removed]",
      "text/plain": [
       "<Figure size 432x288 with 1 Axes>"
      ]
     },
     "metadata": {
      "needs_background": "light"
     },
     "output_type": "display_data"
    }
   ],
   "source": [
    "# Average number of words per dream - Top dreamers\n",
    "\n",
    "n = 15\n",
    "\n",
    "top_dreamers = dreams_df['id'].value_counts(ascending=False).head(n).index\n",
    "\n",
    "from nltk.tokenize import regexp_tokenize\n",
    "\n",
    "# function for the average number of words in a dream of a dreamer\n",
    "def avg_words_dream(id):\n",
    "    length_dream = []\n",
    "    for i in dreams_df[dreams_df['id'] == id].dream:\n",
    "        length_dream.append(len(regexp_tokenize(i, '\\w+')))\n",
    "    return round(np.mean(length_dream)).astype(np.int)\n",
    "\n",
    "#plot\n",
    "sns.barplot(top_dreamers, [avg_words_dream(i) for i in top_dreamers], color='teal')\n",
    "plt.title(\"Average number of WORDS per dream - Top {} dreamers\".format(n), fontsize=16)\n",
    "plt.xlabel(\"Dreamer id\", fontsize=14)\n",
    "plt.xticks(rotation=45)\n",
    "plt.subplots_adjust(left=0, bottom=-0.2, right=1.5, top=1, wspace=0, hspace=0)\n",
    "plt.show()"
   ]
  },
  {
   "cell_type": "code",
   "execution_count": 42,
   "metadata": {},
   "outputs": [
    {
     "data": {
      "image/png": "[encoded data removed]",
      "text/plain": [
       "<Figure size 432x288 with 1 Axes>"
      ]
     },
     "metadata": {
      "needs_background": "light"
     },
     "output_type": "display_data"
    }
   ],
   "source": [
    "# Average number of sentences per dream - Top dreamers\n",
    "\n",
    "n = 15\n",
    "\n",
    "top_dreamers = dreams_df['id'].value_counts(ascending=False).head(n).index\n",
    "\n",
    "from nltk.tokenize import sent_tokenize\n",
    "\n",
    "# function for the average number of words in a dream of a dreamer\n",
    "def avg_sentences_dream(id):\n",
    "    length_dream = []\n",
    "    for i in dreams_df[dreams_df['id'] == id].dream:\n",
    "        length_dream.append(len(sent_tokenize(i)))\n",
    "    return round(np.mean(length_dream)).astype(np.int)\n",
    "\n",
    "#plot\n",
    "sns.barplot(top_dreamers, [avg_sentences_dream(i) for i in top_dreamers], color='steelblue')\n",
    "plt.title(\"Average number of SENTENCES per dream - Top {} dreamers\".format(n), fontsize=16)\n",
    "plt.xlabel(\"Dreamer id\", fontsize=14)\n",
    "plt.xticks(rotation=45)\n",
    "plt.subplots_adjust(left=0, bottom=-0.2, right=1.5, top=1, wspace=0, hspace=0)\n",
    "plt.show()"
   ]
  },
  {
   "cell_type": "code",
   "execution_count": 43,
   "metadata": {},
   "outputs": [
    {
     "name": "stdout",
     "output_type": "stream",
     "text": [
      "Couldn't find program: 'false'\n"
     ]
    }
   ],
   "source": [
    "%%script false\n",
    "# Most used words\n",
    "from collections import Counter\n",
    "from nltk.tokenize import word_tokenize\n",
    "from nltk.corpus import stopwords\n",
    "\n",
    "# words in each dream\n",
    "j = [regexp_tokenize(i, '\\w+') for i in dreams_df.dream]\n",
    "\n",
    "# all the words in all the dreams \n",
    "all_words = [x for i in j for x in i]\n",
    "\n",
    "# convert to lower case and exclude stopwords\n",
    "all_words = [i.lower() for i in all_words]\n",
    "all_words = [i for i in all_words if i not in stopwords.words('english')]\n",
    "\n",
    "# Count the occurence of words in all dreams\n",
    "counter = Counter(all_words)\n",
    "\n",
    "n = 30\n",
    "\n",
    "# n most common words\n",
    "most_common = counter.most_common(n)\n",
    "print(\"{} most common words used:\\n {}\".format(n, most_common), \"\\n\")\n",
    "\n",
    "# 30 most common words used:\n",
    "#  [('one', 12687), ('like', 11640), ('go', 11546), ('br', 11353), ('see', 11242), ('get', 10913), ('back', 8875), \n",
    "# ('room', 7358), ('man', 7332), ('going', 7298), ('people', 6676), ('house', 6474), ('said', 6093), ('around', 5876), \n",
    "# ('something', 5835), ('say', 5421), ('know', 5360), ('went', 5342), ('dream', 5315), ('would', 5165), ('woman', 4858),\n",
    "# ('think', 4827), ('says', 4663), ('got', 4632), ('us', 4626), ('two', 4591), ('time', 4543), ('car', 4483), \n",
    "# ('look', 4378), ('could', 4050)]"
   ]
  },
  {
   "cell_type": "code",
   "execution_count": null,
   "metadata": {},
   "outputs": [],
   "source": []
  },
  {
   "cell_type": "code",
   "execution_count": null,
   "metadata": {},
   "outputs": [],
   "source": []
  },
  {
   "cell_type": "code",
   "execution_count": null,
   "metadata": {},
   "outputs": [],
   "source": []
  },
  {
   "cell_type": "markdown",
   "metadata": {},
   "source": [
    "#### Readability tests"
   ]
  },
  {
   "cell_type": "code",
   "execution_count": 44,
   "metadata": {},
   "outputs": [
    {
     "name": "stdout",
     "output_type": "stream",
     "text": [
      "I am in some public place, reminds me of the grocery store in another dream, or lots of airports - there is food involved, and for some reason or other people are eating in the restroom. (This isn't normal.) I'm sitting at the mirror-counter next to a man, and am very ill at ease about it. There's no actual reason for it, it's entirely the principle of the thing. \n",
      "\n",
      "score nltk: 87.48659246575342\n",
      "score Textatistic: 82.65668478260872\n",
      "\n",
      "Total words: nltk 73, Textatistic 69\n",
      "Total sentences: nltk 4, Textatistic 4\n",
      "Total syllables Textatistic: 87\n"
     ]
    }
   ],
   "source": [
    "from textatistic import Textatistic\n",
    "\n",
    "# manually compute the Flesch score\n",
    "dream_example = dreams_df['dream'][1]\n",
    "\n",
    "print(dream_example, \"\\n\")\n",
    "\n",
    "# using nltk\n",
    "print(\"score nltk:\", 206.835 - 1.015*(len(regexp_tokenize(dream_example, '\\w+'))/len(sent_tokenize(dream_example))) - \\\n",
    "84.6*(Textatistic(dream_example).dict()['sybl_count']/len(regexp_tokenize(dream_example, '\\w+'))))\n",
    "\n",
    "# using Textatistic\n",
    "print(\"score Textatistic:\", 206.835 - 1.015*(Textatistic(dream_example).dict()['word_count']/ \\\n",
    "                                             Textatistic(dream_example).dict()['sent_count']) - \\\n",
    "         84.6*(Textatistic(dream_example).dict()['sybl_count']/Textatistic(dream_example).dict()['word_count']))\n",
    "\n",
    "# differences\n",
    "print(\"\\nTotal words: nltk {}, Textatistic {}\".format(len(regexp_tokenize(dream_example, '\\w+')), \n",
    "                                                     Textatistic(dream_example).dict()['word_count']))\n",
    "\n",
    "print(\"Total sentences: nltk {}, Textatistic {}\".format(len(sent_tokenize(dream_example)), \n",
    "                                                          Textatistic(dream_example).dict()['sent_count']))\n",
    "\n",
    "print(\"Total syllables Textatistic: {}\".format(Textatistic(dream_example).dict()['sybl_count']))"
   ]
  },
  {
   "cell_type": "code",
   "execution_count": 45,
   "metadata": {},
   "outputs": [
    {
     "name": "stdout",
     "output_type": "stream",
     "text": [
      "Wall time: 14min 39s\n"
     ]
    }
   ],
   "source": [
    "%%time\n",
    "\n",
    "from textatistic import Textatistic\n",
    "\n",
    "# Readability types\n",
    "readabilities = ['flesch_score', 'gunningfog_score', 'dalechall_score']\n",
    "\n",
    "for i in readabilities:\n",
    "    # define readability score\n",
    "    def read_score(text, metric=i):\n",
    "        try:\n",
    "            score = Textatistic(text).scores[metric]\n",
    "        except:\n",
    "            score = np.nan\n",
    "        return score\n",
    "    # create column\n",
    "    dreams_df[i] = dreams_df['dream'].apply(read_score)\n"
   ]
  },
  {
   "cell_type": "code",
   "execution_count": 46,
   "metadata": {},
   "outputs": [
    {
     "data": {
      "text/html": [
       "<div>\n",
       "<style scoped>\n",
       "    .dataframe tbody tr th:only-of-type {\n",
       "        vertical-align: middle;\n",
       "    }\n",
       "\n",
       "    .dataframe tbody tr th {\n",
       "        vertical-align: top;\n",
       "    }\n",
       "\n",
       "    .dataframe thead th {\n",
       "        text-align: right;\n",
       "    }\n",
       "</style>\n",
       "<table border=\"1\" class=\"dataframe\">\n",
       "  <thead>\n",
       "    <tr style=\"text-align: right;\">\n",
       "      <th></th>\n",
       "      <th>id</th>\n",
       "      <th>name</th>\n",
       "      <th>type</th>\n",
       "      <th>sex</th>\n",
       "      <th>age</th>\n",
       "      <th>time</th>\n",
       "      <th>dream_number</th>\n",
       "      <th>dream_date</th>\n",
       "      <th>dream_year</th>\n",
       "      <th>dream</th>\n",
       "      <th>flesch_score</th>\n",
       "      <th>gunningfog_score</th>\n",
       "      <th>dalechall_score</th>\n",
       "    </tr>\n",
       "  </thead>\n",
       "  <tbody>\n",
       "    <tr>\n",
       "      <th>0</th>\n",
       "      <td>alta</td>\n",
       "      <td>Alta: a detailed dreamer</td>\n",
       "      <td>series</td>\n",
       "      <td>F</td>\n",
       "      <td>A</td>\n",
       "      <td>1985-1997</td>\n",
       "      <td>1</td>\n",
       "      <td>1957</td>\n",
       "      <td>1957</td>\n",
       "      <td>The one at the Meads's house, where it's bigge...</td>\n",
       "      <td>89.080227</td>\n",
       "      <td>7.327273</td>\n",
       "      <td>5.890355</td>\n",
       "    </tr>\n",
       "    <tr>\n",
       "      <th>1</th>\n",
       "      <td>alta</td>\n",
       "      <td>Alta: a detailed dreamer</td>\n",
       "      <td>series</td>\n",
       "      <td>F</td>\n",
       "      <td>A</td>\n",
       "      <td>1985-1997</td>\n",
       "      <td>10</td>\n",
       "      <td>1985?</td>\n",
       "      <td>1985</td>\n",
       "      <td>I am in some public place, reminds me of the g...</td>\n",
       "      <td>82.656685</td>\n",
       "      <td>7.479710</td>\n",
       "      <td>6.322825</td>\n",
       "    </tr>\n",
       "    <tr>\n",
       "      <th>2</th>\n",
       "      <td>alta</td>\n",
       "      <td>Alta: a detailed dreamer</td>\n",
       "      <td>series</td>\n",
       "      <td>F</td>\n",
       "      <td>A</td>\n",
       "      <td>1985-1997</td>\n",
       "      <td>100</td>\n",
       "      <td>5/30/86</td>\n",
       "      <td>1986</td>\n",
       "      <td>I'm driving a car somewhere, because it's sout...</td>\n",
       "      <td>81.282474</td>\n",
       "      <td>10.348070</td>\n",
       "      <td>6.637248</td>\n",
       "    </tr>\n",
       "    <tr>\n",
       "      <th>3</th>\n",
       "      <td>alta</td>\n",
       "      <td>Alta: a detailed dreamer</td>\n",
       "      <td>series</td>\n",
       "      <td>F</td>\n",
       "      <td>A</td>\n",
       "      <td>1985-1997</td>\n",
       "      <td>101</td>\n",
       "      <td>5/31/86</td>\n",
       "      <td>1986</td>\n",
       "      <td>I'm around a bunch of people working together,...</td>\n",
       "      <td>89.334178</td>\n",
       "      <td>8.268518</td>\n",
       "      <td>6.263077</td>\n",
       "    </tr>\n",
       "    <tr>\n",
       "      <th>4</th>\n",
       "      <td>alta</td>\n",
       "      <td>Alta: a detailed dreamer</td>\n",
       "      <td>series</td>\n",
       "      <td>F</td>\n",
       "      <td>A</td>\n",
       "      <td>1985-1997</td>\n",
       "      <td>102</td>\n",
       "      <td>5/31/86</td>\n",
       "      <td>1986</td>\n",
       "      <td>I'm in a house - I don't think it's mine - the...</td>\n",
       "      <td>76.649133</td>\n",
       "      <td>11.432653</td>\n",
       "      <td>7.268537</td>\n",
       "    </tr>\n",
       "  </tbody>\n",
       "</table>\n",
       "</div>"
      ],
      "text/plain": [
       "     id                      name    type sex age       time dream_number  \\\n",
       "0  alta  Alta: a detailed dreamer  series   F   A  1985-1997            1   \n",
       "1  alta  Alta: a detailed dreamer  series   F   A  1985-1997           10   \n",
       "2  alta  Alta: a detailed dreamer  series   F   A  1985-1997          100   \n",
       "3  alta  Alta: a detailed dreamer  series   F   A  1985-1997          101   \n",
       "4  alta  Alta: a detailed dreamer  series   F   A  1985-1997          102   \n",
       "\n",
       "  dream_date dream_year                                              dream  \\\n",
       "0       1957       1957  The one at the Meads's house, where it's bigge...   \n",
       "1      1985?       1985  I am in some public place, reminds me of the g...   \n",
       "2    5/30/86       1986  I'm driving a car somewhere, because it's sout...   \n",
       "3    5/31/86       1986  I'm around a bunch of people working together,...   \n",
       "4    5/31/86       1986  I'm in a house - I don't think it's mine - the...   \n",
       "\n",
       "   flesch_score  gunningfog_score  dalechall_score  \n",
       "0     89.080227          7.327273         5.890355  \n",
       "1     82.656685          7.479710         6.322825  \n",
       "2     81.282474         10.348070         6.637248  \n",
       "3     89.334178          8.268518         6.263077  \n",
       "4     76.649133         11.432653         7.268537  "
      ]
     },
     "execution_count": 46,
     "metadata": {},
     "output_type": "execute_result"
    }
   ],
   "source": [
    "dreams_df.head()"
   ]
  },
  {
   "cell_type": "code",
   "execution_count": 47,
   "metadata": {},
   "outputs": [
    {
     "data": {
      "image/png": "[encoded data removed]",
      "text/plain": [
       "<Figure size 432x288 with 3 Axes>"
      ]
     },
     "metadata": {
      "needs_background": "light"
     },
     "output_type": "display_data"
    },
    {
     "data": {
      "image/png": "[encoded data removed]",
      "text/plain": [
       "<Figure size 432x288 with 3 Axes>"
      ]
     },
     "metadata": {
      "needs_background": "light"
     },
     "output_type": "display_data"
    }
   ],
   "source": [
    "import inspect\n",
    "\n",
    "# All dreamers\n",
    "\n",
    "# Readability types\n",
    "readabilities = ['flesch_score', 'gunningfog_score', 'dalechall_score']\n",
    "\n",
    "# distribution plots\n",
    "for j, i in enumerate(readabilities):\n",
    "    # distribution plots\n",
    "    plt.subplot(1, 3, j + 1)\n",
    "    sns.distplot(dreams_df[dreams_df[i].notnull()][i])\n",
    "    plt.title(\"\"\"Distribution of readability scores | {} \\n Mean: {} \\n Std: {}\"\"\".format(i, \n",
    "                                                                                          round(np.mean(dreams_df[i]), 2),\n",
    "                                                                                          round(np.std(dreams_df[i]), 2)),\n",
    "              fontsize=14)\n",
    "    plt.xlim(0, np.max(dreams_df[i]))\n",
    "    \n",
    "plt.subplots_adjust(left=0, bottom=-0.2, right=3, top=1, wspace=0.2, hspace=0)\n",
    "plt.show()\n",
    "\n",
    "###############################################################################################\n",
    "\n",
    "# distribution plots - Male & Female \n",
    "for j, i in enumerate(readabilities):\n",
    "    # distribution plots\n",
    "    plt.subplot(1, 3, j + 1)\n",
    "    sns.distplot(dreams_df[(dreams_df[i].notnull()) & (dreams_df['sex'] == 'F')][i])\n",
    "    sns.distplot(dreams_df[(dreams_df[i].notnull()) & (dreams_df['sex'] == 'M')][i])\n",
    "    plt.title(\"\"\"Distribution of readability scores | {}\"\"\".format(i), fontsize=14)\n",
    "    plt.xlim(0, np.max(dreams_df[i]))\n",
    "    plt.legend(['Female', 'Male'])\n",
    "    \n",
    "plt.subplots_adjust(left=0, bottom=-0.2, right=3, top=1, wspace=0.2, hspace=0)\n",
    "plt.show()"
   ]
  },
  {
   "cell_type": "code",
   "execution_count": 48,
   "metadata": {},
   "outputs": [
    {
     "name": "stdout",
     "output_type": "stream",
     "text": [
      "The Flesch score does not have a theoretical lower bound; therefore, it is possible to make the score as low as \n",
      "wanted by arbitrarily including words with many syllables.\n"
     ]
    },
    {
     "data": {
      "text/html": [
       "<div>\n",
       "<style scoped>\n",
       "    .dataframe tbody tr th:only-of-type {\n",
       "        vertical-align: middle;\n",
       "    }\n",
       "\n",
       "    .dataframe tbody tr th {\n",
       "        vertical-align: top;\n",
       "    }\n",
       "\n",
       "    .dataframe thead th {\n",
       "        text-align: right;\n",
       "    }\n",
       "</style>\n",
       "<table border=\"1\" class=\"dataframe\">\n",
       "  <thead>\n",
       "    <tr style=\"text-align: right;\">\n",
       "      <th></th>\n",
       "      <th>id</th>\n",
       "      <th>name</th>\n",
       "      <th>type</th>\n",
       "      <th>sex</th>\n",
       "      <th>age</th>\n",
       "      <th>time</th>\n",
       "      <th>dream_number</th>\n",
       "      <th>dream_date</th>\n",
       "      <th>dream_year</th>\n",
       "      <th>dream</th>\n",
       "      <th>flesch_score</th>\n",
       "      <th>gunningfog_score</th>\n",
       "      <th>dalechall_score</th>\n",
       "    </tr>\n",
       "  </thead>\n",
       "  <tbody>\n",
       "    <tr>\n",
       "      <th>5695</th>\n",
       "      <td>blind-f</td>\n",
       "      <td>Blind dreamers (F)</td>\n",
       "      <td>set</td>\n",
       "      <td>F</td>\n",
       "      <td>A</td>\n",
       "      <td>mid-1990s</td>\n",
       "      <td>111-27</td>\n",
       "      <td>5/16/97</td>\n",
       "      <td>1997</td>\n",
       "      <td>I was on the telephone with a person named T w...</td>\n",
       "      <td>-32.600588</td>\n",
       "      <td>55.282353</td>\n",
       "      <td>11.543129</td>\n",
       "    </tr>\n",
       "    <tr>\n",
       "      <th>5851</th>\n",
       "      <td>blind-m</td>\n",
       "      <td>Blind dreamers (M)</td>\n",
       "      <td>set</td>\n",
       "      <td>M</td>\n",
       "      <td>A</td>\n",
       "      <td>mid-1990s</td>\n",
       "      <td>104-04</td>\n",
       "      <td>5/19/97</td>\n",
       "      <td>1997</td>\n",
       "      <td>I dreamed I was in a room, I think it was a li...</td>\n",
       "      <td>-51.143624</td>\n",
       "      <td>62.284564</td>\n",
       "      <td>12.934417</td>\n",
       "    </tr>\n",
       "  </tbody>\n",
       "</table>\n",
       "</div>"
      ],
      "text/plain": [
       "           id                name type sex age       time dream_number  \\\n",
       "5695  blind-f  Blind dreamers (F)  set   F   A  mid-1990s       111-27   \n",
       "5851  blind-m  Blind dreamers (M)  set   M   A  mid-1990s       104-04   \n",
       "\n",
       "     dream_date dream_year                                              dream  \\\n",
       "5695    5/16/97       1997  I was on the telephone with a person named T w...   \n",
       "5851    5/19/97       1997  I dreamed I was in a room, I think it was a li...   \n",
       "\n",
       "      flesch_score  gunningfog_score  dalechall_score  \n",
       "5695    -32.600588         55.282353        11.543129  \n",
       "5851    -51.143624         62.284564        12.934417  "
      ]
     },
     "execution_count": 48,
     "metadata": {},
     "output_type": "execute_result"
    }
   ],
   "source": [
    "print(\"\"\"The Flesch score does not have a theoretical lower bound; therefore, it is possible to make the score as low as \n",
    "wanted by arbitrarily including words with many syllables.\"\"\")\n",
    "dreams_df[dreams_df['flesch_score'] <= 0]"
   ]
  },
  {
   "cell_type": "code",
   "execution_count": 49,
   "metadata": {},
   "outputs": [
    {
     "name": "stdout",
     "output_type": "stream",
     "text": [
      "5695    -32.600588\n",
      "5851    -51.143624\n",
      "5888      6.913462\n",
      "17922     4.188387\n",
      "Name: flesch_score, dtype: float64 \n",
      "\n",
      "We were on a trip somewhere, had been down south and were on our way back and somehow we stopped at a rest area and I ended up talking to somebody on the phone for a long time that we had met earlier on our trip in another state I think, it might have been Ohio, I don't know what state we were in at this rest stop but I remember thinking that I had to get off the phone and use the bathroom and get a Coke so I told the person I had to go and would talk to him another time.\n",
      "\n",
      "--> Possível motivo para quase todos: sonhos sem pontuação, com uma frase só\n",
      "\n",
      "--> Not this metric, since the greater the average sentence length the harder it is to read, supposedly\n"
     ]
    }
   ],
   "source": [
    "# ?? supostamente complexas\n",
    "print(dreams_df[dreams_df['flesch_score'] <= 10].flesch_score, \"\\n\")\n",
    "\n",
    "print(dreams_df['dream'][5888])\n",
    "#################################\n",
    "print(\"\\n--> Possível motivo para quase todos: sonhos sem pontuação, com uma frase só\")\n",
    "print(\"\"\"\\n--> Not this metric, since the greater the average sentence length the harder it is to read, supposedly\"\"\")"
   ]
  },
  {
   "cell_type": "code",
   "execution_count": null,
   "metadata": {},
   "outputs": [],
   "source": []
  },
  {
   "cell_type": "code",
   "execution_count": null,
   "metadata": {},
   "outputs": [],
   "source": []
  },
  {
   "cell_type": "code",
   "execution_count": null,
   "metadata": {},
   "outputs": [],
   "source": []
  },
  {
   "cell_type": "code",
   "execution_count": null,
   "metadata": {},
   "outputs": [],
   "source": []
  },
  {
   "cell_type": "code",
   "execution_count": null,
   "metadata": {},
   "outputs": [],
   "source": []
  },
  {
   "cell_type": "code",
   "execution_count": null,
   "metadata": {},
   "outputs": [],
   "source": []
  },
  {
   "cell_type": "code",
   "execution_count": null,
   "metadata": {},
   "outputs": [],
   "source": []
  },
  {
   "cell_type": "markdown",
   "metadata": {},
   "source": [
    "**===================================================================================================================**"
   ]
  },
  {
   "cell_type": "markdown",
   "metadata": {},
   "source": [
    "### 2.2) Individual dreamer\n",
    "<a id=\"individual_dreamer\"></a>"
   ]
  },
  {
   "cell_type": "markdown",
   "metadata": {},
   "source": [
    "## <font color='darkgreen'>Individual best case: Barb Sanders</font>"
   ]
  },
  {
   "cell_type": "code",
   "execution_count": 50,
   "metadata": {},
   "outputs": [],
   "source": [
    "dreamer = 'Barb Sanders'\n",
    "dreamer2 = 'Barb Sanders #2'\n",
    "\n",
    "# Barb Sanders dataframe\n",
    "b_df = dreams_df[(dreams_df['name'] == dreamer) | (dreams_df['name'] == dreamer2)]"
   ]
  },
  {
   "cell_type": "markdown",
   "metadata": {},
   "source": [
    "#### Number of dreams per year"
   ]
  },
  {
   "cell_type": "code",
   "execution_count": 51,
   "metadata": {},
   "outputs": [
    {
     "data": {
      "image/png": "[encoded data removed]",
      "text/plain": [
       "<Figure size 432x288 with 1 Axes>"
      ]
     },
     "metadata": {
      "needs_background": "light"
     },
     "output_type": "display_data"
    }
   ],
   "source": [
    "# number of dreams per year (recorded)\n",
    "nr_dreams = b_df['dream_year'].value_counts().sort_index()\n",
    "\n",
    "# nr dreams per year\n",
    "x_0 = nr_dreams.index.astype(np.int)\n",
    "x = []\n",
    "y = np.arange(int(min(nr_dreams.index)), int(max(nr_dreams.index))+1)\n",
    "\n",
    "for i in y:\n",
    "    if i not in x_0:\n",
    "        x.append(0)\n",
    "    else:\n",
    "        x.append(nr_dreams.loc[str(i)])\n",
    "\n",
    "# annotate\n",
    "# plot\n",
    "sns.barplot(x=nr_dreams.index, y=nr_dreams, color='g')  \n",
    "plt.title(\"{} number of dreams per year\".format(dreamer), fontsize=16)\n",
    "plt.xlabel(\"Year\")\n",
    "plt.ylabel(\"Number of dreams\")\n",
    "plt.xticks(rotation=45)\n",
    "plt.subplots_adjust(left=0, bottom=-0.3, right=2, top=1, wspace=0, hspace=0)\n",
    "plt.show()"
   ]
  },
  {
   "cell_type": "markdown",
   "metadata": {},
   "source": [
    "#### Total number of dreams, Words & Sentences | descriptive statistics"
   ]
  },
  {
   "cell_type": "code",
   "execution_count": 52,
   "metadata": {},
   "outputs": [
    {
     "name": "stdout",
     "output_type": "stream",
     "text": [
      "Total number of dreams: 4254\n",
      "Average number of words in a dream: 188 (Textatistic)\n",
      "Average number of sentences in a dream: 18 (Textatistic)\n"
     ]
    }
   ],
   "source": [
    "# Total number of dreams\n",
    "print(\"Total number of dreams: {}\".format(len(b_df.dream.notnull())))\n",
    "\n",
    "###############################################################################################################\n",
    "\n",
    "import textatistic\n",
    "\n",
    "# Average number of words in a dream (textatistic)\n",
    "def avg_words(df):\n",
    "    length_dream = []\n",
    "    for i in df.dream:\n",
    "        length_dream.append(textatistic.word_count(i))\n",
    "    return round(np.mean(length_dream)).astype(np.int)\n",
    "\n",
    "print(\"Average number of words in a dream: {} (Textatistic)\".format(avg_words(b_df)))\n",
    "\n",
    "###############################################################################################################\n",
    "\n",
    "# Average number of sentences in a dream (textatistic)\n",
    "def avg_sents(df):\n",
    "    length_dream = []\n",
    "    for i in df.dream:\n",
    "        length_dream.append(textatistic.sent_count(i))\n",
    "    return round(np.mean(length_dream)).astype(np.int)\n",
    "\n",
    "print(\"Average number of sentences in a dream: {} (Textatistic)\".format(avg_sents(b_df)))\n",
    "\n",
    "###############################################################################################################"
   ]
  },
  {
   "cell_type": "code",
   "execution_count": 53,
   "metadata": {
    "scrolled": false
   },
   "outputs": [
    {
     "data": {
      "image/png": "[encoded data removed]",
      "text/plain": [
       "<Figure size 432x288 with 1 Axes>"
      ]
     },
     "metadata": {
      "needs_background": "light"
     },
     "output_type": "display_data"
    }
   ],
   "source": [
    "# number of words per dream\n",
    "w_per_dream = [textatistic.word_count(i) for i in b_df.dream]\n",
    "\n",
    "sns.distplot(w_per_dream, kde=False, color='g')\n",
    "plt.title(\"Distribution of words per dream: {}\".format(dreamer), fontsize=16)\n",
    "plt.xlabel(\"Number of words in a dream\")\n",
    "plt.ylabel(\"Frequency\")\n",
    "plt.subplots_adjust(left=0, bottom=-0.3, right=2, top=1, wspace=0, hspace=0)\n",
    "plt.show()"
   ]
  },
  {
   "cell_type": "markdown",
   "metadata": {},
   "source": [
    "#### Readability scores"
   ]
  },
  {
   "cell_type": "code",
   "execution_count": 54,
   "metadata": {},
   "outputs": [
    {
     "data": {
      "image/png": "[encoded data removed]",
      "text/plain": [
       "<Figure size 432x288 with 3 Axes>"
      ]
     },
     "metadata": {
      "needs_background": "light"
     },
     "output_type": "display_data"
    }
   ],
   "source": [
    "# Readability plot\n",
    "\n",
    "# Readability score types\n",
    "readabilities = ['flesch_score', 'gunningfog_score', 'dalechall_score']\n",
    "\n",
    "# distribution plot\n",
    "for j, i in enumerate(readabilities):\n",
    "    # distribution plots\n",
    "    plt.subplot(1, 3, j + 1)\n",
    "    sns.distplot(b_df[b_df[i].notnull()][i], color='g')\n",
    "    plt.title(\"\"\"Distribution of readability scores | {} \\n Mean: {} \\n Std: {}\"\"\".format(i, \n",
    "                                                                                          round(np.mean(b_df[i]), 2),\n",
    "                                                                                          round(np.std(b_df[i]), 2)),\n",
    "              fontsize=14)\n",
    "    plt.xlim(0, np.max(b_df[i]))\n",
    "    \n",
    "plt.subplots_adjust(left=0, bottom=-0.2, right=3, top=1, wspace=0.2, hspace=0)\n",
    "plt.show()"
   ]
  },
  {
   "cell_type": "markdown",
   "metadata": {},
   "source": [
    "## <font color='darkgreen'>**Topic identification**</font>"
   ]
  },
  {
   "cell_type": "markdown",
   "metadata": {},
   "source": [
    "#### nltk"
   ]
  },
  {
   "cell_type": "code",
   "execution_count": 55,
   "metadata": {},
   "outputs": [
    {
     "name": "stdout",
     "output_type": "stream",
     "text": [
      "25 most common words used by Barb Sanders (without nltk stopwords & using WordNetLemmatizer):\n",
      " \n",
      "[('say', 5954), ('see', 5381), ('go', 4968), ('get', 4198), ('like', 3895), ('man', 3142), ('one', 3128), ('woman', 2806), ('look', 2773), ('room', 2635), ('back', 2604), ('come', 2430), ('want', 2270), ('feel', 2120), ('around', 1711), ('walk', 1618), ('going', 1583), ('house', 1547), ('thing', 1442), ('find', 1419), ('people', 1353), ('try', 1337), ('take', 1334), ('think', 1311), ('door', 1258)] \n",
      "\n"
     ]
    },
    {
     "data": {
      "image/png": "[encoded data removed]",
      "text/plain": [
       "<Figure size 432x288 with 1 Axes>"
      ]
     },
     "metadata": {
      "needs_background": "light"
     },
     "output_type": "display_data"
    },
    {
     "name": "stdout",
     "output_type": "stream",
     "text": [
      "Wall time: 4min 12s\n"
     ]
    }
   ],
   "source": [
    "%%time\n",
    "\n",
    "# Most used words\n",
    "from collections import Counter\n",
    "from nltk.tokenize import word_tokenize, regexp_tokenize\n",
    "from nltk.corpus import stopwords\n",
    "\n",
    "# words in each dream\n",
    "j = [regexp_tokenize(i, '\\w+') for i in b_df.dream]\n",
    "\n",
    "# all the words in all the dreams \n",
    "all_words = [x for i in j for x in i]\n",
    "\n",
    "# convert to lower case and exclude stopwords\n",
    "all_words = [i.lower() for i in all_words]\n",
    "all_words = [i for i in all_words if i not in stopwords.words('english')]\n",
    "\n",
    "# lemmatize \n",
    "from nltk.stem import WordNetLemmatizer\n",
    "lemmatizer = WordNetLemmatizer()\n",
    "all_words = [lemmatizer.lemmatize(w) for w in all_words]\n",
    "\n",
    "# Count the occurence of words in all dreams\n",
    "counter = Counter(all_words)\n",
    "\n",
    "n = 25\n",
    "\n",
    "# n most common words\n",
    "most_common = counter.most_common(n)\n",
    "print(\"{} most common words used by {} (without nltk stopwords & using WordNetLemmatizer):\\n \\n{}\".format(\n",
    "      n, dreamer, most_common), \"\\n\")\n",
    "\n",
    "# from nltk.stem import WordNetLemmatizer --> tira o plural das palavras\n",
    "\n",
    "# plot\n",
    "[plt.bar(i, j, color='orange') for (i, j) in most_common]\n",
    "\n",
    "plt.title(\"Most common words in dreams, excluding stopwords | {}\".format(dreamer), fontsize=16)\n",
    "plt.subplots_adjust(left=0, bottom=-0.1, right=2.3, top=1, wspace=0, hspace=0)\n",
    "plt.show()"
   ]
  },
  {
   "cell_type": "markdown",
   "metadata": {},
   "source": [
    "#### spaCy POS tagging"
   ]
  },
  {
   "cell_type": "code",
   "execution_count": 56,
   "metadata": {},
   "outputs": [
    {
     "name": "stdout",
     "output_type": "stream",
     "text": [
      "Wall time: 3min 37s\n"
     ]
    }
   ],
   "source": [
    "%%time\n",
    "import spacy\n",
    "\n",
    "# Load the en_core_web_sm model\n",
    "nlp = spacy.load('en_core_web_sm')\n",
    "\n",
    "# list of (future lists of) tokens and pos tags\n",
    "tokens_pos = []\n",
    "for i in b_df.dream:\n",
    "    # Create the Doc object\n",
    "    doc = nlp(i)\n",
    "    # Generate list of tokens and pos tags\n",
    "    pos = [(token.text, token.pos_) for token in doc]\n",
    "    # append to list of all the tokens and tags in dreams\n",
    "    tokens_pos.append(pos)\n",
    "    \n",
    "# primeiro criei uma lista que reúne a lista com tuples (palavra, POS tag) de cada sonho (token_pos) --> pode ser preciso\n",
    "# mais tarde. (+3 minutos)\n",
    "# agora crio um dicionário com todas as palavras associadas a cada POS tag, de todos os sonhos (543 milisegundos)\n",
    "    \n",
    "# POS tags\n",
    "dict_POS = {}\n",
    "\n",
    "# for each dream pos aggregate tuples\n",
    "for i in tokens_pos:\n",
    "    # for each tuple\n",
    "    for tuple_pos in i:\n",
    "        # add the word to the POS (example: 'Bill' to 'PROPN', or 'had' to 'VERB')\n",
    "        if tuple_pos[1] not in dict_POS.keys():\n",
    "            dict_POS[tuple_pos[1]] = []\n",
    "            dict_POS[tuple_pos[1]] += [tuple_pos[0]]\n",
    "        else:\n",
    "            dict_POS[tuple_pos[1]] += [tuple_pos[0]]\n",
    "            "
   ]
  },
  {
   "cell_type": "code",
   "execution_count": 57,
   "metadata": {},
   "outputs": [
    {
     "name": "stdout",
     "output_type": "stream",
     "text": [
      "dict_keys(['PRON', 'VERB', 'DET', 'ADJ', 'NOUN', 'ADP', 'PROPN', 'PUNCT', 'CCONJ', 'ADV', 'PART', 'SPACE', 'INTJ', 'NUM', 'SYM', 'AUX', 'X'])\n"
     ]
    }
   ],
   "source": [
    "# POS tags encontrados\n",
    "print(dict_POS.keys())"
   ]
  },
  {
   "cell_type": "code",
   "execution_count": 58,
   "metadata": {},
   "outputs": [
    {
     "data": {
      "image/png": "[encoded data removed]",
      "text/plain": [
       "<Figure size 432x288 with 7 Axes>"
      ]
     },
     "metadata": {
      "needs_background": "light"
     },
     "output_type": "display_data"
    }
   ],
   "source": [
    "# several plots\n",
    "from nltk.stem import WordNetLemmatizer\n",
    "\n",
    "# Count the occurence of POS tags in all dreams\n",
    "\n",
    "# POS tag annotations - ver https://spacy.io/api/annotation\n",
    "pos_tags = ['ADJ', 'VERB', 'PROPN', 'NOUN', 'NUM', 'INTJ', 'X']  # 'X' is other\n",
    "\n",
    "# number we want to see\n",
    "n = 20\n",
    "\n",
    "# first, define POS tags that could require more time to process\n",
    "counter_verb = Counter([WordNetLemmatizer().lemmatize(w).lower() for w in dict_POS['VERB']])  # lower and lemmatize\n",
    "\n",
    "###########################################################\n",
    "\n",
    "for i, j in enumerate(pos_tags):\n",
    "    # Count the POS tag - also lower case them all except if it is a proper noun\n",
    "    if j == 'PROPN':\n",
    "        counter = Counter(dict_POS[j])  # normal\n",
    "    elif j == 'VERB':\n",
    "        counter = counter_verb  # lower and lemmatize\n",
    "    else:\n",
    "        counter = Counter([i.lower() for i in dict_POS[j]])  # lower\n",
    "    # n most common tags\n",
    "    most_common = counter.most_common(n)\n",
    "    # plot\n",
    "    plt.subplot(len(pos_tags), 1, i+1)\n",
    "    [plt.bar(i, j, color='orange') for (i, j) in most_common]\n",
    "    plt.title(\"{} Most common {} in dreams | {}\".format(n, pos_tags[i], dreamer), fontsize=16)\n",
    "\n",
    "plt.subplots_adjust(left=0, bottom=-3, right=2, top=1, wspace=0, hspace=0.5)\n",
    "plt.show()"
   ]
  },
  {
   "cell_type": "code",
   "execution_count": 59,
   "metadata": {},
   "outputs": [
    {
     "data": {
      "image/png": "[encoded data removed]",
      "text/plain": [
       "<Figure size 432x288 with 3 Axes>"
      ]
     },
     "metadata": {
      "needs_background": "light"
     },
     "output_type": "display_data"
    }
   ],
   "source": [
    "# Plot several things\n",
    "\n",
    "person_x = 'Howard'\n",
    "common_whats = ['ADJ', 'PROPN', 'VERB']\n",
    "n = 10\n",
    "\n",
    "for nr, what in enumerate(common_whats):\n",
    "    # when\n",
    "    #print(\"\"\"When {} is in a dream, the {} most common {} are...\"\"\".format(person_x, n, what))\n",
    "\n",
    "    # create list of lists with the common what\n",
    "    counter_what = []\n",
    "    for i in tokens_pos:\n",
    "        dream_ex = i\n",
    "        if person_x in [tuple_word[0] for tuple_word in dream_ex]:\n",
    "            counter_what.append([tuple_word[0] for tuple_word in dream_ex if tuple_word[1] == what])\n",
    "\n",
    "    # just a list with the counter_whats\n",
    "    counter_whats = []\n",
    "    for i in counter_what:\n",
    "        for adj_dream in i:\n",
    "            counter_whats.append(adj_dream)\n",
    "        \n",
    "    # Counter\n",
    "    counter = Counter(counter_whats)\n",
    "\n",
    "    # n most common words\n",
    "    if what == 'PROPN':\n",
    "        most_common = counter.most_common(n)[1:]  # tira-se a própria person_x\n",
    "    else:\n",
    "        most_common = counter.most_common(n)\n",
    "    #print(most_common)  \n",
    "\n",
    "    # plot\n",
    "    plt.subplot(len(common_whats), 1, nr+1)\n",
    "    # Adicionar o número de vezes que o 'what' aparece nos sonhos em geral (isto é, sem a 'person_x estar necessariam/')\n",
    "    #[plt.bar(i, Counter(dict_POS[what])[i], color='green') for (i, j) in most_common]\n",
    "    # Número de vezes que o 'what' aparece quando a 'person_x' está no sonho\n",
    "    [plt.bar(i, j, color='darkorange') for (i, j) in most_common]\n",
    "    #plt.legend(['When {} is in the dream'.format(person_x), 'Compared to all dreams of {}'.format(dreamer)])\n",
    "    plt.title(\"\"\"When {} is in a dream, the {} most common {} are...\"\"\".format(person_x, n, what), fontsize=16)\n",
    "\n",
    "plt.subplots_adjust(left=0, bottom=-1, right=2, top=1, wspace=0, hspace=0.5)\n",
    "plt.show()"
   ]
  },
  {
   "cell_type": "code",
   "execution_count": null,
   "metadata": {},
   "outputs": [],
   "source": []
  },
  {
   "cell_type": "code",
   "execution_count": null,
   "metadata": {},
   "outputs": [],
   "source": []
  },
  {
   "cell_type": "code",
   "execution_count": null,
   "metadata": {},
   "outputs": [],
   "source": []
  },
  {
   "cell_type": "code",
   "execution_count": null,
   "metadata": {},
   "outputs": [],
   "source": []
  },
  {
   "cell_type": "code",
   "execution_count": null,
   "metadata": {},
   "outputs": [],
   "source": []
  },
  {
   "cell_type": "code",
   "execution_count": null,
   "metadata": {},
   "outputs": [],
   "source": []
  },
  {
   "cell_type": "code",
   "execution_count": 60,
   "metadata": {},
   "outputs": [
    {
     "name": "stdout",
     "output_type": "stream",
     "text": [
      "Couldn't find program: 'false'\n"
     ]
    }
   ],
   "source": [
    "%%script false\n",
    "# Import the English language class and create the nlp object\n",
    "from spacy.lang.en import English\n",
    "\n",
    "# all dreams again\n",
    "text = ' '.join(w for w in [i for i in b_df.dream])\n",
    "# text = ' '.join(w for w in [i[0] for i in most_common])\n",
    "\n",
    "nlp = English(max_length=len(text)) \n",
    "doc = nlp(text)\n",
    "\n",
    "verbs = {}\n",
    "for token in doc:\n",
    "    if token.pos_ == 'VERB':\n",
    "        verbs[token.text] += 1\n",
    "\n",
    "verbs"
   ]
  },
  {
   "cell_type": "code",
   "execution_count": null,
   "metadata": {},
   "outputs": [],
   "source": []
  },
  {
   "cell_type": "code",
   "execution_count": null,
   "metadata": {},
   "outputs": [],
   "source": []
  },
  {
   "cell_type": "markdown",
   "metadata": {},
   "source": [
    "#### gensim"
   ]
  },
  {
   "cell_type": "code",
   "execution_count": 61,
   "metadata": {},
   "outputs": [
    {
     "name": "stdout",
     "output_type": "stream",
     "text": [
      "1311\n",
      "238\n"
     ]
    }
   ],
   "source": [
    "# count the number of times certain word appears --> lower case only: all_words\n",
    "from gensim.corpora.dictionary import Dictionary\n",
    "\n",
    "# words in each dream\n",
    "j = [regexp_tokenize(i, '\\w+') for i in b_df.dream]\n",
    "\n",
    "print(all_words.count('think') )\n",
    "# or\n",
    "dictionary = Dictionary(j)  #usar o regexp_tokenize para cada uma das linhas (sonhos) e não a lista já com todos (all_words)\n",
    "print(dictionary.token2id.get('think')) # this is just the id of the word"
   ]
  },
  {
   "cell_type": "code",
   "execution_count": null,
   "metadata": {},
   "outputs": [],
   "source": []
  },
  {
   "cell_type": "code",
   "execution_count": null,
   "metadata": {},
   "outputs": [],
   "source": []
  },
  {
   "cell_type": "code",
   "execution_count": null,
   "metadata": {},
   "outputs": [],
   "source": []
  },
  {
   "cell_type": "markdown",
   "metadata": {},
   "source": [
    "#### Tf-idf"
   ]
  },
  {
   "cell_type": "code",
   "execution_count": 62,
   "metadata": {},
   "outputs": [
    {
     "name": "stdout",
     "output_type": "stream",
     "text": [
      "TfidfModel\n",
      "\n",
      "word_id and weights of dream number 91:\n",
      " [(1, 0.004240276414965271), (11, 0.027797627939657805), (14, 0.007843777852117212), (17, 0.26224276936327295), (22, 0.002387663339249545), (27, 0.02817048243692197), (33, 0.03243484073805064), (35, 0.0727196971204746), (45, 0.05494960349215855), (51, 0.015957729753389518), (55, 0.044477893444227486), (57, 0.02846143770640653), (60, 0.010854327429568909), (80, 0.17097357112022746), (91, 0.017036066463038638), (95, 0.013948941710674036), (96, 0.11015146611946668), (99, 0.06098293355089554), (134, 0.038422365975701915), (137, 0.04141036652532058), (242, 0.055296444127732186), (348, 0.03712403554064324), (397, 0.09112801538480388), (401, 0.0646047450934282), (434, 0.0879660700421454), (447, 0.22941149427137272), (628, 0.09355249384481903), (764, 0.10361164415844486), (914, 0.14169567512976375), (979, 0.21782604682717888), (1254, 0.28981430793655877), (1265, 0.18756939525528932), (1316, 0.1730957247689292), (1630, 0.1862026637781139), (1680, 0.09473511527732657), (1681, 0.10575107807093097), (1762, 0.25093238886967173), (1763, 0.1339396488715808), (1764, 0.1966062265499781), (1765, 0.1271221459394938), (1766, 0.12391066710097819), (1767, 0.1966062265499781), (1768, 0.12316689494048402), (1769, 0.32892480950063707), (1770, 0.1339396488715808), (1771, 0.14667739672153296), (1772, 0.1271221459394938), (1773, 0.15531071674014363), (1774, 0.1730957247689292), (1775, 0.161036210492407), (1776, 0.1966062265499781), (1777, 0.11252012330611212)]\n",
      "\n",
      "\n",
      "Top 5 weighted words of dream number 91:\n",
      "\n",
      "groom 0.32892480950063707\n",
      "minister 0.28981430793655877\n",
      "came 0.26224276936327295\n",
      "aisle 0.25093238886967173\n",
      "male 0.22941149427137272\n"
     ]
    }
   ],
   "source": [
    "# Tf-idf\n",
    "print(\"TfidfModel\\n\")\n",
    "\n",
    "from gensim.corpora.dictionary import Dictionary\n",
    "\n",
    "words_dreams = [regexp_tokenize(w.lower(), '\\w+') for w in b_df.dream if w not in stopwords.words('english')]\n",
    "\n",
    "dictionary = Dictionary(words_dreams)\n",
    "\n",
    "corpus = [dictionary.doc2bow(d) for d in words_dreams]\n",
    "\n",
    "n = 90\n",
    "doc = corpus[n]   #nth dream\n",
    "\n",
    "##################################################################################\n",
    "\n",
    "# Import TfidfModel\n",
    "from gensim.models.tfidfmodel import TfidfModel\n",
    "\n",
    "# Create a new TfidfModel using the corpus: tfidf\n",
    "tfidf = TfidfModel(corpus)\n",
    "\n",
    "# tfidf weights of the dream in question\n",
    "tfidf_weights = tfidf[doc]\n",
    "\n",
    "# Print the weights\n",
    "print(\"word_id and weights of dream number {}:\\n\".format(n+1), tfidf_weights)\n",
    "\n",
    "########################################\n",
    "print(\"\\n\")\n",
    "\n",
    "# Sort the weights from highest to lowest: sorted_tfidf_weights\n",
    "sorted_tfidf_weights = sorted(tfidf_weights, key=lambda w: w[1], reverse=True)\n",
    "\n",
    "# Print the top 5 weighted words\n",
    "print(\"Top 5 weighted words of dream number {}:\\n\".format(n+1))\n",
    "for term_id, weight in sorted_tfidf_weights[:5]:\n",
    "    print(dictionary.get(term_id), weight)\n"
   ]
  },
  {
   "cell_type": "code",
   "execution_count": null,
   "metadata": {},
   "outputs": [],
   "source": []
  },
  {
   "cell_type": "code",
   "execution_count": null,
   "metadata": {},
   "outputs": [],
   "source": []
  },
  {
   "cell_type": "code",
   "execution_count": null,
   "metadata": {},
   "outputs": [],
   "source": []
  },
  {
   "cell_type": "markdown",
   "metadata": {},
   "source": [
    "## <font color='darkgreen'>**Named Entity Recognition**</font> "
   ]
  },
  {
   "cell_type": "markdown",
   "metadata": {},
   "source": [
    "**nltk NER**"
   ]
  },
  {
   "cell_type": "code",
   "execution_count": 63,
   "metadata": {},
   "outputs": [
    {
     "data": {
      "image/png": "[encoded data removed]",
      "text/plain": [
       "<Figure size 432x288 with 1 Axes>"
      ]
     },
     "metadata": {},
     "output_type": "display_data"
    },
    {
     "data": {
      "text/plain": [
       "defaultdict(int,\n",
       "            {'PERSON': 7740,\n",
       "             'ORGANIZATION': 1307,\n",
       "             'GPE': 2118,\n",
       "             'LOCATION': 16,\n",
       "             'GSP': 18,\n",
       "             'FACILITY': 42})"
      ]
     },
     "execution_count": 63,
     "metadata": {},
     "output_type": "execute_result"
    }
   ],
   "source": [
    "# nltk NER\n",
    "import nltk\n",
    "\n",
    "# token_sentences = [regexp_tokenize(w, '\\w+') for w in b_df.dream]\n",
    "token_sentences = [word_tokenize(w) for w in b_df.dream]  ## é preciso manter as maiúsculas, etc\n",
    "\n",
    "pos_dreams = [nltk.pos_tag(d) for d in token_sentences]\n",
    "\n",
    "chunked_sentences = nltk.ne_chunk_sents(pos_dreams)\n",
    "\n",
    "###### Chart\n",
    "\n",
    "from collections import defaultdict\n",
    "\n",
    "# Create the defaultdict: ner_categories\n",
    "ner_categories = defaultdict(int)\n",
    "\n",
    "# Create the nested for loop\n",
    "for sent in chunked_sentences:\n",
    "    for chunk in sent:\n",
    "        if hasattr(chunk, 'label'):\n",
    "            ner_categories[chunk.label()] += 1\n",
    "            \n",
    "# Create a list from the dictionary keys for the chart labels: labels\n",
    "labels = list(ner_categories.keys())\n",
    "\n",
    "# Create a list of the values: values\n",
    "values = [ner_categories.get(l) for l in labels]\n",
    "\n",
    "# Create the pie chart\n",
    "plt.pie(values, labels=labels, autopct='%1.1f%%', startangle=140)\n",
    "\n",
    "# Display the chart\n",
    "plt.subplots_adjust(left=0, bottom=-1, right=1.8, top=1, wspace=0, hspace=0)\n",
    "plt.title(\"Named Entities in dreams\")\n",
    "plt.show()\n",
    "\n",
    "\n",
    "ner_categories"
   ]
  },
  {
   "cell_type": "markdown",
   "metadata": {},
   "source": [
    "**SpaCy NER**"
   ]
  },
  {
   "cell_type": "code",
   "execution_count": 64,
   "metadata": {},
   "outputs": [
    {
     "name": "stdout",
     "output_type": "stream",
     "text": [
      "<spacy.pipeline.pipes.EntityRecognizer object at 0x00000228724B2888>\n",
      "Ginny and I have an argument. She's explaining something to me. I find it hard to listen. I then see she's saying and doing some incredible things. Things and words and colors are coming out of her mouth like vomit. I'm scared and concerned for her and I'm also upset because these things have meaning for me, to help me. I ask her what drug she's on. My brother Dwight is there. She says, \"9.\" I ask Dwight what that is. She follows me around and won't stop. After what seems like a long time, I start to do it too. Suddenly I see dazzling, sparkling blue and red colors like fireworks or prism colors on the end of my tongue. Ginny's face goes out of focus. I am aware that I'm letting go and I'm in a different state of awareness. I talk rapidly, non-stop, and I'm vaguely aware that I might be saying hurtful things that could hurt other people's feelings, but I know I must and it's O.K. It spews out of me unchecked.\n",
      "\n",
      " (Dwight, 9, Dwight, Ginny, O.K.) \n",
      "\n",
      "Dwight : PERSON\n",
      "9 : CARDINAL\n",
      "Dwight : WORK_OF_ART\n",
      "Ginny : PERSON\n",
      "O.K. : PERSON\n"
     ]
    }
   ],
   "source": [
    "# SpaCy NER\n",
    "import spacy\n",
    "\n",
    "nlp = spacy.load('en_core_web_sm')\n",
    "\n",
    "print(nlp.entity)\n",
    "\n",
    "# dream \n",
    "n = 200\n",
    "print(b_df.dream.iloc[n])\n",
    "\n",
    "doc = nlp(b_df.dream.iloc[n])\n",
    "\n",
    "print(\"\\n\", doc.ents, \"\\n\")\n",
    "\n",
    "for i in doc.ents:\n",
    "    print(i,\":\", i.label_)   # --> treinar e importar vetores meus..."
   ]
  },
  {
   "cell_type": "markdown",
   "metadata": {},
   "source": [
    "**polyglot .entities**"
   ]
  },
  {
   "cell_type": "code",
   "execution_count": 65,
   "metadata": {},
   "outputs": [
    {
     "name": "stdout",
     "output_type": "stream",
     "text": [
      "Ginny and I have an argument. She's explaining something to me. I find it hard to listen. I then see she's saying and doing some incredible things. Things and words and colors are coming out of her mouth like vomit. I'm scared and concerned for her and I'm also upset because these things have meaning for me, to help me. I ask her what drug she's on. My brother Dwight is there. She says, \"9.\" I ask Dwight what that is. She follows me around and won't stop. After what seems like a long time, I start to do it too. Suddenly I see dazzling, sparkling blue and red colors like fireworks or prism colors on the end of my tongue. Ginny's face goes out of focus. I am aware that I'm letting go and I'm in a different state of awareness. I talk rapidly, non-stop, and I'm vaguely aware that I might be saying hurtful things that could hurt other people's feelings, but I know I must and it's O.K. It spews out of me unchecked. \n",
      "\n",
      "[I-PER(['Ginny']), I-PER([\"I'm\"]), I-PER(['Dwight']), I-PER(['Dwight']), I-PER([\"it's\"])]\n"
     ]
    },
    {
     "data": {
      "text/plain": [
       "[('I-PER', 'Ginny'),\n",
       " ('I-PER', \"I'm\"),\n",
       " ('I-PER', 'Dwight'),\n",
       " ('I-PER', 'Dwight'),\n",
       " ('I-PER', \"it's\")]"
      ]
     },
     "execution_count": 65,
     "metadata": {},
     "output_type": "execute_result"
    }
   ],
   "source": [
    "#polyglot\n",
    "from polyglot.text import Text\n",
    "\n",
    "# dream \n",
    "n = 200\n",
    "dream_number = b_df.dream.iloc[n]\n",
    "ptext = Text(dream_number)\n",
    "print(ptext, \"\\n\")\n",
    "\n",
    "print(ptext.entities)  # melhor\n",
    "\n",
    "########OR\n",
    "\n",
    "entities = [(ent.tag, ' '.join(ent)) for ent in ptext.entities]\n",
    "entities"
   ]
  },
  {
   "cell_type": "code",
   "execution_count": 66,
   "metadata": {},
   "outputs": [
    {
     "name": "stdout",
     "output_type": "stream",
     "text": [
      "name: inglês      code: en       confidence:  99.0 read bytes:  1250\n"
     ]
    }
   ],
   "source": [
    "from polyglot.detect import Detector\n",
    "detector = Detector(dream_number)\n",
    "print(detector.language)\n",
    "\n",
    "# https://polyglot.readthedocs.io/en/latest/index.html        -->Documentation"
   ]
  },
  {
   "cell_type": "code",
   "execution_count": 67,
   "metadata": {},
   "outputs": [
    {
     "name": "stdout",
     "output_type": "stream",
     "text": [
      "name: inglês      code: en       confidence:  87.0 read bytes:  1124\n",
      "name: chinês      code: zh_Hant  confidence:   5.0 read bytes:  1755\n",
      "name: un          code: un       confidence:   0.0 read bytes:     0\n",
      "\n",
      " [I-LOC(['China']), I-LOC([\"People's\", 'Republic', 'of', 'China']), I-LOC(['East', 'Asia'])]\n"
     ]
    }
   ],
   "source": [
    "mixed_text = \"\"\" China (simplified Chinese: 中国; traditional Chinese: 中國),\n",
    "officially the People's Republic of China (PRC), is a soverei n state located in East Asia\"\"\"\n",
    "\n",
    "for language in Detector(mixed_text).languages:\n",
    "    print(language)\n",
    "\n",
    "print(\"\\n\", Text(mixed_text).entities)"
   ]
  },
  {
   "cell_type": "code",
   "execution_count": null,
   "metadata": {},
   "outputs": [],
   "source": []
  },
  {
   "cell_type": "code",
   "execution_count": null,
   "metadata": {},
   "outputs": [],
   "source": []
  },
  {
   "cell_type": "code",
   "execution_count": null,
   "metadata": {},
   "outputs": [],
   "source": []
  },
  {
   "cell_type": "code",
   "execution_count": null,
   "metadata": {},
   "outputs": [],
   "source": []
  },
  {
   "cell_type": "code",
   "execution_count": null,
   "metadata": {},
   "outputs": [],
   "source": []
  },
  {
   "cell_type": "code",
   "execution_count": null,
   "metadata": {},
   "outputs": [],
   "source": []
  },
  {
   "cell_type": "markdown",
   "metadata": {},
   "source": [
    "## 3) Text Representation & Feature Engineering\n",
    "<a id=\"fe\"></a>"
   ]
  },
  {
   "cell_type": "code",
   "execution_count": null,
   "metadata": {},
   "outputs": [],
   "source": []
  },
  {
   "cell_type": "code",
   "execution_count": null,
   "metadata": {},
   "outputs": [],
   "source": []
  },
  {
   "cell_type": "code",
   "execution_count": null,
   "metadata": {},
   "outputs": [],
   "source": []
  },
  {
   "cell_type": "code",
   "execution_count": null,
   "metadata": {},
   "outputs": [],
   "source": []
  },
  {
   "cell_type": "markdown",
   "metadata": {},
   "source": [
    "## 4) Modeling / Pattern Mining\n",
    "<a id=\"modeling\"></a>"
   ]
  },
  {
   "cell_type": "code",
   "execution_count": null,
   "metadata": {},
   "outputs": [],
   "source": []
  },
  {
   "cell_type": "code",
   "execution_count": null,
   "metadata": {},
   "outputs": [],
   "source": []
  },
  {
   "cell_type": "code",
   "execution_count": 68,
   "metadata": {},
   "outputs": [],
   "source": [
    "# number of times a word appears\n",
    "\n",
    "# all words\n",
    "CountVectorizer().fit(dreams_df.dream).get_feature_names()[:15]  \n",
    "\n",
    "# nltk\n",
    "from nltk.tokenize import word_tokenize\n",
    "# [word_tokenize(d) for d in dreams_df.dream]   # slower"
   ]
  },
  {
   "cell_type": "code",
   "execution_count": null,
   "metadata": {},
   "outputs": [],
   "source": []
  },
  {
   "cell_type": "code",
   "execution_count": null,
   "metadata": {},
   "outputs": [],
   "source": []
  },
  {
   "cell_type": "code",
   "execution_count": null,
   "metadata": {},
   "outputs": [],
   "source": []
  },
  {
   "cell_type": "code",
   "execution_count": null,
   "metadata": {},
   "outputs": [],
   "source": []
  },
  {
   "cell_type": "markdown",
   "metadata": {},
   "source": [
    "## ML Models: predict features of the data"
   ]
  },
  {
   "cell_type": "code",
   "execution_count": 69,
   "metadata": {},
   "outputs": [],
   "source": [
    "from sklearn.model_selection import train_test_split\n",
    "from sklearn.pipeline import Pipeline\n"
   ]
  },
  {
   "cell_type": "markdown",
   "metadata": {},
   "source": [
    "### CountVectorizer() "
   ]
  },
  {
   "cell_type": "code",
   "execution_count": 70,
   "metadata": {},
   "outputs": [],
   "source": [
    "from sklearn.feature_extraction.text import CountVectorizer"
   ]
  },
  {
   "cell_type": "code",
   "execution_count": 71,
   "metadata": {},
   "outputs": [
    {
     "name": "stdout",
     "output_type": "stream",
     "text": [
      "Dream example:\n",
      "The one at the Meads's house, where it's bigger inside than out; there's a European village just inside, with a cobblestone street and a Pied-Piper sort of man with curly hair, he can do things like juggle - I go up the back stairs [there aren't any in the real house] and then down the other side [since there's a second set, immediately] then down a short empty hallway that turns a corner, where I find a tiny room...a young woman with shoulder-length blonde hair in a pageboy is there, cooking at a stove that almost fills the room...she's nice to me. Now outside, I'm waiting for my aunt to pick me up - she arrives in a little round convertible and we go for a drive, not very far - we cross a little bridge over a creek, then double back and she drops me off at the house again. Inside (?) I sit with a couple of people, playing with a string of blue balloons.\n",
      "\n",
      "Transformed text vector is \n",
      "[[1 1 4 1 1 1 3 1 2 1 1 1 1 1 1 1 1 1 1 1 1 1 1 1 1 2 1 1 1 1 1 1 1 2 2 2\n",
      "  1 1 3 1 3 3 1 1 1 1 1 1 2 1 3 1 1 1 1 1 3 1 1 1 1 1 1 1 1 1 1 1 1 1 2 1\n",
      "  1 1 3 1 1 1 1 1 1 1 1 1 1 1 2 7 3 4 1 1 2 1 2 1 1 1 2 2 5 1 1]]\n",
      "\n",
      "Words for each feature:\n",
      "['again', 'almost', 'and', 'any', 'aren', 'arrives', 'at', 'aunt', 'back', 'balloons', 'bigger', 'blonde', 'blue', 'bridge', 'can', 'cobblestone', 'convertible', 'cooking', 'corner', 'couple', 'creek', 'cross', 'curly', 'do', 'double', 'down', 'drive', 'drops', 'empty', 'european', 'far', 'fills', 'find', 'for', 'go', 'hair', 'hallway', 'he', 'house', 'immediately', 'in', 'inside', 'is', 'it', 'juggle', 'just', 'length', 'like', 'little', 'man', 'me', 'meads', 'my', 'nice', 'not', 'now', 'of', 'off', 'one', 'other', 'out', 'outside', 'over', 'pageboy', 'people', 'pick', 'pied', 'piper', 'playing', 'real', 'room', 'round', 'second', 'set', 'she', 'short', 'shoulder', 'side', 'since', 'sit', 'sort', 'stairs', 'stove', 'street', 'string', 'than', 'that', 'the', 'then', 'there', 'things', 'tiny', 'to', 'turns', 'up', 'very', 'village', 'waiting', 'we', 'where', 'with', 'woman', 'young']\n"
     ]
    }
   ],
   "source": [
    "# dream example\n",
    "text = [dreams_df['dream'][0]]\n",
    "print(\"Dream example:\\n{}\".format('\\n'.join(text)))\n",
    "\n",
    "vectorizer = CountVectorizer()\n",
    "\n",
    "# call 'fit' to build the vocabulary\n",
    "vectorizer.fit(text)\n",
    "\n",
    "# calling 'transform' to convert text to a bag of words\n",
    "x = vectorizer.transform(text)\n",
    "\n",
    "# CountVectorizer uses a sparse array to save memory, but it's easier in this assignment to \n",
    "# convert back to a \"normal\" numpy array\n",
    "x = x.toarray()\n",
    "\n",
    "print(\"\")\n",
    "print(\"Transformed text vector is \\n{}\".format(x))\n",
    "\n",
    "# 'get_feature_names()' tracks which word is associated with each column of the transformed x\n",
    "print(\"\")\n",
    "print(\"Words for each feature:\")\n",
    "print(vectorizer.get_feature_names())\n",
    "\n",
    "# the bag of words treatment doesn't preserve information about the order of words, just their frequency"
   ]
  },
  {
   "cell_type": "code",
   "execution_count": 72,
   "metadata": {},
   "outputs": [
    {
     "name": "stdout",
     "output_type": "stream",
     "text": [
      "Total number of unique words: 35574\n",
      "Total number of unique dreams: 19430\n"
     ]
    }
   ],
   "source": [
    "# total number of unique words\n",
    "vectorizer = CountVectorizer()\n",
    "\n",
    "vectorizer.fit(dreams_df['dream'])\n",
    "\n",
    "print(\"Total number of unique words: {}\".format(len(vectorizer.get_feature_names())))\n",
    "print(\"Total number of unique dreams: {}\".format(len(dreams_df.dream.unique())))  # só há 1 repetido"
   ]
  },
  {
   "cell_type": "code",
   "execution_count": 73,
   "metadata": {},
   "outputs": [
    {
     "data": {
      "image/png": "[encoded data removed]",
      "text/plain": [
       "<Figure size 432x288 with 2 Axes>"
      ]
     },
     "metadata": {
      "needs_background": "light"
     },
     "output_type": "display_data"
    }
   ],
   "source": [
    "# cumulative distribution (CDF) of document frequencies - df\n",
    "\n",
    "# bag of words\n",
    "X = vectorizer.fit_transform(dreams_df.dream)\n",
    "\n",
    "doc_freq = pd.Series(sorted(np.sum(X > 0, axis=0).tolist()[0]))\n",
    "cum = np.arange(np.sum(doc_freq))\n",
    "\n",
    "# plot \n",
    "plt.subplot(1, 2, 1)\n",
    "plt.hist(doc_freq, cum, density=True, cumulative=True, histtype='step')\n",
    "plt.xlim(0,80)\n",
    "plt.title(\"CDF of document frequencies\")\n",
    "plt.xlabel(\"Document count\")\n",
    "plt.ylabel(\"% of words that appear less than xi times\")\n",
    "plt.xticks(range(0, 81, 10))\n",
    "\n",
    "# zoomed version\n",
    "plt.subplot(1, 2, 2)\n",
    "plt.hist(doc_freq, cum, density=True, cumulative=True, histtype='stepfilled')\n",
    "plt.xlim(0,6)\n",
    "plt.title(\"CDF of document frequencies\")\n",
    "plt.xlabel(\"Document count\")\n",
    "plt.ylabel(\"% of words that appear less than xi times\")\n",
    "plt.xticks(range(8))\n",
    "\n",
    "plt.subplots_adjust(left=0, bottom=-0.3, right=2, top=1, wspace=0.4, hspace=0)\n",
    "plt.show()\n",
    "\n",
    "# min_df = 3 ?\n",
    "# max_df = 20 ?"
   ]
  },
  {
   "cell_type": "code",
   "execution_count": 74,
   "metadata": {},
   "outputs": [
    {
     "data": {
      "text/plain": [
       "array([      0,       1,       2, ..., 1665271, 1665272, 1665273],\n",
       "      dtype=int64)"
      ]
     },
     "execution_count": 74,
     "metadata": {},
     "output_type": "execute_result"
    }
   ],
   "source": [
    "np.sum(X, axis=0).tolist()[0]\n",
    "cum"
   ]
  },
  {
   "cell_type": "code",
   "execution_count": 75,
   "metadata": {},
   "outputs": [],
   "source": [
    "# min_df could be = 1 & max_df could be 25 or 30"
   ]
  },
  {
   "cell_type": "code",
   "execution_count": null,
   "metadata": {},
   "outputs": [],
   "source": []
  },
  {
   "cell_type": "code",
   "execution_count": null,
   "metadata": {},
   "outputs": [],
   "source": []
  },
  {
   "cell_type": "code",
   "execution_count": 76,
   "metadata": {},
   "outputs": [
    {
     "data": {
      "text/html": [
       "<div>\n",
       "<style scoped>\n",
       "    .dataframe tbody tr th:only-of-type {\n",
       "        vertical-align: middle;\n",
       "    }\n",
       "\n",
       "    .dataframe tbody tr th {\n",
       "        vertical-align: top;\n",
       "    }\n",
       "\n",
       "    .dataframe thead th {\n",
       "        text-align: right;\n",
       "    }\n",
       "</style>\n",
       "<table border=\"1\" class=\"dataframe\">\n",
       "  <thead>\n",
       "    <tr style=\"text-align: right;\">\n",
       "      <th></th>\n",
       "      <th>alta</th>\n",
       "      <th>angie</th>\n",
       "      <th>arlie</th>\n",
       "      <th>b</th>\n",
       "      <th>b2</th>\n",
       "      <th>bay_area_girls_456</th>\n",
       "      <th>bay_area_girls_789</th>\n",
       "      <th>bea1</th>\n",
       "      <th>bea2</th>\n",
       "      <th>blind-f</th>\n",
       "      <th>...</th>\n",
       "      <th>phil3</th>\n",
       "      <th>physiologist</th>\n",
       "      <th>ringo</th>\n",
       "      <th>samantha</th>\n",
       "      <th>seventh_graders</th>\n",
       "      <th>toby</th>\n",
       "      <th>tom</th>\n",
       "      <th>ucsc_women</th>\n",
       "      <th>vickie</th>\n",
       "      <th>west_coast_teens</th>\n",
       "    </tr>\n",
       "  </thead>\n",
       "  <tbody>\n",
       "    <tr>\n",
       "      <th>0</th>\n",
       "      <td>1</td>\n",
       "      <td>0</td>\n",
       "      <td>0</td>\n",
       "      <td>0</td>\n",
       "      <td>0</td>\n",
       "      <td>0</td>\n",
       "      <td>0</td>\n",
       "      <td>0</td>\n",
       "      <td>0</td>\n",
       "      <td>0</td>\n",
       "      <td>...</td>\n",
       "      <td>0</td>\n",
       "      <td>0</td>\n",
       "      <td>0</td>\n",
       "      <td>0</td>\n",
       "      <td>0</td>\n",
       "      <td>0</td>\n",
       "      <td>0</td>\n",
       "      <td>0</td>\n",
       "      <td>0</td>\n",
       "      <td>0</td>\n",
       "    </tr>\n",
       "    <tr>\n",
       "      <th>1</th>\n",
       "      <td>1</td>\n",
       "      <td>0</td>\n",
       "      <td>0</td>\n",
       "      <td>0</td>\n",
       "      <td>0</td>\n",
       "      <td>0</td>\n",
       "      <td>0</td>\n",
       "      <td>0</td>\n",
       "      <td>0</td>\n",
       "      <td>0</td>\n",
       "      <td>...</td>\n",
       "      <td>0</td>\n",
       "      <td>0</td>\n",
       "      <td>0</td>\n",
       "      <td>0</td>\n",
       "      <td>0</td>\n",
       "      <td>0</td>\n",
       "      <td>0</td>\n",
       "      <td>0</td>\n",
       "      <td>0</td>\n",
       "      <td>0</td>\n",
       "    </tr>\n",
       "    <tr>\n",
       "      <th>2</th>\n",
       "      <td>1</td>\n",
       "      <td>0</td>\n",
       "      <td>0</td>\n",
       "      <td>0</td>\n",
       "      <td>0</td>\n",
       "      <td>0</td>\n",
       "      <td>0</td>\n",
       "      <td>0</td>\n",
       "      <td>0</td>\n",
       "      <td>0</td>\n",
       "      <td>...</td>\n",
       "      <td>0</td>\n",
       "      <td>0</td>\n",
       "      <td>0</td>\n",
       "      <td>0</td>\n",
       "      <td>0</td>\n",
       "      <td>0</td>\n",
       "      <td>0</td>\n",
       "      <td>0</td>\n",
       "      <td>0</td>\n",
       "      <td>0</td>\n",
       "    </tr>\n",
       "    <tr>\n",
       "      <th>3</th>\n",
       "      <td>1</td>\n",
       "      <td>0</td>\n",
       "      <td>0</td>\n",
       "      <td>0</td>\n",
       "      <td>0</td>\n",
       "      <td>0</td>\n",
       "      <td>0</td>\n",
       "      <td>0</td>\n",
       "      <td>0</td>\n",
       "      <td>0</td>\n",
       "      <td>...</td>\n",
       "      <td>0</td>\n",
       "      <td>0</td>\n",
       "      <td>0</td>\n",
       "      <td>0</td>\n",
       "      <td>0</td>\n",
       "      <td>0</td>\n",
       "      <td>0</td>\n",
       "      <td>0</td>\n",
       "      <td>0</td>\n",
       "      <td>0</td>\n",
       "    </tr>\n",
       "    <tr>\n",
       "      <th>4</th>\n",
       "      <td>1</td>\n",
       "      <td>0</td>\n",
       "      <td>0</td>\n",
       "      <td>0</td>\n",
       "      <td>0</td>\n",
       "      <td>0</td>\n",
       "      <td>0</td>\n",
       "      <td>0</td>\n",
       "      <td>0</td>\n",
       "      <td>0</td>\n",
       "      <td>...</td>\n",
       "      <td>0</td>\n",
       "      <td>0</td>\n",
       "      <td>0</td>\n",
       "      <td>0</td>\n",
       "      <td>0</td>\n",
       "      <td>0</td>\n",
       "      <td>0</td>\n",
       "      <td>0</td>\n",
       "      <td>0</td>\n",
       "      <td>0</td>\n",
       "    </tr>\n",
       "  </tbody>\n",
       "</table>\n",
       "<p>5 rows × 60 columns</p>\n",
       "</div>"
      ],
      "text/plain": [
       "   alta  angie  arlie  b  b2  bay_area_girls_456  bay_area_girls_789  bea1  \\\n",
       "0     1      0      0  0   0                   0                   0     0   \n",
       "1     1      0      0  0   0                   0                   0     0   \n",
       "2     1      0      0  0   0                   0                   0     0   \n",
       "3     1      0      0  0   0                   0                   0     0   \n",
       "4     1      0      0  0   0                   0                   0     0   \n",
       "\n",
       "   bea2  blind-f  ...  phil3  physiologist  ringo  samantha  seventh_graders  \\\n",
       "0     0        0  ...      0             0      0         0                0   \n",
       "1     0        0  ...      0             0      0         0                0   \n",
       "2     0        0  ...      0             0      0         0                0   \n",
       "3     0        0  ...      0             0      0         0                0   \n",
       "4     0        0  ...      0             0      0         0                0   \n",
       "\n",
       "   toby  tom  ucsc_women  vickie  west_coast_teens  \n",
       "0     0    0           0       0                 0  \n",
       "1     0    0           0       0                 0  \n",
       "2     0    0           0       0                 0  \n",
       "3     0    0           0       0                 0  \n",
       "4     0    0           0       0                 0  \n",
       "\n",
       "[5 rows x 60 columns]"
      ]
     },
     "execution_count": 76,
     "metadata": {},
     "output_type": "execute_result"
    }
   ],
   "source": [
    "pd.get_dummies(dreams_df['id']).head()"
   ]
  },
  {
   "cell_type": "code",
   "execution_count": null,
   "metadata": {},
   "outputs": [],
   "source": []
  },
  {
   "cell_type": "code",
   "execution_count": null,
   "metadata": {},
   "outputs": [],
   "source": []
  },
  {
   "cell_type": "markdown",
   "metadata": {},
   "source": [
    "## Data (X)"
   ]
  },
  {
   "cell_type": "code",
   "execution_count": 77,
   "metadata": {},
   "outputs": [],
   "source": [
    "n = 10\n",
    "top_dreamers = dreams_df['name'].value_counts(ascending=True).tail(n)\n",
    "\n",
    "# top 10 dreamers\n",
    "use_df = dreams_df[dreams_df.name.isin(top_dreamers.index)]\n",
    "\n",
    "# X\n",
    "X = dreams_df['dream']\n",
    "X_top_dreamers = use_df['dream']"
   ]
  },
  {
   "cell_type": "markdown",
   "metadata": {},
   "source": [
    "## Target (y)"
   ]
  },
  {
   "cell_type": "code",
   "execution_count": 78,
   "metadata": {},
   "outputs": [],
   "source": [
    "# y\n",
    "y = dreams_df['sex']\n",
    "y_top_dreamers = use_df['sex']"
   ]
  },
  {
   "cell_type": "markdown",
   "metadata": {},
   "source": [
    "### CountVectorizer() and MultinomialNB()"
   ]
  },
  {
   "cell_type": "code",
   "execution_count": 79,
   "metadata": {},
   "outputs": [],
   "source": [
    "from sklearn.naive_bayes import MultinomialNB"
   ]
  },
  {
   "cell_type": "markdown",
   "metadata": {},
   "source": [
    "All"
   ]
  },
  {
   "cell_type": "code",
   "execution_count": 80,
   "metadata": {},
   "outputs": [
    {
     "name": "stdout",
     "output_type": "stream",
     "text": [
      "train Accuracy score: 0.9044923167414161\n",
      "test Accuracy score: 0.8550600343053173 \n",
      "\n"
     ]
    }
   ],
   "source": [
    "from sklearn.feature_extraction.text import CountVectorizer\n",
    "from sklearn.model_selection import train_test_split\n",
    "from sklearn.naive_bayes import MultinomialNB\n",
    "from sklearn.metrics import accuracy_score\n",
    "\n",
    "# features & target\n",
    "X = dreams_df['dream']\n",
    "y = dreams_df['sex']\n",
    "\n",
    "# split into a training and test set\n",
    "X_train, X_test, y_train, y_test = train_test_split(X, y, test_size=0.3, random_state=1)\n",
    "\n",
    "# Initialize a CountVectorizer object: count_vectorizer\n",
    "count_vectorizer = CountVectorizer() # stop_words='english' ---> o score fica pior!\n",
    "count_train = count_vectorizer.fit_transform(X_train)\n",
    "count_test = count_vectorizer.transform(X_test)\n",
    "\n",
    "\n",
    "# MultinomialNB() classifier with default parameters.\n",
    "classifier = 'MultinomialNB'\n",
    "nb_classifier = MultinomialNB()\n",
    "\n",
    "nb_classifier.fit(count_train, y_train)\n",
    "\n",
    "pred = nb_classifier.predict(count_test)\n",
    "\n",
    "# score\n",
    "print(\"train Accuracy score: {}\".format(accuracy_score(y_train, nb_classifier.predict(count_train))))\n",
    "print(\"test Accuracy score: {}\".format(accuracy_score(y_test, pred)), \"\\n\")"
   ]
  },
  {
   "cell_type": "code",
   "execution_count": 81,
   "metadata": {},
   "outputs": [
    {
     "name": "stdout",
     "output_type": "stream",
     "text": [
      "train Accuracy score: 0.9042717447246525\n",
      "test Accuracy score: 0.8543739279588336 \n",
      "\n"
     ]
    }
   ],
   "source": [
    "from sklearn.naive_bayes import ComplementNB\n",
    "\n",
    "# ComplementNB() classifier with default parameters.\n",
    "classifier = 'ComplementNB'\n",
    "nb_classifier = ComplementNB()\n",
    "\n",
    "nb_classifier.fit(count_train, y_train)\n",
    "\n",
    "pred = nb_classifier.predict(count_test)\n",
    "\n",
    "# score\n",
    "print(\"train Accuracy score: {}\".format(accuracy_score(y_train, nb_classifier.predict(count_train))))\n",
    "print(\"test Accuracy score: {}\".format(accuracy_score(y_test, pred)), \"\\n\")"
   ]
  },
  {
   "cell_type": "markdown",
   "metadata": {},
   "source": [
    "##### Outra maneira de fazer o mesmo - diferenças?"
   ]
  },
  {
   "cell_type": "code",
   "execution_count": 82,
   "metadata": {},
   "outputs": [
    {
     "name": "stdout",
     "output_type": "stream",
     "text": [
      "Accuracy score for the training set: 0.906183368869936\n",
      "Accuracy score for the test set: 0.8545454545454545\n"
     ]
    }
   ],
   "source": [
    "# features & target\n",
    "\n",
    "X = CountVectorizer().fit_transform(dreams_df.dream)#.tocsc()\n",
    "# X = dreams_df['dream'] \n",
    "y = dreams_df['sex'] #.values.astype(np.int)\n",
    "\n",
    "classifier = 'MultinomialNB'\n",
    "\n",
    "# Multinomial Naïve Bayes\n",
    "\n",
    "# split into a training and test set\n",
    "X_train, X_test, y_train, y_test = train_test_split(X, y, test_size=0.3, random_state=1)\n",
    "\n",
    "# MultinomialNB() classifier with default parameters.\n",
    "multi_nb = MultinomialNB()\n",
    "\n",
    "# train the classifier over the training set and test on the test set\n",
    "multi_nb.fit(X_train, y_train)\n",
    "\n",
    "y_pred = multi_nb.predict(X_test)\n",
    "\n",
    "# accuracy scores for both the training and the test sets\n",
    "print(\"Accuracy score for the training set: {}\".format(multi_nb.score(X_train, y_train)))\n",
    "print(\"Accuracy score for the test set: {}\".format(multi_nb.score(X_test, y_test)))\n"
   ]
  },
  {
   "cell_type": "code",
   "execution_count": 83,
   "metadata": {},
   "outputs": [
    {
     "name": "stderr",
     "output_type": "stream",
     "text": [
      "C:\\Users\\Admin\\Anaconda3\\lib\\site-packages\\sklearn\\model_selection\\_search.py:825: FutureWarning: The parameter 'iid' is deprecated in 0.22 and will be removed in 0.24.\n",
      "  \"removed in 0.24.\", FutureWarning\n"
     ]
    },
    {
     "name": "stdout",
     "output_type": "stream",
     "text": [
      "\n",
      "Tuned MultinomialNB Parameters: {'alpha': 0.6000000001000001}\n",
      "All: accuracy score for MultinomialNB with tuning: 0.8548885077186964\n"
     ]
    }
   ],
   "source": [
    "# Tuning\n",
    "\n",
    "from sklearn.model_selection import train_test_split, GridSearchCV\n",
    "\n",
    "# hyperparameter grid\n",
    "param_grid = {'alpha': np.arange(1.0e-10, 1, 0.1)}\n",
    "\n",
    "grid_mnb = GridSearchCV(multi_nb, param_grid=param_grid, cv=5, iid=False)\n",
    "\n",
    "grid_mnb.fit(X_train, y_train)\n",
    "\n",
    "# hyperparametes & accuracy\n",
    "print(\"\\nTuned MultinomialNB Parameters: {}\".format(grid_mnb.best_params_))\n",
    "print('All: accuracy score for {} with tuning: {}'.format(classifier, grid_mnb.score(X_test, y_test)))"
   ]
  },
  {
   "cell_type": "markdown",
   "metadata": {},
   "source": [
    "#### Predictions"
   ]
  },
  {
   "cell_type": "code",
   "execution_count": 84,
   "metadata": {},
   "outputs": [
    {
     "data": {
      "text/plain": [
       "'I was talking with Jung and he was looking at me as if I knew something.'"
      ]
     },
     "execution_count": 84,
     "metadata": {},
     "output_type": "execute_result"
    }
   ],
   "source": [
    "# sentence = dreams_df['dream'][0]  # alta dream\n",
    "sentence = \"I was talking with Jung and he was looking at me as if I knew something.\"\n",
    "sentence"
   ]
  },
  {
   "cell_type": "code",
   "execution_count": 85,
   "metadata": {},
   "outputs": [
    {
     "name": "stdout",
     "output_type": "stream",
     "text": [
      "Prediction of the sentence: ['M']\n"
     ]
    }
   ],
   "source": [
    "# fit to build the vocabulary: dreams vocabulary\n",
    "vectorizer = CountVectorizer().fit(dreams_df['dream'])   \n",
    "\n",
    "# transform to convert the sentence to a bag of words\n",
    "sentence_transformed = vectorizer.transform([sentence])\n",
    "\n",
    "# Predict\n",
    "print(\"Prediction of the sentence: {}\".format(grid_mnb.predict(sentence_transformed)))\n"
   ]
  },
  {
   "cell_type": "code",
   "execution_count": null,
   "metadata": {},
   "outputs": [],
   "source": []
  },
  {
   "cell_type": "code",
   "execution_count": null,
   "metadata": {},
   "outputs": [],
   "source": []
  },
  {
   "cell_type": "code",
   "execution_count": 86,
   "metadata": {},
   "outputs": [
    {
     "data": {
      "text/plain": [
       "array([1, 1, 1, ..., 0, 0, 0])"
      ]
     },
     "execution_count": 86,
     "metadata": {},
     "output_type": "execute_result"
    }
   ],
   "source": [
    "(dreams_df.id == 'alta').values.astype(np.int)  # target: if it's alta id (1) or not (0)"
   ]
  },
  {
   "cell_type": "code",
   "execution_count": null,
   "metadata": {},
   "outputs": [],
   "source": []
  },
  {
   "cell_type": "markdown",
   "metadata": {},
   "source": [
    "### CountVectorizer() and OneVsRestClassifier"
   ]
  },
  {
   "cell_type": "code",
   "execution_count": 87,
   "metadata": {},
   "outputs": [],
   "source": [
    "from sklearn.feature_extraction.text import CountVectorizer\n",
    "from sklearn.pipeline import Pipeline\n",
    "from sklearn.model_selection import train_test_split, GridSearchCV"
   ]
  },
  {
   "cell_type": "markdown",
   "metadata": {},
   "source": [
    "#### LogisticRegression"
   ]
  },
  {
   "cell_type": "code",
   "execution_count": 88,
   "metadata": {},
   "outputs": [],
   "source": [
    "from sklearn.linear_model import LogisticRegression\n",
    "from sklearn.multiclass import OneVsRestClassifier\n",
    "from sklearn.feature_extraction.text import HashingVectorizer"
   ]
  },
  {
   "cell_type": "markdown",
   "metadata": {},
   "source": [
    "Top 10 dreamers"
   ]
  },
  {
   "cell_type": "code",
   "execution_count": 89,
   "metadata": {},
   "outputs": [
    {
     "name": "stdout",
     "output_type": "stream",
     "text": [
      "Top10: accuracy score for OneVsRestClassifier / LogisticRegression without tuning: 0.9318695511785599\n",
      "Top10: accuracy score for OneVsRestClassifier / LogisticRegression without tuning: 0.9363900548918308\n"
     ]
    }
   ],
   "source": [
    "# 10 Top dreamers\n",
    "\n",
    "# LogisticRegression\n",
    "classifier = 'OneVsRestClassifier / LogisticRegression'\n",
    "\n",
    "X_top_dreamers = use_df['dream']\n",
    "y_top_dreamers = use_df['sex']\n",
    "\n",
    "SEED = 2\n",
    "\n",
    "X_train, X_test, y_train, y_test = train_test_split(X_top_dreamers, y_top_dreamers, random_state=SEED)\n",
    "\n",
    "pl = Pipeline([('vec', CountVectorizer()), \n",
    "               ('clf', OneVsRestClassifier(LogisticRegression(class_weight='balanced', solver='lbfgs', max_iter=10000)))])\n",
    "\n",
    "pl.fit(X_train, y_train)\n",
    "\n",
    "# accuracy\n",
    "print('Top10: accuracy score for {} without tuning: {}'.format(classifier, pl.score(X_test, y_test))) #0.8550209880529545\n",
    "\n",
    "#############################################\n",
    "\n",
    "from sklearn.feature_extraction.text import HashingVectorizer\n",
    "\n",
    "vec = HashingVectorizer(norm=None, ngram_range=(1, 2))\n",
    "\n",
    "pl = Pipeline([('vec', vec), \n",
    "               ('clf', OneVsRestClassifier(LogisticRegression(class_weight='balanced',solver='lbfgs', max_iter=10000)))])\n",
    "\n",
    "pl.fit(X_train, y_train)\n",
    "\n",
    "# accuracy\n",
    "print('Top10: accuracy score for {} without tuning: {}'.format(classifier, pl.score(X_test, y_test)))"
   ]
  },
  {
   "cell_type": "markdown",
   "metadata": {},
   "source": [
    "#### Prediction"
   ]
  },
  {
   "cell_type": "code",
   "execution_count": 90,
   "metadata": {},
   "outputs": [
    {
     "data": {
      "text/plain": [
       "'I was talking with Jung and he was looking at me as if I knew something.'"
      ]
     },
     "execution_count": 90,
     "metadata": {},
     "output_type": "execute_result"
    }
   ],
   "source": [
    "# sentence = dreams_df['dream'][0]  # alta dream\n",
    "sentence = \"I was talking with Jung and he was looking at me as if I knew something.\"\n",
    "sentence"
   ]
  },
  {
   "cell_type": "code",
   "execution_count": 91,
   "metadata": {},
   "outputs": [
    {
     "name": "stdout",
     "output_type": "stream",
     "text": [
      "Prediction of the sentence: ['M']\n"
     ]
    }
   ],
   "source": [
    "# Predict\n",
    "print(\"Prediction of the sentence: {}\".format(pl.predict([sentence])))"
   ]
  },
  {
   "cell_type": "code",
   "execution_count": null,
   "metadata": {},
   "outputs": [],
   "source": []
  },
  {
   "cell_type": "markdown",
   "metadata": {},
   "source": [
    "#### All dreamers"
   ]
  },
  {
   "cell_type": "code",
   "execution_count": 92,
   "metadata": {},
   "outputs": [
    {
     "name": "stdout",
     "output_type": "stream",
     "text": [
      "All: accuracy score for LogisticRegression without tuning: 0.8655825442568958\n",
      "All: accuracy score for LogisticRegression without tuning: 0.8655825442568958\n",
      "Wall time: 1min 57s\n"
     ]
    }
   ],
   "source": [
    "%%time\n",
    "# All\n",
    "\n",
    "# LogisticRegression\n",
    "classifier = 'LogisticRegression'\n",
    "\n",
    "X = dreams_df['dream']\n",
    "y = dreams_df['sex']        # target\n",
    "\n",
    "SEED = 2\n",
    "\n",
    "X_train, X_test, y_train, y_test = train_test_split(X, y, random_state=SEED)\n",
    "\n",
    "###############################\n",
    "\n",
    "pl = Pipeline([('vec', CountVectorizer()), \n",
    "               ('clf', OneVsRestClassifier(LogisticRegression(class_weight='balanced',\n",
    "                                                              solver='sag', max_iter=10000, random_state=SEED)))])\n",
    "\n",
    "pl.fit(X_train, y_train)\n",
    "\n",
    "# accuracy\n",
    "print('All: accuracy score for {} without tuning: {}'.format(classifier, pl.score(X_test, y_test))) \n",
    "\n",
    "################################\n",
    "\n",
    "pl = Pipeline([('vec', CountVectorizer()), \n",
    "               ('clf', LogisticRegression(class_weight='balanced',\n",
    "                                          solver='sag', max_iter=10000, random_state=SEED))])\n",
    "\n",
    "pl.fit(X_train, y_train)\n",
    "\n",
    "# accuracy\n",
    "print('All: accuracy score for {} without tuning: {}'.format(classifier, pl.score(X_test, y_test))) \n"
   ]
  },
  {
   "cell_type": "markdown",
   "metadata": {},
   "source": [
    "Tuning"
   ]
  },
  {
   "cell_type": "code",
   "execution_count": 93,
   "metadata": {},
   "outputs": [
    {
     "name": "stdout",
     "output_type": "stream",
     "text": [
      "Couldn't find program: 'false'\n"
     ]
    }
   ],
   "source": [
    "%%script false    # ---> como fazer o tune dos hyperparameters qd se tem o CountVectorizer antes no Pipeline\n",
    "%%time\n",
    "\n",
    "# Tuning\n",
    "\n",
    "pl_to_tune = Pipeline([('vec', CountVectorizer()), \n",
    "                     ('clf', LogisticRegression(class_weight='balanced',\n",
    "                                                solver='sag', max_iter=10000, random_state=SEED))])\n",
    "\n",
    "# hyperparameter grid\n",
    "param_grid = {'C': [0, 1, 2], 'penalty': ['l1', 'l2']}\n",
    "\n",
    "grid_logreg = GridSearchCV(pl_to_tune, param_grid=param_grid, cv=3, iid=False)\n",
    "\n",
    "grid_logreg.fit(X_train, y_train)\n",
    "\n",
    "# hyperparametes & accuracy\n",
    "print(\"\\nTuned Logistic Regression Parameters: {}\".format(grid_logreg.best_params_))\n",
    "print('All: accuracy score for {} with tuning: {}'.format(classifier, grid_logreg.score(X_test, y_test)))\n"
   ]
  },
  {
   "cell_type": "markdown",
   "metadata": {},
   "source": [
    "#### DecisionTreeClassifier"
   ]
  },
  {
   "cell_type": "code",
   "execution_count": 94,
   "metadata": {},
   "outputs": [],
   "source": [
    "from sklearn.tree import DecisionTreeClassifier"
   ]
  },
  {
   "cell_type": "markdown",
   "metadata": {},
   "source": [
    "All"
   ]
  },
  {
   "cell_type": "code",
   "execution_count": 95,
   "metadata": {},
   "outputs": [
    {
     "name": "stdout",
     "output_type": "stream",
     "text": [
      "accuracy score for DecisionTreeClassifier without tuning: 0.7713050638122684\n",
      "Wall time: 12 s\n"
     ]
    }
   ],
   "source": [
    "%%time\n",
    "\n",
    "classifier = 'DecisionTreeClassifier'\n",
    "\n",
    "SEED = 2\n",
    "\n",
    "X = dreams_df['dream']\n",
    "y = dreams_df['sex']        # target\n",
    "\n",
    "X_train, X_test, y_train, y_test = train_test_split(X, y, random_state=SEED)\n",
    "\n",
    "pl = Pipeline([('vec', CountVectorizer()), \n",
    "               ('clf', DecisionTreeClassifier(class_weight='balanced'))])   \n",
    "\n",
    "pl.fit(X_train, y_train)\n",
    "\n",
    "# accuracy\n",
    "print('accuracy score for {} without tuning: {}'.format(classifier, pl.score(X_test, y_test)))   # 0.4545080279950597\n",
    "\n",
    "#############################################\n",
    "\n",
    "# Tuning\n",
    "\n",
    "##############################################\n",
    "\n",
    "# Predictions\n",
    "\n"
   ]
  },
  {
   "cell_type": "code",
   "execution_count": null,
   "metadata": {},
   "outputs": [],
   "source": []
  },
  {
   "cell_type": "code",
   "execution_count": null,
   "metadata": {},
   "outputs": [],
   "source": []
  },
  {
   "cell_type": "code",
   "execution_count": null,
   "metadata": {},
   "outputs": [],
   "source": []
  },
  {
   "cell_type": "markdown",
   "metadata": {},
   "source": [
    "#### RandomForestClassifier"
   ]
  },
  {
   "cell_type": "code",
   "execution_count": 96,
   "metadata": {},
   "outputs": [],
   "source": [
    "from sklearn.ensemble import RandomForestClassifier"
   ]
  },
  {
   "cell_type": "markdown",
   "metadata": {},
   "source": [
    "All"
   ]
  },
  {
   "cell_type": "code",
   "execution_count": 97,
   "metadata": {},
   "outputs": [
    {
     "name": "stdout",
     "output_type": "stream",
     "text": [
      "accuracy score for RandomForestClassifier without tuning: 0.8266776451214491\n",
      "Wall time: 31.1 s\n"
     ]
    }
   ],
   "source": [
    "%%time\n",
    "\n",
    "classifier = 'RandomForestClassifier'\n",
    "\n",
    "SEED = 2\n",
    "\n",
    "X = dreams_df['dream']\n",
    "y = dreams_df['sex']        # target\n",
    "\n",
    "X_train, X_test, y_train, y_test = train_test_split(X, y, random_state=SEED)\n",
    "\n",
    "pl = Pipeline([('vec', CountVectorizer()), \n",
    "               ('clf', RandomForestClassifier(n_estimators=100, class_weight='balanced'))])\n",
    "\n",
    "pl.fit(X_train, y_train)\n",
    "\n",
    "# accuracy\n",
    "print('accuracy score for {} without tuning: {}'.format(classifier, pl.score(X_test, y_test)))  \n",
    "\n",
    "#############################################\n",
    "\n",
    "# Tuning\n",
    "\n",
    "##############################################\n",
    "\n",
    "# Predictions\n"
   ]
  },
  {
   "cell_type": "markdown",
   "metadata": {},
   "source": [
    "#### AdaBoostClassifier"
   ]
  },
  {
   "cell_type": "code",
   "execution_count": 98,
   "metadata": {},
   "outputs": [],
   "source": [
    "from sklearn.ensemble import AdaBoostClassifier"
   ]
  },
  {
   "cell_type": "markdown",
   "metadata": {},
   "source": [
    "All"
   ]
  },
  {
   "cell_type": "code",
   "execution_count": 99,
   "metadata": {},
   "outputs": [
    {
     "name": "stdout",
     "output_type": "stream",
     "text": [
      "accuracy score for AdaBoostClassifier (DecisionTreeClassifier) without tuning: 0.7686290654590366\n",
      "Wall time: 12.8 s\n"
     ]
    }
   ],
   "source": [
    "%%time \n",
    "\n",
    "classifier = 'AdaBoostClassifier (DecisionTreeClassifier)'\n",
    "\n",
    "SEED = 2\n",
    "\n",
    "X = dreams_df['dream']\n",
    "y = dreams_df['sex']        # target\n",
    "\n",
    "X_train, X_test, y_train, y_test = train_test_split(X, y, random_state=SEED)\n",
    "\n",
    "pl = Pipeline([('vec', CountVectorizer()), \n",
    "        ('clf', OneVsRestClassifier(AdaBoostClassifier(base_estimator=DecisionTreeClassifier(class_weight='balanced'))))]) \n",
    "\n",
    "pl.fit(X_train, y_train)\n",
    "\n",
    "# accuracy\n",
    "print('accuracy score for {} without tuning: {}'.format(classifier, pl.score(X_test, y_test)))  # 0.6414162206669412\n",
    "\n",
    "#############################################\n",
    "\n",
    "# Tuning\n",
    "\n",
    "##############################################\n",
    "\n",
    "# Predictions\n"
   ]
  },
  {
   "cell_type": "code",
   "execution_count": 100,
   "metadata": {},
   "outputs": [
    {
     "name": "stdout",
     "output_type": "stream",
     "text": [
      "accuracy score for AdaBoostClassifier w/ LogisticRegression without tuning: 0.4007822149032524\n",
      "Wall time: 22.3 s\n"
     ]
    }
   ],
   "source": [
    "%%time\n",
    "\n",
    "classifier = 'AdaBoostClassifier w/ LogisticRegression'\n",
    "\n",
    "SEED = 2\n",
    "\n",
    "X = dreams_df['dream']\n",
    "y = dreams_df['sex']        # target\n",
    "\n",
    "X_train, X_test, y_train, y_test = train_test_split(X, y, random_state=SEED)\n",
    "\n",
    "pl = Pipeline([\n",
    "    ('vec', CountVectorizer()), \n",
    "    ('clf', OneVsRestClassifier(AdaBoostClassifier(base_estimator=LogisticRegression(class_weight='balanced',\n",
    "                                                                                     solver='lbfgs', max_iter=10000))))\n",
    "    ])\n",
    "\n",
    "pl.fit(X_train, y_train)\n",
    "\n",
    "# accuracy\n",
    "print('accuracy score for {} without tuning: {}'.format(classifier, pl.score(X_test, y_test)))  \n",
    "\n",
    "#############################################                                                    \n",
    "\n",
    "# Tuning\n",
    "\n",
    "##############################################\n",
    "\n",
    "# Predictions\n"
   ]
  },
  {
   "cell_type": "code",
   "execution_count": null,
   "metadata": {},
   "outputs": [],
   "source": []
  },
  {
   "cell_type": "code",
   "execution_count": null,
   "metadata": {},
   "outputs": [],
   "source": []
  },
  {
   "cell_type": "markdown",
   "metadata": {},
   "source": [
    "#### KNeighborsClassifier"
   ]
  },
  {
   "cell_type": "code",
   "execution_count": 101,
   "metadata": {},
   "outputs": [],
   "source": [
    "from sklearn.neighbors import KNeighborsClassifier"
   ]
  },
  {
   "cell_type": "markdown",
   "metadata": {},
   "source": [
    "All"
   ]
  },
  {
   "cell_type": "code",
   "execution_count": 102,
   "metadata": {},
   "outputs": [
    {
     "name": "stdout",
     "output_type": "stream",
     "text": [
      "accuracy score for KNeighborsClassifier without tuning: 0.670646356525319\n"
     ]
    }
   ],
   "source": [
    "\n",
    "\n",
    "classifier = 'KNeighborsClassifier'\n",
    "\n",
    "SEED = 2\n",
    "\n",
    "X = dreams_df['dream']\n",
    "y = dreams_df['sex']        # target\n",
    "\n",
    "X_train, X_test, y_train, y_test = train_test_split(X, y, random_state=SEED)\n",
    "\n",
    "pl = Pipeline([('vec', CountVectorizer()), \n",
    "               ('clf', KNeighborsClassifier(n_neighbors=1))])   # tb n precisa de usar um multiclass antes\n",
    "\n",
    "pl.fit(X_train, y_train)\n",
    "\n",
    "# accuracy\n",
    "print('accuracy score for {} without tuning: {}'.format(classifier, pl.score(X_test, y_test)))    # 0.3108275010292301\n",
    "\n",
    "#############################################\n",
    "\n",
    "# Tuning\n",
    "\n",
    "##############################################\n",
    "\n",
    "# Predictions\n"
   ]
  },
  {
   "cell_type": "code",
   "execution_count": null,
   "metadata": {},
   "outputs": [],
   "source": []
  },
  {
   "cell_type": "code",
   "execution_count": 103,
   "metadata": {},
   "outputs": [],
   "source": [
    "# save to excel\n",
    "dreams_df.to_excel('dreams_df.xlsx')"
   ]
  },
  {
   "cell_type": "code",
   "execution_count": null,
   "metadata": {},
   "outputs": [],
   "source": []
  },
  {
   "cell_type": "code",
   "execution_count": null,
   "metadata": {},
   "outputs": [],
   "source": []
  },
  {
   "cell_type": "markdown",
   "metadata": {},
   "source": [
    "## 5) Evaluation \n",
    "<a id=\"evaluation\"></a>"
   ]
  },
  {
   "cell_type": "code",
   "execution_count": null,
   "metadata": {},
   "outputs": [],
   "source": []
  },
  {
   "cell_type": "code",
   "execution_count": null,
   "metadata": {},
   "outputs": [],
   "source": []
  },
  {
   "cell_type": "code",
   "execution_count": null,
   "metadata": {},
   "outputs": [],
   "source": []
  },
  {
   "cell_type": "code",
   "execution_count": null,
   "metadata": {},
   "outputs": [],
   "source": []
  },
  {
   "cell_type": "code",
   "execution_count": null,
   "metadata": {},
   "outputs": [],
   "source": []
  },
  {
   "cell_type": "markdown",
   "metadata": {},
   "source": [
    "## 6) Deployment"
   ]
  },
  {
   "cell_type": "code",
   "execution_count": null,
   "metadata": {},
   "outputs": [],
   "source": []
  }
 ],
 "metadata": {
  "kernelspec": {
   "display_name": "Python 3",
   "language": "python",
   "name": "python3"
  },
  "language_info": {
   "codemirror_mode": {
    "name": "ipython",
    "version": 3
   },
   "file_extension": ".py",
   "mimetype": "text/x-python",
   "name": "python",
   "nbconvert_exporter": "python",
   "pygments_lexer": "ipython3",
   "version": "3.7.3"
  }
 },
 "nbformat": 4,
 "nbformat_minor": 2
}
