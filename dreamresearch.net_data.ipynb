{
 "cells": [
  {
   "cell_type": "markdown",
   "metadata": {},
   "source": [
    "### dreambank.net"
   ]
  },
  {
   "cell_type": "markdown",
   "metadata": {},
   "source": [
    "Dreambank - data: http://www.dreambank.net/\n",
    "\n",
    "website com tudo: https://dreams.ucsc.edu/\n",
    "\n",
    "e-mail: dreams@dreamresearch.net  (ver o do William Domhoff) "
   ]
  },
  {
   "cell_type": "code",
   "execution_count": 1,
   "metadata": {},
   "outputs": [],
   "source": [
    "%matplotlib inline\n",
    "import pandas as pd\n",
    "import numpy as np\n",
    "import matplotlib.pyplot as plt\n",
    "import seaborn as sns\n",
    "sns.set()\n",
    "\n",
    "from sklearn.feature_extraction.text import CountVectorizer\n",
    "from sklearn.model_selection import train_test_split\n",
    "from sklearn.naive_bayes import MultinomialNB\n",
    "\n",
    "\n"
   ]
  },
  {
   "cell_type": "markdown",
   "metadata": {},
   "source": [
    "## Inspection, cleaning & EDA"
   ]
  },
  {
   "cell_type": "code",
   "execution_count": 2,
   "metadata": {},
   "outputs": [
    {
     "name": "stdout",
     "output_type": "stream",
     "text": [
      "<class 'pandas.core.frame.DataFrame'>\n",
      "RangeIndex: 125310 entries, 0 to 125309\n",
      "Data columns (total 5 columns):\n",
      "<dreambank>                        1 non-null object\n",
      "individual_collection              120 non-null object\n",
      "id_name_type_sex_age_time_dream    39844 non-null object\n",
      "number_date_report                 60185 non-null object\n",
      "codings                            25160 non-null object\n",
      "dtypes: object(5)\n",
      "memory usage: 4.8+ MB\n"
     ]
    }
   ],
   "source": [
    "dreambank = pd.read_excel('dreambank.xlsx')\n",
    "\n",
    "dreambank.info()"
   ]
  },
  {
   "cell_type": "code",
   "execution_count": 3,
   "metadata": {},
   "outputs": [],
   "source": [
    "# delete unnecessary column\n",
    "del dreambank['<dreambank>']"
   ]
  },
  {
   "cell_type": "code",
   "execution_count": 4,
   "metadata": {},
   "outputs": [
    {
     "data": {
      "text/html": [
       "<div>\n",
       "<style scoped>\n",
       "    .dataframe tbody tr th:only-of-type {\n",
       "        vertical-align: middle;\n",
       "    }\n",
       "\n",
       "    .dataframe tbody tr th {\n",
       "        vertical-align: top;\n",
       "    }\n",
       "\n",
       "    .dataframe thead th {\n",
       "        text-align: right;\n",
       "    }\n",
       "</style>\n",
       "<table border=\"1\" class=\"dataframe\">\n",
       "  <thead>\n",
       "    <tr style=\"text-align: right;\">\n",
       "      <th></th>\n",
       "      <th>individual_collection</th>\n",
       "      <th>id_name_type_sex_age_time_dream</th>\n",
       "      <th>number_date_report</th>\n",
       "      <th>codings</th>\n",
       "    </tr>\n",
       "  </thead>\n",
       "  <tbody>\n",
       "    <tr>\n",
       "      <th>0</th>\n",
       "      <td>&lt;collection&gt;</td>\n",
       "      <td>NaN</td>\n",
       "      <td>NaN</td>\n",
       "      <td>NaN</td>\n",
       "    </tr>\n",
       "    <tr>\n",
       "      <th>1</th>\n",
       "      <td>NaN</td>\n",
       "      <td>&lt;id&gt;alta&lt;/id&gt;</td>\n",
       "      <td>NaN</td>\n",
       "      <td>NaN</td>\n",
       "    </tr>\n",
       "    <tr>\n",
       "      <th>2</th>\n",
       "      <td>NaN</td>\n",
       "      <td>&lt;name&gt;Alta: a detailed dreamer&lt;/name&gt;</td>\n",
       "      <td>NaN</td>\n",
       "      <td>NaN</td>\n",
       "    </tr>\n",
       "    <tr>\n",
       "      <th>3</th>\n",
       "      <td>NaN</td>\n",
       "      <td>&lt;type&gt;series&lt;/type&gt;</td>\n",
       "      <td>NaN</td>\n",
       "      <td>NaN</td>\n",
       "    </tr>\n",
       "    <tr>\n",
       "      <th>4</th>\n",
       "      <td>NaN</td>\n",
       "      <td>&lt;sex&gt;F&lt;/sex&gt;</td>\n",
       "      <td>NaN</td>\n",
       "      <td>NaN</td>\n",
       "    </tr>\n",
       "    <tr>\n",
       "      <th>5</th>\n",
       "      <td>NaN</td>\n",
       "      <td>&lt;age&gt;A&lt;/age&gt;</td>\n",
       "      <td>NaN</td>\n",
       "      <td>NaN</td>\n",
       "    </tr>\n",
       "    <tr>\n",
       "      <th>6</th>\n",
       "      <td>NaN</td>\n",
       "      <td>&lt;time&gt;1985-1997&lt;/time&gt;</td>\n",
       "      <td>NaN</td>\n",
       "      <td>NaN</td>\n",
       "    </tr>\n",
       "    <tr>\n",
       "      <th>7</th>\n",
       "      <td>NaN</td>\n",
       "      <td>&lt;dream&gt;</td>\n",
       "      <td>NaN</td>\n",
       "      <td>NaN</td>\n",
       "    </tr>\n",
       "    <tr>\n",
       "      <th>8</th>\n",
       "      <td>NaN</td>\n",
       "      <td>NaN</td>\n",
       "      <td>&lt;number&gt;1&lt;/number&gt;</td>\n",
       "      <td>NaN</td>\n",
       "    </tr>\n",
       "    <tr>\n",
       "      <th>9</th>\n",
       "      <td>NaN</td>\n",
       "      <td>NaN</td>\n",
       "      <td>&lt;date&gt;1957&lt;/date&gt;</td>\n",
       "      <td>NaN</td>\n",
       "    </tr>\n",
       "    <tr>\n",
       "      <th>10</th>\n",
       "      <td>NaN</td>\n",
       "      <td>NaN</td>\n",
       "      <td>&lt;report&gt;&lt;![CDATA[The one at the Meads's house,...</td>\n",
       "      <td>NaN</td>\n",
       "    </tr>\n",
       "    <tr>\n",
       "      <th>11</th>\n",
       "      <td>NaN</td>\n",
       "      <td>&lt;/dream&gt;</td>\n",
       "      <td>NaN</td>\n",
       "      <td>NaN</td>\n",
       "    </tr>\n",
       "  </tbody>\n",
       "</table>\n",
       "</div>"
      ],
      "text/plain": [
       "   individual_collection        id_name_type_sex_age_time_dream  \\\n",
       "0           <collection>                                    NaN   \n",
       "1                    NaN                          <id>alta</id>   \n",
       "2                    NaN  <name>Alta: a detailed dreamer</name>   \n",
       "3                    NaN                    <type>series</type>   \n",
       "4                    NaN                           <sex>F</sex>   \n",
       "5                    NaN                           <age>A</age>   \n",
       "6                    NaN                 <time>1985-1997</time>   \n",
       "7                    NaN                                <dream>   \n",
       "8                    NaN                                    NaN   \n",
       "9                    NaN                                    NaN   \n",
       "10                   NaN                                    NaN   \n",
       "11                   NaN                               </dream>   \n",
       "\n",
       "                                   number_date_report codings  \n",
       "0                                                 NaN     NaN  \n",
       "1                                                 NaN     NaN  \n",
       "2                                                 NaN     NaN  \n",
       "3                                                 NaN     NaN  \n",
       "4                                                 NaN     NaN  \n",
       "5                                                 NaN     NaN  \n",
       "6                                                 NaN     NaN  \n",
       "7                                                 NaN     NaN  \n",
       "8                                  <number>1</number>     NaN  \n",
       "9                                   <date>1957</date>     NaN  \n",
       "10  <report><![CDATA[The one at the Meads's house,...     NaN  \n",
       "11                                                NaN     NaN  "
      ]
     },
     "execution_count": 4,
     "metadata": {},
     "output_type": "execute_result"
    }
   ],
   "source": [
    "# head\n",
    "dreambank.head(12)"
   ]
  },
  {
   "cell_type": "code",
   "execution_count": 5,
   "metadata": {},
   "outputs": [
    {
     "data": {
      "text/plain": [
       "<mod>I+</mod>                              754\n",
       "<obj>AR</obj>                              648\n",
       "<char>1MKA</char>                          574\n",
       "<act><code>M</code><init>D</init></act>    537\n",
       "<obj>TR</obj>                              492\n",
       "<char>1FKA</char>                          486\n",
       "<act><code>P</code><init>D</init></act>    476\n",
       "<act><code>S</code><init>D</init></act>    462\n",
       "<obj>HH</obj>                              459\n",
       "<obj>NA</obj>                              424\n",
       "Name: codings, dtype: int64"
      ]
     },
     "execution_count": 5,
     "metadata": {},
     "output_type": "execute_result"
    }
   ],
   "source": [
    "# dreambank.net codings - ver dps\n",
    "dreambank['codings'].value_counts().head(10)"
   ]
  },
  {
   "cell_type": "code",
   "execution_count": null,
   "metadata": {},
   "outputs": [],
   "source": []
  },
  {
   "cell_type": "code",
   "execution_count": null,
   "metadata": {},
   "outputs": [],
   "source": []
  },
  {
   "cell_type": "code",
   "execution_count": 6,
   "metadata": {},
   "outputs": [
    {
     "data": {
      "text/plain": [
       "<collection>     60\n",
       "</collection>    60\n",
       "Name: individual_collection, dtype: int64"
      ]
     },
     "execution_count": 6,
     "metadata": {},
     "output_type": "execute_result"
    }
   ],
   "source": [
    "# 60 individuals\n",
    "dreambank.individual_collection.value_counts()"
   ]
  },
  {
   "cell_type": "code",
   "execution_count": 7,
   "metadata": {},
   "outputs": [
    {
     "data": {
      "text/plain": [
       "</dream>                    19743\n",
       "<dream>                     19743\n",
       "<type>series</type>            44\n",
       "<sex>F</sex>                   33\n",
       "<sex>M</sex>                   27\n",
       "<age>Y</age>                   24\n",
       "<age>A</age>                   21\n",
       "<type>set</type>               16\n",
       "<age>T</age>                    9\n",
       "<age>C</age>                    4\n",
       "<time>1996</time>               3\n",
       "<time>1998</time>               3\n",
       "<time>mid-1990s</time>          3\n",
       "<time>1970</time>               2\n",
       "<time>1963-1965</time>          2\n",
       "<time>1940s-1950s</time>        2\n",
       "<time>1996-1997</time>          2\n",
       "<time>1962</time>               2\n",
       "<id>phil2</id>                  1\n",
       "<id>hall_female</id>            1\n",
       "Name: id_name_type_sex_age_time_dream, dtype: int64"
      ]
     },
     "execution_count": 7,
     "metadata": {},
     "output_type": "execute_result"
    }
   ],
   "source": [
    "# 19743 dreams\n",
    "dreambank.id_name_type_sex_age_time_dream.value_counts().head(20)"
   ]
  },
  {
   "cell_type": "code",
   "execution_count": 8,
   "metadata": {},
   "outputs": [
    {
     "data": {
      "text/html": [
       "<div>\n",
       "<style scoped>\n",
       "    .dataframe tbody tr th:only-of-type {\n",
       "        vertical-align: middle;\n",
       "    }\n",
       "\n",
       "    .dataframe tbody tr th {\n",
       "        vertical-align: top;\n",
       "    }\n",
       "\n",
       "    .dataframe thead th {\n",
       "        text-align: right;\n",
       "    }\n",
       "</style>\n",
       "<table border=\"1\" class=\"dataframe\">\n",
       "  <thead>\n",
       "    <tr style=\"text-align: right;\">\n",
       "      <th></th>\n",
       "      <th>individual_collection</th>\n",
       "      <th>id_name_type_sex_age_time_dream</th>\n",
       "      <th>number_date_report</th>\n",
       "      <th>codings</th>\n",
       "    </tr>\n",
       "  </thead>\n",
       "  <tbody>\n",
       "    <tr>\n",
       "      <th>0</th>\n",
       "      <td>&lt;collection&gt;</td>\n",
       "      <td>NaN</td>\n",
       "      <td>NaN</td>\n",
       "      <td>NaN</td>\n",
       "    </tr>\n",
       "    <tr>\n",
       "      <th>1</th>\n",
       "      <td>NaN</td>\n",
       "      <td>&lt;id&gt;alta&lt;/id&gt;</td>\n",
       "      <td>NaN</td>\n",
       "      <td>NaN</td>\n",
       "    </tr>\n",
       "    <tr>\n",
       "      <th>2</th>\n",
       "      <td>NaN</td>\n",
       "      <td>&lt;name&gt;Alta: a detailed dreamer&lt;/name&gt;</td>\n",
       "      <td>NaN</td>\n",
       "      <td>NaN</td>\n",
       "    </tr>\n",
       "    <tr>\n",
       "      <th>3</th>\n",
       "      <td>NaN</td>\n",
       "      <td>&lt;type&gt;series&lt;/type&gt;</td>\n",
       "      <td>NaN</td>\n",
       "      <td>NaN</td>\n",
       "    </tr>\n",
       "    <tr>\n",
       "      <th>4</th>\n",
       "      <td>NaN</td>\n",
       "      <td>&lt;sex&gt;F&lt;/sex&gt;</td>\n",
       "      <td>NaN</td>\n",
       "      <td>NaN</td>\n",
       "    </tr>\n",
       "    <tr>\n",
       "      <th>5</th>\n",
       "      <td>NaN</td>\n",
       "      <td>&lt;age&gt;A&lt;/age&gt;</td>\n",
       "      <td>NaN</td>\n",
       "      <td>NaN</td>\n",
       "    </tr>\n",
       "    <tr>\n",
       "      <th>6</th>\n",
       "      <td>NaN</td>\n",
       "      <td>&lt;time&gt;1985-1997&lt;/time&gt;</td>\n",
       "      <td>NaN</td>\n",
       "      <td>NaN</td>\n",
       "    </tr>\n",
       "    <tr>\n",
       "      <th>7</th>\n",
       "      <td>NaN</td>\n",
       "      <td>&lt;dream&gt;</td>\n",
       "      <td>NaN</td>\n",
       "      <td>NaN</td>\n",
       "    </tr>\n",
       "    <tr>\n",
       "      <th>8</th>\n",
       "      <td>NaN</td>\n",
       "      <td>NaN</td>\n",
       "      <td>&lt;number&gt;1&lt;/number&gt;</td>\n",
       "      <td>NaN</td>\n",
       "    </tr>\n",
       "    <tr>\n",
       "      <th>9</th>\n",
       "      <td>NaN</td>\n",
       "      <td>NaN</td>\n",
       "      <td>&lt;date&gt;1957&lt;/date&gt;</td>\n",
       "      <td>NaN</td>\n",
       "    </tr>\n",
       "    <tr>\n",
       "      <th>10</th>\n",
       "      <td>NaN</td>\n",
       "      <td>NaN</td>\n",
       "      <td>&lt;report&gt;&lt;![CDATA[The one at the Meads's house,...</td>\n",
       "      <td>NaN</td>\n",
       "    </tr>\n",
       "    <tr>\n",
       "      <th>11</th>\n",
       "      <td>NaN</td>\n",
       "      <td>&lt;/dream&gt;</td>\n",
       "      <td>NaN</td>\n",
       "      <td>NaN</td>\n",
       "    </tr>\n",
       "    <tr>\n",
       "      <th>12</th>\n",
       "      <td>NaN</td>\n",
       "      <td>&lt;dream&gt;</td>\n",
       "      <td>NaN</td>\n",
       "      <td>NaN</td>\n",
       "    </tr>\n",
       "    <tr>\n",
       "      <th>13</th>\n",
       "      <td>NaN</td>\n",
       "      <td>NaN</td>\n",
       "      <td>&lt;number&gt;10&lt;/number&gt;</td>\n",
       "      <td>NaN</td>\n",
       "    </tr>\n",
       "    <tr>\n",
       "      <th>14</th>\n",
       "      <td>NaN</td>\n",
       "      <td>NaN</td>\n",
       "      <td>&lt;date&gt;1985?&lt;/date&gt;</td>\n",
       "      <td>NaN</td>\n",
       "    </tr>\n",
       "  </tbody>\n",
       "</table>\n",
       "</div>"
      ],
      "text/plain": [
       "   individual_collection        id_name_type_sex_age_time_dream  \\\n",
       "0           <collection>                                    NaN   \n",
       "1                    NaN                          <id>alta</id>   \n",
       "2                    NaN  <name>Alta: a detailed dreamer</name>   \n",
       "3                    NaN                    <type>series</type>   \n",
       "4                    NaN                           <sex>F</sex>   \n",
       "5                    NaN                           <age>A</age>   \n",
       "6                    NaN                 <time>1985-1997</time>   \n",
       "7                    NaN                                <dream>   \n",
       "8                    NaN                                    NaN   \n",
       "9                    NaN                                    NaN   \n",
       "10                   NaN                                    NaN   \n",
       "11                   NaN                               </dream>   \n",
       "12                   NaN                                <dream>   \n",
       "13                   NaN                                    NaN   \n",
       "14                   NaN                                    NaN   \n",
       "\n",
       "                                   number_date_report codings  \n",
       "0                                                 NaN     NaN  \n",
       "1                                                 NaN     NaN  \n",
       "2                                                 NaN     NaN  \n",
       "3                                                 NaN     NaN  \n",
       "4                                                 NaN     NaN  \n",
       "5                                                 NaN     NaN  \n",
       "6                                                 NaN     NaN  \n",
       "7                                                 NaN     NaN  \n",
       "8                                  <number>1</number>     NaN  \n",
       "9                                   <date>1957</date>     NaN  \n",
       "10  <report><![CDATA[The one at the Meads's house,...     NaN  \n",
       "11                                                NaN     NaN  \n",
       "12                                                NaN     NaN  \n",
       "13                                <number>10</number>     NaN  \n",
       "14                                 <date>1985?</date>     NaN  "
      ]
     },
     "execution_count": 8,
     "metadata": {},
     "output_type": "execute_result"
    }
   ],
   "source": [
    "dreambank.head(15)"
   ]
  },
  {
   "cell_type": "code",
   "execution_count": 9,
   "metadata": {},
   "outputs": [
    {
     "data": {
      "text/plain": [
       "b              18131\n",
       "norms-f        12850\n",
       "norms-m        12156\n",
       "kenneth        10118\n",
       "emma            9161\n",
       "norman          6183\n",
       "b2              5698\n",
       "pegasus         5473\n",
       "dorothea        4507\n",
       "hall_female     3413\n",
       "Name: id, dtype: int64"
      ]
     },
     "execution_count": 9,
     "metadata": {},
     "output_type": "execute_result"
    }
   ],
   "source": [
    "# create 'id' column\n",
    "\n",
    "def recode_id(line): \n",
    "    if type(line) == float:\n",
    "        return np.nan\n",
    "    elif line.startswith(\"<id>\"):\n",
    "        return line[4:-5]\n",
    "    else:\n",
    "        return np.nan\n",
    "\n",
    "dreambank['id'] = dreambank['id_name_type_sex_age_time_dream'].apply(recode_id).fillna(method='ffill')\n",
    "\n",
    "# id's\n",
    "dreambank.id.value_counts().head(10)"
   ]
  },
  {
   "cell_type": "code",
   "execution_count": 10,
   "metadata": {},
   "outputs": [
    {
     "data": {
      "text/plain": [
       "Barb Sanders                    18131\n",
       "Hall/VdC Norms: Female          12850\n",
       "Hall/VdC Norms: Male            12156\n",
       "Kenneth                         10118\n",
       "Emma: 48 years of dreams         9161\n",
       "Norman: a child molester         6183\n",
       "Barb Sanders #2                  5698\n",
       "Pegasus: a factory worker        5473\n",
       "Dorothea: 53 years of dreams     4507\n",
       "College women, late 1940s        3413\n",
       "Name: name, dtype: int64"
      ]
     },
     "execution_count": 10,
     "metadata": {},
     "output_type": "execute_result"
    }
   ],
   "source": [
    "# create 'name' column\n",
    "\n",
    "def recode_name(line): \n",
    "    if type(line) == float:\n",
    "        return np.nan\n",
    "    elif line.startswith(\"<name>\"):\n",
    "        return line[6:-7]\n",
    "    else:\n",
    "        return np.nan\n",
    "\n",
    "dreambank['name'] = dreambank['id_name_type_sex_age_time_dream'].apply(recode_name).fillna(method='ffill')\n",
    "\n",
    "# names\n",
    "dreambank.name.value_counts().head(10)"
   ]
  },
  {
   "cell_type": "code",
   "execution_count": 11,
   "metadata": {},
   "outputs": [
    {
     "data": {
      "text/plain": [
       "series    85616\n",
       "set       39691\n",
       "Name: type, dtype: int64"
      ]
     },
     "execution_count": 11,
     "metadata": {},
     "output_type": "execute_result"
    }
   ],
   "source": [
    "# create 'type' column\n",
    "\n",
    "def recode_type(line): \n",
    "    if type(line) == float:\n",
    "        return np.nan\n",
    "    elif line.startswith(\"<type>\"):\n",
    "        return line[6:-7]\n",
    "    else:\n",
    "        return np.nan\n",
    "\n",
    "dreambank['type'] = dreambank['id_name_type_sex_age_time_dream'].apply(recode_type).fillna(method='ffill')\n",
    "\n",
    "# types\n",
    "dreambank.type.value_counts()"
   ]
  },
  {
   "cell_type": "code",
   "execution_count": 12,
   "metadata": {},
   "outputs": [
    {
     "name": "stdout",
     "output_type": "stream",
     "text": [
      "F    76518\n",
      "M    48788\n",
      "Name: sex, dtype: int64\n"
     ]
    },
    {
     "data": {
      "text/plain": [
       "F    32\n",
       "M    27\n",
       "Name: sex, dtype: int64"
      ]
     },
     "execution_count": 12,
     "metadata": {},
     "output_type": "execute_result"
    }
   ],
   "source": [
    "# create 'sex' column\n",
    "\n",
    "def recode_sex(line): \n",
    "    if type(line) == float:\n",
    "        return np.nan\n",
    "    elif line.startswith(\"<sex>\"):\n",
    "        return line[5:-6]\n",
    "    else:\n",
    "        return np.nan\n",
    "\n",
    "dreambank['sex'] = dreambank['id_name_type_sex_age_time_dream'].apply(recode_sex).fillna(method='ffill')\n",
    "\n",
    "# genders\n",
    "print(dreambank.sex.value_counts())\n",
    "\n",
    "dreambank.drop_duplicates('name').sex.value_counts()"
   ]
  },
  {
   "cell_type": "code",
   "execution_count": 13,
   "metadata": {},
   "outputs": [
    {
     "data": {
      "text/plain": [
       "Y     51958\n",
       "A     45159\n",
       "YA    18131\n",
       "T      7566\n",
       "C      1933\n",
       "TY      558\n",
       "Name: age, dtype: int64"
      ]
     },
     "execution_count": 13,
     "metadata": {},
     "output_type": "execute_result"
    }
   ],
   "source": [
    "# create 'age' column\n",
    "\n",
    "def recode_age(line): \n",
    "    if type(line) == float:\n",
    "        return np.nan\n",
    "    elif line.startswith(\"<age>\"):\n",
    "        return line[5:-6]\n",
    "    else:\n",
    "        return np.nan\n",
    "\n",
    "dreambank['age'] = dreambank['id_name_type_sex_age_time_dream'].apply(recode_age).fillna(method='ffill')\n",
    "\n",
    "# ages\n",
    "dreambank.age.value_counts()"
   ]
  },
  {
   "cell_type": "code",
   "execution_count": 14,
   "metadata": {},
   "outputs": [
    {
     "data": {
      "text/plain": [
       "1940s-1950s    25006\n",
       "1960-1997      18131\n",
       "1996-1998      10118\n",
       "1949-1997       9161\n",
       "1963-1967       6183\n",
       "Name: time, dtype: int64"
      ]
     },
     "execution_count": 14,
     "metadata": {},
     "output_type": "execute_result"
    }
   ],
   "source": [
    "# create 'time' column\n",
    "\n",
    "def recode_time(line): \n",
    "    if type(line) == float:\n",
    "        return np.nan\n",
    "    elif line.startswith(\"<time>\"):\n",
    "        return line[6:-7]\n",
    "    else:\n",
    "        return np.nan\n",
    "\n",
    "dreambank['time'] = dreambank['id_name_type_sex_age_time_dream'].apply(recode_time).fillna(method='ffill')\n",
    "\n",
    "# time\n",
    "dreambank.time.value_counts().head()"
   ]
  },
  {
   "cell_type": "code",
   "execution_count": 15,
   "metadata": {},
   "outputs": [
    {
     "data": {
      "text/plain": [
       "1940-1950     25006\n",
       "1960-1997     18131\n",
       "1996-1998     10118\n",
       "1949-1997      9161\n",
       "1963-1967      6183\n",
       "1997-2001      5698\n",
       "1949-1964      5473\n",
       "1912-1965      4507\n",
       "1946-1950      3413\n",
       "2003-2005      3217\n",
       "1970           3079\n",
       "mid-1990s      2463\n",
       "1963-1965      2241\n",
       "1985-1997      2118\n",
       "1996-1997      1956\n",
       "2001-2003      1748\n",
       "1980-2002      1746\n",
       "1962           1711\n",
       "1999-2000      1583\n",
       "1998           1544\n",
       "2003-2004      1478\n",
       "1939           1178\n",
       "1971           1108\n",
       "1992-1998      1068\n",
       "1996           1014\n",
       "2000-2001       938\n",
       "2004            908\n",
       "1990-1999       838\n",
       "1957-1959       538\n",
       "1968            508\n",
       "1997-2000       498\n",
       "1991-1993       486\n",
       "1998-2000       453\n",
       "2000            443\n",
       "1897-1918       438\n",
       "1940-1998       367\n",
       "2007-2010       323\n",
       "1992-1999       323\n",
       "1997            184\n",
       "1995            178\n",
       "mid-1980s       176\n",
       "2003-2006       173\n",
       "late 1990s      160\n",
       "1997-1999       123\n",
       "1990s           116\n",
       "1948-1949       103\n",
       "1964             88\n",
       "Name: time, dtype: int64"
      ]
     },
     "execution_count": 15,
     "metadata": {},
     "output_type": "execute_result"
    }
   ],
   "source": [
    "# replace '1940s-1950s' with '1940-1950'\n",
    "dreambank['time'] = dreambank['time'].replace('1940s-1950s', '1940-1950')\n",
    "\n",
    "# time\n",
    "dreambank.time.value_counts()"
   ]
  },
  {
   "cell_type": "code",
   "execution_count": 16,
   "metadata": {},
   "outputs": [
    {
     "data": {
      "text/html": [
       "<div>\n",
       "<style scoped>\n",
       "    .dataframe tbody tr th:only-of-type {\n",
       "        vertical-align: middle;\n",
       "    }\n",
       "\n",
       "    .dataframe tbody tr th {\n",
       "        vertical-align: top;\n",
       "    }\n",
       "\n",
       "    .dataframe thead th {\n",
       "        text-align: right;\n",
       "    }\n",
       "</style>\n",
       "<table border=\"1\" class=\"dataframe\">\n",
       "  <thead>\n",
       "    <tr style=\"text-align: right;\">\n",
       "      <th></th>\n",
       "      <th>individual_collection</th>\n",
       "      <th>id_name_type_sex_age_time_dream</th>\n",
       "      <th>number_date_report</th>\n",
       "      <th>codings</th>\n",
       "      <th>id</th>\n",
       "      <th>name</th>\n",
       "      <th>type</th>\n",
       "      <th>sex</th>\n",
       "      <th>age</th>\n",
       "      <th>time</th>\n",
       "    </tr>\n",
       "  </thead>\n",
       "  <tbody>\n",
       "    <tr>\n",
       "      <th>0</th>\n",
       "      <td>&lt;collection&gt;</td>\n",
       "      <td>NaN</td>\n",
       "      <td>NaN</td>\n",
       "      <td>NaN</td>\n",
       "      <td>NaN</td>\n",
       "      <td>NaN</td>\n",
       "      <td>NaN</td>\n",
       "      <td>NaN</td>\n",
       "      <td>NaN</td>\n",
       "      <td>NaN</td>\n",
       "    </tr>\n",
       "    <tr>\n",
       "      <th>1</th>\n",
       "      <td>NaN</td>\n",
       "      <td>&lt;id&gt;alta&lt;/id&gt;</td>\n",
       "      <td>NaN</td>\n",
       "      <td>NaN</td>\n",
       "      <td>alta</td>\n",
       "      <td>NaN</td>\n",
       "      <td>NaN</td>\n",
       "      <td>NaN</td>\n",
       "      <td>NaN</td>\n",
       "      <td>NaN</td>\n",
       "    </tr>\n",
       "    <tr>\n",
       "      <th>2</th>\n",
       "      <td>NaN</td>\n",
       "      <td>&lt;name&gt;Alta: a detailed dreamer&lt;/name&gt;</td>\n",
       "      <td>NaN</td>\n",
       "      <td>NaN</td>\n",
       "      <td>alta</td>\n",
       "      <td>Alta: a detailed dreamer</td>\n",
       "      <td>NaN</td>\n",
       "      <td>NaN</td>\n",
       "      <td>NaN</td>\n",
       "      <td>NaN</td>\n",
       "    </tr>\n",
       "    <tr>\n",
       "      <th>3</th>\n",
       "      <td>NaN</td>\n",
       "      <td>&lt;type&gt;series&lt;/type&gt;</td>\n",
       "      <td>NaN</td>\n",
       "      <td>NaN</td>\n",
       "      <td>alta</td>\n",
       "      <td>Alta: a detailed dreamer</td>\n",
       "      <td>series</td>\n",
       "      <td>NaN</td>\n",
       "      <td>NaN</td>\n",
       "      <td>NaN</td>\n",
       "    </tr>\n",
       "    <tr>\n",
       "      <th>4</th>\n",
       "      <td>NaN</td>\n",
       "      <td>&lt;sex&gt;F&lt;/sex&gt;</td>\n",
       "      <td>NaN</td>\n",
       "      <td>NaN</td>\n",
       "      <td>alta</td>\n",
       "      <td>Alta: a detailed dreamer</td>\n",
       "      <td>series</td>\n",
       "      <td>F</td>\n",
       "      <td>NaN</td>\n",
       "      <td>NaN</td>\n",
       "    </tr>\n",
       "    <tr>\n",
       "      <th>5</th>\n",
       "      <td>NaN</td>\n",
       "      <td>&lt;age&gt;A&lt;/age&gt;</td>\n",
       "      <td>NaN</td>\n",
       "      <td>NaN</td>\n",
       "      <td>alta</td>\n",
       "      <td>Alta: a detailed dreamer</td>\n",
       "      <td>series</td>\n",
       "      <td>F</td>\n",
       "      <td>A</td>\n",
       "      <td>NaN</td>\n",
       "    </tr>\n",
       "    <tr>\n",
       "      <th>6</th>\n",
       "      <td>NaN</td>\n",
       "      <td>&lt;time&gt;1985-1997&lt;/time&gt;</td>\n",
       "      <td>NaN</td>\n",
       "      <td>NaN</td>\n",
       "      <td>alta</td>\n",
       "      <td>Alta: a detailed dreamer</td>\n",
       "      <td>series</td>\n",
       "      <td>F</td>\n",
       "      <td>A</td>\n",
       "      <td>1985-1997</td>\n",
       "    </tr>\n",
       "    <tr>\n",
       "      <th>7</th>\n",
       "      <td>NaN</td>\n",
       "      <td>&lt;dream&gt;</td>\n",
       "      <td>NaN</td>\n",
       "      <td>NaN</td>\n",
       "      <td>alta</td>\n",
       "      <td>Alta: a detailed dreamer</td>\n",
       "      <td>series</td>\n",
       "      <td>F</td>\n",
       "      <td>A</td>\n",
       "      <td>1985-1997</td>\n",
       "    </tr>\n",
       "    <tr>\n",
       "      <th>8</th>\n",
       "      <td>NaN</td>\n",
       "      <td>NaN</td>\n",
       "      <td>&lt;number&gt;1&lt;/number&gt;</td>\n",
       "      <td>NaN</td>\n",
       "      <td>alta</td>\n",
       "      <td>Alta: a detailed dreamer</td>\n",
       "      <td>series</td>\n",
       "      <td>F</td>\n",
       "      <td>A</td>\n",
       "      <td>1985-1997</td>\n",
       "    </tr>\n",
       "    <tr>\n",
       "      <th>9</th>\n",
       "      <td>NaN</td>\n",
       "      <td>NaN</td>\n",
       "      <td>&lt;date&gt;1957&lt;/date&gt;</td>\n",
       "      <td>NaN</td>\n",
       "      <td>alta</td>\n",
       "      <td>Alta: a detailed dreamer</td>\n",
       "      <td>series</td>\n",
       "      <td>F</td>\n",
       "      <td>A</td>\n",
       "      <td>1985-1997</td>\n",
       "    </tr>\n",
       "    <tr>\n",
       "      <th>10</th>\n",
       "      <td>NaN</td>\n",
       "      <td>NaN</td>\n",
       "      <td>&lt;report&gt;&lt;![CDATA[The one at the Meads's house,...</td>\n",
       "      <td>NaN</td>\n",
       "      <td>alta</td>\n",
       "      <td>Alta: a detailed dreamer</td>\n",
       "      <td>series</td>\n",
       "      <td>F</td>\n",
       "      <td>A</td>\n",
       "      <td>1985-1997</td>\n",
       "    </tr>\n",
       "    <tr>\n",
       "      <th>11</th>\n",
       "      <td>NaN</td>\n",
       "      <td>&lt;/dream&gt;</td>\n",
       "      <td>NaN</td>\n",
       "      <td>NaN</td>\n",
       "      <td>alta</td>\n",
       "      <td>Alta: a detailed dreamer</td>\n",
       "      <td>series</td>\n",
       "      <td>F</td>\n",
       "      <td>A</td>\n",
       "      <td>1985-1997</td>\n",
       "    </tr>\n",
       "    <tr>\n",
       "      <th>12</th>\n",
       "      <td>NaN</td>\n",
       "      <td>&lt;dream&gt;</td>\n",
       "      <td>NaN</td>\n",
       "      <td>NaN</td>\n",
       "      <td>alta</td>\n",
       "      <td>Alta: a detailed dreamer</td>\n",
       "      <td>series</td>\n",
       "      <td>F</td>\n",
       "      <td>A</td>\n",
       "      <td>1985-1997</td>\n",
       "    </tr>\n",
       "    <tr>\n",
       "      <th>13</th>\n",
       "      <td>NaN</td>\n",
       "      <td>NaN</td>\n",
       "      <td>&lt;number&gt;10&lt;/number&gt;</td>\n",
       "      <td>NaN</td>\n",
       "      <td>alta</td>\n",
       "      <td>Alta: a detailed dreamer</td>\n",
       "      <td>series</td>\n",
       "      <td>F</td>\n",
       "      <td>A</td>\n",
       "      <td>1985-1997</td>\n",
       "    </tr>\n",
       "    <tr>\n",
       "      <th>14</th>\n",
       "      <td>NaN</td>\n",
       "      <td>NaN</td>\n",
       "      <td>&lt;date&gt;1985?&lt;/date&gt;</td>\n",
       "      <td>NaN</td>\n",
       "      <td>alta</td>\n",
       "      <td>Alta: a detailed dreamer</td>\n",
       "      <td>series</td>\n",
       "      <td>F</td>\n",
       "      <td>A</td>\n",
       "      <td>1985-1997</td>\n",
       "    </tr>\n",
       "  </tbody>\n",
       "</table>\n",
       "</div>"
      ],
      "text/plain": [
       "   individual_collection        id_name_type_sex_age_time_dream  \\\n",
       "0           <collection>                                    NaN   \n",
       "1                    NaN                          <id>alta</id>   \n",
       "2                    NaN  <name>Alta: a detailed dreamer</name>   \n",
       "3                    NaN                    <type>series</type>   \n",
       "4                    NaN                           <sex>F</sex>   \n",
       "5                    NaN                           <age>A</age>   \n",
       "6                    NaN                 <time>1985-1997</time>   \n",
       "7                    NaN                                <dream>   \n",
       "8                    NaN                                    NaN   \n",
       "9                    NaN                                    NaN   \n",
       "10                   NaN                                    NaN   \n",
       "11                   NaN                               </dream>   \n",
       "12                   NaN                                <dream>   \n",
       "13                   NaN                                    NaN   \n",
       "14                   NaN                                    NaN   \n",
       "\n",
       "                                   number_date_report codings    id  \\\n",
       "0                                                 NaN     NaN   NaN   \n",
       "1                                                 NaN     NaN  alta   \n",
       "2                                                 NaN     NaN  alta   \n",
       "3                                                 NaN     NaN  alta   \n",
       "4                                                 NaN     NaN  alta   \n",
       "5                                                 NaN     NaN  alta   \n",
       "6                                                 NaN     NaN  alta   \n",
       "7                                                 NaN     NaN  alta   \n",
       "8                                  <number>1</number>     NaN  alta   \n",
       "9                                   <date>1957</date>     NaN  alta   \n",
       "10  <report><![CDATA[The one at the Meads's house,...     NaN  alta   \n",
       "11                                                NaN     NaN  alta   \n",
       "12                                                NaN     NaN  alta   \n",
       "13                                <number>10</number>     NaN  alta   \n",
       "14                                 <date>1985?</date>     NaN  alta   \n",
       "\n",
       "                        name    type  sex  age       time  \n",
       "0                        NaN     NaN  NaN  NaN        NaN  \n",
       "1                        NaN     NaN  NaN  NaN        NaN  \n",
       "2   Alta: a detailed dreamer     NaN  NaN  NaN        NaN  \n",
       "3   Alta: a detailed dreamer  series  NaN  NaN        NaN  \n",
       "4   Alta: a detailed dreamer  series    F  NaN        NaN  \n",
       "5   Alta: a detailed dreamer  series    F    A        NaN  \n",
       "6   Alta: a detailed dreamer  series    F    A  1985-1997  \n",
       "7   Alta: a detailed dreamer  series    F    A  1985-1997  \n",
       "8   Alta: a detailed dreamer  series    F    A  1985-1997  \n",
       "9   Alta: a detailed dreamer  series    F    A  1985-1997  \n",
       "10  Alta: a detailed dreamer  series    F    A  1985-1997  \n",
       "11  Alta: a detailed dreamer  series    F    A  1985-1997  \n",
       "12  Alta: a detailed dreamer  series    F    A  1985-1997  \n",
       "13  Alta: a detailed dreamer  series    F    A  1985-1997  \n",
       "14  Alta: a detailed dreamer  series    F    A  1985-1997  "
      ]
     },
     "execution_count": 16,
     "metadata": {},
     "output_type": "execute_result"
    }
   ],
   "source": [
    "dreambank.head(15)"
   ]
  },
  {
   "cell_type": "code",
   "execution_count": 17,
   "metadata": {},
   "outputs": [],
   "source": [
    "# create 'dream_number' & 'dream_date' columns\n",
    "\n",
    "# number\n",
    "def recode_number(line): \n",
    "    if type(line) == float:\n",
    "        return np.nan\n",
    "    elif line.startswith(\"<number>\"):\n",
    "        return line[8:-9]\n",
    "    else:\n",
    "        return np.nan\n",
    "    \n",
    "# date\n",
    "def recode_date(line): \n",
    "    if type(line) == float:\n",
    "        return np.nan\n",
    "    elif line.startswith(\"<date>\"):\n",
    "        return line[6:-7]\n",
    "    else:\n",
    "        return np.nan  \n",
    "\n",
    "dreambank['dream_number'] = dreambank['number_date_report'].apply(recode_number).fillna(method='ffill')\n",
    "dreambank['dream_date'] = dreambank['number_date_report'].apply(recode_date).fillna(method='ffill')"
   ]
  },
  {
   "cell_type": "code",
   "execution_count": 18,
   "metadata": {},
   "outputs": [
    {
     "data": {
      "text/plain": [
       "F39-7    4\n",
       "F17-3    4\n",
       "F15-8    4\n",
       "F36-6    4\n",
       "F10-8    4\n",
       "M12-5    4\n",
       "F45-4    4\n",
       "M15-2    4\n",
       "M02-4    4\n",
       "F23-6    3\n",
       "Name: dream_number, dtype: int64"
      ]
     },
     "execution_count": 18,
     "metadata": {},
     "output_type": "execute_result"
    }
   ],
   "source": [
    "# dream_number\n",
    "dreambank.dream_number.value_counts().head(20)\n",
    "dreambank.dream_number.value_counts().tail(10)"
   ]
  },
  {
   "cell_type": "code",
   "execution_count": 19,
   "metadata": {},
   "outputs": [
    {
     "data": {
      "text/plain": [
       "06/19/66       25029\n",
       "02/06/64        3107\n",
       "10/18/97        3092\n",
       "F, age 16        330\n",
       "8/16/97          232\n",
       "5/9/97           220\n",
       "F, age 17        210\n",
       "10/06/65         207\n",
       "[age 20-21]      193\n",
       "07/25/2000       189\n",
       "Name: dream_date, dtype: int64"
      ]
     },
     "execution_count": 19,
     "metadata": {},
     "output_type": "execute_result"
    }
   ],
   "source": [
    "# dream_date\n",
    "dreambank.dream_date.value_counts().head(10)"
   ]
  },
  {
   "cell_type": "markdown",
   "metadata": {},
   "source": [
    "**Dreams column**"
   ]
  },
  {
   "cell_type": "code",
   "execution_count": 20,
   "metadata": {},
   "outputs": [
    {
     "data": {
      "text/plain": [
       "\"<report><![CDATA[The one at the Meads's house, where it's bigger inside than out; there's a European village just inside, with a cobblestone street and a Pied-Piper sort of man with curly hair, he can do things like juggle - I go up the back stairs [there aren't any in the real house] and then down the other side [since there's a second set, immediately] then down a short empty hallway that turns a corner, where I find a tiny room...a young woman with shoulder-length blonde hair in a pageboy is there, cooking at a stove that almost fills the room...she's nice to me. Now outside, I'm waiting for my aunt to pick me up - she arrives in a little round convertible and we go for a drive, not very far - we cross a little bridge over a creek, then double back and she drops me off at the house again. Inside (?) I sit with a couple of people, playing with a string of blue balloons.]]></report>\""
      ]
     },
     "execution_count": 20,
     "metadata": {},
     "output_type": "execute_result"
    }
   ],
   "source": [
    "# dream example\n",
    "dreambank['number_date_report'][10]"
   ]
  },
  {
   "cell_type": "code",
   "execution_count": 21,
   "metadata": {},
   "outputs": [
    {
     "data": {
      "text/html": [
       "<div>\n",
       "<style scoped>\n",
       "    .dataframe tbody tr th:only-of-type {\n",
       "        vertical-align: middle;\n",
       "    }\n",
       "\n",
       "    .dataframe tbody tr th {\n",
       "        vertical-align: top;\n",
       "    }\n",
       "\n",
       "    .dataframe thead th {\n",
       "        text-align: right;\n",
       "    }\n",
       "</style>\n",
       "<table border=\"1\" class=\"dataframe\">\n",
       "  <thead>\n",
       "    <tr style=\"text-align: right;\">\n",
       "      <th></th>\n",
       "      <th>individual_collection</th>\n",
       "      <th>id_name_type_sex_age_time_dream</th>\n",
       "      <th>number_date_report</th>\n",
       "      <th>codings</th>\n",
       "      <th>id</th>\n",
       "      <th>name</th>\n",
       "      <th>type</th>\n",
       "      <th>sex</th>\n",
       "      <th>age</th>\n",
       "      <th>time</th>\n",
       "      <th>dream_number</th>\n",
       "      <th>dream_date</th>\n",
       "      <th>dream</th>\n",
       "    </tr>\n",
       "  </thead>\n",
       "  <tbody>\n",
       "    <tr>\n",
       "      <th>0</th>\n",
       "      <td>&lt;collection&gt;</td>\n",
       "      <td>NaN</td>\n",
       "      <td>NaN</td>\n",
       "      <td>NaN</td>\n",
       "      <td>NaN</td>\n",
       "      <td>NaN</td>\n",
       "      <td>NaN</td>\n",
       "      <td>NaN</td>\n",
       "      <td>NaN</td>\n",
       "      <td>NaN</td>\n",
       "      <td>NaN</td>\n",
       "      <td>NaN</td>\n",
       "      <td>NaN</td>\n",
       "    </tr>\n",
       "    <tr>\n",
       "      <th>1</th>\n",
       "      <td>NaN</td>\n",
       "      <td>&lt;id&gt;alta&lt;/id&gt;</td>\n",
       "      <td>NaN</td>\n",
       "      <td>NaN</td>\n",
       "      <td>alta</td>\n",
       "      <td>NaN</td>\n",
       "      <td>NaN</td>\n",
       "      <td>NaN</td>\n",
       "      <td>NaN</td>\n",
       "      <td>NaN</td>\n",
       "      <td>NaN</td>\n",
       "      <td>NaN</td>\n",
       "      <td>NaN</td>\n",
       "    </tr>\n",
       "    <tr>\n",
       "      <th>2</th>\n",
       "      <td>NaN</td>\n",
       "      <td>&lt;name&gt;Alta: a detailed dreamer&lt;/name&gt;</td>\n",
       "      <td>NaN</td>\n",
       "      <td>NaN</td>\n",
       "      <td>alta</td>\n",
       "      <td>Alta: a detailed dreamer</td>\n",
       "      <td>NaN</td>\n",
       "      <td>NaN</td>\n",
       "      <td>NaN</td>\n",
       "      <td>NaN</td>\n",
       "      <td>NaN</td>\n",
       "      <td>NaN</td>\n",
       "      <td>NaN</td>\n",
       "    </tr>\n",
       "    <tr>\n",
       "      <th>3</th>\n",
       "      <td>NaN</td>\n",
       "      <td>&lt;type&gt;series&lt;/type&gt;</td>\n",
       "      <td>NaN</td>\n",
       "      <td>NaN</td>\n",
       "      <td>alta</td>\n",
       "      <td>Alta: a detailed dreamer</td>\n",
       "      <td>series</td>\n",
       "      <td>NaN</td>\n",
       "      <td>NaN</td>\n",
       "      <td>NaN</td>\n",
       "      <td>NaN</td>\n",
       "      <td>NaN</td>\n",
       "      <td>NaN</td>\n",
       "    </tr>\n",
       "    <tr>\n",
       "      <th>4</th>\n",
       "      <td>NaN</td>\n",
       "      <td>&lt;sex&gt;F&lt;/sex&gt;</td>\n",
       "      <td>NaN</td>\n",
       "      <td>NaN</td>\n",
       "      <td>alta</td>\n",
       "      <td>Alta: a detailed dreamer</td>\n",
       "      <td>series</td>\n",
       "      <td>F</td>\n",
       "      <td>NaN</td>\n",
       "      <td>NaN</td>\n",
       "      <td>NaN</td>\n",
       "      <td>NaN</td>\n",
       "      <td>NaN</td>\n",
       "    </tr>\n",
       "  </tbody>\n",
       "</table>\n",
       "</div>"
      ],
      "text/plain": [
       "  individual_collection        id_name_type_sex_age_time_dream  \\\n",
       "0          <collection>                                    NaN   \n",
       "1                   NaN                          <id>alta</id>   \n",
       "2                   NaN  <name>Alta: a detailed dreamer</name>   \n",
       "3                   NaN                    <type>series</type>   \n",
       "4                   NaN                           <sex>F</sex>   \n",
       "\n",
       "  number_date_report codings    id                      name    type  sex  \\\n",
       "0                NaN     NaN   NaN                       NaN     NaN  NaN   \n",
       "1                NaN     NaN  alta                       NaN     NaN  NaN   \n",
       "2                NaN     NaN  alta  Alta: a detailed dreamer     NaN  NaN   \n",
       "3                NaN     NaN  alta  Alta: a detailed dreamer  series  NaN   \n",
       "4                NaN     NaN  alta  Alta: a detailed dreamer  series    F   \n",
       "\n",
       "   age time dream_number dream_date dream  \n",
       "0  NaN  NaN          NaN        NaN   NaN  \n",
       "1  NaN  NaN          NaN        NaN   NaN  \n",
       "2  NaN  NaN          NaN        NaN   NaN  \n",
       "3  NaN  NaN          NaN        NaN   NaN  \n",
       "4  NaN  NaN          NaN        NaN   NaN  "
      ]
     },
     "execution_count": 21,
     "metadata": {},
     "output_type": "execute_result"
    }
   ],
   "source": [
    "# create 'dream' column\n",
    "\n",
    "def recode_dream(line): \n",
    "    if type(line) == float:\n",
    "        return np.nan\n",
    "    elif line.startswith(\"<report>\"):\n",
    "        return line[17:-12]\n",
    "    else:\n",
    "        return np.nan\n",
    "\n",
    "dreambank['dream'] = dreambank['number_date_report'].apply(recode_dream)\n",
    "\n",
    "dreambank.head()"
   ]
  },
  {
   "cell_type": "code",
   "execution_count": 22,
   "metadata": {},
   "outputs": [
    {
     "data": {
      "text/html": [
       "<div>\n",
       "<style scoped>\n",
       "    .dataframe tbody tr th:only-of-type {\n",
       "        vertical-align: middle;\n",
       "    }\n",
       "\n",
       "    .dataframe tbody tr th {\n",
       "        vertical-align: top;\n",
       "    }\n",
       "\n",
       "    .dataframe thead th {\n",
       "        text-align: right;\n",
       "    }\n",
       "</style>\n",
       "<table border=\"1\" class=\"dataframe\">\n",
       "  <thead>\n",
       "    <tr style=\"text-align: right;\">\n",
       "      <th></th>\n",
       "      <th>id</th>\n",
       "      <th>name</th>\n",
       "      <th>type</th>\n",
       "      <th>sex</th>\n",
       "      <th>age</th>\n",
       "      <th>time</th>\n",
       "      <th>dream_number</th>\n",
       "      <th>dream_date</th>\n",
       "      <th>dream</th>\n",
       "    </tr>\n",
       "  </thead>\n",
       "  <tbody>\n",
       "    <tr>\n",
       "      <th>0</th>\n",
       "      <td>alta</td>\n",
       "      <td>Alta: a detailed dreamer</td>\n",
       "      <td>series</td>\n",
       "      <td>F</td>\n",
       "      <td>A</td>\n",
       "      <td>1985-1997</td>\n",
       "      <td>1</td>\n",
       "      <td>1957</td>\n",
       "      <td>The one at the Meads's house, where it's bigge...</td>\n",
       "    </tr>\n",
       "    <tr>\n",
       "      <th>1</th>\n",
       "      <td>alta</td>\n",
       "      <td>Alta: a detailed dreamer</td>\n",
       "      <td>series</td>\n",
       "      <td>F</td>\n",
       "      <td>A</td>\n",
       "      <td>1985-1997</td>\n",
       "      <td>10</td>\n",
       "      <td>1985?</td>\n",
       "      <td>I am in some public place, reminds me of the g...</td>\n",
       "    </tr>\n",
       "    <tr>\n",
       "      <th>2</th>\n",
       "      <td>alta</td>\n",
       "      <td>Alta: a detailed dreamer</td>\n",
       "      <td>series</td>\n",
       "      <td>F</td>\n",
       "      <td>A</td>\n",
       "      <td>1985-1997</td>\n",
       "      <td>100</td>\n",
       "      <td>5/30/86</td>\n",
       "      <td>I'm driving a car somewhere, because it's sout...</td>\n",
       "    </tr>\n",
       "    <tr>\n",
       "      <th>3</th>\n",
       "      <td>alta</td>\n",
       "      <td>Alta: a detailed dreamer</td>\n",
       "      <td>series</td>\n",
       "      <td>F</td>\n",
       "      <td>A</td>\n",
       "      <td>1985-1997</td>\n",
       "      <td>101</td>\n",
       "      <td>5/31/86</td>\n",
       "      <td>I'm around a bunch of people working together,...</td>\n",
       "    </tr>\n",
       "    <tr>\n",
       "      <th>4</th>\n",
       "      <td>alta</td>\n",
       "      <td>Alta: a detailed dreamer</td>\n",
       "      <td>series</td>\n",
       "      <td>F</td>\n",
       "      <td>A</td>\n",
       "      <td>1985-1997</td>\n",
       "      <td>102</td>\n",
       "      <td>5/31/86</td>\n",
       "      <td>I'm in a house - I don't think it's mine - the...</td>\n",
       "    </tr>\n",
       "    <tr>\n",
       "      <th>5</th>\n",
       "      <td>alta</td>\n",
       "      <td>Alta: a detailed dreamer</td>\n",
       "      <td>series</td>\n",
       "      <td>F</td>\n",
       "      <td>A</td>\n",
       "      <td>1985-1997</td>\n",
       "      <td>103</td>\n",
       "      <td>6/7/86</td>\n",
       "      <td>I'm out someplace pretty far from home and I w...</td>\n",
       "    </tr>\n",
       "    <tr>\n",
       "      <th>6</th>\n",
       "      <td>alta</td>\n",
       "      <td>Alta: a detailed dreamer</td>\n",
       "      <td>series</td>\n",
       "      <td>F</td>\n",
       "      <td>A</td>\n",
       "      <td>1985-1997</td>\n",
       "      <td>104</td>\n",
       "      <td>6/7/86</td>\n",
       "      <td>I'm on a bus with a couple of guys - one's the...</td>\n",
       "    </tr>\n",
       "    <tr>\n",
       "      <th>7</th>\n",
       "      <td>alta</td>\n",
       "      <td>Alta: a detailed dreamer</td>\n",
       "      <td>series</td>\n",
       "      <td>F</td>\n",
       "      <td>A</td>\n",
       "      <td>1985-1997</td>\n",
       "      <td>105</td>\n",
       "      <td>6/9/86</td>\n",
       "      <td>I live in a little house a bit like Grandmom's...</td>\n",
       "    </tr>\n",
       "    <tr>\n",
       "      <th>8</th>\n",
       "      <td>alta</td>\n",
       "      <td>Alta: a detailed dreamer</td>\n",
       "      <td>series</td>\n",
       "      <td>F</td>\n",
       "      <td>A</td>\n",
       "      <td>1985-1997</td>\n",
       "      <td>106</td>\n",
       "      <td>6/11/86</td>\n",
       "      <td>I'm on a bus, going to the dentist, across an ...</td>\n",
       "    </tr>\n",
       "    <tr>\n",
       "      <th>9</th>\n",
       "      <td>alta</td>\n",
       "      <td>Alta: a detailed dreamer</td>\n",
       "      <td>series</td>\n",
       "      <td>F</td>\n",
       "      <td>A</td>\n",
       "      <td>1985-1997</td>\n",
       "      <td>107</td>\n",
       "      <td>6/15/86</td>\n",
       "      <td>I've just gotten home from school - I live in ...</td>\n",
       "    </tr>\n",
       "    <tr>\n",
       "      <th>10</th>\n",
       "      <td>alta</td>\n",
       "      <td>Alta: a detailed dreamer</td>\n",
       "      <td>series</td>\n",
       "      <td>F</td>\n",
       "      <td>A</td>\n",
       "      <td>1985-1997</td>\n",
       "      <td>108</td>\n",
       "      <td>6/23/86</td>\n",
       "      <td>I'm looking for a boy - I'm my own age, probab...</td>\n",
       "    </tr>\n",
       "    <tr>\n",
       "      <th>11</th>\n",
       "      <td>alta</td>\n",
       "      <td>Alta: a detailed dreamer</td>\n",
       "      <td>series</td>\n",
       "      <td>F</td>\n",
       "      <td>A</td>\n",
       "      <td>1985-1997</td>\n",
       "      <td>109</td>\n",
       "      <td>6/25/86</td>\n",
       "      <td>I'm driving a car, going into town on a road,t...</td>\n",
       "    </tr>\n",
       "    <tr>\n",
       "      <th>12</th>\n",
       "      <td>alta</td>\n",
       "      <td>Alta: a detailed dreamer</td>\n",
       "      <td>series</td>\n",
       "      <td>F</td>\n",
       "      <td>A</td>\n",
       "      <td>1985-1997</td>\n",
       "      <td>11</td>\n",
       "      <td>1985?</td>\n",
       "      <td>At a school - I don't think I actually go to i...</td>\n",
       "    </tr>\n",
       "    <tr>\n",
       "      <th>13</th>\n",
       "      <td>alta</td>\n",
       "      <td>Alta: a detailed dreamer</td>\n",
       "      <td>series</td>\n",
       "      <td>F</td>\n",
       "      <td>A</td>\n",
       "      <td>1985-1997</td>\n",
       "      <td>110</td>\n",
       "      <td>6/27/86</td>\n",
       "      <td>I'm lying in a large upholstered chair; Tom is...</td>\n",
       "    </tr>\n",
       "    <tr>\n",
       "      <th>14</th>\n",
       "      <td>alta</td>\n",
       "      <td>Alta: a detailed dreamer</td>\n",
       "      <td>series</td>\n",
       "      <td>F</td>\n",
       "      <td>A</td>\n",
       "      <td>1985-1997</td>\n",
       "      <td>111</td>\n",
       "      <td>6/30/86</td>\n",
       "      <td>As part of a trip to England, I'm visiting Pet...</td>\n",
       "    </tr>\n",
       "  </tbody>\n",
       "</table>\n",
       "</div>"
      ],
      "text/plain": [
       "      id                      name    type sex age       time dream_number  \\\n",
       "0   alta  Alta: a detailed dreamer  series   F   A  1985-1997            1   \n",
       "1   alta  Alta: a detailed dreamer  series   F   A  1985-1997           10   \n",
       "2   alta  Alta: a detailed dreamer  series   F   A  1985-1997          100   \n",
       "3   alta  Alta: a detailed dreamer  series   F   A  1985-1997          101   \n",
       "4   alta  Alta: a detailed dreamer  series   F   A  1985-1997          102   \n",
       "5   alta  Alta: a detailed dreamer  series   F   A  1985-1997          103   \n",
       "6   alta  Alta: a detailed dreamer  series   F   A  1985-1997          104   \n",
       "7   alta  Alta: a detailed dreamer  series   F   A  1985-1997          105   \n",
       "8   alta  Alta: a detailed dreamer  series   F   A  1985-1997          106   \n",
       "9   alta  Alta: a detailed dreamer  series   F   A  1985-1997          107   \n",
       "10  alta  Alta: a detailed dreamer  series   F   A  1985-1997          108   \n",
       "11  alta  Alta: a detailed dreamer  series   F   A  1985-1997          109   \n",
       "12  alta  Alta: a detailed dreamer  series   F   A  1985-1997           11   \n",
       "13  alta  Alta: a detailed dreamer  series   F   A  1985-1997          110   \n",
       "14  alta  Alta: a detailed dreamer  series   F   A  1985-1997          111   \n",
       "\n",
       "   dream_date                                              dream  \n",
       "0        1957  The one at the Meads's house, where it's bigge...  \n",
       "1       1985?  I am in some public place, reminds me of the g...  \n",
       "2     5/30/86  I'm driving a car somewhere, because it's sout...  \n",
       "3     5/31/86  I'm around a bunch of people working together,...  \n",
       "4     5/31/86  I'm in a house - I don't think it's mine - the...  \n",
       "5      6/7/86  I'm out someplace pretty far from home and I w...  \n",
       "6      6/7/86  I'm on a bus with a couple of guys - one's the...  \n",
       "7      6/9/86  I live in a little house a bit like Grandmom's...  \n",
       "8     6/11/86  I'm on a bus, going to the dentist, across an ...  \n",
       "9     6/15/86  I've just gotten home from school - I live in ...  \n",
       "10    6/23/86  I'm looking for a boy - I'm my own age, probab...  \n",
       "11    6/25/86  I'm driving a car, going into town on a road,t...  \n",
       "12      1985?  At a school - I don't think I actually go to i...  \n",
       "13    6/27/86  I'm lying in a large upholstered chair; Tom is...  \n",
       "14    6/30/86  As part of a trip to England, I'm visiting Pet...  "
      ]
     },
     "execution_count": 22,
     "metadata": {},
     "output_type": "execute_result"
    }
   ],
   "source": [
    "# Select data with dreams df\n",
    "dreams_df = dreambank[dreambank['dream'].notnull()][['id', 'name', 'type', 'sex', 'age', 'time',\n",
    "                                                 'dream_number', 'dream_date', 'dream']].reset_index(drop=True)\n",
    "\n",
    "# ver depois a coluna dos codings (não incluí) --> classificação dos sentimentos feito por eles, dreambank\n",
    "\n",
    "# new df\n",
    "dreams_df.head(15)"
   ]
  },
  {
   "cell_type": "code",
   "execution_count": 23,
   "metadata": {},
   "outputs": [
    {
     "name": "stdout",
     "output_type": "stream",
     "text": [
      "<class 'pandas.core.frame.DataFrame'>\n",
      "RangeIndex: 19431 entries, 0 to 19430\n",
      "Data columns (total 9 columns):\n",
      "id              19431 non-null object\n",
      "name            19431 non-null object\n",
      "type            19431 non-null object\n",
      "sex             19431 non-null object\n",
      "age             19431 non-null object\n",
      "time            19431 non-null object\n",
      "dream_number    19431 non-null object\n",
      "dream_date      19431 non-null object\n",
      "dream           19431 non-null object\n",
      "dtypes: object(9)\n",
      "memory usage: 1.3+ MB\n"
     ]
    }
   ],
   "source": [
    "dreams_df.info()"
   ]
  },
  {
   "cell_type": "code",
   "execution_count": 24,
   "metadata": {},
   "outputs": [
    {
     "data": {
      "image/png": "[encoded data removed]",
      "text/plain": [
       "<Figure size 432x288 with 1 Axes>"
      ]
     },
     "metadata": {
      "needs_background": "light"
     },
     "output_type": "display_data"
    }
   ],
   "source": [
    "# top dreamers\n",
    "\n",
    "# number of dreamers\n",
    "n = 15\n",
    "\n",
    "top_dreamers = dreams_df['name'].value_counts(ascending=True).tail(n)#.plot(kind='barh')\n",
    "\n",
    "dreams_df_index = dreams_df['name'].value_counts().index\n",
    "pos = np.arange(len(top_dreamers))\n",
    "pos_2 = round(top_dreamers/len(dreams_df['dream'])*100, 1)\n",
    "\n",
    "# add the percentages to the side of each bar\n",
    "for p, cidx, td in zip(pos, dreams_df_index, pos_2):\n",
    "    plt.annotate(td, xy=(td+3100, p), va='center')\n",
    "\n",
    "# plot\n",
    "top_dreamers.plot(kind='barh')\n",
    "\n",
    "t = round(np.sum(top_dreamers/len(dreams_df['dream'])*100))   \n",
    "plt.title(\"Top {} dreamers: {}% of the dreams\".format(n, t))\n",
    "plt.xlabel(\"Number of dreams\")\n",
    "plt.ylabel(\"Dreamer 'name'\")\n",
    "plt.subplots_adjust(left=0, bottom=-0.2, right=1.3, top=1, wspace=0, hspace=0)\n",
    "plt.show()"
   ]
  },
  {
   "cell_type": "code",
   "execution_count": 25,
   "metadata": {},
   "outputs": [
    {
     "data": {
      "text/html": [
       "<div>\n",
       "<style scoped>\n",
       "    .dataframe tbody tr th:only-of-type {\n",
       "        vertical-align: middle;\n",
       "    }\n",
       "\n",
       "    .dataframe tbody tr th {\n",
       "        vertical-align: top;\n",
       "    }\n",
       "\n",
       "    .dataframe thead th {\n",
       "        text-align: right;\n",
       "    }\n",
       "</style>\n",
       "<table border=\"1\" class=\"dataframe\">\n",
       "  <thead>\n",
       "    <tr style=\"text-align: right;\">\n",
       "      <th></th>\n",
       "      <th>id</th>\n",
       "      <th>name</th>\n",
       "      <th>type</th>\n",
       "      <th>sex</th>\n",
       "      <th>age</th>\n",
       "      <th>time</th>\n",
       "      <th>dream_number</th>\n",
       "      <th>dream_date</th>\n",
       "      <th>dream</th>\n",
       "    </tr>\n",
       "  </thead>\n",
       "  <tbody>\n",
       "    <tr>\n",
       "      <th>0</th>\n",
       "      <td>alta</td>\n",
       "      <td>Alta: a detailed dreamer</td>\n",
       "      <td>series</td>\n",
       "      <td>F</td>\n",
       "      <td>A</td>\n",
       "      <td>1985-1997</td>\n",
       "      <td>1</td>\n",
       "      <td>1957</td>\n",
       "      <td>The one at the Meads's house, where it's bigge...</td>\n",
       "    </tr>\n",
       "    <tr>\n",
       "      <th>1</th>\n",
       "      <td>alta</td>\n",
       "      <td>Alta: a detailed dreamer</td>\n",
       "      <td>series</td>\n",
       "      <td>F</td>\n",
       "      <td>A</td>\n",
       "      <td>1985-1997</td>\n",
       "      <td>10</td>\n",
       "      <td>1985?</td>\n",
       "      <td>I am in some public place, reminds me of the g...</td>\n",
       "    </tr>\n",
       "    <tr>\n",
       "      <th>2</th>\n",
       "      <td>alta</td>\n",
       "      <td>Alta: a detailed dreamer</td>\n",
       "      <td>series</td>\n",
       "      <td>F</td>\n",
       "      <td>A</td>\n",
       "      <td>1985-1997</td>\n",
       "      <td>100</td>\n",
       "      <td>5/30/86</td>\n",
       "      <td>I'm driving a car somewhere, because it's sout...</td>\n",
       "    </tr>\n",
       "    <tr>\n",
       "      <th>3</th>\n",
       "      <td>alta</td>\n",
       "      <td>Alta: a detailed dreamer</td>\n",
       "      <td>series</td>\n",
       "      <td>F</td>\n",
       "      <td>A</td>\n",
       "      <td>1985-1997</td>\n",
       "      <td>101</td>\n",
       "      <td>5/31/86</td>\n",
       "      <td>I'm around a bunch of people working together,...</td>\n",
       "    </tr>\n",
       "    <tr>\n",
       "      <th>4</th>\n",
       "      <td>alta</td>\n",
       "      <td>Alta: a detailed dreamer</td>\n",
       "      <td>series</td>\n",
       "      <td>F</td>\n",
       "      <td>A</td>\n",
       "      <td>1985-1997</td>\n",
       "      <td>102</td>\n",
       "      <td>5/31/86</td>\n",
       "      <td>I'm in a house - I don't think it's mine - the...</td>\n",
       "    </tr>\n",
       "  </tbody>\n",
       "</table>\n",
       "</div>"
      ],
      "text/plain": [
       "     id                      name    type sex age       time dream_number  \\\n",
       "0  alta  Alta: a detailed dreamer  series   F   A  1985-1997            1   \n",
       "1  alta  Alta: a detailed dreamer  series   F   A  1985-1997           10   \n",
       "2  alta  Alta: a detailed dreamer  series   F   A  1985-1997          100   \n",
       "3  alta  Alta: a detailed dreamer  series   F   A  1985-1997          101   \n",
       "4  alta  Alta: a detailed dreamer  series   F   A  1985-1997          102   \n",
       "\n",
       "  dream_date                                              dream  \n",
       "0       1957  The one at the Meads's house, where it's bigge...  \n",
       "1      1985?  I am in some public place, reminds me of the g...  \n",
       "2    5/30/86  I'm driving a car somewhere, because it's sout...  \n",
       "3    5/31/86  I'm around a bunch of people working together,...  \n",
       "4    5/31/86  I'm in a house - I don't think it's mine - the...  "
      ]
     },
     "execution_count": 25,
     "metadata": {},
     "output_type": "execute_result"
    }
   ],
   "source": [
    "\n",
    "dreams_df.head()\n",
    "\n",
    "\n"
   ]
  },
  {
   "cell_type": "code",
   "execution_count": 26,
   "metadata": {},
   "outputs": [
    {
     "data": {
      "text/plain": [
       "I was working in a printing plant.                                                                                                                                                                                                                                                                                                                                                                                                                                                                                                                                                                                                                                                                                                                                                                                                                                                                                                                                                                                                                                                                                                                                                                                                                                                                                                                                                                                                                                                                                                                                                                                                                                                                                                                                                                                                                                                                                                                                                                                                                                                                                                    2\n",
       "I had two consecutive dreams in which I was defecating. In the first a woman saw me and I felt embarrassed.                                                                                                                                                                                                                                                                                                                                                                                                                                                                                                                                                                                                                                                                                                                                                                                                                                                                                                                                                                                                                                                                                                                                                                                                                                                                                                                                                                                                                                                                                                                                                                                                                                                                                                                                                                                                                                                                                                                                                                                                                           1\n",
       "I went to my maternal Grandma Jane's house. Grandma Jane had died, so it was my parents' place now.  I didn't want them to sell it.                                                                                                                                                                                                                                                                                                                                                                                                                                                                                                                                                                                                                                                                                                                                                                                                                                                                                                                                                                                                                                                                                                                                                                                                                                                                                                                                                                                                                                                                                                                                                                                                                                                                                                                                                                                                                                                                                                                                                                                                   1\n",
       "<I>Crazy Cliff Jumping</I> <BR><BR> I come to a small house-like building. A man walks out of the building. He has just signed up for a big jump: a crazy high jump out of a plane, with a woman. It will be later. The woman seems to have doubts about the jump. The man says, matter-of-factly, that they can't change that now: they've already signed up. I think the jump is a crazy feat that I wouldn't do. I see a photograph of a long backpack. It's a \"full mountain pack\" and is designed to fit a person inside it. I walk a short ways and am on a rock or cliff. There are two people with me. Their intent is to jump off the cliff, for fun. The rock ledge we're on slopes downwards gradually, then increasingly, and then is a sheer rock face. It's such that one may be able to peer over the edge for a look. I start to peer over. I'm very afraid of the height. I get down flat on my stomach and crawl towards the edge. It's too steep for me, so I'm going down headfirst just to peer over. I turn around because going headfirst is too frightening. I slide on the rock, not having a good grip. I say to the others, \"I'm sliding!\" They are unconcerned and say that I'm not really sliding. The man decides to jump. He says that he's jumping. He trots past me wearing shorts and tall black cowboy-like boots with no socks. He may have a funny hat on as well. He runs awkwardly with his knees high and legs out, like a comedian. He goes at a steady pace, a bit faster than a jog, and doesn't pause when he reaches the edge, hopping off. He drops below the line of visibility and I see only rocks. The cliff is very high, about 200 feet. I'm not even considering the jump: I think it is disastrous for me. At one point I see a person with a black backpack or parachute on. It doesn't look very sturdy. It's connected in front of the torso by two rings that are four or five inches in diameter. I'm in a dark room. There are photographs of two people on the floor. They may be landing sites of the jumps. In one of the photos is my acquaintance Heather Salley.    1\n",
       "Name: dream, dtype: int64"
      ]
     },
     "execution_count": 26,
     "metadata": {},
     "output_type": "execute_result"
    }
   ],
   "source": [
    "# só p ver\n",
    "\n",
    "# dreams_df.dream_date.value_counts()\n",
    "# dreams_df.time.value_counts()\n",
    "dreams_df.dream.value_counts().head(4)   # só 1 sonho repetido"
   ]
  },
  {
   "cell_type": "code",
   "execution_count": 27,
   "metadata": {},
   "outputs": [],
   "source": [
    "# number of dreams in each year\n",
    "\n",
    "range_years_4 = range(1933, 2020)\n",
    "range_years_2 = ['%02d' % t for t in np.arange(0, 100)]\n",
    "\n",
    "# 1933 - 2019\n",
    "four_digits = pd.Series([np.sum(dreams_df.dream_date.str.contains(str(i))) for i in range_years_4], index=range_years_4)\n",
    "\n",
    "# /00 - /99\n",
    "two_digits = pd.Series([np.sum(dreams_df.dream_date.str.endswith('/{}'.format(i))) for i in range_years_2], \n",
    "                       index=range_years_2)\n"
   ]
  },
  {
   "cell_type": "code",
   "execution_count": 28,
   "metadata": {},
   "outputs": [],
   "source": [
    "# 2000 - 2019\n",
    "a = two_digits[:20]\n",
    "b = four_digits[-20:]\n",
    "a.index = b.index\n",
    "c_1 = a.add(b, fill_value=0)\n",
    "\n",
    "# 1933 - 1999\n",
    "d = two_digits[33:]\n",
    "e = four_digits[:-20]\n",
    "d.index = e.index\n",
    "c_2 = d.add(e, fill_value=0)\n",
    "\n",
    "# join c_1 and c_2\n",
    "total_years = c_1.add(c_2, fill_value=0)"
   ]
  },
  {
   "cell_type": "code",
   "execution_count": 29,
   "metadata": {},
   "outputs": [
    {
     "data": {
      "image/png": "[encoded data removed]",
      "text/plain": [
       "<Figure size 432x288 with 1 Axes>"
      ]
     },
     "metadata": {
      "needs_background": "light"
     },
     "output_type": "display_data"
    }
   ],
   "source": [
    "# 1947 - 2005\n",
    "total_years[14:-14].plot(kind='bar')\n",
    "plt.title(\"#dreams per year [1947 - 2005]\")\n",
    "plt.xlabel(\"Year\")\n",
    "plt.xticks(rotation=60)\n",
    "plt.subplots_adjust(left=0, bottom=-0.2, right=2, top=1, wspace=0, hspace=0)\n",
    "plt.show()"
   ]
  },
  {
   "cell_type": "code",
   "execution_count": 30,
   "metadata": {},
   "outputs": [
    {
     "data": {
      "image/png": "[encoded data removed]",
      "text/plain": [
       "<Figure size 432x288 with 1 Axes>"
      ]
     },
     "metadata": {
      "needs_background": "light"
     },
     "output_type": "display_data"
    }
   ],
   "source": [
    "# top number of records/dreams per year\n",
    "\n",
    "# number of records\n",
    "n = 10\n",
    "\n",
    "top_records = total_years.iloc[total_years.nonzero()].sort_values(ascending=True).tail(n)\n",
    "\n",
    "top_records_index = total_years.iloc[total_years.nonzero()].sort_values().index\n",
    "pos = np.arange(len(top_records))\n",
    "pos_2 = round(top_records/len(dreams_df['dream'])*100, 1)\n",
    "\n",
    "# add the percentages to the side of each bar\n",
    "for p, cidx, tr in zip(pos, top_records_index, pos_2):\n",
    "    plt.annotate(tr, xy=(tr+1925, p), va='center')\n",
    "\n",
    "# plot\n",
    "top_records.plot(kind='barh')\n",
    "\n",
    "t = round(np.sum(top_records/len(dreams_df['dream'])*100))   \n",
    "plt.title(\"Top {} years with more dreams: {}% of the dreams\".format(n, t))\n",
    "plt.xlabel(\"Number of dreams\")\n",
    "plt.ylabel(\"Year\")\n",
    "plt.subplots_adjust(left=0, bottom=-0.2, right=1.3, top=1, wspace=0, hspace=0)\n",
    "plt.show()"
   ]
  },
  {
   "cell_type": "code",
   "execution_count": 31,
   "metadata": {},
   "outputs": [],
   "source": [
    "# add dream_year column\n",
    "\n",
    "list_1 = range(1933, 2020)\n",
    "list_2 = ['%02d' % t for t in np.arange(0, 100)]\n",
    "\n",
    "def recode_dream_year(line): \n",
    "    if type(line) == float:\n",
    "        return np.nan\n",
    "    for i in list_1:\n",
    "        if str(i) in line:\n",
    "            return i\n",
    "    for j in list_2:\n",
    "        if line.endswith('/{}'.format(j)) | line.endswith('/{}?'.format(j)):\n",
    "            if j in list_2[0:20]:\n",
    "                return '20'+j\n",
    "            else:\n",
    "                return '19'+j\n",
    "    else:\n",
    "        return np.nan\n",
    "\n",
    "dreams_df['dream_year'] = dreams_df['dream_date'].apply(recode_dream_year)\n",
    "\n",
    "# rearrange the column\n",
    "cols = dreams_df.columns\n",
    "cols = cols[:-2].tolist() + ['dream_year', 'dream']\n",
    "dreams_df = dreams_df[cols]\n",
    "\n",
    "# convert to int\n",
    "dreams_df['dream_year'] = dreams_df['dream_year'].astype(int, errors='ignore')"
   ]
  },
  {
   "cell_type": "code",
   "execution_count": 32,
   "metadata": {},
   "outputs": [
    {
     "data": {
      "image/png": "[encoded data removed]",
      "text/plain": [
       "<Figure size 432x288 with 1 Axes>"
      ]
     },
     "metadata": {
      "needs_background": "light"
     },
     "output_type": "display_data"
    }
   ],
   "source": [
    "# plot the decades\n",
    "\n",
    "# plot\n",
    "dreams_df.groupby(dreams_df.dream_year.astype(float, errors='ignore') // 10 * 10).size().plot(kind='bar', grid=True)\n",
    "\n",
    "plt.title(\"# Dreams per decade\")\n",
    "plt.xlabel(\"Decade\")\n",
    "# plt.xticks(range(1920, 2020, 10))\n",
    "plt.subplots_adjust(left=0, bottom=-0.2, right=1.6, top=1, wspace=0, hspace=0)\n",
    "plt.show()"
   ]
  },
  {
   "cell_type": "code",
   "execution_count": 33,
   "metadata": {},
   "outputs": [
    {
     "data": {
      "text/plain": [
       "F    33\n",
       "M    27\n",
       "Name: sex, dtype: int64"
      ]
     },
     "execution_count": 33,
     "metadata": {},
     "output_type": "execute_result"
    }
   ],
   "source": [
    "# see the distribution by gender\n",
    "d_2 = pd.read_excel('dreambank.xlsx')\n",
    "d_2['sex'] = d_2['id_name_type_sex_age_time_dream'].apply(recode_sex)\n",
    "\n",
    "# distribution by gender\n",
    "d_2.sex.value_counts()"
   ]
  },
  {
   "cell_type": "code",
   "execution_count": 34,
   "metadata": {},
   "outputs": [
    {
     "data": {
      "text/html": [
       "<div>\n",
       "<style scoped>\n",
       "    .dataframe tbody tr th:only-of-type {\n",
       "        vertical-align: middle;\n",
       "    }\n",
       "\n",
       "    .dataframe tbody tr th {\n",
       "        vertical-align: top;\n",
       "    }\n",
       "\n",
       "    .dataframe thead th {\n",
       "        text-align: right;\n",
       "    }\n",
       "</style>\n",
       "<table border=\"1\" class=\"dataframe\">\n",
       "  <thead>\n",
       "    <tr style=\"text-align: right;\">\n",
       "      <th></th>\n",
       "      <th>id</th>\n",
       "      <th>name</th>\n",
       "      <th>type</th>\n",
       "      <th>sex</th>\n",
       "      <th>age</th>\n",
       "      <th>time</th>\n",
       "      <th>dream_number</th>\n",
       "      <th>dream_date</th>\n",
       "      <th>dream_year</th>\n",
       "      <th>dream</th>\n",
       "    </tr>\n",
       "  </thead>\n",
       "  <tbody>\n",
       "    <tr>\n",
       "      <th>0</th>\n",
       "      <td>alta</td>\n",
       "      <td>Alta: a detailed dreamer</td>\n",
       "      <td>series</td>\n",
       "      <td>F</td>\n",
       "      <td>A</td>\n",
       "      <td>1985-1997</td>\n",
       "      <td>1</td>\n",
       "      <td>1957</td>\n",
       "      <td>1957</td>\n",
       "      <td>The one at the Meads's house, where it's bigge...</td>\n",
       "    </tr>\n",
       "    <tr>\n",
       "      <th>1</th>\n",
       "      <td>alta</td>\n",
       "      <td>Alta: a detailed dreamer</td>\n",
       "      <td>series</td>\n",
       "      <td>F</td>\n",
       "      <td>A</td>\n",
       "      <td>1985-1997</td>\n",
       "      <td>10</td>\n",
       "      <td>1985?</td>\n",
       "      <td>1985</td>\n",
       "      <td>I am in some public place, reminds me of the g...</td>\n",
       "    </tr>\n",
       "    <tr>\n",
       "      <th>2</th>\n",
       "      <td>alta</td>\n",
       "      <td>Alta: a detailed dreamer</td>\n",
       "      <td>series</td>\n",
       "      <td>F</td>\n",
       "      <td>A</td>\n",
       "      <td>1985-1997</td>\n",
       "      <td>100</td>\n",
       "      <td>5/30/86</td>\n",
       "      <td>1986</td>\n",
       "      <td>I'm driving a car somewhere, because it's sout...</td>\n",
       "    </tr>\n",
       "    <tr>\n",
       "      <th>3</th>\n",
       "      <td>alta</td>\n",
       "      <td>Alta: a detailed dreamer</td>\n",
       "      <td>series</td>\n",
       "      <td>F</td>\n",
       "      <td>A</td>\n",
       "      <td>1985-1997</td>\n",
       "      <td>101</td>\n",
       "      <td>5/31/86</td>\n",
       "      <td>1986</td>\n",
       "      <td>I'm around a bunch of people working together,...</td>\n",
       "    </tr>\n",
       "    <tr>\n",
       "      <th>4</th>\n",
       "      <td>alta</td>\n",
       "      <td>Alta: a detailed dreamer</td>\n",
       "      <td>series</td>\n",
       "      <td>F</td>\n",
       "      <td>A</td>\n",
       "      <td>1985-1997</td>\n",
       "      <td>102</td>\n",
       "      <td>5/31/86</td>\n",
       "      <td>1986</td>\n",
       "      <td>I'm in a house - I don't think it's mine - the...</td>\n",
       "    </tr>\n",
       "    <tr>\n",
       "      <th>5</th>\n",
       "      <td>alta</td>\n",
       "      <td>Alta: a detailed dreamer</td>\n",
       "      <td>series</td>\n",
       "      <td>F</td>\n",
       "      <td>A</td>\n",
       "      <td>1985-1997</td>\n",
       "      <td>103</td>\n",
       "      <td>6/7/86</td>\n",
       "      <td>1986</td>\n",
       "      <td>I'm out someplace pretty far from home and I w...</td>\n",
       "    </tr>\n",
       "    <tr>\n",
       "      <th>6</th>\n",
       "      <td>alta</td>\n",
       "      <td>Alta: a detailed dreamer</td>\n",
       "      <td>series</td>\n",
       "      <td>F</td>\n",
       "      <td>A</td>\n",
       "      <td>1985-1997</td>\n",
       "      <td>104</td>\n",
       "      <td>6/7/86</td>\n",
       "      <td>1986</td>\n",
       "      <td>I'm on a bus with a couple of guys - one's the...</td>\n",
       "    </tr>\n",
       "    <tr>\n",
       "      <th>7</th>\n",
       "      <td>alta</td>\n",
       "      <td>Alta: a detailed dreamer</td>\n",
       "      <td>series</td>\n",
       "      <td>F</td>\n",
       "      <td>A</td>\n",
       "      <td>1985-1997</td>\n",
       "      <td>105</td>\n",
       "      <td>6/9/86</td>\n",
       "      <td>1986</td>\n",
       "      <td>I live in a little house a bit like Grandmom's...</td>\n",
       "    </tr>\n",
       "    <tr>\n",
       "      <th>8</th>\n",
       "      <td>alta</td>\n",
       "      <td>Alta: a detailed dreamer</td>\n",
       "      <td>series</td>\n",
       "      <td>F</td>\n",
       "      <td>A</td>\n",
       "      <td>1985-1997</td>\n",
       "      <td>106</td>\n",
       "      <td>6/11/86</td>\n",
       "      <td>1986</td>\n",
       "      <td>I'm on a bus, going to the dentist, across an ...</td>\n",
       "    </tr>\n",
       "    <tr>\n",
       "      <th>9</th>\n",
       "      <td>alta</td>\n",
       "      <td>Alta: a detailed dreamer</td>\n",
       "      <td>series</td>\n",
       "      <td>F</td>\n",
       "      <td>A</td>\n",
       "      <td>1985-1997</td>\n",
       "      <td>107</td>\n",
       "      <td>6/15/86</td>\n",
       "      <td>1986</td>\n",
       "      <td>I've just gotten home from school - I live in ...</td>\n",
       "    </tr>\n",
       "  </tbody>\n",
       "</table>\n",
       "</div>"
      ],
      "text/plain": [
       "     id                      name    type sex age       time dream_number  \\\n",
       "0  alta  Alta: a detailed dreamer  series   F   A  1985-1997            1   \n",
       "1  alta  Alta: a detailed dreamer  series   F   A  1985-1997           10   \n",
       "2  alta  Alta: a detailed dreamer  series   F   A  1985-1997          100   \n",
       "3  alta  Alta: a detailed dreamer  series   F   A  1985-1997          101   \n",
       "4  alta  Alta: a detailed dreamer  series   F   A  1985-1997          102   \n",
       "5  alta  Alta: a detailed dreamer  series   F   A  1985-1997          103   \n",
       "6  alta  Alta: a detailed dreamer  series   F   A  1985-1997          104   \n",
       "7  alta  Alta: a detailed dreamer  series   F   A  1985-1997          105   \n",
       "8  alta  Alta: a detailed dreamer  series   F   A  1985-1997          106   \n",
       "9  alta  Alta: a detailed dreamer  series   F   A  1985-1997          107   \n",
       "\n",
       "  dream_date dream_year                                              dream  \n",
       "0       1957       1957  The one at the Meads's house, where it's bigge...  \n",
       "1      1985?       1985  I am in some public place, reminds me of the g...  \n",
       "2    5/30/86       1986  I'm driving a car somewhere, because it's sout...  \n",
       "3    5/31/86       1986  I'm around a bunch of people working together,...  \n",
       "4    5/31/86       1986  I'm in a house - I don't think it's mine - the...  \n",
       "5     6/7/86       1986  I'm out someplace pretty far from home and I w...  \n",
       "6     6/7/86       1986  I'm on a bus with a couple of guys - one's the...  \n",
       "7     6/9/86       1986  I live in a little house a bit like Grandmom's...  \n",
       "8    6/11/86       1986  I'm on a bus, going to the dentist, across an ...  \n",
       "9    6/15/86       1986  I've just gotten home from school - I live in ...  "
      ]
     },
     "execution_count": 34,
     "metadata": {},
     "output_type": "execute_result"
    }
   ],
   "source": [
    "dreams_df.head(10)"
   ]
  },
  {
   "cell_type": "code",
   "execution_count": 35,
   "metadata": {},
   "outputs": [
    {
     "data": {
      "text/plain": [
       "array(['A', 'Y', 'YA', 'C', 'T', 'TY'], dtype=object)"
      ]
     },
     "execution_count": 35,
     "metadata": {},
     "output_type": "execute_result"
    }
   ],
   "source": [
    "dreams_df.age.unique()"
   ]
  },
  {
   "cell_type": "markdown",
   "metadata": {},
   "source": [
    "### NLP - EDA"
   ]
  },
  {
   "cell_type": "code",
   "execution_count": 36,
   "metadata": {},
   "outputs": [
    {
     "data": {
      "image/png": "[encoded data removed]",
      "text/plain": [
       "<Figure size 432x288 with 1 Axes>"
      ]
     },
     "metadata": {
      "needs_background": "light"
     },
     "output_type": "display_data"
    }
   ],
   "source": [
    "# Average number of words per dream - Top dreamers\n",
    "\n",
    "n = 15\n",
    "\n",
    "top_dreamers = dreams_df['id'].value_counts(ascending=False).head(n).index\n",
    "\n",
    "from nltk.tokenize import regexp_tokenize\n",
    "\n",
    "# function for the average number of words in a dream of a dreamer\n",
    "def avg_words_dream(id):\n",
    "    length_dream = []\n",
    "    for i in dreams_df[dreams_df['id'] == id].dream:\n",
    "        length_dream.append(len(regexp_tokenize(i, '\\w+')))\n",
    "    return round(np.mean(length_dream)).astype(np.int)\n",
    "\n",
    "#plot\n",
    "sns.barplot(top_dreamers, [avg_words_dream(i) for i in top_dreamers], color='teal')\n",
    "plt.title(\"Average number of WORDS per dream - Top {} dreamers\".format(n), fontsize=16)\n",
    "plt.xlabel(\"Dreamer id\", fontsize=14)\n",
    "plt.xticks(rotation=45)\n",
    "plt.subplots_adjust(left=0, bottom=-0.2, right=1.5, top=1, wspace=0, hspace=0)\n",
    "plt.show()"
   ]
  },
  {
   "cell_type": "code",
   "execution_count": 37,
   "metadata": {},
   "outputs": [
    {
     "data": {
      "image/png": "[encoded data removed]",
      "text/plain": [
       "<Figure size 432x288 with 1 Axes>"
      ]
     },
     "metadata": {
      "needs_background": "light"
     },
     "output_type": "display_data"
    }
   ],
   "source": [
    "# Average number of sentences per dream - Top dreamers\n",
    "\n",
    "n = 15\n",
    "\n",
    "top_dreamers = dreams_df['id'].value_counts(ascending=False).head(n).index\n",
    "\n",
    "from nltk.tokenize import sent_tokenize\n",
    "\n",
    "# function for the average number of words in a dream of a dreamer\n",
    "def avg_sentences_dream(id):\n",
    "    length_dream = []\n",
    "    for i in dreams_df[dreams_df['id'] == id].dream:\n",
    "        length_dream.append(len(sent_tokenize(i)))\n",
    "    return round(np.mean(length_dream)).astype(np.int)\n",
    "\n",
    "#plot\n",
    "sns.barplot(top_dreamers, [avg_sentences_dream(i) for i in top_dreamers], color='steelblue')\n",
    "plt.title(\"Average number of SENTENCES per dream - Top {} dreamers\".format(n), fontsize=16)\n",
    "plt.xlabel(\"Dreamer id\", fontsize=14)\n",
    "plt.xticks(rotation=45)\n",
    "plt.subplots_adjust(left=0, bottom=-0.2, right=1.5, top=1, wspace=0, hspace=0)\n",
    "plt.show()"
   ]
  },
  {
   "cell_type": "code",
   "execution_count": 38,
   "metadata": {},
   "outputs": [
    {
     "name": "stdout",
     "output_type": "stream",
     "text": [
      "Couldn't find program: 'false'\n"
     ]
    }
   ],
   "source": [
    "%%script false\n",
    "# Most used words\n",
    "from collections import Counter\n",
    "from nltk.tokenize import word_tokenize\n",
    "from nltk.corpus import stopwords\n",
    "\n",
    "# words in each dream\n",
    "j = [regexp_tokenize(i, '\\w+') for i in dreams_df.dream]\n",
    "\n",
    "# all the words in all the dreams \n",
    "all_words = [x for i in j for x in i]\n",
    "\n",
    "# convert to lower case and exclude stopwords\n",
    "all_words = [i.lower() for i in all_words]\n",
    "all_words = [i for i in all_words if i not in stopwords.words('english')]\n",
    "\n",
    "\n",
    "# Count the occurence of words in all dreams\n",
    "counter = Counter(all_words)\n",
    "\n",
    "n = 30\n",
    "\n",
    "# n most common words\n",
    "most_common = counter.most_common(n)\n",
    "print(\"{} most common words used:\\n {}\".format(n, most_common), \"\\n\")\n",
    "\n",
    "\n",
    "\n",
    "# 30 most common words used:\n",
    "#  [('one', 12687), ('like', 11640), ('go', 11546), ('br', 11353), ('see', 11242), ('get', 10913), ('back', 8875), \n",
    "# ('room', 7358), ('man', 7332), ('going', 7298), ('people', 6676), ('house', 6474), ('said', 6093), ('around', 5876), \n",
    "# ('something', 5835), ('say', 5421), ('know', 5360), ('went', 5342), ('dream', 5315), ('would', 5165), ('woman', 4858),\n",
    "# ('think', 4827), ('says', 4663), ('got', 4632), ('us', 4626), ('two', 4591), ('time', 4543), ('car', 4483), \n",
    "# ('look', 4378), ('could', 4050)]"
   ]
  },
  {
   "cell_type": "markdown",
   "metadata": {},
   "source": [
    "### Individual best case: Barb Sanders"
   ]
  },
  {
   "cell_type": "code",
   "execution_count": 39,
   "metadata": {},
   "outputs": [
    {
     "data": {
      "image/png": "[encoded data removed]",
      "text/plain": [
       "<Figure size 432x288 with 1 Axes>"
      ]
     },
     "metadata": {
      "needs_background": "light"
     },
     "output_type": "display_data"
    }
   ],
   "source": [
    "dreamer = 'Barb Sanders'\n",
    "\n",
    "# Barb Sanders dataframe\n",
    "b_df = dreams_df[dreams_df['name'] == dreamer]\n",
    "\n",
    "# number of dreams per year (recorded)\n",
    "nr_dreams = b_df['dream_year'].value_counts().sort_index()\n",
    "\n",
    "# nr dreams per year\n",
    "x_0 = nr_dreams.index.astype(np.int)\n",
    "x = []\n",
    "y = np.arange(int(min(nr_dreams.index)), int(max(nr_dreams.index))+1)\n",
    "\n",
    "for i in y:\n",
    "    if i not in x_0:\n",
    "        x.append(0)\n",
    "    else:\n",
    "        x.append(nr_dreams.loc[str(i)])\n",
    "\n",
    "\n",
    "# annotate\n",
    "\n",
    "    \n",
    "# plot\n",
    "sns.barplot(x=nr_dreams.index, y=nr_dreams, color='g')  \n",
    "plt.title(\"{} number of dreams per year\".format(dreamer), fontsize=16)\n",
    "plt.xlabel(\"Year\")\n",
    "plt.ylabel(\"Number of dreams\")\n",
    "plt.xticks(rotation=45)\n",
    "plt.subplots_adjust(left=0, bottom=-0.3, right=2, top=1, wspace=0, hspace=0)\n",
    "plt.show()"
   ]
  },
  {
   "cell_type": "code",
   "execution_count": 83,
   "metadata": {},
   "outputs": [
    {
     "data": {
      "image/png": "[encoded data removed]",
      "text/plain": [
       "<Figure size 432x288 with 1 Axes>"
      ]
     },
     "metadata": {
      "needs_background": "light"
     },
     "output_type": "display_data"
    }
   ],
   "source": [
    "from nltk.tokenize import regexp_tokenize\n",
    "\n",
    "# number of words per dream\n",
    "w_per_dream = [len(regexp_tokenize(i, '\\w+')) for i in b_df.dream]\n",
    "\n",
    "sns.distplot(w_per_dream, kde=False, color='g')\n",
    "plt.title(\"Distribution of words per dream\".format(dreamer), fontsize=16)\n",
    "plt.xlabel(\"Words\")\n",
    "plt.ylabel(\"Frequency\")\n",
    "plt.subplots_adjust(left=0, bottom=-0.3, right=2, top=1, wspace=0, hspace=0)\n",
    "plt.show()"
   ]
  },
  {
   "cell_type": "markdown",
   "metadata": {},
   "source": [
    "**Topic identification**"
   ]
  },
  {
   "cell_type": "code",
   "execution_count": 41,
   "metadata": {},
   "outputs": [
    {
     "name": "stdout",
     "output_type": "stream",
     "text": [
      "25 most common words used by Barb Sanders:\n",
      " [('see', 3639), ('go', 3459), ('get', 2842), ('like', 2793), ('say', 2539), ('says', 2267), ('man', 2188), ('one', 2142), ('back', 1837), ('room', 1646), ('woman', 1595), ('look', 1545), ('feel', 1434), ('around', 1230), ('going', 1216), ('want', 1214), ('house', 993), ('comes', 978), ('think', 942), ('people', 931), ('find', 909), ('know', 854), ('take', 834), ('walk', 833), ('come', 812)] \n",
      "\n"
     ]
    }
   ],
   "source": [
    "# Most used words\n",
    "from collections import Counter\n",
    "from nltk.tokenize import word_tokenize\n",
    "from nltk.corpus import stopwords\n",
    "\n",
    "# words in each dream\n",
    "j = [regexp_tokenize(i, '\\w+') for i in b_df.dream]\n",
    "\n",
    "# all the words in all the dreams \n",
    "all_words = [x for i in j for x in i]\n",
    "\n",
    "# convert to lower case and exclude stopwords\n",
    "all_words = [i.lower() for i in all_words]\n",
    "all_words = [i for i in all_words if i not in stopwords.words('english')]\n",
    "\n",
    "\n",
    "# Count the occurence of words in all dreams\n",
    "counter = Counter(all_words)\n",
    "\n",
    "n = 25\n",
    "\n",
    "# n most common words\n",
    "most_common = counter.most_common(n)\n",
    "print(\"{} most common words used by Barb Sanders:\\n {}\".format(n, most_common), \"\\n\")\n",
    "\n",
    "# from nltk.stem import WordNetLemmatizer --> tira o plural das palavras\n"
   ]
  },
  {
   "cell_type": "code",
   "execution_count": 42,
   "metadata": {},
   "outputs": [
    {
     "name": "stdout",
     "output_type": "stream",
     "text": [
      "942\n",
      "238\n"
     ]
    }
   ],
   "source": [
    "# count the number of times certain word appears --> lower case only: all_words\n",
    "from gensim.corpora.dictionary import Dictionary\n",
    "\n",
    "print(all_words.count('think') )\n",
    "\n",
    "# or\n",
    "\n",
    "dictionary = Dictionary(j)  #usar o regexp_tokenize para cada uma das linhas (sonhos) e não a lista já com todos (all_words)\n",
    "\n",
    "# print(dictionary.token2id)\n",
    "\n",
    "print(dictionary.token2id.get('think')) # this is just the id of the word"
   ]
  },
  {
   "cell_type": "code",
   "execution_count": 43,
   "metadata": {},
   "outputs": [
    {
     "name": "stdout",
     "output_type": "stream",
     "text": [
      "TfidfModel\n",
      "\n",
      "word_id and weights of dream number 91:\n",
      " [(1, 0.004990671768863637), (11, 0.033226827381071765), (14, 0.009260254781334052), (17, 0.24897899732950246), (22, 0.002835491825492618), (27, 0.02874737560647034), (33, 0.03336016460973242), (35, 0.0649432016453381), (45, 0.05764639818573177), (51, 0.01680673473757381), (55, 0.045442093417563924), (57, 0.028546264778722057), (60, 0.012316974192557), (80, 0.16941954428303932), (91, 0.016918069100270876), (95, 0.014356140563966637), (96, 0.10607315618181949), (99, 0.05795287734517068), (134, 0.03917205468849602), (137, 0.04227844767233973), (242, 0.05620827095890674), (348, 0.03767777764527082), (397, 0.09039852684707471), (401, 0.060945643670787066), (434, 0.08118931605785701), (447, 0.23636602958857297), (628, 0.09039852684707471), (764, 0.10255280500025692), (914, 0.13736617510924218), (979, 0.2137870002827067), (1254, 0.28622069736893613), (1265, 0.19845325899861085), (1316, 0.171390886664702), (1630, 0.18923391952343926), (1680, 0.09459838535817719), (1681, 0.10439230558273742), (1762, 0.2599212947440033), (1763, 0.13267284356297138), (1764, 0.18923391952343926), (1765, 0.12526731582573084), (1766, 0.12421647379677574), (1767, 0.18923391952343926), (1768, 0.12320685204087134), (1769, 0.3312934261789523), (1770, 0.1312810421782686), (1771, 0.1478036802307389), (1772, 0.1341442185968792), (1773, 0.17879641440194258), (1774, 0.171390886664702), (1775, 0.171390886664702), (1776, 0.18923391952343926), (1777, 0.10908563712900823)]\n",
      "\n",
      "\n",
      "Top 5 weighted words of dream number 91:\n",
      "\n",
      "groom 0.3312934261789523\n",
      "minister 0.28622069736893613\n",
      "aisle 0.2599212947440033\n",
      "came 0.24897899732950246\n",
      "male 0.23636602958857297\n"
     ]
    }
   ],
   "source": [
    "# Tf-idf\n",
    "print(\"TfidfModel\\n\")\n",
    "\n",
    "from gensim.corpora.dictionary import Dictionary\n",
    "\n",
    "words_dreams = [regexp_tokenize(w.lower(), '\\w+') for w in b_df.dream if w not in stopwords.words('english')]\n",
    "\n",
    "dictionary = Dictionary(words_dreams)\n",
    "\n",
    "corpus = [dictionary.doc2bow(d) for d in words_dreams]\n",
    "\n",
    "n = 90\n",
    "doc = corpus[n]   #nth dream\n",
    "\n",
    "##################################################################################\n",
    "\n",
    "# Import TfidfModel\n",
    "from gensim.models.tfidfmodel import TfidfModel\n",
    "\n",
    "# Create a new TfidfModel using the corpus: tfidf\n",
    "tfidf = TfidfModel(corpus)\n",
    "\n",
    "# tfidf weights of the dream in question\n",
    "tfidf_weights = tfidf[doc]\n",
    "\n",
    "# Print the weights\n",
    "print(\"word_id and weights of dream number {}:\\n\".format(n+1), tfidf_weights)\n",
    "\n",
    "########################################\n",
    "print(\"\\n\")\n",
    "\n",
    "# Sort the weights from highest to lowest: sorted_tfidf_weights\n",
    "sorted_tfidf_weights = sorted(tfidf_weights, key=lambda w: w[1], reverse=True)\n",
    "\n",
    "# Print the top 5 weighted words\n",
    "print(\"Top 5 weighted words of dream number {}:\\n\".format(n+1))\n",
    "for term_id, weight in sorted_tfidf_weights[:5]:\n",
    "    print(dictionary.get(term_id), weight)\n"
   ]
  },
  {
   "cell_type": "markdown",
   "metadata": {},
   "source": [
    "**Named Entity Recognition**"
   ]
  },
  {
   "cell_type": "code",
   "execution_count": 44,
   "metadata": {},
   "outputs": [
    {
     "data": {
      "image/png": "[encoded data removed]",
      "text/plain": [
       "<Figure size 432x288 with 1 Axes>"
      ]
     },
     "metadata": {},
     "output_type": "display_data"
    },
    {
     "data": {
      "text/plain": [
       "defaultdict(int,\n",
       "            {'PERSON': 5432,\n",
       "             'ORGANIZATION': 964,\n",
       "             'GPE': 1644,\n",
       "             'LOCATION': 11,\n",
       "             'GSP': 12,\n",
       "             'FACILITY': 36})"
      ]
     },
     "execution_count": 44,
     "metadata": {},
     "output_type": "execute_result"
    }
   ],
   "source": [
    "# nltk NER\n",
    "import nltk\n",
    "\n",
    "# token_sentences = [regexp_tokenize(w, '\\w+') for w in b_df.dream]\n",
    "token_sentences = [word_tokenize(w) for w in b_df.dream]  ## é preciso manter as maiúsculas, etc\n",
    "\n",
    "pos_dreams = [nltk.pos_tag(d) for d in token_sentences]\n",
    "\n",
    "chunked_sentences = nltk.ne_chunk_sents(pos_dreams)\n",
    "\n",
    "###### Chart\n",
    "\n",
    "from collections import defaultdict\n",
    "\n",
    "# Create the defaultdict: ner_categories\n",
    "ner_categories = defaultdict(int)\n",
    "\n",
    "# Create the nested for loop\n",
    "for sent in chunked_sentences:\n",
    "    for chunk in sent:\n",
    "        if hasattr(chunk, 'label'):\n",
    "            ner_categories[chunk.label()] += 1\n",
    "            \n",
    "# Create a list from the dictionary keys for the chart labels: labels\n",
    "labels = list(ner_categories.keys())\n",
    "\n",
    "# Create a list of the values: values\n",
    "values = [ner_categories.get(l) for l in labels]\n",
    "\n",
    "# Create the pie chart\n",
    "plt.pie(values, labels=labels, autopct='%1.1f%%', startangle=140)\n",
    "\n",
    "# Display the chart\n",
    "plt.subplots_adjust(left=0, bottom=-1, right=1.8, top=1, wspace=0, hspace=0)\n",
    "plt.title(\"Named Entities in dreams\")\n",
    "plt.show()\n",
    "\n",
    "\n",
    "ner_categories"
   ]
  },
  {
   "cell_type": "code",
   "execution_count": 45,
   "metadata": {},
   "outputs": [
    {
     "name": "stdout",
     "output_type": "stream",
     "text": [
      "<spacy.pipeline.pipes.EntityRecognizer object at 0x000001FC2CACB048>\n",
      "Ginny and I have an argument. She's explaining something to me. I find it hard to listen. I then see she's saying and doing some incredible things. Things and words and colors are coming out of her mouth like vomit. I'm scared and concerned for her and I'm also upset because these things have meaning for me, to help me. I ask her what drug she's on. My brother Dwight is there. She says, \"9.\" I ask Dwight what that is. She follows me around and won't stop. After what seems like a long time, I start to do it too. Suddenly I see dazzling, sparkling blue and red colors like fireworks or prism colors on the end of my tongue. Ginny's face goes out of focus. I am aware that I'm letting go and I'm in a different state of awareness. I talk rapidly, non-stop, and I'm vaguely aware that I might be saying hurtful things that could hurt other people's feelings, but I know I must and it's O.K. It spews out of me unchecked.\n",
      "\n",
      " (Dwight, 9, Dwight, Ginny, O.K.) \n",
      "\n",
      "Dwight : PERSON\n",
      "9 : CARDINAL\n",
      "Dwight : WORK_OF_ART\n",
      "Ginny : PERSON\n",
      "O.K. : PERSON\n"
     ]
    }
   ],
   "source": [
    "# SpaCy NER\n",
    "import spacy\n",
    "\n",
    "nlp = spacy.load('en')\n",
    "\n",
    "print(nlp.entity)\n",
    "\n",
    "# dream \n",
    "n = 200\n",
    "print(b_df.dream.iloc[n])\n",
    "\n",
    "doc = nlp(b_df.dream.iloc[n])\n",
    "\n",
    "print(\"\\n\", doc.ents, \"\\n\")\n",
    "\n",
    "for i in doc.ents:\n",
    "    print(i,\":\", i.label_)   # --> treinar e importar vetores meus..."
   ]
  },
  {
   "cell_type": "code",
   "execution_count": 46,
   "metadata": {},
   "outputs": [
    {
     "name": "stdout",
     "output_type": "stream",
     "text": [
      "Ginny and I have an argument. She's explaining something to me. I find it hard to listen. I then see she's saying and doing some incredible things. Things and words and colors are coming out of her mouth like vomit. I'm scared and concerned for her and I'm also upset because these things have meaning for me, to help me. I ask her what drug she's on. My brother Dwight is there. She says, \"9.\" I ask Dwight what that is. She follows me around and won't stop. After what seems like a long time, I start to do it too. Suddenly I see dazzling, sparkling blue and red colors like fireworks or prism colors on the end of my tongue. Ginny's face goes out of focus. I am aware that I'm letting go and I'm in a different state of awareness. I talk rapidly, non-stop, and I'm vaguely aware that I might be saying hurtful things that could hurt other people's feelings, but I know I must and it's O.K. It spews out of me unchecked. \n",
      "\n",
      "[I-PER(['Ginny']), I-PER([\"I'm\"]), I-PER(['Dwight']), I-PER(['Dwight']), I-PER([\"it's\"])]\n"
     ]
    },
    {
     "data": {
      "text/plain": [
       "[('I-PER', 'Ginny'),\n",
       " ('I-PER', \"I'm\"),\n",
       " ('I-PER', 'Dwight'),\n",
       " ('I-PER', 'Dwight'),\n",
       " ('I-PER', \"it's\")]"
      ]
     },
     "execution_count": 46,
     "metadata": {},
     "output_type": "execute_result"
    }
   ],
   "source": [
    "#polyglot\n",
    "from polyglot.text import Text\n",
    "\n",
    "# dream \n",
    "n = 200\n",
    "dream_number = b_df.dream.iloc[n]\n",
    "ptext = Text(dream_number)\n",
    "print(ptext, \"\\n\")\n",
    "\n",
    "print(ptext.entities)  # melhor\n",
    "\n",
    "########OR\n",
    "\n",
    "entities = [(ent.tag, ' '.join(ent)) for ent in ptext.entities]\n",
    "entities"
   ]
  },
  {
   "cell_type": "code",
   "execution_count": 47,
   "metadata": {},
   "outputs": [
    {
     "name": "stdout",
     "output_type": "stream",
     "text": [
      "name: inglês      code: en       confidence:  99.0 read bytes:  1250\n"
     ]
    }
   ],
   "source": [
    "from polyglot.detect import Detector\n",
    "detector = Detector(dream_number)\n",
    "print(detector.language)\n",
    "\n",
    "# https://polyglot.readthedocs.io/en/latest/index.html        -->Documentation"
   ]
  },
  {
   "cell_type": "code",
   "execution_count": 48,
   "metadata": {},
   "outputs": [
    {
     "name": "stdout",
     "output_type": "stream",
     "text": [
      "name: inglês      code: en       confidence:  87.0 read bytes:  1124\n",
      "name: chinês      code: zh_Hant  confidence:   5.0 read bytes:  1755\n",
      "name: un          code: un       confidence:   0.0 read bytes:     0\n",
      "\n",
      " [I-LOC(['China']), I-LOC([\"People's\", 'Republic', 'of', 'China']), I-LOC(['East', 'Asia'])]\n"
     ]
    }
   ],
   "source": [
    "mixed_text = \"\"\" China (simplified Chinese: 中国; traditional Chinese: 中國),\n",
    "officially the People's Republic of China (PRC), is a soverei n state located in East Asia\"\"\"\n",
    "\n",
    "for language in Detector(mixed_text).languages:\n",
    "    print(language)\n",
    "\n",
    "print(\"\\n\", Text(mixed_text).entities)"
   ]
  },
  {
   "cell_type": "code",
   "execution_count": null,
   "metadata": {},
   "outputs": [],
   "source": []
  },
  {
   "cell_type": "code",
   "execution_count": null,
   "metadata": {},
   "outputs": [],
   "source": []
  },
  {
   "cell_type": "code",
   "execution_count": null,
   "metadata": {},
   "outputs": [],
   "source": []
  },
  {
   "cell_type": "code",
   "execution_count": null,
   "metadata": {},
   "outputs": [],
   "source": []
  },
  {
   "cell_type": "code",
   "execution_count": null,
   "metadata": {},
   "outputs": [],
   "source": []
  },
  {
   "cell_type": "markdown",
   "metadata": {},
   "source": [
    "### NLP - MODELS"
   ]
  },
  {
   "cell_type": "code",
   "execution_count": 49,
   "metadata": {},
   "outputs": [],
   "source": [
    "# number of times a word appears\n",
    "\n",
    "# all words\n",
    "CountVectorizer().fit(dreams_df.dream).get_feature_names()[:15]  \n",
    "\n",
    "# nltk\n",
    "from nltk.tokenize import word_tokenize\n",
    "# [word_tokenize(d) for d in dreams_df.dream]   # slower"
   ]
  },
  {
   "cell_type": "code",
   "execution_count": null,
   "metadata": {},
   "outputs": [],
   "source": []
  },
  {
   "cell_type": "code",
   "execution_count": null,
   "metadata": {},
   "outputs": [],
   "source": []
  },
  {
   "cell_type": "code",
   "execution_count": null,
   "metadata": {},
   "outputs": [],
   "source": []
  },
  {
   "cell_type": "code",
   "execution_count": null,
   "metadata": {},
   "outputs": [],
   "source": []
  },
  {
   "cell_type": "markdown",
   "metadata": {},
   "source": [
    "## ML Models: predict features of the data"
   ]
  },
  {
   "cell_type": "code",
   "execution_count": 50,
   "metadata": {},
   "outputs": [],
   "source": [
    "from sklearn.model_selection import train_test_split\n",
    "from sklearn.pipeline import Pipeline\n"
   ]
  },
  {
   "cell_type": "markdown",
   "metadata": {},
   "source": [
    "### CountVectorizer() "
   ]
  },
  {
   "cell_type": "code",
   "execution_count": 51,
   "metadata": {},
   "outputs": [],
   "source": [
    "from sklearn.feature_extraction.text import CountVectorizer"
   ]
  },
  {
   "cell_type": "code",
   "execution_count": 52,
   "metadata": {},
   "outputs": [
    {
     "name": "stdout",
     "output_type": "stream",
     "text": [
      "Dream example:\n",
      "The one at the Meads's house, where it's bigger inside than out; there's a European village just inside, with a cobblestone street and a Pied-Piper sort of man with curly hair, he can do things like juggle - I go up the back stairs [there aren't any in the real house] and then down the other side [since there's a second set, immediately] then down a short empty hallway that turns a corner, where I find a tiny room...a young woman with shoulder-length blonde hair in a pageboy is there, cooking at a stove that almost fills the room...she's nice to me. Now outside, I'm waiting for my aunt to pick me up - she arrives in a little round convertible and we go for a drive, not very far - we cross a little bridge over a creek, then double back and she drops me off at the house again. Inside (?) I sit with a couple of people, playing with a string of blue balloons.\n",
      "\n",
      "Transformed text vector is \n",
      "[[1 1 4 1 1 1 3 1 2 1 1 1 1 1 1 1 1 1 1 1 1 1 1 1 1 2 1 1 1 1 1 1 1 2 2 2\n",
      "  1 1 3 1 3 3 1 1 1 1 1 1 2 1 3 1 1 1 1 1 3 1 1 1 1 1 1 1 1 1 1 1 1 1 2 1\n",
      "  1 1 3 1 1 1 1 1 1 1 1 1 1 1 2 7 3 4 1 1 2 1 2 1 1 1 2 2 5 1 1]]\n",
      "\n",
      "Words for each feature:\n",
      "['again', 'almost', 'and', 'any', 'aren', 'arrives', 'at', 'aunt', 'back', 'balloons', 'bigger', 'blonde', 'blue', 'bridge', 'can', 'cobblestone', 'convertible', 'cooking', 'corner', 'couple', 'creek', 'cross', 'curly', 'do', 'double', 'down', 'drive', 'drops', 'empty', 'european', 'far', 'fills', 'find', 'for', 'go', 'hair', 'hallway', 'he', 'house', 'immediately', 'in', 'inside', 'is', 'it', 'juggle', 'just', 'length', 'like', 'little', 'man', 'me', 'meads', 'my', 'nice', 'not', 'now', 'of', 'off', 'one', 'other', 'out', 'outside', 'over', 'pageboy', 'people', 'pick', 'pied', 'piper', 'playing', 'real', 'room', 'round', 'second', 'set', 'she', 'short', 'shoulder', 'side', 'since', 'sit', 'sort', 'stairs', 'stove', 'street', 'string', 'than', 'that', 'the', 'then', 'there', 'things', 'tiny', 'to', 'turns', 'up', 'very', 'village', 'waiting', 'we', 'where', 'with', 'woman', 'young']\n"
     ]
    }
   ],
   "source": [
    "# dream example\n",
    "text = [dreams_df['dream'][0]]\n",
    "print(\"Dream example:\\n{}\".format('\\n'.join(text)))\n",
    "\n",
    "vectorizer = CountVectorizer()\n",
    "\n",
    "# call 'fit' to build the vocabulary\n",
    "vectorizer.fit(text)\n",
    "\n",
    "# calling 'transform' to convert text to a bag of words\n",
    "x = vectorizer.transform(text)\n",
    "\n",
    "# CountVectorizer uses a sparse array to save memory, but it's easier in this assignment to \n",
    "# convert back to a \"normal\" numpy array\n",
    "x = x.toarray()\n",
    "\n",
    "print(\"\")\n",
    "print(\"Transformed text vector is \\n{}\".format(x))\n",
    "\n",
    "# 'get_feature_names()' tracks which word is associated with each column of the transformed x\n",
    "print(\"\")\n",
    "print(\"Words for each feature:\")\n",
    "print(vectorizer.get_feature_names())\n",
    "\n",
    "# the bag of words treatment doesn't preserve information about the order of words, just their frequency"
   ]
  },
  {
   "cell_type": "code",
   "execution_count": 53,
   "metadata": {},
   "outputs": [
    {
     "name": "stdout",
     "output_type": "stream",
     "text": [
      "Total number of unique words: 35574\n",
      "Total number of unique dreams: 19430\n"
     ]
    }
   ],
   "source": [
    "# total number of unique words\n",
    "vectorizer = CountVectorizer()\n",
    "\n",
    "vectorizer.fit(dreams_df['dream'])\n",
    "\n",
    "print(\"Total number of unique words: {}\".format(len(vectorizer.get_feature_names())))\n",
    "print(\"Total number of unique dreams: {}\".format(len(dreams_df.dream.unique())))  # só há 1 repetido"
   ]
  },
  {
   "cell_type": "code",
   "execution_count": 54,
   "metadata": {},
   "outputs": [
    {
     "data": {
      "image/png": "[encoded data removed]",
      "text/plain": [
       "<Figure size 432x288 with 2 Axes>"
      ]
     },
     "metadata": {
      "needs_background": "light"
     },
     "output_type": "display_data"
    }
   ],
   "source": [
    "# cumulative distribution (CDF) of document frequencies - df\n",
    "\n",
    "# bag of words\n",
    "X = vectorizer.fit_transform(dreams_df.dream)\n",
    "\n",
    "doc_freq = pd.Series(sorted(np.sum(X > 0, axis=0).tolist()[0]))\n",
    "cum = np.arange(np.sum(doc_freq))\n",
    "\n",
    "# plot \n",
    "plt.subplot(1, 2, 1)\n",
    "plt.hist(doc_freq, cum, density=True, cumulative=True, histtype='step')\n",
    "plt.xlim(0,80)\n",
    "plt.title(\"CDF of document frequencies\")\n",
    "plt.xlabel(\"Document count\")\n",
    "plt.ylabel(\"% of words that appear less than xi times\")\n",
    "plt.xticks(range(0, 81, 10))\n",
    "\n",
    "# zoomed version\n",
    "plt.subplot(1, 2, 2)\n",
    "plt.hist(doc_freq, cum, density=True, cumulative=True, histtype='stepfilled')\n",
    "plt.xlim(0,6)\n",
    "plt.title(\"CDF of document frequencies\")\n",
    "plt.xlabel(\"Document count\")\n",
    "plt.ylabel(\"% of words that appear less than xi times\")\n",
    "plt.xticks(range(8))\n",
    "\n",
    "plt.subplots_adjust(left=0, bottom=-0.3, right=2, top=1, wspace=0.4, hspace=0)\n",
    "plt.show()\n",
    "\n",
    "# min_df = 3 ?\n",
    "# max_df = 20 ?"
   ]
  },
  {
   "cell_type": "code",
   "execution_count": 55,
   "metadata": {},
   "outputs": [
    {
     "data": {
      "text/plain": [
       "array([      0,       1,       2, ..., 1665271, 1665272, 1665273],\n",
       "      dtype=int64)"
      ]
     },
     "execution_count": 55,
     "metadata": {},
     "output_type": "execute_result"
    }
   ],
   "source": [
    "np.sum(X, axis=0).tolist()[0]\n",
    "cum"
   ]
  },
  {
   "cell_type": "code",
   "execution_count": null,
   "metadata": {},
   "outputs": [],
   "source": []
  },
  {
   "cell_type": "code",
   "execution_count": null,
   "metadata": {},
   "outputs": [],
   "source": []
  },
  {
   "cell_type": "code",
   "execution_count": null,
   "metadata": {},
   "outputs": [],
   "source": []
  },
  {
   "cell_type": "code",
   "execution_count": 56,
   "metadata": {},
   "outputs": [
    {
     "data": {
      "text/html": [
       "<div>\n",
       "<style scoped>\n",
       "    .dataframe tbody tr th:only-of-type {\n",
       "        vertical-align: middle;\n",
       "    }\n",
       "\n",
       "    .dataframe tbody tr th {\n",
       "        vertical-align: top;\n",
       "    }\n",
       "\n",
       "    .dataframe thead th {\n",
       "        text-align: right;\n",
       "    }\n",
       "</style>\n",
       "<table border=\"1\" class=\"dataframe\">\n",
       "  <thead>\n",
       "    <tr style=\"text-align: right;\">\n",
       "      <th></th>\n",
       "      <th>alta</th>\n",
       "      <th>angie</th>\n",
       "      <th>arlie</th>\n",
       "      <th>b</th>\n",
       "      <th>b2</th>\n",
       "      <th>bay_area_girls_456</th>\n",
       "      <th>bay_area_girls_789</th>\n",
       "      <th>bea1</th>\n",
       "      <th>bea2</th>\n",
       "      <th>blind-f</th>\n",
       "      <th>...</th>\n",
       "      <th>phil3</th>\n",
       "      <th>physiologist</th>\n",
       "      <th>ringo</th>\n",
       "      <th>samantha</th>\n",
       "      <th>seventh_graders</th>\n",
       "      <th>toby</th>\n",
       "      <th>tom</th>\n",
       "      <th>ucsc_women</th>\n",
       "      <th>vickie</th>\n",
       "      <th>west_coast_teens</th>\n",
       "    </tr>\n",
       "  </thead>\n",
       "  <tbody>\n",
       "    <tr>\n",
       "      <th>0</th>\n",
       "      <td>1</td>\n",
       "      <td>0</td>\n",
       "      <td>0</td>\n",
       "      <td>0</td>\n",
       "      <td>0</td>\n",
       "      <td>0</td>\n",
       "      <td>0</td>\n",
       "      <td>0</td>\n",
       "      <td>0</td>\n",
       "      <td>0</td>\n",
       "      <td>...</td>\n",
       "      <td>0</td>\n",
       "      <td>0</td>\n",
       "      <td>0</td>\n",
       "      <td>0</td>\n",
       "      <td>0</td>\n",
       "      <td>0</td>\n",
       "      <td>0</td>\n",
       "      <td>0</td>\n",
       "      <td>0</td>\n",
       "      <td>0</td>\n",
       "    </tr>\n",
       "    <tr>\n",
       "      <th>1</th>\n",
       "      <td>1</td>\n",
       "      <td>0</td>\n",
       "      <td>0</td>\n",
       "      <td>0</td>\n",
       "      <td>0</td>\n",
       "      <td>0</td>\n",
       "      <td>0</td>\n",
       "      <td>0</td>\n",
       "      <td>0</td>\n",
       "      <td>0</td>\n",
       "      <td>...</td>\n",
       "      <td>0</td>\n",
       "      <td>0</td>\n",
       "      <td>0</td>\n",
       "      <td>0</td>\n",
       "      <td>0</td>\n",
       "      <td>0</td>\n",
       "      <td>0</td>\n",
       "      <td>0</td>\n",
       "      <td>0</td>\n",
       "      <td>0</td>\n",
       "    </tr>\n",
       "    <tr>\n",
       "      <th>2</th>\n",
       "      <td>1</td>\n",
       "      <td>0</td>\n",
       "      <td>0</td>\n",
       "      <td>0</td>\n",
       "      <td>0</td>\n",
       "      <td>0</td>\n",
       "      <td>0</td>\n",
       "      <td>0</td>\n",
       "      <td>0</td>\n",
       "      <td>0</td>\n",
       "      <td>...</td>\n",
       "      <td>0</td>\n",
       "      <td>0</td>\n",
       "      <td>0</td>\n",
       "      <td>0</td>\n",
       "      <td>0</td>\n",
       "      <td>0</td>\n",
       "      <td>0</td>\n",
       "      <td>0</td>\n",
       "      <td>0</td>\n",
       "      <td>0</td>\n",
       "    </tr>\n",
       "    <tr>\n",
       "      <th>3</th>\n",
       "      <td>1</td>\n",
       "      <td>0</td>\n",
       "      <td>0</td>\n",
       "      <td>0</td>\n",
       "      <td>0</td>\n",
       "      <td>0</td>\n",
       "      <td>0</td>\n",
       "      <td>0</td>\n",
       "      <td>0</td>\n",
       "      <td>0</td>\n",
       "      <td>...</td>\n",
       "      <td>0</td>\n",
       "      <td>0</td>\n",
       "      <td>0</td>\n",
       "      <td>0</td>\n",
       "      <td>0</td>\n",
       "      <td>0</td>\n",
       "      <td>0</td>\n",
       "      <td>0</td>\n",
       "      <td>0</td>\n",
       "      <td>0</td>\n",
       "    </tr>\n",
       "    <tr>\n",
       "      <th>4</th>\n",
       "      <td>1</td>\n",
       "      <td>0</td>\n",
       "      <td>0</td>\n",
       "      <td>0</td>\n",
       "      <td>0</td>\n",
       "      <td>0</td>\n",
       "      <td>0</td>\n",
       "      <td>0</td>\n",
       "      <td>0</td>\n",
       "      <td>0</td>\n",
       "      <td>...</td>\n",
       "      <td>0</td>\n",
       "      <td>0</td>\n",
       "      <td>0</td>\n",
       "      <td>0</td>\n",
       "      <td>0</td>\n",
       "      <td>0</td>\n",
       "      <td>0</td>\n",
       "      <td>0</td>\n",
       "      <td>0</td>\n",
       "      <td>0</td>\n",
       "    </tr>\n",
       "  </tbody>\n",
       "</table>\n",
       "<p>5 rows × 60 columns</p>\n",
       "</div>"
      ],
      "text/plain": [
       "   alta  angie  arlie  b  b2  bay_area_girls_456  bay_area_girls_789  bea1  \\\n",
       "0     1      0      0  0   0                   0                   0     0   \n",
       "1     1      0      0  0   0                   0                   0     0   \n",
       "2     1      0      0  0   0                   0                   0     0   \n",
       "3     1      0      0  0   0                   0                   0     0   \n",
       "4     1      0      0  0   0                   0                   0     0   \n",
       "\n",
       "   bea2  blind-f        ...         phil3  physiologist  ringo  samantha  \\\n",
       "0     0        0        ...             0             0      0         0   \n",
       "1     0        0        ...             0             0      0         0   \n",
       "2     0        0        ...             0             0      0         0   \n",
       "3     0        0        ...             0             0      0         0   \n",
       "4     0        0        ...             0             0      0         0   \n",
       "\n",
       "   seventh_graders  toby  tom  ucsc_women  vickie  west_coast_teens  \n",
       "0                0     0    0           0       0                 0  \n",
       "1                0     0    0           0       0                 0  \n",
       "2                0     0    0           0       0                 0  \n",
       "3                0     0    0           0       0                 0  \n",
       "4                0     0    0           0       0                 0  \n",
       "\n",
       "[5 rows x 60 columns]"
      ]
     },
     "execution_count": 56,
     "metadata": {},
     "output_type": "execute_result"
    }
   ],
   "source": [
    "pd.get_dummies(dreams_df['id']).head()"
   ]
  },
  {
   "cell_type": "code",
   "execution_count": null,
   "metadata": {},
   "outputs": [],
   "source": []
  },
  {
   "cell_type": "code",
   "execution_count": null,
   "metadata": {},
   "outputs": [],
   "source": []
  },
  {
   "cell_type": "markdown",
   "metadata": {},
   "source": [
    "## Data (X)"
   ]
  },
  {
   "cell_type": "code",
   "execution_count": 57,
   "metadata": {},
   "outputs": [],
   "source": [
    "n = 10\n",
    "top_dreamers = dreams_df['name'].value_counts(ascending=True).tail(n)\n",
    "\n",
    "# top 10 dreamers\n",
    "use_df = dreams_df[dreams_df.name.isin(top_dreamers.index)]\n",
    "\n",
    "# X\n",
    "X = dreams_df['dream']\n",
    "X_top_dreamers = use_df['dream']"
   ]
  },
  {
   "cell_type": "markdown",
   "metadata": {},
   "source": [
    "## Target (y)"
   ]
  },
  {
   "cell_type": "code",
   "execution_count": 58,
   "metadata": {},
   "outputs": [],
   "source": [
    "# y\n",
    "y = dreams_df['sex']\n",
    "y_top_dreamers = use_df['sex']"
   ]
  },
  {
   "cell_type": "markdown",
   "metadata": {},
   "source": [
    "### CountVectorizer() and MultinomialNB()"
   ]
  },
  {
   "cell_type": "code",
   "execution_count": 59,
   "metadata": {},
   "outputs": [],
   "source": [
    "from sklearn.naive_bayes import MultinomialNB"
   ]
  },
  {
   "cell_type": "markdown",
   "metadata": {},
   "source": [
    "All"
   ]
  },
  {
   "cell_type": "code",
   "execution_count": 85,
   "metadata": {},
   "outputs": [
    {
     "name": "stdout",
     "output_type": "stream",
     "text": [
      "Accuracy score for the training set: 0.906183368869936\n",
      "Accuracy score for the test set: 0.8545454545454545\n"
     ]
    }
   ],
   "source": [
    "# features & target\n",
    "\n",
    "X = CountVectorizer().fit_transform(dreams_df.dream)#.tocsc()\n",
    "# X = dreams_df['dream'] \n",
    "y = dreams_df['sex'] #.values.astype(np.int)\n",
    "\n",
    "classifier = 'MultinomialNB'\n",
    "\n",
    "# Multinomial Naïve Bayes\n",
    "\n",
    "# split into a training and test set\n",
    "X_train, X_test, y_train, y_test = train_test_split(X, y, test_size=0.3, random_state=1)\n",
    "\n",
    "# MultinomialNB() classifier with default parameters.\n",
    "multi_nb = MultinomialNB()\n",
    "\n",
    "# train the classifier over the training set and test on the test set\n",
    "multi_nb.fit(X_train, y_train)\n",
    "\n",
    "y_pred = multi_nb.predict(X_test)\n",
    "\n",
    "# accuracy scores for both the training and the test sets\n",
    "print(\"Accuracy score for the training set: {}\".format(multi_nb.score(X_train, y_train)))\n",
    "print(\"Accuracy score for the test set: {}\".format(multi_nb.score(X_test, y_test)))\n"
   ]
  },
  {
   "cell_type": "code",
   "execution_count": 87,
   "metadata": {},
   "outputs": [
    {
     "name": "stdout",
     "output_type": "stream",
     "text": [
      "\n",
      "Tuned MultinomialNB Parameters: {'alpha': 0.6000000001000001}\n",
      "All: accuracy score for MultinomialNB with tuning: 0.8548885077186964\n",
      "Wall time: 5.3 s\n"
     ]
    }
   ],
   "source": [
    "%%time\n",
    "# Tuning\n",
    "\n",
    "from sklearn.model_selection import train_test_split, GridSearchCV\n",
    "\n",
    "# hyperparameter grid\n",
    "param_grid = {'alpha': np.arange(1.0e-10, 1, 0.1)}\n",
    "\n",
    "grid_mnb = GridSearchCV(multi_nb, param_grid=param_grid, cv=5, iid=False)\n",
    "\n",
    "grid_mnb.fit(X_train, y_train)\n",
    "\n",
    "# hyperparametes & accuracy\n",
    "print(\"\\nTuned MultinomialNB Parameters: {}\".format(grid_mnb.best_params_))\n",
    "print('All: accuracy score for {} with tuning: {}'.format(classifier, grid_mnb.score(X_test, y_test)))"
   ]
  },
  {
   "cell_type": "markdown",
   "metadata": {},
   "source": [
    "#### Predictions"
   ]
  },
  {
   "cell_type": "code",
   "execution_count": 62,
   "metadata": {},
   "outputs": [
    {
     "data": {
      "text/plain": [
       "'I was talking with Jung and he was looking at me as if I knew something.'"
      ]
     },
     "execution_count": 62,
     "metadata": {},
     "output_type": "execute_result"
    }
   ],
   "source": [
    "# sentence = dreams_df['dream'][0]  # alta dream\n",
    "sentence = \"I was talking with Jung and he was looking at me as if I knew something.\"\n",
    "sentence"
   ]
  },
  {
   "cell_type": "code",
   "execution_count": 88,
   "metadata": {},
   "outputs": [
    {
     "name": "stdout",
     "output_type": "stream",
     "text": [
      "Prediction of the sentence: ['M']\n"
     ]
    }
   ],
   "source": [
    "# fit to build the vocabulary: dreams vocabulary\n",
    "vectorizer = CountVectorizer().fit(dreams_df['dream'])   \n",
    "\n",
    "# transform to convert the sentence to a bag of words\n",
    "sentence_transformed = vectorizer.transform([sentence])\n",
    "\n",
    "# Predict\n",
    "print(\"Prediction of the sentence: {}\".format(grid_mnb.predict(sentence_transformed)))\n"
   ]
  },
  {
   "cell_type": "code",
   "execution_count": null,
   "metadata": {},
   "outputs": [],
   "source": []
  },
  {
   "cell_type": "code",
   "execution_count": null,
   "metadata": {},
   "outputs": [],
   "source": []
  },
  {
   "cell_type": "code",
   "execution_count": 64,
   "metadata": {},
   "outputs": [
    {
     "data": {
      "text/plain": [
       "array([1, 1, 1, ..., 0, 0, 0])"
      ]
     },
     "execution_count": 64,
     "metadata": {},
     "output_type": "execute_result"
    }
   ],
   "source": [
    "(dreams_df.id == 'alta').values.astype(np.int)  # target: if it's alta id (1) or not (0)"
   ]
  },
  {
   "cell_type": "code",
   "execution_count": null,
   "metadata": {},
   "outputs": [],
   "source": []
  },
  {
   "cell_type": "markdown",
   "metadata": {},
   "source": [
    "### CountVectorizer() and OneVsRestClassifier"
   ]
  },
  {
   "cell_type": "code",
   "execution_count": 65,
   "metadata": {},
   "outputs": [],
   "source": [
    "from sklearn.feature_extraction.text import CountVectorizer\n",
    "from sklearn.pipeline import Pipeline\n",
    "from sklearn.model_selection import train_test_split, GridSearchCV"
   ]
  },
  {
   "cell_type": "markdown",
   "metadata": {},
   "source": [
    "#### LogisticRegression"
   ]
  },
  {
   "cell_type": "code",
   "execution_count": 66,
   "metadata": {},
   "outputs": [],
   "source": [
    "from sklearn.linear_model import LogisticRegression\n",
    "from sklearn.multiclass import OneVsRestClassifier\n",
    "from sklearn.feature_extraction.text import HashingVectorizer"
   ]
  },
  {
   "cell_type": "markdown",
   "metadata": {},
   "source": [
    "Top 10 dreamers"
   ]
  },
  {
   "cell_type": "code",
   "execution_count": 67,
   "metadata": {},
   "outputs": [
    {
     "name": "stdout",
     "output_type": "stream",
     "text": [
      "Top10: accuracy score for OneVsRestClassifier / LogisticRegression without tuning: 0.9321924443009364\n",
      "Top10: accuracy score for OneVsRestClassifier / LogisticRegression without tuning: 0.9363900548918308\n",
      "Wall time: 56.5 s\n"
     ]
    }
   ],
   "source": [
    "%%time\n",
    "# 10 Top dreamers\n",
    "\n",
    "# LogisticRegression\n",
    "classifier = 'OneVsRestClassifier / LogisticRegression'\n",
    "\n",
    "X_top_dreamers = use_df['dream']\n",
    "y_top_dreamers = use_df['sex']\n",
    "\n",
    "SEED = 2\n",
    "\n",
    "X_train, X_test, y_train, y_test = train_test_split(X_top_dreamers, y_top_dreamers, random_state=SEED)\n",
    "\n",
    "pl = Pipeline([('vec', CountVectorizer()), \n",
    "               ('clf', OneVsRestClassifier(LogisticRegression(solver='lbfgs', max_iter=10000)))])\n",
    "\n",
    "pl.fit(X_train, y_train)\n",
    "\n",
    "# accuracy\n",
    "print('Top10: accuracy score for {} without tuning: {}'.format(classifier, pl.score(X_test, y_test))) #0.8550209880529545\n",
    "\n",
    "#############################################\n",
    "\n",
    "from sklearn.feature_extraction.text import HashingVectorizer\n",
    "\n",
    "vec = HashingVectorizer(norm=None, ngram_range=(1, 2))\n",
    "\n",
    "pl = Pipeline([('vec', vec), \n",
    "               ('clf', OneVsRestClassifier(LogisticRegression(solver='lbfgs', max_iter=10000)))])\n",
    "\n",
    "pl.fit(X_train, y_train)\n",
    "\n",
    "# accuracy\n",
    "print('Top10: accuracy score for {} without tuning: {}'.format(classifier, pl.score(X_test, y_test)))"
   ]
  },
  {
   "cell_type": "markdown",
   "metadata": {},
   "source": [
    "#### Prediction"
   ]
  },
  {
   "cell_type": "code",
   "execution_count": 68,
   "metadata": {},
   "outputs": [
    {
     "data": {
      "text/plain": [
       "'I was talking with Jung and he was looking at me as if I knew something.'"
      ]
     },
     "execution_count": 68,
     "metadata": {},
     "output_type": "execute_result"
    }
   ],
   "source": [
    "# sentence = dreams_df['dream'][0]  # alta dream\n",
    "sentence = \"I was talking with Jung and he was looking at me as if I knew something.\"\n",
    "sentence"
   ]
  },
  {
   "cell_type": "code",
   "execution_count": 69,
   "metadata": {},
   "outputs": [
    {
     "name": "stdout",
     "output_type": "stream",
     "text": [
      "Prediction of the sentence: ['M']\n"
     ]
    }
   ],
   "source": [
    "# Predict\n",
    "print(\"Prediction of the sentence: {}\".format(pl.predict([sentence])))"
   ]
  },
  {
   "cell_type": "code",
   "execution_count": null,
   "metadata": {},
   "outputs": [],
   "source": []
  },
  {
   "cell_type": "markdown",
   "metadata": {},
   "source": [
    "All dreamers"
   ]
  },
  {
   "cell_type": "code",
   "execution_count": 70,
   "metadata": {},
   "outputs": [
    {
     "name": "stdout",
     "output_type": "stream",
     "text": [
      "All: accuracy score for LogisticRegression without tuning: 0.8655825442568958\n",
      "Wall time: 1min 19s\n"
     ]
    }
   ],
   "source": [
    "%%time\n",
    "# All\n",
    "\n",
    "# LogisticRegression\n",
    "classifier = 'LogisticRegression'\n",
    "\n",
    "X = dreams_df['dream']\n",
    "y = dreams_df['sex']        # target\n",
    "\n",
    "SEED = 2\n",
    "\n",
    "\n",
    "X_train, X_test, y_train, y_test = train_test_split(X, y, random_state=SEED)\n",
    "\n",
    "pl = Pipeline([('vec', CountVectorizer()), \n",
    "               ('clf', OneVsRestClassifier(LogisticRegression(solver='sag', max_iter=10000, random_state=SEED)))])\n",
    "\n",
    "pl.fit(X_train, y_train)\n",
    "\n",
    "# accuracy\n",
    "print('All: accuracy score for {} without tuning: {}'.format(classifier, pl.score(X_test, y_test))) \n"
   ]
  },
  {
   "cell_type": "markdown",
   "metadata": {},
   "source": [
    "Tuning"
   ]
  },
  {
   "cell_type": "code",
   "execution_count": 71,
   "metadata": {},
   "outputs": [
    {
     "name": "stdout",
     "output_type": "stream",
     "text": [
      "Couldn't find program: 'false'\n"
     ]
    }
   ],
   "source": [
    "%%script false    # ---> como fazer o tune dos hyperparameters qd se tem o CountVectorizer antes no Pipeline\n",
    "%%time\n",
    "# Tuning\n",
    "\n",
    "pl_to_tune = Pipeline([('vec', CountVectorizer()), \n",
    "                     ('clf', LogisticRegression(solver='sag', max_iter=10000, random_state=SEED))])\n",
    "\n",
    "# hyperparameter grid\n",
    "param_grid = {'C': [0, 1, 2], 'penalty': ['l1', 'l2']}\n",
    "\n",
    "grid_logreg = GridSearchCV(pl, param_grid=param_grid, cv=3, iid=False)\n",
    "\n",
    "grid_logreg.fit(X_train, y_train)\n",
    "\n",
    "# hyperparametes & accuracy\n",
    "print(\"\\nTuned Logistic Regression Parameters: {}\".format(grid_logreg.best_params_))\n",
    "print('All: accuracy score for {} with tuning: {}'.format(classifier, grid_logreg.score(X_test, y_test)))\n"
   ]
  },
  {
   "cell_type": "code",
   "execution_count": 72,
   "metadata": {},
   "outputs": [
    {
     "name": "stdout",
     "output_type": "stream",
     "text": [
      "accuracy score for LogisticRegression (multiclass) without tuning: 0.8565253190613421\n",
      "Wall time: 27 s\n"
     ]
    }
   ],
   "source": [
    "%%time\n",
    "# All  -- MULTICLASS\n",
    "\n",
    "X = dreams_df['dream']\n",
    "y = dreams_df['sex']        # target\n",
    "\n",
    "# LogisticRegression\n",
    "classifier = 'LogisticRegression (multiclass)'\n",
    "\n",
    "SEED = 2\n",
    "\n",
    "X_train, X_test, y_train, y_test = train_test_split(X, y, random_state=SEED)\n",
    "\n",
    "pl = Pipeline([('vec', CountVectorizer()), \n",
    "               ('clf', LogisticRegression(solver='lbfgs', max_iter=1000, multi_class=\"multinomial\"))])\n",
    "\n",
    "pl.fit(X_train, y_train)\n",
    "\n",
    "# accuracy\n",
    "print('accuracy score for {} without tuning: {}'.format(classifier, pl.score(X_test, y_test)))  #0.7286949361877316\n",
    "\n",
    "#############################################\n",
    "\n",
    "# Tuning"
   ]
  },
  {
   "cell_type": "markdown",
   "metadata": {},
   "source": [
    "#### DecisionTreeClassifier"
   ]
  },
  {
   "cell_type": "code",
   "execution_count": 73,
   "metadata": {},
   "outputs": [],
   "source": [
    "from sklearn.tree import DecisionTreeClassifier"
   ]
  },
  {
   "cell_type": "markdown",
   "metadata": {},
   "source": [
    "All"
   ]
  },
  {
   "cell_type": "code",
   "execution_count": 74,
   "metadata": {},
   "outputs": [
    {
     "name": "stdout",
     "output_type": "stream",
     "text": [
      "accuracy score for DecisionTreeClassifier without tuning: 0.7713050638122684\n",
      "Wall time: 13.3 s\n"
     ]
    }
   ],
   "source": [
    "%%time\n",
    "\n",
    "classifier = 'DecisionTreeClassifier'\n",
    "\n",
    "SEED = 2\n",
    "\n",
    "X = dreams_df['dream']\n",
    "y = dreams_df['sex']        # target\n",
    "\n",
    "X_train, X_test, y_train, y_test = train_test_split(X, y, random_state=SEED)\n",
    "\n",
    "pl = Pipeline([('vec', CountVectorizer()), \n",
    "               ('clf', DecisionTreeClassifier())])   # n precisa de usar um multiclass antes\n",
    "\n",
    "pl.fit(X_train, y_train)\n",
    "\n",
    "# accuracy\n",
    "print('accuracy score for {} without tuning: {}'.format(classifier, pl.score(X_test, y_test)))   # 0.4545080279950597\n",
    "\n",
    "#############################################\n",
    "\n",
    "# Tuning\n",
    "\n",
    "##############################################\n",
    "\n",
    "# Predictions\n",
    "\n"
   ]
  },
  {
   "cell_type": "code",
   "execution_count": null,
   "metadata": {},
   "outputs": [],
   "source": []
  },
  {
   "cell_type": "code",
   "execution_count": null,
   "metadata": {},
   "outputs": [],
   "source": []
  },
  {
   "cell_type": "code",
   "execution_count": null,
   "metadata": {},
   "outputs": [],
   "source": []
  },
  {
   "cell_type": "markdown",
   "metadata": {},
   "source": [
    "#### RandomForestClassifier"
   ]
  },
  {
   "cell_type": "code",
   "execution_count": 75,
   "metadata": {},
   "outputs": [],
   "source": [
    "from sklearn.ensemble import RandomForestClassifier"
   ]
  },
  {
   "cell_type": "markdown",
   "metadata": {},
   "source": [
    "All"
   ]
  },
  {
   "cell_type": "code",
   "execution_count": 76,
   "metadata": {},
   "outputs": [
    {
     "name": "stdout",
     "output_type": "stream",
     "text": [
      "accuracy score for RandomForestClassifier without tuning: 0.8151502675998353\n",
      "Wall time: 35.4 s\n"
     ]
    }
   ],
   "source": [
    "%%time\n",
    "\n",
    "classifier = 'RandomForestClassifier'\n",
    "\n",
    "SEED = 2\n",
    "\n",
    "X = dreams_df['dream']\n",
    "y = dreams_df['sex']        # target\n",
    "\n",
    "X_train, X_test, y_train, y_test = train_test_split(X, y, random_state=SEED)\n",
    "\n",
    "pl = Pipeline([('vec', CountVectorizer()), \n",
    "               ('clf', OneVsRestClassifier(RandomForestClassifier(n_estimators=100)))])\n",
    "\n",
    "pl.fit(X_train, y_train)\n",
    "\n",
    "# accuracy\n",
    "print('accuracy score for {} without tuning: {}'.format(classifier, pl.score(X_test, y_test)))  # 0.590778097982709\n",
    "\n",
    "#############################################\n",
    "\n",
    "# Tuning\n",
    "\n",
    "##############################################\n",
    "\n",
    "# Predictions\n"
   ]
  },
  {
   "cell_type": "markdown",
   "metadata": {},
   "source": [
    "#### AdaBoostClassifier"
   ]
  },
  {
   "cell_type": "code",
   "execution_count": 77,
   "metadata": {},
   "outputs": [],
   "source": [
    "from sklearn.ensemble import AdaBoostClassifier"
   ]
  },
  {
   "cell_type": "markdown",
   "metadata": {},
   "source": [
    "All"
   ]
  },
  {
   "cell_type": "code",
   "execution_count": 78,
   "metadata": {},
   "outputs": [
    {
     "name": "stdout",
     "output_type": "stream",
     "text": [
      "accuracy score for AdaBoostClassifier (DecisionTreeClassifier) without tuning: 0.8124742692466035\n",
      "Wall time: 9.69 s\n"
     ]
    }
   ],
   "source": [
    "%%time\n",
    "\n",
    "classifier = 'AdaBoostClassifier (DecisionTreeClassifier)'\n",
    "\n",
    "SEED = 2\n",
    "\n",
    "X = dreams_df['dream']\n",
    "y = dreams_df['sex']        # target\n",
    "\n",
    "X_train, X_test, y_train, y_test = train_test_split(X, y, random_state=SEED)\n",
    "\n",
    "pl = Pipeline([('vec', CountVectorizer()), \n",
    "               ('clf', OneVsRestClassifier(AdaBoostClassifier()))])   # w/ DecisionTreeClassifier default\n",
    "\n",
    "pl.fit(X_train, y_train)\n",
    "\n",
    "# accuracy\n",
    "print('accuracy score for {} without tuning: {}'.format(classifier, pl.score(X_test, y_test)))  # 0.6414162206669412\n",
    "\n",
    "#############################################\n",
    "\n",
    "# Tuning\n",
    "\n",
    "##############################################\n",
    "\n",
    "# Predictions\n"
   ]
  },
  {
   "cell_type": "code",
   "execution_count": 79,
   "metadata": {},
   "outputs": [
    {
     "name": "stdout",
     "output_type": "stream",
     "text": [
      "accuracy score for AdaBoostClassifier w/ LogisticRegression without tuning: 0.8431453272951832\n",
      "Wall time: 17.6 s\n"
     ]
    }
   ],
   "source": [
    "%%time\n",
    "classifier = 'AdaBoostClassifier w/ LogisticRegression'\n",
    "\n",
    "SEED = 2\n",
    "\n",
    "X = dreams_df['dream']\n",
    "y = dreams_df['sex']        # target\n",
    "\n",
    "X_train, X_test, y_train, y_test = train_test_split(X, y, random_state=SEED)\n",
    "\n",
    "pl = Pipeline([\n",
    "    ('vec', CountVectorizer()), \n",
    "    ('clf', OneVsRestClassifier(AdaBoostClassifier(base_estimator=LogisticRegression(solver='lbfgs', max_iter=10000))))\n",
    "    ])\n",
    "\n",
    "pl.fit(X_train, y_train)\n",
    "\n",
    "# accuracy\n",
    "print('accuracy score for {} without tuning: {}'.format(classifier, pl.score(X_test, y_test)))  \n",
    "\n",
    "#############################################                                                     Wall time: 10min 49s\n",
    "\n",
    "# Tuning\n",
    "\n",
    "##############################################\n",
    "\n",
    "# Predictions\n"
   ]
  },
  {
   "cell_type": "code",
   "execution_count": null,
   "metadata": {},
   "outputs": [],
   "source": []
  },
  {
   "cell_type": "code",
   "execution_count": null,
   "metadata": {},
   "outputs": [],
   "source": []
  },
  {
   "cell_type": "markdown",
   "metadata": {},
   "source": [
    "#### KNeighborsClassifier"
   ]
  },
  {
   "cell_type": "code",
   "execution_count": 80,
   "metadata": {},
   "outputs": [],
   "source": [
    "from sklearn.neighbors import KNeighborsClassifier"
   ]
  },
  {
   "cell_type": "markdown",
   "metadata": {},
   "source": [
    "All"
   ]
  },
  {
   "cell_type": "code",
   "execution_count": 81,
   "metadata": {},
   "outputs": [
    {
     "name": "stdout",
     "output_type": "stream",
     "text": [
      "accuracy score for KNeighborsClassifier without tuning: 0.670646356525319\n",
      "Wall time: 13.7 s\n"
     ]
    }
   ],
   "source": [
    "%%time\n",
    "\n",
    "classifier = 'KNeighborsClassifier'\n",
    "\n",
    "SEED = 2\n",
    "\n",
    "X = dreams_df['dream']\n",
    "y = dreams_df['sex']        # target\n",
    "\n",
    "X_train, X_test, y_train, y_test = train_test_split(X, y, random_state=SEED)\n",
    "\n",
    "pl = Pipeline([('vec', CountVectorizer()), \n",
    "               ('clf', KNeighborsClassifier(n_neighbors=1))])   # tb n precisa de usar um multiclass antes\n",
    "\n",
    "pl.fit(X_train, y_train)\n",
    "\n",
    "# accuracy\n",
    "print('accuracy score for {} without tuning: {}'.format(classifier, pl.score(X_test, y_test)))    # 0.3108275010292301\n",
    "\n",
    "#############################################\n",
    "\n",
    "# Tuning\n",
    "\n",
    "##############################################\n",
    "\n",
    "# Predictions\n"
   ]
  },
  {
   "cell_type": "code",
   "execution_count": null,
   "metadata": {},
   "outputs": [],
   "source": []
  },
  {
   "cell_type": "code",
   "execution_count": null,
   "metadata": {},
   "outputs": [],
   "source": []
  },
  {
   "cell_type": "code",
   "execution_count": null,
   "metadata": {},
   "outputs": [],
   "source": []
  },
  {
   "cell_type": "code",
   "execution_count": null,
   "metadata": {},
   "outputs": [],
   "source": []
  },
  {
   "cell_type": "code",
   "execution_count": null,
   "metadata": {},
   "outputs": [],
   "source": []
  },
  {
   "cell_type": "code",
   "execution_count": null,
   "metadata": {},
   "outputs": [],
   "source": []
  },
  {
   "cell_type": "code",
   "execution_count": null,
   "metadata": {},
   "outputs": [],
   "source": []
  },
  {
   "cell_type": "code",
   "execution_count": null,
   "metadata": {},
   "outputs": [],
   "source": []
  },
  {
   "cell_type": "code",
   "execution_count": null,
   "metadata": {},
   "outputs": [],
   "source": []
  },
  {
   "cell_type": "code",
   "execution_count": null,
   "metadata": {},
   "outputs": [],
   "source": []
  },
  {
   "cell_type": "code",
   "execution_count": null,
   "metadata": {},
   "outputs": [],
   "source": []
  },
  {
   "cell_type": "code",
   "execution_count": null,
   "metadata": {},
   "outputs": [],
   "source": []
  }
 ],
 "metadata": {
  "kernelspec": {
   "display_name": "Python 3",
   "language": "python",
   "name": "python3"
  },
  "language_info": {
   "codemirror_mode": {
    "name": "ipython",
    "version": 3
   },
   "file_extension": ".py",
   "mimetype": "text/x-python",
   "name": "python",
   "nbconvert_exporter": "python",
   "pygments_lexer": "ipython3",
   "version": "3.7.1"
  }
 },
 "nbformat": 4,
 "nbformat_minor": 2
}
